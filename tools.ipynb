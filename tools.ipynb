{
 "cells": [
  {
   "cell_type": "markdown",
   "metadata": {},
   "source": [
    "# Imports"
   ]
  },
  {
   "cell_type": "code",
   "execution_count": 10,
   "metadata": {
    "execution": {
     "iopub.execute_input": "2020-05-19T09:15:14.010553Z",
     "iopub.status.busy": "2020-05-19T09:15:14.010278Z",
     "iopub.status.idle": "2020-05-19T09:15:14.015473Z",
     "shell.execute_reply": "2020-05-19T09:15:14.014987Z",
     "shell.execute_reply.started": "2020-05-19T09:15:14.010515Z"
    }
   },
   "outputs": [],
   "source": [
    "#export\n",
    "import os\n",
    "import sys\n",
    "sys.path.append(os.path.join(os.getcwd(),'exp'))\n",
    "\n",
    "import fire\n",
    "import docker\n",
    "from config import cfg"
   ]
  },
  {
   "cell_type": "markdown",
   "metadata": {},
   "source": [
    "# Code"
   ]
  },
  {
   "cell_type": "code",
   "execution_count": 48,
   "metadata": {
    "execution": {
     "iopub.execute_input": "2020-05-15T17:30:05.757073Z",
     "iopub.status.busy": "2020-05-15T17:30:05.756807Z",
     "iopub.status.idle": "2020-05-15T17:30:05.765075Z",
     "shell.execute_reply": "2020-05-15T17:30:05.764453Z",
     "shell.execute_reply.started": "2020-05-15T17:30:05.757039Z"
    }
   },
   "outputs": [],
   "source": [
    "#export\n",
    "def status():\n",
    "    pattern = cfg.DOCKER.CONTAINER_PREFIX\n",
    "    print(f'\\nLooking for *{pattern}* containers: ')\n",
    "    \n",
    "    for c in cycle_c_gen():\n",
    "        gpu = check_gpu(c)\n",
    "        print(f'\\t{c.name} @ GPU{gpu} @ {c.status}')\n",
    "    \n",
    "def cycle_c_gen(pat=cfg.DOCKER.CONTAINER_PREFIX):\n",
    "    client = docker.from_env()\n",
    "    containers = client.containers.list()\n",
    "    for i, c in enumerate(containers):\n",
    "        print(f'{i}. Inspecting {c.name}')\n",
    "        if pat in c.name:\n",
    "            yield c\n",
    "        else:\n",
    "            print(f'\\t Skipping {c.name}, not part of dHPO\\n')\n",
    "    \n",
    "def check_gpu(container):\n",
    "    env_vars = container.attrs['Config']['Env']\n",
    "    g = None\n",
    "    for v in env_vars:\n",
    "        if v.startswith('CUDA_VISIBLE_DEVICES'):\n",
    "            g = v.split(\"=\")[-1]\n",
    "    return g.split(',')"
   ]
  },
  {
   "cell_type": "code",
   "execution_count": 40,
   "metadata": {
    "execution": {
     "iopub.execute_input": "2020-05-15T17:26:42.349843Z",
     "iopub.status.busy": "2020-05-15T17:26:42.349553Z",
     "iopub.status.idle": "2020-05-15T17:26:42.357702Z",
     "shell.execute_reply": "2020-05-15T17:26:42.357122Z",
     "shell.execute_reply.started": "2020-05-15T17:26:42.349803Z"
    }
   },
   "outputs": [],
   "source": [
    "#export\n",
    "def check_status(c):\n",
    "    c.reload()\n",
    "    return c.status\n",
    "\n",
    "def is_running(c): return check_status(c) == 'running'\n",
    "def is_paused(c): return check_status(c) == 'paused'\n",
    "\n",
    "def unpause(c):\n",
    "    if is_paused(c):\n",
    "        print(f'\\t UNpausing {c.name}...')\n",
    "        c.unpause()\n",
    "        print('\\tSUCCESS')\n",
    "        return True\n",
    "    elif is_running(c):\n",
    "        print(f'\\tWARNING {c.name} already running!')\n",
    "        return True\n",
    "    else:\n",
    "        print(f'\\tSomething is wrong with {c.name}, check it manually')\n",
    "        return False\n",
    "\n",
    "def pause(c):\n",
    "    if is_running(c):\n",
    "        print(f'\\t Pausing {c.name}...')\n",
    "        c.pause()\n",
    "        print('\\tSUCCESS')\n",
    "        return True\n",
    "    elif is_paused(c):\n",
    "        print(f'\\tWARNING {c.name} already on pause!')\n",
    "        return True\n",
    "    else:\n",
    "        print(f'\\tSomething is wrong with {c.name}, check it manually')\n",
    "        return False\n",
    "    \n",
    "def switch(gpus=None, mode=None):\n",
    "    usage =''' Usage:\n",
    "        switch $GPUS $MODE\n",
    "        switch 0 pause\n",
    "        switch 0,1 unpause\n",
    "    '''\n",
    "    if gpus is None or mode not in ['pause', 'unpause']:\n",
    "        print(usage)\n",
    "        return\n",
    "        #exit(0)\n",
    "    \n",
    "    if not isinstance(gpus, tuple):\n",
    "        gpus = gpus,\n",
    "    gpus = set([str(i) for i in gpus])\n",
    "    #print(gpus)\n",
    "    if mode == 'pause':\n",
    "        do = pause\n",
    "    elif mode == 'unpause':\n",
    "        do = unpause\n",
    "\n",
    "    for c in cycle_c_gen():\n",
    "        c_gpus = set(check_gpu(c))\n",
    "        if c_gpus.intersection(gpus):\n",
    "            print(f'\\t{c.name} is using GPUS{c_gpus}, trying to set on \"{mode}\"')\n",
    "            do(c)\n",
    "        else:\n",
    "            print(f'\\tSkipping {c.name}, on GPU{c_gpus}')\n",
    "            \n",
    "def clean(force):\n",
    "    if force == 'dhpo':\n",
    "        for c in cycle_c_gen():\n",
    "            if c.status == 'exited':\n",
    "                c.remove()\n",
    "    else:\n",
    "        print('Usage: clean dhpo')"
   ]
  },
  {
   "cell_type": "code",
   "execution_count": null,
   "metadata": {
    "execution": {
     "iopub.execute_input": "2020-05-15T17:06:11.760582Z",
     "iopub.status.busy": "2020-05-15T17:06:11.760316Z",
     "iopub.status.idle": "2020-05-15T17:06:11.767329Z",
     "shell.execute_reply": "2020-05-15T17:06:11.766596Z",
     "shell.execute_reply.started": "2020-05-15T17:06:11.760549Z"
    }
   },
   "outputs": [],
   "source": [
    "#export\n",
    "if __name__ == '__main__':\n",
    "    fire.Fire({'status':status, 'switch':switch, 'clean':clean})"
   ]
  },
  {
   "cell_type": "markdown",
   "metadata": {},
   "source": [
    "# Tests "
   ]
  },
  {
   "cell_type": "code",
   "execution_count": 44,
   "metadata": {
    "execution": {
     "iopub.execute_input": "2020-05-15T17:27:23.476012Z",
     "iopub.status.busy": "2020-05-15T17:27:23.475757Z",
     "iopub.status.idle": "2020-05-15T17:27:23.571950Z",
     "shell.execute_reply": "2020-05-15T17:27:23.571247Z",
     "shell.execute_reply.started": "2020-05-15T17:27:23.475978Z"
    }
   },
   "outputs": [
    {
     "name": "stdout",
     "output_type": "stream",
     "text": [
      "\n",
      "0. Inspecting sokolov_cycle_May_15_20_16_05_358866\n",
      "\tSkipping sokolov_cycle_May_15_20_16_05_358866, on GPU{'2'}\n",
      "\n",
      "1. Inspecting sokolov_cycle_May_15_20_16_05_341391\n",
      "\tsokolov_cycle_May_15_20_16_05_341391 is using GPUS{'1'}, trying to set on \"unpause\"\n",
      "\t UNpausing sokolov_cycle_May_15_20_16_05_341391...\n",
      "\tSUCCESS\n",
      "\n",
      "2. Inspecting sokolov_cycle_May_15_20_16_05_314989\n",
      "\tSkipping sokolov_cycle_May_15_20_16_05_314989, on GPU{'2'}\n",
      "\n",
      "3. Inspecting sokolov_cycle_May_15_20_16_05_304330\n",
      "\tSkipping sokolov_cycle_May_15_20_16_05_304330, on GPU{'0'}\n",
      "\n",
      "4. Inspecting sokolov_cycle_May_15_20_16_05_303681\n",
      "\tsokolov_cycle_May_15_20_16_05_303681 is using GPUS{'1'}, trying to set on \"unpause\"\n",
      "\t UNpausing sokolov_cycle_May_15_20_16_05_303681...\n",
      "\tSUCCESS\n",
      "\n",
      "5. Inspecting sokolov_cycle_May_15_20_16_05_271560\n",
      "\tSkipping sokolov_cycle_May_15_20_16_05_271560, on GPU{'0'}\n",
      "\n",
      "6. Inspecting sokolov_post\n",
      "\t Skipping sokolov_post, not part of dHPO\n",
      "\n"
     ]
    }
   ],
   "source": [
    "switch(gpus=1, mode='unpause')"
   ]
  },
  {
   "cell_type": "code",
   "execution_count": 28,
   "metadata": {
    "execution": {
     "iopub.execute_input": "2020-05-19T15:28:04.516820Z",
     "iopub.status.busy": "2020-05-19T15:28:04.516541Z",
     "iopub.status.idle": "2020-05-19T15:28:04.535638Z",
     "shell.execute_reply": "2020-05-19T15:28:04.535157Z",
     "shell.execute_reply.started": "2020-05-19T15:28:04.516787Z"
    }
   },
   "outputs": [
    {
     "data": {
      "text/plain": [
       "('recursing_herschel', 'exited')"
      ]
     },
     "execution_count": 28,
     "metadata": {},
     "output_type": "execute_result"
    }
   ],
   "source": [
    "client = docker.from_env()\n",
    "containers = client.containers.list(all=True)\n",
    "c = containers[-2]\n",
    "c.name, c.status"
   ]
  },
  {
   "cell_type": "code",
   "execution_count": null,
   "metadata": {},
   "outputs": [],
   "source": []
  },
  {
   "cell_type": "code",
   "execution_count": null,
   "metadata": {},
   "outputs": [],
   "source": []
  },
  {
   "cell_type": "markdown",
   "metadata": {},
   "source": [
    "# Exports"
   ]
  },
  {
   "cell_type": "code",
   "execution_count": 39,
   "metadata": {
    "execution": {
     "iopub.execute_input": "2020-05-19T16:02:35.486195Z",
     "iopub.status.busy": "2020-05-19T16:02:35.485907Z",
     "iopub.status.idle": "2020-05-19T16:02:35.672856Z",
     "shell.execute_reply": "2020-05-19T16:02:35.672191Z",
     "shell.execute_reply.started": "2020-05-19T16:02:35.486158Z"
    }
   },
   "outputs": [
    {
     "name": "stdout",
     "output_type": "stream",
     "text": [
      "Converted tools.ipynb to exp/nb_tools.py\n"
     ]
    }
   ],
   "source": [
    "!python3 extra/n2s.py tools.ipynb"
   ]
  },
  {
   "cell_type": "code",
   "execution_count": 38,
   "metadata": {
    "execution": {
     "iopub.execute_input": "2020-05-19T15:47:52.815025Z",
     "iopub.status.busy": "2020-05-19T15:47:52.814751Z",
     "iopub.status.idle": "2020-05-19T15:47:53.270110Z",
     "shell.execute_reply": "2020-05-19T15:47:53.269389Z",
     "shell.execute_reply.started": "2020-05-19T15:47:52.814989Z"
    }
   },
   "outputs": [
    {
     "name": "stdout",
     "output_type": "stream",
     "text": [
      "\n",
      "Looking for *_dHPO_* containers: \n",
      "0. Inspecting sokolov_dHPO_May_19_18_47_46_337355\n",
      "\tsokolov_dHPO_May_19_18_47_46_337355 @ GPU['2'] @ running\n",
      "1. Inspecting sokolov_dHPO_May_19_18_47_43_425979\n",
      "\tsokolov_dHPO_May_19_18_47_43_425979 @ GPU['3'] @ running\n",
      "2. Inspecting sokolov_dHPO_May_19_18_47_11_700985\n",
      "\tsokolov_dHPO_May_19_18_47_11_700985 @ GPU['0'] @ running\n",
      "3. Inspecting sokolov_post\n",
      "\t Skipping sokolov_post, not part of dHPO\n",
      "\n"
     ]
    }
   ],
   "source": [
    "!python3 exp/nb_tools.py status"
   ]
  },
  {
   "cell_type": "code",
   "execution_count": null,
   "metadata": {},
   "outputs": [],
   "source": []
  },
  {
   "cell_type": "code",
   "execution_count": null,
   "metadata": {},
   "outputs": [],
   "source": []
  },
  {
   "cell_type": "code",
   "execution_count": null,
   "metadata": {},
   "outputs": [],
   "source": []
  },
  {
   "cell_type": "code",
   "execution_count": null,
   "metadata": {},
   "outputs": [],
   "source": []
  }
 ],
 "metadata": {
  "kernelspec": {
   "display_name": "Python 3",
   "language": "python",
   "name": "python3"
  },
  "language_info": {
   "codemirror_mode": {
    "name": "ipython",
    "version": 3
   },
   "file_extension": ".py",
   "mimetype": "text/x-python",
   "name": "python",
   "nbconvert_exporter": "python",
   "pygments_lexer": "ipython3",
   "version": "3.6.9"
  }
 },
 "nbformat": 4,
 "nbformat_minor": 4
}
