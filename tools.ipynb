{
 "cells": [
  {
   "cell_type": "markdown",
   "metadata": {},
   "source": [
    "# Imports"
   ]
  },
  {
   "cell_type": "code",
   "execution_count": 84,
   "metadata": {
    "execution": {
     "iopub.execute_input": "2020-05-22T08:21:18.366966Z",
     "iopub.status.busy": "2020-05-22T08:21:18.366706Z",
     "iopub.status.idle": "2020-05-22T08:21:18.370871Z",
     "shell.execute_reply": "2020-05-22T08:21:18.370395Z",
     "shell.execute_reply.started": "2020-05-22T08:21:18.366930Z"
    }
   },
   "outputs": [],
   "source": [
    "#export\n",
    "import os\n",
    "import sys\n",
    "import atexit\n",
    "sys.path.append(os.path.join(os.getcwd(),'exp'))\n",
    "\n",
    "import fire\n",
    "import docker\n",
    "from functools import partial\n",
    "from pathlib import Path\n",
    "\n",
    "from config import cfg\n",
    "from nb_locker import check_locks, list_locks, lock as locker\n",
    "from nb_helpers import CantDoThatMuch, clrd, log"
   ]
  },
  {
   "cell_type": "markdown",
   "metadata": {},
   "source": [
    "# Code"
   ]
  },
  {
   "cell_type": "code",
   "execution_count": 64,
   "metadata": {
    "execution": {
     "iopub.execute_input": "2020-05-21T15:21:28.028861Z",
     "iopub.status.busy": "2020-05-21T15:21:28.028592Z",
     "iopub.status.idle": "2020-05-21T15:21:28.034998Z",
     "shell.execute_reply": "2020-05-21T15:21:28.034454Z",
     "shell.execute_reply.started": "2020-05-21T15:21:28.028824Z"
    }
   },
   "outputs": [],
   "source": [
    "#export\n",
    "def cycle_c_gen(pat=cfg.DOCKER.CONTAINER_PREFIX, list_all=False): \n",
    "    containers = (docker.from_env()).containers.list(all=list_all)\n",
    "    for i, c in enumerate(containers):\n",
    "        name = clrd(c.name, 'BLUE')\n",
    "        print(f'{i}. container\\t {name} :')\n",
    "        if pat in c.name: yield c\n",
    "        else: print(f'\\t Skipping {name}, not part of dHPO\\n')\n",
    "    \n",
    "def check_gpu(container):\n",
    "    env_vars = container.attrs['Config']['Env']\n",
    "    for v in env_vars:\n",
    "        if v.startswith('CUDA_VISIBLE_DEVICES'):\n",
    "            gpus = v.split(\"=\")[-1]\n",
    "            break\n",
    "    else: raise UnknownGpuDevice\n",
    "    return set([int(g) for g in gpus.split(',')])"
   ]
  },
  {
   "cell_type": "code",
   "execution_count": 10,
   "metadata": {
    "execution": {
     "iopub.execute_input": "2020-05-21T08:40:04.169744Z",
     "iopub.status.busy": "2020-05-21T08:40:04.169465Z",
     "iopub.status.idle": "2020-05-21T08:40:04.176899Z",
     "shell.execute_reply": "2020-05-21T08:40:04.176317Z",
     "shell.execute_reply.started": "2020-05-21T08:40:04.169708Z"
    }
   },
   "outputs": [],
   "source": [
    "#export\n",
    "def check_status(c):\n",
    "    c.reload()\n",
    "    return c.status\n",
    "\n",
    "def is_running(c): return check_status(c) == 'running'\n",
    "def is_paused(c): return check_status(c) == 'paused'\n",
    "\n",
    "def unpause(c):\n",
    "    if is_paused(c):\n",
    "        print(f'\\t UNpausing {c.name}...')\n",
    "        c.unpause()\n",
    "        return True\n",
    "    elif is_running(c):\n",
    "        log(f'\\tWARNING {c.name} already running!', c='BROWN')\n",
    "        return True\n",
    "    else:\n",
    "        print(f'\\tSomething is wrong with {c.name}, check it manually')\n",
    "        return False\n",
    "\n",
    "def pause(c):\n",
    "    if is_running(c):\n",
    "        print(f'\\t Pausing {c.name}...')\n",
    "        c.pause()\n",
    "        return True\n",
    "    elif is_paused(c):\n",
    "        log(f'\\tWARNING {c.name} already on pause!', c='BROWN')\n",
    "        return True\n",
    "    else:\n",
    "        print(f'\\tSomething is wrong with {c.name}, check it manually')\n",
    "        return False\n",
    "    \n",
    "def switch(gpus, mode):\n",
    "    usage =''' Usage:\n",
    "        switch $GPUS $MODE\n",
    "        switch 0 pause\n",
    "        switch 0,1 unpause\n",
    "    '''\n",
    "    if gpus is None or mode not in ['pause', 'unpause']:\n",
    "        log(usage, c='RED')\n",
    "        return\n",
    "    \n",
    "    if not isinstance(gpus, tuple): gpus = gpus,\n",
    "    do = pause if mode == 'pause' else unpause\n",
    "\n",
    "    for c in cycle_c_gen():\n",
    "        c_gpus = check_gpu(c)\n",
    "        if c_gpus.intersection(gpus):\n",
    "            print(f'\\t{c.name} is using GPUS{c_gpus}, trying to set on \"{mode}\"')\n",
    "            do(c)\n",
    "        else:\n",
    "            print(f'\\tSkipping {c.name}, on GPU{c_gpus}')"
   ]
  },
  {
   "cell_type": "code",
   "execution_count": 11,
   "metadata": {
    "execution": {
     "iopub.execute_input": "2020-05-21T08:40:45.089164Z",
     "iopub.status.busy": "2020-05-21T08:40:45.088893Z",
     "iopub.status.idle": "2020-05-21T08:40:45.092885Z",
     "shell.execute_reply": "2020-05-21T08:40:45.092154Z",
     "shell.execute_reply.started": "2020-05-21T08:40:45.089129Z"
    }
   },
   "outputs": [],
   "source": [
    "#export\n",
    "def forced(func):\n",
    "    def force(force_arg, *args, **kwargs):\n",
    "        if force_arg == 'force':\n",
    "            return func(*args, **kwargs)\n",
    "        else:\n",
    "            log('Specify force arg: dhpoctl kill | clean  force', c='BROWN')\n",
    "    return force"
   ]
  },
  {
   "cell_type": "code",
   "execution_count": 65,
   "metadata": {
    "execution": {
     "iopub.execute_input": "2020-05-21T15:22:09.863262Z",
     "iopub.status.busy": "2020-05-21T15:22:09.862976Z",
     "iopub.status.idle": "2020-05-21T15:22:09.870738Z",
     "shell.execute_reply": "2020-05-21T15:22:09.870093Z",
     "shell.execute_reply.started": "2020-05-21T15:22:09.863226Z"
    }
   },
   "outputs": [],
   "source": [
    "#export\n",
    "def status():\n",
    "    print(f'  *{cfg.DOCKER.CONTAINER_PREFIX}* containers: ')\n",
    "    for c in cycle_c_gen():\n",
    "        gpu = str(check_gpu(c)).strip('{}')\n",
    "        color = 'GREEN' if c.status == 'running' else 'BROWN'\n",
    "        print(clrd(f'\\t GPU# {gpu} {c.status}', color))\n",
    "    print(f'Active locks @ {cfg.GPUS.LOCK}:')\n",
    "    list_locks(Path(cfg.GPUS.LOCK))\n",
    "    \n",
    "@forced           \n",
    "def clean():\n",
    "    ''' Cleans up exited dhpo containers '''\n",
    "    for c in cycle_c_gen(list_all=True):\n",
    "        if c.status == 'exited': c.remove()\n",
    "        else: print(f'\\tSkipping, status:{c.status}')\n",
    "\n",
    "@forced\n",
    "def kill(gpus):\n",
    "    '''\n",
    "    Kills dhpo containers on specified gpu(s)\n",
    "    Args:\n",
    "        gpus: int or tuple | 0 | 0,1 | 2,3,6\n",
    "    '''\n",
    "    if not isinstance(gpus, tuple): gpus = gpus,\n",
    "    \n",
    "    for c in cycle_c_gen():\n",
    "        c_gpus = check_gpu(c)\n",
    "        if c_gpus.intersection(gpus):\n",
    "            if c.status == 'running' or c.status == 'paused':\n",
    "                print(clrd(f'Killing {c.name}','RED'))\n",
    "                c.kill()\n",
    "            else: print(f'\\tSkipping, status:{c.status}')\n",
    "        else:\n",
    "            print(f'\\tSkipping, @ gpu {c_gpus}')\n",
    "            \n",
    "def lock(gpus, delay):\n",
    "    ''' Locks up gpu for user\n",
    "    \n",
    "        Lock dhpo usage (pause docker container) of specified gpu(s) \n",
    "        for some period of time (delay)\n",
    "    Args:\n",
    "        gpus: GPU ids, int or tuple.  | 0 | 0,1 | 2,3,6\n",
    "        delay: Time interval in minutes, float, \n",
    "    '''\n",
    "    delay = delay * 60\n",
    "    if delay > 8*60: raise CantDoThatMuch\n",
    "    switch(gpus, 'pause')\n",
    "    #atexit.register(reset)\n",
    "    locker(gpus, delay, path=Path(cfg.GPUS.LOCK))\n",
    "\n",
    "def reset():\n",
    "    ''' Updating locks state, dockers state. Removing expired locks '''\n",
    "    lp = Path(cfg.GPUS.LOCK)\n",
    "    for c in cycle_c_gen():\n",
    "        locked_gpus = check_locks(lp)\n",
    "        if not locked_gpus.intersection(check_gpu(c)): unpause(c)\n",
    "        else: print('locked, skip')"
   ]
  },
  {
   "cell_type": "code",
   "execution_count": null,
   "metadata": {},
   "outputs": [],
   "source": []
  },
  {
   "cell_type": "markdown",
   "metadata": {},
   "source": [
    "# Tests "
   ]
  },
  {
   "cell_type": "code",
   "execution_count": null,
   "metadata": {
    "execution": {
     "iopub.execute_input": "2020-05-20T10:21:00.570475Z",
     "iopub.status.busy": "2020-05-20T10:21:00.570326Z",
     "iopub.status.idle": "2020-05-20T10:21:00.576988Z",
     "shell.execute_reply": "2020-05-20T10:21:00.576288Z",
     "shell.execute_reply.started": "2020-05-20T10:21:00.570451Z"
    }
   },
   "outputs": [],
   "source": [
    "#export\n",
    "if __name__ == '__main__':\n",
    "    fire.Fire({'status':status,\n",
    "               'lock':lock,\n",
    "               'kill':kill,\n",
    "               'clean':clean,\n",
    "               'reset':reset,\n",
    "               'z__switch':switch,\n",
    "              })"
   ]
  },
  {
   "cell_type": "code",
   "execution_count": 6,
   "metadata": {
    "execution": {
     "iopub.execute_input": "2020-05-20T10:21:04.432260Z",
     "iopub.status.busy": "2020-05-20T10:21:04.432003Z",
     "iopub.status.idle": "2020-05-20T10:21:04.444241Z",
     "shell.execute_reply": "2020-05-20T10:21:04.443813Z",
     "shell.execute_reply.started": "2020-05-20T10:21:04.432226Z"
    }
   },
   "outputs": [
    {
     "data": {
      "text/plain": [
       "('recursing_herschel', 'exited')"
      ]
     },
     "execution_count": 6,
     "metadata": {},
     "output_type": "execute_result"
    }
   ],
   "source": [
    "client = docker.from_env()\n",
    "containers = client.containers.list(all=True)\n",
    "c = containers[0]\n",
    "c.name, c.status"
   ]
  },
  {
   "cell_type": "code",
   "execution_count": null,
   "metadata": {},
   "outputs": [],
   "source": []
  },
  {
   "cell_type": "markdown",
   "metadata": {},
   "source": [
    "# Exports"
   ]
  },
  {
   "cell_type": "code",
   "execution_count": 89,
   "metadata": {
    "execution": {
     "iopub.execute_input": "2020-05-22T11:23:53.843482Z",
     "iopub.status.busy": "2020-05-22T11:23:53.843237Z",
     "iopub.status.idle": "2020-05-22T11:23:54.030351Z",
     "shell.execute_reply": "2020-05-22T11:23:54.029795Z",
     "shell.execute_reply.started": "2020-05-22T11:23:53.843449Z"
    }
   },
   "outputs": [
    {
     "name": "stdout",
     "output_type": "stream",
     "text": [
      "Converted tools.ipynb to exp/nb_tools.py\n"
     ]
    }
   ],
   "source": [
    "!python3 extra/n2s.py tools.ipynb"
   ]
  },
  {
   "cell_type": "code",
   "execution_count": 74,
   "metadata": {
    "execution": {
     "iopub.execute_input": "2020-05-21T17:47:55.486575Z",
     "iopub.status.busy": "2020-05-21T17:47:55.486177Z",
     "iopub.status.idle": "2020-05-21T17:47:56.136648Z",
     "shell.execute_reply": "2020-05-21T17:47:56.136036Z",
     "shell.execute_reply.started": "2020-05-21T17:47:55.486526Z"
    }
   },
   "outputs": [
    {
     "name": "stdout",
     "output_type": "stream",
     "text": [
      "INFO: Showing help with the command 'nb_tools.py lock -- --help'.\n",
      "\n",
      "\u001b[1mNAME\u001b[0m\n",
      "    nb_tools.py lock - Locks up gpu for user\n",
      "\n",
      "\u001b[1mSYNOPSIS\u001b[0m\n",
      "    nb_tools.py lock \u001b[4mGPUS\u001b[0m \u001b[4mDELAY\u001b[0m\n",
      "\n",
      "\u001b[1mDESCRIPTION\u001b[0m\n",
      "    Lock dhpo usage (pause docker container) of specified gpu(s)\n",
      "    for some period of time (delay)\n",
      "\n",
      "\u001b[1mPOSITIONAL ARGUMENTS\u001b[0m\n",
      "    \u001b[1m\u001b[4mGPUS\u001b[0m\u001b[0m\n",
      "        GPU ids, int or tuple.  | 0 | 0,1 | 2,3,6\n",
      "    \u001b[1m\u001b[4mDELAY\u001b[0m\u001b[0m\n",
      "        Time interval in minutes, float,\n",
      "\n",
      "\u001b[1mNOTES\u001b[0m\n",
      "    You can also use flags syntax for POSITIONAL ARGUMENTS\n"
     ]
    }
   ],
   "source": [
    "!python3 exp/nb_tools.py lock --help"
   ]
  },
  {
   "cell_type": "code",
   "execution_count": null,
   "metadata": {},
   "outputs": [],
   "source": []
  },
  {
   "cell_type": "code",
   "execution_count": 61,
   "metadata": {
    "execution": {
     "iopub.execute_input": "2020-05-21T14:40:07.187030Z",
     "iopub.status.busy": "2020-05-21T14:40:07.186742Z",
     "iopub.status.idle": "2020-05-21T14:40:07.645800Z",
     "shell.execute_reply": "2020-05-21T14:40:07.645223Z",
     "shell.execute_reply.started": "2020-05-21T14:40:07.186992Z"
    }
   },
   "outputs": [
    {
     "name": "stdout",
     "output_type": "stream",
     "text": [
      "  *_dHPO_* containers: \n",
      "0. container\t sokolov_post :\n",
      "\t Skipping sokolov_post, not part of dHPO\n",
      "\n",
      "Active locks @ /home/sokolov/work/cycler/dHPO/sync/locks:\n"
     ]
    }
   ],
   "source": [
    "!python3 exp/nb_tools.py status"
   ]
  },
  {
   "cell_type": "code",
   "execution_count": 20,
   "metadata": {
    "execution": {
     "iopub.execute_input": "2020-05-20T11:22:59.147642Z",
     "iopub.status.busy": "2020-05-20T11:22:59.147371Z",
     "iopub.status.idle": "2020-05-20T11:23:00.455590Z",
     "shell.execute_reply": "2020-05-20T11:23:00.454841Z",
     "shell.execute_reply.started": "2020-05-20T11:22:59.147611Z"
    }
   },
   "outputs": [
    {
     "name": "stdout",
     "output_type": "stream",
     "text": [
      "0. container\t sokolov_dHPO_May_20_14_22_37_822975 :\n",
      "1. container\t sokolov_post :\n",
      "\t Skipping sokolov_post, not part of dHPO\n",
      "\n"
     ]
    }
   ],
   "source": [
    "!python3 exp/nb_tools.py kill force 0,1,2"
   ]
  },
  {
   "cell_type": "code",
   "execution_count": 39,
   "metadata": {
    "execution": {
     "iopub.execute_input": "2020-05-21T08:53:52.995514Z",
     "iopub.status.busy": "2020-05-21T08:53:52.995258Z",
     "iopub.status.idle": "2020-05-21T08:53:53.459770Z",
     "shell.execute_reply": "2020-05-21T08:53:53.459022Z",
     "shell.execute_reply.started": "2020-05-21T08:53:52.995480Z"
    }
   },
   "outputs": [
    {
     "name": "stdout",
     "output_type": "stream",
     "text": [
      "0. container\t sokolov_dHPO_May_21_11_52_44_736322 :\n",
      "\tSkipping, status:running\n",
      "1. container\t sokolov_dHPO_May_21_11_51_09_500028 :\n",
      "\tSkipping, status:running\n",
      "2. container\t sokolov_dHPO_May_21_11_51_02_322718 :\n",
      "\tSkipping, status:running\n",
      "3. container\t recursing_herschel :\n",
      "\t Skipping recursing_herschel, not part of dHPO\n",
      "\n",
      "4. container\t sokolov_post :\n",
      "\t Skipping sokolov_post, not part of dHPO\n",
      "\n"
     ]
    }
   ],
   "source": [
    "!python3 exp/nb_tools.py clean force"
   ]
  },
  {
   "cell_type": "code",
   "execution_count": 32,
   "metadata": {
    "execution": {
     "iopub.execute_input": "2020-05-21T08:49:45.391658Z",
     "iopub.status.busy": "2020-05-21T08:49:45.391507Z",
     "iopub.status.idle": "2020-05-21T08:49:45.863364Z",
     "shell.execute_reply": "2020-05-21T08:49:45.862752Z",
     "shell.execute_reply.started": "2020-05-21T08:49:45.391633Z"
    }
   },
   "outputs": [
    {
     "name": "stdout",
     "output_type": "stream",
     "text": [
      "0. container\t sokolov_dHPO_May_21_11_45_25_522257 :\n",
      "\t UNpausing sokolov_dHPO_May_21_11_45_25_522257...\n",
      "1. container\t sokolov_dHPO_May_21_11_45_19_431844 :\n",
      "\tWARNING sokolov_dHPO_May_21_11_45_19_431844 already running!\n",
      "2. container\t sokolov_dHPO_May_21_11_45_19_195452 :\n",
      "\tWARNING sokolov_dHPO_May_21_11_45_19_195452 already running!\n",
      "3. container\t sokolov_post :\n",
      "\t Skipping sokolov_post, not part of dHPO\n",
      "\n"
     ]
    }
   ],
   "source": [
    "!python3 exp/nb_tools.py reset"
   ]
  },
  {
   "cell_type": "code",
   "execution_count": 40,
   "metadata": {
    "execution": {
     "iopub.execute_input": "2020-05-21T08:54:07.240063Z",
     "iopub.status.busy": "2020-05-21T08:54:07.239794Z",
     "iopub.status.idle": "2020-05-21T08:54:37.836540Z",
     "shell.execute_reply": "2020-05-21T08:54:37.835873Z",
     "shell.execute_reply.started": "2020-05-21T08:54:07.240025Z"
    }
   },
   "outputs": [
    {
     "name": "stdout",
     "output_type": "stream",
     "text": [
      "0. container\t sokolov_dHPO_May_21_11_52_44_736322 :\n",
      "\tsokolov_dHPO_May_21_11_52_44_736322 is using GPUS{0}, trying to set on \"pause\"\n",
      "\t Pausing sokolov_dHPO_May_21_11_52_44_736322...\n",
      "1. container\t sokolov_dHPO_May_21_11_51_09_500028 :\n",
      "\tSkipping sokolov_dHPO_May_21_11_51_09_500028, on GPU{2}\n",
      "2. container\t sokolov_dHPO_May_21_11_51_02_322718 :\n",
      "\tsokolov_dHPO_May_21_11_51_02_322718 is using GPUS{1}, trying to set on \"pause\"\n",
      "\t Pausing sokolov_dHPO_May_21_11_51_02_322718...\n",
      "3. container\t sokolov_post :\n",
      "\t Skipping sokolov_post, not part of dHPO\n",
      "\n",
      "Locking \"0, 1\" @ /home/sokolov/work/cycler/dHPO/sync/locks/dhpo_2020_May_21_11_54_37_659133.lock\n"
     ]
    }
   ],
   "source": [
    "!python3 exp/nb_tools.py lock 0,1 30"
   ]
  },
  {
   "cell_type": "code",
   "execution_count": null,
   "metadata": {},
   "outputs": [],
   "source": []
  }
 ],
 "metadata": {
  "kernelspec": {
   "display_name": "Python 3",
   "language": "python",
   "name": "python3"
  },
  "language_info": {
   "codemirror_mode": {
    "name": "ipython",
    "version": 3
   },
   "file_extension": ".py",
   "mimetype": "text/x-python",
   "name": "python",
   "nbconvert_exporter": "python",
   "pygments_lexer": "ipython3",
   "version": "3.6.9"
  }
 },
 "nbformat": 4,
 "nbformat_minor": 4
}
