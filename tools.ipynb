{
 "cells": [
  {
   "cell_type": "markdown",
   "metadata": {},
   "source": [
    "# Imports"
   ]
  },
  {
   "cell_type": "code",
   "execution_count": 1,
   "metadata": {
    "execution": {
     "iopub.execute_input": "2020-05-15T17:05:24.519703Z",
     "iopub.status.busy": "2020-05-15T17:05:24.519460Z",
     "iopub.status.idle": "2020-05-15T17:05:24.601894Z",
     "shell.execute_reply": "2020-05-15T17:05:24.601258Z",
     "shell.execute_reply.started": "2020-05-15T17:05:24.519669Z"
    }
   },
   "outputs": [],
   "source": [
    "#export\n",
    "import fire\n",
    "import docker"
   ]
  },
  {
   "cell_type": "markdown",
   "metadata": {},
   "source": [
    "# Code"
   ]
  },
  {
   "cell_type": "code",
   "execution_count": 48,
   "metadata": {
    "execution": {
     "iopub.execute_input": "2020-05-15T17:30:05.757073Z",
     "iopub.status.busy": "2020-05-15T17:30:05.756807Z",
     "iopub.status.idle": "2020-05-15T17:30:05.765075Z",
     "shell.execute_reply": "2020-05-15T17:30:05.764453Z",
     "shell.execute_reply.started": "2020-05-15T17:30:05.757039Z"
    }
   },
   "outputs": [],
   "source": [
    "#export\n",
    "def check():\n",
    "    pattern = '_cycle_'\n",
    "    print(f'\\nLooking for *{pattern}* containers: ')\n",
    "    \n",
    "    for c in cycle_c_gen():\n",
    "        gpu = check_gpu(c)\n",
    "        print(f'\\t{c.name} @  GPU{gpu}')\n",
    "    \n",
    "def cycle_c_gen(pat='_cycle_'):\n",
    "    client = docker.from_env()\n",
    "    containers = client.containers.list()\n",
    "    for i, c in enumerate(containers):\n",
    "        print(f'{i}. Inspecting {c.name}')\n",
    "        if pat in c.name:\n",
    "            yield c\n",
    "        else:\n",
    "            print(f'\\t Skipping {c.name}, not part of dHPO\\n')\n",
    "    \n",
    "def check_gpu(container):\n",
    "    env_vars = container.attrs['Config']['Env']\n",
    "    g = None\n",
    "    for v in env_vars:\n",
    "        if v.startswith('CUDA_VISIBLE_DEVICES'):\n",
    "            g = v.split(\"=\")[-1]\n",
    "    return g.split(',')"
   ]
  },
  {
   "cell_type": "code",
   "execution_count": 40,
   "metadata": {
    "execution": {
     "iopub.execute_input": "2020-05-15T17:26:42.349843Z",
     "iopub.status.busy": "2020-05-15T17:26:42.349553Z",
     "iopub.status.idle": "2020-05-15T17:26:42.357702Z",
     "shell.execute_reply": "2020-05-15T17:26:42.357122Z",
     "shell.execute_reply.started": "2020-05-15T17:26:42.349803Z"
    }
   },
   "outputs": [],
   "source": [
    "#export\n",
    "def check_status(c):\n",
    "    c.reload()\n",
    "    return c.status\n",
    "\n",
    "def is_running(c): return check_status(c) == 'running'\n",
    "def is_paused(c): return check_status(c) == 'paused'\n",
    "\n",
    "def unpause(c):\n",
    "    if is_paused(c):\n",
    "        print(f'\\t UNpausing {c.name}...')\n",
    "        c.unpause()\n",
    "        print('\\tSUCCESS')\n",
    "        return True\n",
    "    elif is_running(c):\n",
    "        print(f'\\tWARNING {c.name} already running!')\n",
    "        return True\n",
    "    else:\n",
    "        print(f'\\tSomething is wrong with {c.name}, check it manually')\n",
    "        return False\n",
    "\n",
    "def pause(c):\n",
    "    if is_running(c):\n",
    "        print(f'\\t Pausing {c.name}...')\n",
    "        c.pause()\n",
    "        print('\\tSUCCESS')\n",
    "        return True\n",
    "    elif is_paused(c):\n",
    "        print(f'\\tWARNING {c.name} already on pause!')\n",
    "        return True\n",
    "    else:\n",
    "        print(f'\\tSomething is wrong with {c.name}, check it manually')\n",
    "        return False\n",
    "    \n",
    "def switch(gpus=None, mode=None):\n",
    "    usage =''' Usage:\n",
    "        switch $GPUS $MODE\n",
    "        switch 0 pause\n",
    "        switch 0,1 unpause\n",
    "    '''\n",
    "    if gpus is None or mode not in ['pause', 'unpause']:\n",
    "        print(usage)\n",
    "        return\n",
    "        #exit(0)\n",
    "    \n",
    "    if not isinstance(gpus, tuple):\n",
    "        gpus = gpus,\n",
    "    gpus = set([str(i) for i in gpus])\n",
    "    #print(gpus)\n",
    "    if mode == 'pause':\n",
    "        do = pause\n",
    "    elif mode == 'unpause':\n",
    "        do = unpause\n",
    "\n",
    "    for c in cycle_c_gen():\n",
    "        c_gpus = set(check_gpu(c))\n",
    "        if c_gpus.intersection(gpus):\n",
    "            print(f'\\t{c.name} is using GPUS{c_gpus}, trying to set on \"{mode}\"')\n",
    "            do(c)\n",
    "        else:\n",
    "            print(f'\\tSkipping {c.name}, on GPU{c_gpus}')"
   ]
  },
  {
   "cell_type": "code",
   "execution_count": null,
   "metadata": {
    "execution": {
     "iopub.execute_input": "2020-05-15T17:06:11.760582Z",
     "iopub.status.busy": "2020-05-15T17:06:11.760316Z",
     "iopub.status.idle": "2020-05-15T17:06:11.767329Z",
     "shell.execute_reply": "2020-05-15T17:06:11.766596Z",
     "shell.execute_reply.started": "2020-05-15T17:06:11.760549Z"
    }
   },
   "outputs": [],
   "source": [
    "#export\n",
    "if __name__ == '__main__':\n",
    "    fire.Fire({'check':check, 'switch':switch})"
   ]
  },
  {
   "cell_type": "markdown",
   "metadata": {},
   "source": [
    "# Tests "
   ]
  },
  {
   "cell_type": "code",
   "execution_count": 39,
   "metadata": {
    "execution": {
     "iopub.execute_input": "2020-05-15T17:26:29.906928Z",
     "iopub.status.busy": "2020-05-15T17:26:29.906673Z",
     "iopub.status.idle": "2020-05-15T17:26:29.910068Z",
     "shell.execute_reply": "2020-05-15T17:26:29.909573Z",
     "shell.execute_reply.started": "2020-05-15T17:26:29.906895Z"
    }
   },
   "outputs": [],
   "source": [
    "a = set([1,2,3])\n",
    "b = set([4])\n",
    "if a.intersection(b):\n",
    "    print('a')"
   ]
  },
  {
   "cell_type": "code",
   "execution_count": null,
   "metadata": {},
   "outputs": [],
   "source": []
  },
  {
   "cell_type": "code",
   "execution_count": null,
   "metadata": {},
   "outputs": [],
   "source": []
  },
  {
   "cell_type": "code",
   "execution_count": 44,
   "metadata": {
    "execution": {
     "iopub.execute_input": "2020-05-15T17:27:23.476012Z",
     "iopub.status.busy": "2020-05-15T17:27:23.475757Z",
     "iopub.status.idle": "2020-05-15T17:27:23.571950Z",
     "shell.execute_reply": "2020-05-15T17:27:23.571247Z",
     "shell.execute_reply.started": "2020-05-15T17:27:23.475978Z"
    }
   },
   "outputs": [
    {
     "name": "stdout",
     "output_type": "stream",
     "text": [
      "\n",
      "0. Inspecting sokolov_cycle_May_15_20_16_05_358866\n",
      "\tSkipping sokolov_cycle_May_15_20_16_05_358866, on GPU{'2'}\n",
      "\n",
      "1. Inspecting sokolov_cycle_May_15_20_16_05_341391\n",
      "\tsokolov_cycle_May_15_20_16_05_341391 is using GPUS{'1'}, trying to set on \"unpause\"\n",
      "\t UNpausing sokolov_cycle_May_15_20_16_05_341391...\n",
      "\tSUCCESS\n",
      "\n",
      "2. Inspecting sokolov_cycle_May_15_20_16_05_314989\n",
      "\tSkipping sokolov_cycle_May_15_20_16_05_314989, on GPU{'2'}\n",
      "\n",
      "3. Inspecting sokolov_cycle_May_15_20_16_05_304330\n",
      "\tSkipping sokolov_cycle_May_15_20_16_05_304330, on GPU{'0'}\n",
      "\n",
      "4. Inspecting sokolov_cycle_May_15_20_16_05_303681\n",
      "\tsokolov_cycle_May_15_20_16_05_303681 is using GPUS{'1'}, trying to set on \"unpause\"\n",
      "\t UNpausing sokolov_cycle_May_15_20_16_05_303681...\n",
      "\tSUCCESS\n",
      "\n",
      "5. Inspecting sokolov_cycle_May_15_20_16_05_271560\n",
      "\tSkipping sokolov_cycle_May_15_20_16_05_271560, on GPU{'0'}\n",
      "\n",
      "6. Inspecting sokolov_post\n",
      "\t Skipping sokolov_post, not part of dHPO\n",
      "\n"
     ]
    }
   ],
   "source": [
    "switch(gpus=1, mode='unpause')"
   ]
  },
  {
   "cell_type": "code",
   "execution_count": null,
   "metadata": {
    "execution": {
     "iopub.status.busy": "2020-05-15T16:30:13.490255Z",
     "iopub.status.idle": "2020-05-15T16:30:13.490482Z"
    }
   },
   "outputs": [],
   "source": [
    "client = docker.from_env()\n",
    "containers = client.containers.list()\n",
    "c = containers[0]\n",
    "c.name, c.status"
   ]
  },
  {
   "cell_type": "markdown",
   "metadata": {},
   "source": [
    "# Exports"
   ]
  },
  {
   "cell_type": "code",
   "execution_count": 51,
   "metadata": {
    "execution": {
     "iopub.execute_input": "2020-05-15T17:30:42.827754Z",
     "iopub.status.busy": "2020-05-15T17:30:42.827477Z",
     "iopub.status.idle": "2020-05-15T17:30:43.017745Z",
     "shell.execute_reply": "2020-05-15T17:30:43.017046Z",
     "shell.execute_reply.started": "2020-05-15T17:30:42.827718Z"
    }
   },
   "outputs": [
    {
     "name": "stdout",
     "output_type": "stream",
     "text": [
      "Converted tools.ipynb to exp/nb_tools.py\n"
     ]
    }
   ],
   "source": [
    "!python3 n2s.py tools.ipynb"
   ]
  },
  {
   "cell_type": "code",
   "execution_count": 60,
   "metadata": {
    "execution": {
     "iopub.execute_input": "2020-05-16T13:31:12.380269Z",
     "iopub.status.busy": "2020-05-16T13:31:12.380001Z",
     "iopub.status.idle": "2020-05-16T13:31:12.817790Z",
     "shell.execute_reply": "2020-05-16T13:31:12.817149Z",
     "shell.execute_reply.started": "2020-05-16T13:31:12.380234Z"
    }
   },
   "outputs": [
    {
     "name": "stdout",
     "output_type": "stream",
     "text": [
      " Usage:\n",
      "        switch $GPUS $MODE\n",
      "        switch 0 pause\n",
      "        switch 0,1 unpause\n",
      "    \n"
     ]
    }
   ],
   "source": [
    "!python3 exp/nb_tools.py switch"
   ]
  },
  {
   "cell_type": "code",
   "execution_count": null,
   "metadata": {},
   "outputs": [],
   "source": []
  },
  {
   "cell_type": "code",
   "execution_count": null,
   "metadata": {},
   "outputs": [],
   "source": []
  },
  {
   "cell_type": "code",
   "execution_count": null,
   "metadata": {},
   "outputs": [],
   "source": []
  },
  {
   "cell_type": "code",
   "execution_count": null,
   "metadata": {},
   "outputs": [],
   "source": []
  }
 ],
 "metadata": {
  "kernelspec": {
   "display_name": "Python 3",
   "language": "python",
   "name": "python3"
  },
  "language_info": {
   "codemirror_mode": {
    "name": "ipython",
    "version": 3
   },
   "file_extension": ".py",
   "mimetype": "text/x-python",
   "name": "python",
   "nbconvert_exporter": "python",
   "pygments_lexer": "ipython3",
   "version": "3.6.9"
  }
 },
 "nbformat": 4,
 "nbformat_minor": 4
}
