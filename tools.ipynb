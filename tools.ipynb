{
 "cells": [
  {
   "cell_type": "markdown",
   "metadata": {},
   "source": [
    "# Imports"
   ]
  },
  {
   "cell_type": "code",
   "execution_count": 1,
   "metadata": {
    "execution": {
     "iopub.execute_input": "2020-05-20T12:20:23.649938Z",
     "iopub.status.busy": "2020-05-20T12:20:23.649753Z",
     "iopub.status.idle": "2020-05-20T12:20:23.730672Z",
     "shell.execute_reply": "2020-05-20T12:20:23.730089Z",
     "shell.execute_reply.started": "2020-05-20T12:20:23.649908Z"
    }
   },
   "outputs": [],
   "source": [
    "#export\n",
    "import os\n",
    "import sys\n",
    "import atexit\n",
    "sys.path.append(os.path.join(os.getcwd(),'exp'))\n",
    "\n",
    "import fire\n",
    "import docker\n",
    "from functools import partial\n",
    "from pathlib import Path\n",
    "\n",
    "from config import cfg\n",
    "from nb_locker import check_locks, list_locks, lock as locker"
   ]
  },
  {
   "cell_type": "markdown",
   "metadata": {},
   "source": [
    "# Code"
   ]
  },
  {
   "cell_type": "code",
   "execution_count": 2,
   "metadata": {
    "execution": {
     "iopub.execute_input": "2020-05-20T10:21:00.549600Z",
     "iopub.status.busy": "2020-05-20T10:21:00.549423Z",
     "iopub.status.idle": "2020-05-20T10:21:00.554541Z",
     "shell.execute_reply": "2020-05-20T10:21:00.554104Z",
     "shell.execute_reply.started": "2020-05-20T10:21:00.549572Z"
    }
   },
   "outputs": [],
   "source": [
    "#export\n",
    "def status():\n",
    "    pattern = cfg.DOCKER.CONTAINER_PREFIX\n",
    "    print(f'  *{pattern}* containers: ')\n",
    "    \n",
    "    for c in cycle_c_gen():\n",
    "        gpu = check_gpu(c)\n",
    "        print(f'\\t{c.name} @ GPU{gpu} @ {c.status}')\n",
    "    \n",
    "    print(f'Active locks @ {cfg.GPUS.LOCK}:')\n",
    "    lp = Path(cfg.GPUS.LOCK)\n",
    "    list_locks(lp)\n",
    "    \n",
    "def cycle_c_gen(pat=cfg.DOCKER.CONTAINER_PREFIX, list_all=False):\n",
    "    client = docker.from_env()\n",
    "    containers = client.containers.list(all=list_all)\n",
    "    for i, c in enumerate(containers):\n",
    "        print(f'{i}. container\\t {c.name} :')\n",
    "        if pat in c.name:\n",
    "            yield c\n",
    "        else:\n",
    "            print(f'\\t Skipping {c.name}, not part of dHPO\\n')\n",
    "    \n",
    "def check_gpu(container):\n",
    "    env_vars = container.attrs['Config']['Env']\n",
    "    g = None\n",
    "    for v in env_vars:\n",
    "        if v.startswith('CUDA_VISIBLE_DEVICES'):\n",
    "            g = v.split(\"=\")[-1]\n",
    "    return g.split(',')"
   ]
  },
  {
   "cell_type": "code",
   "execution_count": 3,
   "metadata": {
    "execution": {
     "iopub.execute_input": "2020-05-20T10:21:00.555660Z",
     "iopub.status.busy": "2020-05-20T10:21:00.555490Z",
     "iopub.status.idle": "2020-05-20T10:21:00.565152Z",
     "shell.execute_reply": "2020-05-20T10:21:00.564740Z",
     "shell.execute_reply.started": "2020-05-20T10:21:00.555634Z"
    }
   },
   "outputs": [],
   "source": [
    "#export\n",
    "def check_status(c):\n",
    "    c.reload()\n",
    "    return c.status\n",
    "\n",
    "def is_running(c): return check_status(c) == 'running'\n",
    "def is_paused(c): return check_status(c) == 'paused'\n",
    "\n",
    "def unpause(c):\n",
    "    if is_paused(c):\n",
    "        print(f'\\t UNpausing {c.name}...')\n",
    "        c.unpause()\n",
    "        print('\\tSUCCESS')\n",
    "        return True\n",
    "    elif is_running(c):\n",
    "        print(f'\\tWARNING {c.name} already running!')\n",
    "        return True\n",
    "    else:\n",
    "        print(f'\\tSomething is wrong with {c.name}, check it manually')\n",
    "        return False\n",
    "\n",
    "def pause(c):\n",
    "    if is_running(c):\n",
    "        print(f'\\t Pausing {c.name}...')\n",
    "        c.pause()\n",
    "        print('\\tSUCCESS')\n",
    "        return True\n",
    "    elif is_paused(c):\n",
    "        print(f'\\tWARNING {c.name} already on pause!')\n",
    "        return True\n",
    "    else:\n",
    "        print(f'\\tSomething is wrong with {c.name}, check it manually')\n",
    "        return False\n",
    "    \n",
    "def switch(gpus, mode):\n",
    "    usage =''' Usage:\n",
    "        switch $GPUS $MODE\n",
    "        switch 0 pause\n",
    "        switch 0,1 unpause\n",
    "    '''\n",
    "    if gpus is None or mode not in ['pause', 'unpause']:\n",
    "        print(usage)\n",
    "        return\n",
    "        #exit(0)\n",
    "    \n",
    "    if not isinstance(gpus, tuple):\n",
    "        gpus = gpus,\n",
    "    gpus = set([str(i) for i in gpus])\n",
    "    #print(gpus)\n",
    "    if mode == 'pause':\n",
    "        do = pause\n",
    "    elif mode == 'unpause':\n",
    "        do = unpause\n",
    "\n",
    "    for c in cycle_c_gen():\n",
    "        c_gpus = set(check_gpu(c))\n",
    "        if c_gpus.intersection(gpus):\n",
    "            print(f'\\t{c.name} is using GPUS{c_gpus}, trying to set on \"{mode}\"')\n",
    "            do(c)\n",
    "        else:\n",
    "            print(f'\\tSkipping {c.name}, on GPU{c_gpus}')\n",
    "\n",
    "def forced(func):\n",
    "    def force(force_arg, *args, **kwargs):\n",
    "        if force_arg == 'force':\n",
    "            return func(*args, **kwargs)\n",
    "        else:\n",
    "            print('Specify force arg: dhpoctl foo force')\n",
    "    return force\n",
    "            \n",
    "@forced           \n",
    "def clean():\n",
    "        for c in cycle_c_gen(list_all=True):\n",
    "            if c.status == 'exited':\n",
    "                c.remove()\n",
    "            else:\n",
    "                print(f'\\tSkipping, status:{c.status}')\n",
    "@forced\n",
    "def kill(gpus):\n",
    "    if not isinstance(gpus, tuple):\n",
    "        gpus = gpus,\n",
    "    gpus = set([str(i) for i in gpus])\n",
    "    \n",
    "    for c in cycle_c_gen():\n",
    "        c_gpus = set(check_gpu(c))\n",
    "        if c_gpus.intersection(set(gpus)):\n",
    "            if c.status == 'running':\n",
    "                c.kill()\n",
    "            else:\n",
    "                print(f'\\tSkipping, status:{c.status}')\n",
    "        else:\n",
    "            print(f'\\tSkipping, @ gpu {c_gpus}')"
   ]
  },
  {
   "cell_type": "code",
   "execution_count": 52,
   "metadata": {
    "execution": {
     "iopub.execute_input": "2020-05-20T11:54:51.810731Z",
     "iopub.status.busy": "2020-05-20T11:54:51.810410Z",
     "iopub.status.idle": "2020-05-20T11:54:51.816243Z",
     "shell.execute_reply": "2020-05-20T11:54:51.815616Z",
     "shell.execute_reply.started": "2020-05-20T11:54:51.810695Z"
    }
   },
   "outputs": [],
   "source": [
    "#export\n",
    "def base_exit_handler(gpus):\n",
    "    switch(gpus, 'unpause')\n",
    "    \n",
    "def lock(gpus, delay):\n",
    "    lp = Path(cfg.GPUS.LOCK)\n",
    "    #exit_handler = partial(base_exit_handler, gpus=gpus)\n",
    "    switch(gpus, 'pause')\n",
    "    #atexit.register(exit_handler)\n",
    "    locker(gpus, delay, path=lp)\n",
    "\n",
    "def reset():\n",
    "    lp = Path(cfg.GPUS.LOCK)\n",
    "    for c in cycle_c_gen():\n",
    "        locked_gpus = set(str(i) for i in check_locks(lp))\n",
    "        c_gpus = set(check_gpu(c))\n",
    "        #print(locked_gpus, c_gpus)\n",
    "        if not locked_gpus.intersection(c_gpus):\n",
    "            unpause(c)\n",
    "        else:\n",
    "            print('locked, skip')\n",
    "            pass"
   ]
  },
  {
   "cell_type": "code",
   "execution_count": null,
   "metadata": {},
   "outputs": [],
   "source": []
  },
  {
   "cell_type": "markdown",
   "metadata": {},
   "source": [
    "# Tests "
   ]
  },
  {
   "cell_type": "code",
   "execution_count": 5,
   "metadata": {
    "execution": {
     "iopub.execute_input": "2020-05-20T10:21:00.570475Z",
     "iopub.status.busy": "2020-05-20T10:21:00.570326Z",
     "iopub.status.idle": "2020-05-20T10:21:00.576988Z",
     "shell.execute_reply": "2020-05-20T10:21:00.576288Z",
     "shell.execute_reply.started": "2020-05-20T10:21:00.570451Z"
    }
   },
   "outputs": [
    {
     "name": "stderr",
     "output_type": "stream",
     "text": [
      "\u001b[1m\u001b[31mERROR: \u001b[0mCannot find key: -f\n",
      "Usage: ipykernel_launcher.py <command>\n",
      "  available commands:    status | switch | clean | kill | lock\n",
      "\n",
      "For detailed information on this command, run:\n",
      "  ipykernel_launcher.py --help\n"
     ]
    },
    {
     "ename": "FireExit",
     "evalue": "2",
     "output_type": "error",
     "traceback": [
      "An exception has occurred, use %tb to see the full traceback.\n",
      "\u001b[0;31mFireExit\u001b[0m\u001b[0;31m:\u001b[0m 2\n"
     ]
    },
    {
     "name": "stderr",
     "output_type": "stream",
     "text": [
      "/usr/local/lib/python3.6/dist-packages/IPython/core/interactiveshell.py:3334: UserWarning: To exit: use 'exit', 'quit', or Ctrl-D.\n",
      "  warn(\"To exit: use 'exit', 'quit', or Ctrl-D.\", stacklevel=1)\n"
     ]
    }
   ],
   "source": [
    "#export\n",
    "if __name__ == '__main__':\n",
    "    fire.Fire({'status':status,\n",
    "               '_switch':switch,\n",
    "               'reset':reset,\n",
    "               'clean':clean,\n",
    "               'kill':kill,\n",
    "               'lock':lock\n",
    "              })"
   ]
  },
  {
   "cell_type": "code",
   "execution_count": 6,
   "metadata": {
    "execution": {
     "iopub.execute_input": "2020-05-20T10:21:04.432260Z",
     "iopub.status.busy": "2020-05-20T10:21:04.432003Z",
     "iopub.status.idle": "2020-05-20T10:21:04.444241Z",
     "shell.execute_reply": "2020-05-20T10:21:04.443813Z",
     "shell.execute_reply.started": "2020-05-20T10:21:04.432226Z"
    }
   },
   "outputs": [
    {
     "data": {
      "text/plain": [
       "('recursing_herschel', 'exited')"
      ]
     },
     "execution_count": 6,
     "metadata": {},
     "output_type": "execute_result"
    }
   ],
   "source": [
    "client = docker.from_env()\n",
    "containers = client.containers.list(all=True)\n",
    "c = containers[0]\n",
    "c.name, c.status"
   ]
  },
  {
   "cell_type": "code",
   "execution_count": null,
   "metadata": {},
   "outputs": [],
   "source": []
  },
  {
   "cell_type": "markdown",
   "metadata": {},
   "source": [
    "# Exports"
   ]
  },
  {
   "cell_type": "code",
   "execution_count": 7,
   "metadata": {
    "execution": {
     "iopub.execute_input": "2020-05-20T12:38:22.088746Z",
     "iopub.status.busy": "2020-05-20T12:38:22.088462Z",
     "iopub.status.idle": "2020-05-20T12:38:22.275506Z",
     "shell.execute_reply": "2020-05-20T12:38:22.274909Z",
     "shell.execute_reply.started": "2020-05-20T12:38:22.088709Z"
    }
   },
   "outputs": [
    {
     "name": "stdout",
     "output_type": "stream",
     "text": [
      "Converted tools.ipynb to exp/nb_tools.py\n"
     ]
    }
   ],
   "source": [
    "!python3 extra/n2s.py tools.ipynb"
   ]
  },
  {
   "cell_type": "code",
   "execution_count": null,
   "metadata": {},
   "outputs": [],
   "source": []
  },
  {
   "cell_type": "code",
   "execution_count": null,
   "metadata": {},
   "outputs": [],
   "source": []
  },
  {
   "cell_type": "code",
   "execution_count": 11,
   "metadata": {
    "execution": {
     "iopub.execute_input": "2020-05-20T10:42:56.777384Z",
     "iopub.status.busy": "2020-05-20T10:42:56.776920Z",
     "iopub.status.idle": "2020-05-20T10:42:57.225779Z",
     "shell.execute_reply": "2020-05-20T10:42:57.225218Z",
     "shell.execute_reply.started": "2020-05-20T10:42:56.777314Z"
    }
   },
   "outputs": [
    {
     "name": "stdout",
     "output_type": "stream",
     "text": [
      "\n",
      "Looking for *_dHPO_* containers: \n",
      "0. container\t sokolov_dHPO_May_20_13_39_11_379461 :\n",
      "\tsokolov_dHPO_May_20_13_39_11_379461 @ GPU['0'] @ running\n",
      "1. container\t sokolov_post :\n",
      "\t Skipping sokolov_post, not part of dHPO\n",
      "\n"
     ]
    }
   ],
   "source": [
    "!python3 exp/nb_tools.py status"
   ]
  },
  {
   "cell_type": "code",
   "execution_count": 20,
   "metadata": {
    "execution": {
     "iopub.execute_input": "2020-05-20T11:22:59.147642Z",
     "iopub.status.busy": "2020-05-20T11:22:59.147371Z",
     "iopub.status.idle": "2020-05-20T11:23:00.455590Z",
     "shell.execute_reply": "2020-05-20T11:23:00.454841Z",
     "shell.execute_reply.started": "2020-05-20T11:22:59.147611Z"
    }
   },
   "outputs": [
    {
     "name": "stdout",
     "output_type": "stream",
     "text": [
      "0. container\t sokolov_dHPO_May_20_14_22_37_822975 :\n",
      "1. container\t sokolov_post :\n",
      "\t Skipping sokolov_post, not part of dHPO\n",
      "\n"
     ]
    }
   ],
   "source": [
    "!python3 exp/nb_tools.py kill force 0,1,2"
   ]
  },
  {
   "cell_type": "code",
   "execution_count": 21,
   "metadata": {
    "execution": {
     "iopub.execute_input": "2020-05-20T11:23:00.462793Z",
     "iopub.status.busy": "2020-05-20T11:23:00.462633Z",
     "iopub.status.idle": "2020-05-20T11:23:00.920964Z",
     "shell.execute_reply": "2020-05-20T11:23:00.920198Z",
     "shell.execute_reply.started": "2020-05-20T11:23:00.462768Z"
    }
   },
   "outputs": [
    {
     "name": "stdout",
     "output_type": "stream",
     "text": [
      "0. container\t sokolov_dHPO_May_20_14_22_37_822975 :\n",
      "1. container\t recursing_herschel :\n",
      "\t Skipping recursing_herschel, not part of dHPO\n",
      "\n",
      "2. container\t sokolov_post :\n",
      "\t Skipping sokolov_post, not part of dHPO\n",
      "\n"
     ]
    }
   ],
   "source": [
    "!python3 exp/nb_tools.py clean force"
   ]
  },
  {
   "cell_type": "code",
   "execution_count": 59,
   "metadata": {
    "execution": {
     "iopub.execute_input": "2020-05-20T11:56:57.397544Z",
     "iopub.status.busy": "2020-05-20T11:56:57.397299Z",
     "iopub.status.idle": "2020-05-20T11:56:57.858342Z",
     "shell.execute_reply": "2020-05-20T11:56:57.857757Z",
     "shell.execute_reply.started": "2020-05-20T11:56:57.397514Z"
    }
   },
   "outputs": [
    {
     "name": "stdout",
     "output_type": "stream",
     "text": [
      "0. container\t sokolov_dHPO_May_20_14_49_11_381832 :\n",
      "Lock /home/sokolov/work/cycler/dHPO/sync/locks/dhpo_2020_May_20_14_56_28_964324.lock is expired, deleting\n",
      "\n",
      "\t ooo deleting/home/sokolov/work/cycler/dHPO/sync/locks/dhpo_2020_May_20_14_56_28_964324.lock\n",
      "set() {'0'}\n",
      "\t UNpausing sokolov_dHPO_May_20_14_49_11_381832...\n",
      "\tSUCCESS\n",
      "1. container\t sokolov_post :\n",
      "\t Skipping sokolov_post, not part of dHPO\n",
      "\n"
     ]
    }
   ],
   "source": [
    "!python3 exp/nb_tools.py reset"
   ]
  },
  {
   "cell_type": "code",
   "execution_count": 6,
   "metadata": {
    "execution": {
     "iopub.execute_input": "2020-05-20T12:26:29.701033Z",
     "iopub.status.busy": "2020-05-20T12:26:29.700755Z",
     "iopub.status.idle": "2020-05-20T12:26:40.245204Z",
     "shell.execute_reply": "2020-05-20T12:26:40.244593Z",
     "shell.execute_reply.started": "2020-05-20T12:26:29.700998Z"
    }
   },
   "outputs": [
    {
     "name": "stdout",
     "output_type": "stream",
     "text": [
      "0. container\t sokolov_dHPO_May_20_15_20_24_092419 :\n",
      "\tsokolov_dHPO_May_20_15_20_24_092419 is using GPUS{'0'}, trying to set on \"pause\"\n",
      "\t Pausing sokolov_dHPO_May_20_15_20_24_092419...\n",
      "\tSUCCESS\n",
      "1. container\t sokolov_post :\n",
      "\t Skipping sokolov_post, not part of dHPO\n",
      "\n",
      "Locking \"0\" @ /home/sokolov/work/cycler/dHPO/sync/locks/dhpo_2020_May_20_15_26_40_054269.lock\n",
      "0. container\t sokolov_dHPO_May_20_15_20_24_092419 :\n",
      "\tsokolov_dHPO_May_20_15_20_24_092419 is using GPUS{'0'}, trying to set on \"unpause\"\n",
      "\t UNpausing sokolov_dHPO_May_20_15_20_24_092419...\n",
      "\tSUCCESS\n",
      "1. container\t sokolov_post :\n",
      "\t Skipping sokolov_post, not part of dHPO\n",
      "\n"
     ]
    }
   ],
   "source": [
    "!python3 exp/nb_tools.py lock 0 10"
   ]
  },
  {
   "cell_type": "code",
   "execution_count": null,
   "metadata": {},
   "outputs": [],
   "source": []
  }
 ],
 "metadata": {
  "kernelspec": {
   "display_name": "Python 3",
   "language": "python",
   "name": "python3"
  },
  "language_info": {
   "codemirror_mode": {
    "name": "ipython",
    "version": 3
   },
   "file_extension": ".py",
   "mimetype": "text/x-python",
   "name": "python",
   "nbconvert_exporter": "python",
   "pygments_lexer": "ipython3",
   "version": "3.6.9"
  }
 },
 "nbformat": 4,
 "nbformat_minor": 4
}
