{
 "cells": [
  {
   "cell_type": "markdown",
   "metadata": {
    "execution": {
     "iopub.execute_input": "2020-05-15T08:06:55.997152Z",
     "iopub.status.busy": "2020-05-15T08:06:55.996856Z",
     "iopub.status.idle": "2020-05-15T08:06:55.999717Z",
     "shell.execute_reply": "2020-05-15T08:06:55.999268Z",
     "shell.execute_reply.started": "2020-05-15T08:06:55.997118Z"
    }
   },
   "source": [
    "# Imports"
   ]
  },
  {
   "cell_type": "code",
   "execution_count": 1,
   "metadata": {
    "ExecuteTime": {
     "end_time": "2020-05-20T09:12:38.714487Z",
     "start_time": "2020-05-20T09:12:38.388040Z"
    },
    "execution": {
     "iopub.execute_input": "2020-05-19T14:36:28.857590Z",
     "iopub.status.busy": "2020-05-19T14:36:28.857294Z",
     "iopub.status.idle": "2020-05-19T14:36:28.864735Z",
     "shell.execute_reply": "2020-05-19T14:36:28.864237Z",
     "shell.execute_reply.started": "2020-05-19T14:36:28.857551Z"
    }
   },
   "outputs": [],
   "source": [
    "#export\n",
    "import os\n",
    "import sys\n",
    "sys.path.append(os.path.join(os.getcwd(),'exp'))\n",
    "\n",
    "import json\n",
    "import yaml\n",
    "import datetime\n",
    "import collections\n",
    "from pathlib import Path\n",
    "from collections import OrderedDict\n",
    "\n",
    "import numpy as np\n",
    "import pandas as pd\n",
    "from nb_base_exp import *#BaseExperiment, BaseProject, load_txt_log\n",
    "from config import cfg"
   ]
  },
  {
   "cell_type": "code",
   "execution_count": 2,
   "metadata": {
    "ExecuteTime": {
     "end_time": "2020-05-20T09:12:40.061779Z",
     "start_time": "2020-05-20T09:12:39.517944Z"
    },
    "execution": {
     "iopub.execute_input": "2020-05-19T14:43:22.769420Z",
     "iopub.status.busy": "2020-05-19T14:43:22.769125Z",
     "iopub.status.idle": "2020-05-19T14:43:22.774285Z",
     "shell.execute_reply": "2020-05-19T14:43:22.773782Z",
     "shell.execute_reply.started": "2020-05-19T14:43:22.769383Z"
    }
   },
   "outputs": [],
   "source": [
    "import plotly.express as px\n",
    "import shutil\n",
    "import matplotlib.pyplot as plt\n",
    "%matplotlib inline"
   ]
  },
  {
   "cell_type": "code",
   "execution_count": 3,
   "metadata": {
    "ExecuteTime": {
     "end_time": "2020-05-20T09:12:40.067773Z",
     "start_time": "2020-05-20T09:12:40.063567Z"
    },
    "execution": {
     "iopub.execute_input": "2020-05-19T14:36:29.893485Z",
     "iopub.status.busy": "2020-05-19T14:36:29.893328Z",
     "iopub.status.idle": "2020-05-19T14:36:29.896661Z",
     "shell.execute_reply": "2020-05-19T14:36:29.896181Z",
     "shell.execute_reply.started": "2020-05-19T14:36:29.893460Z"
    }
   },
   "outputs": [
    {
     "data": {
      "text/html": [
       "<style>.container { width:95% !important; }</style>"
      ],
      "text/plain": [
       "<IPython.core.display.HTML object>"
      ]
     },
     "metadata": {},
     "output_type": "display_data"
    }
   ],
   "source": [
    "from IPython.core.display import display, HTML\n",
    "display(HTML(\"<style>.container { width:95% !important; }</style>\"))"
   ]
  },
  {
   "cell_type": "markdown",
   "metadata": {
    "heading_collapsed": true
   },
   "source": [
    "# Code"
   ]
  },
  {
   "cell_type": "code",
   "execution_count": 4,
   "metadata": {
    "ExecuteTime": {
     "end_time": "2020-05-20T09:12:41.487125Z",
     "start_time": "2020-05-20T09:12:41.419755Z"
    },
    "execution": {
     "iopub.execute_input": "2020-05-19T14:37:11.703170Z",
     "iopub.status.busy": "2020-05-19T14:37:11.702868Z",
     "iopub.status.idle": "2020-05-19T14:37:11.712402Z",
     "shell.execute_reply": "2020-05-19T14:37:11.711774Z",
     "shell.execute_reply.started": "2020-05-19T14:37:11.703132Z"
    },
    "hidden": true
   },
   "outputs": [],
   "source": [
    "#export\n",
    "def load_log(path):\n",
    "    columns = ['date','epoch','acc','val_acc']\n",
    "    types = [str, np.int32, np.float32, np.float32]\n",
    "    log_path = list(path.rglob('*/*/log.txt'))[0]\n",
    "\n",
    "    _, logs = load_txt_log(path=log_path, types=types)\n",
    "\n",
    "    df = pd.DataFrame(logs, columns=columns)\n",
    "    df.dropna(inplace=True)\n",
    "    df = df.astype(dict(zip(columns, types)))\n",
    "\n",
    "    df['val_acc'].replace(-1., np.NaN, inplace=True)\n",
    "    df.fillna(method='ffill', inplace=True)\n",
    "    df.set_index('epoch', inplace=True)\n",
    "    timeDF=(pd.to_datetime(df['date'].str.strip(), format='%H:%M:%S'))\n",
    "    del df['date']# = timeDF\n",
    "    df['duration'] = timeDF - timeDF[0]\n",
    "    return df\n",
    "\n",
    "def load_yaml_cfg(path):\n",
    "    params_path = list(path.rglob('*/*/train.yaml'))[0]\n",
    "    with open(params_path, 'r') as f:\n",
    "        d = yaml.safe_load(f)\n",
    "    d = flatten(d)\n",
    "    d = OrderedDict(sorted(d.items(), key=lambda x:x[0], reverse=False))\n",
    "    return d\n",
    "\n",
    "def load_json_cfg(path):\n",
    "    params_path = list(path.rglob('*/*/params.json'))[0]\n",
    "    with open(params_path, 'r') as f:\n",
    "        d = json.load(f)\n",
    "    d = flatten(d)\n",
    "    d = OrderedDict(sorted(d.items(), key=lambda x:x[0], reverse=False))\n",
    "    return d\n",
    "\n",
    "def load_cfg(*args, **kwargs):\n",
    "    return load_json_cfg(*args, **kwargs)\n",
    "\n",
    "def check_valid(cpath):\n",
    "    flag_files = set(['log.txt', 'params.json'])\n",
    "    where_to_look = 'output'\n",
    "    output = list(Path(cpath).rglob(where_to_look))\n",
    "    files=[]\n",
    "    if output:\n",
    "        files = list(output[0].glob('*/*'))\n",
    "\n",
    "    return flag_files.issubset(set([f.name for f in files]))\n",
    "\n"
   ]
  },
  {
   "cell_type": "code",
   "execution_count": 5,
   "metadata": {
    "ExecuteTime": {
     "end_time": "2020-05-20T09:12:44.222092Z",
     "start_time": "2020-05-20T09:12:44.214389Z"
    },
    "execution": {
     "iopub.execute_input": "2020-05-19T14:37:12.027141Z",
     "iopub.status.busy": "2020-05-19T14:37:12.026858Z",
     "iopub.status.idle": "2020-05-19T14:37:12.035506Z",
     "shell.execute_reply": "2020-05-19T14:37:12.035030Z",
     "shell.execute_reply.started": "2020-05-19T14:37:12.027103Z"
    },
    "hidden": true
   },
   "outputs": [],
   "source": [
    "#export\n",
    "class GenExperiment(BaseExperiment):\n",
    "    def __init__(self,  path):\n",
    "        super(GenExperiment, self).__init__(path, log_reader=load_log, cfg_reader=load_cfg)\n",
    "        self.start_time = self.parse_name()\n",
    "\n",
    "    def parse_name(self, prefix='run_'):\n",
    "        date = self.name.strip(prefix)#.rstrip('.lock')\n",
    "        start_time = datetime.datetime.strptime(date, '%Y_%b_%d_%H_%M_%S_%f')\n",
    "        return start_time\n",
    "\n",
    "    def total_time(self):\n",
    "        return self.log_data['duration'][self.__len__()-1]\n",
    "    \n",
    "class GenProject(BaseProject):\n",
    "    def __init__(self,  root):\n",
    "        super(GenProject, self).__init__(root, valid_func=check_valid, Experiment=GenExperiment)\n",
    "    \n",
    "    def extend_base(self):\n",
    "        dd = {}\n",
    "        for run in self.exps:\n",
    "            run_best = run.best(num=3, col='val_acc')\n",
    "            #run_best_pct = 100 - int( 100 * (run.total_time() - dur) / run.total_time())\n",
    "            d = {}\n",
    "            d['start'] = run.start_time\n",
    "            d['name'] = run.name\n",
    "            d['tt'] = run.total_time()\n",
    "            d['t2b'] = run_best['duration'].values[0]\n",
    "            d['ba'] = round(run_best.mean()[['acc']].values[0],3)\n",
    "            d['bva'] = round(run_best.mean()[['val_acc']].values[0],3)\n",
    "            d['la'] = round(run.log_data['acc'][-10:].mean(),3)\n",
    "            #d.update(**run.params)\n",
    "            dd[run.name] = d\n",
    "        #res_df = pd.DataFrame(results, columns=['Name','duration', 'LRM', 'best_acc', 'best_val', 'best_pct', *run.params.keys()])\n",
    "\n",
    "        df = pd.DataFrame(dd).T\n",
    "        df = pd.concat([df,self.base_table()], axis=1)\n",
    "        df.set_index('start', drop=True, inplace=True)\n",
    "#         for x in ['tt','t2b']:\n",
    "#             df[x] = pd.DatetimeIndex(df[x]).strftime(\"%H:%M:%S\")\n",
    "            \n",
    "        df['ba'] = df['ba'].astype(float)\n",
    "        df['la'] = df['la'].astype(float)\n",
    "        df['bva'] = df['bva'].astype(float)\n",
    "        df = df.round(4)\n",
    "        \n",
    "        \n",
    "        return df"
   ]
  },
  {
   "cell_type": "code",
   "execution_count": 6,
   "metadata": {
    "ExecuteTime": {
     "end_time": "2020-05-20T09:12:45.761324Z",
     "start_time": "2020-05-20T09:12:45.755149Z"
    },
    "hidden": true
   },
   "outputs": [],
   "source": [
    "def plot(cols=None, window=1,limits=[-1,-1], ax=None, x=None):\n",
    "        if ax is None:\n",
    "            f,ax = plt.subplots(1)\n",
    "        if cols is None:\n",
    "            cols = ['acc']\n",
    "        if x is not None:\n",
    "            cols.append(x)\n",
    "            \n",
    "        data = e.log_data\n",
    "        llim, rlim = limits\n",
    "        rlim = len(data) if rlim <=0 else rlim\n",
    "        llim = max(0, llim)\n",
    "        \n",
    "        \n",
    "        d = data.iloc[llim:rlim,:]\n",
    "        d = d.loc[:,cols]\n",
    "        for c in cols:\n",
    "            if c != 'duration':\n",
    "                d[c] = d[c].rolling(window).mean() \n",
    "        \n",
    "        d.plot(figsize=(12,7), ax=ax, x=x)\n",
    "        \n",
    "def mod_df(df, col='acc', window=1, div=1):\n",
    "    d = df.loc[:, [col, 'duration']]\n",
    "    s = d['duration'].apply(lambda x: x.seconds)/div\n",
    "    d.loc[:,'duration'] = s\n",
    "    \n",
    "    s = d[col].rolling(window).mean()\n",
    "    d.loc[:,col] = s\n",
    "    return d\n",
    "\n",
    "def plot_run(run, col, ax,  window=5):\n",
    "    d = mod_df(run.log_data, col=col, window=window)\n",
    "    d.plot('duration', ax=ax)"
   ]
  },
  {
   "cell_type": "markdown",
   "metadata": {},
   "source": [
    "# Tests"
   ]
  },
  {
   "cell_type": "code",
   "execution_count": 66,
   "metadata": {
    "ExecuteTime": {
     "end_time": "2020-05-20T09:36:54.620017Z",
     "start_time": "2020-05-20T09:36:53.595119Z"
    },
    "execution": {
     "iopub.execute_input": "2020-05-19T15:48:55.273020Z",
     "iopub.status.busy": "2020-05-19T15:48:55.272775Z",
     "iopub.status.idle": "2020-05-19T15:48:56.009262Z",
     "shell.execute_reply": "2020-05-19T15:48:56.008543Z",
     "shell.execute_reply.started": "2020-05-19T15:48:55.272987Z"
    }
   },
   "outputs": [],
   "source": [
    "root = Path(cfg.DAG.RUNS)\n",
    "#root = Path('../__crsch_cycle/cycler_runs/')\n",
    "\n",
    "bp = GenProject(root)\n",
    "df = bp.extend_base()"
   ]
  },
  {
   "cell_type": "code",
   "execution_count": 67,
   "metadata": {
    "ExecuteTime": {
     "end_time": "2020-05-20T09:36:54.634716Z",
     "start_time": "2020-05-20T09:36:54.621540Z"
    },
    "execution": {
     "iopub.execute_input": "2020-05-19T15:48:56.020978Z",
     "iopub.status.busy": "2020-05-19T15:48:56.020808Z",
     "iopub.status.idle": "2020-05-19T15:48:56.036923Z",
     "shell.execute_reply": "2020-05-19T15:48:56.036466Z",
     "shell.execute_reply.started": "2020-05-19T15:48:56.020950Z"
    },
    "scrolled": true
   },
   "outputs": [
    {
     "data": {
      "text/html": [
       "<div>\n",
       "<style scoped>\n",
       "    .dataframe tbody tr th:only-of-type {\n",
       "        vertical-align: middle;\n",
       "    }\n",
       "\n",
       "    .dataframe tbody tr th {\n",
       "        vertical-align: top;\n",
       "    }\n",
       "\n",
       "    .dataframe thead th {\n",
       "        text-align: right;\n",
       "    }\n",
       "</style>\n",
       "<table border=\"1\" class=\"dataframe\">\n",
       "  <thead>\n",
       "    <tr style=\"text-align: right;\">\n",
       "      <th></th>\n",
       "      <th>name</th>\n",
       "      <th>tt</th>\n",
       "      <th>t2b</th>\n",
       "      <th>ba</th>\n",
       "      <th>bva</th>\n",
       "      <th>la</th>\n",
       "      <th>combine_chance</th>\n",
       "      <th>crossover_chance</th>\n",
       "      <th>dec_f0</th>\n",
       "      <th>dec_f1</th>\n",
       "      <th>dec_f2</th>\n",
       "      <th>dec_f3</th>\n",
       "      <th>exp_power</th>\n",
       "      <th>generation_size</th>\n",
       "      <th>generations</th>\n",
       "      <th>mutate_chance</th>\n",
       "      <th>seed</th>\n",
       "      <th>subsample_size</th>\n",
       "    </tr>\n",
       "    <tr>\n",
       "      <th>start</th>\n",
       "      <th></th>\n",
       "      <th></th>\n",
       "      <th></th>\n",
       "      <th></th>\n",
       "      <th></th>\n",
       "      <th></th>\n",
       "      <th></th>\n",
       "      <th></th>\n",
       "      <th></th>\n",
       "      <th></th>\n",
       "      <th></th>\n",
       "      <th></th>\n",
       "      <th></th>\n",
       "      <th></th>\n",
       "      <th></th>\n",
       "      <th></th>\n",
       "      <th></th>\n",
       "      <th></th>\n",
       "    </tr>\n",
       "  </thead>\n",
       "  <tbody>\n",
       "    <tr>\n",
       "      <th>2020-05-20 12:16:59.425860</th>\n",
       "      <td>run_2020_May_20_12_16_59_425860</td>\n",
       "      <td>00:07:01</td>\n",
       "      <td>00:05:39</td>\n",
       "      <td>0.563</td>\n",
       "      <td>0.563</td>\n",
       "      <td>0.569</td>\n",
       "      <td>0.7441</td>\n",
       "      <td>0.99</td>\n",
       "      <td>12</td>\n",
       "      <td>10</td>\n",
       "      <td>8</td>\n",
       "      <td>6</td>\n",
       "      <td>2</td>\n",
       "      <td>200</td>\n",
       "      <td>200</td>\n",
       "      <td>0.0056</td>\n",
       "      <td>0</td>\n",
       "      <td>50</td>\n",
       "    </tr>\n",
       "    <tr>\n",
       "      <th>2020-05-20 12:06:25.790812</th>\n",
       "      <td>run_2020_May_20_12_06_25_790812</td>\n",
       "      <td>00:07:01</td>\n",
       "      <td>00:07:01</td>\n",
       "      <td>0.560</td>\n",
       "      <td>0.574</td>\n",
       "      <td>0.582</td>\n",
       "      <td>0.6887</td>\n",
       "      <td>0.99</td>\n",
       "      <td>12</td>\n",
       "      <td>10</td>\n",
       "      <td>8</td>\n",
       "      <td>6</td>\n",
       "      <td>2</td>\n",
       "      <td>200</td>\n",
       "      <td>200</td>\n",
       "      <td>0.0059</td>\n",
       "      <td>0</td>\n",
       "      <td>50</td>\n",
       "    </tr>\n",
       "    <tr>\n",
       "      <th>2020-05-20 11:58:29.215660</th>\n",
       "      <td>run_2020_May_20_11_58_29_215660</td>\n",
       "      <td>00:07:03</td>\n",
       "      <td>00:06:25</td>\n",
       "      <td>0.542</td>\n",
       "      <td>0.562</td>\n",
       "      <td>0.583</td>\n",
       "      <td>0.5906</td>\n",
       "      <td>0.99</td>\n",
       "      <td>12</td>\n",
       "      <td>10</td>\n",
       "      <td>8</td>\n",
       "      <td>6</td>\n",
       "      <td>2</td>\n",
       "      <td>200</td>\n",
       "      <td>200</td>\n",
       "      <td>0.0053</td>\n",
       "      <td>0</td>\n",
       "      <td>50</td>\n",
       "    </tr>\n",
       "    <tr>\n",
       "      <th>2020-05-20 11:58:21.922914</th>\n",
       "      <td>run_2020_May_20_11_58_21_922914</td>\n",
       "      <td>00:07:04</td>\n",
       "      <td>00:06:13</td>\n",
       "      <td>0.564</td>\n",
       "      <td>0.566</td>\n",
       "      <td>0.567</td>\n",
       "      <td>0.6416</td>\n",
       "      <td>0.99</td>\n",
       "      <td>12</td>\n",
       "      <td>10</td>\n",
       "      <td>8</td>\n",
       "      <td>6</td>\n",
       "      <td>2</td>\n",
       "      <td>200</td>\n",
       "      <td>200</td>\n",
       "      <td>0.0057</td>\n",
       "      <td>0</td>\n",
       "      <td>50</td>\n",
       "    </tr>\n",
       "    <tr>\n",
       "      <th>2020-05-20 11:57:05.959851</th>\n",
       "      <td>run_2020_May_20_11_57_05_959851</td>\n",
       "      <td>00:07:08</td>\n",
       "      <td>00:06:06</td>\n",
       "      <td>0.533</td>\n",
       "      <td>0.562</td>\n",
       "      <td>0.577</td>\n",
       "      <td>0.5817</td>\n",
       "      <td>0.99</td>\n",
       "      <td>12</td>\n",
       "      <td>10</td>\n",
       "      <td>8</td>\n",
       "      <td>6</td>\n",
       "      <td>2</td>\n",
       "      <td>200</td>\n",
       "      <td>200</td>\n",
       "      <td>0.0059</td>\n",
       "      <td>0</td>\n",
       "      <td>50</td>\n",
       "    </tr>\n",
       "  </tbody>\n",
       "</table>\n",
       "</div>"
      ],
      "text/plain": [
       "                                                       name       tt      t2b  \\\n",
       "start                                                                           \n",
       "2020-05-20 12:16:59.425860  run_2020_May_20_12_16_59_425860 00:07:01 00:05:39   \n",
       "2020-05-20 12:06:25.790812  run_2020_May_20_12_06_25_790812 00:07:01 00:07:01   \n",
       "2020-05-20 11:58:29.215660  run_2020_May_20_11_58_29_215660 00:07:03 00:06:25   \n",
       "2020-05-20 11:58:21.922914  run_2020_May_20_11_58_21_922914 00:07:04 00:06:13   \n",
       "2020-05-20 11:57:05.959851  run_2020_May_20_11_57_05_959851 00:07:08 00:06:06   \n",
       "\n",
       "                               ba    bva     la  combine_chance  \\\n",
       "start                                                             \n",
       "2020-05-20 12:16:59.425860  0.563  0.563  0.569          0.7441   \n",
       "2020-05-20 12:06:25.790812  0.560  0.574  0.582          0.6887   \n",
       "2020-05-20 11:58:29.215660  0.542  0.562  0.583          0.5906   \n",
       "2020-05-20 11:58:21.922914  0.564  0.566  0.567          0.6416   \n",
       "2020-05-20 11:57:05.959851  0.533  0.562  0.577          0.5817   \n",
       "\n",
       "                            crossover_chance  dec_f0  dec_f1  dec_f2  dec_f3  \\\n",
       "start                                                                          \n",
       "2020-05-20 12:16:59.425860              0.99      12      10       8       6   \n",
       "2020-05-20 12:06:25.790812              0.99      12      10       8       6   \n",
       "2020-05-20 11:58:29.215660              0.99      12      10       8       6   \n",
       "2020-05-20 11:58:21.922914              0.99      12      10       8       6   \n",
       "2020-05-20 11:57:05.959851              0.99      12      10       8       6   \n",
       "\n",
       "                            exp_power  generation_size  generations  \\\n",
       "start                                                                 \n",
       "2020-05-20 12:16:59.425860          2              200          200   \n",
       "2020-05-20 12:06:25.790812          2              200          200   \n",
       "2020-05-20 11:58:29.215660          2              200          200   \n",
       "2020-05-20 11:58:21.922914          2              200          200   \n",
       "2020-05-20 11:57:05.959851          2              200          200   \n",
       "\n",
       "                            mutate_chance  seed  subsample_size  \n",
       "start                                                            \n",
       "2020-05-20 12:16:59.425860         0.0056     0              50  \n",
       "2020-05-20 12:06:25.790812         0.0059     0              50  \n",
       "2020-05-20 11:58:29.215660         0.0053     0              50  \n",
       "2020-05-20 11:58:21.922914         0.0057     0              50  \n",
       "2020-05-20 11:57:05.959851         0.0059     0              50  "
      ]
     },
     "execution_count": 67,
     "metadata": {},
     "output_type": "execute_result"
    }
   ],
   "source": [
    "df.sort_index(ascending=False).head(5)\n",
    "#df.sort_values('bva', ascending=False).head(10)"
   ]
  },
  {
   "cell_type": "code",
   "execution_count": 69,
   "metadata": {
    "ExecuteTime": {
     "end_time": "2020-05-20T09:37:04.023516Z",
     "start_time": "2020-05-20T09:37:03.885905Z"
    },
    "execution": {
     "iopub.execute_input": "2020-05-19T15:49:03.717119Z",
     "iopub.status.busy": "2020-05-19T15:49:03.716849Z",
     "iopub.status.idle": "2020-05-19T15:49:03.860564Z",
     "shell.execute_reply": "2020-05-19T15:49:03.860093Z",
     "shell.execute_reply.started": "2020-05-19T15:49:03.717083Z"
    }
   },
   "outputs": [
    {
     "name": "stdout",
     "output_type": "stream",
     "text": [
      "0.4735125000000001\n"
     ]
    },
    {
     "data": {
      "text/plain": [
       "[<matplotlib.lines.Line2D at 0x7fc65ce77898>]"
      ]
     },
     "execution_count": 69,
     "metadata": {},
     "output_type": "execute_result"
    },
    {
     "data": {
      "image/png": "[encoded data removed]",
      "text/plain": [
       "<Figure size 432x288 with 1 Axes>"
      ]
     },
     "metadata": {
      "needs_background": "light"
     },
     "output_type": "display_data"
    }
   ],
   "source": [
    "s = df['bva']\n",
    "print(s.mean())\n",
    "s = s.sort_index()\n",
    "plt.plot(s.rolling(3).mean().values)"
   ]
  },
  {
   "cell_type": "code",
   "execution_count": 70,
   "metadata": {
    "ExecuteTime": {
     "end_time": "2020-05-20T09:37:14.372231Z",
     "start_time": "2020-05-20T09:37:14.367493Z"
    },
    "execution": {
     "iopub.execute_input": "2020-05-19T14:37:40.656483Z",
     "iopub.status.busy": "2020-05-19T14:37:40.656167Z",
     "iopub.status.idle": "2020-05-19T14:37:40.660764Z",
     "shell.execute_reply": "2020-05-19T14:37:40.660291Z",
     "shell.execute_reply.started": "2020-05-19T14:37:40.656440Z"
    }
   },
   "outputs": [
    {
     "data": {
      "text/plain": [
       "Timedelta('0 days 09:23:21')"
      ]
     },
     "execution_count": 70,
     "metadata": {},
     "output_type": "execute_result"
    }
   ],
   "source": [
    "df['tt'].sum()"
   ]
  },
  {
   "cell_type": "code",
   "execution_count": 22,
   "metadata": {
    "ExecuteTime": {
     "end_time": "2020-05-20T09:15:10.893125Z",
     "start_time": "2020-05-20T09:15:10.887909Z"
    },
    "execution": {
     "iopub.execute_input": "2020-05-19T14:37:45.592199Z",
     "iopub.status.busy": "2020-05-19T14:37:45.591899Z",
     "iopub.status.idle": "2020-05-19T14:37:45.597483Z",
     "shell.execute_reply": "2020-05-19T14:37:45.597028Z",
     "shell.execute_reply.started": "2020-05-19T14:37:45.592159Z"
    }
   },
   "outputs": [
    {
     "data": {
      "text/plain": [
       "(76, 18)"
      ]
     },
     "execution_count": 22,
     "metadata": {},
     "output_type": "execute_result"
    }
   ],
   "source": [
    "# df = df[df['ba']>.3]\n",
    "# df.shape"
   ]
  },
  {
   "cell_type": "code",
   "execution_count": 44,
   "metadata": {
    "ExecuteTime": {
     "end_time": "2020-05-20T09:27:39.436397Z",
     "start_time": "2020-05-20T09:27:39.426874Z"
    },
    "execution": {
     "iopub.execute_input": "2020-05-18T12:52:56.386960Z",
     "iopub.status.busy": "2020-05-18T12:52:56.386784Z",
     "iopub.status.idle": "2020-05-18T12:52:56.390679Z",
     "shell.execute_reply": "2020-05-18T12:52:56.390265Z",
     "shell.execute_reply.started": "2020-05-18T12:52:56.386933Z"
    }
   },
   "outputs": [],
   "source": [
    "# df = df[df['crossover_chance']==1.99]\n",
    "# df.shape\n",
    "# names = df.sort_index()['name'][:30].values\n",
    "# p = Path('../__crsch_cycle/cycler_runs/')\n",
    "# for name in names:\n",
    "#     pi = p/name\n",
    "#     shutil.rmtree(pi)"
   ]
  },
  {
   "cell_type": "code",
   "execution_count": null,
   "metadata": {},
   "outputs": [],
   "source": []
  },
  {
   "cell_type": "code",
   "execution_count": 71,
   "metadata": {
    "ExecuteTime": {
     "end_time": "2020-05-20T09:37:20.099248Z",
     "start_time": "2020-05-20T09:37:19.843478Z"
    },
    "execution": {
     "iopub.execute_input": "2020-05-18T12:52:56.391496Z",
     "iopub.status.busy": "2020-05-18T12:52:56.391313Z",
     "iopub.status.idle": "2020-05-18T12:52:57.057637Z",
     "shell.execute_reply": "2020-05-18T12:52:57.056663Z",
     "shell.execute_reply.started": "2020-05-18T12:52:56.391467Z"
    }
   },
   "outputs": [
    {
     "data": {
      "application/vnd.plotly.v1+json": {
       "config": {
        "plotlyServerURL": "https://plot.ly"
       },
       "data": [
        {
         "dimensions": [
          {
           "label": "combine_chance",
           "values": [
            0.7441,
            0.6887,
            0.5906,
            0.6416,
            0.5817,
            0.5247,
            0.5915,
            0.5623,
            0.5514,
            0.572,
            0.498,
            0.5037,
            0.5361,
            0.5197,
            0.5594,
            0.5233,
            0.5335,
            0.01,
            0.5344,
            0.01,
            0.8728,
            0.99,
            0.0289,
            0.01,
            0.4953,
            0.99,
            0.99,
            0.1335,
            0.6293,
            0.0907,
            0.01,
            0.9663,
            0.99,
            0.9799,
            0.177,
            0.9327,
            0.8531,
            0.01,
            0.01,
            0.0552,
            0.3795,
            0.7747,
            0.01,
            0.99,
            0.0199,
            0.4297,
            0.99,
            0.8766,
            0.9583,
            0.99,
            0.01,
            0.01,
            0.01,
            0.01,
            0.0402,
            0.01,
            0.01,
            0.99,
            0.01,
            0.01,
            0.0191,
            0.1315,
            0.3884,
            0.925,
            0.99,
            0.6488,
            0.3201,
            0.99,
            0.99,
            0.01,
            0.99,
            0.6986,
            0.0673,
            0.1527,
            0.1527,
            0.0673,
            0.6986,
            0.1527,
            0.0673,
            0.6986
           ]
          },
          {
           "label": "crossover_chance",
           "values": [
            0.99,
            0.99,
            0.99,
            0.99,
            0.99,
            0.99,
            0.99,
            0.99,
            0.99,
            0.99,
            0.99,
            0.99,
            0.99,
            0.99,
            0.99,
            0.99,
            0.99,
            0.99,
            0.99,
            0.99,
            0.0165,
            0.99,
            0.0135,
            0.99,
            0.99,
            0.99,
            0.99,
            0.9831,
            0.99,
            0.01,
            0.99,
            0.019,
            0.99,
            0.9701,
            0.99,
            0.9701,
            0.01,
            0.99,
            0.99,
            0.931,
            0.99,
            0.99,
            0.99,
            0.99,
            0.99,
            0.99,
            0.99,
            0.01,
            0.99,
            0.99,
            0.99,
            0.99,
            0.99,
            0.01,
            0.01,
            0.6111,
            0.99,
            0.3765,
            0.99,
            0.99,
            0.01,
            0.99,
            0.99,
            0.99,
            0.3219,
            0.01,
            0.1878,
            0.01,
            0.01,
            0.99,
            0.01,
            0.0704,
            0.2606,
            0.4933,
            0.4933,
            0.2606,
            0.0704,
            0.4933,
            0.2606,
            0.0704
           ]
          },
          {
           "label": "mutate_chance",
           "values": [
            0.0056,
            0.0059,
            0.0053,
            0.0057,
            0.0059,
            0.006,
            0.0058,
            0.0063,
            0.0066,
            0.0061,
            0.0127,
            0.0126,
            0.0069,
            0.0096,
            0.0066,
            0.0093,
            0.0079,
            0.031,
            0.0074,
            0.031,
            0.0088,
            0.0087,
            0.0087,
            0.0082,
            0.0089,
            0.0136,
            0.0138,
            0.0135,
            0.0138,
            0.0406,
            0.0079,
            0.0405,
            0.0081,
            0.0272,
            0.0267,
            0.0095,
            0.0107,
            0.0112,
            0.0116,
            0.0115,
            0.0116,
            0.0115,
            0.0168,
            0.0167,
            0.0167,
            0.0162,
            0.0078,
            0.0213,
            0.0212,
            0.0212,
            0.0063,
            0.0062,
            0.0063,
            0.0091,
            0.0088,
            0.0088,
            0.0084,
            0.05,
            0.05,
            0.037,
            0.0372,
            0.0371,
            0.0077,
            0.0098,
            0.0071,
            0.0138,
            0.0068,
            0.0304,
            0.0059,
            0,
            0,
            0.0188,
            0.0239,
            0.0444,
            0.0444,
            0.0239,
            0.0188,
            0.0444,
            0.0239,
            0.0188
           ]
          },
          {
           "label": "exp_power",
           "values": [
            2,
            2,
            2,
            2,
            2,
            2,
            2,
            2,
            2,
            2,
            2,
            2,
            2,
            2,
            2,
            2,
            2,
            2,
            2,
            2,
            2,
            2,
            2,
            2,
            2,
            2,
            2,
            2,
            2,
            2,
            2,
            2,
            2,
            2,
            2,
            2,
            2,
            2,
            2,
            2,
            2,
            2,
            2,
            2,
            2,
            2,
            2,
            2,
            2,
            2,
            2,
            2,
            2,
            2,
            2,
            2,
            2,
            2,
            2,
            2,
            2,
            2,
            2,
            2,
            2,
            2,
            2,
            2,
            2,
            2,
            2,
            2,
            2,
            2,
            2,
            2,
            2,
            2,
            2,
            2
           ]
          },
          {
           "label": "bva",
           "values": [
            0.563,
            0.574,
            0.562,
            0.566,
            0.562,
            0.564,
            0.573,
            0.564,
            0.565,
            0.564,
            0.546,
            0.532,
            0.564,
            0.545,
            0.553,
            0.547,
            0.552,
            0.415,
            0.557,
            0.395,
            0.49,
            0.498,
            0.489,
            0.497,
            0.553,
            0.494,
            0.451,
            0.519,
            0.547,
            0.309,
            0.492,
            0.401,
            0.499,
            0.427,
            0.473,
            0.525,
            0.47,
            0.487,
            0.486,
            0.496,
            0.537,
            0.538,
            0.459,
            0.441,
            0.464,
            0.534,
            0.496,
            0.416,
            0.462,
            0.458,
            0.501,
            0.506,
            0.5,
            0.514,
            0.493,
            0.51,
            0.502,
            0.316,
            0.286,
            0.372,
            0.399,
            0.36,
            0.558,
            0.511,
            0.494,
            0.45,
            0.523,
            0.365,
            0.51,
            0.133,
            0.066,
            0.479,
            0.413,
            0.33,
            0.356,
            0.424,
            0.459,
            0.344,
            0.479,
            0.457
           ]
          }
         ],
         "domain": {
          "x": [
           0,
           1
          ],
          "y": [
           0,
           1
          ]
         },
         "line": {
          "color": [
           0.563,
           0.574,
           0.562,
           0.566,
           0.562,
           0.564,
           0.573,
           0.564,
           0.565,
           0.564,
           0.546,
           0.532,
           0.564,
           0.545,
           0.553,
           0.547,
           0.552,
           0.415,
           0.557,
           0.395,
           0.49,
           0.498,
           0.489,
           0.497,
           0.553,
           0.494,
           0.451,
           0.519,
           0.547,
           0.309,
           0.492,
           0.401,
           0.499,
           0.427,
           0.473,
           0.525,
           0.47,
           0.487,
           0.486,
           0.496,
           0.537,
           0.538,
           0.459,
           0.441,
           0.464,
           0.534,
           0.496,
           0.416,
           0.462,
           0.458,
           0.501,
           0.506,
           0.5,
           0.514,
           0.493,
           0.51,
           0.502,
           0.316,
           0.286,
           0.372,
           0.399,
           0.36,
           0.558,
           0.511,
           0.494,
           0.45,
           0.523,
           0.365,
           0.51,
           0.133,
           0.066,
           0.479,
           0.413,
           0.33,
           0.356,
           0.424,
           0.459,
           0.344,
           0.479,
           0.457
          ],
          "coloraxis": "coloraxis"
         },
         "name": "",
         "type": "parcoords"
        }
       ],
       "layout": {
        "coloraxis": {
         "cmax": 0.574,
         "cmid": 0.55,
         "cmin": 0.5,
         "colorbar": {
          "title": {
           "text": "bva"
          }
         },
         "colorscale": [
          [
           0,
           "rgb(0, 147, 146)"
          ],
          [
           0.16666666666666666,
           "rgb(114, 170, 161)"
          ],
          [
           0.3333333333333333,
           "rgb(177, 199, 179)"
          ],
          [
           0.5,
           "rgb(241, 234, 200)"
          ],
          [
           0.6666666666666666,
           "rgb(229, 185, 173)"
          ],
          [
           0.8333333333333334,
           "rgb(217, 137, 148)"
          ],
          [
           1,
           "rgb(208, 88, 126)"
          ]
         ]
        },
        "height": 600,
        "legend": {
         "tracegroupgap": 0
        },
        "margin": {
         "t": 60
        },
        "template": {
         "data": {
          "bar": [
           {
            "error_x": {
             "color": "#2a3f5f"
            },
            "error_y": {
             "color": "#2a3f5f"
            },
            "marker": {
             "line": {
              "color": "#E5ECF6",
              "width": 0.5
             }
            },
            "type": "bar"
           }
          ],
          "barpolar": [
           {
            "marker": {
             "line": {
              "color": "#E5ECF6",
              "width": 0.5
             }
            },
            "type": "barpolar"
           }
          ],
          "carpet": [
           {
            "aaxis": {
             "endlinecolor": "#2a3f5f",
             "gridcolor": "white",
             "linecolor": "white",
             "minorgridcolor": "white",
             "startlinecolor": "#2a3f5f"
            },
            "baxis": {
             "endlinecolor": "#2a3f5f",
             "gridcolor": "white",
             "linecolor": "white",
             "minorgridcolor": "white",
             "startlinecolor": "#2a3f5f"
            },
            "type": "carpet"
           }
          ],
          "choropleth": [
           {
            "colorbar": {
             "outlinewidth": 0,
             "ticks": ""
            },
            "type": "choropleth"
           }
          ],
          "contour": [
           {
            "colorbar": {
             "outlinewidth": 0,
             "ticks": ""
            },
            "colorscale": [
             [
              0,
              "#0d0887"
             ],
             [
              0.1111111111111111,
              "#46039f"
             ],
             [
              0.2222222222222222,
              "#7201a8"
             ],
             [
              0.3333333333333333,
              "#9c179e"
             ],
             [
              0.4444444444444444,
              "#bd3786"
             ],
             [
              0.5555555555555556,
              "#d8576b"
             ],
             [
              0.6666666666666666,
              "#ed7953"
             ],
             [
              0.7777777777777778,
              "#fb9f3a"
             ],
             [
              0.8888888888888888,
              "#fdca26"
             ],
             [
              1,
              "#f0f921"
             ]
            ],
            "type": "contour"
           }
          ],
          "contourcarpet": [
           {
            "colorbar": {
             "outlinewidth": 0,
             "ticks": ""
            },
            "type": "contourcarpet"
           }
          ],
          "heatmap": [
           {
            "colorbar": {
             "outlinewidth": 0,
             "ticks": ""
            },
            "colorscale": [
             [
              0,
              "#0d0887"
             ],
             [
              0.1111111111111111,
              "#46039f"
             ],
             [
              0.2222222222222222,
              "#7201a8"
             ],
             [
              0.3333333333333333,
              "#9c179e"
             ],
             [
              0.4444444444444444,
              "#bd3786"
             ],
             [
              0.5555555555555556,
              "#d8576b"
             ],
             [
              0.6666666666666666,
              "#ed7953"
             ],
             [
              0.7777777777777778,
              "#fb9f3a"
             ],
             [
              0.8888888888888888,
              "#fdca26"
             ],
             [
              1,
              "#f0f921"
             ]
            ],
            "type": "heatmap"
           }
          ],
          "heatmapgl": [
           {
            "colorbar": {
             "outlinewidth": 0,
             "ticks": ""
            },
            "colorscale": [
             [
              0,
              "#0d0887"
             ],
             [
              0.1111111111111111,
              "#46039f"
             ],
             [
              0.2222222222222222,
              "#7201a8"
             ],
             [
              0.3333333333333333,
              "#9c179e"
             ],
             [
              0.4444444444444444,
              "#bd3786"
             ],
             [
              0.5555555555555556,
              "#d8576b"
             ],
             [
              0.6666666666666666,
              "#ed7953"
             ],
             [
              0.7777777777777778,
              "#fb9f3a"
             ],
             [
              0.8888888888888888,
              "#fdca26"
             ],
             [
              1,
              "#f0f921"
             ]
            ],
            "type": "heatmapgl"
           }
          ],
          "histogram": [
           {
            "marker": {
             "colorbar": {
              "outlinewidth": 0,
              "ticks": ""
             }
            },
            "type": "histogram"
           }
          ],
          "histogram2d": [
           {
            "colorbar": {
             "outlinewidth": 0,
             "ticks": ""
            },
            "colorscale": [
             [
              0,
              "#0d0887"
             ],
             [
              0.1111111111111111,
              "#46039f"
             ],
             [
              0.2222222222222222,
              "#7201a8"
             ],
             [
              0.3333333333333333,
              "#9c179e"
             ],
             [
              0.4444444444444444,
              "#bd3786"
             ],
             [
              0.5555555555555556,
              "#d8576b"
             ],
             [
              0.6666666666666666,
              "#ed7953"
             ],
             [
              0.7777777777777778,
              "#fb9f3a"
             ],
             [
              0.8888888888888888,
              "#fdca26"
             ],
             [
              1,
              "#f0f921"
             ]
            ],
            "type": "histogram2d"
           }
          ],
          "histogram2dcontour": [
           {
            "colorbar": {
             "outlinewidth": 0,
             "ticks": ""
            },
            "colorscale": [
             [
              0,
              "#0d0887"
             ],
             [
              0.1111111111111111,
              "#46039f"
             ],
             [
              0.2222222222222222,
              "#7201a8"
             ],
             [
              0.3333333333333333,
              "#9c179e"
             ],
             [
              0.4444444444444444,
              "#bd3786"
             ],
             [
              0.5555555555555556,
              "#d8576b"
             ],
             [
              0.6666666666666666,
              "#ed7953"
             ],
             [
              0.7777777777777778,
              "#fb9f3a"
             ],
             [
              0.8888888888888888,
              "#fdca26"
             ],
             [
              1,
              "#f0f921"
             ]
            ],
            "type": "histogram2dcontour"
           }
          ],
          "mesh3d": [
           {
            "colorbar": {
             "outlinewidth": 0,
             "ticks": ""
            },
            "type": "mesh3d"
           }
          ],
          "parcoords": [
           {
            "line": {
             "colorbar": {
              "outlinewidth": 0,
              "ticks": ""
             }
            },
            "type": "parcoords"
           }
          ],
          "pie": [
           {
            "automargin": true,
            "type": "pie"
           }
          ],
          "scatter": [
           {
            "marker": {
             "colorbar": {
              "outlinewidth": 0,
              "ticks": ""
             }
            },
            "type": "scatter"
           }
          ],
          "scatter3d": [
           {
            "line": {
             "colorbar": {
              "outlinewidth": 0,
              "ticks": ""
             }
            },
            "marker": {
             "colorbar": {
              "outlinewidth": 0,
              "ticks": ""
             }
            },
            "type": "scatter3d"
           }
          ],
          "scattercarpet": [
           {
            "marker": {
             "colorbar": {
              "outlinewidth": 0,
              "ticks": ""
             }
            },
            "type": "scattercarpet"
           }
          ],
          "scattergeo": [
           {
            "marker": {
             "colorbar": {
              "outlinewidth": 0,
              "ticks": ""
             }
            },
            "type": "scattergeo"
           }
          ],
          "scattergl": [
           {
            "marker": {
             "colorbar": {
              "outlinewidth": 0,
              "ticks": ""
             }
            },
            "type": "scattergl"
           }
          ],
          "scattermapbox": [
           {
            "marker": {
             "colorbar": {
              "outlinewidth": 0,
              "ticks": ""
             }
            },
            "type": "scattermapbox"
           }
          ],
          "scatterpolar": [
           {
            "marker": {
             "colorbar": {
              "outlinewidth": 0,
              "ticks": ""
             }
            },
            "type": "scatterpolar"
           }
          ],
          "scatterpolargl": [
           {
            "marker": {
             "colorbar": {
              "outlinewidth": 0,
              "ticks": ""
             }
            },
            "type": "scatterpolargl"
           }
          ],
          "scatterternary": [
           {
            "marker": {
             "colorbar": {
              "outlinewidth": 0,
              "ticks": ""
             }
            },
            "type": "scatterternary"
           }
          ],
          "surface": [
           {
            "colorbar": {
             "outlinewidth": 0,
             "ticks": ""
            },
            "colorscale": [
             [
              0,
              "#0d0887"
             ],
             [
              0.1111111111111111,
              "#46039f"
             ],
             [
              0.2222222222222222,
              "#7201a8"
             ],
             [
              0.3333333333333333,
              "#9c179e"
             ],
             [
              0.4444444444444444,
              "#bd3786"
             ],
             [
              0.5555555555555556,
              "#d8576b"
             ],
             [
              0.6666666666666666,
              "#ed7953"
             ],
             [
              0.7777777777777778,
              "#fb9f3a"
             ],
             [
              0.8888888888888888,
              "#fdca26"
             ],
             [
              1,
              "#f0f921"
             ]
            ],
            "type": "surface"
           }
          ],
          "table": [
           {
            "cells": {
             "fill": {
              "color": "#EBF0F8"
             },
             "line": {
              "color": "white"
             }
            },
            "header": {
             "fill": {
              "color": "#C8D4E3"
             },
             "line": {
              "color": "white"
             }
            },
            "type": "table"
           }
          ]
         },
         "layout": {
          "annotationdefaults": {
           "arrowcolor": "#2a3f5f",
           "arrowhead": 0,
           "arrowwidth": 1
          },
          "coloraxis": {
           "colorbar": {
            "outlinewidth": 0,
            "ticks": ""
           }
          },
          "colorscale": {
           "diverging": [
            [
             0,
             "#8e0152"
            ],
            [
             0.1,
             "#c51b7d"
            ],
            [
             0.2,
             "#de77ae"
            ],
            [
             0.3,
             "#f1b6da"
            ],
            [
             0.4,
             "#fde0ef"
            ],
            [
             0.5,
             "#f7f7f7"
            ],
            [
             0.6,
             "#e6f5d0"
            ],
            [
             0.7,
             "#b8e186"
            ],
            [
             0.8,
             "#7fbc41"
            ],
            [
             0.9,
             "#4d9221"
            ],
            [
             1,
             "#276419"
            ]
           ],
           "sequential": [
            [
             0,
             "#0d0887"
            ],
            [
             0.1111111111111111,
             "#46039f"
            ],
            [
             0.2222222222222222,
             "#7201a8"
            ],
            [
             0.3333333333333333,
             "#9c179e"
            ],
            [
             0.4444444444444444,
             "#bd3786"
            ],
            [
             0.5555555555555556,
             "#d8576b"
            ],
            [
             0.6666666666666666,
             "#ed7953"
            ],
            [
             0.7777777777777778,
             "#fb9f3a"
            ],
            [
             0.8888888888888888,
             "#fdca26"
            ],
            [
             1,
             "#f0f921"
            ]
           ],
           "sequentialminus": [
            [
             0,
             "#0d0887"
            ],
            [
             0.1111111111111111,
             "#46039f"
            ],
            [
             0.2222222222222222,
             "#7201a8"
            ],
            [
             0.3333333333333333,
             "#9c179e"
            ],
            [
             0.4444444444444444,
             "#bd3786"
            ],
            [
             0.5555555555555556,
             "#d8576b"
            ],
            [
             0.6666666666666666,
             "#ed7953"
            ],
            [
             0.7777777777777778,
             "#fb9f3a"
            ],
            [
             0.8888888888888888,
             "#fdca26"
            ],
            [
             1,
             "#f0f921"
            ]
           ]
          },
          "colorway": [
           "#636efa",
           "#EF553B",
           "#00cc96",
           "#ab63fa",
           "#FFA15A",
           "#19d3f3",
           "#FF6692",
           "#B6E880",
           "#FF97FF",
           "#FECB52"
          ],
          "font": {
           "color": "#2a3f5f"
          },
          "geo": {
           "bgcolor": "white",
           "lakecolor": "white",
           "landcolor": "#E5ECF6",
           "showlakes": true,
           "showland": true,
           "subunitcolor": "white"
          },
          "hoverlabel": {
           "align": "left"
          },
          "hovermode": "closest",
          "mapbox": {
           "style": "light"
          },
          "paper_bgcolor": "white",
          "plot_bgcolor": "#E5ECF6",
          "polar": {
           "angularaxis": {
            "gridcolor": "white",
            "linecolor": "white",
            "ticks": ""
           },
           "bgcolor": "#E5ECF6",
           "radialaxis": {
            "gridcolor": "white",
            "linecolor": "white",
            "ticks": ""
           }
          },
          "scene": {
           "xaxis": {
            "backgroundcolor": "#E5ECF6",
            "gridcolor": "white",
            "gridwidth": 2,
            "linecolor": "white",
            "showbackground": true,
            "ticks": "",
            "zerolinecolor": "white"
           },
           "yaxis": {
            "backgroundcolor": "#E5ECF6",
            "gridcolor": "white",
            "gridwidth": 2,
            "linecolor": "white",
            "showbackground": true,
            "ticks": "",
            "zerolinecolor": "white"
           },
           "zaxis": {
            "backgroundcolor": "#E5ECF6",
            "gridcolor": "white",
            "gridwidth": 2,
            "linecolor": "white",
            "showbackground": true,
            "ticks": "",
            "zerolinecolor": "white"
           }
          },
          "shapedefaults": {
           "line": {
            "color": "#2a3f5f"
           }
          },
          "ternary": {
           "aaxis": {
            "gridcolor": "white",
            "linecolor": "white",
            "ticks": ""
           },
           "baxis": {
            "gridcolor": "white",
            "linecolor": "white",
            "ticks": ""
           },
           "bgcolor": "#E5ECF6",
           "caxis": {
            "gridcolor": "white",
            "linecolor": "white",
            "ticks": ""
           }
          },
          "title": {
           "x": 0.05
          },
          "xaxis": {
           "automargin": true,
           "gridcolor": "white",
           "linecolor": "white",
           "ticks": "",
           "title": {
            "standoff": 15
           },
           "zerolinecolor": "white",
           "zerolinewidth": 2
          },
          "yaxis": {
           "automargin": true,
           "gridcolor": "white",
           "linecolor": "white",
           "ticks": "",
           "title": {
            "standoff": 15
           },
           "zerolinecolor": "white",
           "zerolinewidth": 2
          }
         }
        }
       }
      },
      "text/html": [
       "<div>\n",
       "        \n",
       "        \n",
       "            <div id=\"9c74f63c-1f2c-48ee-b2a1-4b79dea304b2\" class=\"plotly-graph-div\" style=\"height:600px; width:100%;\"></div>\n",
       "            <script type=\"text/javascript\">\n",
       "                require([\"plotly\"], function(Plotly) {\n",
       "                    window.PLOTLYENV=window.PLOTLYENV || {};\n",
       "                    \n",
       "                if (document.getElementById(\"9c74f63c-1f2c-48ee-b2a1-4b79dea304b2\")) {\n",
       "                    Plotly.newPlot(\n",
       "                        '9c74f63c-1f2c-48ee-b2a1-4b79dea304b2',\n",
       "                        [{\"dimensions\": [{\"label\": \"combine_chance\", \"values\": [0.7441, 0.6887, 0.5906, 0.6416, 0.5817, 0.5247, 0.5915, 0.5623, 0.5514, 0.572, 0.498, 0.5037, 0.5361, 0.5197, 0.5594, 0.5233, 0.5335, 0.01, 0.5344, 0.01, 0.8728, 0.99, 0.0289, 0.01, 0.4953, 0.99, 0.99, 0.1335, 0.6293, 0.0907, 0.01, 0.9663, 0.99, 0.9799, 0.177, 0.9327, 0.8531, 0.01, 0.01, 0.0552, 0.3795, 0.7747, 0.01, 0.99, 0.0199, 0.4297, 0.99, 0.8766, 0.9583, 0.99, 0.01, 0.01, 0.01, 0.01, 0.0402, 0.01, 0.01, 0.99, 0.01, 0.01, 0.0191, 0.1315, 0.3884, 0.925, 0.99, 0.6488, 0.3201, 0.99, 0.99, 0.01, 0.99, 0.6986, 0.0673, 0.1527, 0.1527, 0.0673, 0.6986, 0.1527, 0.0673, 0.6986]}, {\"label\": \"crossover_chance\", \"values\": [0.99, 0.99, 0.99, 0.99, 0.99, 0.99, 0.99, 0.99, 0.99, 0.99, 0.99, 0.99, 0.99, 0.99, 0.99, 0.99, 0.99, 0.99, 0.99, 0.99, 0.0165, 0.99, 0.0135, 0.99, 0.99, 0.99, 0.99, 0.9831, 0.99, 0.01, 0.99, 0.019, 0.99, 0.9701, 0.99, 0.9701, 0.01, 0.99, 0.99, 0.931, 0.99, 0.99, 0.99, 0.99, 0.99, 0.99, 0.99, 0.01, 0.99, 0.99, 0.99, 0.99, 0.99, 0.01, 0.01, 0.6111, 0.99, 0.3765, 0.99, 0.99, 0.01, 0.99, 0.99, 0.99, 0.3219, 0.01, 0.1878, 0.01, 0.01, 0.99, 0.01, 0.0704, 0.2606, 0.4933, 0.4933, 0.2606, 0.0704, 0.4933, 0.2606, 0.0704]}, {\"label\": \"mutate_chance\", \"values\": [0.0056, 0.0059, 0.0053, 0.0057, 0.0059, 0.006, 0.0058, 0.0063, 0.0066, 0.0061, 0.0127, 0.0126, 0.0069, 0.0096, 0.0066, 0.0093, 0.0079, 0.031, 0.0074, 0.031, 0.0088, 0.0087, 0.0087, 0.0082, 0.0089, 0.0136, 0.0138, 0.0135, 0.0138, 0.0406, 0.0079, 0.0405, 0.0081, 0.0272, 0.0267, 0.0095, 0.0107, 0.0112, 0.0116, 0.0115, 0.0116, 0.0115, 0.0168, 0.0167, 0.0167, 0.0162, 0.0078, 0.0213, 0.0212, 0.0212, 0.0063, 0.0062, 0.0063, 0.0091, 0.0088, 0.0088, 0.0084, 0.05, 0.05, 0.037, 0.0372, 0.0371, 0.0077, 0.0098, 0.0071, 0.0138, 0.0068, 0.0304, 0.0059, 0.0, 0.0, 0.0188, 0.0239, 0.0444, 0.0444, 0.0239, 0.0188, 0.0444, 0.0239, 0.0188]}, {\"label\": \"exp_power\", \"values\": [2, 2, 2, 2, 2, 2, 2, 2, 2, 2, 2, 2, 2, 2, 2, 2, 2, 2, 2, 2, 2, 2, 2, 2, 2, 2, 2, 2, 2, 2, 2, 2, 2, 2, 2, 2, 2, 2, 2, 2, 2, 2, 2, 2, 2, 2, 2, 2, 2, 2, 2, 2, 2, 2, 2, 2, 2, 2, 2, 2, 2, 2, 2, 2, 2, 2, 2, 2, 2, 2, 2, 2, 2, 2, 2, 2, 2, 2, 2, 2]}, {\"label\": \"bva\", \"values\": [0.563, 0.574, 0.562, 0.566, 0.562, 0.564, 0.573, 0.564, 0.565, 0.564, 0.546, 0.532, 0.564, 0.545, 0.553, 0.547, 0.552, 0.415, 0.557, 0.395, 0.49, 0.498, 0.489, 0.497, 0.553, 0.494, 0.451, 0.519, 0.547, 0.309, 0.492, 0.401, 0.499, 0.427, 0.473, 0.525, 0.47, 0.487, 0.486, 0.496, 0.537, 0.538, 0.459, 0.441, 0.464, 0.534, 0.496, 0.416, 0.462, 0.458, 0.501, 0.506, 0.5, 0.514, 0.493, 0.51, 0.502, 0.316, 0.286, 0.372, 0.399, 0.36, 0.558, 0.511, 0.494, 0.45, 0.523, 0.365, 0.51, 0.133, 0.066, 0.479, 0.413, 0.33, 0.356, 0.424, 0.459, 0.344, 0.479, 0.457]}], \"domain\": {\"x\": [0.0, 1.0], \"y\": [0.0, 1.0]}, \"line\": {\"color\": [0.563, 0.574, 0.562, 0.566, 0.562, 0.564, 0.573, 0.564, 0.565, 0.564, 0.546, 0.532, 0.564, 0.545, 0.553, 0.547, 0.552, 0.415, 0.557, 0.395, 0.49, 0.498, 0.489, 0.497, 0.553, 0.494, 0.451, 0.519, 0.547, 0.309, 0.492, 0.401, 0.499, 0.427, 0.473, 0.525, 0.47, 0.487, 0.486, 0.496, 0.537, 0.538, 0.459, 0.441, 0.464, 0.534, 0.496, 0.416, 0.462, 0.458, 0.501, 0.506, 0.5, 0.514, 0.493, 0.51, 0.502, 0.316, 0.286, 0.372, 0.399, 0.36, 0.558, 0.511, 0.494, 0.45, 0.523, 0.365, 0.51, 0.133, 0.066, 0.479, 0.413, 0.33, 0.356, 0.424, 0.459, 0.344, 0.479, 0.457], \"coloraxis\": \"coloraxis\"}, \"name\": \"\", \"type\": \"parcoords\"}],\n",
       "                        {\"coloraxis\": {\"cmax\": 0.574, \"cmid\": 0.55, \"cmin\": 0.5, \"colorbar\": {\"title\": {\"text\": \"bva\"}}, \"colorscale\": [[0.0, \"rgb(0, 147, 146)\"], [0.16666666666666666, \"rgb(114, 170, 161)\"], [0.3333333333333333, \"rgb(177, 199, 179)\"], [0.5, \"rgb(241, 234, 200)\"], [0.6666666666666666, \"rgb(229, 185, 173)\"], [0.8333333333333334, \"rgb(217, 137, 148)\"], [1.0, \"rgb(208, 88, 126)\"]]}, \"height\": 600, \"legend\": {\"tracegroupgap\": 0}, \"margin\": {\"t\": 60}, \"template\": {\"data\": {\"bar\": [{\"error_x\": {\"color\": \"#2a3f5f\"}, \"error_y\": {\"color\": \"#2a3f5f\"}, \"marker\": {\"line\": {\"color\": \"#E5ECF6\", \"width\": 0.5}}, \"type\": \"bar\"}], \"barpolar\": [{\"marker\": {\"line\": {\"color\": \"#E5ECF6\", \"width\": 0.5}}, \"type\": \"barpolar\"}], \"carpet\": [{\"aaxis\": {\"endlinecolor\": \"#2a3f5f\", \"gridcolor\": \"white\", \"linecolor\": \"white\", \"minorgridcolor\": \"white\", \"startlinecolor\": \"#2a3f5f\"}, \"baxis\": {\"endlinecolor\": \"#2a3f5f\", \"gridcolor\": \"white\", \"linecolor\": \"white\", \"minorgridcolor\": \"white\", \"startlinecolor\": \"#2a3f5f\"}, \"type\": \"carpet\"}], \"choropleth\": [{\"colorbar\": {\"outlinewidth\": 0, \"ticks\": \"\"}, \"type\": \"choropleth\"}], \"contour\": [{\"colorbar\": {\"outlinewidth\": 0, \"ticks\": \"\"}, \"colorscale\": [[0.0, \"#0d0887\"], [0.1111111111111111, \"#46039f\"], [0.2222222222222222, \"#7201a8\"], [0.3333333333333333, \"#9c179e\"], [0.4444444444444444, \"#bd3786\"], [0.5555555555555556, \"#d8576b\"], [0.6666666666666666, \"#ed7953\"], [0.7777777777777778, \"#fb9f3a\"], [0.8888888888888888, \"#fdca26\"], [1.0, \"#f0f921\"]], \"type\": \"contour\"}], \"contourcarpet\": [{\"colorbar\": {\"outlinewidth\": 0, \"ticks\": \"\"}, \"type\": \"contourcarpet\"}], \"heatmap\": [{\"colorbar\": {\"outlinewidth\": 0, \"ticks\": \"\"}, \"colorscale\": [[0.0, \"#0d0887\"], [0.1111111111111111, \"#46039f\"], [0.2222222222222222, \"#7201a8\"], [0.3333333333333333, \"#9c179e\"], [0.4444444444444444, \"#bd3786\"], [0.5555555555555556, \"#d8576b\"], [0.6666666666666666, \"#ed7953\"], [0.7777777777777778, \"#fb9f3a\"], [0.8888888888888888, \"#fdca26\"], [1.0, \"#f0f921\"]], \"type\": \"heatmap\"}], \"heatmapgl\": [{\"colorbar\": {\"outlinewidth\": 0, \"ticks\": \"\"}, \"colorscale\": [[0.0, \"#0d0887\"], [0.1111111111111111, \"#46039f\"], [0.2222222222222222, \"#7201a8\"], [0.3333333333333333, \"#9c179e\"], [0.4444444444444444, \"#bd3786\"], [0.5555555555555556, \"#d8576b\"], [0.6666666666666666, \"#ed7953\"], [0.7777777777777778, \"#fb9f3a\"], [0.8888888888888888, \"#fdca26\"], [1.0, \"#f0f921\"]], \"type\": \"heatmapgl\"}], \"histogram\": [{\"marker\": {\"colorbar\": {\"outlinewidth\": 0, \"ticks\": \"\"}}, \"type\": \"histogram\"}], \"histogram2d\": [{\"colorbar\": {\"outlinewidth\": 0, \"ticks\": \"\"}, \"colorscale\": [[0.0, \"#0d0887\"], [0.1111111111111111, \"#46039f\"], [0.2222222222222222, \"#7201a8\"], [0.3333333333333333, \"#9c179e\"], [0.4444444444444444, \"#bd3786\"], [0.5555555555555556, \"#d8576b\"], [0.6666666666666666, \"#ed7953\"], [0.7777777777777778, \"#fb9f3a\"], [0.8888888888888888, \"#fdca26\"], [1.0, \"#f0f921\"]], \"type\": \"histogram2d\"}], \"histogram2dcontour\": [{\"colorbar\": {\"outlinewidth\": 0, \"ticks\": \"\"}, \"colorscale\": [[0.0, \"#0d0887\"], [0.1111111111111111, \"#46039f\"], [0.2222222222222222, \"#7201a8\"], [0.3333333333333333, \"#9c179e\"], [0.4444444444444444, \"#bd3786\"], [0.5555555555555556, \"#d8576b\"], [0.6666666666666666, \"#ed7953\"], [0.7777777777777778, \"#fb9f3a\"], [0.8888888888888888, \"#fdca26\"], [1.0, \"#f0f921\"]], \"type\": \"histogram2dcontour\"}], \"mesh3d\": [{\"colorbar\": {\"outlinewidth\": 0, \"ticks\": \"\"}, \"type\": \"mesh3d\"}], \"parcoords\": [{\"line\": {\"colorbar\": {\"outlinewidth\": 0, \"ticks\": \"\"}}, \"type\": \"parcoords\"}], \"pie\": [{\"automargin\": true, \"type\": \"pie\"}], \"scatter\": [{\"marker\": {\"colorbar\": {\"outlinewidth\": 0, \"ticks\": \"\"}}, \"type\": \"scatter\"}], \"scatter3d\": [{\"line\": {\"colorbar\": {\"outlinewidth\": 0, \"ticks\": \"\"}}, \"marker\": {\"colorbar\": {\"outlinewidth\": 0, \"ticks\": \"\"}}, \"type\": \"scatter3d\"}], \"scattercarpet\": [{\"marker\": {\"colorbar\": {\"outlinewidth\": 0, \"ticks\": \"\"}}, \"type\": \"scattercarpet\"}], \"scattergeo\": [{\"marker\": {\"colorbar\": {\"outlinewidth\": 0, \"ticks\": \"\"}}, \"type\": \"scattergeo\"}], \"scattergl\": [{\"marker\": {\"colorbar\": {\"outlinewidth\": 0, \"ticks\": \"\"}}, \"type\": \"scattergl\"}], \"scattermapbox\": [{\"marker\": {\"colorbar\": {\"outlinewidth\": 0, \"ticks\": \"\"}}, \"type\": \"scattermapbox\"}], \"scatterpolar\": [{\"marker\": {\"colorbar\": {\"outlinewidth\": 0, \"ticks\": \"\"}}, \"type\": \"scatterpolar\"}], \"scatterpolargl\": [{\"marker\": {\"colorbar\": {\"outlinewidth\": 0, \"ticks\": \"\"}}, \"type\": \"scatterpolargl\"}], \"scatterternary\": [{\"marker\": {\"colorbar\": {\"outlinewidth\": 0, \"ticks\": \"\"}}, \"type\": \"scatterternary\"}], \"surface\": [{\"colorbar\": {\"outlinewidth\": 0, \"ticks\": \"\"}, \"colorscale\": [[0.0, \"#0d0887\"], [0.1111111111111111, \"#46039f\"], [0.2222222222222222, \"#7201a8\"], [0.3333333333333333, \"#9c179e\"], [0.4444444444444444, \"#bd3786\"], [0.5555555555555556, \"#d8576b\"], [0.6666666666666666, \"#ed7953\"], [0.7777777777777778, \"#fb9f3a\"], [0.8888888888888888, \"#fdca26\"], [1.0, \"#f0f921\"]], \"type\": \"surface\"}], \"table\": [{\"cells\": {\"fill\": {\"color\": \"#EBF0F8\"}, \"line\": {\"color\": \"white\"}}, \"header\": {\"fill\": {\"color\": \"#C8D4E3\"}, \"line\": {\"color\": \"white\"}}, \"type\": \"table\"}]}, \"layout\": {\"annotationdefaults\": {\"arrowcolor\": \"#2a3f5f\", \"arrowhead\": 0, \"arrowwidth\": 1}, \"coloraxis\": {\"colorbar\": {\"outlinewidth\": 0, \"ticks\": \"\"}}, \"colorscale\": {\"diverging\": [[0, \"#8e0152\"], [0.1, \"#c51b7d\"], [0.2, \"#de77ae\"], [0.3, \"#f1b6da\"], [0.4, \"#fde0ef\"], [0.5, \"#f7f7f7\"], [0.6, \"#e6f5d0\"], [0.7, \"#b8e186\"], [0.8, \"#7fbc41\"], [0.9, \"#4d9221\"], [1, \"#276419\"]], \"sequential\": [[0.0, \"#0d0887\"], [0.1111111111111111, \"#46039f\"], [0.2222222222222222, \"#7201a8\"], [0.3333333333333333, \"#9c179e\"], [0.4444444444444444, \"#bd3786\"], [0.5555555555555556, \"#d8576b\"], [0.6666666666666666, \"#ed7953\"], [0.7777777777777778, \"#fb9f3a\"], [0.8888888888888888, \"#fdca26\"], [1.0, \"#f0f921\"]], \"sequentialminus\": [[0.0, \"#0d0887\"], [0.1111111111111111, \"#46039f\"], [0.2222222222222222, \"#7201a8\"], [0.3333333333333333, \"#9c179e\"], [0.4444444444444444, \"#bd3786\"], [0.5555555555555556, \"#d8576b\"], [0.6666666666666666, \"#ed7953\"], [0.7777777777777778, \"#fb9f3a\"], [0.8888888888888888, \"#fdca26\"], [1.0, \"#f0f921\"]]}, \"colorway\": [\"#636efa\", \"#EF553B\", \"#00cc96\", \"#ab63fa\", \"#FFA15A\", \"#19d3f3\", \"#FF6692\", \"#B6E880\", \"#FF97FF\", \"#FECB52\"], \"font\": {\"color\": \"#2a3f5f\"}, \"geo\": {\"bgcolor\": \"white\", \"lakecolor\": \"white\", \"landcolor\": \"#E5ECF6\", \"showlakes\": true, \"showland\": true, \"subunitcolor\": \"white\"}, \"hoverlabel\": {\"align\": \"left\"}, \"hovermode\": \"closest\", \"mapbox\": {\"style\": \"light\"}, \"paper_bgcolor\": \"white\", \"plot_bgcolor\": \"#E5ECF6\", \"polar\": {\"angularaxis\": {\"gridcolor\": \"white\", \"linecolor\": \"white\", \"ticks\": \"\"}, \"bgcolor\": \"#E5ECF6\", \"radialaxis\": {\"gridcolor\": \"white\", \"linecolor\": \"white\", \"ticks\": \"\"}}, \"scene\": {\"xaxis\": {\"backgroundcolor\": \"#E5ECF6\", \"gridcolor\": \"white\", \"gridwidth\": 2, \"linecolor\": \"white\", \"showbackground\": true, \"ticks\": \"\", \"zerolinecolor\": \"white\"}, \"yaxis\": {\"backgroundcolor\": \"#E5ECF6\", \"gridcolor\": \"white\", \"gridwidth\": 2, \"linecolor\": \"white\", \"showbackground\": true, \"ticks\": \"\", \"zerolinecolor\": \"white\"}, \"zaxis\": {\"backgroundcolor\": \"#E5ECF6\", \"gridcolor\": \"white\", \"gridwidth\": 2, \"linecolor\": \"white\", \"showbackground\": true, \"ticks\": \"\", \"zerolinecolor\": \"white\"}}, \"shapedefaults\": {\"line\": {\"color\": \"#2a3f5f\"}}, \"ternary\": {\"aaxis\": {\"gridcolor\": \"white\", \"linecolor\": \"white\", \"ticks\": \"\"}, \"baxis\": {\"gridcolor\": \"white\", \"linecolor\": \"white\", \"ticks\": \"\"}, \"bgcolor\": \"#E5ECF6\", \"caxis\": {\"gridcolor\": \"white\", \"linecolor\": \"white\", \"ticks\": \"\"}}, \"title\": {\"x\": 0.05}, \"xaxis\": {\"automargin\": true, \"gridcolor\": \"white\", \"linecolor\": \"white\", \"ticks\": \"\", \"title\": {\"standoff\": 15}, \"zerolinecolor\": \"white\", \"zerolinewidth\": 2}, \"yaxis\": {\"automargin\": true, \"gridcolor\": \"white\", \"linecolor\": \"white\", \"ticks\": \"\", \"title\": {\"standoff\": 15}, \"zerolinecolor\": \"white\", \"zerolinewidth\": 2}}}},\n",
       "                        {\"responsive\": true}\n",
       "                    ).then(function(){\n",
       "                            \n",
       "var gd = document.getElementById('9c74f63c-1f2c-48ee-b2a1-4b79dea304b2');\n",
       "var x = new MutationObserver(function (mutations, observer) {{\n",
       "        var display = window.getComputedStyle(gd).display;\n",
       "        if (!display || display === 'none') {{\n",
       "            console.log([gd, 'removed!']);\n",
       "            Plotly.purge(gd);\n",
       "            observer.disconnect();\n",
       "        }}\n",
       "}});\n",
       "\n",
       "// Listen for the removal of the full notebook cells\n",
       "var notebookContainer = gd.closest('#notebook-container');\n",
       "if (notebookContainer) {{\n",
       "    x.observe(notebookContainer, {childList: true});\n",
       "}}\n",
       "\n",
       "// Listen for the clearing of the current output cell\n",
       "var outputEl = gd.closest('.output');\n",
       "if (outputEl) {{\n",
       "    x.observe(outputEl, {childList: true});\n",
       "}}\n",
       "\n",
       "                        })\n",
       "                };\n",
       "                });\n",
       "            </script>\n",
       "        </div>"
      ]
     },
     "metadata": {},
     "output_type": "display_data"
    }
   ],
   "source": [
    "k = 'bva'\n",
    "tdf = df.sort_index(ascending=False)#[:10]\n",
    "fig = px.parallel_coordinates(tdf, color=k,\n",
    "              dimensions=['combine_chance', 'crossover_chance', 'mutate_chance', 'exp_power',\n",
    "                         #'dec_f0','dec_f1','dec_f2','dec_f3',\n",
    "                          'bva'],\n",
    "              color_continuous_scale=px.colors.diverging.Tealrose,\n",
    "              range_color=[0.5,df[k].max()],\n",
    "              color_continuous_midpoint=.55)\n",
    "fig.show()"
   ]
  },
  {
   "cell_type": "code",
   "execution_count": 81,
   "metadata": {
    "ExecuteTime": {
     "end_time": "2020-05-20T09:41:33.876069Z",
     "start_time": "2020-05-20T09:41:33.868340Z"
    },
    "execution": {
     "iopub.execute_input": "2020-05-19T15:49:20.893257Z",
     "iopub.status.busy": "2020-05-19T15:49:20.892982Z",
     "iopub.status.idle": "2020-05-19T15:49:20.896419Z",
     "shell.execute_reply": "2020-05-19T15:49:20.895864Z",
     "shell.execute_reply.started": "2020-05-19T15:49:20.893221Z"
    }
   },
   "outputs": [],
   "source": [
    "plot_df = df[:1]\n",
    "top = df.sort_values(by='bva', ascending=False)[:10]\n",
    "plot_df = pd.concat([plot_df,top])"
   ]
  },
  {
   "cell_type": "code",
   "execution_count": 83,
   "metadata": {
    "ExecuteTime": {
     "end_time": "2020-05-20T09:41:51.580347Z",
     "start_time": "2020-05-20T09:41:51.206181Z"
    },
    "execution": {
     "iopub.execute_input": "2020-05-19T15:49:49.019440Z",
     "iopub.status.busy": "2020-05-19T15:49:49.019144Z",
     "iopub.status.idle": "2020-05-19T15:49:50.922459Z",
     "shell.execute_reply": "2020-05-19T15:49:50.921879Z",
     "shell.execute_reply.started": "2020-05-19T15:49:49.019402Z"
    }
   },
   "outputs": [
    {
     "data": {
      "image/png": "[encoded data removed]",
      "text/plain": [
       "<Figure size 1080x576 with 1 Axes>"
      ]
     },
     "metadata": {
      "needs_background": "light"
     },
     "output_type": "display_data"
    }
   ],
   "source": [
    "rs = bp.exps\n",
    "f, a = plt.subplots(1, figsize=(15,8))\n",
    "#l_lim, r_lim = 0, 1000\n",
    "\n",
    "rsp = [r for r in rs if r.name in plot_df.name.values]\n",
    "\n",
    "[plot_run(r, col='acc', ax=a, window=30) for r in rsp]\n",
    "\n",
    "#a.legend([r.name for r in rsp])\n",
    "a.legend(['Validation', 'Train'])\n",
    "\n",
    "#a.set_xticks(np.arange(l_lim, 700, 10))\n",
    "#a.set_yticks(np.arange(0.1, .9, 0.05))\n",
    "plt.ylim(0,.65)\n",
    "plt.grid()"
   ]
  },
  {
   "cell_type": "code",
   "execution_count": null,
   "metadata": {},
   "outputs": [],
   "source": []
  },
  {
   "cell_type": "code",
   "execution_count": null,
   "metadata": {},
   "outputs": [],
   "source": []
  },
  {
   "cell_type": "markdown",
   "metadata": {
    "execution": {
     "iopub.execute_input": "2020-05-15T08:17:13.031204Z",
     "iopub.status.busy": "2020-05-15T08:17:13.030909Z",
     "iopub.status.idle": "2020-05-15T08:17:13.033826Z",
     "shell.execute_reply": "2020-05-15T08:17:13.033386Z",
     "shell.execute_reply.started": "2020-05-15T08:17:13.031167Z"
    }
   },
   "source": [
    "# Exports"
   ]
  },
  {
   "cell_type": "code",
   "execution_count": 11,
   "metadata": {
    "ExecuteTime": {
     "end_time": "2020-05-15T19:27:58.095241Z",
     "start_time": "2020-05-15T19:27:57.909654Z"
    },
    "execution": {
     "iopub.execute_input": "2020-05-18T12:52:57.059387Z",
     "iopub.status.busy": "2020-05-18T12:52:57.059067Z",
     "iopub.status.idle": "2020-05-18T12:52:57.283215Z",
     "shell.execute_reply": "2020-05-18T12:52:57.282636Z",
     "shell.execute_reply.started": "2020-05-18T12:52:57.059330Z"
    }
   },
   "outputs": [
    {
     "name": "stdout",
     "output_type": "stream",
     "text": [
      "Converted gen_exp.ipynb to exp/nb_gen_exp.py\n"
     ]
    }
   ],
   "source": [
    "!python3 extra/n2s.py gen_exp.ipynb "
   ]
  },
  {
   "cell_type": "code",
   "execution_count": null,
   "metadata": {},
   "outputs": [],
   "source": []
  }
 ],
 "metadata": {
  "kernelspec": {
   "display_name": "Python 3",
   "language": "python",
   "name": "python3"
  },
  "language_info": {
   "codemirror_mode": {
    "name": "ipython",
    "version": 3
   },
   "file_extension": ".py",
   "mimetype": "text/x-python",
   "name": "python",
   "nbconvert_exporter": "python",
   "pygments_lexer": "ipython3",
   "version": "3.6.9"
  }
 },
 "nbformat": 4,
 "nbformat_minor": 4
}
