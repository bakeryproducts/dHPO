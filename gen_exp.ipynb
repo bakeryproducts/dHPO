{
 "cells": [
  {
   "cell_type": "markdown",
   "metadata": {
    "execution": {
     "iopub.execute_input": "2020-05-15T08:06:55.997152Z",
     "iopub.status.busy": "2020-05-15T08:06:55.996856Z",
     "iopub.status.idle": "2020-05-15T08:06:55.999717Z",
     "shell.execute_reply": "2020-05-15T08:06:55.999268Z",
     "shell.execute_reply.started": "2020-05-15T08:06:55.997118Z"
    }
   },
   "source": [
    "# Imports"
   ]
  },
  {
   "cell_type": "code",
   "execution_count": 1,
   "metadata": {
    "ExecuteTime": {
     "end_time": "2020-05-18T13:12:36.105909Z",
     "start_time": "2020-05-18T13:12:35.812881Z"
    },
    "execution": {
     "iopub.execute_input": "2020-05-18T12:52:48.947016Z",
     "iopub.status.busy": "2020-05-18T12:52:48.946844Z",
     "iopub.status.idle": "2020-05-18T12:52:49.287521Z",
     "shell.execute_reply": "2020-05-18T12:52:49.286148Z",
     "shell.execute_reply.started": "2020-05-18T12:52:48.946987Z"
    }
   },
   "outputs": [],
   "source": [
    "#export\n",
    "import os\n",
    "import sys\n",
    "sys.path.append(os.path.join(os.getcwd(),'exp'))\n",
    "\n",
    "import json\n",
    "import yaml\n",
    "import datetime\n",
    "import collections\n",
    "from pathlib import Path\n",
    "from collections import OrderedDict\n",
    "\n",
    "import numpy as np\n",
    "import pandas as pd\n",
    "from nb_base_exp import *#BaseExperiment, BaseProject, load_txt_log\n"
   ]
  },
  {
   "cell_type": "code",
   "execution_count": 2,
   "metadata": {
    "ExecuteTime": {
     "end_time": "2020-05-18T13:12:36.475905Z",
     "start_time": "2020-05-18T13:12:36.107222Z"
    },
    "execution": {
     "iopub.execute_input": "2020-05-18T12:52:49.290445Z",
     "iopub.status.busy": "2020-05-18T12:52:49.289946Z",
     "iopub.status.idle": "2020-05-18T12:52:49.707991Z",
     "shell.execute_reply": "2020-05-18T12:52:49.707372Z",
     "shell.execute_reply.started": "2020-05-18T12:52:49.290365Z"
    }
   },
   "outputs": [],
   "source": [
    "import plotly.express as px\n",
    "import shutil"
   ]
  },
  {
   "cell_type": "code",
   "execution_count": 3,
   "metadata": {
    "ExecuteTime": {
     "end_time": "2020-05-18T13:12:36.483340Z",
     "start_time": "2020-05-18T13:12:36.477328Z"
    },
    "execution": {
     "iopub.execute_input": "2020-05-18T12:52:49.709618Z",
     "iopub.status.busy": "2020-05-18T12:52:49.709343Z",
     "iopub.status.idle": "2020-05-18T12:52:49.716997Z",
     "shell.execute_reply": "2020-05-18T12:52:49.716460Z",
     "shell.execute_reply.started": "2020-05-18T12:52:49.709571Z"
    }
   },
   "outputs": [
    {
     "data": {
      "text/html": [
       "<style>.container { width:95% !important; }</style>"
      ],
      "text/plain": [
       "<IPython.core.display.HTML object>"
      ]
     },
     "metadata": {},
     "output_type": "display_data"
    }
   ],
   "source": [
    "from IPython.core.display import display, HTML\n",
    "display(HTML(\"<style>.container { width:95% !important; }</style>\"))"
   ]
  },
  {
   "cell_type": "markdown",
   "metadata": {},
   "source": [
    "# Code"
   ]
  },
  {
   "cell_type": "code",
   "execution_count": 4,
   "metadata": {
    "ExecuteTime": {
     "end_time": "2020-05-18T13:12:36.624372Z",
     "start_time": "2020-05-18T13:12:36.613931Z"
    },
    "execution": {
     "iopub.execute_input": "2020-05-18T12:52:49.718367Z",
     "iopub.status.busy": "2020-05-18T12:52:49.718097Z",
     "iopub.status.idle": "2020-05-18T12:52:49.727476Z",
     "shell.execute_reply": "2020-05-18T12:52:49.726966Z",
     "shell.execute_reply.started": "2020-05-18T12:52:49.718321Z"
    }
   },
   "outputs": [],
   "source": [
    "#export\n",
    "def load_log(path):\n",
    "    columns = ['date','epoch','acc','val_acc']\n",
    "    types = [str, np.int32, np.float32, np.float32]\n",
    "    log_path = list(path.rglob('*/*/log.txt'))[0]\n",
    "\n",
    "    _, logs = load_txt_log(path=log_path, types=types)\n",
    "\n",
    "    df = pd.DataFrame(logs, columns=columns)\n",
    "    df.dropna(inplace=True)\n",
    "    df = df.astype(dict(zip(columns, types)))\n",
    "\n",
    "    df['val_acc'].replace(-1., np.NaN, inplace=True)\n",
    "    df.fillna(method='ffill', inplace=True)\n",
    "    df.set_index('epoch', inplace=True)\n",
    "    timeDF=(pd.to_datetime(df['date'].str.strip(), format='%H:%M:%S'))\n",
    "    del df['date']# = timeDF\n",
    "    df['duration'] = timeDF - timeDF[0]\n",
    "    return df\n",
    "\n",
    "def load_yaml_cfg(path):\n",
    "    params_path = list(path.rglob('*/*/train.yaml'))[0]\n",
    "    with open(params_path, 'r') as f:\n",
    "        d = yaml.safe_load(f)\n",
    "    d = flatten(d)\n",
    "    d = OrderedDict(sorted(d.items(), key=lambda x:x[0], reverse=False))\n",
    "    return d\n",
    "\n",
    "def load_json_cfg(path):\n",
    "    params_path = list(path.rglob('*/*/params.json'))[0]\n",
    "    with open(params_path, 'r') as f:\n",
    "        d = json.load(f)\n",
    "    d = flatten(d)\n",
    "    d = OrderedDict(sorted(d.items(), key=lambda x:x[0], reverse=False))\n",
    "    return d\n",
    "\n",
    "def load_cfg(*args, **kwargs):\n",
    "    return load_json_cfg(*args, **kwargs)\n",
    "\n",
    "def check_valid(cpath):\n",
    "    flag_files = set(['log.txt', 'params.json'])\n",
    "    where_to_look = 'output'\n",
    "    output = list(Path(cpath).rglob(where_to_look))\n",
    "    files=[]\n",
    "    if output:\n",
    "        files = list(output[0].glob('*/*'))\n",
    "\n",
    "    return flag_files.issubset(set([f.name for f in files]))\n",
    "\n"
   ]
  },
  {
   "cell_type": "code",
   "execution_count": 119,
   "metadata": {
    "ExecuteTime": {
     "end_time": "2020-05-18T19:10:58.179438Z",
     "start_time": "2020-05-18T19:10:58.171191Z"
    },
    "execution": {
     "iopub.execute_input": "2020-05-18T12:52:49.728737Z",
     "iopub.status.busy": "2020-05-18T12:52:49.728488Z",
     "iopub.status.idle": "2020-05-18T12:52:49.737209Z",
     "shell.execute_reply": "2020-05-18T12:52:49.736716Z",
     "shell.execute_reply.started": "2020-05-18T12:52:49.728693Z"
    }
   },
   "outputs": [],
   "source": [
    "#export\n",
    "class GenExperiment(BaseExperiment):\n",
    "    def __init__(self,  path):\n",
    "        super(GenExperiment, self).__init__(path, log_reader=load_log, cfg_reader=load_cfg)\n",
    "        self.start_time = self.parse_name()\n",
    "\n",
    "    def parse_name(self, prefix='run_'):\n",
    "        date = self.name.strip(prefix)#.rstrip('.lock')\n",
    "        start_time = datetime.datetime.strptime(date, '%Y_%b_%d_%H_%M_%S_%f')\n",
    "        return start_time\n",
    "\n",
    "    def total_time(self):\n",
    "        return self.log_data['duration'][self.__len__()-1]\n",
    "    \n",
    "class GenProject(BaseProject):\n",
    "    def __init__(self,  root):\n",
    "        super(GenProject, self).__init__(root, valid_func=check_valid, Experiment=GenExperiment)\n",
    "    \n",
    "    def extend_base(self):\n",
    "        dd = {}\n",
    "        for run in self.exps:\n",
    "            run_best = run.best(num=3, col='val_acc')\n",
    "            #run_best_pct = 100 - int( 100 * (run.total_time() - dur) / run.total_time())\n",
    "            d = {}\n",
    "            d['start'] = run.start_time\n",
    "            d['name'] = run.name\n",
    "            d['tt'] = run.total_time()\n",
    "            d['t2b'] = run_best['duration'].values[0]\n",
    "            d['ba'] = round(run_best.mean()[['acc']].values[0],3)\n",
    "            d['bva'] = round(run_best.mean()[['val_acc']].values[0],3)\n",
    "            d['la'] = round(run.log_data['acc'][-10:].mean(),3)\n",
    "            #d.update(**run.params)\n",
    "            dd[run.name] = d\n",
    "        #res_df = pd.DataFrame(results, columns=['Name','duration', 'LRM', 'best_acc', 'best_val', 'best_pct', *run.params.keys()])\n",
    "\n",
    "        df = pd.DataFrame(dd).T\n",
    "        df = pd.concat([df,self.base_table()], axis=1)\n",
    "        df.set_index('start', drop=True, inplace=True)\n",
    "#         for x in ['tt','t2b']:\n",
    "#             df[x] = pd.DatetimeIndex(df[x]).strftime(\"%H:%M:%S\")\n",
    "            \n",
    "        df['ba'] = df['ba'].astype(float)\n",
    "        df['la'] = df['la'].astype(float)\n",
    "        df['bva'] = df['bva'].astype(float)\n",
    "        df = df.round(4)\n",
    "        \n",
    "        \n",
    "        return df"
   ]
  },
  {
   "cell_type": "code",
   "execution_count": 120,
   "metadata": {
    "ExecuteTime": {
     "end_time": "2020-05-18T19:11:05.762345Z",
     "start_time": "2020-05-18T19:10:58.822043Z"
    },
    "execution": {
     "iopub.execute_input": "2020-05-18T12:52:49.738534Z",
     "iopub.status.busy": "2020-05-18T12:52:49.738276Z",
     "iopub.status.idle": "2020-05-18T12:52:56.359766Z",
     "shell.execute_reply": "2020-05-18T12:52:56.359010Z",
     "shell.execute_reply.started": "2020-05-18T12:52:49.738487Z"
    }
   },
   "outputs": [],
   "source": [
    "root = Path('.')/'cycler_runs'\n",
    "bp = GenProject(root)\n",
    "df = bp.extend_base()"
   ]
  },
  {
   "cell_type": "code",
   "execution_count": 121,
   "metadata": {
    "ExecuteTime": {
     "end_time": "2020-05-18T19:11:06.814805Z",
     "start_time": "2020-05-18T19:11:06.797918Z"
    },
    "execution": {
     "iopub.execute_input": "2020-05-18T12:52:56.361941Z",
     "iopub.status.busy": "2020-05-18T12:52:56.361706Z",
     "iopub.status.idle": "2020-05-18T12:52:56.380909Z",
     "shell.execute_reply": "2020-05-18T12:52:56.380482Z",
     "shell.execute_reply.started": "2020-05-18T12:52:56.361906Z"
    }
   },
   "outputs": [
    {
     "data": {
      "text/html": [
       "<div>\n",
       "<style scoped>\n",
       "    .dataframe tbody tr th:only-of-type {\n",
       "        vertical-align: middle;\n",
       "    }\n",
       "\n",
       "    .dataframe tbody tr th {\n",
       "        vertical-align: top;\n",
       "    }\n",
       "\n",
       "    .dataframe thead th {\n",
       "        text-align: right;\n",
       "    }\n",
       "</style>\n",
       "<table border=\"1\" class=\"dataframe\">\n",
       "  <thead>\n",
       "    <tr style=\"text-align: right;\">\n",
       "      <th></th>\n",
       "      <th>name</th>\n",
       "      <th>tt</th>\n",
       "      <th>t2b</th>\n",
       "      <th>ba</th>\n",
       "      <th>bva</th>\n",
       "      <th>la</th>\n",
       "      <th>combine_chance</th>\n",
       "      <th>crossover_chance</th>\n",
       "      <th>dec_f0</th>\n",
       "      <th>dec_f1</th>\n",
       "      <th>dec_f2</th>\n",
       "      <th>dec_f3</th>\n",
       "      <th>exp_power</th>\n",
       "      <th>generation_size</th>\n",
       "      <th>generations</th>\n",
       "      <th>mutate_chance</th>\n",
       "      <th>seed</th>\n",
       "      <th>subsample_size</th>\n",
       "    </tr>\n",
       "    <tr>\n",
       "      <th>start</th>\n",
       "      <th></th>\n",
       "      <th></th>\n",
       "      <th></th>\n",
       "      <th></th>\n",
       "      <th></th>\n",
       "      <th></th>\n",
       "      <th></th>\n",
       "      <th></th>\n",
       "      <th></th>\n",
       "      <th></th>\n",
       "      <th></th>\n",
       "      <th></th>\n",
       "      <th></th>\n",
       "      <th></th>\n",
       "      <th></th>\n",
       "      <th></th>\n",
       "      <th></th>\n",
       "      <th></th>\n",
       "    </tr>\n",
       "  </thead>\n",
       "  <tbody>\n",
       "    <tr>\n",
       "      <th>2020-05-18 22:06:34.357490</th>\n",
       "      <td>run_2020_May_18_22_06_34_357490</td>\n",
       "      <td>00:04:15</td>\n",
       "      <td>00:04:15</td>\n",
       "      <td>0.545</td>\n",
       "      <td>0.541</td>\n",
       "      <td>0.540</td>\n",
       "      <td>0.5</td>\n",
       "      <td>0.7453</td>\n",
       "      <td>12</td>\n",
       "      <td>10</td>\n",
       "      <td>8</td>\n",
       "      <td>6</td>\n",
       "      <td>10</td>\n",
       "      <td>200</td>\n",
       "      <td>200</td>\n",
       "      <td>0.003</td>\n",
       "      <td>0</td>\n",
       "      <td>50</td>\n",
       "    </tr>\n",
       "    <tr>\n",
       "      <th>2020-05-18 22:06:34.234891</th>\n",
       "      <td>run_2020_May_18_22_06_34_234891</td>\n",
       "      <td>00:04:13</td>\n",
       "      <td>00:04:13</td>\n",
       "      <td>0.545</td>\n",
       "      <td>0.536</td>\n",
       "      <td>0.537</td>\n",
       "      <td>0.5</td>\n",
       "      <td>0.7453</td>\n",
       "      <td>12</td>\n",
       "      <td>10</td>\n",
       "      <td>8</td>\n",
       "      <td>6</td>\n",
       "      <td>10</td>\n",
       "      <td>200</td>\n",
       "      <td>200</td>\n",
       "      <td>0.003</td>\n",
       "      <td>0</td>\n",
       "      <td>50</td>\n",
       "    </tr>\n",
       "    <tr>\n",
       "      <th>2020-05-18 22:06:22.254283</th>\n",
       "      <td>run_2020_May_18_22_06_22_254283</td>\n",
       "      <td>00:04:27</td>\n",
       "      <td>00:04:27</td>\n",
       "      <td>0.557</td>\n",
       "      <td>0.550</td>\n",
       "      <td>0.558</td>\n",
       "      <td>0.5</td>\n",
       "      <td>0.7453</td>\n",
       "      <td>12</td>\n",
       "      <td>10</td>\n",
       "      <td>8</td>\n",
       "      <td>6</td>\n",
       "      <td>10</td>\n",
       "      <td>200</td>\n",
       "      <td>200</td>\n",
       "      <td>0.003</td>\n",
       "      <td>0</td>\n",
       "      <td>50</td>\n",
       "    </tr>\n",
       "    <tr>\n",
       "      <th>2020-05-18 21:59:19.805000</th>\n",
       "      <td>run_2020_May_18_21_59_19_805000</td>\n",
       "      <td>00:06:59</td>\n",
       "      <td>00:06:59</td>\n",
       "      <td>0.556</td>\n",
       "      <td>0.570</td>\n",
       "      <td>0.563</td>\n",
       "      <td>0.5</td>\n",
       "      <td>0.7453</td>\n",
       "      <td>12</td>\n",
       "      <td>10</td>\n",
       "      <td>8</td>\n",
       "      <td>6</td>\n",
       "      <td>10</td>\n",
       "      <td>200</td>\n",
       "      <td>200</td>\n",
       "      <td>0.003</td>\n",
       "      <td>0</td>\n",
       "      <td>50</td>\n",
       "    </tr>\n",
       "    <tr>\n",
       "      <th>2020-05-18 21:59:13.812901</th>\n",
       "      <td>run_2020_May_18_21_59_13_812901</td>\n",
       "      <td>00:07:00</td>\n",
       "      <td>00:07:00</td>\n",
       "      <td>0.552</td>\n",
       "      <td>0.573</td>\n",
       "      <td>0.562</td>\n",
       "      <td>0.5</td>\n",
       "      <td>0.7453</td>\n",
       "      <td>12</td>\n",
       "      <td>10</td>\n",
       "      <td>8</td>\n",
       "      <td>6</td>\n",
       "      <td>10</td>\n",
       "      <td>200</td>\n",
       "      <td>200</td>\n",
       "      <td>0.003</td>\n",
       "      <td>0</td>\n",
       "      <td>50</td>\n",
       "    </tr>\n",
       "    <tr>\n",
       "      <th>2020-05-18 21:59:07.882861</th>\n",
       "      <td>run_2020_May_18_21_59_07_882861</td>\n",
       "      <td>00:06:57</td>\n",
       "      <td>00:06:57</td>\n",
       "      <td>0.547</td>\n",
       "      <td>0.571</td>\n",
       "      <td>0.550</td>\n",
       "      <td>0.5</td>\n",
       "      <td>0.7453</td>\n",
       "      <td>12</td>\n",
       "      <td>10</td>\n",
       "      <td>8</td>\n",
       "      <td>6</td>\n",
       "      <td>10</td>\n",
       "      <td>200</td>\n",
       "      <td>200</td>\n",
       "      <td>0.003</td>\n",
       "      <td>0</td>\n",
       "      <td>50</td>\n",
       "    </tr>\n",
       "    <tr>\n",
       "      <th>2020-05-18 21:52:01.413865</th>\n",
       "      <td>run_2020_May_18_21_52_01_413865</td>\n",
       "      <td>00:06:58</td>\n",
       "      <td>00:06:58</td>\n",
       "      <td>0.594</td>\n",
       "      <td>0.585</td>\n",
       "      <td>0.589</td>\n",
       "      <td>0.5</td>\n",
       "      <td>0.9900</td>\n",
       "      <td>12</td>\n",
       "      <td>10</td>\n",
       "      <td>8</td>\n",
       "      <td>6</td>\n",
       "      <td>10</td>\n",
       "      <td>200</td>\n",
       "      <td>200</td>\n",
       "      <td>0.003</td>\n",
       "      <td>0</td>\n",
       "      <td>50</td>\n",
       "    </tr>\n",
       "    <tr>\n",
       "      <th>2020-05-18 21:51:55.378618</th>\n",
       "      <td>run_2020_May_18_21_51_55_378618</td>\n",
       "      <td>00:06:59</td>\n",
       "      <td>00:05:58</td>\n",
       "      <td>0.603</td>\n",
       "      <td>0.575</td>\n",
       "      <td>0.584</td>\n",
       "      <td>0.5</td>\n",
       "      <td>0.9900</td>\n",
       "      <td>12</td>\n",
       "      <td>10</td>\n",
       "      <td>8</td>\n",
       "      <td>6</td>\n",
       "      <td>10</td>\n",
       "      <td>200</td>\n",
       "      <td>200</td>\n",
       "      <td>0.003</td>\n",
       "      <td>0</td>\n",
       "      <td>50</td>\n",
       "    </tr>\n",
       "    <tr>\n",
       "      <th>2020-05-18 21:51:49.400567</th>\n",
       "      <td>run_2020_May_18_21_51_49_400567</td>\n",
       "      <td>00:07:02</td>\n",
       "      <td>00:07:02</td>\n",
       "      <td>0.580</td>\n",
       "      <td>0.581</td>\n",
       "      <td>0.548</td>\n",
       "      <td>0.5</td>\n",
       "      <td>0.9900</td>\n",
       "      <td>12</td>\n",
       "      <td>10</td>\n",
       "      <td>8</td>\n",
       "      <td>6</td>\n",
       "      <td>10</td>\n",
       "      <td>200</td>\n",
       "      <td>200</td>\n",
       "      <td>0.003</td>\n",
       "      <td>0</td>\n",
       "      <td>50</td>\n",
       "    </tr>\n",
       "  </tbody>\n",
       "</table>\n",
       "</div>"
      ],
      "text/plain": [
       "                                                       name       tt      t2b  \\\n",
       "start                                                                           \n",
       "2020-05-18 22:06:34.357490  run_2020_May_18_22_06_34_357490 00:04:15 00:04:15   \n",
       "2020-05-18 22:06:34.234891  run_2020_May_18_22_06_34_234891 00:04:13 00:04:13   \n",
       "2020-05-18 22:06:22.254283  run_2020_May_18_22_06_22_254283 00:04:27 00:04:27   \n",
       "2020-05-18 21:59:19.805000  run_2020_May_18_21_59_19_805000 00:06:59 00:06:59   \n",
       "2020-05-18 21:59:13.812901  run_2020_May_18_21_59_13_812901 00:07:00 00:07:00   \n",
       "2020-05-18 21:59:07.882861  run_2020_May_18_21_59_07_882861 00:06:57 00:06:57   \n",
       "2020-05-18 21:52:01.413865  run_2020_May_18_21_52_01_413865 00:06:58 00:06:58   \n",
       "2020-05-18 21:51:55.378618  run_2020_May_18_21_51_55_378618 00:06:59 00:05:58   \n",
       "2020-05-18 21:51:49.400567  run_2020_May_18_21_51_49_400567 00:07:02 00:07:02   \n",
       "\n",
       "                               ba    bva     la  combine_chance  \\\n",
       "start                                                             \n",
       "2020-05-18 22:06:34.357490  0.545  0.541  0.540             0.5   \n",
       "2020-05-18 22:06:34.234891  0.545  0.536  0.537             0.5   \n",
       "2020-05-18 22:06:22.254283  0.557  0.550  0.558             0.5   \n",
       "2020-05-18 21:59:19.805000  0.556  0.570  0.563             0.5   \n",
       "2020-05-18 21:59:13.812901  0.552  0.573  0.562             0.5   \n",
       "2020-05-18 21:59:07.882861  0.547  0.571  0.550             0.5   \n",
       "2020-05-18 21:52:01.413865  0.594  0.585  0.589             0.5   \n",
       "2020-05-18 21:51:55.378618  0.603  0.575  0.584             0.5   \n",
       "2020-05-18 21:51:49.400567  0.580  0.581  0.548             0.5   \n",
       "\n",
       "                            crossover_chance  dec_f0  dec_f1  dec_f2  dec_f3  \\\n",
       "start                                                                          \n",
       "2020-05-18 22:06:34.357490            0.7453      12      10       8       6   \n",
       "2020-05-18 22:06:34.234891            0.7453      12      10       8       6   \n",
       "2020-05-18 22:06:22.254283            0.7453      12      10       8       6   \n",
       "2020-05-18 21:59:19.805000            0.7453      12      10       8       6   \n",
       "2020-05-18 21:59:13.812901            0.7453      12      10       8       6   \n",
       "2020-05-18 21:59:07.882861            0.7453      12      10       8       6   \n",
       "2020-05-18 21:52:01.413865            0.9900      12      10       8       6   \n",
       "2020-05-18 21:51:55.378618            0.9900      12      10       8       6   \n",
       "2020-05-18 21:51:49.400567            0.9900      12      10       8       6   \n",
       "\n",
       "                            exp_power  generation_size  generations  \\\n",
       "start                                                                 \n",
       "2020-05-18 22:06:34.357490         10              200          200   \n",
       "2020-05-18 22:06:34.234891         10              200          200   \n",
       "2020-05-18 22:06:22.254283         10              200          200   \n",
       "2020-05-18 21:59:19.805000         10              200          200   \n",
       "2020-05-18 21:59:13.812901         10              200          200   \n",
       "2020-05-18 21:59:07.882861         10              200          200   \n",
       "2020-05-18 21:52:01.413865         10              200          200   \n",
       "2020-05-18 21:51:55.378618         10              200          200   \n",
       "2020-05-18 21:51:49.400567         10              200          200   \n",
       "\n",
       "                            mutate_chance  seed  subsample_size  \n",
       "start                                                            \n",
       "2020-05-18 22:06:34.357490          0.003     0              50  \n",
       "2020-05-18 22:06:34.234891          0.003     0              50  \n",
       "2020-05-18 22:06:22.254283          0.003     0              50  \n",
       "2020-05-18 21:59:19.805000          0.003     0              50  \n",
       "2020-05-18 21:59:13.812901          0.003     0              50  \n",
       "2020-05-18 21:59:07.882861          0.003     0              50  \n",
       "2020-05-18 21:52:01.413865          0.003     0              50  \n",
       "2020-05-18 21:51:55.378618          0.003     0              50  \n",
       "2020-05-18 21:51:49.400567          0.003     0              50  "
      ]
     },
     "execution_count": 121,
     "metadata": {},
     "output_type": "execute_result"
    }
   ],
   "source": [
    "df.sort_index(ascending=False).head(9)#[['crossover_chance', 'bva']].values\n",
    "#df.sort_values('bva', ascending=False).head(10)"
   ]
  },
  {
   "cell_type": "code",
   "execution_count": 122,
   "metadata": {
    "ExecuteTime": {
     "end_time": "2020-05-18T19:11:08.652565Z",
     "start_time": "2020-05-18T19:11:08.647445Z"
    }
   },
   "outputs": [
    {
     "data": {
      "text/plain": [
       "Timedelta('4 days 00:52:25')"
      ]
     },
     "execution_count": 122,
     "metadata": {},
     "output_type": "execute_result"
    }
   ],
   "source": [
    "df['tt'].sum()"
   ]
  },
  {
   "cell_type": "code",
   "execution_count": 117,
   "metadata": {
    "ExecuteTime": {
     "end_time": "2020-05-18T19:10:28.210987Z",
     "start_time": "2020-05-18T19:10:28.206012Z"
    },
    "execution": {
     "iopub.execute_input": "2020-05-18T12:52:56.381918Z",
     "iopub.status.busy": "2020-05-18T12:52:56.381730Z",
     "iopub.status.idle": "2020-05-18T12:52:56.386110Z",
     "shell.execute_reply": "2020-05-18T12:52:56.385687Z",
     "shell.execute_reply.started": "2020-05-18T12:52:56.381889Z"
    }
   },
   "outputs": [
    {
     "data": {
      "text/plain": [
       "(514, 18)"
      ]
     },
     "execution_count": 117,
     "metadata": {},
     "output_type": "execute_result"
    }
   ],
   "source": [
    "df = df[df['ba']>.3]\n",
    "df.shape"
   ]
  },
  {
   "cell_type": "code",
   "execution_count": 113,
   "metadata": {
    "ExecuteTime": {
     "end_time": "2020-05-18T19:10:02.444097Z",
     "start_time": "2020-05-18T19:10:02.424597Z"
    },
    "execution": {
     "iopub.execute_input": "2020-05-18T12:52:56.386960Z",
     "iopub.status.busy": "2020-05-18T12:52:56.386784Z",
     "iopub.status.idle": "2020-05-18T12:52:56.390679Z",
     "shell.execute_reply": "2020-05-18T12:52:56.390265Z",
     "shell.execute_reply.started": "2020-05-18T12:52:56.386933Z"
    }
   },
   "outputs": [],
   "source": [
    "# df = df[df['ba']<.3]\n",
    "# df.shape\n",
    "# names = df.sort_index()['name'][:30].values\n",
    "# p = Path('./cycler_runs/')\n",
    "# for name in names:\n",
    "#     pi = p/name\n",
    "#     shutil.rmtree(pi)"
   ]
  },
  {
   "cell_type": "code",
   "execution_count": 88,
   "metadata": {
    "ExecuteTime": {
     "end_time": "2020-05-18T15:11:45.202803Z",
     "start_time": "2020-05-18T15:11:45.196510Z"
    }
   },
   "outputs": [
    {
     "data": {
      "text/plain": [
       "(0.5766190476190476, 0.005616726720040695)"
      ]
     },
     "execution_count": 88,
     "metadata": {},
     "output_type": "execute_result"
    }
   ],
   "source": [
    "r = ((df['crossover_chance'] == 0.9900) & (df['generations']==200))\n",
    "s = df[r]['bva']\n",
    "s.mean(), s.std()"
   ]
  },
  {
   "cell_type": "code",
   "execution_count": 93,
   "metadata": {
    "ExecuteTime": {
     "end_time": "2020-05-18T15:12:34.600968Z",
     "start_time": "2020-05-18T15:12:34.465512Z"
    },
    "scrolled": true
   },
   "outputs": [
    {
     "data": {
      "text/plain": [
       "<matplotlib.axes._subplots.AxesSubplot at 0x7fb9e1cd4a90>"
      ]
     },
     "execution_count": 93,
     "metadata": {},
     "output_type": "execute_result"
    },
    {
     "data": {
      "image/png": "[encoded data removed]",
      "text/plain": [
       "<Figure size 432x288 with 1 Axes>"
      ]
     },
     "metadata": {
      "needs_background": "light"
     },
     "output_type": "display_data"
    }
   ],
   "source": [
    "s.hist(bins=5)"
   ]
  },
  {
   "cell_type": "code",
   "execution_count": null,
   "metadata": {},
   "outputs": [],
   "source": []
  },
  {
   "cell_type": "code",
   "execution_count": 90,
   "metadata": {
    "ExecuteTime": {
     "end_time": "2020-05-18T15:11:53.123335Z",
     "start_time": "2020-05-18T15:11:53.100856Z"
    }
   },
   "outputs": [
    {
     "data": {
      "text/html": [
       "<div>\n",
       "<style scoped>\n",
       "    .dataframe tbody tr th:only-of-type {\n",
       "        vertical-align: middle;\n",
       "    }\n",
       "\n",
       "    .dataframe tbody tr th {\n",
       "        vertical-align: top;\n",
       "    }\n",
       "\n",
       "    .dataframe thead th {\n",
       "        text-align: right;\n",
       "    }\n",
       "</style>\n",
       "<table border=\"1\" class=\"dataframe\">\n",
       "  <thead>\n",
       "    <tr style=\"text-align: right;\">\n",
       "      <th></th>\n",
       "      <th>name</th>\n",
       "      <th>tt</th>\n",
       "      <th>t2b</th>\n",
       "      <th>ba</th>\n",
       "      <th>bva</th>\n",
       "      <th>la</th>\n",
       "      <th>combine_chance</th>\n",
       "      <th>crossover_chance</th>\n",
       "      <th>dec_f0</th>\n",
       "      <th>dec_f1</th>\n",
       "      <th>dec_f2</th>\n",
       "      <th>dec_f3</th>\n",
       "      <th>exp_power</th>\n",
       "      <th>generation_size</th>\n",
       "      <th>generations</th>\n",
       "      <th>mutate_chance</th>\n",
       "      <th>seed</th>\n",
       "      <th>subsample_size</th>\n",
       "    </tr>\n",
       "    <tr>\n",
       "      <th>start</th>\n",
       "      <th></th>\n",
       "      <th></th>\n",
       "      <th></th>\n",
       "      <th></th>\n",
       "      <th></th>\n",
       "      <th></th>\n",
       "      <th></th>\n",
       "      <th></th>\n",
       "      <th></th>\n",
       "      <th></th>\n",
       "      <th></th>\n",
       "      <th></th>\n",
       "      <th></th>\n",
       "      <th></th>\n",
       "      <th></th>\n",
       "      <th></th>\n",
       "      <th></th>\n",
       "      <th></th>\n",
       "    </tr>\n",
       "  </thead>\n",
       "  <tbody>\n",
       "    <tr>\n",
       "      <th>2020-05-18 18:06:27.329057</th>\n",
       "      <td>run_2020_May_18_18_06_27_329057</td>\n",
       "      <td>00:04:56</td>\n",
       "      <td>00:04:56</td>\n",
       "      <td>0.582</td>\n",
       "      <td>0.568</td>\n",
       "      <td>0.573</td>\n",
       "      <td>0.5</td>\n",
       "      <td>0.9900</td>\n",
       "      <td>12</td>\n",
       "      <td>10</td>\n",
       "      <td>8</td>\n",
       "      <td>6</td>\n",
       "      <td>10</td>\n",
       "      <td>200</td>\n",
       "      <td>200</td>\n",
       "      <td>0.003</td>\n",
       "      <td>0</td>\n",
       "      <td>50</td>\n",
       "    </tr>\n",
       "    <tr>\n",
       "      <th>2020-05-18 17:59:07.094358</th>\n",
       "      <td>run_2020_May_18_17_59_07_094358</td>\n",
       "      <td>00:07:02</td>\n",
       "      <td>00:06:33</td>\n",
       "      <td>0.562</td>\n",
       "      <td>0.582</td>\n",
       "      <td>0.599</td>\n",
       "      <td>0.5</td>\n",
       "      <td>0.9900</td>\n",
       "      <td>12</td>\n",
       "      <td>10</td>\n",
       "      <td>8</td>\n",
       "      <td>6</td>\n",
       "      <td>10</td>\n",
       "      <td>200</td>\n",
       "      <td>200</td>\n",
       "      <td>0.003</td>\n",
       "      <td>0</td>\n",
       "      <td>50</td>\n",
       "    </tr>\n",
       "    <tr>\n",
       "      <th>2020-05-18 17:59:07.020744</th>\n",
       "      <td>run_2020_May_18_17_59_07_020744</td>\n",
       "      <td>00:07:00</td>\n",
       "      <td>00:06:23</td>\n",
       "      <td>0.601</td>\n",
       "      <td>0.584</td>\n",
       "      <td>0.582</td>\n",
       "      <td>0.5</td>\n",
       "      <td>0.9900</td>\n",
       "      <td>12</td>\n",
       "      <td>10</td>\n",
       "      <td>8</td>\n",
       "      <td>6</td>\n",
       "      <td>10</td>\n",
       "      <td>200</td>\n",
       "      <td>200</td>\n",
       "      <td>0.003</td>\n",
       "      <td>0</td>\n",
       "      <td>50</td>\n",
       "    </tr>\n",
       "    <tr>\n",
       "      <th>2020-05-18 17:59:06.983681</th>\n",
       "      <td>run_2020_May_18_17_59_06_983681</td>\n",
       "      <td>00:07:00</td>\n",
       "      <td>00:06:37</td>\n",
       "      <td>0.588</td>\n",
       "      <td>0.573</td>\n",
       "      <td>0.593</td>\n",
       "      <td>0.5</td>\n",
       "      <td>0.9900</td>\n",
       "      <td>12</td>\n",
       "      <td>10</td>\n",
       "      <td>8</td>\n",
       "      <td>6</td>\n",
       "      <td>10</td>\n",
       "      <td>200</td>\n",
       "      <td>200</td>\n",
       "      <td>0.003</td>\n",
       "      <td>0</td>\n",
       "      <td>50</td>\n",
       "    </tr>\n",
       "    <tr>\n",
       "      <th>2020-05-18 17:51:48.494611</th>\n",
       "      <td>run_2020_May_18_17_51_48_494611</td>\n",
       "      <td>00:06:59</td>\n",
       "      <td>00:06:30</td>\n",
       "      <td>0.590</td>\n",
       "      <td>0.580</td>\n",
       "      <td>0.574</td>\n",
       "      <td>0.5</td>\n",
       "      <td>0.9900</td>\n",
       "      <td>12</td>\n",
       "      <td>10</td>\n",
       "      <td>8</td>\n",
       "      <td>6</td>\n",
       "      <td>10</td>\n",
       "      <td>200</td>\n",
       "      <td>200</td>\n",
       "      <td>0.003</td>\n",
       "      <td>0</td>\n",
       "      <td>50</td>\n",
       "    </tr>\n",
       "    <tr>\n",
       "      <th>2020-05-18 17:51:48.446639</th>\n",
       "      <td>run_2020_May_18_17_51_48_446639</td>\n",
       "      <td>00:07:00</td>\n",
       "      <td>00:07:00</td>\n",
       "      <td>0.562</td>\n",
       "      <td>0.572</td>\n",
       "      <td>0.578</td>\n",
       "      <td>0.5</td>\n",
       "      <td>0.9900</td>\n",
       "      <td>12</td>\n",
       "      <td>10</td>\n",
       "      <td>8</td>\n",
       "      <td>6</td>\n",
       "      <td>10</td>\n",
       "      <td>200</td>\n",
       "      <td>200</td>\n",
       "      <td>0.003</td>\n",
       "      <td>0</td>\n",
       "      <td>50</td>\n",
       "    </tr>\n",
       "    <tr>\n",
       "      <th>2020-05-18 17:51:42.427193</th>\n",
       "      <td>run_2020_May_18_17_51_42_427193</td>\n",
       "      <td>00:07:04</td>\n",
       "      <td>00:07:04</td>\n",
       "      <td>0.583</td>\n",
       "      <td>0.579</td>\n",
       "      <td>0.578</td>\n",
       "      <td>0.5</td>\n",
       "      <td>0.9900</td>\n",
       "      <td>12</td>\n",
       "      <td>10</td>\n",
       "      <td>8</td>\n",
       "      <td>6</td>\n",
       "      <td>10</td>\n",
       "      <td>200</td>\n",
       "      <td>200</td>\n",
       "      <td>0.003</td>\n",
       "      <td>0</td>\n",
       "      <td>50</td>\n",
       "    </tr>\n",
       "    <tr>\n",
       "      <th>2020-05-18 17:44:29.975177</th>\n",
       "      <td>run_2020_May_18_17_44_29_975177</td>\n",
       "      <td>00:06:58</td>\n",
       "      <td>00:06:58</td>\n",
       "      <td>0.553</td>\n",
       "      <td>0.566</td>\n",
       "      <td>0.558</td>\n",
       "      <td>0.5</td>\n",
       "      <td>0.6046</td>\n",
       "      <td>12</td>\n",
       "      <td>10</td>\n",
       "      <td>8</td>\n",
       "      <td>6</td>\n",
       "      <td>10</td>\n",
       "      <td>200</td>\n",
       "      <td>200</td>\n",
       "      <td>0.003</td>\n",
       "      <td>0</td>\n",
       "      <td>50</td>\n",
       "    </tr>\n",
       "    <tr>\n",
       "      <th>2020-05-18 17:44:29.906910</th>\n",
       "      <td>run_2020_May_18_17_44_29_906910</td>\n",
       "      <td>00:06:59</td>\n",
       "      <td>00:06:36</td>\n",
       "      <td>0.568</td>\n",
       "      <td>0.570</td>\n",
       "      <td>0.547</td>\n",
       "      <td>0.5</td>\n",
       "      <td>0.6640</td>\n",
       "      <td>12</td>\n",
       "      <td>10</td>\n",
       "      <td>8</td>\n",
       "      <td>6</td>\n",
       "      <td>10</td>\n",
       "      <td>200</td>\n",
       "      <td>200</td>\n",
       "      <td>0.003</td>\n",
       "      <td>0</td>\n",
       "      <td>50</td>\n",
       "    </tr>\n",
       "    <tr>\n",
       "      <th>2020-05-18 17:44:29.875870</th>\n",
       "      <td>run_2020_May_18_17_44_29_875870</td>\n",
       "      <td>00:06:56</td>\n",
       "      <td>00:06:56</td>\n",
       "      <td>0.568</td>\n",
       "      <td>0.553</td>\n",
       "      <td>0.556</td>\n",
       "      <td>0.5</td>\n",
       "      <td>0.3757</td>\n",
       "      <td>12</td>\n",
       "      <td>10</td>\n",
       "      <td>8</td>\n",
       "      <td>6</td>\n",
       "      <td>10</td>\n",
       "      <td>200</td>\n",
       "      <td>200</td>\n",
       "      <td>0.003</td>\n",
       "      <td>0</td>\n",
       "      <td>50</td>\n",
       "    </tr>\n",
       "    <tr>\n",
       "      <th>2020-05-18 17:34:51.296537</th>\n",
       "      <td>run_2020_May_18_17_34_51_296537</td>\n",
       "      <td>00:07:01</td>\n",
       "      <td>00:06:21</td>\n",
       "      <td>0.600</td>\n",
       "      <td>0.576</td>\n",
       "      <td>0.580</td>\n",
       "      <td>0.5</td>\n",
       "      <td>0.9900</td>\n",
       "      <td>12</td>\n",
       "      <td>10</td>\n",
       "      <td>8</td>\n",
       "      <td>6</td>\n",
       "      <td>10</td>\n",
       "      <td>200</td>\n",
       "      <td>200</td>\n",
       "      <td>0.003</td>\n",
       "      <td>0</td>\n",
       "      <td>50</td>\n",
       "    </tr>\n",
       "    <tr>\n",
       "      <th>2020-05-18 17:27:26.876569</th>\n",
       "      <td>run_2020_May_18_17_27_26_876569</td>\n",
       "      <td>00:07:05</td>\n",
       "      <td>00:07:05</td>\n",
       "      <td>0.578</td>\n",
       "      <td>0.573</td>\n",
       "      <td>0.580</td>\n",
       "      <td>0.5</td>\n",
       "      <td>0.9900</td>\n",
       "      <td>12</td>\n",
       "      <td>10</td>\n",
       "      <td>8</td>\n",
       "      <td>6</td>\n",
       "      <td>10</td>\n",
       "      <td>200</td>\n",
       "      <td>200</td>\n",
       "      <td>0.003</td>\n",
       "      <td>0</td>\n",
       "      <td>50</td>\n",
       "    </tr>\n",
       "    <tr>\n",
       "      <th>2020-05-18 17:20:06.379342</th>\n",
       "      <td>run_2020_May_18_17_20_06_379342</td>\n",
       "      <td>00:07:01</td>\n",
       "      <td>00:06:02</td>\n",
       "      <td>0.600</td>\n",
       "      <td>0.582</td>\n",
       "      <td>0.570</td>\n",
       "      <td>0.5</td>\n",
       "      <td>0.9900</td>\n",
       "      <td>12</td>\n",
       "      <td>10</td>\n",
       "      <td>8</td>\n",
       "      <td>6</td>\n",
       "      <td>10</td>\n",
       "      <td>200</td>\n",
       "      <td>200</td>\n",
       "      <td>0.003</td>\n",
       "      <td>0</td>\n",
       "      <td>50</td>\n",
       "    </tr>\n",
       "    <tr>\n",
       "      <th>2020-05-18 17:12:47.885442</th>\n",
       "      <td>run_2020_May_18_17_12_47_885442</td>\n",
       "      <td>00:06:59</td>\n",
       "      <td>00:06:19</td>\n",
       "      <td>0.592</td>\n",
       "      <td>0.580</td>\n",
       "      <td>0.582</td>\n",
       "      <td>0.5</td>\n",
       "      <td>0.9900</td>\n",
       "      <td>12</td>\n",
       "      <td>10</td>\n",
       "      <td>8</td>\n",
       "      <td>6</td>\n",
       "      <td>10</td>\n",
       "      <td>200</td>\n",
       "      <td>200</td>\n",
       "      <td>0.003</td>\n",
       "      <td>0</td>\n",
       "      <td>50</td>\n",
       "    </tr>\n",
       "    <tr>\n",
       "      <th>2020-05-18 17:05:27.389879</th>\n",
       "      <td>run_2020_May_18_17_05_27_389879</td>\n",
       "      <td>00:07:04</td>\n",
       "      <td>00:07:04</td>\n",
       "      <td>0.523</td>\n",
       "      <td>0.538</td>\n",
       "      <td>0.540</td>\n",
       "      <td>0.5</td>\n",
       "      <td>0.0592</td>\n",
       "      <td>12</td>\n",
       "      <td>10</td>\n",
       "      <td>8</td>\n",
       "      <td>6</td>\n",
       "      <td>10</td>\n",
       "      <td>200</td>\n",
       "      <td>200</td>\n",
       "      <td>0.003</td>\n",
       "      <td>0</td>\n",
       "      <td>50</td>\n",
       "    </tr>\n",
       "    <tr>\n",
       "      <th>2020-05-18 16:43:00.302512</th>\n",
       "      <td>run_2020_May_18_16_43_00_302512</td>\n",
       "      <td>00:06:59</td>\n",
       "      <td>00:06:21</td>\n",
       "      <td>0.564</td>\n",
       "      <td>0.571</td>\n",
       "      <td>0.552</td>\n",
       "      <td>0.5</td>\n",
       "      <td>0.7732</td>\n",
       "      <td>12</td>\n",
       "      <td>10</td>\n",
       "      <td>8</td>\n",
       "      <td>6</td>\n",
       "      <td>10</td>\n",
       "      <td>200</td>\n",
       "      <td>200</td>\n",
       "      <td>0.003</td>\n",
       "      <td>0</td>\n",
       "      <td>50</td>\n",
       "    </tr>\n",
       "    <tr>\n",
       "      <th>2020-05-18 16:42:54.366705</th>\n",
       "      <td>run_2020_May_18_16_42_54_366705</td>\n",
       "      <td>00:06:57</td>\n",
       "      <td>00:06:20</td>\n",
       "      <td>0.535</td>\n",
       "      <td>0.572</td>\n",
       "      <td>0.555</td>\n",
       "      <td>0.5</td>\n",
       "      <td>0.7734</td>\n",
       "      <td>12</td>\n",
       "      <td>10</td>\n",
       "      <td>8</td>\n",
       "      <td>6</td>\n",
       "      <td>10</td>\n",
       "      <td>200</td>\n",
       "      <td>200</td>\n",
       "      <td>0.003</td>\n",
       "      <td>0</td>\n",
       "      <td>50</td>\n",
       "    </tr>\n",
       "    <tr>\n",
       "      <th>2020-05-18 16:42:54.321473</th>\n",
       "      <td>run_2020_May_18_16_42_54_321473</td>\n",
       "      <td>00:07:00</td>\n",
       "      <td>00:06:20</td>\n",
       "      <td>0.573</td>\n",
       "      <td>0.572</td>\n",
       "      <td>0.568</td>\n",
       "      <td>0.5</td>\n",
       "      <td>0.7734</td>\n",
       "      <td>12</td>\n",
       "      <td>10</td>\n",
       "      <td>8</td>\n",
       "      <td>6</td>\n",
       "      <td>10</td>\n",
       "      <td>200</td>\n",
       "      <td>200</td>\n",
       "      <td>0.003</td>\n",
       "      <td>0</td>\n",
       "      <td>50</td>\n",
       "    </tr>\n",
       "    <tr>\n",
       "      <th>2020-05-18 16:35:41.901808</th>\n",
       "      <td>run_2020_May_18_16_35_41_901808</td>\n",
       "      <td>00:06:58</td>\n",
       "      <td>00:06:58</td>\n",
       "      <td>0.585</td>\n",
       "      <td>0.572</td>\n",
       "      <td>0.572</td>\n",
       "      <td>0.5</td>\n",
       "      <td>0.7733</td>\n",
       "      <td>12</td>\n",
       "      <td>10</td>\n",
       "      <td>8</td>\n",
       "      <td>6</td>\n",
       "      <td>10</td>\n",
       "      <td>200</td>\n",
       "      <td>200</td>\n",
       "      <td>0.003</td>\n",
       "      <td>0</td>\n",
       "      <td>50</td>\n",
       "    </tr>\n",
       "    <tr>\n",
       "      <th>2020-05-18 16:35:35.983671</th>\n",
       "      <td>run_2020_May_18_16_35_35_983671</td>\n",
       "      <td>00:06:59</td>\n",
       "      <td>00:06:09</td>\n",
       "      <td>0.568</td>\n",
       "      <td>0.572</td>\n",
       "      <td>0.559</td>\n",
       "      <td>0.5</td>\n",
       "      <td>0.7732</td>\n",
       "      <td>12</td>\n",
       "      <td>10</td>\n",
       "      <td>8</td>\n",
       "      <td>6</td>\n",
       "      <td>10</td>\n",
       "      <td>200</td>\n",
       "      <td>200</td>\n",
       "      <td>0.003</td>\n",
       "      <td>0</td>\n",
       "      <td>50</td>\n",
       "    </tr>\n",
       "    <tr>\n",
       "      <th>2020-05-18 16:35:35.975730</th>\n",
       "      <td>run_2020_May_18_16_35_35_975730</td>\n",
       "      <td>00:06:58</td>\n",
       "      <td>00:06:58</td>\n",
       "      <td>0.551</td>\n",
       "      <td>0.566</td>\n",
       "      <td>0.570</td>\n",
       "      <td>0.5</td>\n",
       "      <td>0.7733</td>\n",
       "      <td>12</td>\n",
       "      <td>10</td>\n",
       "      <td>8</td>\n",
       "      <td>6</td>\n",
       "      <td>10</td>\n",
       "      <td>200</td>\n",
       "      <td>200</td>\n",
       "      <td>0.003</td>\n",
       "      <td>0</td>\n",
       "      <td>50</td>\n",
       "    </tr>\n",
       "    <tr>\n",
       "      <th>2020-05-18 16:28:21.517501</th>\n",
       "      <td>run_2020_May_18_16_28_21_517501</td>\n",
       "      <td>00:06:58</td>\n",
       "      <td>00:06:58</td>\n",
       "      <td>0.530</td>\n",
       "      <td>0.552</td>\n",
       "      <td>0.556</td>\n",
       "      <td>0.5</td>\n",
       "      <td>0.2392</td>\n",
       "      <td>12</td>\n",
       "      <td>10</td>\n",
       "      <td>8</td>\n",
       "      <td>6</td>\n",
       "      <td>10</td>\n",
       "      <td>200</td>\n",
       "      <td>200</td>\n",
       "      <td>0.003</td>\n",
       "      <td>0</td>\n",
       "      <td>50</td>\n",
       "    </tr>\n",
       "    <tr>\n",
       "      <th>2020-05-18 16:28:21.515807</th>\n",
       "      <td>run_2020_May_18_16_28_21_515807</td>\n",
       "      <td>00:07:01</td>\n",
       "      <td>00:07:01</td>\n",
       "      <td>0.602</td>\n",
       "      <td>0.578</td>\n",
       "      <td>0.577</td>\n",
       "      <td>0.5</td>\n",
       "      <td>0.8226</td>\n",
       "      <td>12</td>\n",
       "      <td>10</td>\n",
       "      <td>8</td>\n",
       "      <td>6</td>\n",
       "      <td>10</td>\n",
       "      <td>200</td>\n",
       "      <td>200</td>\n",
       "      <td>0.003</td>\n",
       "      <td>0</td>\n",
       "      <td>50</td>\n",
       "    </tr>\n",
       "    <tr>\n",
       "      <th>2020-05-18 16:28:21.503333</th>\n",
       "      <td>run_2020_May_18_16_28_21_503333</td>\n",
       "      <td>00:06:54</td>\n",
       "      <td>00:06:54</td>\n",
       "      <td>0.569</td>\n",
       "      <td>0.552</td>\n",
       "      <td>0.569</td>\n",
       "      <td>0.5</td>\n",
       "      <td>0.2392</td>\n",
       "      <td>12</td>\n",
       "      <td>10</td>\n",
       "      <td>8</td>\n",
       "      <td>6</td>\n",
       "      <td>10</td>\n",
       "      <td>200</td>\n",
       "      <td>200</td>\n",
       "      <td>0.003</td>\n",
       "      <td>0</td>\n",
       "      <td>50</td>\n",
       "    </tr>\n",
       "    <tr>\n",
       "      <th>2020-05-18 16:21:03.187466</th>\n",
       "      <td>run_2020_May_18_16_21_03_187466</td>\n",
       "      <td>00:06:58</td>\n",
       "      <td>00:06:14</td>\n",
       "      <td>0.546</td>\n",
       "      <td>0.570</td>\n",
       "      <td>0.549</td>\n",
       "      <td>0.5</td>\n",
       "      <td>0.5583</td>\n",
       "      <td>12</td>\n",
       "      <td>10</td>\n",
       "      <td>8</td>\n",
       "      <td>6</td>\n",
       "      <td>10</td>\n",
       "      <td>200</td>\n",
       "      <td>200</td>\n",
       "      <td>0.003</td>\n",
       "      <td>0</td>\n",
       "      <td>50</td>\n",
       "    </tr>\n",
       "    <tr>\n",
       "      <th>2020-05-18 16:21:03.174755</th>\n",
       "      <td>run_2020_May_18_16_21_03_174755</td>\n",
       "      <td>00:06:56</td>\n",
       "      <td>00:06:56</td>\n",
       "      <td>0.570</td>\n",
       "      <td>0.555</td>\n",
       "      <td>0.542</td>\n",
       "      <td>0.5</td>\n",
       "      <td>0.5583</td>\n",
       "      <td>12</td>\n",
       "      <td>10</td>\n",
       "      <td>8</td>\n",
       "      <td>6</td>\n",
       "      <td>10</td>\n",
       "      <td>200</td>\n",
       "      <td>200</td>\n",
       "      <td>0.003</td>\n",
       "      <td>0</td>\n",
       "      <td>50</td>\n",
       "    </tr>\n",
       "    <tr>\n",
       "      <th>2020-05-18 16:21:03.108478</th>\n",
       "      <td>run_2020_May_18_16_21_03_108478</td>\n",
       "      <td>00:06:58</td>\n",
       "      <td>00:06:58</td>\n",
       "      <td>0.529</td>\n",
       "      <td>0.575</td>\n",
       "      <td>0.556</td>\n",
       "      <td>0.5</td>\n",
       "      <td>0.5583</td>\n",
       "      <td>12</td>\n",
       "      <td>10</td>\n",
       "      <td>8</td>\n",
       "      <td>6</td>\n",
       "      <td>10</td>\n",
       "      <td>200</td>\n",
       "      <td>200</td>\n",
       "      <td>0.003</td>\n",
       "      <td>0</td>\n",
       "      <td>50</td>\n",
       "    </tr>\n",
       "    <tr>\n",
       "      <th>2020-05-18 16:13:44.646797</th>\n",
       "      <td>run_2020_May_18_16_13_44_646797</td>\n",
       "      <td>00:06:58</td>\n",
       "      <td>00:06:58</td>\n",
       "      <td>0.550</td>\n",
       "      <td>0.544</td>\n",
       "      <td>0.529</td>\n",
       "      <td>0.5</td>\n",
       "      <td>0.2392</td>\n",
       "      <td>12</td>\n",
       "      <td>10</td>\n",
       "      <td>8</td>\n",
       "      <td>6</td>\n",
       "      <td>10</td>\n",
       "      <td>200</td>\n",
       "      <td>200</td>\n",
       "      <td>0.003</td>\n",
       "      <td>0</td>\n",
       "      <td>50</td>\n",
       "    </tr>\n",
       "    <tr>\n",
       "      <th>2020-05-18 16:13:44.583941</th>\n",
       "      <td>run_2020_May_18_16_13_44_583941</td>\n",
       "      <td>00:06:58</td>\n",
       "      <td>00:06:28</td>\n",
       "      <td>0.565</td>\n",
       "      <td>0.543</td>\n",
       "      <td>0.535</td>\n",
       "      <td>0.5</td>\n",
       "      <td>0.2392</td>\n",
       "      <td>12</td>\n",
       "      <td>10</td>\n",
       "      <td>8</td>\n",
       "      <td>6</td>\n",
       "      <td>10</td>\n",
       "      <td>200</td>\n",
       "      <td>200</td>\n",
       "      <td>0.003</td>\n",
       "      <td>0</td>\n",
       "      <td>50</td>\n",
       "    </tr>\n",
       "    <tr>\n",
       "      <th>2020-05-18 16:13:44.575513</th>\n",
       "      <td>run_2020_May_18_16_13_44_575513</td>\n",
       "      <td>00:07:00</td>\n",
       "      <td>00:05:52</td>\n",
       "      <td>0.570</td>\n",
       "      <td>0.570</td>\n",
       "      <td>0.586</td>\n",
       "      <td>0.5</td>\n",
       "      <td>0.7733</td>\n",
       "      <td>12</td>\n",
       "      <td>10</td>\n",
       "      <td>8</td>\n",
       "      <td>6</td>\n",
       "      <td>10</td>\n",
       "      <td>200</td>\n",
       "      <td>200</td>\n",
       "      <td>0.003</td>\n",
       "      <td>0</td>\n",
       "      <td>50</td>\n",
       "    </tr>\n",
       "  </tbody>\n",
       "</table>\n",
       "</div>"
      ],
      "text/plain": [
       "                                                       name        tt  \\\n",
       "start                                                                   \n",
       "2020-05-18 18:06:27.329057  run_2020_May_18_18_06_27_329057  00:04:56   \n",
       "2020-05-18 17:59:07.094358  run_2020_May_18_17_59_07_094358  00:07:02   \n",
       "2020-05-18 17:59:07.020744  run_2020_May_18_17_59_07_020744  00:07:00   \n",
       "2020-05-18 17:59:06.983681  run_2020_May_18_17_59_06_983681  00:07:00   \n",
       "2020-05-18 17:51:48.494611  run_2020_May_18_17_51_48_494611  00:06:59   \n",
       "2020-05-18 17:51:48.446639  run_2020_May_18_17_51_48_446639  00:07:00   \n",
       "2020-05-18 17:51:42.427193  run_2020_May_18_17_51_42_427193  00:07:04   \n",
       "2020-05-18 17:44:29.975177  run_2020_May_18_17_44_29_975177  00:06:58   \n",
       "2020-05-18 17:44:29.906910  run_2020_May_18_17_44_29_906910  00:06:59   \n",
       "2020-05-18 17:44:29.875870  run_2020_May_18_17_44_29_875870  00:06:56   \n",
       "2020-05-18 17:34:51.296537  run_2020_May_18_17_34_51_296537  00:07:01   \n",
       "2020-05-18 17:27:26.876569  run_2020_May_18_17_27_26_876569  00:07:05   \n",
       "2020-05-18 17:20:06.379342  run_2020_May_18_17_20_06_379342  00:07:01   \n",
       "2020-05-18 17:12:47.885442  run_2020_May_18_17_12_47_885442  00:06:59   \n",
       "2020-05-18 17:05:27.389879  run_2020_May_18_17_05_27_389879  00:07:04   \n",
       "2020-05-18 16:43:00.302512  run_2020_May_18_16_43_00_302512  00:06:59   \n",
       "2020-05-18 16:42:54.366705  run_2020_May_18_16_42_54_366705  00:06:57   \n",
       "2020-05-18 16:42:54.321473  run_2020_May_18_16_42_54_321473  00:07:00   \n",
       "2020-05-18 16:35:41.901808  run_2020_May_18_16_35_41_901808  00:06:58   \n",
       "2020-05-18 16:35:35.983671  run_2020_May_18_16_35_35_983671  00:06:59   \n",
       "2020-05-18 16:35:35.975730  run_2020_May_18_16_35_35_975730  00:06:58   \n",
       "2020-05-18 16:28:21.517501  run_2020_May_18_16_28_21_517501  00:06:58   \n",
       "2020-05-18 16:28:21.515807  run_2020_May_18_16_28_21_515807  00:07:01   \n",
       "2020-05-18 16:28:21.503333  run_2020_May_18_16_28_21_503333  00:06:54   \n",
       "2020-05-18 16:21:03.187466  run_2020_May_18_16_21_03_187466  00:06:58   \n",
       "2020-05-18 16:21:03.174755  run_2020_May_18_16_21_03_174755  00:06:56   \n",
       "2020-05-18 16:21:03.108478  run_2020_May_18_16_21_03_108478  00:06:58   \n",
       "2020-05-18 16:13:44.646797  run_2020_May_18_16_13_44_646797  00:06:58   \n",
       "2020-05-18 16:13:44.583941  run_2020_May_18_16_13_44_583941  00:06:58   \n",
       "2020-05-18 16:13:44.575513  run_2020_May_18_16_13_44_575513  00:07:00   \n",
       "\n",
       "                                 t2b     ba    bva     la  combine_chance  \\\n",
       "start                                                                       \n",
       "2020-05-18 18:06:27.329057  00:04:56  0.582  0.568  0.573             0.5   \n",
       "2020-05-18 17:59:07.094358  00:06:33  0.562  0.582  0.599             0.5   \n",
       "2020-05-18 17:59:07.020744  00:06:23  0.601  0.584  0.582             0.5   \n",
       "2020-05-18 17:59:06.983681  00:06:37  0.588  0.573  0.593             0.5   \n",
       "2020-05-18 17:51:48.494611  00:06:30  0.590  0.580  0.574             0.5   \n",
       "2020-05-18 17:51:48.446639  00:07:00  0.562  0.572  0.578             0.5   \n",
       "2020-05-18 17:51:42.427193  00:07:04  0.583  0.579  0.578             0.5   \n",
       "2020-05-18 17:44:29.975177  00:06:58  0.553  0.566  0.558             0.5   \n",
       "2020-05-18 17:44:29.906910  00:06:36  0.568  0.570  0.547             0.5   \n",
       "2020-05-18 17:44:29.875870  00:06:56  0.568  0.553  0.556             0.5   \n",
       "2020-05-18 17:34:51.296537  00:06:21  0.600  0.576  0.580             0.5   \n",
       "2020-05-18 17:27:26.876569  00:07:05  0.578  0.573  0.580             0.5   \n",
       "2020-05-18 17:20:06.379342  00:06:02  0.600  0.582  0.570             0.5   \n",
       "2020-05-18 17:12:47.885442  00:06:19  0.592  0.580  0.582             0.5   \n",
       "2020-05-18 17:05:27.389879  00:07:04  0.523  0.538  0.540             0.5   \n",
       "2020-05-18 16:43:00.302512  00:06:21  0.564  0.571  0.552             0.5   \n",
       "2020-05-18 16:42:54.366705  00:06:20  0.535  0.572  0.555             0.5   \n",
       "2020-05-18 16:42:54.321473  00:06:20  0.573  0.572  0.568             0.5   \n",
       "2020-05-18 16:35:41.901808  00:06:58  0.585  0.572  0.572             0.5   \n",
       "2020-05-18 16:35:35.983671  00:06:09  0.568  0.572  0.559             0.5   \n",
       "2020-05-18 16:35:35.975730  00:06:58  0.551  0.566  0.570             0.5   \n",
       "2020-05-18 16:28:21.517501  00:06:58  0.530  0.552  0.556             0.5   \n",
       "2020-05-18 16:28:21.515807  00:07:01  0.602  0.578  0.577             0.5   \n",
       "2020-05-18 16:28:21.503333  00:06:54  0.569  0.552  0.569             0.5   \n",
       "2020-05-18 16:21:03.187466  00:06:14  0.546  0.570  0.549             0.5   \n",
       "2020-05-18 16:21:03.174755  00:06:56  0.570  0.555  0.542             0.5   \n",
       "2020-05-18 16:21:03.108478  00:06:58  0.529  0.575  0.556             0.5   \n",
       "2020-05-18 16:13:44.646797  00:06:58  0.550  0.544  0.529             0.5   \n",
       "2020-05-18 16:13:44.583941  00:06:28  0.565  0.543  0.535             0.5   \n",
       "2020-05-18 16:13:44.575513  00:05:52  0.570  0.570  0.586             0.5   \n",
       "\n",
       "                            crossover_chance  dec_f0  dec_f1  dec_f2  dec_f3  \\\n",
       "start                                                                          \n",
       "2020-05-18 18:06:27.329057            0.9900      12      10       8       6   \n",
       "2020-05-18 17:59:07.094358            0.9900      12      10       8       6   \n",
       "2020-05-18 17:59:07.020744            0.9900      12      10       8       6   \n",
       "2020-05-18 17:59:06.983681            0.9900      12      10       8       6   \n",
       "2020-05-18 17:51:48.494611            0.9900      12      10       8       6   \n",
       "2020-05-18 17:51:48.446639            0.9900      12      10       8       6   \n",
       "2020-05-18 17:51:42.427193            0.9900      12      10       8       6   \n",
       "2020-05-18 17:44:29.975177            0.6046      12      10       8       6   \n",
       "2020-05-18 17:44:29.906910            0.6640      12      10       8       6   \n",
       "2020-05-18 17:44:29.875870            0.3757      12      10       8       6   \n",
       "2020-05-18 17:34:51.296537            0.9900      12      10       8       6   \n",
       "2020-05-18 17:27:26.876569            0.9900      12      10       8       6   \n",
       "2020-05-18 17:20:06.379342            0.9900      12      10       8       6   \n",
       "2020-05-18 17:12:47.885442            0.9900      12      10       8       6   \n",
       "2020-05-18 17:05:27.389879            0.0592      12      10       8       6   \n",
       "2020-05-18 16:43:00.302512            0.7732      12      10       8       6   \n",
       "2020-05-18 16:42:54.366705            0.7734      12      10       8       6   \n",
       "2020-05-18 16:42:54.321473            0.7734      12      10       8       6   \n",
       "2020-05-18 16:35:41.901808            0.7733      12      10       8       6   \n",
       "2020-05-18 16:35:35.983671            0.7732      12      10       8       6   \n",
       "2020-05-18 16:35:35.975730            0.7733      12      10       8       6   \n",
       "2020-05-18 16:28:21.517501            0.2392      12      10       8       6   \n",
       "2020-05-18 16:28:21.515807            0.8226      12      10       8       6   \n",
       "2020-05-18 16:28:21.503333            0.2392      12      10       8       6   \n",
       "2020-05-18 16:21:03.187466            0.5583      12      10       8       6   \n",
       "2020-05-18 16:21:03.174755            0.5583      12      10       8       6   \n",
       "2020-05-18 16:21:03.108478            0.5583      12      10       8       6   \n",
       "2020-05-18 16:13:44.646797            0.2392      12      10       8       6   \n",
       "2020-05-18 16:13:44.583941            0.2392      12      10       8       6   \n",
       "2020-05-18 16:13:44.575513            0.7733      12      10       8       6   \n",
       "\n",
       "                            exp_power  generation_size  generations  \\\n",
       "start                                                                 \n",
       "2020-05-18 18:06:27.329057         10              200          200   \n",
       "2020-05-18 17:59:07.094358         10              200          200   \n",
       "2020-05-18 17:59:07.020744         10              200          200   \n",
       "2020-05-18 17:59:06.983681         10              200          200   \n",
       "2020-05-18 17:51:48.494611         10              200          200   \n",
       "2020-05-18 17:51:48.446639         10              200          200   \n",
       "2020-05-18 17:51:42.427193         10              200          200   \n",
       "2020-05-18 17:44:29.975177         10              200          200   \n",
       "2020-05-18 17:44:29.906910         10              200          200   \n",
       "2020-05-18 17:44:29.875870         10              200          200   \n",
       "2020-05-18 17:34:51.296537         10              200          200   \n",
       "2020-05-18 17:27:26.876569         10              200          200   \n",
       "2020-05-18 17:20:06.379342         10              200          200   \n",
       "2020-05-18 17:12:47.885442         10              200          200   \n",
       "2020-05-18 17:05:27.389879         10              200          200   \n",
       "2020-05-18 16:43:00.302512         10              200          200   \n",
       "2020-05-18 16:42:54.366705         10              200          200   \n",
       "2020-05-18 16:42:54.321473         10              200          200   \n",
       "2020-05-18 16:35:41.901808         10              200          200   \n",
       "2020-05-18 16:35:35.983671         10              200          200   \n",
       "2020-05-18 16:35:35.975730         10              200          200   \n",
       "2020-05-18 16:28:21.517501         10              200          200   \n",
       "2020-05-18 16:28:21.515807         10              200          200   \n",
       "2020-05-18 16:28:21.503333         10              200          200   \n",
       "2020-05-18 16:21:03.187466         10              200          200   \n",
       "2020-05-18 16:21:03.174755         10              200          200   \n",
       "2020-05-18 16:21:03.108478         10              200          200   \n",
       "2020-05-18 16:13:44.646797         10              200          200   \n",
       "2020-05-18 16:13:44.583941         10              200          200   \n",
       "2020-05-18 16:13:44.575513         10              200          200   \n",
       "\n",
       "                            mutate_chance  seed  subsample_size  \n",
       "start                                                            \n",
       "2020-05-18 18:06:27.329057          0.003     0              50  \n",
       "2020-05-18 17:59:07.094358          0.003     0              50  \n",
       "2020-05-18 17:59:07.020744          0.003     0              50  \n",
       "2020-05-18 17:59:06.983681          0.003     0              50  \n",
       "2020-05-18 17:51:48.494611          0.003     0              50  \n",
       "2020-05-18 17:51:48.446639          0.003     0              50  \n",
       "2020-05-18 17:51:42.427193          0.003     0              50  \n",
       "2020-05-18 17:44:29.975177          0.003     0              50  \n",
       "2020-05-18 17:44:29.906910          0.003     0              50  \n",
       "2020-05-18 17:44:29.875870          0.003     0              50  \n",
       "2020-05-18 17:34:51.296537          0.003     0              50  \n",
       "2020-05-18 17:27:26.876569          0.003     0              50  \n",
       "2020-05-18 17:20:06.379342          0.003     0              50  \n",
       "2020-05-18 17:12:47.885442          0.003     0              50  \n",
       "2020-05-18 17:05:27.389879          0.003     0              50  \n",
       "2020-05-18 16:43:00.302512          0.003     0              50  \n",
       "2020-05-18 16:42:54.366705          0.003     0              50  \n",
       "2020-05-18 16:42:54.321473          0.003     0              50  \n",
       "2020-05-18 16:35:41.901808          0.003     0              50  \n",
       "2020-05-18 16:35:35.983671          0.003     0              50  \n",
       "2020-05-18 16:35:35.975730          0.003     0              50  \n",
       "2020-05-18 16:28:21.517501          0.003     0              50  \n",
       "2020-05-18 16:28:21.515807          0.003     0              50  \n",
       "2020-05-18 16:28:21.503333          0.003     0              50  \n",
       "2020-05-18 16:21:03.187466          0.003     0              50  \n",
       "2020-05-18 16:21:03.174755          0.003     0              50  \n",
       "2020-05-18 16:21:03.108478          0.003     0              50  \n",
       "2020-05-18 16:13:44.646797          0.003     0              50  \n",
       "2020-05-18 16:13:44.583941          0.003     0              50  \n",
       "2020-05-18 16:13:44.575513          0.003     0              50  "
      ]
     },
     "execution_count": 90,
     "metadata": {},
     "output_type": "execute_result"
    }
   ],
   "source": [
    "t = df.sort_index(ascending=False).head(30)\n",
    "t[['crossover_chance', 'bva']].values\n",
    "t"
   ]
  },
  {
   "cell_type": "code",
   "execution_count": 94,
   "metadata": {
    "ExecuteTime": {
     "end_time": "2020-05-18T15:13:06.463806Z",
     "start_time": "2020-05-18T15:13:06.029874Z"
    },
    "execution": {
     "iopub.execute_input": "2020-05-18T12:52:56.391496Z",
     "iopub.status.busy": "2020-05-18T12:52:56.391313Z",
     "iopub.status.idle": "2020-05-18T12:52:57.057637Z",
     "shell.execute_reply": "2020-05-18T12:52:57.056663Z",
     "shell.execute_reply.started": "2020-05-18T12:52:56.391467Z"
    }
   },
   "outputs": [
    {
     "data": {
      "application/vnd.plotly.v1+json": {
       "config": {
        "plotlyServerURL": "https://plot.ly"
       },
       "data": [
        {
         "dimensions": [
          {
           "label": "combine_chance",
           "values": [
            0.5,
            0.5,
            0.5,
            0.5,
            0.5,
            0.5,
            0.5,
            0.5,
            0.5,
            0.5
           ]
          },
          {
           "label": "crossover_chance",
           "values": [
            0.99,
            0.99,
            0.99,
            0.99,
            0.99,
            0.99,
            0.99,
            0.6046,
            0.664,
            0.3757
           ]
          },
          {
           "label": "mutate_chance",
           "values": [
            0.003,
            0.003,
            0.003,
            0.003,
            0.003,
            0.003,
            0.003,
            0.003,
            0.003,
            0.003
           ]
          },
          {
           "label": "exp_power",
           "values": [
            10,
            10,
            10,
            10,
            10,
            10,
            10,
            10,
            10,
            10
           ]
          },
          {
           "label": "bva",
           "values": [
            0.568,
            0.582,
            0.584,
            0.573,
            0.58,
            0.572,
            0.579,
            0.566,
            0.57,
            0.553
           ]
          }
         ],
         "domain": {
          "x": [
           0,
           1
          ],
          "y": [
           0,
           1
          ]
         },
         "line": {
          "color": [
           0.568,
           0.582,
           0.584,
           0.573,
           0.58,
           0.572,
           0.579,
           0.566,
           0.57,
           0.553
          ],
          "coloraxis": "coloraxis"
         },
         "name": "",
         "type": "parcoords"
        }
       ],
       "layout": {
        "coloraxis": {
         "cmax": 0.591,
         "cmid": 0.55,
         "cmin": 0.53,
         "colorbar": {
          "title": {
           "text": "bva"
          }
         },
         "colorscale": [
          [
           0,
           "rgb(0, 147, 146)"
          ],
          [
           0.16666666666666666,
           "rgb(114, 170, 161)"
          ],
          [
           0.3333333333333333,
           "rgb(177, 199, 179)"
          ],
          [
           0.5,
           "rgb(241, 234, 200)"
          ],
          [
           0.6666666666666666,
           "rgb(229, 185, 173)"
          ],
          [
           0.8333333333333334,
           "rgb(217, 137, 148)"
          ],
          [
           1,
           "rgb(208, 88, 126)"
          ]
         ]
        },
        "height": 600,
        "legend": {
         "tracegroupgap": 0
        },
        "margin": {
         "t": 60
        },
        "template": {
         "data": {
          "bar": [
           {
            "error_x": {
             "color": "#2a3f5f"
            },
            "error_y": {
             "color": "#2a3f5f"
            },
            "marker": {
             "line": {
              "color": "#E5ECF6",
              "width": 0.5
             }
            },
            "type": "bar"
           }
          ],
          "barpolar": [
           {
            "marker": {
             "line": {
              "color": "#E5ECF6",
              "width": 0.5
             }
            },
            "type": "barpolar"
           }
          ],
          "carpet": [
           {
            "aaxis": {
             "endlinecolor": "#2a3f5f",
             "gridcolor": "white",
             "linecolor": "white",
             "minorgridcolor": "white",
             "startlinecolor": "#2a3f5f"
            },
            "baxis": {
             "endlinecolor": "#2a3f5f",
             "gridcolor": "white",
             "linecolor": "white",
             "minorgridcolor": "white",
             "startlinecolor": "#2a3f5f"
            },
            "type": "carpet"
           }
          ],
          "choropleth": [
           {
            "colorbar": {
             "outlinewidth": 0,
             "ticks": ""
            },
            "type": "choropleth"
           }
          ],
          "contour": [
           {
            "colorbar": {
             "outlinewidth": 0,
             "ticks": ""
            },
            "colorscale": [
             [
              0,
              "#0d0887"
             ],
             [
              0.1111111111111111,
              "#46039f"
             ],
             [
              0.2222222222222222,
              "#7201a8"
             ],
             [
              0.3333333333333333,
              "#9c179e"
             ],
             [
              0.4444444444444444,
              "#bd3786"
             ],
             [
              0.5555555555555556,
              "#d8576b"
             ],
             [
              0.6666666666666666,
              "#ed7953"
             ],
             [
              0.7777777777777778,
              "#fb9f3a"
             ],
             [
              0.8888888888888888,
              "#fdca26"
             ],
             [
              1,
              "#f0f921"
             ]
            ],
            "type": "contour"
           }
          ],
          "contourcarpet": [
           {
            "colorbar": {
             "outlinewidth": 0,
             "ticks": ""
            },
            "type": "contourcarpet"
           }
          ],
          "heatmap": [
           {
            "colorbar": {
             "outlinewidth": 0,
             "ticks": ""
            },
            "colorscale": [
             [
              0,
              "#0d0887"
             ],
             [
              0.1111111111111111,
              "#46039f"
             ],
             [
              0.2222222222222222,
              "#7201a8"
             ],
             [
              0.3333333333333333,
              "#9c179e"
             ],
             [
              0.4444444444444444,
              "#bd3786"
             ],
             [
              0.5555555555555556,
              "#d8576b"
             ],
             [
              0.6666666666666666,
              "#ed7953"
             ],
             [
              0.7777777777777778,
              "#fb9f3a"
             ],
             [
              0.8888888888888888,
              "#fdca26"
             ],
             [
              1,
              "#f0f921"
             ]
            ],
            "type": "heatmap"
           }
          ],
          "heatmapgl": [
           {
            "colorbar": {
             "outlinewidth": 0,
             "ticks": ""
            },
            "colorscale": [
             [
              0,
              "#0d0887"
             ],
             [
              0.1111111111111111,
              "#46039f"
             ],
             [
              0.2222222222222222,
              "#7201a8"
             ],
             [
              0.3333333333333333,
              "#9c179e"
             ],
             [
              0.4444444444444444,
              "#bd3786"
             ],
             [
              0.5555555555555556,
              "#d8576b"
             ],
             [
              0.6666666666666666,
              "#ed7953"
             ],
             [
              0.7777777777777778,
              "#fb9f3a"
             ],
             [
              0.8888888888888888,
              "#fdca26"
             ],
             [
              1,
              "#f0f921"
             ]
            ],
            "type": "heatmapgl"
           }
          ],
          "histogram": [
           {
            "marker": {
             "colorbar": {
              "outlinewidth": 0,
              "ticks": ""
             }
            },
            "type": "histogram"
           }
          ],
          "histogram2d": [
           {
            "colorbar": {
             "outlinewidth": 0,
             "ticks": ""
            },
            "colorscale": [
             [
              0,
              "#0d0887"
             ],
             [
              0.1111111111111111,
              "#46039f"
             ],
             [
              0.2222222222222222,
              "#7201a8"
             ],
             [
              0.3333333333333333,
              "#9c179e"
             ],
             [
              0.4444444444444444,
              "#bd3786"
             ],
             [
              0.5555555555555556,
              "#d8576b"
             ],
             [
              0.6666666666666666,
              "#ed7953"
             ],
             [
              0.7777777777777778,
              "#fb9f3a"
             ],
             [
              0.8888888888888888,
              "#fdca26"
             ],
             [
              1,
              "#f0f921"
             ]
            ],
            "type": "histogram2d"
           }
          ],
          "histogram2dcontour": [
           {
            "colorbar": {
             "outlinewidth": 0,
             "ticks": ""
            },
            "colorscale": [
             [
              0,
              "#0d0887"
             ],
             [
              0.1111111111111111,
              "#46039f"
             ],
             [
              0.2222222222222222,
              "#7201a8"
             ],
             [
              0.3333333333333333,
              "#9c179e"
             ],
             [
              0.4444444444444444,
              "#bd3786"
             ],
             [
              0.5555555555555556,
              "#d8576b"
             ],
             [
              0.6666666666666666,
              "#ed7953"
             ],
             [
              0.7777777777777778,
              "#fb9f3a"
             ],
             [
              0.8888888888888888,
              "#fdca26"
             ],
             [
              1,
              "#f0f921"
             ]
            ],
            "type": "histogram2dcontour"
           }
          ],
          "mesh3d": [
           {
            "colorbar": {
             "outlinewidth": 0,
             "ticks": ""
            },
            "type": "mesh3d"
           }
          ],
          "parcoords": [
           {
            "line": {
             "colorbar": {
              "outlinewidth": 0,
              "ticks": ""
             }
            },
            "type": "parcoords"
           }
          ],
          "pie": [
           {
            "automargin": true,
            "type": "pie"
           }
          ],
          "scatter": [
           {
            "marker": {
             "colorbar": {
              "outlinewidth": 0,
              "ticks": ""
             }
            },
            "type": "scatter"
           }
          ],
          "scatter3d": [
           {
            "line": {
             "colorbar": {
              "outlinewidth": 0,
              "ticks": ""
             }
            },
            "marker": {
             "colorbar": {
              "outlinewidth": 0,
              "ticks": ""
             }
            },
            "type": "scatter3d"
           }
          ],
          "scattercarpet": [
           {
            "marker": {
             "colorbar": {
              "outlinewidth": 0,
              "ticks": ""
             }
            },
            "type": "scattercarpet"
           }
          ],
          "scattergeo": [
           {
            "marker": {
             "colorbar": {
              "outlinewidth": 0,
              "ticks": ""
             }
            },
            "type": "scattergeo"
           }
          ],
          "scattergl": [
           {
            "marker": {
             "colorbar": {
              "outlinewidth": 0,
              "ticks": ""
             }
            },
            "type": "scattergl"
           }
          ],
          "scattermapbox": [
           {
            "marker": {
             "colorbar": {
              "outlinewidth": 0,
              "ticks": ""
             }
            },
            "type": "scattermapbox"
           }
          ],
          "scatterpolar": [
           {
            "marker": {
             "colorbar": {
              "outlinewidth": 0,
              "ticks": ""
             }
            },
            "type": "scatterpolar"
           }
          ],
          "scatterpolargl": [
           {
            "marker": {
             "colorbar": {
              "outlinewidth": 0,
              "ticks": ""
             }
            },
            "type": "scatterpolargl"
           }
          ],
          "scatterternary": [
           {
            "marker": {
             "colorbar": {
              "outlinewidth": 0,
              "ticks": ""
             }
            },
            "type": "scatterternary"
           }
          ],
          "surface": [
           {
            "colorbar": {
             "outlinewidth": 0,
             "ticks": ""
            },
            "colorscale": [
             [
              0,
              "#0d0887"
             ],
             [
              0.1111111111111111,
              "#46039f"
             ],
             [
              0.2222222222222222,
              "#7201a8"
             ],
             [
              0.3333333333333333,
              "#9c179e"
             ],
             [
              0.4444444444444444,
              "#bd3786"
             ],
             [
              0.5555555555555556,
              "#d8576b"
             ],
             [
              0.6666666666666666,
              "#ed7953"
             ],
             [
              0.7777777777777778,
              "#fb9f3a"
             ],
             [
              0.8888888888888888,
              "#fdca26"
             ],
             [
              1,
              "#f0f921"
             ]
            ],
            "type": "surface"
           }
          ],
          "table": [
           {
            "cells": {
             "fill": {
              "color": "#EBF0F8"
             },
             "line": {
              "color": "white"
             }
            },
            "header": {
             "fill": {
              "color": "#C8D4E3"
             },
             "line": {
              "color": "white"
             }
            },
            "type": "table"
           }
          ]
         },
         "layout": {
          "annotationdefaults": {
           "arrowcolor": "#2a3f5f",
           "arrowhead": 0,
           "arrowwidth": 1
          },
          "coloraxis": {
           "colorbar": {
            "outlinewidth": 0,
            "ticks": ""
           }
          },
          "colorscale": {
           "diverging": [
            [
             0,
             "#8e0152"
            ],
            [
             0.1,
             "#c51b7d"
            ],
            [
             0.2,
             "#de77ae"
            ],
            [
             0.3,
             "#f1b6da"
            ],
            [
             0.4,
             "#fde0ef"
            ],
            [
             0.5,
             "#f7f7f7"
            ],
            [
             0.6,
             "#e6f5d0"
            ],
            [
             0.7,
             "#b8e186"
            ],
            [
             0.8,
             "#7fbc41"
            ],
            [
             0.9,
             "#4d9221"
            ],
            [
             1,
             "#276419"
            ]
           ],
           "sequential": [
            [
             0,
             "#0d0887"
            ],
            [
             0.1111111111111111,
             "#46039f"
            ],
            [
             0.2222222222222222,
             "#7201a8"
            ],
            [
             0.3333333333333333,
             "#9c179e"
            ],
            [
             0.4444444444444444,
             "#bd3786"
            ],
            [
             0.5555555555555556,
             "#d8576b"
            ],
            [
             0.6666666666666666,
             "#ed7953"
            ],
            [
             0.7777777777777778,
             "#fb9f3a"
            ],
            [
             0.8888888888888888,
             "#fdca26"
            ],
            [
             1,
             "#f0f921"
            ]
           ],
           "sequentialminus": [
            [
             0,
             "#0d0887"
            ],
            [
             0.1111111111111111,
             "#46039f"
            ],
            [
             0.2222222222222222,
             "#7201a8"
            ],
            [
             0.3333333333333333,
             "#9c179e"
            ],
            [
             0.4444444444444444,
             "#bd3786"
            ],
            [
             0.5555555555555556,
             "#d8576b"
            ],
            [
             0.6666666666666666,
             "#ed7953"
            ],
            [
             0.7777777777777778,
             "#fb9f3a"
            ],
            [
             0.8888888888888888,
             "#fdca26"
            ],
            [
             1,
             "#f0f921"
            ]
           ]
          },
          "colorway": [
           "#636efa",
           "#EF553B",
           "#00cc96",
           "#ab63fa",
           "#FFA15A",
           "#19d3f3",
           "#FF6692",
           "#B6E880",
           "#FF97FF",
           "#FECB52"
          ],
          "font": {
           "color": "#2a3f5f"
          },
          "geo": {
           "bgcolor": "white",
           "lakecolor": "white",
           "landcolor": "#E5ECF6",
           "showlakes": true,
           "showland": true,
           "subunitcolor": "white"
          },
          "hoverlabel": {
           "align": "left"
          },
          "hovermode": "closest",
          "mapbox": {
           "style": "light"
          },
          "paper_bgcolor": "white",
          "plot_bgcolor": "#E5ECF6",
          "polar": {
           "angularaxis": {
            "gridcolor": "white",
            "linecolor": "white",
            "ticks": ""
           },
           "bgcolor": "#E5ECF6",
           "radialaxis": {
            "gridcolor": "white",
            "linecolor": "white",
            "ticks": ""
           }
          },
          "scene": {
           "xaxis": {
            "backgroundcolor": "#E5ECF6",
            "gridcolor": "white",
            "gridwidth": 2,
            "linecolor": "white",
            "showbackground": true,
            "ticks": "",
            "zerolinecolor": "white"
           },
           "yaxis": {
            "backgroundcolor": "#E5ECF6",
            "gridcolor": "white",
            "gridwidth": 2,
            "linecolor": "white",
            "showbackground": true,
            "ticks": "",
            "zerolinecolor": "white"
           },
           "zaxis": {
            "backgroundcolor": "#E5ECF6",
            "gridcolor": "white",
            "gridwidth": 2,
            "linecolor": "white",
            "showbackground": true,
            "ticks": "",
            "zerolinecolor": "white"
           }
          },
          "shapedefaults": {
           "line": {
            "color": "#2a3f5f"
           }
          },
          "ternary": {
           "aaxis": {
            "gridcolor": "white",
            "linecolor": "white",
            "ticks": ""
           },
           "baxis": {
            "gridcolor": "white",
            "linecolor": "white",
            "ticks": ""
           },
           "bgcolor": "#E5ECF6",
           "caxis": {
            "gridcolor": "white",
            "linecolor": "white",
            "ticks": ""
           }
          },
          "title": {
           "x": 0.05
          },
          "xaxis": {
           "automargin": true,
           "gridcolor": "white",
           "linecolor": "white",
           "ticks": "",
           "title": {
            "standoff": 15
           },
           "zerolinecolor": "white",
           "zerolinewidth": 2
          },
          "yaxis": {
           "automargin": true,
           "gridcolor": "white",
           "linecolor": "white",
           "ticks": "",
           "title": {
            "standoff": 15
           },
           "zerolinecolor": "white",
           "zerolinewidth": 2
          }
         }
        }
       }
      },
      "text/html": [
       "<div>\n",
       "        \n",
       "        \n",
       "            <div id=\"1e677bad-924d-42b9-b65d-ab194e4d2da1\" class=\"plotly-graph-div\" style=\"height:600px; width:100%;\"></div>\n",
       "            <script type=\"text/javascript\">\n",
       "                require([\"plotly\"], function(Plotly) {\n",
       "                    window.PLOTLYENV=window.PLOTLYENV || {};\n",
       "                    \n",
       "                if (document.getElementById(\"1e677bad-924d-42b9-b65d-ab194e4d2da1\")) {\n",
       "                    Plotly.newPlot(\n",
       "                        '1e677bad-924d-42b9-b65d-ab194e4d2da1',\n",
       "                        [{\"dimensions\": [{\"label\": \"combine_chance\", \"values\": [0.5, 0.5, 0.5, 0.5, 0.5, 0.5, 0.5, 0.5, 0.5, 0.5]}, {\"label\": \"crossover_chance\", \"values\": [0.99, 0.99, 0.99, 0.99, 0.99, 0.99, 0.99, 0.6046, 0.664, 0.3757]}, {\"label\": \"mutate_chance\", \"values\": [0.003, 0.003, 0.003, 0.003, 0.003, 0.003, 0.003, 0.003, 0.003, 0.003]}, {\"label\": \"exp_power\", \"values\": [10, 10, 10, 10, 10, 10, 10, 10, 10, 10]}, {\"label\": \"bva\", \"values\": [0.568, 0.582, 0.584, 0.573, 0.58, 0.572, 0.579, 0.566, 0.57, 0.553]}], \"domain\": {\"x\": [0.0, 1.0], \"y\": [0.0, 1.0]}, \"line\": {\"color\": [0.568, 0.582, 0.584, 0.573, 0.58, 0.572, 0.579, 0.566, 0.57, 0.553], \"coloraxis\": \"coloraxis\"}, \"name\": \"\", \"type\": \"parcoords\"}],\n",
       "                        {\"coloraxis\": {\"cmax\": 0.591, \"cmid\": 0.55, \"cmin\": 0.53, \"colorbar\": {\"title\": {\"text\": \"bva\"}}, \"colorscale\": [[0.0, \"rgb(0, 147, 146)\"], [0.16666666666666666, \"rgb(114, 170, 161)\"], [0.3333333333333333, \"rgb(177, 199, 179)\"], [0.5, \"rgb(241, 234, 200)\"], [0.6666666666666666, \"rgb(229, 185, 173)\"], [0.8333333333333334, \"rgb(217, 137, 148)\"], [1.0, \"rgb(208, 88, 126)\"]]}, \"height\": 600, \"legend\": {\"tracegroupgap\": 0}, \"margin\": {\"t\": 60}, \"template\": {\"data\": {\"bar\": [{\"error_x\": {\"color\": \"#2a3f5f\"}, \"error_y\": {\"color\": \"#2a3f5f\"}, \"marker\": {\"line\": {\"color\": \"#E5ECF6\", \"width\": 0.5}}, \"type\": \"bar\"}], \"barpolar\": [{\"marker\": {\"line\": {\"color\": \"#E5ECF6\", \"width\": 0.5}}, \"type\": \"barpolar\"}], \"carpet\": [{\"aaxis\": {\"endlinecolor\": \"#2a3f5f\", \"gridcolor\": \"white\", \"linecolor\": \"white\", \"minorgridcolor\": \"white\", \"startlinecolor\": \"#2a3f5f\"}, \"baxis\": {\"endlinecolor\": \"#2a3f5f\", \"gridcolor\": \"white\", \"linecolor\": \"white\", \"minorgridcolor\": \"white\", \"startlinecolor\": \"#2a3f5f\"}, \"type\": \"carpet\"}], \"choropleth\": [{\"colorbar\": {\"outlinewidth\": 0, \"ticks\": \"\"}, \"type\": \"choropleth\"}], \"contour\": [{\"colorbar\": {\"outlinewidth\": 0, \"ticks\": \"\"}, \"colorscale\": [[0.0, \"#0d0887\"], [0.1111111111111111, \"#46039f\"], [0.2222222222222222, \"#7201a8\"], [0.3333333333333333, \"#9c179e\"], [0.4444444444444444, \"#bd3786\"], [0.5555555555555556, \"#d8576b\"], [0.6666666666666666, \"#ed7953\"], [0.7777777777777778, \"#fb9f3a\"], [0.8888888888888888, \"#fdca26\"], [1.0, \"#f0f921\"]], \"type\": \"contour\"}], \"contourcarpet\": [{\"colorbar\": {\"outlinewidth\": 0, \"ticks\": \"\"}, \"type\": \"contourcarpet\"}], \"heatmap\": [{\"colorbar\": {\"outlinewidth\": 0, \"ticks\": \"\"}, \"colorscale\": [[0.0, \"#0d0887\"], [0.1111111111111111, \"#46039f\"], [0.2222222222222222, \"#7201a8\"], [0.3333333333333333, \"#9c179e\"], [0.4444444444444444, \"#bd3786\"], [0.5555555555555556, \"#d8576b\"], [0.6666666666666666, \"#ed7953\"], [0.7777777777777778, \"#fb9f3a\"], [0.8888888888888888, \"#fdca26\"], [1.0, \"#f0f921\"]], \"type\": \"heatmap\"}], \"heatmapgl\": [{\"colorbar\": {\"outlinewidth\": 0, \"ticks\": \"\"}, \"colorscale\": [[0.0, \"#0d0887\"], [0.1111111111111111, \"#46039f\"], [0.2222222222222222, \"#7201a8\"], [0.3333333333333333, \"#9c179e\"], [0.4444444444444444, \"#bd3786\"], [0.5555555555555556, \"#d8576b\"], [0.6666666666666666, \"#ed7953\"], [0.7777777777777778, \"#fb9f3a\"], [0.8888888888888888, \"#fdca26\"], [1.0, \"#f0f921\"]], \"type\": \"heatmapgl\"}], \"histogram\": [{\"marker\": {\"colorbar\": {\"outlinewidth\": 0, \"ticks\": \"\"}}, \"type\": \"histogram\"}], \"histogram2d\": [{\"colorbar\": {\"outlinewidth\": 0, \"ticks\": \"\"}, \"colorscale\": [[0.0, \"#0d0887\"], [0.1111111111111111, \"#46039f\"], [0.2222222222222222, \"#7201a8\"], [0.3333333333333333, \"#9c179e\"], [0.4444444444444444, \"#bd3786\"], [0.5555555555555556, \"#d8576b\"], [0.6666666666666666, \"#ed7953\"], [0.7777777777777778, \"#fb9f3a\"], [0.8888888888888888, \"#fdca26\"], [1.0, \"#f0f921\"]], \"type\": \"histogram2d\"}], \"histogram2dcontour\": [{\"colorbar\": {\"outlinewidth\": 0, \"ticks\": \"\"}, \"colorscale\": [[0.0, \"#0d0887\"], [0.1111111111111111, \"#46039f\"], [0.2222222222222222, \"#7201a8\"], [0.3333333333333333, \"#9c179e\"], [0.4444444444444444, \"#bd3786\"], [0.5555555555555556, \"#d8576b\"], [0.6666666666666666, \"#ed7953\"], [0.7777777777777778, \"#fb9f3a\"], [0.8888888888888888, \"#fdca26\"], [1.0, \"#f0f921\"]], \"type\": \"histogram2dcontour\"}], \"mesh3d\": [{\"colorbar\": {\"outlinewidth\": 0, \"ticks\": \"\"}, \"type\": \"mesh3d\"}], \"parcoords\": [{\"line\": {\"colorbar\": {\"outlinewidth\": 0, \"ticks\": \"\"}}, \"type\": \"parcoords\"}], \"pie\": [{\"automargin\": true, \"type\": \"pie\"}], \"scatter\": [{\"marker\": {\"colorbar\": {\"outlinewidth\": 0, \"ticks\": \"\"}}, \"type\": \"scatter\"}], \"scatter3d\": [{\"line\": {\"colorbar\": {\"outlinewidth\": 0, \"ticks\": \"\"}}, \"marker\": {\"colorbar\": {\"outlinewidth\": 0, \"ticks\": \"\"}}, \"type\": \"scatter3d\"}], \"scattercarpet\": [{\"marker\": {\"colorbar\": {\"outlinewidth\": 0, \"ticks\": \"\"}}, \"type\": \"scattercarpet\"}], \"scattergeo\": [{\"marker\": {\"colorbar\": {\"outlinewidth\": 0, \"ticks\": \"\"}}, \"type\": \"scattergeo\"}], \"scattergl\": [{\"marker\": {\"colorbar\": {\"outlinewidth\": 0, \"ticks\": \"\"}}, \"type\": \"scattergl\"}], \"scattermapbox\": [{\"marker\": {\"colorbar\": {\"outlinewidth\": 0, \"ticks\": \"\"}}, \"type\": \"scattermapbox\"}], \"scatterpolar\": [{\"marker\": {\"colorbar\": {\"outlinewidth\": 0, \"ticks\": \"\"}}, \"type\": \"scatterpolar\"}], \"scatterpolargl\": [{\"marker\": {\"colorbar\": {\"outlinewidth\": 0, \"ticks\": \"\"}}, \"type\": \"scatterpolargl\"}], \"scatterternary\": [{\"marker\": {\"colorbar\": {\"outlinewidth\": 0, \"ticks\": \"\"}}, \"type\": \"scatterternary\"}], \"surface\": [{\"colorbar\": {\"outlinewidth\": 0, \"ticks\": \"\"}, \"colorscale\": [[0.0, \"#0d0887\"], [0.1111111111111111, \"#46039f\"], [0.2222222222222222, \"#7201a8\"], [0.3333333333333333, \"#9c179e\"], [0.4444444444444444, \"#bd3786\"], [0.5555555555555556, \"#d8576b\"], [0.6666666666666666, \"#ed7953\"], [0.7777777777777778, \"#fb9f3a\"], [0.8888888888888888, \"#fdca26\"], [1.0, \"#f0f921\"]], \"type\": \"surface\"}], \"table\": [{\"cells\": {\"fill\": {\"color\": \"#EBF0F8\"}, \"line\": {\"color\": \"white\"}}, \"header\": {\"fill\": {\"color\": \"#C8D4E3\"}, \"line\": {\"color\": \"white\"}}, \"type\": \"table\"}]}, \"layout\": {\"annotationdefaults\": {\"arrowcolor\": \"#2a3f5f\", \"arrowhead\": 0, \"arrowwidth\": 1}, \"coloraxis\": {\"colorbar\": {\"outlinewidth\": 0, \"ticks\": \"\"}}, \"colorscale\": {\"diverging\": [[0, \"#8e0152\"], [0.1, \"#c51b7d\"], [0.2, \"#de77ae\"], [0.3, \"#f1b6da\"], [0.4, \"#fde0ef\"], [0.5, \"#f7f7f7\"], [0.6, \"#e6f5d0\"], [0.7, \"#b8e186\"], [0.8, \"#7fbc41\"], [0.9, \"#4d9221\"], [1, \"#276419\"]], \"sequential\": [[0.0, \"#0d0887\"], [0.1111111111111111, \"#46039f\"], [0.2222222222222222, \"#7201a8\"], [0.3333333333333333, \"#9c179e\"], [0.4444444444444444, \"#bd3786\"], [0.5555555555555556, \"#d8576b\"], [0.6666666666666666, \"#ed7953\"], [0.7777777777777778, \"#fb9f3a\"], [0.8888888888888888, \"#fdca26\"], [1.0, \"#f0f921\"]], \"sequentialminus\": [[0.0, \"#0d0887\"], [0.1111111111111111, \"#46039f\"], [0.2222222222222222, \"#7201a8\"], [0.3333333333333333, \"#9c179e\"], [0.4444444444444444, \"#bd3786\"], [0.5555555555555556, \"#d8576b\"], [0.6666666666666666, \"#ed7953\"], [0.7777777777777778, \"#fb9f3a\"], [0.8888888888888888, \"#fdca26\"], [1.0, \"#f0f921\"]]}, \"colorway\": [\"#636efa\", \"#EF553B\", \"#00cc96\", \"#ab63fa\", \"#FFA15A\", \"#19d3f3\", \"#FF6692\", \"#B6E880\", \"#FF97FF\", \"#FECB52\"], \"font\": {\"color\": \"#2a3f5f\"}, \"geo\": {\"bgcolor\": \"white\", \"lakecolor\": \"white\", \"landcolor\": \"#E5ECF6\", \"showlakes\": true, \"showland\": true, \"subunitcolor\": \"white\"}, \"hoverlabel\": {\"align\": \"left\"}, \"hovermode\": \"closest\", \"mapbox\": {\"style\": \"light\"}, \"paper_bgcolor\": \"white\", \"plot_bgcolor\": \"#E5ECF6\", \"polar\": {\"angularaxis\": {\"gridcolor\": \"white\", \"linecolor\": \"white\", \"ticks\": \"\"}, \"bgcolor\": \"#E5ECF6\", \"radialaxis\": {\"gridcolor\": \"white\", \"linecolor\": \"white\", \"ticks\": \"\"}}, \"scene\": {\"xaxis\": {\"backgroundcolor\": \"#E5ECF6\", \"gridcolor\": \"white\", \"gridwidth\": 2, \"linecolor\": \"white\", \"showbackground\": true, \"ticks\": \"\", \"zerolinecolor\": \"white\"}, \"yaxis\": {\"backgroundcolor\": \"#E5ECF6\", \"gridcolor\": \"white\", \"gridwidth\": 2, \"linecolor\": \"white\", \"showbackground\": true, \"ticks\": \"\", \"zerolinecolor\": \"white\"}, \"zaxis\": {\"backgroundcolor\": \"#E5ECF6\", \"gridcolor\": \"white\", \"gridwidth\": 2, \"linecolor\": \"white\", \"showbackground\": true, \"ticks\": \"\", \"zerolinecolor\": \"white\"}}, \"shapedefaults\": {\"line\": {\"color\": \"#2a3f5f\"}}, \"ternary\": {\"aaxis\": {\"gridcolor\": \"white\", \"linecolor\": \"white\", \"ticks\": \"\"}, \"baxis\": {\"gridcolor\": \"white\", \"linecolor\": \"white\", \"ticks\": \"\"}, \"bgcolor\": \"#E5ECF6\", \"caxis\": {\"gridcolor\": \"white\", \"linecolor\": \"white\", \"ticks\": \"\"}}, \"title\": {\"x\": 0.05}, \"xaxis\": {\"automargin\": true, \"gridcolor\": \"white\", \"linecolor\": \"white\", \"ticks\": \"\", \"title\": {\"standoff\": 15}, \"zerolinecolor\": \"white\", \"zerolinewidth\": 2}, \"yaxis\": {\"automargin\": true, \"gridcolor\": \"white\", \"linecolor\": \"white\", \"ticks\": \"\", \"title\": {\"standoff\": 15}, \"zerolinecolor\": \"white\", \"zerolinewidth\": 2}}}},\n",
       "                        {\"responsive\": true}\n",
       "                    ).then(function(){\n",
       "                            \n",
       "var gd = document.getElementById('1e677bad-924d-42b9-b65d-ab194e4d2da1');\n",
       "var x = new MutationObserver(function (mutations, observer) {{\n",
       "        var display = window.getComputedStyle(gd).display;\n",
       "        if (!display || display === 'none') {{\n",
       "            console.log([gd, 'removed!']);\n",
       "            Plotly.purge(gd);\n",
       "            observer.disconnect();\n",
       "        }}\n",
       "}});\n",
       "\n",
       "// Listen for the removal of the full notebook cells\n",
       "var notebookContainer = gd.closest('#notebook-container');\n",
       "if (notebookContainer) {{\n",
       "    x.observe(notebookContainer, {childList: true});\n",
       "}}\n",
       "\n",
       "// Listen for the clearing of the current output cell\n",
       "var outputEl = gd.closest('.output');\n",
       "if (outputEl) {{\n",
       "    x.observe(outputEl, {childList: true});\n",
       "}}\n",
       "\n",
       "                        })\n",
       "                };\n",
       "                });\n",
       "            </script>\n",
       "        </div>"
      ]
     },
     "metadata": {},
     "output_type": "display_data"
    }
   ],
   "source": [
    "k = 'bva'\n",
    "tdf = df.sort_index(ascending=False)[:10]\n",
    "fig = px.parallel_coordinates(tdf, color=k,\n",
    "              dimensions=['combine_chance', 'crossover_chance', 'mutate_chance', 'exp_power',\n",
    "                         #'dec_f0','dec_f1','dec_f2','dec_f3',\n",
    "                          'bva'],\n",
    "              color_continuous_scale=px.colors.diverging.Tealrose,\n",
    "              range_color=[.53,df[k].max()],\n",
    "              color_continuous_midpoint=.55)\n",
    "fig.show()"
   ]
  },
  {
   "cell_type": "code",
   "execution_count": null,
   "metadata": {},
   "outputs": [],
   "source": []
  },
  {
   "cell_type": "code",
   "execution_count": null,
   "metadata": {},
   "outputs": [],
   "source": []
  },
  {
   "cell_type": "code",
   "execution_count": null,
   "metadata": {},
   "outputs": [],
   "source": []
  },
  {
   "cell_type": "code",
   "execution_count": null,
   "metadata": {},
   "outputs": [],
   "source": []
  },
  {
   "cell_type": "markdown",
   "metadata": {
    "execution": {
     "iopub.execute_input": "2020-05-15T08:17:13.031204Z",
     "iopub.status.busy": "2020-05-15T08:17:13.030909Z",
     "iopub.status.idle": "2020-05-15T08:17:13.033826Z",
     "shell.execute_reply": "2020-05-15T08:17:13.033386Z",
     "shell.execute_reply.started": "2020-05-15T08:17:13.031167Z"
    }
   },
   "source": [
    "# Exports"
   ]
  },
  {
   "cell_type": "code",
   "execution_count": 11,
   "metadata": {
    "ExecuteTime": {
     "end_time": "2020-05-15T19:27:58.095241Z",
     "start_time": "2020-05-15T19:27:57.909654Z"
    },
    "execution": {
     "iopub.execute_input": "2020-05-18T12:52:57.059387Z",
     "iopub.status.busy": "2020-05-18T12:52:57.059067Z",
     "iopub.status.idle": "2020-05-18T12:52:57.283215Z",
     "shell.execute_reply": "2020-05-18T12:52:57.282636Z",
     "shell.execute_reply.started": "2020-05-18T12:52:57.059330Z"
    }
   },
   "outputs": [
    {
     "name": "stdout",
     "output_type": "stream",
     "text": [
      "Converted gen_exp.ipynb to exp/nb_gen_exp.py\n"
     ]
    }
   ],
   "source": [
    "!python3 extra/n2s.py gen_exp.ipynb "
   ]
  },
  {
   "cell_type": "code",
   "execution_count": null,
   "metadata": {},
   "outputs": [],
   "source": []
  }
 ],
 "metadata": {
  "kernelspec": {
   "display_name": "Python 3",
   "language": "python",
   "name": "python3"
  },
  "language_info": {
   "codemirror_mode": {
    "name": "ipython",
    "version": 3
   },
   "file_extension": ".py",
   "mimetype": "text/x-python",
   "name": "python",
   "nbconvert_exporter": "python",
   "pygments_lexer": "ipython3",
   "version": "3.6.9"
  }
 },
 "nbformat": 4,
 "nbformat_minor": 4
}
