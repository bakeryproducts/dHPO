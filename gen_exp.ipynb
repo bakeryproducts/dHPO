{
 "cells": [
  {
   "cell_type": "markdown",
   "metadata": {
    "collapsed": "true",
    "execution": {
     "iopub.execute_input": "2020-05-15T08:06:55.997152Z",
     "iopub.status.busy": "2020-05-15T08:06:55.996856Z",
     "iopub.status.idle": "2020-05-15T08:06:55.999717Z",
     "shell.execute_reply": "2020-05-15T08:06:55.999268Z",
     "shell.execute_reply.started": "2020-05-15T08:06:55.997118Z"
    },
    "heading_collapsed": true
   },
   "source": [
    "# Imports"
   ]
  },
  {
   "cell_type": "code",
   "execution_count": 1,
   "metadata": {
    "ExecuteTime": {
     "end_time": "2020-05-21T15:46:58.528538Z",
     "start_time": "2020-05-21T15:46:58.029087Z"
    },
    "execution": {
     "iopub.execute_input": "2020-05-21T10:22:28.560672Z",
     "iopub.status.busy": "2020-05-21T10:22:28.560312Z",
     "iopub.status.idle": "2020-05-21T10:22:28.567699Z",
     "shell.execute_reply": "2020-05-21T10:22:28.567147Z",
     "shell.execute_reply.started": "2020-05-21T10:22:28.560628Z"
    },
    "hidden": true
   },
   "outputs": [],
   "source": [
    "#export\n",
    "import os\n",
    "import sys\n",
    "sys.path.append(os.path.join(os.getcwd(),'exp'))\n",
    "\n",
    "import json\n",
    "import yaml\n",
    "import datetime\n",
    "import collections\n",
    "from pathlib import Path\n",
    "from collections import OrderedDict\n",
    "\n",
    "import numpy as np\n",
    "import pandas as pd\n",
    "from nb_base_exp import *#BaseExperiment, BaseProject, load_txt_log\n",
    "from config import cfg"
   ]
  },
  {
   "cell_type": "code",
   "execution_count": 2,
   "metadata": {
    "ExecuteTime": {
     "end_time": "2020-05-21T15:46:59.674616Z",
     "start_time": "2020-05-21T15:46:58.530133Z"
    },
    "execution": {
     "iopub.execute_input": "2020-05-21T10:22:28.820106Z",
     "iopub.status.busy": "2020-05-21T10:22:28.819918Z",
     "iopub.status.idle": "2020-05-21T10:22:29.172972Z",
     "shell.execute_reply": "2020-05-21T10:22:29.172352Z",
     "shell.execute_reply.started": "2020-05-21T10:22:28.820075Z"
    },
    "hidden": true
   },
   "outputs": [],
   "source": [
    "import plotly.express as px\n",
    "import shutil\n",
    "import matplotlib.pyplot as plt\n",
    "%matplotlib inline"
   ]
  },
  {
   "cell_type": "code",
   "execution_count": 3,
   "metadata": {
    "ExecuteTime": {
     "end_time": "2020-05-21T15:46:59.680168Z",
     "start_time": "2020-05-21T15:46:59.676342Z"
    },
    "execution": {
     "iopub.execute_input": "2020-05-21T10:22:29.179196Z",
     "iopub.status.busy": "2020-05-21T10:22:29.179023Z",
     "iopub.status.idle": "2020-05-21T10:22:29.182374Z",
     "shell.execute_reply": "2020-05-21T10:22:29.181929Z",
     "shell.execute_reply.started": "2020-05-21T10:22:29.179167Z"
    },
    "hidden": true
   },
   "outputs": [
    {
     "data": {
      "text/html": [
       "<style>.container { width:95% !important; }</style>"
      ],
      "text/plain": [
       "<IPython.core.display.HTML object>"
      ]
     },
     "metadata": {},
     "output_type": "display_data"
    }
   ],
   "source": [
    "from IPython.core.display import display, HTML\n",
    "display(HTML(\"<style>.container { width:95% !important; }</style>\"))"
   ]
  },
  {
   "cell_type": "markdown",
   "metadata": {
    "heading_collapsed": true
   },
   "source": [
    "# Code"
   ]
  },
  {
   "cell_type": "code",
   "execution_count": 4,
   "metadata": {
    "ExecuteTime": {
     "end_time": "2020-05-21T15:47:04.050678Z",
     "start_time": "2020-05-21T15:47:03.958499Z"
    },
    "execution": {
     "iopub.execute_input": "2020-05-21T10:22:32.033737Z",
     "iopub.status.busy": "2020-05-21T10:22:32.033444Z",
     "iopub.status.idle": "2020-05-21T10:22:32.042922Z",
     "shell.execute_reply": "2020-05-21T10:22:32.042416Z",
     "shell.execute_reply.started": "2020-05-21T10:22:32.033696Z"
    },
    "hidden": true
   },
   "outputs": [],
   "source": [
    "#export\n",
    "def load_log(path):\n",
    "    columns = ['date','epoch','acc','val_acc']\n",
    "    types = [str, np.int32, np.float32, np.float32]\n",
    "    log_path = list(path.rglob('*/*/log.txt'))[0]\n",
    "\n",
    "    _, logs = load_txt_log(path=log_path, types=types)\n",
    "\n",
    "    df = pd.DataFrame(logs, columns=columns)\n",
    "    df.dropna(inplace=True)\n",
    "    df = df.astype(dict(zip(columns, types)))\n",
    "\n",
    "    df['val_acc'].replace(-1., np.NaN, inplace=True)\n",
    "    df.fillna(method='ffill', inplace=True)\n",
    "    df.set_index('epoch', inplace=True)\n",
    "    timeDF=(pd.to_datetime(df['date'].str.strip(), format='%H:%M:%S'))\n",
    "    del df['date']# = timeDF\n",
    "    df['duration'] = timeDF - timeDF[0]\n",
    "    return df\n",
    "\n",
    "def load_yaml_cfg(path):\n",
    "    params_path = list(path.rglob('*/*/train.yaml'))[0]\n",
    "    with open(params_path, 'r') as f:\n",
    "        d = yaml.safe_load(f)\n",
    "    d = flatten(d, sep='|')\n",
    "    d = OrderedDict(sorted(d.items(), key=lambda x:x[0], reverse=False))\n",
    "    return d\n",
    "\n",
    "def load_json_cfg(path):\n",
    "    params_path = list(path.rglob('*/*/params.json'))[0]\n",
    "    with open(params_path, 'r') as f:\n",
    "        d = json.load(f)\n",
    "    d = flatten(d, sep='|')\n",
    "    d = OrderedDict(sorted(d.items(), key=lambda x:x[0], reverse=False))\n",
    "    return d\n",
    "\n",
    "def load_cfg(*args, **kwargs):\n",
    "    return load_json_cfg(*args, **kwargs)\n",
    "\n",
    "def check_valid(cpath):\n",
    "    flag_files = set(['log.txt', 'params.json'])\n",
    "    where_to_look = 'output'\n",
    "    output = list(Path(cpath).rglob(where_to_look))\n",
    "    files=[]\n",
    "    if output:\n",
    "        files = list(output[0].glob('*/*'))\n",
    "\n",
    "    return flag_files.issubset(set([f.name for f in files]))\n",
    "\n"
   ]
  },
  {
   "cell_type": "code",
   "execution_count": 5,
   "metadata": {
    "ExecuteTime": {
     "end_time": "2020-05-21T15:47:04.360195Z",
     "start_time": "2020-05-21T15:47:04.352651Z"
    },
    "execution": {
     "iopub.execute_input": "2020-05-21T10:22:32.381823Z",
     "iopub.status.busy": "2020-05-21T10:22:32.381631Z",
     "iopub.status.idle": "2020-05-21T10:22:32.389851Z",
     "shell.execute_reply": "2020-05-21T10:22:32.389369Z",
     "shell.execute_reply.started": "2020-05-21T10:22:32.381793Z"
    },
    "hidden": true
   },
   "outputs": [],
   "source": [
    "#export\n",
    "class GenExperiment(BaseExperiment):\n",
    "    def __init__(self,  path):\n",
    "        super(GenExperiment, self).__init__(path, log_reader=load_log, cfg_reader=load_cfg)\n",
    "        self.start_time = self.parse_name()\n",
    "\n",
    "    def parse_name(self, prefix='run_'):\n",
    "        date = self.name.strip(prefix)#.rstrip('.lock')\n",
    "        start_time = datetime.datetime.strptime(date, '%Y_%b_%d_%H_%M_%S_%f')\n",
    "        return start_time\n",
    "\n",
    "    def total_time(self):\n",
    "        return self.log_data['duration'][self.__len__()-1]\n",
    "    \n",
    "class GenProject(BaseProject):\n",
    "    def __init__(self,  root):\n",
    "        super(GenProject, self).__init__(root, valid_func=check_valid, Experiment=GenExperiment)\n",
    "    \n",
    "    def extend_base(self):\n",
    "        dd = {}\n",
    "        for run in self.exps:\n",
    "            run_best = run.best(num=3, col='val_acc')\n",
    "            #run_best_pct = 100 - int( 100 * (run.total_time() - dur) / run.total_time())\n",
    "            d = {}\n",
    "            d['start'] = run.start_time\n",
    "            d['name'] = run.name\n",
    "            d['tt'] = run.total_time()\n",
    "            d['t2b'] = run_best['duration'].values[0]\n",
    "            d['ba'] = round(run_best.mean()[['acc']].values[0],3)\n",
    "            d['bva'] = round(run_best.mean()[['val_acc']].values[0],3)\n",
    "            d['la'] = round(run.log_data['acc'][-10:].mean(),3)\n",
    "            #d.update(**run.params)\n",
    "            dd[run.name] = d\n",
    "        #res_df = pd.DataFrame(results, columns=['Name','duration', 'LRM', 'best_acc', 'best_val', 'best_pct', *run.params.keys()])\n",
    "\n",
    "        df = pd.DataFrame(dd).T\n",
    "        df = pd.concat([df,self.base_table()], axis=1)\n",
    "        df.set_index('start', drop=True, inplace=True)\n",
    "#         for x in ['tt','t2b']:\n",
    "#             df[x] = pd.DatetimeIndex(df[x]).strftime(\"%H:%M:%S\")\n",
    "            \n",
    "        df['ba'] = df['ba'].astype(float)\n",
    "        df['la'] = df['la'].astype(float)\n",
    "        df['bva'] = df['bva'].astype(float)\n",
    "        df = df.round(4)\n",
    "        \n",
    "        \n",
    "        return df"
   ]
  },
  {
   "cell_type": "code",
   "execution_count": 6,
   "metadata": {
    "ExecuteTime": {
     "end_time": "2020-05-21T15:47:04.560754Z",
     "start_time": "2020-05-21T15:47:04.553855Z"
    },
    "execution": {
     "iopub.execute_input": "2020-05-21T10:22:32.999389Z",
     "iopub.status.busy": "2020-05-21T10:22:32.999109Z",
     "iopub.status.idle": "2020-05-21T10:22:33.006471Z",
     "shell.execute_reply": "2020-05-21T10:22:33.005953Z",
     "shell.execute_reply.started": "2020-05-21T10:22:32.999353Z"
    },
    "hidden": true
   },
   "outputs": [],
   "source": [
    "def plot(cols=None, window=1,limits=[-1,-1], ax=None, x=None):\n",
    "        if ax is None:\n",
    "            f,ax = plt.subplots(1)\n",
    "        if cols is None:\n",
    "            cols = ['acc']\n",
    "        if x is not None:\n",
    "            cols.append(x)\n",
    "            \n",
    "        data = e.log_data\n",
    "        llim, rlim = limits\n",
    "        rlim = len(data) if rlim <=0 else rlim\n",
    "        llim = max(0, llim)\n",
    "        \n",
    "        \n",
    "        d = data.iloc[llim:rlim,:]\n",
    "        d = d.loc[:,cols]\n",
    "        for c in cols:\n",
    "            if c != 'duration':\n",
    "                d[c] = d[c].rolling(window).mean() \n",
    "        \n",
    "        d.plot(figsize=(12,7), ax=ax, x=x)\n",
    "        \n",
    "def mod_df(df, col='acc', window=1, div=1):\n",
    "    d = df.loc[:, [col, 'duration']]\n",
    "    s = d['duration'].apply(lambda x: x.seconds)/div\n",
    "    d.loc[:,'duration'] = s\n",
    "    \n",
    "    s = d[col].rolling(window).mean()\n",
    "    d.loc[:,col] = s\n",
    "    return d\n",
    "\n",
    "def plot_run(run, col, ax,  window=5):\n",
    "    d = mod_df(run.log_data, col=col, window=window)\n",
    "    d.plot('duration', ax=ax)"
   ]
  },
  {
   "cell_type": "markdown",
   "metadata": {
    "collapsed": "true"
   },
   "source": [
    "# Tests"
   ]
  },
  {
   "cell_type": "code",
   "execution_count": 28,
   "metadata": {
    "ExecuteTime": {
     "end_time": "2020-05-21T18:04:05.052860Z",
     "start_time": "2020-05-21T18:04:04.446399Z"
    },
    "execution": {
     "iopub.execute_input": "2020-05-19T15:48:55.273020Z",
     "iopub.status.busy": "2020-05-19T15:48:55.272775Z",
     "iopub.status.idle": "2020-05-19T15:48:56.009262Z",
     "shell.execute_reply": "2020-05-19T15:48:56.008543Z",
     "shell.execute_reply.started": "2020-05-19T15:48:55.272987Z"
    }
   },
   "outputs": [],
   "source": [
    "root = Path(cfg.DAG.RUNS)\n",
    "#root = Path('../__crsch_cycle/cycler_runs/')\n",
    "\n",
    "bp = GenProject(root)\n",
    "df = bp.extend_base()"
   ]
  },
  {
   "cell_type": "code",
   "execution_count": 29,
   "metadata": {
    "ExecuteTime": {
     "end_time": "2020-05-21T18:04:05.070154Z",
     "start_time": "2020-05-21T18:04:05.054607Z"
    },
    "execution": {
     "iopub.execute_input": "2020-05-19T15:48:56.020978Z",
     "iopub.status.busy": "2020-05-19T15:48:56.020808Z",
     "iopub.status.idle": "2020-05-19T15:48:56.036923Z",
     "shell.execute_reply": "2020-05-19T15:48:56.036466Z",
     "shell.execute_reply.started": "2020-05-19T15:48:56.020950Z"
    },
    "scrolled": true
   },
   "outputs": [
    {
     "data": {
      "text/html": [
       "<div>\n",
       "<style scoped>\n",
       "    .dataframe tbody tr th:only-of-type {\n",
       "        vertical-align: middle;\n",
       "    }\n",
       "\n",
       "    .dataframe tbody tr th {\n",
       "        vertical-align: top;\n",
       "    }\n",
       "\n",
       "    .dataframe thead th {\n",
       "        text-align: right;\n",
       "    }\n",
       "</style>\n",
       "<table border=\"1\" class=\"dataframe\">\n",
       "  <thead>\n",
       "    <tr style=\"text-align: right;\">\n",
       "      <th></th>\n",
       "      <th>tt</th>\n",
       "      <th>t2b</th>\n",
       "      <th>ba</th>\n",
       "      <th>bva</th>\n",
       "      <th>la</th>\n",
       "      <th>dec_f0</th>\n",
       "      <th>dec_f1</th>\n",
       "      <th>dec_f2</th>\n",
       "      <th>dec_f3</th>\n",
       "      <th>generation_size</th>\n",
       "      <th>generations</th>\n",
       "      <th>genom|combine_chance</th>\n",
       "      <th>genom|crossover_chance</th>\n",
       "      <th>genom|mutate_chance</th>\n",
       "      <th>post|exp_power</th>\n",
       "      <th>seed</th>\n",
       "      <th>subsample_size</th>\n",
       "    </tr>\n",
       "    <tr>\n",
       "      <th>start</th>\n",
       "      <th></th>\n",
       "      <th></th>\n",
       "      <th></th>\n",
       "      <th></th>\n",
       "      <th></th>\n",
       "      <th></th>\n",
       "      <th></th>\n",
       "      <th></th>\n",
       "      <th></th>\n",
       "      <th></th>\n",
       "      <th></th>\n",
       "      <th></th>\n",
       "      <th></th>\n",
       "      <th></th>\n",
       "      <th></th>\n",
       "      <th></th>\n",
       "      <th></th>\n",
       "    </tr>\n",
       "  </thead>\n",
       "  <tbody>\n",
       "    <tr>\n",
       "      <th>2020-05-21 20:02:47.284131</th>\n",
       "      <td>00:07:06</td>\n",
       "      <td>00:06:32</td>\n",
       "      <td>0.584</td>\n",
       "      <td>0.584</td>\n",
       "      <td>0.589</td>\n",
       "      <td>12</td>\n",
       "      <td>10</td>\n",
       "      <td>8</td>\n",
       "      <td>6</td>\n",
       "      <td>200</td>\n",
       "      <td>200</td>\n",
       "      <td>0.4910</td>\n",
       "      <td>1.0000</td>\n",
       "      <td>0.0021</td>\n",
       "      <td>6</td>\n",
       "      <td>0</td>\n",
       "      <td>50</td>\n",
       "    </tr>\n",
       "    <tr>\n",
       "      <th>2020-05-21 20:18:09.435122</th>\n",
       "      <td>00:07:23</td>\n",
       "      <td>00:07:23</td>\n",
       "      <td>0.574</td>\n",
       "      <td>0.582</td>\n",
       "      <td>0.578</td>\n",
       "      <td>12</td>\n",
       "      <td>10</td>\n",
       "      <td>8</td>\n",
       "      <td>6</td>\n",
       "      <td>200</td>\n",
       "      <td>200</td>\n",
       "      <td>0.5610</td>\n",
       "      <td>1.0000</td>\n",
       "      <td>0.0031</td>\n",
       "      <td>15</td>\n",
       "      <td>0</td>\n",
       "      <td>50</td>\n",
       "    </tr>\n",
       "    <tr>\n",
       "      <th>2020-05-21 20:10:27.642756</th>\n",
       "      <td>00:07:11</td>\n",
       "      <td>00:07:11</td>\n",
       "      <td>0.566</td>\n",
       "      <td>0.580</td>\n",
       "      <td>0.565</td>\n",
       "      <td>12</td>\n",
       "      <td>10</td>\n",
       "      <td>8</td>\n",
       "      <td>6</td>\n",
       "      <td>200</td>\n",
       "      <td>200</td>\n",
       "      <td>0.5049</td>\n",
       "      <td>0.9578</td>\n",
       "      <td>0.0035</td>\n",
       "      <td>15</td>\n",
       "      <td>0</td>\n",
       "      <td>50</td>\n",
       "    </tr>\n",
       "    <tr>\n",
       "      <th>2020-05-21 19:31:28.669589</th>\n",
       "      <td>00:07:02</td>\n",
       "      <td>00:06:01</td>\n",
       "      <td>0.582</td>\n",
       "      <td>0.580</td>\n",
       "      <td>0.585</td>\n",
       "      <td>12</td>\n",
       "      <td>10</td>\n",
       "      <td>8</td>\n",
       "      <td>6</td>\n",
       "      <td>200</td>\n",
       "      <td>200</td>\n",
       "      <td>0.5056</td>\n",
       "      <td>1.0000</td>\n",
       "      <td>0.0038</td>\n",
       "      <td>9</td>\n",
       "      <td>0</td>\n",
       "      <td>50</td>\n",
       "    </tr>\n",
       "    <tr>\n",
       "      <th>2020-05-21 19:39:01.593122</th>\n",
       "      <td>00:07:07</td>\n",
       "      <td>00:06:11</td>\n",
       "      <td>0.590</td>\n",
       "      <td>0.578</td>\n",
       "      <td>0.599</td>\n",
       "      <td>12</td>\n",
       "      <td>10</td>\n",
       "      <td>8</td>\n",
       "      <td>6</td>\n",
       "      <td>200</td>\n",
       "      <td>200</td>\n",
       "      <td>0.4910</td>\n",
       "      <td>1.0000</td>\n",
       "      <td>0.0021</td>\n",
       "      <td>6</td>\n",
       "      <td>0</td>\n",
       "      <td>50</td>\n",
       "    </tr>\n",
       "    <tr>\n",
       "      <th>2020-05-21 18:17:42.597546</th>\n",
       "      <td>00:07:04</td>\n",
       "      <td>00:06:34</td>\n",
       "      <td>0.595</td>\n",
       "      <td>0.574</td>\n",
       "      <td>0.589</td>\n",
       "      <td>12</td>\n",
       "      <td>10</td>\n",
       "      <td>8</td>\n",
       "      <td>6</td>\n",
       "      <td>200</td>\n",
       "      <td>200</td>\n",
       "      <td>0.4932</td>\n",
       "      <td>0.8889</td>\n",
       "      <td>0.0029</td>\n",
       "      <td>5</td>\n",
       "      <td>0</td>\n",
       "      <td>50</td>\n",
       "    </tr>\n",
       "    <tr>\n",
       "      <th>2020-05-21 19:31:29.329349</th>\n",
       "      <td>00:07:05</td>\n",
       "      <td>00:07:05</td>\n",
       "      <td>0.592</td>\n",
       "      <td>0.574</td>\n",
       "      <td>0.591</td>\n",
       "      <td>12</td>\n",
       "      <td>10</td>\n",
       "      <td>8</td>\n",
       "      <td>6</td>\n",
       "      <td>200</td>\n",
       "      <td>200</td>\n",
       "      <td>0.4965</td>\n",
       "      <td>0.8912</td>\n",
       "      <td>0.0035</td>\n",
       "      <td>4</td>\n",
       "      <td>0</td>\n",
       "      <td>50</td>\n",
       "    </tr>\n",
       "    <tr>\n",
       "      <th>2020-05-21 18:25:49.148309</th>\n",
       "      <td>00:07:03</td>\n",
       "      <td>00:05:44</td>\n",
       "      <td>0.552</td>\n",
       "      <td>0.573</td>\n",
       "      <td>0.554</td>\n",
       "      <td>12</td>\n",
       "      <td>10</td>\n",
       "      <td>8</td>\n",
       "      <td>6</td>\n",
       "      <td>200</td>\n",
       "      <td>200</td>\n",
       "      <td>0.4932</td>\n",
       "      <td>0.8889</td>\n",
       "      <td>0.0029</td>\n",
       "      <td>5</td>\n",
       "      <td>0</td>\n",
       "      <td>50</td>\n",
       "    </tr>\n",
       "    <tr>\n",
       "      <th>2020-05-21 18:52:46.945772</th>\n",
       "      <td>00:07:07</td>\n",
       "      <td>00:06:28</td>\n",
       "      <td>0.554</td>\n",
       "      <td>0.565</td>\n",
       "      <td>0.562</td>\n",
       "      <td>12</td>\n",
       "      <td>10</td>\n",
       "      <td>8</td>\n",
       "      <td>6</td>\n",
       "      <td>200</td>\n",
       "      <td>200</td>\n",
       "      <td>0.4749</td>\n",
       "      <td>1.0000</td>\n",
       "      <td>0.0000</td>\n",
       "      <td>1</td>\n",
       "      <td>0</td>\n",
       "      <td>50</td>\n",
       "    </tr>\n",
       "    <tr>\n",
       "      <th>2020-05-21 19:15:19.487714</th>\n",
       "      <td>00:07:02</td>\n",
       "      <td>00:07:02</td>\n",
       "      <td>0.543</td>\n",
       "      <td>0.565</td>\n",
       "      <td>0.558</td>\n",
       "      <td>12</td>\n",
       "      <td>10</td>\n",
       "      <td>8</td>\n",
       "      <td>6</td>\n",
       "      <td>200</td>\n",
       "      <td>200</td>\n",
       "      <td>0.4840</td>\n",
       "      <td>0.8943</td>\n",
       "      <td>0.0088</td>\n",
       "      <td>1</td>\n",
       "      <td>0</td>\n",
       "      <td>50</td>\n",
       "    </tr>\n",
       "  </tbody>\n",
       "</table>\n",
       "</div>"
      ],
      "text/plain": [
       "                                 tt      t2b     ba    bva     la  dec_f0  \\\n",
       "start                                                                       \n",
       "2020-05-21 20:02:47.284131 00:07:06 00:06:32  0.584  0.584  0.589      12   \n",
       "2020-05-21 20:18:09.435122 00:07:23 00:07:23  0.574  0.582  0.578      12   \n",
       "2020-05-21 20:10:27.642756 00:07:11 00:07:11  0.566  0.580  0.565      12   \n",
       "2020-05-21 19:31:28.669589 00:07:02 00:06:01  0.582  0.580  0.585      12   \n",
       "2020-05-21 19:39:01.593122 00:07:07 00:06:11  0.590  0.578  0.599      12   \n",
       "2020-05-21 18:17:42.597546 00:07:04 00:06:34  0.595  0.574  0.589      12   \n",
       "2020-05-21 19:31:29.329349 00:07:05 00:07:05  0.592  0.574  0.591      12   \n",
       "2020-05-21 18:25:49.148309 00:07:03 00:05:44  0.552  0.573  0.554      12   \n",
       "2020-05-21 18:52:46.945772 00:07:07 00:06:28  0.554  0.565  0.562      12   \n",
       "2020-05-21 19:15:19.487714 00:07:02 00:07:02  0.543  0.565  0.558      12   \n",
       "\n",
       "                            dec_f1  dec_f2  dec_f3  generation_size  \\\n",
       "start                                                                 \n",
       "2020-05-21 20:02:47.284131      10       8       6              200   \n",
       "2020-05-21 20:18:09.435122      10       8       6              200   \n",
       "2020-05-21 20:10:27.642756      10       8       6              200   \n",
       "2020-05-21 19:31:28.669589      10       8       6              200   \n",
       "2020-05-21 19:39:01.593122      10       8       6              200   \n",
       "2020-05-21 18:17:42.597546      10       8       6              200   \n",
       "2020-05-21 19:31:29.329349      10       8       6              200   \n",
       "2020-05-21 18:25:49.148309      10       8       6              200   \n",
       "2020-05-21 18:52:46.945772      10       8       6              200   \n",
       "2020-05-21 19:15:19.487714      10       8       6              200   \n",
       "\n",
       "                            generations  genom|combine_chance  \\\n",
       "start                                                           \n",
       "2020-05-21 20:02:47.284131          200                0.4910   \n",
       "2020-05-21 20:18:09.435122          200                0.5610   \n",
       "2020-05-21 20:10:27.642756          200                0.5049   \n",
       "2020-05-21 19:31:28.669589          200                0.5056   \n",
       "2020-05-21 19:39:01.593122          200                0.4910   \n",
       "2020-05-21 18:17:42.597546          200                0.4932   \n",
       "2020-05-21 19:31:29.329349          200                0.4965   \n",
       "2020-05-21 18:25:49.148309          200                0.4932   \n",
       "2020-05-21 18:52:46.945772          200                0.4749   \n",
       "2020-05-21 19:15:19.487714          200                0.4840   \n",
       "\n",
       "                            genom|crossover_chance  genom|mutate_chance  \\\n",
       "start                                                                     \n",
       "2020-05-21 20:02:47.284131                  1.0000               0.0021   \n",
       "2020-05-21 20:18:09.435122                  1.0000               0.0031   \n",
       "2020-05-21 20:10:27.642756                  0.9578               0.0035   \n",
       "2020-05-21 19:31:28.669589                  1.0000               0.0038   \n",
       "2020-05-21 19:39:01.593122                  1.0000               0.0021   \n",
       "2020-05-21 18:17:42.597546                  0.8889               0.0029   \n",
       "2020-05-21 19:31:29.329349                  0.8912               0.0035   \n",
       "2020-05-21 18:25:49.148309                  0.8889               0.0029   \n",
       "2020-05-21 18:52:46.945772                  1.0000               0.0000   \n",
       "2020-05-21 19:15:19.487714                  0.8943               0.0088   \n",
       "\n",
       "                            post|exp_power  seed  subsample_size  \n",
       "start                                                             \n",
       "2020-05-21 20:02:47.284131               6     0              50  \n",
       "2020-05-21 20:18:09.435122              15     0              50  \n",
       "2020-05-21 20:10:27.642756              15     0              50  \n",
       "2020-05-21 19:31:28.669589               9     0              50  \n",
       "2020-05-21 19:39:01.593122               6     0              50  \n",
       "2020-05-21 18:17:42.597546               5     0              50  \n",
       "2020-05-21 19:31:29.329349               4     0              50  \n",
       "2020-05-21 18:25:49.148309               5     0              50  \n",
       "2020-05-21 18:52:46.945772               1     0              50  \n",
       "2020-05-21 19:15:19.487714               1     0              50  "
      ]
     },
     "execution_count": 29,
     "metadata": {},
     "output_type": "execute_result"
    }
   ],
   "source": [
    "#df.sort_index(ascending=False).head(5)\n",
    "df.drop(['name'], axis=1).sort_values('bva', ascending=False).head(10)"
   ]
  },
  {
   "cell_type": "code",
   "execution_count": 30,
   "metadata": {
    "ExecuteTime": {
     "end_time": "2020-05-21T18:04:05.190066Z",
     "start_time": "2020-05-21T18:04:05.071567Z"
    },
    "execution": {
     "iopub.execute_input": "2020-05-19T15:49:03.717119Z",
     "iopub.status.busy": "2020-05-19T15:49:03.716849Z",
     "iopub.status.idle": "2020-05-19T15:49:03.860564Z",
     "shell.execute_reply": "2020-05-19T15:49:03.860093Z",
     "shell.execute_reply.started": "2020-05-19T15:49:03.717083Z"
    }
   },
   "outputs": [
    {
     "name": "stdout",
     "output_type": "stream",
     "text": [
      "0.4655833333333333\n"
     ]
    },
    {
     "data": {
      "text/plain": [
       "[<matplotlib.lines.Line2D at 0x7f3b3bf04128>]"
      ]
     },
     "execution_count": 30,
     "metadata": {},
     "output_type": "execute_result"
    },
    {
     "data": {
      "image/png": "[encoded data removed]",
      "text/plain": [
       "<Figure size 432x288 with 1 Axes>"
      ]
     },
     "metadata": {
      "needs_background": "light"
     },
     "output_type": "display_data"
    }
   ],
   "source": [
    "s = df['bva']\n",
    "print(s.mean())\n",
    "s = s.sort_index()\n",
    "plt.plot(s.rolling(3).mean().values)"
   ]
  },
  {
   "cell_type": "code",
   "execution_count": null,
   "metadata": {},
   "outputs": [],
   "source": []
  },
  {
   "cell_type": "code",
   "execution_count": null,
   "metadata": {},
   "outputs": [],
   "source": []
  },
  {
   "cell_type": "code",
   "execution_count": 12,
   "metadata": {
    "ExecuteTime": {
     "end_time": "2020-05-21T15:47:24.467795Z",
     "start_time": "2020-05-21T15:47:24.463746Z"
    },
    "execution": {
     "iopub.execute_input": "2020-05-19T14:37:40.656483Z",
     "iopub.status.busy": "2020-05-19T14:37:40.656167Z",
     "iopub.status.idle": "2020-05-19T14:37:40.660764Z",
     "shell.execute_reply": "2020-05-19T14:37:40.660291Z",
     "shell.execute_reply.started": "2020-05-19T14:37:40.656440Z"
    }
   },
   "outputs": [
    {
     "data": {
      "text/plain": [
       "Timedelta('0 days 01:04:32')"
      ]
     },
     "execution_count": 12,
     "metadata": {},
     "output_type": "execute_result"
    }
   ],
   "source": [
    "df['tt'].sum()"
   ]
  },
  {
   "cell_type": "code",
   "execution_count": 110,
   "metadata": {
    "ExecuteTime": {
     "end_time": "2020-05-20T19:42:37.725423Z",
     "start_time": "2020-05-20T19:42:37.723296Z"
    },
    "execution": {
     "iopub.execute_input": "2020-05-19T14:37:45.592199Z",
     "iopub.status.busy": "2020-05-19T14:37:45.591899Z",
     "iopub.status.idle": "2020-05-19T14:37:45.597483Z",
     "shell.execute_reply": "2020-05-19T14:37:45.597028Z",
     "shell.execute_reply.started": "2020-05-19T14:37:45.592159Z"
    }
   },
   "outputs": [],
   "source": [
    "# df = df[df['ba']>.3]\n",
    "# df.shape"
   ]
  },
  {
   "cell_type": "code",
   "execution_count": 111,
   "metadata": {
    "ExecuteTime": {
     "end_time": "2020-05-20T19:42:38.084339Z",
     "start_time": "2020-05-20T19:42:38.082262Z"
    },
    "execution": {
     "iopub.execute_input": "2020-05-18T12:52:56.386960Z",
     "iopub.status.busy": "2020-05-18T12:52:56.386784Z",
     "iopub.status.idle": "2020-05-18T12:52:56.390679Z",
     "shell.execute_reply": "2020-05-18T12:52:56.390265Z",
     "shell.execute_reply.started": "2020-05-18T12:52:56.386933Z"
    }
   },
   "outputs": [],
   "source": [
    "# df = df[df['crossover_chance']==1.99]\n",
    "# df.shape\n",
    "# names = df.sort_index()['name'][:30].values\n",
    "# p = Path('../__crsch_cycle/cycler_runs/')\n",
    "# for name in names:\n",
    "#     pi = p/name\n",
    "#     shutil.rmtree(pi)"
   ]
  },
  {
   "cell_type": "code",
   "execution_count": 26,
   "metadata": {
    "ExecuteTime": {
     "end_time": "2020-05-21T17:54:00.357328Z",
     "start_time": "2020-05-21T17:54:00.330830Z"
    },
    "scrolled": true
   },
   "outputs": [
    {
     "data": {
      "text/html": [
       "<div>\n",
       "<style scoped>\n",
       "    .dataframe tbody tr th:only-of-type {\n",
       "        vertical-align: middle;\n",
       "    }\n",
       "\n",
       "    .dataframe tbody tr th {\n",
       "        vertical-align: top;\n",
       "    }\n",
       "\n",
       "    .dataframe thead th {\n",
       "        text-align: right;\n",
       "    }\n",
       "</style>\n",
       "<table border=\"1\" class=\"dataframe\">\n",
       "  <thead>\n",
       "    <tr style=\"text-align: right;\">\n",
       "      <th></th>\n",
       "      <th>name</th>\n",
       "      <th>tt</th>\n",
       "      <th>t2b</th>\n",
       "      <th>ba</th>\n",
       "      <th>bva</th>\n",
       "      <th>la</th>\n",
       "      <th>dec_f0</th>\n",
       "      <th>dec_f1</th>\n",
       "      <th>dec_f2</th>\n",
       "      <th>dec_f3</th>\n",
       "      <th>generation_size</th>\n",
       "      <th>generations</th>\n",
       "      <th>genom|combine_chance</th>\n",
       "      <th>genom|crossover_chance</th>\n",
       "      <th>genom|mutate_chance</th>\n",
       "      <th>post|exp_power</th>\n",
       "      <th>seed</th>\n",
       "      <th>subsample_size</th>\n",
       "    </tr>\n",
       "    <tr>\n",
       "      <th>start</th>\n",
       "      <th></th>\n",
       "      <th></th>\n",
       "      <th></th>\n",
       "      <th></th>\n",
       "      <th></th>\n",
       "      <th></th>\n",
       "      <th></th>\n",
       "      <th></th>\n",
       "      <th></th>\n",
       "      <th></th>\n",
       "      <th></th>\n",
       "      <th></th>\n",
       "      <th></th>\n",
       "      <th></th>\n",
       "      <th></th>\n",
       "      <th></th>\n",
       "      <th></th>\n",
       "      <th></th>\n",
       "    </tr>\n",
       "  </thead>\n",
       "  <tbody>\n",
       "    <tr>\n",
       "      <th>2020-05-21 20:02:47.284131</th>\n",
       "      <td>run_2020_May_21_20_02_47_284131</td>\n",
       "      <td>00:07:06</td>\n",
       "      <td>00:06:32</td>\n",
       "      <td>0.584</td>\n",
       "      <td>0.584</td>\n",
       "      <td>0.589</td>\n",
       "      <td>12</td>\n",
       "      <td>10</td>\n",
       "      <td>8</td>\n",
       "      <td>6</td>\n",
       "      <td>200</td>\n",
       "      <td>200</td>\n",
       "      <td>0.4910</td>\n",
       "      <td>1.0000</td>\n",
       "      <td>0.0021</td>\n",
       "      <td>6</td>\n",
       "      <td>0</td>\n",
       "      <td>50</td>\n",
       "    </tr>\n",
       "    <tr>\n",
       "      <th>2020-05-21 20:10:27.505601</th>\n",
       "      <td>run_2020_May_21_20_10_27_505601</td>\n",
       "      <td>00:07:00</td>\n",
       "      <td>00:06:32</td>\n",
       "      <td>0.498</td>\n",
       "      <td>0.499</td>\n",
       "      <td>0.496</td>\n",
       "      <td>12</td>\n",
       "      <td>10</td>\n",
       "      <td>8</td>\n",
       "      <td>6</td>\n",
       "      <td>200</td>\n",
       "      <td>200</td>\n",
       "      <td>0.8644</td>\n",
       "      <td>0.7478</td>\n",
       "      <td>0.0133</td>\n",
       "      <td>2</td>\n",
       "      <td>0</td>\n",
       "      <td>50</td>\n",
       "    </tr>\n",
       "    <tr>\n",
       "      <th>2020-05-21 18:33:16.465347</th>\n",
       "      <td>run_2020_May_21_18_33_16_465347</td>\n",
       "      <td>00:06:58</td>\n",
       "      <td>00:03:31</td>\n",
       "      <td>0.318</td>\n",
       "      <td>0.377</td>\n",
       "      <td>0.348</td>\n",
       "      <td>12</td>\n",
       "      <td>10</td>\n",
       "      <td>8</td>\n",
       "      <td>6</td>\n",
       "      <td>200</td>\n",
       "      <td>200</td>\n",
       "      <td>0.0000</td>\n",
       "      <td>1.0000</td>\n",
       "      <td>0.0500</td>\n",
       "      <td>15</td>\n",
       "      <td>0</td>\n",
       "      <td>50</td>\n",
       "    </tr>\n",
       "    <tr>\n",
       "      <th>2020-05-21 18:17:42.590034</th>\n",
       "      <td>run_2020_May_21_18_17_42_590034</td>\n",
       "      <td>00:07:02</td>\n",
       "      <td>00:04:34</td>\n",
       "      <td>0.540</td>\n",
       "      <td>0.550</td>\n",
       "      <td>0.537</td>\n",
       "      <td>12</td>\n",
       "      <td>10</td>\n",
       "      <td>8</td>\n",
       "      <td>6</td>\n",
       "      <td>200</td>\n",
       "      <td>200</td>\n",
       "      <td>0.4790</td>\n",
       "      <td>0.6761</td>\n",
       "      <td>0.0158</td>\n",
       "      <td>15</td>\n",
       "      <td>0</td>\n",
       "      <td>50</td>\n",
       "    </tr>\n",
       "    <tr>\n",
       "      <th>2020-05-21 18:25:49.043700</th>\n",
       "      <td>run_2020_May_21_18_25_49_043700</td>\n",
       "      <td>00:07:05</td>\n",
       "      <td>00:07:05</td>\n",
       "      <td>0.551</td>\n",
       "      <td>0.543</td>\n",
       "      <td>0.536</td>\n",
       "      <td>12</td>\n",
       "      <td>10</td>\n",
       "      <td>8</td>\n",
       "      <td>6</td>\n",
       "      <td>200</td>\n",
       "      <td>200</td>\n",
       "      <td>0.4790</td>\n",
       "      <td>0.6761</td>\n",
       "      <td>0.0158</td>\n",
       "      <td>15</td>\n",
       "      <td>0</td>\n",
       "      <td>50</td>\n",
       "    </tr>\n",
       "    <tr>\n",
       "      <th>2020-05-21 19:31:28.669589</th>\n",
       "      <td>run_2020_May_21_19_31_28_669589</td>\n",
       "      <td>00:07:02</td>\n",
       "      <td>00:06:01</td>\n",
       "      <td>0.582</td>\n",
       "      <td>0.580</td>\n",
       "      <td>0.585</td>\n",
       "      <td>12</td>\n",
       "      <td>10</td>\n",
       "      <td>8</td>\n",
       "      <td>6</td>\n",
       "      <td>200</td>\n",
       "      <td>200</td>\n",
       "      <td>0.5056</td>\n",
       "      <td>1.0000</td>\n",
       "      <td>0.0038</td>\n",
       "      <td>9</td>\n",
       "      <td>0</td>\n",
       "      <td>50</td>\n",
       "    </tr>\n",
       "    <tr>\n",
       "      <th>2020-05-21 20:48:42.842450</th>\n",
       "      <td>run_2020_May_21_20_48_42_842450</td>\n",
       "      <td>00:04:41</td>\n",
       "      <td>00:03:11</td>\n",
       "      <td>0.552</td>\n",
       "      <td>0.529</td>\n",
       "      <td>0.507</td>\n",
       "      <td>12</td>\n",
       "      <td>10</td>\n",
       "      <td>8</td>\n",
       "      <td>6</td>\n",
       "      <td>200</td>\n",
       "      <td>200</td>\n",
       "      <td>0.3465</td>\n",
       "      <td>0.7689</td>\n",
       "      <td>0.0139</td>\n",
       "      <td>15</td>\n",
       "      <td>0</td>\n",
       "      <td>50</td>\n",
       "    </tr>\n",
       "    <tr>\n",
       "      <th>2020-05-21 19:15:12.332683</th>\n",
       "      <td>run_2020_May_21_19_15_12_332683</td>\n",
       "      <td>00:07:08</td>\n",
       "      <td>00:07:08</td>\n",
       "      <td>0.460</td>\n",
       "      <td>0.493</td>\n",
       "      <td>0.492</td>\n",
       "      <td>12</td>\n",
       "      <td>10</td>\n",
       "      <td>8</td>\n",
       "      <td>6</td>\n",
       "      <td>200</td>\n",
       "      <td>200</td>\n",
       "      <td>0.4779</td>\n",
       "      <td>1.0000</td>\n",
       "      <td>0.0114</td>\n",
       "      <td>1</td>\n",
       "      <td>0</td>\n",
       "      <td>50</td>\n",
       "    </tr>\n",
       "    <tr>\n",
       "      <th>2020-05-21 19:07:45.774795</th>\n",
       "      <td>run_2020_May_21_19_07_45_774795</td>\n",
       "      <td>00:07:03</td>\n",
       "      <td>00:07:03</td>\n",
       "      <td>0.110</td>\n",
       "      <td>0.104</td>\n",
       "      <td>0.110</td>\n",
       "      <td>12</td>\n",
       "      <td>10</td>\n",
       "      <td>8</td>\n",
       "      <td>6</td>\n",
       "      <td>200</td>\n",
       "      <td>200</td>\n",
       "      <td>0.7081</td>\n",
       "      <td>1.0000</td>\n",
       "      <td>0.0451</td>\n",
       "      <td>1</td>\n",
       "      <td>0</td>\n",
       "      <td>50</td>\n",
       "    </tr>\n",
       "    <tr>\n",
       "      <th>2020-05-21 20:10:27.371289</th>\n",
       "      <td>run_2020_May_21_20_10_27_371289</td>\n",
       "      <td>00:03:26</td>\n",
       "      <td>00:03:26</td>\n",
       "      <td>0.539</td>\n",
       "      <td>0.507</td>\n",
       "      <td>0.521</td>\n",
       "      <td>12</td>\n",
       "      <td>10</td>\n",
       "      <td>8</td>\n",
       "      <td>6</td>\n",
       "      <td>200</td>\n",
       "      <td>200</td>\n",
       "      <td>0.8156</td>\n",
       "      <td>0.8479</td>\n",
       "      <td>0.0091</td>\n",
       "      <td>13</td>\n",
       "      <td>0</td>\n",
       "      <td>50</td>\n",
       "    </tr>\n",
       "    <tr>\n",
       "      <th>2020-05-21 18:27:01.316421</th>\n",
       "      <td>run_2020_May_21_18_27_01_316421</td>\n",
       "      <td>00:07:01</td>\n",
       "      <td>00:06:23</td>\n",
       "      <td>0.455</td>\n",
       "      <td>0.474</td>\n",
       "      <td>0.443</td>\n",
       "      <td>12</td>\n",
       "      <td>10</td>\n",
       "      <td>8</td>\n",
       "      <td>6</td>\n",
       "      <td>200</td>\n",
       "      <td>200</td>\n",
       "      <td>0.7026</td>\n",
       "      <td>0.0617</td>\n",
       "      <td>0.0188</td>\n",
       "      <td>3</td>\n",
       "      <td>0</td>\n",
       "      <td>50</td>\n",
       "    </tr>\n",
       "    <tr>\n",
       "      <th>2020-05-21 20:48:12.418546</th>\n",
       "      <td>run_2020_May_21_20_48_12_418546</td>\n",
       "      <td>00:05:10</td>\n",
       "      <td>00:05:10</td>\n",
       "      <td>0.496</td>\n",
       "      <td>0.487</td>\n",
       "      <td>0.476</td>\n",
       "      <td>12</td>\n",
       "      <td>10</td>\n",
       "      <td>8</td>\n",
       "      <td>6</td>\n",
       "      <td>200</td>\n",
       "      <td>200</td>\n",
       "      <td>0.0762</td>\n",
       "      <td>0.6151</td>\n",
       "      <td>0.0165</td>\n",
       "      <td>11</td>\n",
       "      <td>0</td>\n",
       "      <td>50</td>\n",
       "    </tr>\n",
       "    <tr>\n",
       "      <th>2020-05-21 20:33:07.728082</th>\n",
       "      <td>run_2020_May_21_20_33_07_728082</td>\n",
       "      <td>00:06:59</td>\n",
       "      <td>00:06:59</td>\n",
       "      <td>0.472</td>\n",
       "      <td>0.507</td>\n",
       "      <td>0.489</td>\n",
       "      <td>12</td>\n",
       "      <td>10</td>\n",
       "      <td>8</td>\n",
       "      <td>6</td>\n",
       "      <td>200</td>\n",
       "      <td>200</td>\n",
       "      <td>1.0000</td>\n",
       "      <td>0.7883</td>\n",
       "      <td>0.0082</td>\n",
       "      <td>2</td>\n",
       "      <td>0</td>\n",
       "      <td>50</td>\n",
       "    </tr>\n",
       "    <tr>\n",
       "      <th>2020-05-21 18:52:46.525352</th>\n",
       "      <td>run_2020_May_21_18_52_46_525352</td>\n",
       "      <td>00:07:03</td>\n",
       "      <td>00:00:00</td>\n",
       "      <td>0.069</td>\n",
       "      <td>0.072</td>\n",
       "      <td>0.074</td>\n",
       "      <td>12</td>\n",
       "      <td>10</td>\n",
       "      <td>8</td>\n",
       "      <td>6</td>\n",
       "      <td>200</td>\n",
       "      <td>200</td>\n",
       "      <td>0.0000</td>\n",
       "      <td>1.0000</td>\n",
       "      <td>0.0000</td>\n",
       "      <td>15</td>\n",
       "      <td>0</td>\n",
       "      <td>50</td>\n",
       "    </tr>\n",
       "    <tr>\n",
       "      <th>2020-05-21 20:40:39.404676</th>\n",
       "      <td>run_2020_May_21_20_40_39_404676</td>\n",
       "      <td>00:06:58</td>\n",
       "      <td>00:06:58</td>\n",
       "      <td>0.522</td>\n",
       "      <td>0.547</td>\n",
       "      <td>0.522</td>\n",
       "      <td>12</td>\n",
       "      <td>10</td>\n",
       "      <td>8</td>\n",
       "      <td>6</td>\n",
       "      <td>200</td>\n",
       "      <td>200</td>\n",
       "      <td>0.1282</td>\n",
       "      <td>0.7899</td>\n",
       "      <td>0.0137</td>\n",
       "      <td>14</td>\n",
       "      <td>0</td>\n",
       "      <td>50</td>\n",
       "    </tr>\n",
       "    <tr>\n",
       "      <th>2020-05-21 19:00:21.420832</th>\n",
       "      <td>run_2020_May_21_19_00_21_420832</td>\n",
       "      <td>00:07:05</td>\n",
       "      <td>00:07:05</td>\n",
       "      <td>0.514</td>\n",
       "      <td>0.539</td>\n",
       "      <td>0.512</td>\n",
       "      <td>12</td>\n",
       "      <td>10</td>\n",
       "      <td>8</td>\n",
       "      <td>6</td>\n",
       "      <td>200</td>\n",
       "      <td>200</td>\n",
       "      <td>0.5548</td>\n",
       "      <td>1.0000</td>\n",
       "      <td>0.0000</td>\n",
       "      <td>1</td>\n",
       "      <td>0</td>\n",
       "      <td>50</td>\n",
       "    </tr>\n",
       "    <tr>\n",
       "      <th>2020-05-21 20:02:47.449222</th>\n",
       "      <td>run_2020_May_21_20_02_47_449222</td>\n",
       "      <td>00:07:03</td>\n",
       "      <td>00:05:32</td>\n",
       "      <td>0.512</td>\n",
       "      <td>0.535</td>\n",
       "      <td>0.529</td>\n",
       "      <td>12</td>\n",
       "      <td>10</td>\n",
       "      <td>8</td>\n",
       "      <td>6</td>\n",
       "      <td>200</td>\n",
       "      <td>200</td>\n",
       "      <td>0.4739</td>\n",
       "      <td>0.7407</td>\n",
       "      <td>0.0107</td>\n",
       "      <td>2</td>\n",
       "      <td>0</td>\n",
       "      <td>50</td>\n",
       "    </tr>\n",
       "    <tr>\n",
       "      <th>2020-05-21 18:33:16.407195</th>\n",
       "      <td>run_2020_May_21_18_33_16_407195</td>\n",
       "      <td>00:06:58</td>\n",
       "      <td>00:00:00</td>\n",
       "      <td>0.067</td>\n",
       "      <td>0.062</td>\n",
       "      <td>0.068</td>\n",
       "      <td>12</td>\n",
       "      <td>10</td>\n",
       "      <td>8</td>\n",
       "      <td>6</td>\n",
       "      <td>200</td>\n",
       "      <td>200</td>\n",
       "      <td>0.0000</td>\n",
       "      <td>0.0000</td>\n",
       "      <td>0.0000</td>\n",
       "      <td>15</td>\n",
       "      <td>0</td>\n",
       "      <td>50</td>\n",
       "    </tr>\n",
       "    <tr>\n",
       "      <th>2020-05-21 20:10:27.642756</th>\n",
       "      <td>run_2020_May_21_20_10_27_642756</td>\n",
       "      <td>00:07:11</td>\n",
       "      <td>00:07:11</td>\n",
       "      <td>0.566</td>\n",
       "      <td>0.580</td>\n",
       "      <td>0.565</td>\n",
       "      <td>12</td>\n",
       "      <td>10</td>\n",
       "      <td>8</td>\n",
       "      <td>6</td>\n",
       "      <td>200</td>\n",
       "      <td>200</td>\n",
       "      <td>0.5049</td>\n",
       "      <td>0.9578</td>\n",
       "      <td>0.0035</td>\n",
       "      <td>15</td>\n",
       "      <td>0</td>\n",
       "      <td>50</td>\n",
       "    </tr>\n",
       "    <tr>\n",
       "      <th>2020-05-21 18:17:42.587096</th>\n",
       "      <td>run_2020_May_21_18_17_42_587096</td>\n",
       "      <td>00:08:15</td>\n",
       "      <td>00:06:53</td>\n",
       "      <td>0.452</td>\n",
       "      <td>0.478</td>\n",
       "      <td>0.447</td>\n",
       "      <td>12</td>\n",
       "      <td>10</td>\n",
       "      <td>8</td>\n",
       "      <td>6</td>\n",
       "      <td>200</td>\n",
       "      <td>200</td>\n",
       "      <td>0.7026</td>\n",
       "      <td>0.0617</td>\n",
       "      <td>0.0188</td>\n",
       "      <td>3</td>\n",
       "      <td>0</td>\n",
       "      <td>50</td>\n",
       "    </tr>\n",
       "    <tr>\n",
       "      <th>2020-05-21 19:00:21.870324</th>\n",
       "      <td>run_2020_May_21_19_00_21_870324</td>\n",
       "      <td>00:06:58</td>\n",
       "      <td>00:00:00</td>\n",
       "      <td>0.078</td>\n",
       "      <td>0.062</td>\n",
       "      <td>0.072</td>\n",
       "      <td>12</td>\n",
       "      <td>10</td>\n",
       "      <td>8</td>\n",
       "      <td>6</td>\n",
       "      <td>200</td>\n",
       "      <td>200</td>\n",
       "      <td>0.5246</td>\n",
       "      <td>0.0000</td>\n",
       "      <td>0.0000</td>\n",
       "      <td>15</td>\n",
       "      <td>0</td>\n",
       "      <td>50</td>\n",
       "    </tr>\n",
       "    <tr>\n",
       "      <th>2020-05-21 19:07:51.830501</th>\n",
       "      <td>run_2020_May_21_19_07_51_830501</td>\n",
       "      <td>00:07:02</td>\n",
       "      <td>00:07:02</td>\n",
       "      <td>0.305</td>\n",
       "      <td>0.325</td>\n",
       "      <td>0.339</td>\n",
       "      <td>12</td>\n",
       "      <td>10</td>\n",
       "      <td>8</td>\n",
       "      <td>6</td>\n",
       "      <td>200</td>\n",
       "      <td>200</td>\n",
       "      <td>0.4557</td>\n",
       "      <td>0.8465</td>\n",
       "      <td>0.0365</td>\n",
       "      <td>1</td>\n",
       "      <td>0</td>\n",
       "      <td>50</td>\n",
       "    </tr>\n",
       "    <tr>\n",
       "      <th>2020-05-21 19:31:29.329349</th>\n",
       "      <td>run_2020_May_21_19_31_29_329349</td>\n",
       "      <td>00:07:05</td>\n",
       "      <td>00:07:05</td>\n",
       "      <td>0.592</td>\n",
       "      <td>0.574</td>\n",
       "      <td>0.591</td>\n",
       "      <td>12</td>\n",
       "      <td>10</td>\n",
       "      <td>8</td>\n",
       "      <td>6</td>\n",
       "      <td>200</td>\n",
       "      <td>200</td>\n",
       "      <td>0.4965</td>\n",
       "      <td>0.8912</td>\n",
       "      <td>0.0035</td>\n",
       "      <td>4</td>\n",
       "      <td>0</td>\n",
       "      <td>50</td>\n",
       "    </tr>\n",
       "    <tr>\n",
       "      <th>2020-05-21 20:41:09.125478</th>\n",
       "      <td>run_2020_May_21_20_41_09_125478</td>\n",
       "      <td>00:06:59</td>\n",
       "      <td>00:05:18</td>\n",
       "      <td>0.523</td>\n",
       "      <td>0.518</td>\n",
       "      <td>0.494</td>\n",
       "      <td>12</td>\n",
       "      <td>10</td>\n",
       "      <td>8</td>\n",
       "      <td>6</td>\n",
       "      <td>200</td>\n",
       "      <td>200</td>\n",
       "      <td>0.0531</td>\n",
       "      <td>0.7923</td>\n",
       "      <td>0.0137</td>\n",
       "      <td>12</td>\n",
       "      <td>0</td>\n",
       "      <td>50</td>\n",
       "    </tr>\n",
       "    <tr>\n",
       "      <th>2020-05-21 19:57:23.858865</th>\n",
       "      <td>run_2020_May_21_19_57_23_858865</td>\n",
       "      <td>00:03:53</td>\n",
       "      <td>00:03:53</td>\n",
       "      <td>0.474</td>\n",
       "      <td>0.487</td>\n",
       "      <td>0.494</td>\n",
       "      <td>12</td>\n",
       "      <td>10</td>\n",
       "      <td>8</td>\n",
       "      <td>6</td>\n",
       "      <td>200</td>\n",
       "      <td>200</td>\n",
       "      <td>0.4739</td>\n",
       "      <td>0.7407</td>\n",
       "      <td>0.0107</td>\n",
       "      <td>2</td>\n",
       "      <td>0</td>\n",
       "      <td>50</td>\n",
       "    </tr>\n",
       "    <tr>\n",
       "      <th>2020-05-21 19:22:55.082507</th>\n",
       "      <td>run_2020_May_21_19_22_55_082507</td>\n",
       "      <td>00:07:02</td>\n",
       "      <td>00:06:17</td>\n",
       "      <td>0.459</td>\n",
       "      <td>0.515</td>\n",
       "      <td>0.490</td>\n",
       "      <td>12</td>\n",
       "      <td>10</td>\n",
       "      <td>8</td>\n",
       "      <td>6</td>\n",
       "      <td>200</td>\n",
       "      <td>200</td>\n",
       "      <td>0.5302</td>\n",
       "      <td>0.9531</td>\n",
       "      <td>0.0263</td>\n",
       "      <td>5</td>\n",
       "      <td>0</td>\n",
       "      <td>50</td>\n",
       "    </tr>\n",
       "    <tr>\n",
       "      <th>2020-05-21 18:52:47.891796</th>\n",
       "      <td>run_2020_May_21_18_52_47_891796</td>\n",
       "      <td>00:07:06</td>\n",
       "      <td>00:07:06</td>\n",
       "      <td>0.276</td>\n",
       "      <td>0.285</td>\n",
       "      <td>0.287</td>\n",
       "      <td>12</td>\n",
       "      <td>10</td>\n",
       "      <td>8</td>\n",
       "      <td>6</td>\n",
       "      <td>200</td>\n",
       "      <td>200</td>\n",
       "      <td>1.0000</td>\n",
       "      <td>1.0000</td>\n",
       "      <td>0.0500</td>\n",
       "      <td>1</td>\n",
       "      <td>0</td>\n",
       "      <td>50</td>\n",
       "    </tr>\n",
       "    <tr>\n",
       "      <th>2020-05-21 19:57:23.572468</th>\n",
       "      <td>run_2020_May_21_19_57_23_572468</td>\n",
       "      <td>00:03:54</td>\n",
       "      <td>00:03:54</td>\n",
       "      <td>0.533</td>\n",
       "      <td>0.520</td>\n",
       "      <td>0.523</td>\n",
       "      <td>12</td>\n",
       "      <td>10</td>\n",
       "      <td>8</td>\n",
       "      <td>6</td>\n",
       "      <td>200</td>\n",
       "      <td>200</td>\n",
       "      <td>0.4952</td>\n",
       "      <td>0.8714</td>\n",
       "      <td>0.0121</td>\n",
       "      <td>10</td>\n",
       "      <td>0</td>\n",
       "      <td>50</td>\n",
       "    </tr>\n",
       "    <tr>\n",
       "      <th>2020-05-21 18:17:42.597546</th>\n",
       "      <td>run_2020_May_21_18_17_42_597546</td>\n",
       "      <td>00:07:04</td>\n",
       "      <td>00:06:34</td>\n",
       "      <td>0.595</td>\n",
       "      <td>0.574</td>\n",
       "      <td>0.589</td>\n",
       "      <td>12</td>\n",
       "      <td>10</td>\n",
       "      <td>8</td>\n",
       "      <td>6</td>\n",
       "      <td>200</td>\n",
       "      <td>200</td>\n",
       "      <td>0.4932</td>\n",
       "      <td>0.8889</td>\n",
       "      <td>0.0029</td>\n",
       "      <td>5</td>\n",
       "      <td>0</td>\n",
       "      <td>50</td>\n",
       "    </tr>\n",
       "    <tr>\n",
       "      <th>2020-05-21 20:17:56.498726</th>\n",
       "      <td>run_2020_May_21_20_17_56_498726</td>\n",
       "      <td>00:06:59</td>\n",
       "      <td>00:06:15</td>\n",
       "      <td>0.540</td>\n",
       "      <td>0.555</td>\n",
       "      <td>0.545</td>\n",
       "      <td>12</td>\n",
       "      <td>10</td>\n",
       "      <td>8</td>\n",
       "      <td>6</td>\n",
       "      <td>200</td>\n",
       "      <td>200</td>\n",
       "      <td>0.8968</td>\n",
       "      <td>0.8844</td>\n",
       "      <td>0.0052</td>\n",
       "      <td>15</td>\n",
       "      <td>0</td>\n",
       "      <td>50</td>\n",
       "    </tr>\n",
       "    <tr>\n",
       "      <th>2020-05-21 19:39:08.372012</th>\n",
       "      <td>run_2020_May_21_19_39_08_372012</td>\n",
       "      <td>00:07:01</td>\n",
       "      <td>00:06:10</td>\n",
       "      <td>0.533</td>\n",
       "      <td>0.538</td>\n",
       "      <td>0.535</td>\n",
       "      <td>12</td>\n",
       "      <td>10</td>\n",
       "      <td>8</td>\n",
       "      <td>6</td>\n",
       "      <td>200</td>\n",
       "      <td>200</td>\n",
       "      <td>0.4739</td>\n",
       "      <td>0.7407</td>\n",
       "      <td>0.0107</td>\n",
       "      <td>2</td>\n",
       "      <td>0</td>\n",
       "      <td>50</td>\n",
       "    </tr>\n",
       "    <tr>\n",
       "      <th>2020-05-21 19:15:19.690289</th>\n",
       "      <td>run_2020_May_21_19_15_19_690289</td>\n",
       "      <td>00:07:05</td>\n",
       "      <td>00:05:49</td>\n",
       "      <td>0.574</td>\n",
       "      <td>0.543</td>\n",
       "      <td>0.535</td>\n",
       "      <td>12</td>\n",
       "      <td>10</td>\n",
       "      <td>8</td>\n",
       "      <td>6</td>\n",
       "      <td>200</td>\n",
       "      <td>200</td>\n",
       "      <td>0.4878</td>\n",
       "      <td>0.9764</td>\n",
       "      <td>0.0129</td>\n",
       "      <td>2</td>\n",
       "      <td>0</td>\n",
       "      <td>50</td>\n",
       "    </tr>\n",
       "    <tr>\n",
       "      <th>2020-05-21 19:00:21.938907</th>\n",
       "      <td>run_2020_May_21_19_00_21_938907</td>\n",
       "      <td>00:06:59</td>\n",
       "      <td>00:00:00</td>\n",
       "      <td>0.076</td>\n",
       "      <td>0.071</td>\n",
       "      <td>0.069</td>\n",
       "      <td>12</td>\n",
       "      <td>10</td>\n",
       "      <td>8</td>\n",
       "      <td>6</td>\n",
       "      <td>200</td>\n",
       "      <td>200</td>\n",
       "      <td>0.5252</td>\n",
       "      <td>0.0000</td>\n",
       "      <td>0.0000</td>\n",
       "      <td>1</td>\n",
       "      <td>0</td>\n",
       "      <td>50</td>\n",
       "    </tr>\n",
       "    <tr>\n",
       "      <th>2020-05-21 19:22:55.553841</th>\n",
       "      <td>run_2020_May_21_19_22_55_553841</td>\n",
       "      <td>00:07:03</td>\n",
       "      <td>00:04:56</td>\n",
       "      <td>0.211</td>\n",
       "      <td>0.203</td>\n",
       "      <td>0.201</td>\n",
       "      <td>12</td>\n",
       "      <td>10</td>\n",
       "      <td>8</td>\n",
       "      <td>6</td>\n",
       "      <td>200</td>\n",
       "      <td>200</td>\n",
       "      <td>0.4816</td>\n",
       "      <td>0.8945</td>\n",
       "      <td>0.0000</td>\n",
       "      <td>1</td>\n",
       "      <td>0</td>\n",
       "      <td>50</td>\n",
       "    </tr>\n",
       "    <tr>\n",
       "      <th>2020-05-21 20:25:28.293264</th>\n",
       "      <td>run_2020_May_21_20_25_28_293264</td>\n",
       "      <td>00:07:01</td>\n",
       "      <td>00:06:21</td>\n",
       "      <td>0.552</td>\n",
       "      <td>0.563</td>\n",
       "      <td>0.564</td>\n",
       "      <td>12</td>\n",
       "      <td>10</td>\n",
       "      <td>8</td>\n",
       "      <td>6</td>\n",
       "      <td>200</td>\n",
       "      <td>200</td>\n",
       "      <td>0.7051</td>\n",
       "      <td>0.7480</td>\n",
       "      <td>0.0060</td>\n",
       "      <td>11</td>\n",
       "      <td>0</td>\n",
       "      <td>50</td>\n",
       "    </tr>\n",
       "    <tr>\n",
       "      <th>2020-05-21 19:39:01.593122</th>\n",
       "      <td>run_2020_May_21_19_39_01_593122</td>\n",
       "      <td>00:07:07</td>\n",
       "      <td>00:06:11</td>\n",
       "      <td>0.590</td>\n",
       "      <td>0.578</td>\n",
       "      <td>0.599</td>\n",
       "      <td>12</td>\n",
       "      <td>10</td>\n",
       "      <td>8</td>\n",
       "      <td>6</td>\n",
       "      <td>200</td>\n",
       "      <td>200</td>\n",
       "      <td>0.4910</td>\n",
       "      <td>1.0000</td>\n",
       "      <td>0.0021</td>\n",
       "      <td>6</td>\n",
       "      <td>0</td>\n",
       "      <td>50</td>\n",
       "    </tr>\n",
       "    <tr>\n",
       "      <th>2020-05-21 19:07:45.611790</th>\n",
       "      <td>run_2020_May_21_19_07_45_611790</td>\n",
       "      <td>00:07:07</td>\n",
       "      <td>00:07:07</td>\n",
       "      <td>0.263</td>\n",
       "      <td>0.251</td>\n",
       "      <td>0.266</td>\n",
       "      <td>12</td>\n",
       "      <td>10</td>\n",
       "      <td>8</td>\n",
       "      <td>6</td>\n",
       "      <td>200</td>\n",
       "      <td>200</td>\n",
       "      <td>0.6723</td>\n",
       "      <td>0.9171</td>\n",
       "      <td>0.0461</td>\n",
       "      <td>1</td>\n",
       "      <td>0</td>\n",
       "      <td>50</td>\n",
       "    </tr>\n",
       "    <tr>\n",
       "      <th>2020-05-21 20:18:09.435122</th>\n",
       "      <td>run_2020_May_21_20_18_09_435122</td>\n",
       "      <td>00:07:23</td>\n",
       "      <td>00:07:23</td>\n",
       "      <td>0.574</td>\n",
       "      <td>0.582</td>\n",
       "      <td>0.578</td>\n",
       "      <td>12</td>\n",
       "      <td>10</td>\n",
       "      <td>8</td>\n",
       "      <td>6</td>\n",
       "      <td>200</td>\n",
       "      <td>200</td>\n",
       "      <td>0.5610</td>\n",
       "      <td>1.0000</td>\n",
       "      <td>0.0031</td>\n",
       "      <td>15</td>\n",
       "      <td>0</td>\n",
       "      <td>50</td>\n",
       "    </tr>\n",
       "    <tr>\n",
       "      <th>2020-05-21 19:31:29.166899</th>\n",
       "      <td>run_2020_May_21_19_31_29_166899</td>\n",
       "      <td>00:07:02</td>\n",
       "      <td>00:04:53</td>\n",
       "      <td>0.562</td>\n",
       "      <td>0.556</td>\n",
       "      <td>0.573</td>\n",
       "      <td>12</td>\n",
       "      <td>10</td>\n",
       "      <td>8</td>\n",
       "      <td>6</td>\n",
       "      <td>200</td>\n",
       "      <td>200</td>\n",
       "      <td>0.5037</td>\n",
       "      <td>0.8984</td>\n",
       "      <td>0.0049</td>\n",
       "      <td>2</td>\n",
       "      <td>0</td>\n",
       "      <td>50</td>\n",
       "    </tr>\n",
       "    <tr>\n",
       "      <th>2020-05-21 18:34:23.088646</th>\n",
       "      <td>run_2020_May_21_18_34_23_088646</td>\n",
       "      <td>00:07:06</td>\n",
       "      <td>00:07:06</td>\n",
       "      <td>0.608</td>\n",
       "      <td>0.537</td>\n",
       "      <td>0.585</td>\n",
       "      <td>12</td>\n",
       "      <td>10</td>\n",
       "      <td>8</td>\n",
       "      <td>6</td>\n",
       "      <td>200</td>\n",
       "      <td>200</td>\n",
       "      <td>0.4749</td>\n",
       "      <td>1.0000</td>\n",
       "      <td>0.0000</td>\n",
       "      <td>1</td>\n",
       "      <td>0</td>\n",
       "      <td>50</td>\n",
       "    </tr>\n",
       "    <tr>\n",
       "      <th>2020-05-21 18:25:49.148309</th>\n",
       "      <td>run_2020_May_21_18_25_49_148309</td>\n",
       "      <td>00:07:03</td>\n",
       "      <td>00:05:44</td>\n",
       "      <td>0.552</td>\n",
       "      <td>0.573</td>\n",
       "      <td>0.554</td>\n",
       "      <td>12</td>\n",
       "      <td>10</td>\n",
       "      <td>8</td>\n",
       "      <td>6</td>\n",
       "      <td>200</td>\n",
       "      <td>200</td>\n",
       "      <td>0.4932</td>\n",
       "      <td>0.8889</td>\n",
       "      <td>0.0029</td>\n",
       "      <td>5</td>\n",
       "      <td>0</td>\n",
       "      <td>50</td>\n",
       "    </tr>\n",
       "    <tr>\n",
       "      <th>2020-05-21 18:52:46.945772</th>\n",
       "      <td>run_2020_May_21_18_52_46_945772</td>\n",
       "      <td>00:07:07</td>\n",
       "      <td>00:06:28</td>\n",
       "      <td>0.554</td>\n",
       "      <td>0.565</td>\n",
       "      <td>0.562</td>\n",
       "      <td>12</td>\n",
       "      <td>10</td>\n",
       "      <td>8</td>\n",
       "      <td>6</td>\n",
       "      <td>200</td>\n",
       "      <td>200</td>\n",
       "      <td>0.4749</td>\n",
       "      <td>1.0000</td>\n",
       "      <td>0.0000</td>\n",
       "      <td>1</td>\n",
       "      <td>0</td>\n",
       "      <td>50</td>\n",
       "    </tr>\n",
       "    <tr>\n",
       "      <th>2020-05-21 19:39:01.872551</th>\n",
       "      <td>run_2020_May_21_19_39_01_872551</td>\n",
       "      <td>00:07:05</td>\n",
       "      <td>00:05:44</td>\n",
       "      <td>0.546</td>\n",
       "      <td>0.555</td>\n",
       "      <td>0.550</td>\n",
       "      <td>12</td>\n",
       "      <td>10</td>\n",
       "      <td>8</td>\n",
       "      <td>6</td>\n",
       "      <td>200</td>\n",
       "      <td>200</td>\n",
       "      <td>0.4952</td>\n",
       "      <td>0.8715</td>\n",
       "      <td>0.0121</td>\n",
       "      <td>10</td>\n",
       "      <td>0</td>\n",
       "      <td>50</td>\n",
       "    </tr>\n",
       "    <tr>\n",
       "      <th>2020-05-21 20:33:32.520408</th>\n",
       "      <td>run_2020_May_21_20_33_32_520408</td>\n",
       "      <td>00:07:05</td>\n",
       "      <td>00:05:34</td>\n",
       "      <td>0.536</td>\n",
       "      <td>0.564</td>\n",
       "      <td>0.568</td>\n",
       "      <td>12</td>\n",
       "      <td>10</td>\n",
       "      <td>8</td>\n",
       "      <td>6</td>\n",
       "      <td>200</td>\n",
       "      <td>200</td>\n",
       "      <td>0.6931</td>\n",
       "      <td>0.8342</td>\n",
       "      <td>0.0055</td>\n",
       "      <td>15</td>\n",
       "      <td>0</td>\n",
       "      <td>50</td>\n",
       "    </tr>\n",
       "    <tr>\n",
       "      <th>2020-05-21 20:26:01.296981</th>\n",
       "      <td>run_2020_May_21_20_26_01_296981</td>\n",
       "      <td>00:06:59</td>\n",
       "      <td>00:06:59</td>\n",
       "      <td>0.531</td>\n",
       "      <td>0.552</td>\n",
       "      <td>0.544</td>\n",
       "      <td>12</td>\n",
       "      <td>10</td>\n",
       "      <td>8</td>\n",
       "      <td>6</td>\n",
       "      <td>200</td>\n",
       "      <td>200</td>\n",
       "      <td>0.7575</td>\n",
       "      <td>0.8439</td>\n",
       "      <td>0.0086</td>\n",
       "      <td>11</td>\n",
       "      <td>0</td>\n",
       "      <td>50</td>\n",
       "    </tr>\n",
       "    <tr>\n",
       "      <th>2020-05-21 20:02:47.017570</th>\n",
       "      <td>run_2020_May_21_20_02_47_017570</td>\n",
       "      <td>00:07:04</td>\n",
       "      <td>00:05:54</td>\n",
       "      <td>0.529</td>\n",
       "      <td>0.555</td>\n",
       "      <td>0.540</td>\n",
       "      <td>12</td>\n",
       "      <td>10</td>\n",
       "      <td>8</td>\n",
       "      <td>6</td>\n",
       "      <td>200</td>\n",
       "      <td>200</td>\n",
       "      <td>0.4952</td>\n",
       "      <td>0.8714</td>\n",
       "      <td>0.0121</td>\n",
       "      <td>10</td>\n",
       "      <td>0</td>\n",
       "      <td>50</td>\n",
       "    </tr>\n",
       "    <tr>\n",
       "      <th>2020-05-21 19:22:55.162686</th>\n",
       "      <td>run_2020_May_21_19_22_55_162686</td>\n",
       "      <td>00:07:04</td>\n",
       "      <td>00:06:25</td>\n",
       "      <td>0.474</td>\n",
       "      <td>0.499</td>\n",
       "      <td>0.507</td>\n",
       "      <td>12</td>\n",
       "      <td>10</td>\n",
       "      <td>8</td>\n",
       "      <td>6</td>\n",
       "      <td>200</td>\n",
       "      <td>200</td>\n",
       "      <td>0.5096</td>\n",
       "      <td>0.9247</td>\n",
       "      <td>0.0158</td>\n",
       "      <td>1</td>\n",
       "      <td>0</td>\n",
       "      <td>50</td>\n",
       "    </tr>\n",
       "    <tr>\n",
       "      <th>2020-05-21 19:15:19.487714</th>\n",
       "      <td>run_2020_May_21_19_15_19_487714</td>\n",
       "      <td>00:07:02</td>\n",
       "      <td>00:07:02</td>\n",
       "      <td>0.543</td>\n",
       "      <td>0.565</td>\n",
       "      <td>0.558</td>\n",
       "      <td>12</td>\n",
       "      <td>10</td>\n",
       "      <td>8</td>\n",
       "      <td>6</td>\n",
       "      <td>200</td>\n",
       "      <td>200</td>\n",
       "      <td>0.4840</td>\n",
       "      <td>0.8943</td>\n",
       "      <td>0.0088</td>\n",
       "      <td>1</td>\n",
       "      <td>0</td>\n",
       "      <td>50</td>\n",
       "    </tr>\n",
       "  </tbody>\n",
       "</table>\n",
       "</div>"
      ],
      "text/plain": [
       "                                                       name       tt      t2b  \\\n",
       "start                                                                           \n",
       "2020-05-21 20:02:47.284131  run_2020_May_21_20_02_47_284131 00:07:06 00:06:32   \n",
       "2020-05-21 20:10:27.505601  run_2020_May_21_20_10_27_505601 00:07:00 00:06:32   \n",
       "2020-05-21 18:33:16.465347  run_2020_May_21_18_33_16_465347 00:06:58 00:03:31   \n",
       "2020-05-21 18:17:42.590034  run_2020_May_21_18_17_42_590034 00:07:02 00:04:34   \n",
       "2020-05-21 18:25:49.043700  run_2020_May_21_18_25_49_043700 00:07:05 00:07:05   \n",
       "2020-05-21 19:31:28.669589  run_2020_May_21_19_31_28_669589 00:07:02 00:06:01   \n",
       "2020-05-21 20:48:42.842450  run_2020_May_21_20_48_42_842450 00:04:41 00:03:11   \n",
       "2020-05-21 19:15:12.332683  run_2020_May_21_19_15_12_332683 00:07:08 00:07:08   \n",
       "2020-05-21 19:07:45.774795  run_2020_May_21_19_07_45_774795 00:07:03 00:07:03   \n",
       "2020-05-21 20:10:27.371289  run_2020_May_21_20_10_27_371289 00:03:26 00:03:26   \n",
       "2020-05-21 18:27:01.316421  run_2020_May_21_18_27_01_316421 00:07:01 00:06:23   \n",
       "2020-05-21 20:48:12.418546  run_2020_May_21_20_48_12_418546 00:05:10 00:05:10   \n",
       "2020-05-21 20:33:07.728082  run_2020_May_21_20_33_07_728082 00:06:59 00:06:59   \n",
       "2020-05-21 18:52:46.525352  run_2020_May_21_18_52_46_525352 00:07:03 00:00:00   \n",
       "2020-05-21 20:40:39.404676  run_2020_May_21_20_40_39_404676 00:06:58 00:06:58   \n",
       "2020-05-21 19:00:21.420832  run_2020_May_21_19_00_21_420832 00:07:05 00:07:05   \n",
       "2020-05-21 20:02:47.449222  run_2020_May_21_20_02_47_449222 00:07:03 00:05:32   \n",
       "2020-05-21 18:33:16.407195  run_2020_May_21_18_33_16_407195 00:06:58 00:00:00   \n",
       "2020-05-21 20:10:27.642756  run_2020_May_21_20_10_27_642756 00:07:11 00:07:11   \n",
       "2020-05-21 18:17:42.587096  run_2020_May_21_18_17_42_587096 00:08:15 00:06:53   \n",
       "2020-05-21 19:00:21.870324  run_2020_May_21_19_00_21_870324 00:06:58 00:00:00   \n",
       "2020-05-21 19:07:51.830501  run_2020_May_21_19_07_51_830501 00:07:02 00:07:02   \n",
       "2020-05-21 19:31:29.329349  run_2020_May_21_19_31_29_329349 00:07:05 00:07:05   \n",
       "2020-05-21 20:41:09.125478  run_2020_May_21_20_41_09_125478 00:06:59 00:05:18   \n",
       "2020-05-21 19:57:23.858865  run_2020_May_21_19_57_23_858865 00:03:53 00:03:53   \n",
       "2020-05-21 19:22:55.082507  run_2020_May_21_19_22_55_082507 00:07:02 00:06:17   \n",
       "2020-05-21 18:52:47.891796  run_2020_May_21_18_52_47_891796 00:07:06 00:07:06   \n",
       "2020-05-21 19:57:23.572468  run_2020_May_21_19_57_23_572468 00:03:54 00:03:54   \n",
       "2020-05-21 18:17:42.597546  run_2020_May_21_18_17_42_597546 00:07:04 00:06:34   \n",
       "2020-05-21 20:17:56.498726  run_2020_May_21_20_17_56_498726 00:06:59 00:06:15   \n",
       "2020-05-21 19:39:08.372012  run_2020_May_21_19_39_08_372012 00:07:01 00:06:10   \n",
       "2020-05-21 19:15:19.690289  run_2020_May_21_19_15_19_690289 00:07:05 00:05:49   \n",
       "2020-05-21 19:00:21.938907  run_2020_May_21_19_00_21_938907 00:06:59 00:00:00   \n",
       "2020-05-21 19:22:55.553841  run_2020_May_21_19_22_55_553841 00:07:03 00:04:56   \n",
       "2020-05-21 20:25:28.293264  run_2020_May_21_20_25_28_293264 00:07:01 00:06:21   \n",
       "2020-05-21 19:39:01.593122  run_2020_May_21_19_39_01_593122 00:07:07 00:06:11   \n",
       "2020-05-21 19:07:45.611790  run_2020_May_21_19_07_45_611790 00:07:07 00:07:07   \n",
       "2020-05-21 20:18:09.435122  run_2020_May_21_20_18_09_435122 00:07:23 00:07:23   \n",
       "2020-05-21 19:31:29.166899  run_2020_May_21_19_31_29_166899 00:07:02 00:04:53   \n",
       "2020-05-21 18:34:23.088646  run_2020_May_21_18_34_23_088646 00:07:06 00:07:06   \n",
       "2020-05-21 18:25:49.148309  run_2020_May_21_18_25_49_148309 00:07:03 00:05:44   \n",
       "2020-05-21 18:52:46.945772  run_2020_May_21_18_52_46_945772 00:07:07 00:06:28   \n",
       "2020-05-21 19:39:01.872551  run_2020_May_21_19_39_01_872551 00:07:05 00:05:44   \n",
       "2020-05-21 20:33:32.520408  run_2020_May_21_20_33_32_520408 00:07:05 00:05:34   \n",
       "2020-05-21 20:26:01.296981  run_2020_May_21_20_26_01_296981 00:06:59 00:06:59   \n",
       "2020-05-21 20:02:47.017570  run_2020_May_21_20_02_47_017570 00:07:04 00:05:54   \n",
       "2020-05-21 19:22:55.162686  run_2020_May_21_19_22_55_162686 00:07:04 00:06:25   \n",
       "2020-05-21 19:15:19.487714  run_2020_May_21_19_15_19_487714 00:07:02 00:07:02   \n",
       "\n",
       "                               ba    bva     la  dec_f0  dec_f1  dec_f2  \\\n",
       "start                                                                     \n",
       "2020-05-21 20:02:47.284131  0.584  0.584  0.589      12      10       8   \n",
       "2020-05-21 20:10:27.505601  0.498  0.499  0.496      12      10       8   \n",
       "2020-05-21 18:33:16.465347  0.318  0.377  0.348      12      10       8   \n",
       "2020-05-21 18:17:42.590034  0.540  0.550  0.537      12      10       8   \n",
       "2020-05-21 18:25:49.043700  0.551  0.543  0.536      12      10       8   \n",
       "2020-05-21 19:31:28.669589  0.582  0.580  0.585      12      10       8   \n",
       "2020-05-21 20:48:42.842450  0.552  0.529  0.507      12      10       8   \n",
       "2020-05-21 19:15:12.332683  0.460  0.493  0.492      12      10       8   \n",
       "2020-05-21 19:07:45.774795  0.110  0.104  0.110      12      10       8   \n",
       "2020-05-21 20:10:27.371289  0.539  0.507  0.521      12      10       8   \n",
       "2020-05-21 18:27:01.316421  0.455  0.474  0.443      12      10       8   \n",
       "2020-05-21 20:48:12.418546  0.496  0.487  0.476      12      10       8   \n",
       "2020-05-21 20:33:07.728082  0.472  0.507  0.489      12      10       8   \n",
       "2020-05-21 18:52:46.525352  0.069  0.072  0.074      12      10       8   \n",
       "2020-05-21 20:40:39.404676  0.522  0.547  0.522      12      10       8   \n",
       "2020-05-21 19:00:21.420832  0.514  0.539  0.512      12      10       8   \n",
       "2020-05-21 20:02:47.449222  0.512  0.535  0.529      12      10       8   \n",
       "2020-05-21 18:33:16.407195  0.067  0.062  0.068      12      10       8   \n",
       "2020-05-21 20:10:27.642756  0.566  0.580  0.565      12      10       8   \n",
       "2020-05-21 18:17:42.587096  0.452  0.478  0.447      12      10       8   \n",
       "2020-05-21 19:00:21.870324  0.078  0.062  0.072      12      10       8   \n",
       "2020-05-21 19:07:51.830501  0.305  0.325  0.339      12      10       8   \n",
       "2020-05-21 19:31:29.329349  0.592  0.574  0.591      12      10       8   \n",
       "2020-05-21 20:41:09.125478  0.523  0.518  0.494      12      10       8   \n",
       "2020-05-21 19:57:23.858865  0.474  0.487  0.494      12      10       8   \n",
       "2020-05-21 19:22:55.082507  0.459  0.515  0.490      12      10       8   \n",
       "2020-05-21 18:52:47.891796  0.276  0.285  0.287      12      10       8   \n",
       "2020-05-21 19:57:23.572468  0.533  0.520  0.523      12      10       8   \n",
       "2020-05-21 18:17:42.597546  0.595  0.574  0.589      12      10       8   \n",
       "2020-05-21 20:17:56.498726  0.540  0.555  0.545      12      10       8   \n",
       "2020-05-21 19:39:08.372012  0.533  0.538  0.535      12      10       8   \n",
       "2020-05-21 19:15:19.690289  0.574  0.543  0.535      12      10       8   \n",
       "2020-05-21 19:00:21.938907  0.076  0.071  0.069      12      10       8   \n",
       "2020-05-21 19:22:55.553841  0.211  0.203  0.201      12      10       8   \n",
       "2020-05-21 20:25:28.293264  0.552  0.563  0.564      12      10       8   \n",
       "2020-05-21 19:39:01.593122  0.590  0.578  0.599      12      10       8   \n",
       "2020-05-21 19:07:45.611790  0.263  0.251  0.266      12      10       8   \n",
       "2020-05-21 20:18:09.435122  0.574  0.582  0.578      12      10       8   \n",
       "2020-05-21 19:31:29.166899  0.562  0.556  0.573      12      10       8   \n",
       "2020-05-21 18:34:23.088646  0.608  0.537  0.585      12      10       8   \n",
       "2020-05-21 18:25:49.148309  0.552  0.573  0.554      12      10       8   \n",
       "2020-05-21 18:52:46.945772  0.554  0.565  0.562      12      10       8   \n",
       "2020-05-21 19:39:01.872551  0.546  0.555  0.550      12      10       8   \n",
       "2020-05-21 20:33:32.520408  0.536  0.564  0.568      12      10       8   \n",
       "2020-05-21 20:26:01.296981  0.531  0.552  0.544      12      10       8   \n",
       "2020-05-21 20:02:47.017570  0.529  0.555  0.540      12      10       8   \n",
       "2020-05-21 19:22:55.162686  0.474  0.499  0.507      12      10       8   \n",
       "2020-05-21 19:15:19.487714  0.543  0.565  0.558      12      10       8   \n",
       "\n",
       "                            dec_f3  generation_size  generations  \\\n",
       "start                                                              \n",
       "2020-05-21 20:02:47.284131       6              200          200   \n",
       "2020-05-21 20:10:27.505601       6              200          200   \n",
       "2020-05-21 18:33:16.465347       6              200          200   \n",
       "2020-05-21 18:17:42.590034       6              200          200   \n",
       "2020-05-21 18:25:49.043700       6              200          200   \n",
       "2020-05-21 19:31:28.669589       6              200          200   \n",
       "2020-05-21 20:48:42.842450       6              200          200   \n",
       "2020-05-21 19:15:12.332683       6              200          200   \n",
       "2020-05-21 19:07:45.774795       6              200          200   \n",
       "2020-05-21 20:10:27.371289       6              200          200   \n",
       "2020-05-21 18:27:01.316421       6              200          200   \n",
       "2020-05-21 20:48:12.418546       6              200          200   \n",
       "2020-05-21 20:33:07.728082       6              200          200   \n",
       "2020-05-21 18:52:46.525352       6              200          200   \n",
       "2020-05-21 20:40:39.404676       6              200          200   \n",
       "2020-05-21 19:00:21.420832       6              200          200   \n",
       "2020-05-21 20:02:47.449222       6              200          200   \n",
       "2020-05-21 18:33:16.407195       6              200          200   \n",
       "2020-05-21 20:10:27.642756       6              200          200   \n",
       "2020-05-21 18:17:42.587096       6              200          200   \n",
       "2020-05-21 19:00:21.870324       6              200          200   \n",
       "2020-05-21 19:07:51.830501       6              200          200   \n",
       "2020-05-21 19:31:29.329349       6              200          200   \n",
       "2020-05-21 20:41:09.125478       6              200          200   \n",
       "2020-05-21 19:57:23.858865       6              200          200   \n",
       "2020-05-21 19:22:55.082507       6              200          200   \n",
       "2020-05-21 18:52:47.891796       6              200          200   \n",
       "2020-05-21 19:57:23.572468       6              200          200   \n",
       "2020-05-21 18:17:42.597546       6              200          200   \n",
       "2020-05-21 20:17:56.498726       6              200          200   \n",
       "2020-05-21 19:39:08.372012       6              200          200   \n",
       "2020-05-21 19:15:19.690289       6              200          200   \n",
       "2020-05-21 19:00:21.938907       6              200          200   \n",
       "2020-05-21 19:22:55.553841       6              200          200   \n",
       "2020-05-21 20:25:28.293264       6              200          200   \n",
       "2020-05-21 19:39:01.593122       6              200          200   \n",
       "2020-05-21 19:07:45.611790       6              200          200   \n",
       "2020-05-21 20:18:09.435122       6              200          200   \n",
       "2020-05-21 19:31:29.166899       6              200          200   \n",
       "2020-05-21 18:34:23.088646       6              200          200   \n",
       "2020-05-21 18:25:49.148309       6              200          200   \n",
       "2020-05-21 18:52:46.945772       6              200          200   \n",
       "2020-05-21 19:39:01.872551       6              200          200   \n",
       "2020-05-21 20:33:32.520408       6              200          200   \n",
       "2020-05-21 20:26:01.296981       6              200          200   \n",
       "2020-05-21 20:02:47.017570       6              200          200   \n",
       "2020-05-21 19:22:55.162686       6              200          200   \n",
       "2020-05-21 19:15:19.487714       6              200          200   \n",
       "\n",
       "                            genom|combine_chance  genom|crossover_chance  \\\n",
       "start                                                                      \n",
       "2020-05-21 20:02:47.284131                0.4910                  1.0000   \n",
       "2020-05-21 20:10:27.505601                0.8644                  0.7478   \n",
       "2020-05-21 18:33:16.465347                0.0000                  1.0000   \n",
       "2020-05-21 18:17:42.590034                0.4790                  0.6761   \n",
       "2020-05-21 18:25:49.043700                0.4790                  0.6761   \n",
       "2020-05-21 19:31:28.669589                0.5056                  1.0000   \n",
       "2020-05-21 20:48:42.842450                0.3465                  0.7689   \n",
       "2020-05-21 19:15:12.332683                0.4779                  1.0000   \n",
       "2020-05-21 19:07:45.774795                0.7081                  1.0000   \n",
       "2020-05-21 20:10:27.371289                0.8156                  0.8479   \n",
       "2020-05-21 18:27:01.316421                0.7026                  0.0617   \n",
       "2020-05-21 20:48:12.418546                0.0762                  0.6151   \n",
       "2020-05-21 20:33:07.728082                1.0000                  0.7883   \n",
       "2020-05-21 18:52:46.525352                0.0000                  1.0000   \n",
       "2020-05-21 20:40:39.404676                0.1282                  0.7899   \n",
       "2020-05-21 19:00:21.420832                0.5548                  1.0000   \n",
       "2020-05-21 20:02:47.449222                0.4739                  0.7407   \n",
       "2020-05-21 18:33:16.407195                0.0000                  0.0000   \n",
       "2020-05-21 20:10:27.642756                0.5049                  0.9578   \n",
       "2020-05-21 18:17:42.587096                0.7026                  0.0617   \n",
       "2020-05-21 19:00:21.870324                0.5246                  0.0000   \n",
       "2020-05-21 19:07:51.830501                0.4557                  0.8465   \n",
       "2020-05-21 19:31:29.329349                0.4965                  0.8912   \n",
       "2020-05-21 20:41:09.125478                0.0531                  0.7923   \n",
       "2020-05-21 19:57:23.858865                0.4739                  0.7407   \n",
       "2020-05-21 19:22:55.082507                0.5302                  0.9531   \n",
       "2020-05-21 18:52:47.891796                1.0000                  1.0000   \n",
       "2020-05-21 19:57:23.572468                0.4952                  0.8714   \n",
       "2020-05-21 18:17:42.597546                0.4932                  0.8889   \n",
       "2020-05-21 20:17:56.498726                0.8968                  0.8844   \n",
       "2020-05-21 19:39:08.372012                0.4739                  0.7407   \n",
       "2020-05-21 19:15:19.690289                0.4878                  0.9764   \n",
       "2020-05-21 19:00:21.938907                0.5252                  0.0000   \n",
       "2020-05-21 19:22:55.553841                0.4816                  0.8945   \n",
       "2020-05-21 20:25:28.293264                0.7051                  0.7480   \n",
       "2020-05-21 19:39:01.593122                0.4910                  1.0000   \n",
       "2020-05-21 19:07:45.611790                0.6723                  0.9171   \n",
       "2020-05-21 20:18:09.435122                0.5610                  1.0000   \n",
       "2020-05-21 19:31:29.166899                0.5037                  0.8984   \n",
       "2020-05-21 18:34:23.088646                0.4749                  1.0000   \n",
       "2020-05-21 18:25:49.148309                0.4932                  0.8889   \n",
       "2020-05-21 18:52:46.945772                0.4749                  1.0000   \n",
       "2020-05-21 19:39:01.872551                0.4952                  0.8715   \n",
       "2020-05-21 20:33:32.520408                0.6931                  0.8342   \n",
       "2020-05-21 20:26:01.296981                0.7575                  0.8439   \n",
       "2020-05-21 20:02:47.017570                0.4952                  0.8714   \n",
       "2020-05-21 19:22:55.162686                0.5096                  0.9247   \n",
       "2020-05-21 19:15:19.487714                0.4840                  0.8943   \n",
       "\n",
       "                            genom|mutate_chance  post|exp_power  seed  \\\n",
       "start                                                                   \n",
       "2020-05-21 20:02:47.284131               0.0021               6     0   \n",
       "2020-05-21 20:10:27.505601               0.0133               2     0   \n",
       "2020-05-21 18:33:16.465347               0.0500              15     0   \n",
       "2020-05-21 18:17:42.590034               0.0158              15     0   \n",
       "2020-05-21 18:25:49.043700               0.0158              15     0   \n",
       "2020-05-21 19:31:28.669589               0.0038               9     0   \n",
       "2020-05-21 20:48:42.842450               0.0139              15     0   \n",
       "2020-05-21 19:15:12.332683               0.0114               1     0   \n",
       "2020-05-21 19:07:45.774795               0.0451               1     0   \n",
       "2020-05-21 20:10:27.371289               0.0091              13     0   \n",
       "2020-05-21 18:27:01.316421               0.0188               3     0   \n",
       "2020-05-21 20:48:12.418546               0.0165              11     0   \n",
       "2020-05-21 20:33:07.728082               0.0082               2     0   \n",
       "2020-05-21 18:52:46.525352               0.0000              15     0   \n",
       "2020-05-21 20:40:39.404676               0.0137              14     0   \n",
       "2020-05-21 19:00:21.420832               0.0000               1     0   \n",
       "2020-05-21 20:02:47.449222               0.0107               2     0   \n",
       "2020-05-21 18:33:16.407195               0.0000              15     0   \n",
       "2020-05-21 20:10:27.642756               0.0035              15     0   \n",
       "2020-05-21 18:17:42.587096               0.0188               3     0   \n",
       "2020-05-21 19:00:21.870324               0.0000              15     0   \n",
       "2020-05-21 19:07:51.830501               0.0365               1     0   \n",
       "2020-05-21 19:31:29.329349               0.0035               4     0   \n",
       "2020-05-21 20:41:09.125478               0.0137              12     0   \n",
       "2020-05-21 19:57:23.858865               0.0107               2     0   \n",
       "2020-05-21 19:22:55.082507               0.0263               5     0   \n",
       "2020-05-21 18:52:47.891796               0.0500               1     0   \n",
       "2020-05-21 19:57:23.572468               0.0121              10     0   \n",
       "2020-05-21 18:17:42.597546               0.0029               5     0   \n",
       "2020-05-21 20:17:56.498726               0.0052              15     0   \n",
       "2020-05-21 19:39:08.372012               0.0107               2     0   \n",
       "2020-05-21 19:15:19.690289               0.0129               2     0   \n",
       "2020-05-21 19:00:21.938907               0.0000               1     0   \n",
       "2020-05-21 19:22:55.553841               0.0000               1     0   \n",
       "2020-05-21 20:25:28.293264               0.0060              11     0   \n",
       "2020-05-21 19:39:01.593122               0.0021               6     0   \n",
       "2020-05-21 19:07:45.611790               0.0461               1     0   \n",
       "2020-05-21 20:18:09.435122               0.0031              15     0   \n",
       "2020-05-21 19:31:29.166899               0.0049               2     0   \n",
       "2020-05-21 18:34:23.088646               0.0000               1     0   \n",
       "2020-05-21 18:25:49.148309               0.0029               5     0   \n",
       "2020-05-21 18:52:46.945772               0.0000               1     0   \n",
       "2020-05-21 19:39:01.872551               0.0121              10     0   \n",
       "2020-05-21 20:33:32.520408               0.0055              15     0   \n",
       "2020-05-21 20:26:01.296981               0.0086              11     0   \n",
       "2020-05-21 20:02:47.017570               0.0121              10     0   \n",
       "2020-05-21 19:22:55.162686               0.0158               1     0   \n",
       "2020-05-21 19:15:19.487714               0.0088               1     0   \n",
       "\n",
       "                            subsample_size  \n",
       "start                                       \n",
       "2020-05-21 20:02:47.284131              50  \n",
       "2020-05-21 20:10:27.505601              50  \n",
       "2020-05-21 18:33:16.465347              50  \n",
       "2020-05-21 18:17:42.590034              50  \n",
       "2020-05-21 18:25:49.043700              50  \n",
       "2020-05-21 19:31:28.669589              50  \n",
       "2020-05-21 20:48:42.842450              50  \n",
       "2020-05-21 19:15:12.332683              50  \n",
       "2020-05-21 19:07:45.774795              50  \n",
       "2020-05-21 20:10:27.371289              50  \n",
       "2020-05-21 18:27:01.316421              50  \n",
       "2020-05-21 20:48:12.418546              50  \n",
       "2020-05-21 20:33:07.728082              50  \n",
       "2020-05-21 18:52:46.525352              50  \n",
       "2020-05-21 20:40:39.404676              50  \n",
       "2020-05-21 19:00:21.420832              50  \n",
       "2020-05-21 20:02:47.449222              50  \n",
       "2020-05-21 18:33:16.407195              50  \n",
       "2020-05-21 20:10:27.642756              50  \n",
       "2020-05-21 18:17:42.587096              50  \n",
       "2020-05-21 19:00:21.870324              50  \n",
       "2020-05-21 19:07:51.830501              50  \n",
       "2020-05-21 19:31:29.329349              50  \n",
       "2020-05-21 20:41:09.125478              50  \n",
       "2020-05-21 19:57:23.858865              50  \n",
       "2020-05-21 19:22:55.082507              50  \n",
       "2020-05-21 18:52:47.891796              50  \n",
       "2020-05-21 19:57:23.572468              50  \n",
       "2020-05-21 18:17:42.597546              50  \n",
       "2020-05-21 20:17:56.498726              50  \n",
       "2020-05-21 19:39:08.372012              50  \n",
       "2020-05-21 19:15:19.690289              50  \n",
       "2020-05-21 19:00:21.938907              50  \n",
       "2020-05-21 19:22:55.553841              50  \n",
       "2020-05-21 20:25:28.293264              50  \n",
       "2020-05-21 19:39:01.593122              50  \n",
       "2020-05-21 19:07:45.611790              50  \n",
       "2020-05-21 20:18:09.435122              50  \n",
       "2020-05-21 19:31:29.166899              50  \n",
       "2020-05-21 18:34:23.088646              50  \n",
       "2020-05-21 18:25:49.148309              50  \n",
       "2020-05-21 18:52:46.945772              50  \n",
       "2020-05-21 19:39:01.872551              50  \n",
       "2020-05-21 20:33:32.520408              50  \n",
       "2020-05-21 20:26:01.296981              50  \n",
       "2020-05-21 20:02:47.017570              50  \n",
       "2020-05-21 19:22:55.162686              50  \n",
       "2020-05-21 19:15:19.487714              50  "
      ]
     },
     "execution_count": 26,
     "metadata": {},
     "output_type": "execute_result"
    }
   ],
   "source": [
    "df"
   ]
  },
  {
   "cell_type": "code",
   "execution_count": 27,
   "metadata": {
    "ExecuteTime": {
     "end_time": "2020-05-21T17:54:01.069049Z",
     "start_time": "2020-05-21T17:54:00.630999Z"
    },
    "execution": {
     "iopub.execute_input": "2020-05-18T12:52:56.391496Z",
     "iopub.status.busy": "2020-05-18T12:52:56.391313Z",
     "iopub.status.idle": "2020-05-18T12:52:57.057637Z",
     "shell.execute_reply": "2020-05-18T12:52:57.056663Z",
     "shell.execute_reply.started": "2020-05-18T12:52:56.391467Z"
    }
   },
   "outputs": [
    {
     "data": {
      "application/vnd.plotly.v1+json": {
       "config": {
        "plotlyServerURL": "https://plot.ly"
       },
       "data": [
        {
         "dimensions": [
          {
           "label": "genom|combine_chance",
           "values": [
            0.3465,
            0.0762,
            0.0531,
            0.1282,
            0.6931,
            1,
            0.7575,
            0.7051,
            0.561,
            0.8968,
            0.5049,
            0.8644,
            0.8156,
            0.4739,
            0.491,
            0.4952,
            0.4739,
            0.4952,
            0.4739,
            0.4952,
            0.491,
            0.4965,
            0.5037,
            0.5056,
            0.4816,
            0.5096,
            0.5302,
            0.4878,
            0.484,
            0.4779,
            0.4557,
            0.7081,
            0.6723,
            0.5252,
            0.5246,
            0.5548,
            1,
            0.4749,
            0,
            0.4749,
            0,
            0,
            0.7026,
            0.4932,
            0.479,
            0.4932,
            0.479,
            0.7026
           ]
          },
          {
           "label": "genom|crossover_chance",
           "values": [
            0.7689,
            0.6151,
            0.7923,
            0.7899,
            0.8342,
            0.7883,
            0.8439,
            0.748,
            1,
            0.8844,
            0.9578,
            0.7478,
            0.8479,
            0.7407,
            1,
            0.8714,
            0.7407,
            0.8714,
            0.7407,
            0.8715,
            1,
            0.8912,
            0.8984,
            1,
            0.8945,
            0.9247,
            0.9531,
            0.9764,
            0.8943,
            1,
            0.8465,
            1,
            0.9171,
            0,
            0,
            1,
            1,
            1,
            1,
            1,
            1,
            0,
            0.0617,
            0.8889,
            0.6761,
            0.8889,
            0.6761,
            0.0617
           ]
          },
          {
           "label": "genom|mutate_chance",
           "values": [
            0.0139,
            0.0165,
            0.0137,
            0.0137,
            0.0055,
            0.0082,
            0.0086,
            0.006,
            0.0031,
            0.0052,
            0.0035,
            0.0133,
            0.0091,
            0.0107,
            0.0021,
            0.0121,
            0.0107,
            0.0121,
            0.0107,
            0.0121,
            0.0021,
            0.0035,
            0.0049,
            0.0038,
            0,
            0.0158,
            0.0263,
            0.0129,
            0.0088,
            0.0114,
            0.0365,
            0.0451,
            0.0461,
            0,
            0,
            0,
            0.05,
            0,
            0,
            0,
            0.05,
            0,
            0.0188,
            0.0029,
            0.0158,
            0.0029,
            0.0158,
            0.0188
           ]
          },
          {
           "label": "post|exp_power",
           "values": [
            15,
            11,
            12,
            14,
            15,
            2,
            11,
            11,
            15,
            15,
            15,
            2,
            13,
            2,
            6,
            10,
            2,
            10,
            2,
            10,
            6,
            4,
            2,
            9,
            1,
            1,
            5,
            2,
            1,
            1,
            1,
            1,
            1,
            1,
            15,
            1,
            1,
            1,
            15,
            1,
            15,
            15,
            3,
            5,
            15,
            5,
            15,
            3
           ]
          },
          {
           "label": "bva",
           "values": [
            0.529,
            0.487,
            0.518,
            0.547,
            0.564,
            0.507,
            0.552,
            0.563,
            0.582,
            0.555,
            0.58,
            0.499,
            0.507,
            0.535,
            0.584,
            0.555,
            0.487,
            0.52,
            0.538,
            0.555,
            0.578,
            0.574,
            0.556,
            0.58,
            0.203,
            0.499,
            0.515,
            0.543,
            0.565,
            0.493,
            0.325,
            0.104,
            0.251,
            0.071,
            0.062,
            0.539,
            0.285,
            0.565,
            0.072,
            0.537,
            0.377,
            0.062,
            0.474,
            0.573,
            0.543,
            0.574,
            0.55,
            0.478
           ]
          }
         ],
         "domain": {
          "x": [
           0,
           1
          ],
          "y": [
           0,
           1
          ]
         },
         "line": {
          "color": [
           0.529,
           0.487,
           0.518,
           0.547,
           0.564,
           0.507,
           0.552,
           0.563,
           0.582,
           0.555,
           0.58,
           0.499,
           0.507,
           0.535,
           0.584,
           0.555,
           0.487,
           0.52,
           0.538,
           0.555,
           0.578,
           0.574,
           0.556,
           0.58,
           0.203,
           0.499,
           0.515,
           0.543,
           0.565,
           0.493,
           0.325,
           0.104,
           0.251,
           0.071,
           0.062,
           0.539,
           0.285,
           0.565,
           0.072,
           0.537,
           0.377,
           0.062,
           0.474,
           0.573,
           0.543,
           0.574,
           0.55,
           0.478
          ],
          "coloraxis": "coloraxis"
         },
         "name": "",
         "type": "parcoords"
        }
       ],
       "layout": {
        "coloraxis": {
         "cmax": 0.584,
         "cmid": 0.5,
         "cmin": 0.45,
         "colorbar": {
          "title": {
           "text": "bva"
          }
         },
         "colorscale": [
          [
           0,
           "rgb(0, 147, 146)"
          ],
          [
           0.16666666666666666,
           "rgb(114, 170, 161)"
          ],
          [
           0.3333333333333333,
           "rgb(177, 199, 179)"
          ],
          [
           0.5,
           "rgb(241, 234, 200)"
          ],
          [
           0.6666666666666666,
           "rgb(229, 185, 173)"
          ],
          [
           0.8333333333333334,
           "rgb(217, 137, 148)"
          ],
          [
           1,
           "rgb(208, 88, 126)"
          ]
         ]
        },
        "height": 600,
        "legend": {
         "tracegroupgap": 0
        },
        "margin": {
         "t": 60
        },
        "template": {
         "data": {
          "bar": [
           {
            "error_x": {
             "color": "#2a3f5f"
            },
            "error_y": {
             "color": "#2a3f5f"
            },
            "marker": {
             "line": {
              "color": "#E5ECF6",
              "width": 0.5
             }
            },
            "type": "bar"
           }
          ],
          "barpolar": [
           {
            "marker": {
             "line": {
              "color": "#E5ECF6",
              "width": 0.5
             }
            },
            "type": "barpolar"
           }
          ],
          "carpet": [
           {
            "aaxis": {
             "endlinecolor": "#2a3f5f",
             "gridcolor": "white",
             "linecolor": "white",
             "minorgridcolor": "white",
             "startlinecolor": "#2a3f5f"
            },
            "baxis": {
             "endlinecolor": "#2a3f5f",
             "gridcolor": "white",
             "linecolor": "white",
             "minorgridcolor": "white",
             "startlinecolor": "#2a3f5f"
            },
            "type": "carpet"
           }
          ],
          "choropleth": [
           {
            "colorbar": {
             "outlinewidth": 0,
             "ticks": ""
            },
            "type": "choropleth"
           }
          ],
          "contour": [
           {
            "colorbar": {
             "outlinewidth": 0,
             "ticks": ""
            },
            "colorscale": [
             [
              0,
              "#0d0887"
             ],
             [
              0.1111111111111111,
              "#46039f"
             ],
             [
              0.2222222222222222,
              "#7201a8"
             ],
             [
              0.3333333333333333,
              "#9c179e"
             ],
             [
              0.4444444444444444,
              "#bd3786"
             ],
             [
              0.5555555555555556,
              "#d8576b"
             ],
             [
              0.6666666666666666,
              "#ed7953"
             ],
             [
              0.7777777777777778,
              "#fb9f3a"
             ],
             [
              0.8888888888888888,
              "#fdca26"
             ],
             [
              1,
              "#f0f921"
             ]
            ],
            "type": "contour"
           }
          ],
          "contourcarpet": [
           {
            "colorbar": {
             "outlinewidth": 0,
             "ticks": ""
            },
            "type": "contourcarpet"
           }
          ],
          "heatmap": [
           {
            "colorbar": {
             "outlinewidth": 0,
             "ticks": ""
            },
            "colorscale": [
             [
              0,
              "#0d0887"
             ],
             [
              0.1111111111111111,
              "#46039f"
             ],
             [
              0.2222222222222222,
              "#7201a8"
             ],
             [
              0.3333333333333333,
              "#9c179e"
             ],
             [
              0.4444444444444444,
              "#bd3786"
             ],
             [
              0.5555555555555556,
              "#d8576b"
             ],
             [
              0.6666666666666666,
              "#ed7953"
             ],
             [
              0.7777777777777778,
              "#fb9f3a"
             ],
             [
              0.8888888888888888,
              "#fdca26"
             ],
             [
              1,
              "#f0f921"
             ]
            ],
            "type": "heatmap"
           }
          ],
          "heatmapgl": [
           {
            "colorbar": {
             "outlinewidth": 0,
             "ticks": ""
            },
            "colorscale": [
             [
              0,
              "#0d0887"
             ],
             [
              0.1111111111111111,
              "#46039f"
             ],
             [
              0.2222222222222222,
              "#7201a8"
             ],
             [
              0.3333333333333333,
              "#9c179e"
             ],
             [
              0.4444444444444444,
              "#bd3786"
             ],
             [
              0.5555555555555556,
              "#d8576b"
             ],
             [
              0.6666666666666666,
              "#ed7953"
             ],
             [
              0.7777777777777778,
              "#fb9f3a"
             ],
             [
              0.8888888888888888,
              "#fdca26"
             ],
             [
              1,
              "#f0f921"
             ]
            ],
            "type": "heatmapgl"
           }
          ],
          "histogram": [
           {
            "marker": {
             "colorbar": {
              "outlinewidth": 0,
              "ticks": ""
             }
            },
            "type": "histogram"
           }
          ],
          "histogram2d": [
           {
            "colorbar": {
             "outlinewidth": 0,
             "ticks": ""
            },
            "colorscale": [
             [
              0,
              "#0d0887"
             ],
             [
              0.1111111111111111,
              "#46039f"
             ],
             [
              0.2222222222222222,
              "#7201a8"
             ],
             [
              0.3333333333333333,
              "#9c179e"
             ],
             [
              0.4444444444444444,
              "#bd3786"
             ],
             [
              0.5555555555555556,
              "#d8576b"
             ],
             [
              0.6666666666666666,
              "#ed7953"
             ],
             [
              0.7777777777777778,
              "#fb9f3a"
             ],
             [
              0.8888888888888888,
              "#fdca26"
             ],
             [
              1,
              "#f0f921"
             ]
            ],
            "type": "histogram2d"
           }
          ],
          "histogram2dcontour": [
           {
            "colorbar": {
             "outlinewidth": 0,
             "ticks": ""
            },
            "colorscale": [
             [
              0,
              "#0d0887"
             ],
             [
              0.1111111111111111,
              "#46039f"
             ],
             [
              0.2222222222222222,
              "#7201a8"
             ],
             [
              0.3333333333333333,
              "#9c179e"
             ],
             [
              0.4444444444444444,
              "#bd3786"
             ],
             [
              0.5555555555555556,
              "#d8576b"
             ],
             [
              0.6666666666666666,
              "#ed7953"
             ],
             [
              0.7777777777777778,
              "#fb9f3a"
             ],
             [
              0.8888888888888888,
              "#fdca26"
             ],
             [
              1,
              "#f0f921"
             ]
            ],
            "type": "histogram2dcontour"
           }
          ],
          "mesh3d": [
           {
            "colorbar": {
             "outlinewidth": 0,
             "ticks": ""
            },
            "type": "mesh3d"
           }
          ],
          "parcoords": [
           {
            "line": {
             "colorbar": {
              "outlinewidth": 0,
              "ticks": ""
             }
            },
            "type": "parcoords"
           }
          ],
          "pie": [
           {
            "automargin": true,
            "type": "pie"
           }
          ],
          "scatter": [
           {
            "marker": {
             "colorbar": {
              "outlinewidth": 0,
              "ticks": ""
             }
            },
            "type": "scatter"
           }
          ],
          "scatter3d": [
           {
            "line": {
             "colorbar": {
              "outlinewidth": 0,
              "ticks": ""
             }
            },
            "marker": {
             "colorbar": {
              "outlinewidth": 0,
              "ticks": ""
             }
            },
            "type": "scatter3d"
           }
          ],
          "scattercarpet": [
           {
            "marker": {
             "colorbar": {
              "outlinewidth": 0,
              "ticks": ""
             }
            },
            "type": "scattercarpet"
           }
          ],
          "scattergeo": [
           {
            "marker": {
             "colorbar": {
              "outlinewidth": 0,
              "ticks": ""
             }
            },
            "type": "scattergeo"
           }
          ],
          "scattergl": [
           {
            "marker": {
             "colorbar": {
              "outlinewidth": 0,
              "ticks": ""
             }
            },
            "type": "scattergl"
           }
          ],
          "scattermapbox": [
           {
            "marker": {
             "colorbar": {
              "outlinewidth": 0,
              "ticks": ""
             }
            },
            "type": "scattermapbox"
           }
          ],
          "scatterpolar": [
           {
            "marker": {
             "colorbar": {
              "outlinewidth": 0,
              "ticks": ""
             }
            },
            "type": "scatterpolar"
           }
          ],
          "scatterpolargl": [
           {
            "marker": {
             "colorbar": {
              "outlinewidth": 0,
              "ticks": ""
             }
            },
            "type": "scatterpolargl"
           }
          ],
          "scatterternary": [
           {
            "marker": {
             "colorbar": {
              "outlinewidth": 0,
              "ticks": ""
             }
            },
            "type": "scatterternary"
           }
          ],
          "surface": [
           {
            "colorbar": {
             "outlinewidth": 0,
             "ticks": ""
            },
            "colorscale": [
             [
              0,
              "#0d0887"
             ],
             [
              0.1111111111111111,
              "#46039f"
             ],
             [
              0.2222222222222222,
              "#7201a8"
             ],
             [
              0.3333333333333333,
              "#9c179e"
             ],
             [
              0.4444444444444444,
              "#bd3786"
             ],
             [
              0.5555555555555556,
              "#d8576b"
             ],
             [
              0.6666666666666666,
              "#ed7953"
             ],
             [
              0.7777777777777778,
              "#fb9f3a"
             ],
             [
              0.8888888888888888,
              "#fdca26"
             ],
             [
              1,
              "#f0f921"
             ]
            ],
            "type": "surface"
           }
          ],
          "table": [
           {
            "cells": {
             "fill": {
              "color": "#EBF0F8"
             },
             "line": {
              "color": "white"
             }
            },
            "header": {
             "fill": {
              "color": "#C8D4E3"
             },
             "line": {
              "color": "white"
             }
            },
            "type": "table"
           }
          ]
         },
         "layout": {
          "annotationdefaults": {
           "arrowcolor": "#2a3f5f",
           "arrowhead": 0,
           "arrowwidth": 1
          },
          "coloraxis": {
           "colorbar": {
            "outlinewidth": 0,
            "ticks": ""
           }
          },
          "colorscale": {
           "diverging": [
            [
             0,
             "#8e0152"
            ],
            [
             0.1,
             "#c51b7d"
            ],
            [
             0.2,
             "#de77ae"
            ],
            [
             0.3,
             "#f1b6da"
            ],
            [
             0.4,
             "#fde0ef"
            ],
            [
             0.5,
             "#f7f7f7"
            ],
            [
             0.6,
             "#e6f5d0"
            ],
            [
             0.7,
             "#b8e186"
            ],
            [
             0.8,
             "#7fbc41"
            ],
            [
             0.9,
             "#4d9221"
            ],
            [
             1,
             "#276419"
            ]
           ],
           "sequential": [
            [
             0,
             "#0d0887"
            ],
            [
             0.1111111111111111,
             "#46039f"
            ],
            [
             0.2222222222222222,
             "#7201a8"
            ],
            [
             0.3333333333333333,
             "#9c179e"
            ],
            [
             0.4444444444444444,
             "#bd3786"
            ],
            [
             0.5555555555555556,
             "#d8576b"
            ],
            [
             0.6666666666666666,
             "#ed7953"
            ],
            [
             0.7777777777777778,
             "#fb9f3a"
            ],
            [
             0.8888888888888888,
             "#fdca26"
            ],
            [
             1,
             "#f0f921"
            ]
           ],
           "sequentialminus": [
            [
             0,
             "#0d0887"
            ],
            [
             0.1111111111111111,
             "#46039f"
            ],
            [
             0.2222222222222222,
             "#7201a8"
            ],
            [
             0.3333333333333333,
             "#9c179e"
            ],
            [
             0.4444444444444444,
             "#bd3786"
            ],
            [
             0.5555555555555556,
             "#d8576b"
            ],
            [
             0.6666666666666666,
             "#ed7953"
            ],
            [
             0.7777777777777778,
             "#fb9f3a"
            ],
            [
             0.8888888888888888,
             "#fdca26"
            ],
            [
             1,
             "#f0f921"
            ]
           ]
          },
          "colorway": [
           "#636efa",
           "#EF553B",
           "#00cc96",
           "#ab63fa",
           "#FFA15A",
           "#19d3f3",
           "#FF6692",
           "#B6E880",
           "#FF97FF",
           "#FECB52"
          ],
          "font": {
           "color": "#2a3f5f"
          },
          "geo": {
           "bgcolor": "white",
           "lakecolor": "white",
           "landcolor": "#E5ECF6",
           "showlakes": true,
           "showland": true,
           "subunitcolor": "white"
          },
          "hoverlabel": {
           "align": "left"
          },
          "hovermode": "closest",
          "mapbox": {
           "style": "light"
          },
          "paper_bgcolor": "white",
          "plot_bgcolor": "#E5ECF6",
          "polar": {
           "angularaxis": {
            "gridcolor": "white",
            "linecolor": "white",
            "ticks": ""
           },
           "bgcolor": "#E5ECF6",
           "radialaxis": {
            "gridcolor": "white",
            "linecolor": "white",
            "ticks": ""
           }
          },
          "scene": {
           "xaxis": {
            "backgroundcolor": "#E5ECF6",
            "gridcolor": "white",
            "gridwidth": 2,
            "linecolor": "white",
            "showbackground": true,
            "ticks": "",
            "zerolinecolor": "white"
           },
           "yaxis": {
            "backgroundcolor": "#E5ECF6",
            "gridcolor": "white",
            "gridwidth": 2,
            "linecolor": "white",
            "showbackground": true,
            "ticks": "",
            "zerolinecolor": "white"
           },
           "zaxis": {
            "backgroundcolor": "#E5ECF6",
            "gridcolor": "white",
            "gridwidth": 2,
            "linecolor": "white",
            "showbackground": true,
            "ticks": "",
            "zerolinecolor": "white"
           }
          },
          "shapedefaults": {
           "line": {
            "color": "#2a3f5f"
           }
          },
          "ternary": {
           "aaxis": {
            "gridcolor": "white",
            "linecolor": "white",
            "ticks": ""
           },
           "baxis": {
            "gridcolor": "white",
            "linecolor": "white",
            "ticks": ""
           },
           "bgcolor": "#E5ECF6",
           "caxis": {
            "gridcolor": "white",
            "linecolor": "white",
            "ticks": ""
           }
          },
          "title": {
           "x": 0.05
          },
          "xaxis": {
           "automargin": true,
           "gridcolor": "white",
           "linecolor": "white",
           "ticks": "",
           "title": {
            "standoff": 15
           },
           "zerolinecolor": "white",
           "zerolinewidth": 2
          },
          "yaxis": {
           "automargin": true,
           "gridcolor": "white",
           "linecolor": "white",
           "ticks": "",
           "title": {
            "standoff": 15
           },
           "zerolinecolor": "white",
           "zerolinewidth": 2
          }
         }
        }
       }
      },
      "text/html": [
       "<div>\n",
       "        \n",
       "        \n",
       "            <div id=\"f5e5824b-3ff9-4e2a-bf85-2f76429d4247\" class=\"plotly-graph-div\" style=\"height:600px; width:100%;\"></div>\n",
       "            <script type=\"text/javascript\">\n",
       "                require([\"plotly\"], function(Plotly) {\n",
       "                    window.PLOTLYENV=window.PLOTLYENV || {};\n",
       "                    \n",
       "                if (document.getElementById(\"f5e5824b-3ff9-4e2a-bf85-2f76429d4247\")) {\n",
       "                    Plotly.newPlot(\n",
       "                        'f5e5824b-3ff9-4e2a-bf85-2f76429d4247',\n",
       "                        [{\"dimensions\": [{\"label\": \"genom|combine_chance\", \"values\": [0.3465, 0.0762, 0.0531, 0.1282, 0.6931, 1.0, 0.7575, 0.7051, 0.561, 0.8968, 0.5049, 0.8644, 0.8156, 0.4739, 0.491, 0.4952, 0.4739, 0.4952, 0.4739, 0.4952, 0.491, 0.4965, 0.5037, 0.5056, 0.4816, 0.5096, 0.5302, 0.4878, 0.484, 0.4779, 0.4557, 0.7081, 0.6723, 0.5252, 0.5246, 0.5548, 1.0, 0.4749, 0.0, 0.4749, 0.0, 0.0, 0.7026, 0.4932, 0.479, 0.4932, 0.479, 0.7026]}, {\"label\": \"genom|crossover_chance\", \"values\": [0.7689, 0.6151, 0.7923, 0.7899, 0.8342, 0.7883, 0.8439, 0.748, 1.0, 0.8844, 0.9578, 0.7478, 0.8479, 0.7407, 1.0, 0.8714, 0.7407, 0.8714, 0.7407, 0.8715, 1.0, 0.8912, 0.8984, 1.0, 0.8945, 0.9247, 0.9531, 0.9764, 0.8943, 1.0, 0.8465, 1.0, 0.9171, 0.0, 0.0, 1.0, 1.0, 1.0, 1.0, 1.0, 1.0, 0.0, 0.0617, 0.8889, 0.6761, 0.8889, 0.6761, 0.0617]}, {\"label\": \"genom|mutate_chance\", \"values\": [0.0139, 0.0165, 0.0137, 0.0137, 0.0055, 0.0082, 0.0086, 0.006, 0.0031, 0.0052, 0.0035, 0.0133, 0.0091, 0.0107, 0.0021, 0.0121, 0.0107, 0.0121, 0.0107, 0.0121, 0.0021, 0.0035, 0.0049, 0.0038, 0.0, 0.0158, 0.0263, 0.0129, 0.0088, 0.0114, 0.0365, 0.0451, 0.0461, 0.0, 0.0, 0.0, 0.05, 0.0, 0.0, 0.0, 0.05, 0.0, 0.0188, 0.0029, 0.0158, 0.0029, 0.0158, 0.0188]}, {\"label\": \"post|exp_power\", \"values\": [15, 11, 12, 14, 15, 2, 11, 11, 15, 15, 15, 2, 13, 2, 6, 10, 2, 10, 2, 10, 6, 4, 2, 9, 1, 1, 5, 2, 1, 1, 1, 1, 1, 1, 15, 1, 1, 1, 15, 1, 15, 15, 3, 5, 15, 5, 15, 3]}, {\"label\": \"bva\", \"values\": [0.529, 0.487, 0.518, 0.547, 0.564, 0.507, 0.552, 0.563, 0.582, 0.555, 0.58, 0.499, 0.507, 0.535, 0.584, 0.555, 0.487, 0.52, 0.538, 0.555, 0.578, 0.574, 0.556, 0.58, 0.203, 0.499, 0.515, 0.543, 0.565, 0.493, 0.325, 0.104, 0.251, 0.071, 0.062, 0.539, 0.285, 0.565, 0.072, 0.537, 0.377, 0.062, 0.474, 0.573, 0.543, 0.574, 0.55, 0.478]}], \"domain\": {\"x\": [0.0, 1.0], \"y\": [0.0, 1.0]}, \"line\": {\"color\": [0.529, 0.487, 0.518, 0.547, 0.564, 0.507, 0.552, 0.563, 0.582, 0.555, 0.58, 0.499, 0.507, 0.535, 0.584, 0.555, 0.487, 0.52, 0.538, 0.555, 0.578, 0.574, 0.556, 0.58, 0.203, 0.499, 0.515, 0.543, 0.565, 0.493, 0.325, 0.104, 0.251, 0.071, 0.062, 0.539, 0.285, 0.565, 0.072, 0.537, 0.377, 0.062, 0.474, 0.573, 0.543, 0.574, 0.55, 0.478], \"coloraxis\": \"coloraxis\"}, \"name\": \"\", \"type\": \"parcoords\"}],\n",
       "                        {\"coloraxis\": {\"cmax\": 0.584, \"cmid\": 0.5, \"cmin\": 0.45, \"colorbar\": {\"title\": {\"text\": \"bva\"}}, \"colorscale\": [[0.0, \"rgb(0, 147, 146)\"], [0.16666666666666666, \"rgb(114, 170, 161)\"], [0.3333333333333333, \"rgb(177, 199, 179)\"], [0.5, \"rgb(241, 234, 200)\"], [0.6666666666666666, \"rgb(229, 185, 173)\"], [0.8333333333333334, \"rgb(217, 137, 148)\"], [1.0, \"rgb(208, 88, 126)\"]]}, \"height\": 600, \"legend\": {\"tracegroupgap\": 0}, \"margin\": {\"t\": 60}, \"template\": {\"data\": {\"bar\": [{\"error_x\": {\"color\": \"#2a3f5f\"}, \"error_y\": {\"color\": \"#2a3f5f\"}, \"marker\": {\"line\": {\"color\": \"#E5ECF6\", \"width\": 0.5}}, \"type\": \"bar\"}], \"barpolar\": [{\"marker\": {\"line\": {\"color\": \"#E5ECF6\", \"width\": 0.5}}, \"type\": \"barpolar\"}], \"carpet\": [{\"aaxis\": {\"endlinecolor\": \"#2a3f5f\", \"gridcolor\": \"white\", \"linecolor\": \"white\", \"minorgridcolor\": \"white\", \"startlinecolor\": \"#2a3f5f\"}, \"baxis\": {\"endlinecolor\": \"#2a3f5f\", \"gridcolor\": \"white\", \"linecolor\": \"white\", \"minorgridcolor\": \"white\", \"startlinecolor\": \"#2a3f5f\"}, \"type\": \"carpet\"}], \"choropleth\": [{\"colorbar\": {\"outlinewidth\": 0, \"ticks\": \"\"}, \"type\": \"choropleth\"}], \"contour\": [{\"colorbar\": {\"outlinewidth\": 0, \"ticks\": \"\"}, \"colorscale\": [[0.0, \"#0d0887\"], [0.1111111111111111, \"#46039f\"], [0.2222222222222222, \"#7201a8\"], [0.3333333333333333, \"#9c179e\"], [0.4444444444444444, \"#bd3786\"], [0.5555555555555556, \"#d8576b\"], [0.6666666666666666, \"#ed7953\"], [0.7777777777777778, \"#fb9f3a\"], [0.8888888888888888, \"#fdca26\"], [1.0, \"#f0f921\"]], \"type\": \"contour\"}], \"contourcarpet\": [{\"colorbar\": {\"outlinewidth\": 0, \"ticks\": \"\"}, \"type\": \"contourcarpet\"}], \"heatmap\": [{\"colorbar\": {\"outlinewidth\": 0, \"ticks\": \"\"}, \"colorscale\": [[0.0, \"#0d0887\"], [0.1111111111111111, \"#46039f\"], [0.2222222222222222, \"#7201a8\"], [0.3333333333333333, \"#9c179e\"], [0.4444444444444444, \"#bd3786\"], [0.5555555555555556, \"#d8576b\"], [0.6666666666666666, \"#ed7953\"], [0.7777777777777778, \"#fb9f3a\"], [0.8888888888888888, \"#fdca26\"], [1.0, \"#f0f921\"]], \"type\": \"heatmap\"}], \"heatmapgl\": [{\"colorbar\": {\"outlinewidth\": 0, \"ticks\": \"\"}, \"colorscale\": [[0.0, \"#0d0887\"], [0.1111111111111111, \"#46039f\"], [0.2222222222222222, \"#7201a8\"], [0.3333333333333333, \"#9c179e\"], [0.4444444444444444, \"#bd3786\"], [0.5555555555555556, \"#d8576b\"], [0.6666666666666666, \"#ed7953\"], [0.7777777777777778, \"#fb9f3a\"], [0.8888888888888888, \"#fdca26\"], [1.0, \"#f0f921\"]], \"type\": \"heatmapgl\"}], \"histogram\": [{\"marker\": {\"colorbar\": {\"outlinewidth\": 0, \"ticks\": \"\"}}, \"type\": \"histogram\"}], \"histogram2d\": [{\"colorbar\": {\"outlinewidth\": 0, \"ticks\": \"\"}, \"colorscale\": [[0.0, \"#0d0887\"], [0.1111111111111111, \"#46039f\"], [0.2222222222222222, \"#7201a8\"], [0.3333333333333333, \"#9c179e\"], [0.4444444444444444, \"#bd3786\"], [0.5555555555555556, \"#d8576b\"], [0.6666666666666666, \"#ed7953\"], [0.7777777777777778, \"#fb9f3a\"], [0.8888888888888888, \"#fdca26\"], [1.0, \"#f0f921\"]], \"type\": \"histogram2d\"}], \"histogram2dcontour\": [{\"colorbar\": {\"outlinewidth\": 0, \"ticks\": \"\"}, \"colorscale\": [[0.0, \"#0d0887\"], [0.1111111111111111, \"#46039f\"], [0.2222222222222222, \"#7201a8\"], [0.3333333333333333, \"#9c179e\"], [0.4444444444444444, \"#bd3786\"], [0.5555555555555556, \"#d8576b\"], [0.6666666666666666, \"#ed7953\"], [0.7777777777777778, \"#fb9f3a\"], [0.8888888888888888, \"#fdca26\"], [1.0, \"#f0f921\"]], \"type\": \"histogram2dcontour\"}], \"mesh3d\": [{\"colorbar\": {\"outlinewidth\": 0, \"ticks\": \"\"}, \"type\": \"mesh3d\"}], \"parcoords\": [{\"line\": {\"colorbar\": {\"outlinewidth\": 0, \"ticks\": \"\"}}, \"type\": \"parcoords\"}], \"pie\": [{\"automargin\": true, \"type\": \"pie\"}], \"scatter\": [{\"marker\": {\"colorbar\": {\"outlinewidth\": 0, \"ticks\": \"\"}}, \"type\": \"scatter\"}], \"scatter3d\": [{\"line\": {\"colorbar\": {\"outlinewidth\": 0, \"ticks\": \"\"}}, \"marker\": {\"colorbar\": {\"outlinewidth\": 0, \"ticks\": \"\"}}, \"type\": \"scatter3d\"}], \"scattercarpet\": [{\"marker\": {\"colorbar\": {\"outlinewidth\": 0, \"ticks\": \"\"}}, \"type\": \"scattercarpet\"}], \"scattergeo\": [{\"marker\": {\"colorbar\": {\"outlinewidth\": 0, \"ticks\": \"\"}}, \"type\": \"scattergeo\"}], \"scattergl\": [{\"marker\": {\"colorbar\": {\"outlinewidth\": 0, \"ticks\": \"\"}}, \"type\": \"scattergl\"}], \"scattermapbox\": [{\"marker\": {\"colorbar\": {\"outlinewidth\": 0, \"ticks\": \"\"}}, \"type\": \"scattermapbox\"}], \"scatterpolar\": [{\"marker\": {\"colorbar\": {\"outlinewidth\": 0, \"ticks\": \"\"}}, \"type\": \"scatterpolar\"}], \"scatterpolargl\": [{\"marker\": {\"colorbar\": {\"outlinewidth\": 0, \"ticks\": \"\"}}, \"type\": \"scatterpolargl\"}], \"scatterternary\": [{\"marker\": {\"colorbar\": {\"outlinewidth\": 0, \"ticks\": \"\"}}, \"type\": \"scatterternary\"}], \"surface\": [{\"colorbar\": {\"outlinewidth\": 0, \"ticks\": \"\"}, \"colorscale\": [[0.0, \"#0d0887\"], [0.1111111111111111, \"#46039f\"], [0.2222222222222222, \"#7201a8\"], [0.3333333333333333, \"#9c179e\"], [0.4444444444444444, \"#bd3786\"], [0.5555555555555556, \"#d8576b\"], [0.6666666666666666, \"#ed7953\"], [0.7777777777777778, \"#fb9f3a\"], [0.8888888888888888, \"#fdca26\"], [1.0, \"#f0f921\"]], \"type\": \"surface\"}], \"table\": [{\"cells\": {\"fill\": {\"color\": \"#EBF0F8\"}, \"line\": {\"color\": \"white\"}}, \"header\": {\"fill\": {\"color\": \"#C8D4E3\"}, \"line\": {\"color\": \"white\"}}, \"type\": \"table\"}]}, \"layout\": {\"annotationdefaults\": {\"arrowcolor\": \"#2a3f5f\", \"arrowhead\": 0, \"arrowwidth\": 1}, \"coloraxis\": {\"colorbar\": {\"outlinewidth\": 0, \"ticks\": \"\"}}, \"colorscale\": {\"diverging\": [[0, \"#8e0152\"], [0.1, \"#c51b7d\"], [0.2, \"#de77ae\"], [0.3, \"#f1b6da\"], [0.4, \"#fde0ef\"], [0.5, \"#f7f7f7\"], [0.6, \"#e6f5d0\"], [0.7, \"#b8e186\"], [0.8, \"#7fbc41\"], [0.9, \"#4d9221\"], [1, \"#276419\"]], \"sequential\": [[0.0, \"#0d0887\"], [0.1111111111111111, \"#46039f\"], [0.2222222222222222, \"#7201a8\"], [0.3333333333333333, \"#9c179e\"], [0.4444444444444444, \"#bd3786\"], [0.5555555555555556, \"#d8576b\"], [0.6666666666666666, \"#ed7953\"], [0.7777777777777778, \"#fb9f3a\"], [0.8888888888888888, \"#fdca26\"], [1.0, \"#f0f921\"]], \"sequentialminus\": [[0.0, \"#0d0887\"], [0.1111111111111111, \"#46039f\"], [0.2222222222222222, \"#7201a8\"], [0.3333333333333333, \"#9c179e\"], [0.4444444444444444, \"#bd3786\"], [0.5555555555555556, \"#d8576b\"], [0.6666666666666666, \"#ed7953\"], [0.7777777777777778, \"#fb9f3a\"], [0.8888888888888888, \"#fdca26\"], [1.0, \"#f0f921\"]]}, \"colorway\": [\"#636efa\", \"#EF553B\", \"#00cc96\", \"#ab63fa\", \"#FFA15A\", \"#19d3f3\", \"#FF6692\", \"#B6E880\", \"#FF97FF\", \"#FECB52\"], \"font\": {\"color\": \"#2a3f5f\"}, \"geo\": {\"bgcolor\": \"white\", \"lakecolor\": \"white\", \"landcolor\": \"#E5ECF6\", \"showlakes\": true, \"showland\": true, \"subunitcolor\": \"white\"}, \"hoverlabel\": {\"align\": \"left\"}, \"hovermode\": \"closest\", \"mapbox\": {\"style\": \"light\"}, \"paper_bgcolor\": \"white\", \"plot_bgcolor\": \"#E5ECF6\", \"polar\": {\"angularaxis\": {\"gridcolor\": \"white\", \"linecolor\": \"white\", \"ticks\": \"\"}, \"bgcolor\": \"#E5ECF6\", \"radialaxis\": {\"gridcolor\": \"white\", \"linecolor\": \"white\", \"ticks\": \"\"}}, \"scene\": {\"xaxis\": {\"backgroundcolor\": \"#E5ECF6\", \"gridcolor\": \"white\", \"gridwidth\": 2, \"linecolor\": \"white\", \"showbackground\": true, \"ticks\": \"\", \"zerolinecolor\": \"white\"}, \"yaxis\": {\"backgroundcolor\": \"#E5ECF6\", \"gridcolor\": \"white\", \"gridwidth\": 2, \"linecolor\": \"white\", \"showbackground\": true, \"ticks\": \"\", \"zerolinecolor\": \"white\"}, \"zaxis\": {\"backgroundcolor\": \"#E5ECF6\", \"gridcolor\": \"white\", \"gridwidth\": 2, \"linecolor\": \"white\", \"showbackground\": true, \"ticks\": \"\", \"zerolinecolor\": \"white\"}}, \"shapedefaults\": {\"line\": {\"color\": \"#2a3f5f\"}}, \"ternary\": {\"aaxis\": {\"gridcolor\": \"white\", \"linecolor\": \"white\", \"ticks\": \"\"}, \"baxis\": {\"gridcolor\": \"white\", \"linecolor\": \"white\", \"ticks\": \"\"}, \"bgcolor\": \"#E5ECF6\", \"caxis\": {\"gridcolor\": \"white\", \"linecolor\": \"white\", \"ticks\": \"\"}}, \"title\": {\"x\": 0.05}, \"xaxis\": {\"automargin\": true, \"gridcolor\": \"white\", \"linecolor\": \"white\", \"ticks\": \"\", \"title\": {\"standoff\": 15}, \"zerolinecolor\": \"white\", \"zerolinewidth\": 2}, \"yaxis\": {\"automargin\": true, \"gridcolor\": \"white\", \"linecolor\": \"white\", \"ticks\": \"\", \"title\": {\"standoff\": 15}, \"zerolinecolor\": \"white\", \"zerolinewidth\": 2}}}},\n",
       "                        {\"responsive\": true}\n",
       "                    ).then(function(){\n",
       "                            \n",
       "var gd = document.getElementById('f5e5824b-3ff9-4e2a-bf85-2f76429d4247');\n",
       "var x = new MutationObserver(function (mutations, observer) {{\n",
       "        var display = window.getComputedStyle(gd).display;\n",
       "        if (!display || display === 'none') {{\n",
       "            console.log([gd, 'removed!']);\n",
       "            Plotly.purge(gd);\n",
       "            observer.disconnect();\n",
       "        }}\n",
       "}});\n",
       "\n",
       "// Listen for the removal of the full notebook cells\n",
       "var notebookContainer = gd.closest('#notebook-container');\n",
       "if (notebookContainer) {{\n",
       "    x.observe(notebookContainer, {childList: true});\n",
       "}}\n",
       "\n",
       "// Listen for the clearing of the current output cell\n",
       "var outputEl = gd.closest('.output');\n",
       "if (outputEl) {{\n",
       "    x.observe(outputEl, {childList: true});\n",
       "}}\n",
       "\n",
       "                        })\n",
       "                };\n",
       "                });\n",
       "            </script>\n",
       "        </div>"
      ]
     },
     "metadata": {},
     "output_type": "display_data"
    }
   ],
   "source": [
    "k = 'bva'\n",
    "tdf = df.sort_index(ascending=False)#[:80]\n",
    "fig = px.parallel_coordinates(tdf, color=k,\n",
    "              dimensions=['genom|combine_chance', 'genom|crossover_chance', 'genom|mutate_chance', 'post|exp_power',\n",
    "                         #'dec_f0','dec_f1','dec_f2','dec_f3',\n",
    "                          'bva'],\n",
    "              color_continuous_scale=px.colors.diverging.Tealrose,\n",
    "              range_color=[0.45,df[k].max()],\n",
    "              color_continuous_midpoint=.5)\n",
    "fig.show()"
   ]
  },
  {
   "cell_type": "code",
   "execution_count": 20,
   "metadata": {
    "ExecuteTime": {
     "end_time": "2020-05-21T09:31:47.997354Z",
     "start_time": "2020-05-21T09:31:47.990377Z"
    },
    "execution": {
     "iopub.execute_input": "2020-05-19T15:49:20.893257Z",
     "iopub.status.busy": "2020-05-19T15:49:20.892982Z",
     "iopub.status.idle": "2020-05-19T15:49:20.896419Z",
     "shell.execute_reply": "2020-05-19T15:49:20.895864Z",
     "shell.execute_reply.started": "2020-05-19T15:49:20.893221Z"
    }
   },
   "outputs": [],
   "source": [
    "plot_df = df[:1]\n",
    "top = df.sort_values(by='bva', ascending=False)[:50]\n",
    "plot_df = pd.concat([plot_df,top])"
   ]
  },
  {
   "cell_type": "code",
   "execution_count": 21,
   "metadata": {
    "ExecuteTime": {
     "end_time": "2020-05-21T09:31:49.606988Z",
     "start_time": "2020-05-21T09:31:48.105478Z"
    },
    "execution": {
     "iopub.execute_input": "2020-05-19T15:49:49.019440Z",
     "iopub.status.busy": "2020-05-19T15:49:49.019144Z",
     "iopub.status.idle": "2020-05-19T15:49:50.922459Z",
     "shell.execute_reply": "2020-05-19T15:49:50.921879Z",
     "shell.execute_reply.started": "2020-05-19T15:49:49.019402Z"
    }
   },
   "outputs": [
    {
     "data": {
      "image/png": "[encoded data removed]",
      "text/plain": [
       "<Figure size 1080x576 with 1 Axes>"
      ]
     },
     "metadata": {
      "needs_background": "light"
     },
     "output_type": "display_data"
    }
   ],
   "source": [
    "rs = bp.exps\n",
    "f, a = plt.subplots(1, figsize=(15,8))\n",
    "#l_lim, r_lim = 0, 1000\n",
    "\n",
    "rsp = [r for r in rs if r.name in plot_df.name.values]\n",
    "\n",
    "[plot_run(r, col='acc', ax=a, window=25) for r in rsp]\n",
    "\n",
    "#a.legend([r.name for r in rsp])\n",
    "a.legend(['logs'])\n",
    "\n",
    "#a.set_xticks(np.arange(l_lim, 700, 10))\n",
    "#a.set_yticks(np.arange(0.1, .9, 0.05))\n",
    "plt.ylim(0.2,.6)\n",
    "plt.grid()"
   ]
  },
  {
   "cell_type": "code",
   "execution_count": null,
   "metadata": {},
   "outputs": [],
   "source": []
  },
  {
   "cell_type": "code",
   "execution_count": null,
   "metadata": {},
   "outputs": [],
   "source": []
  },
  {
   "cell_type": "markdown",
   "metadata": {
    "execution": {
     "iopub.execute_input": "2020-05-21T07:33:52.594508Z",
     "iopub.status.busy": "2020-05-21T07:33:52.594207Z",
     "iopub.status.idle": "2020-05-21T07:33:52.597411Z",
     "shell.execute_reply": "2020-05-21T07:33:52.596808Z",
     "shell.execute_reply.started": "2020-05-21T07:33:52.594466Z"
    }
   },
   "source": [
    "# More tests"
   ]
  },
  {
   "cell_type": "code",
   "execution_count": 7,
   "metadata": {
    "ExecuteTime": {
     "end_time": "2020-05-21T15:47:10.866481Z",
     "start_time": "2020-05-21T15:47:10.142461Z"
    },
    "execution": {
     "iopub.execute_input": "2020-05-21T10:22:35.818639Z",
     "iopub.status.busy": "2020-05-21T10:22:35.818353Z",
     "iopub.status.idle": "2020-05-21T10:22:36.494364Z",
     "shell.execute_reply": "2020-05-21T10:22:36.493497Z",
     "shell.execute_reply.started": "2020-05-21T10:22:35.818604Z"
    }
   },
   "outputs": [],
   "source": [
    "root = Path('./results/bo3/')\n",
    "bp = GenProject(root)\n",
    "df = bp.extend_base()"
   ]
  },
  {
   "cell_type": "code",
   "execution_count": 8,
   "metadata": {
    "ExecuteTime": {
     "end_time": "2020-05-21T15:47:10.883522Z",
     "start_time": "2020-05-21T15:47:10.867855Z"
    },
    "execution": {
     "iopub.execute_input": "2020-05-21T10:22:36.506704Z",
     "iopub.status.busy": "2020-05-21T10:22:36.506358Z",
     "iopub.status.idle": "2020-05-21T10:22:36.529828Z",
     "shell.execute_reply": "2020-05-21T10:22:36.529373Z",
     "shell.execute_reply.started": "2020-05-21T10:22:36.506664Z"
    }
   },
   "outputs": [
    {
     "data": {
      "text/html": [
       "<div>\n",
       "<style scoped>\n",
       "    .dataframe tbody tr th:only-of-type {\n",
       "        vertical-align: middle;\n",
       "    }\n",
       "\n",
       "    .dataframe tbody tr th {\n",
       "        vertical-align: top;\n",
       "    }\n",
       "\n",
       "    .dataframe thead th {\n",
       "        text-align: right;\n",
       "    }\n",
       "</style>\n",
       "<table border=\"1\" class=\"dataframe\">\n",
       "  <thead>\n",
       "    <tr style=\"text-align: right;\">\n",
       "      <th></th>\n",
       "      <th>name</th>\n",
       "      <th>tt</th>\n",
       "      <th>t2b</th>\n",
       "      <th>ba</th>\n",
       "      <th>bva</th>\n",
       "      <th>la</th>\n",
       "      <th>combine_chance</th>\n",
       "      <th>crossover_chance</th>\n",
       "      <th>dec_f0</th>\n",
       "      <th>dec_f1</th>\n",
       "      <th>dec_f2</th>\n",
       "      <th>dec_f3</th>\n",
       "      <th>exp_power</th>\n",
       "      <th>generation_size</th>\n",
       "      <th>generations</th>\n",
       "      <th>mutate_chance</th>\n",
       "      <th>seed</th>\n",
       "      <th>subsample_size</th>\n",
       "    </tr>\n",
       "    <tr>\n",
       "      <th>start</th>\n",
       "      <th></th>\n",
       "      <th></th>\n",
       "      <th></th>\n",
       "      <th></th>\n",
       "      <th></th>\n",
       "      <th></th>\n",
       "      <th></th>\n",
       "      <th></th>\n",
       "      <th></th>\n",
       "      <th></th>\n",
       "      <th></th>\n",
       "      <th></th>\n",
       "      <th></th>\n",
       "      <th></th>\n",
       "      <th></th>\n",
       "      <th></th>\n",
       "      <th></th>\n",
       "      <th></th>\n",
       "    </tr>\n",
       "  </thead>\n",
       "  <tbody>\n",
       "    <tr>\n",
       "      <th>2020-05-20 21:55:34.700110</th>\n",
       "      <td>run_2020_May_20_21_55_34_700110</td>\n",
       "      <td>00:05:15</td>\n",
       "      <td>00:05:15</td>\n",
       "      <td>0.597</td>\n",
       "      <td>0.578</td>\n",
       "      <td>0.592</td>\n",
       "      <td>0.5537</td>\n",
       "      <td>0.990</td>\n",
       "      <td>12</td>\n",
       "      <td>10</td>\n",
       "      <td>8</td>\n",
       "      <td>6</td>\n",
       "      <td>3</td>\n",
       "      <td>200</td>\n",
       "      <td>150</td>\n",
       "      <td>0.0029</td>\n",
       "      <td>0</td>\n",
       "      <td>50</td>\n",
       "    </tr>\n",
       "    <tr>\n",
       "      <th>2020-05-20 22:24:27.214092</th>\n",
       "      <td>run_2020_May_20_22_24_27_214092</td>\n",
       "      <td>00:05:16</td>\n",
       "      <td>00:04:36</td>\n",
       "      <td>0.552</td>\n",
       "      <td>0.570</td>\n",
       "      <td>0.572</td>\n",
       "      <td>0.4029</td>\n",
       "      <td>0.990</td>\n",
       "      <td>12</td>\n",
       "      <td>10</td>\n",
       "      <td>8</td>\n",
       "      <td>6</td>\n",
       "      <td>4</td>\n",
       "      <td>200</td>\n",
       "      <td>150</td>\n",
       "      <td>0.0030</td>\n",
       "      <td>0</td>\n",
       "      <td>50</td>\n",
       "    </tr>\n",
       "    <tr>\n",
       "      <th>2020-05-20 22:24:45.857274</th>\n",
       "      <td>run_2020_May_20_22_24_45_857274</td>\n",
       "      <td>00:05:17</td>\n",
       "      <td>00:05:17</td>\n",
       "      <td>0.575</td>\n",
       "      <td>0.569</td>\n",
       "      <td>0.549</td>\n",
       "      <td>0.6316</td>\n",
       "      <td>0.990</td>\n",
       "      <td>12</td>\n",
       "      <td>10</td>\n",
       "      <td>8</td>\n",
       "      <td>6</td>\n",
       "      <td>4</td>\n",
       "      <td>200</td>\n",
       "      <td>150</td>\n",
       "      <td>0.0027</td>\n",
       "      <td>0</td>\n",
       "      <td>50</td>\n",
       "    </tr>\n",
       "    <tr>\n",
       "      <th>2020-05-20 22:12:56.170186</th>\n",
       "      <td>run_2020_May_20_22_12_56_170186</td>\n",
       "      <td>00:05:14</td>\n",
       "      <td>00:05:14</td>\n",
       "      <td>0.591</td>\n",
       "      <td>0.554</td>\n",
       "      <td>0.575</td>\n",
       "      <td>0.3108</td>\n",
       "      <td>0.729</td>\n",
       "      <td>12</td>\n",
       "      <td>10</td>\n",
       "      <td>8</td>\n",
       "      <td>6</td>\n",
       "      <td>15</td>\n",
       "      <td>200</td>\n",
       "      <td>150</td>\n",
       "      <td>0.0055</td>\n",
       "      <td>0</td>\n",
       "      <td>50</td>\n",
       "    </tr>\n",
       "    <tr>\n",
       "      <th>2020-05-20 22:30:45.146955</th>\n",
       "      <td>run_2020_May_20_22_30_45_146955</td>\n",
       "      <td>00:05:19</td>\n",
       "      <td>00:05:19</td>\n",
       "      <td>0.571</td>\n",
       "      <td>0.553</td>\n",
       "      <td>0.547</td>\n",
       "      <td>0.1315</td>\n",
       "      <td>0.990</td>\n",
       "      <td>12</td>\n",
       "      <td>10</td>\n",
       "      <td>8</td>\n",
       "      <td>6</td>\n",
       "      <td>15</td>\n",
       "      <td>200</td>\n",
       "      <td>150</td>\n",
       "      <td>0.0097</td>\n",
       "      <td>0</td>\n",
       "      <td>50</td>\n",
       "    </tr>\n",
       "  </tbody>\n",
       "</table>\n",
       "</div>"
      ],
      "text/plain": [
       "                                                       name       tt      t2b  \\\n",
       "start                                                                           \n",
       "2020-05-20 21:55:34.700110  run_2020_May_20_21_55_34_700110 00:05:15 00:05:15   \n",
       "2020-05-20 22:24:27.214092  run_2020_May_20_22_24_27_214092 00:05:16 00:04:36   \n",
       "2020-05-20 22:24:45.857274  run_2020_May_20_22_24_45_857274 00:05:17 00:05:17   \n",
       "2020-05-20 22:12:56.170186  run_2020_May_20_22_12_56_170186 00:05:14 00:05:14   \n",
       "2020-05-20 22:30:45.146955  run_2020_May_20_22_30_45_146955 00:05:19 00:05:19   \n",
       "\n",
       "                               ba    bva     la  combine_chance  \\\n",
       "start                                                             \n",
       "2020-05-20 21:55:34.700110  0.597  0.578  0.592          0.5537   \n",
       "2020-05-20 22:24:27.214092  0.552  0.570  0.572          0.4029   \n",
       "2020-05-20 22:24:45.857274  0.575  0.569  0.549          0.6316   \n",
       "2020-05-20 22:12:56.170186  0.591  0.554  0.575          0.3108   \n",
       "2020-05-20 22:30:45.146955  0.571  0.553  0.547          0.1315   \n",
       "\n",
       "                            crossover_chance  dec_f0  dec_f1  dec_f2  dec_f3  \\\n",
       "start                                                                          \n",
       "2020-05-20 21:55:34.700110             0.990      12      10       8       6   \n",
       "2020-05-20 22:24:27.214092             0.990      12      10       8       6   \n",
       "2020-05-20 22:24:45.857274             0.990      12      10       8       6   \n",
       "2020-05-20 22:12:56.170186             0.729      12      10       8       6   \n",
       "2020-05-20 22:30:45.146955             0.990      12      10       8       6   \n",
       "\n",
       "                            exp_power  generation_size  generations  \\\n",
       "start                                                                 \n",
       "2020-05-20 21:55:34.700110          3              200          150   \n",
       "2020-05-20 22:24:27.214092          4              200          150   \n",
       "2020-05-20 22:24:45.857274          4              200          150   \n",
       "2020-05-20 22:12:56.170186         15              200          150   \n",
       "2020-05-20 22:30:45.146955         15              200          150   \n",
       "\n",
       "                            mutate_chance  seed  subsample_size  \n",
       "start                                                            \n",
       "2020-05-20 21:55:34.700110         0.0029     0              50  \n",
       "2020-05-20 22:24:27.214092         0.0030     0              50  \n",
       "2020-05-20 22:24:45.857274         0.0027     0              50  \n",
       "2020-05-20 22:12:56.170186         0.0055     0              50  \n",
       "2020-05-20 22:30:45.146955         0.0097     0              50  "
      ]
     },
     "execution_count": 8,
     "metadata": {},
     "output_type": "execute_result"
    }
   ],
   "source": [
    "df.sort_values('bva', ascending=False).head(5)"
   ]
  },
  {
   "cell_type": "code",
   "execution_count": 9,
   "metadata": {
    "ExecuteTime": {
     "end_time": "2020-05-21T10:12:30.155241Z",
     "start_time": "2020-05-21T10:12:30.151988Z"
    },
    "execution": {
     "iopub.execute_input": "2020-05-21T10:22:38.792890Z",
     "iopub.status.busy": "2020-05-21T10:22:38.792611Z",
     "iopub.status.idle": "2020-05-21T10:22:38.796772Z",
     "shell.execute_reply": "2020-05-21T10:22:38.796263Z",
     "shell.execute_reply.started": "2020-05-21T10:22:38.792856Z"
    }
   },
   "outputs": [
    {
     "data": {
      "text/plain": [
       "(52, 18)"
      ]
     },
     "execution_count": 9,
     "metadata": {},
     "output_type": "execute_result"
    }
   ],
   "source": [
    "df.shape"
   ]
  },
  {
   "cell_type": "code",
   "execution_count": 92,
   "metadata": {
    "ExecuteTime": {
     "end_time": "2020-05-21T10:12:33.272856Z",
     "start_time": "2020-05-21T10:12:33.268154Z"
    },
    "execution": {
     "iopub.execute_input": "2020-05-21T10:59:16.035217Z",
     "iopub.status.busy": "2020-05-21T10:59:16.034895Z",
     "iopub.status.idle": "2020-05-21T10:59:16.040634Z",
     "shell.execute_reply": "2020-05-21T10:59:16.040022Z",
     "shell.execute_reply.started": "2020-05-21T10:59:16.035168Z"
    }
   },
   "outputs": [],
   "source": [
    "class HyperSet:\n",
    "    def  __init__(self, cfg, param_list, target):\n",
    "        self.cfg = cfg\n",
    "        self.params = param_list\n",
    "        self.target = target\n",
    "        \n",
    "    def read_cfg(self, map_names):\n",
    "        if map_names is None: map_names = {p:p for p in self.params}\n",
    "            \n",
    "        points = {}\n",
    "        for p in self.params:\n",
    "            p_mapped = map_names[p]\n",
    "            points[p_mapped] = self.cfg[p]\n",
    "        return points\n",
    "    \n",
    "    def create_record(self, map_names=None):\n",
    "        return {\n",
    "            'points':self.read_cfg(map_names),\n",
    "            'target':self.target\n",
    "        }"
   ]
  },
  {
   "cell_type": "code",
   "execution_count": 11,
   "metadata": {
    "ExecuteTime": {
     "end_time": "2020-05-21T10:15:49.899522Z",
     "start_time": "2020-05-21T10:15:49.895865Z"
    },
    "execution": {
     "iopub.execute_input": "2020-05-21T10:22:39.665552Z",
     "iopub.status.busy": "2020-05-21T10:22:39.665340Z",
     "iopub.status.idle": "2020-05-21T10:22:39.669405Z",
     "shell.execute_reply": "2020-05-21T10:22:39.668945Z",
     "shell.execute_reply.started": "2020-05-21T10:22:39.665520Z"
    }
   },
   "outputs": [
    {
     "data": {
      "text/plain": [
       "OrderedDict([('combine_chance', 0.8596846670092858),\n",
       "             ('crossover_chance', 0.99),\n",
       "             ('dec_f0', 12),\n",
       "             ('dec_f1', 10),\n",
       "             ('dec_f2', 8),\n",
       "             ('dec_f3', 6),\n",
       "             ('exp_power', 7),\n",
       "             ('generation_size', 200),\n",
       "             ('generations', 150),\n",
       "             ('mutate_chance', 0.00039690221562281493),\n",
       "             ('seed', 0),\n",
       "             ('subsample_size', 50)])"
      ]
     },
     "execution_count": 11,
     "metadata": {},
     "output_type": "execute_result"
    }
   ],
   "source": [
    "base_e = bp.exps[0]\n",
    "base_e.cfg_data"
   ]
  },
  {
   "cell_type": "code",
   "execution_count": 28,
   "metadata": {
    "execution": {
     "iopub.execute_input": "2020-05-21T10:32:06.751430Z",
     "iopub.status.busy": "2020-05-21T10:32:06.751175Z",
     "iopub.status.idle": "2020-05-21T10:32:06.754415Z",
     "shell.execute_reply": "2020-05-21T10:32:06.753839Z",
     "shell.execute_reply.started": "2020-05-21T10:32:06.751396Z"
    }
   },
   "outputs": [],
   "source": [
    "from exp.nb_base_exp import flatten"
   ]
  },
  {
   "cell_type": "code",
   "execution_count": 208,
   "metadata": {
    "execution": {
     "iopub.execute_input": "2020-05-21T12:23:15.583521Z",
     "iopub.status.busy": "2020-05-21T12:23:15.583264Z",
     "iopub.status.idle": "2020-05-21T12:23:15.587993Z",
     "shell.execute_reply": "2020-05-21T12:23:15.587624Z",
     "shell.execute_reply.started": "2020-05-21T12:23:15.583487Z"
    }
   },
   "outputs": [
    {
     "data": {
      "text/plain": [
       "{'TRAIN': {'DS': ['data1'], 'LR': 1e-05}, 'MODEL': {'ARCH': {'n1': 8}}}"
      ]
     },
     "execution_count": 208,
     "metadata": {},
     "output_type": "execute_result"
    }
   ],
   "source": [
    "pairs = [('TRAIN|DS', ['data1']), ('TRAIN|LR',1e-5), ('MODEL|ARCH|n1', 8)]\n",
    "sep = '|'\n",
    "\n",
    "d = {}\n",
    "for p in pairs:\n",
    "    di = create_nested(defaultdict(dict), *p)\n",
    "    dict_merge(d, di)\n",
    "d"
   ]
  },
  {
   "cell_type": "code",
   "execution_count": null,
   "metadata": {},
   "outputs": [],
   "source": []
  },
  {
   "cell_type": "code",
   "execution_count": 72,
   "metadata": {
    "ExecuteTime": {
     "end_time": "2020-05-21T10:20:58.988967Z",
     "start_time": "2020-05-21T10:20:58.982659Z"
    },
    "execution": {
     "iopub.execute_input": "2020-05-21T10:36:34.172962Z",
     "iopub.status.busy": "2020-05-21T10:36:34.172751Z",
     "iopub.status.idle": "2020-05-21T10:36:34.179169Z",
     "shell.execute_reply": "2020-05-21T10:36:34.178739Z",
     "shell.execute_reply.started": "2020-05-21T10:36:34.172933Z"
    }
   },
   "outputs": [],
   "source": [
    "with open('./train.yaml', 'r') as f:\n",
    "    d = yaml.safe_load(f)"
   ]
  },
  {
   "cell_type": "code",
   "execution_count": 73,
   "metadata": {
    "execution": {
     "iopub.execute_input": "2020-05-21T10:36:34.326797Z",
     "iopub.status.busy": "2020-05-21T10:36:34.326618Z",
     "iopub.status.idle": "2020-05-21T10:36:34.329299Z",
     "shell.execute_reply": "2020-05-21T10:36:34.328847Z",
     "shell.execute_reply.started": "2020-05-21T10:36:34.326769Z"
    }
   },
   "outputs": [],
   "source": [
    "flat_d = flatten(d, sep='|')"
   ]
  },
  {
   "cell_type": "code",
   "execution_count": 85,
   "metadata": {
    "execution": {
     "iopub.execute_input": "2020-05-21T10:38:43.862605Z",
     "iopub.status.busy": "2020-05-21T10:38:43.862357Z",
     "iopub.status.idle": "2020-05-21T10:38:43.866354Z",
     "shell.execute_reply": "2020-05-21T10:38:43.865894Z",
     "shell.execute_reply.started": "2020-05-21T10:38:43.862572Z"
    }
   },
   "outputs": [
    {
     "data": {
      "text/plain": [
       "('TRAIN|BASE_LR', 0.0001)"
      ]
     },
     "execution_count": 85,
     "metadata": {},
     "output_type": "execute_result"
    }
   ],
   "source": [
    "k, v = list(flat_d.items())[17]\n",
    "k, v"
   ]
  },
  {
   "cell_type": "code",
   "execution_count": 91,
   "metadata": {
    "execution": {
     "iopub.execute_input": "2020-05-21T10:40:33.127287Z",
     "iopub.status.busy": "2020-05-21T10:40:33.127030Z",
     "iopub.status.idle": "2020-05-21T10:40:33.133793Z",
     "shell.execute_reply": "2020-05-21T10:40:33.133094Z",
     "shell.execute_reply.started": "2020-05-21T10:40:33.127252Z"
    }
   },
   "outputs": [],
   "source": [
    "with open('./train_mod.yaml', 'w') as f:\n",
    "    yaml.safe_dump(d, f)"
   ]
  },
  {
   "cell_type": "code",
   "execution_count": null,
   "metadata": {},
   "outputs": [],
   "source": []
  },
  {
   "cell_type": "code",
   "execution_count": null,
   "metadata": {},
   "outputs": [],
   "source": []
  },
  {
   "cell_type": "code",
   "execution_count": 30,
   "metadata": {
    "ExecuteTime": {
     "end_time": "2020-05-21T10:13:27.823601Z",
     "start_time": "2020-05-21T10:13:27.817602Z"
    },
    "execution": {
     "iopub.execute_input": "2020-05-21T08:10:58.906124Z",
     "iopub.status.busy": "2020-05-21T08:10:58.905825Z",
     "iopub.status.idle": "2020-05-21T08:10:58.911376Z",
     "shell.execute_reply": "2020-05-21T08:10:58.910986Z",
     "shell.execute_reply.started": "2020-05-21T08:10:58.906083Z"
    }
   },
   "outputs": [],
   "source": [
    "bo_params = ['combine_chance', 'crossover_chance', 'mutate_chance']\n",
    "lat_names = ['cc', 'cr','mc']\n",
    "map_names = dict(zip(bo_params,lat_names))\n",
    "\n",
    "bo_target = 'val_acc'\n",
    "\n",
    "hps = []\n",
    "for e in bp.exps:\n",
    "    target = e.log_data[bo_target].max()\n",
    "    cfg = e.cfg_data\n",
    "    hp = HyperSet(cfg, bo_params, target)\n",
    "    rec = hp.create_record(map_names)\n",
    "    hps.append(rec)\n"
   ]
  },
  {
   "cell_type": "code",
   "execution_count": 31,
   "metadata": {
    "ExecuteTime": {
     "end_time": "2020-05-21T10:13:28.517163Z",
     "start_time": "2020-05-21T10:13:28.509900Z"
    },
    "execution": {
     "iopub.execute_input": "2020-05-21T08:08:28.485910Z",
     "iopub.status.busy": "2020-05-21T08:08:28.485652Z",
     "iopub.status.idle": "2020-05-21T08:08:28.489961Z",
     "shell.execute_reply": "2020-05-21T08:08:28.489404Z",
     "shell.execute_reply.started": "2020-05-21T08:08:28.485873Z"
    }
   },
   "outputs": [
    {
     "data": {
      "text/plain": [
       "[{'points': {'cc': 0.8596846670092858,\n",
       "   'cr': 0.99,\n",
       "   'mc': 0.00039690221562281493},\n",
       "  'target': 0.5218545198440552},\n",
       " {'points': {'cc': 0.779673498777105, 'cr': 0.99, 'mc': 0.0008768820860711135},\n",
       "  'target': 0.5483208894729614},\n",
       " {'points': {'cc': 0.894775653998578, 'cr': 0.99, 'mc': 0.005888451865490507},\n",
       "  'target': 0.5455100536346436},\n",
       " {'points': {'cc': 0.5536945866460486, 'cr': 0.99, 'mc': 0.002871006891225743},\n",
       "  'target': 0.5779703259468079},\n",
       " {'points': {'cc': 0.6985920925954717,\n",
       "   'cr': 0.07041869717793878,\n",
       "   'mc': 0.0072821697698758694},\n",
       "  'target': 0.48712921142578125},\n",
       " {'points': {'cc': 0.17721367618202588,\n",
       "   'cr': 0.873222452225672,\n",
       "   'mc': 0.03553158253794306},\n",
       "  'target': 0.11625593900680542},\n",
       " {'points': {'cc': 0.11517998947166638, 'cr': 0.99, 'mc': 0.0314730450392788},\n",
       "  'target': 0.4411870241165161},\n",
       " {'points': {'cc': 0.933835609657577, 'cr': 0.01, 'mc': 0.01406457549130841},\n",
       "  'target': 0.4906202554702759},\n",
       " {'points': {'cc': 0.09175272511470739,\n",
       "   'cr': 0.7237639608337961,\n",
       "   'mc': 0.035026049197841275},\n",
       "  'target': 0.4233196973800659},\n",
       " {'points': {'cc': 0.613781344691877,\n",
       "   'cr': 0.5117093678259566,\n",
       "   'mc': 0.03221561655120855},\n",
       "  'target': 0.4790225923061371},\n",
       " {'points': {'cc': 0.16864024008053907,\n",
       "   'cr': 0.99,\n",
       "   'mc': 0.009702235024454473},\n",
       "  'target': 0.5517268180847168},\n",
       " {'points': {'cc': 0.4532948129024645,\n",
       "   'cr': 0.6950478033053404,\n",
       "   'mc': 0.004950475785433318},\n",
       "  'target': 0.5519365668296814},\n",
       " {'points': {'cc': 0.5063332028908972,\n",
       "   'cr': 0.4730617814352755,\n",
       "   'mc': 0.0022463006422005325},\n",
       "  'target': 0.5336900353431702},\n",
       " {'points': {'cc': 0.7439967412858035, 'cr': 0.01, 'mc': 0.007803992239684027},\n",
       "  'target': 0.4965234398841858},\n",
       " {'points': {'cc': 0.03381317021559007,\n",
       "   'cr': 0.928234642039033,\n",
       "   'mc': 0.006723070782897374},\n",
       "  'target': 0.5245532989501953},\n",
       " {'points': {'cc': 0.9150973378505851, 'cr': 0.99, 'mc': 0.010181275812480253},\n",
       "  'target': 0.5296282172203064},\n",
       " {'points': {'cc': 0.3304074051852749,\n",
       "   'cr': 0.09902507048432979,\n",
       "   'mc': 0.02100104927917801},\n",
       "  'target': 0.3239135444164276},\n",
       " {'points': {'cc': 0.0630802334407797,\n",
       "   'cr': 0.9540351963808907,\n",
       "   'mc': 0.002718854081733686},\n",
       "  'target': 0.52504563331604},\n",
       " {'points': {'cc': 0.4028756989176275, 'cr': 0.99, 'mc': 0.002970083028569087},\n",
       "  'target': 0.5698565244674683},\n",
       " {'points': {'cc': 0.99, 'cr': 0.99, 'mc': 0.0},\n",
       "  'target': 0.11077635735273361},\n",
       " {'points': {'cc': 0.09668880979095722,\n",
       "   'cr': 0.99,\n",
       "   'mc': 0.004304554776614438},\n",
       "  'target': 0.54634690284729},\n",
       " {'points': {'cc': 0.99, 'cr': 0.99, 'mc': 0.003259123805433507},\n",
       "  'target': 0.42857471108436584},\n",
       " {'points': {'cc': 0.03381317021559007,\n",
       "   'cr': 0.928234642039033,\n",
       "   'mc': 0.006723070782897374},\n",
       "  'target': 0.5406321883201599},\n",
       " {'points': {'cc': 0.99, 'cr': 0.99, 'mc': 0.001735674569998867},\n",
       "  'target': 0.5070156455039978},\n",
       " {'points': {'cc': 0.01,\n",
       "   'cr': 0.9493363368392066,\n",
       "   'mc': 0.0027654436330591115},\n",
       "  'target': 0.5076068639755249},\n",
       " {'points': {'cc': 0.99, 'cr': 0.01, 'mc': 0.0},\n",
       "  'target': 0.07013608515262604},\n",
       " {'points': {'cc': 0.022177248851775085,\n",
       "   'cr': 0.9714482908980693,\n",
       "   'mc': 0.01610348802090027},\n",
       "  'target': 0.4860477149486542},\n",
       " {'points': {'cc': 0.6316000843346207,\n",
       "   'cr': 0.99,\n",
       "   'mc': 0.0027187825301705115},\n",
       "  'target': 0.5689170956611633},\n",
       " {'points': {'cc': 0.479377446047344,\n",
       "   'cr': 0.6725657477992486,\n",
       "   'mc': 0.04824786804371506},\n",
       "  'target': 0.3802783191204071},\n",
       " {'points': {'cc': 0.5835081829098894,\n",
       "   'cr': 0.07901480007622924,\n",
       "   'mc': 0.005879790362081222},\n",
       "  'target': 0.5237509608268738},\n",
       " {'points': {'cc': 0.49331196425848295,\n",
       "   'cr': 0.8811468968722667,\n",
       "   'mc': 0.012784740891368926},\n",
       "  'target': 0.49846240878105164},\n",
       " {'points': {'cc': 0.03381317021559007,\n",
       "   'cr': 0.928234642039033,\n",
       "   'mc': 0.006723070782897374},\n",
       "  'target': 0.5196439027786255},\n",
       " {'points': {'cc': 0.041106670557864246, 'cr': 0.99, 'mc': 0.0378847441507185},\n",
       "  'target': 0.413496196269989},\n",
       " {'points': {'cc': 0.4812230699884159, 'cr': 0.01, 'mc': 0.004610318575999885},\n",
       "  'target': 0.4736941456794739},\n",
       " {'points': {'cc': 0.6985920925954717,\n",
       "   'cr': 0.07041869717793878,\n",
       "   'mc': 0.0072821697698758694},\n",
       "  'target': 0.5120301246643066},\n",
       " {'points': {'cc': 0.6985920925954717,\n",
       "   'cr': 0.07041869717793878,\n",
       "   'mc': 0.0072821697698758694},\n",
       "  'target': 0.5194429159164429},\n",
       " {'points': {'cc': 0.31077051797834726,\n",
       "   'cr': 0.7290238239824179,\n",
       "   'mc': 0.005487556594052076},\n",
       "  'target': 0.5544273257255554},\n",
       " {'points': {'cc': 0.49331196425848295,\n",
       "   'cr': 0.8811468968722667,\n",
       "   'mc': 0.012784740891368926},\n",
       "  'target': 0.5208737254142761},\n",
       " {'points': {'cc': 0.9632812326480045,\n",
       "   'cr': 0.01,\n",
       "   'mc': 0.0027158372241903725},\n",
       "  'target': 0.3803754448890686},\n",
       " {'points': {'cc': 0.479377446047344,\n",
       "   'cr': 0.6725657477992486,\n",
       "   'mc': 0.04824786804371506},\n",
       "  'target': 0.40329107642173767},\n",
       " {'points': {'cc': 0.4550877205742057, 'cr': 0.01, 'mc': 0.03689149424456554},\n",
       "  'target': 0.42798370122909546},\n",
       " {'points': {'cc': 0.01, 'cr': 0.99, 'mc': 0.0}, 'target': 0.086859330534935},\n",
       " {'points': {'cc': 0.479377446047344,\n",
       "   'cr': 0.6725657477992486,\n",
       "   'mc': 0.04824786804371506},\n",
       "  'target': 0.35651156306266785},\n",
       " {'points': {'cc': 0.99, 'cr': 0.01, 'mc': 0.01479047295284128},\n",
       "  'target': 0.47927936911582947},\n",
       " {'points': {'cc': 0.13154350543315257,\n",
       "   'cr': 0.99,\n",
       "   'mc': 0.009665272567993287},\n",
       "  'target': 0.5532583594322205},\n",
       " {'points': {'cc': 0.49331196425848295,\n",
       "   'cr': 0.8811468968722667,\n",
       "   'mc': 0.012784740891368926},\n",
       "  'target': 0.518785834312439},\n",
       " {'points': {'cc': 0.592643368454343, 'cr': 0.01, 'mc': 0.0},\n",
       "  'target': 0.06415653973817825},\n",
       " {'points': {'cc': 0.6448835838410322,\n",
       "   'cr': 0.23199303568385513,\n",
       "   'mc': 0.03504775403749621},\n",
       "  'target': 0.4428582787513733},\n",
       " {'points': {'cc': 0.01, 'cr': 0.99, 'mc': 0.05},\n",
       "  'target': 0.3881167471408844},\n",
       " {'points': {'cc': 0.6985920925954717,\n",
       "   'cr': 0.07041869717793878,\n",
       "   'mc': 0.0072821697698758694},\n",
       "  'target': 0.5237851142883301},\n",
       " {'points': {'cc': 0.08773054846155821, 'cr': 0.99, 'mc': 0.01091998864879188},\n",
       "  'target': 0.5285587906837463},\n",
       " {'points': {'cc': 0.3369213820559667, 'cr': 0.99, 'mc': 0.008237066430177383},\n",
       "  'target': 0.49713414907455444}]"
      ]
     },
     "execution_count": 31,
     "metadata": {},
     "output_type": "execute_result"
    }
   ],
   "source": [
    "hps"
   ]
  },
  {
   "cell_type": "code",
   "execution_count": null,
   "metadata": {},
   "outputs": [],
   "source": []
  },
  {
   "cell_type": "code",
   "execution_count": null,
   "metadata": {},
   "outputs": [],
   "source": []
  },
  {
   "cell_type": "code",
   "execution_count": null,
   "metadata": {},
   "outputs": [],
   "source": []
  },
  {
   "cell_type": "code",
   "execution_count": 33,
   "metadata": {
    "execution": {
     "iopub.execute_input": "2020-05-21T07:57:11.248112Z",
     "iopub.status.busy": "2020-05-21T07:57:11.247869Z",
     "iopub.status.idle": "2020-05-21T07:57:11.253344Z",
     "shell.execute_reply": "2020-05-21T07:57:11.252941Z",
     "shell.execute_reply.started": "2020-05-21T07:57:11.248077Z"
    }
   },
   "outputs": [],
   "source": [
    "hp_warm = []\n",
    "for e in bp.exps:\n",
    "    target = e.log_data[bo_target].max()\n",
    "    points = {}\n",
    "    for p in bo_params:\n",
    "        points[p] = e.cfg_data[p]\n",
    "    hp_warm.append({'target': target,\n",
    "                    'points': points})"
   ]
  },
  {
   "cell_type": "code",
   "execution_count": 34,
   "metadata": {
    "execution": {
     "iopub.execute_input": "2020-05-21T07:57:15.501225Z",
     "iopub.status.busy": "2020-05-21T07:57:15.500984Z",
     "iopub.status.idle": "2020-05-21T07:57:15.508023Z",
     "shell.execute_reply": "2020-05-21T07:57:15.507623Z",
     "shell.execute_reply.started": "2020-05-21T07:57:15.501191Z"
    }
   },
   "outputs": [
    {
     "data": {
      "text/plain": [
       "[{'target': 0.5218545198440552,\n",
       "  'points': {'combine_chance': 0.8596846670092858,\n",
       "   'crossover_chance': 0.99,\n",
       "   'mutate_chance': 0.00039690221562281493}},\n",
       " {'target': 0.5483208894729614,\n",
       "  'points': {'combine_chance': 0.779673498777105,\n",
       "   'crossover_chance': 0.99,\n",
       "   'mutate_chance': 0.0008768820860711135}},\n",
       " {'target': 0.5455100536346436,\n",
       "  'points': {'combine_chance': 0.894775653998578,\n",
       "   'crossover_chance': 0.99,\n",
       "   'mutate_chance': 0.005888451865490507}},\n",
       " {'target': 0.5779703259468079,\n",
       "  'points': {'combine_chance': 0.5536945866460486,\n",
       "   'crossover_chance': 0.99,\n",
       "   'mutate_chance': 0.002871006891225743}},\n",
       " {'target': 0.48712921142578125,\n",
       "  'points': {'combine_chance': 0.6985920925954717,\n",
       "   'crossover_chance': 0.07041869717793878,\n",
       "   'mutate_chance': 0.0072821697698758694}},\n",
       " {'target': 0.11625593900680542,\n",
       "  'points': {'combine_chance': 0.17721367618202588,\n",
       "   'crossover_chance': 0.873222452225672,\n",
       "   'mutate_chance': 0.03553158253794306}},\n",
       " {'target': 0.4411870241165161,\n",
       "  'points': {'combine_chance': 0.11517998947166638,\n",
       "   'crossover_chance': 0.99,\n",
       "   'mutate_chance': 0.0314730450392788}},\n",
       " {'target': 0.4906202554702759,\n",
       "  'points': {'combine_chance': 0.933835609657577,\n",
       "   'crossover_chance': 0.01,\n",
       "   'mutate_chance': 0.01406457549130841}},\n",
       " {'target': 0.4233196973800659,\n",
       "  'points': {'combine_chance': 0.09175272511470739,\n",
       "   'crossover_chance': 0.7237639608337961,\n",
       "   'mutate_chance': 0.035026049197841275}},\n",
       " {'target': 0.4790225923061371,\n",
       "  'points': {'combine_chance': 0.613781344691877,\n",
       "   'crossover_chance': 0.5117093678259566,\n",
       "   'mutate_chance': 0.03221561655120855}},\n",
       " {'target': 0.5517268180847168,\n",
       "  'points': {'combine_chance': 0.16864024008053907,\n",
       "   'crossover_chance': 0.99,\n",
       "   'mutate_chance': 0.009702235024454473}},\n",
       " {'target': 0.5519365668296814,\n",
       "  'points': {'combine_chance': 0.4532948129024645,\n",
       "   'crossover_chance': 0.6950478033053404,\n",
       "   'mutate_chance': 0.004950475785433318}},\n",
       " {'target': 0.5336900353431702,\n",
       "  'points': {'combine_chance': 0.5063332028908972,\n",
       "   'crossover_chance': 0.4730617814352755,\n",
       "   'mutate_chance': 0.0022463006422005325}},\n",
       " {'target': 0.4965234398841858,\n",
       "  'points': {'combine_chance': 0.7439967412858035,\n",
       "   'crossover_chance': 0.01,\n",
       "   'mutate_chance': 0.007803992239684027}},\n",
       " {'target': 0.5245532989501953,\n",
       "  'points': {'combine_chance': 0.03381317021559007,\n",
       "   'crossover_chance': 0.928234642039033,\n",
       "   'mutate_chance': 0.006723070782897374}},\n",
       " {'target': 0.5296282172203064,\n",
       "  'points': {'combine_chance': 0.9150973378505851,\n",
       "   'crossover_chance': 0.99,\n",
       "   'mutate_chance': 0.010181275812480253}},\n",
       " {'target': 0.3239135444164276,\n",
       "  'points': {'combine_chance': 0.3304074051852749,\n",
       "   'crossover_chance': 0.09902507048432979,\n",
       "   'mutate_chance': 0.02100104927917801}},\n",
       " {'target': 0.52504563331604,\n",
       "  'points': {'combine_chance': 0.0630802334407797,\n",
       "   'crossover_chance': 0.9540351963808907,\n",
       "   'mutate_chance': 0.002718854081733686}},\n",
       " {'target': 0.5698565244674683,\n",
       "  'points': {'combine_chance': 0.4028756989176275,\n",
       "   'crossover_chance': 0.99,\n",
       "   'mutate_chance': 0.002970083028569087}},\n",
       " {'target': 0.11077635735273361,\n",
       "  'points': {'combine_chance': 0.99,\n",
       "   'crossover_chance': 0.99,\n",
       "   'mutate_chance': 0.0}},\n",
       " {'target': 0.54634690284729,\n",
       "  'points': {'combine_chance': 0.09668880979095722,\n",
       "   'crossover_chance': 0.99,\n",
       "   'mutate_chance': 0.004304554776614438}},\n",
       " {'target': 0.42857471108436584,\n",
       "  'points': {'combine_chance': 0.99,\n",
       "   'crossover_chance': 0.99,\n",
       "   'mutate_chance': 0.003259123805433507}},\n",
       " {'target': 0.5406321883201599,\n",
       "  'points': {'combine_chance': 0.03381317021559007,\n",
       "   'crossover_chance': 0.928234642039033,\n",
       "   'mutate_chance': 0.006723070782897374}},\n",
       " {'target': 0.5070156455039978,\n",
       "  'points': {'combine_chance': 0.99,\n",
       "   'crossover_chance': 0.99,\n",
       "   'mutate_chance': 0.001735674569998867}},\n",
       " {'target': 0.5076068639755249,\n",
       "  'points': {'combine_chance': 0.01,\n",
       "   'crossover_chance': 0.9493363368392066,\n",
       "   'mutate_chance': 0.0027654436330591115}},\n",
       " {'target': 0.07013608515262604,\n",
       "  'points': {'combine_chance': 0.99,\n",
       "   'crossover_chance': 0.01,\n",
       "   'mutate_chance': 0.0}},\n",
       " {'target': 0.4860477149486542,\n",
       "  'points': {'combine_chance': 0.022177248851775085,\n",
       "   'crossover_chance': 0.9714482908980693,\n",
       "   'mutate_chance': 0.01610348802090027}},\n",
       " {'target': 0.5689170956611633,\n",
       "  'points': {'combine_chance': 0.6316000843346207,\n",
       "   'crossover_chance': 0.99,\n",
       "   'mutate_chance': 0.0027187825301705115}},\n",
       " {'target': 0.3802783191204071,\n",
       "  'points': {'combine_chance': 0.479377446047344,\n",
       "   'crossover_chance': 0.6725657477992486,\n",
       "   'mutate_chance': 0.04824786804371506}},\n",
       " {'target': 0.5237509608268738,\n",
       "  'points': {'combine_chance': 0.5835081829098894,\n",
       "   'crossover_chance': 0.07901480007622924,\n",
       "   'mutate_chance': 0.005879790362081222}},\n",
       " {'target': 0.49846240878105164,\n",
       "  'points': {'combine_chance': 0.49331196425848295,\n",
       "   'crossover_chance': 0.8811468968722667,\n",
       "   'mutate_chance': 0.012784740891368926}},\n",
       " {'target': 0.5196439027786255,\n",
       "  'points': {'combine_chance': 0.03381317021559007,\n",
       "   'crossover_chance': 0.928234642039033,\n",
       "   'mutate_chance': 0.006723070782897374}},\n",
       " {'target': 0.413496196269989,\n",
       "  'points': {'combine_chance': 0.041106670557864246,\n",
       "   'crossover_chance': 0.99,\n",
       "   'mutate_chance': 0.0378847441507185}},\n",
       " {'target': 0.4736941456794739,\n",
       "  'points': {'combine_chance': 0.4812230699884159,\n",
       "   'crossover_chance': 0.01,\n",
       "   'mutate_chance': 0.004610318575999885}},\n",
       " {'target': 0.5120301246643066,\n",
       "  'points': {'combine_chance': 0.6985920925954717,\n",
       "   'crossover_chance': 0.07041869717793878,\n",
       "   'mutate_chance': 0.0072821697698758694}},\n",
       " {'target': 0.5194429159164429,\n",
       "  'points': {'combine_chance': 0.6985920925954717,\n",
       "   'crossover_chance': 0.07041869717793878,\n",
       "   'mutate_chance': 0.0072821697698758694}},\n",
       " {'target': 0.5544273257255554,\n",
       "  'points': {'combine_chance': 0.31077051797834726,\n",
       "   'crossover_chance': 0.7290238239824179,\n",
       "   'mutate_chance': 0.005487556594052076}},\n",
       " {'target': 0.5208737254142761,\n",
       "  'points': {'combine_chance': 0.49331196425848295,\n",
       "   'crossover_chance': 0.8811468968722667,\n",
       "   'mutate_chance': 0.012784740891368926}},\n",
       " {'target': 0.3803754448890686,\n",
       "  'points': {'combine_chance': 0.9632812326480045,\n",
       "   'crossover_chance': 0.01,\n",
       "   'mutate_chance': 0.0027158372241903725}},\n",
       " {'target': 0.40329107642173767,\n",
       "  'points': {'combine_chance': 0.479377446047344,\n",
       "   'crossover_chance': 0.6725657477992486,\n",
       "   'mutate_chance': 0.04824786804371506}},\n",
       " {'target': 0.42798370122909546,\n",
       "  'points': {'combine_chance': 0.4550877205742057,\n",
       "   'crossover_chance': 0.01,\n",
       "   'mutate_chance': 0.03689149424456554}},\n",
       " {'target': 0.086859330534935,\n",
       "  'points': {'combine_chance': 0.01,\n",
       "   'crossover_chance': 0.99,\n",
       "   'mutate_chance': 0.0}},\n",
       " {'target': 0.35651156306266785,\n",
       "  'points': {'combine_chance': 0.479377446047344,\n",
       "   'crossover_chance': 0.6725657477992486,\n",
       "   'mutate_chance': 0.04824786804371506}},\n",
       " {'target': 0.47927936911582947,\n",
       "  'points': {'combine_chance': 0.99,\n",
       "   'crossover_chance': 0.01,\n",
       "   'mutate_chance': 0.01479047295284128}},\n",
       " {'target': 0.5532583594322205,\n",
       "  'points': {'combine_chance': 0.13154350543315257,\n",
       "   'crossover_chance': 0.99,\n",
       "   'mutate_chance': 0.009665272567993287}},\n",
       " {'target': 0.518785834312439,\n",
       "  'points': {'combine_chance': 0.49331196425848295,\n",
       "   'crossover_chance': 0.8811468968722667,\n",
       "   'mutate_chance': 0.012784740891368926}},\n",
       " {'target': 0.06415653973817825,\n",
       "  'points': {'combine_chance': 0.592643368454343,\n",
       "   'crossover_chance': 0.01,\n",
       "   'mutate_chance': 0.0}},\n",
       " {'target': 0.4428582787513733,\n",
       "  'points': {'combine_chance': 0.6448835838410322,\n",
       "   'crossover_chance': 0.23199303568385513,\n",
       "   'mutate_chance': 0.03504775403749621}},\n",
       " {'target': 0.3881167471408844,\n",
       "  'points': {'combine_chance': 0.01,\n",
       "   'crossover_chance': 0.99,\n",
       "   'mutate_chance': 0.05}},\n",
       " {'target': 0.5237851142883301,\n",
       "  'points': {'combine_chance': 0.6985920925954717,\n",
       "   'crossover_chance': 0.07041869717793878,\n",
       "   'mutate_chance': 0.0072821697698758694}},\n",
       " {'target': 0.5285587906837463,\n",
       "  'points': {'combine_chance': 0.08773054846155821,\n",
       "   'crossover_chance': 0.99,\n",
       "   'mutate_chance': 0.01091998864879188}},\n",
       " {'target': 0.49713414907455444,\n",
       "  'points': {'combine_chance': 0.3369213820559667,\n",
       "   'crossover_chance': 0.99,\n",
       "   'mutate_chance': 0.008237066430177383}}]"
      ]
     },
     "execution_count": 34,
     "metadata": {},
     "output_type": "execute_result"
    }
   ],
   "source": [
    "hp_warm"
   ]
  },
  {
   "cell_type": "code",
   "execution_count": null,
   "metadata": {},
   "outputs": [],
   "source": []
  },
  {
   "cell_type": "code",
   "execution_count": null,
   "metadata": {},
   "outputs": [],
   "source": []
  },
  {
   "cell_type": "code",
   "execution_count": null,
   "metadata": {},
   "outputs": [],
   "source": []
  },
  {
   "cell_type": "code",
   "execution_count": null,
   "metadata": {},
   "outputs": [],
   "source": []
  },
  {
   "cell_type": "code",
   "execution_count": null,
   "metadata": {},
   "outputs": [],
   "source": []
  },
  {
   "cell_type": "markdown",
   "metadata": {
    "execution": {
     "iopub.execute_input": "2020-05-15T08:17:13.031204Z",
     "iopub.status.busy": "2020-05-15T08:17:13.030909Z",
     "iopub.status.idle": "2020-05-15T08:17:13.033826Z",
     "shell.execute_reply": "2020-05-15T08:17:13.033386Z",
     "shell.execute_reply.started": "2020-05-15T08:17:13.031167Z"
    }
   },
   "source": [
    "# Exports"
   ]
  },
  {
   "cell_type": "code",
   "execution_count": 11,
   "metadata": {
    "ExecuteTime": {
     "end_time": "2020-05-15T19:27:58.095241Z",
     "start_time": "2020-05-15T19:27:57.909654Z"
    },
    "execution": {
     "iopub.execute_input": "2020-05-18T12:52:57.059387Z",
     "iopub.status.busy": "2020-05-18T12:52:57.059067Z",
     "iopub.status.idle": "2020-05-18T12:52:57.283215Z",
     "shell.execute_reply": "2020-05-18T12:52:57.282636Z",
     "shell.execute_reply.started": "2020-05-18T12:52:57.059330Z"
    }
   },
   "outputs": [
    {
     "name": "stdout",
     "output_type": "stream",
     "text": [
      "Converted gen_exp.ipynb to exp/nb_gen_exp.py\n"
     ]
    }
   ],
   "source": [
    "!python3 extra/n2s.py gen_exp.ipynb "
   ]
  },
  {
   "cell_type": "code",
   "execution_count": null,
   "metadata": {},
   "outputs": [],
   "source": []
  }
 ],
 "metadata": {
  "kernelspec": {
   "display_name": "Python 3",
   "language": "python",
   "name": "python3"
  },
  "language_info": {
   "codemirror_mode": {
    "name": "ipython",
    "version": 3
   },
   "file_extension": ".py",
   "mimetype": "text/x-python",
   "name": "python",
   "nbconvert_exporter": "python",
   "pygments_lexer": "ipython3",
   "version": "3.6.9"
  }
 },
 "nbformat": 4,
 "nbformat_minor": 4
}
