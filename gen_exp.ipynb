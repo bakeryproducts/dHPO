{
 "cells": [
  {
   "cell_type": "markdown",
   "metadata": {
    "execution": {
     "iopub.execute_input": "2020-05-15T08:06:55.997152Z",
     "iopub.status.busy": "2020-05-15T08:06:55.996856Z",
     "iopub.status.idle": "2020-05-15T08:06:55.999717Z",
     "shell.execute_reply": "2020-05-15T08:06:55.999268Z",
     "shell.execute_reply.started": "2020-05-15T08:06:55.997118Z"
    }
   },
   "source": [
    "# Imports"
   ]
  },
  {
   "cell_type": "code",
   "execution_count": 1,
   "metadata": {
    "ExecuteTime": {
     "end_time": "2020-05-19T15:51:07.755854Z",
     "start_time": "2020-05-19T15:51:07.407861Z"
    },
    "execution": {
     "iopub.execute_input": "2020-05-19T14:36:28.857590Z",
     "iopub.status.busy": "2020-05-19T14:36:28.857294Z",
     "iopub.status.idle": "2020-05-19T14:36:28.864735Z",
     "shell.execute_reply": "2020-05-19T14:36:28.864237Z",
     "shell.execute_reply.started": "2020-05-19T14:36:28.857551Z"
    }
   },
   "outputs": [],
   "source": [
    "#export\n",
    "import os\n",
    "import sys\n",
    "sys.path.append(os.path.join(os.getcwd(),'exp'))\n",
    "\n",
    "import json\n",
    "import yaml\n",
    "import datetime\n",
    "import collections\n",
    "from pathlib import Path\n",
    "from collections import OrderedDict\n",
    "\n",
    "import numpy as np\n",
    "import pandas as pd\n",
    "from nb_base_exp import *#BaseExperiment, BaseProject, load_txt_log\n",
    "from config import cfg"
   ]
  },
  {
   "cell_type": "code",
   "execution_count": 2,
   "metadata": {
    "ExecuteTime": {
     "end_time": "2020-05-19T15:51:08.243440Z",
     "start_time": "2020-05-19T15:51:07.757343Z"
    },
    "execution": {
     "iopub.execute_input": "2020-05-19T14:43:22.769420Z",
     "iopub.status.busy": "2020-05-19T14:43:22.769125Z",
     "iopub.status.idle": "2020-05-19T14:43:22.774285Z",
     "shell.execute_reply": "2020-05-19T14:43:22.773782Z",
     "shell.execute_reply.started": "2020-05-19T14:43:22.769383Z"
    }
   },
   "outputs": [],
   "source": [
    "import plotly.express as px\n",
    "import shutil\n",
    "import matplotlib.pyplot as plt\n",
    "%matplotlib inline"
   ]
  },
  {
   "cell_type": "code",
   "execution_count": 3,
   "metadata": {
    "ExecuteTime": {
     "end_time": "2020-05-19T15:51:08.249149Z",
     "start_time": "2020-05-19T15:51:08.245359Z"
    },
    "execution": {
     "iopub.execute_input": "2020-05-19T14:36:29.893485Z",
     "iopub.status.busy": "2020-05-19T14:36:29.893328Z",
     "iopub.status.idle": "2020-05-19T14:36:29.896661Z",
     "shell.execute_reply": "2020-05-19T14:36:29.896181Z",
     "shell.execute_reply.started": "2020-05-19T14:36:29.893460Z"
    }
   },
   "outputs": [
    {
     "data": {
      "text/html": [
       "<style>.container { width:95% !important; }</style>"
      ],
      "text/plain": [
       "<IPython.core.display.HTML object>"
      ]
     },
     "metadata": {},
     "output_type": "display_data"
    }
   ],
   "source": [
    "from IPython.core.display import display, HTML\n",
    "display(HTML(\"<style>.container { width:95% !important; }</style>\"))"
   ]
  },
  {
   "cell_type": "markdown",
   "metadata": {},
   "source": [
    "# Code"
   ]
  },
  {
   "cell_type": "code",
   "execution_count": 4,
   "metadata": {
    "ExecuteTime": {
     "end_time": "2020-05-19T15:51:08.780200Z",
     "start_time": "2020-05-19T15:51:08.651658Z"
    },
    "execution": {
     "iopub.execute_input": "2020-05-19T14:37:11.703170Z",
     "iopub.status.busy": "2020-05-19T14:37:11.702868Z",
     "iopub.status.idle": "2020-05-19T14:37:11.712402Z",
     "shell.execute_reply": "2020-05-19T14:37:11.711774Z",
     "shell.execute_reply.started": "2020-05-19T14:37:11.703132Z"
    }
   },
   "outputs": [],
   "source": [
    "#export\n",
    "def load_log(path):\n",
    "    columns = ['date','epoch','acc','val_acc']\n",
    "    types = [str, np.int32, np.float32, np.float32]\n",
    "    log_path = list(path.rglob('*/*/log.txt'))[0]\n",
    "\n",
    "    _, logs = load_txt_log(path=log_path, types=types)\n",
    "\n",
    "    df = pd.DataFrame(logs, columns=columns)\n",
    "    df.dropna(inplace=True)\n",
    "    df = df.astype(dict(zip(columns, types)))\n",
    "\n",
    "    df['val_acc'].replace(-1., np.NaN, inplace=True)\n",
    "    df.fillna(method='ffill', inplace=True)\n",
    "    df.set_index('epoch', inplace=True)\n",
    "    timeDF=(pd.to_datetime(df['date'].str.strip(), format='%H:%M:%S'))\n",
    "    del df['date']# = timeDF\n",
    "    df['duration'] = timeDF - timeDF[0]\n",
    "    return df\n",
    "\n",
    "def load_yaml_cfg(path):\n",
    "    params_path = list(path.rglob('*/*/train.yaml'))[0]\n",
    "    with open(params_path, 'r') as f:\n",
    "        d = yaml.safe_load(f)\n",
    "    d = flatten(d)\n",
    "    d = OrderedDict(sorted(d.items(), key=lambda x:x[0], reverse=False))\n",
    "    return d\n",
    "\n",
    "def load_json_cfg(path):\n",
    "    params_path = list(path.rglob('*/*/params.json'))[0]\n",
    "    with open(params_path, 'r') as f:\n",
    "        d = json.load(f)\n",
    "    d = flatten(d)\n",
    "    d = OrderedDict(sorted(d.items(), key=lambda x:x[0], reverse=False))\n",
    "    return d\n",
    "\n",
    "def load_cfg(*args, **kwargs):\n",
    "    return load_json_cfg(*args, **kwargs)\n",
    "\n",
    "def check_valid(cpath):\n",
    "    flag_files = set(['log.txt', 'params.json'])\n",
    "    where_to_look = 'output'\n",
    "    output = list(Path(cpath).rglob(where_to_look))\n",
    "    files=[]\n",
    "    if output:\n",
    "        files = list(output[0].glob('*/*'))\n",
    "\n",
    "    return flag_files.issubset(set([f.name for f in files]))\n",
    "\n"
   ]
  },
  {
   "cell_type": "code",
   "execution_count": 5,
   "metadata": {
    "ExecuteTime": {
     "end_time": "2020-05-19T15:51:08.836987Z",
     "start_time": "2020-05-19T15:51:08.829175Z"
    },
    "execution": {
     "iopub.execute_input": "2020-05-19T14:37:12.027141Z",
     "iopub.status.busy": "2020-05-19T14:37:12.026858Z",
     "iopub.status.idle": "2020-05-19T14:37:12.035506Z",
     "shell.execute_reply": "2020-05-19T14:37:12.035030Z",
     "shell.execute_reply.started": "2020-05-19T14:37:12.027103Z"
    }
   },
   "outputs": [],
   "source": [
    "#export\n",
    "class GenExperiment(BaseExperiment):\n",
    "    def __init__(self,  path):\n",
    "        super(GenExperiment, self).__init__(path, log_reader=load_log, cfg_reader=load_cfg)\n",
    "        self.start_time = self.parse_name()\n",
    "\n",
    "    def parse_name(self, prefix='run_'):\n",
    "        date = self.name.strip(prefix)#.rstrip('.lock')\n",
    "        start_time = datetime.datetime.strptime(date, '%Y_%b_%d_%H_%M_%S_%f')\n",
    "        return start_time\n",
    "\n",
    "    def total_time(self):\n",
    "        return self.log_data['duration'][self.__len__()-1]\n",
    "    \n",
    "class GenProject(BaseProject):\n",
    "    def __init__(self,  root):\n",
    "        super(GenProject, self).__init__(root, valid_func=check_valid, Experiment=GenExperiment)\n",
    "    \n",
    "    def extend_base(self):\n",
    "        dd = {}\n",
    "        for run in self.exps:\n",
    "            run_best = run.best(num=3, col='val_acc')\n",
    "            #run_best_pct = 100 - int( 100 * (run.total_time() - dur) / run.total_time())\n",
    "            d = {}\n",
    "            d['start'] = run.start_time\n",
    "            d['name'] = run.name\n",
    "            d['tt'] = run.total_time()\n",
    "            d['t2b'] = run_best['duration'].values[0]\n",
    "            d['ba'] = round(run_best.mean()[['acc']].values[0],3)\n",
    "            d['bva'] = round(run_best.mean()[['val_acc']].values[0],3)\n",
    "            d['la'] = round(run.log_data['acc'][-10:].mean(),3)\n",
    "            #d.update(**run.params)\n",
    "            dd[run.name] = d\n",
    "        #res_df = pd.DataFrame(results, columns=['Name','duration', 'LRM', 'best_acc', 'best_val', 'best_pct', *run.params.keys()])\n",
    "\n",
    "        df = pd.DataFrame(dd).T\n",
    "        df = pd.concat([df,self.base_table()], axis=1)\n",
    "        df.set_index('start', drop=True, inplace=True)\n",
    "#         for x in ['tt','t2b']:\n",
    "#             df[x] = pd.DatetimeIndex(df[x]).strftime(\"%H:%M:%S\")\n",
    "            \n",
    "        df['ba'] = df['ba'].astype(float)\n",
    "        df['la'] = df['la'].astype(float)\n",
    "        df['bva'] = df['bva'].astype(float)\n",
    "        df = df.round(4)\n",
    "        \n",
    "        \n",
    "        return df"
   ]
  },
  {
   "cell_type": "code",
   "execution_count": 6,
   "metadata": {
    "ExecuteTime": {
     "end_time": "2020-05-19T15:51:09.304947Z",
     "start_time": "2020-05-19T15:51:09.298548Z"
    }
   },
   "outputs": [],
   "source": [
    "def plot(cols=None, window=1,limits=[-1,-1], ax=None, x=None):\n",
    "        if ax is None:\n",
    "            f,ax = plt.subplots(1)\n",
    "        if cols is None:\n",
    "            cols = ['acc']\n",
    "        if x is not None:\n",
    "            cols.append(x)\n",
    "            \n",
    "        data = e.log_data\n",
    "        llim, rlim = limits\n",
    "        rlim = len(data) if rlim <=0 else rlim\n",
    "        llim = max(0, llim)\n",
    "        \n",
    "        \n",
    "        d = data.iloc[llim:rlim,:]\n",
    "        d = d.loc[:,cols]\n",
    "        for c in cols:\n",
    "            if c != 'duration':\n",
    "                d[c] = d[c].rolling(window).mean() \n",
    "        \n",
    "        d.plot(figsize=(12,7), ax=ax, x=x)\n",
    "        \n",
    "def mod_df(df, col='acc', window=1, div=1):\n",
    "    d = df.loc[:, [col, 'duration']]\n",
    "    s = d['duration'].apply(lambda x: x.seconds)/div\n",
    "    d.loc[:,'duration'] = s\n",
    "    \n",
    "    s = d[col].rolling(window).mean()\n",
    "    d.loc[:,col] = s\n",
    "    return d\n",
    "\n",
    "def plot_run(run, col, ax,  window=5):\n",
    "    d = mod_df(run.log_data, col=col, window=window)\n",
    "    d.plot('duration', ax=ax)"
   ]
  },
  {
   "cell_type": "markdown",
   "metadata": {},
   "source": [
    "# Tests"
   ]
  },
  {
   "cell_type": "code",
   "execution_count": 45,
   "metadata": {
    "ExecuteTime": {
     "end_time": "2020-05-19T16:23:01.429321Z",
     "start_time": "2020-05-19T16:23:00.673339Z"
    },
    "execution": {
     "iopub.execute_input": "2020-05-19T15:48:55.273020Z",
     "iopub.status.busy": "2020-05-19T15:48:55.272775Z",
     "iopub.status.idle": "2020-05-19T15:48:56.009262Z",
     "shell.execute_reply": "2020-05-19T15:48:56.008543Z",
     "shell.execute_reply.started": "2020-05-19T15:48:55.272987Z"
    }
   },
   "outputs": [],
   "source": [
    "root = Path(cfg.DAG.RUNS)\n",
    "bp = GenProject(root)\n",
    "df = bp.extend_base()"
   ]
  },
  {
   "cell_type": "code",
   "execution_count": 46,
   "metadata": {
    "ExecuteTime": {
     "end_time": "2020-05-19T16:23:01.446390Z",
     "start_time": "2020-05-19T16:23:01.431342Z"
    },
    "execution": {
     "iopub.execute_input": "2020-05-19T15:48:56.020978Z",
     "iopub.status.busy": "2020-05-19T15:48:56.020808Z",
     "iopub.status.idle": "2020-05-19T15:48:56.036923Z",
     "shell.execute_reply": "2020-05-19T15:48:56.036466Z",
     "shell.execute_reply.started": "2020-05-19T15:48:56.020950Z"
    }
   },
   "outputs": [
    {
     "data": {
      "text/html": [
       "<div>\n",
       "<style scoped>\n",
       "    .dataframe tbody tr th:only-of-type {\n",
       "        vertical-align: middle;\n",
       "    }\n",
       "\n",
       "    .dataframe tbody tr th {\n",
       "        vertical-align: top;\n",
       "    }\n",
       "\n",
       "    .dataframe thead th {\n",
       "        text-align: right;\n",
       "    }\n",
       "</style>\n",
       "<table border=\"1\" class=\"dataframe\">\n",
       "  <thead>\n",
       "    <tr style=\"text-align: right;\">\n",
       "      <th></th>\n",
       "      <th>name</th>\n",
       "      <th>tt</th>\n",
       "      <th>t2b</th>\n",
       "      <th>ba</th>\n",
       "      <th>bva</th>\n",
       "      <th>la</th>\n",
       "      <th>combine_chance</th>\n",
       "      <th>crossover_chance</th>\n",
       "      <th>dec_f0</th>\n",
       "      <th>dec_f1</th>\n",
       "      <th>dec_f2</th>\n",
       "      <th>dec_f3</th>\n",
       "      <th>exp_power</th>\n",
       "      <th>generation_size</th>\n",
       "      <th>generations</th>\n",
       "      <th>mutate_chance</th>\n",
       "      <th>seed</th>\n",
       "      <th>subsample_size</th>\n",
       "    </tr>\n",
       "    <tr>\n",
       "      <th>start</th>\n",
       "      <th></th>\n",
       "      <th></th>\n",
       "      <th></th>\n",
       "      <th></th>\n",
       "      <th></th>\n",
       "      <th></th>\n",
       "      <th></th>\n",
       "      <th></th>\n",
       "      <th></th>\n",
       "      <th></th>\n",
       "      <th></th>\n",
       "      <th></th>\n",
       "      <th></th>\n",
       "      <th></th>\n",
       "      <th></th>\n",
       "      <th></th>\n",
       "      <th></th>\n",
       "      <th></th>\n",
       "    </tr>\n",
       "  </thead>\n",
       "  <tbody>\n",
       "    <tr>\n",
       "      <th>2020-05-19 19:22:28.047876</th>\n",
       "      <td>run_2020_May_19_19_22_28_047876</td>\n",
       "      <td>00:00:17</td>\n",
       "      <td>00:00:00</td>\n",
       "      <td>0.084</td>\n",
       "      <td>0.065</td>\n",
       "      <td>0.088</td>\n",
       "      <td>0.5799</td>\n",
       "      <td>0.7467</td>\n",
       "      <td>12</td>\n",
       "      <td>10</td>\n",
       "      <td>8</td>\n",
       "      <td>6</td>\n",
       "      <td>2</td>\n",
       "      <td>200</td>\n",
       "      <td>200</td>\n",
       "      <td>0.0444</td>\n",
       "      <td>0</td>\n",
       "      <td>50</td>\n",
       "    </tr>\n",
       "    <tr>\n",
       "      <th>2020-05-19 19:22:21.926511</th>\n",
       "      <td>run_2020_May_19_19_22_21_926511</td>\n",
       "      <td>00:00:21</td>\n",
       "      <td>00:00:21</td>\n",
       "      <td>0.118</td>\n",
       "      <td>0.094</td>\n",
       "      <td>0.118</td>\n",
       "      <td>0.8473</td>\n",
       "      <td>0.5396</td>\n",
       "      <td>12</td>\n",
       "      <td>10</td>\n",
       "      <td>8</td>\n",
       "      <td>6</td>\n",
       "      <td>2</td>\n",
       "      <td>200</td>\n",
       "      <td>200</td>\n",
       "      <td>0.0188</td>\n",
       "      <td>0</td>\n",
       "      <td>50</td>\n",
       "    </tr>\n",
       "    <tr>\n",
       "      <th>2020-05-19 19:22:21.909126</th>\n",
       "      <td>run_2020_May_19_19_22_21_909126</td>\n",
       "      <td>00:00:21</td>\n",
       "      <td>00:00:21</td>\n",
       "      <td>0.098</td>\n",
       "      <td>0.070</td>\n",
       "      <td>0.080</td>\n",
       "      <td>0.5381</td>\n",
       "      <td>0.6327</td>\n",
       "      <td>12</td>\n",
       "      <td>10</td>\n",
       "      <td>8</td>\n",
       "      <td>6</td>\n",
       "      <td>2</td>\n",
       "      <td>200</td>\n",
       "      <td>200</td>\n",
       "      <td>0.0239</td>\n",
       "      <td>0</td>\n",
       "      <td>50</td>\n",
       "    </tr>\n",
       "    <tr>\n",
       "      <th>2020-05-19 19:14:57.462776</th>\n",
       "      <td>run_2020_May_19_19_14_57_462776</td>\n",
       "      <td>00:07:07</td>\n",
       "      <td>00:06:40</td>\n",
       "      <td>0.310</td>\n",
       "      <td>0.333</td>\n",
       "      <td>0.335</td>\n",
       "      <td>0.5799</td>\n",
       "      <td>0.7467</td>\n",
       "      <td>12</td>\n",
       "      <td>10</td>\n",
       "      <td>8</td>\n",
       "      <td>6</td>\n",
       "      <td>2</td>\n",
       "      <td>200</td>\n",
       "      <td>200</td>\n",
       "      <td>0.0444</td>\n",
       "      <td>0</td>\n",
       "      <td>50</td>\n",
       "    </tr>\n",
       "    <tr>\n",
       "      <th>2020-05-19 19:14:57.452274</th>\n",
       "      <td>run_2020_May_19_19_14_57_452274</td>\n",
       "      <td>00:07:02</td>\n",
       "      <td>00:06:22</td>\n",
       "      <td>0.460</td>\n",
       "      <td>0.455</td>\n",
       "      <td>0.452</td>\n",
       "      <td>0.5381</td>\n",
       "      <td>0.6327</td>\n",
       "      <td>12</td>\n",
       "      <td>10</td>\n",
       "      <td>8</td>\n",
       "      <td>6</td>\n",
       "      <td>2</td>\n",
       "      <td>200</td>\n",
       "      <td>200</td>\n",
       "      <td>0.0239</td>\n",
       "      <td>0</td>\n",
       "      <td>50</td>\n",
       "    </tr>\n",
       "    <tr>\n",
       "      <th>2020-05-19 19:14:57.434298</th>\n",
       "      <td>run_2020_May_19_19_14_57_434298</td>\n",
       "      <td>00:06:58</td>\n",
       "      <td>00:04:57</td>\n",
       "      <td>0.480</td>\n",
       "      <td>0.492</td>\n",
       "      <td>0.473</td>\n",
       "      <td>0.8473</td>\n",
       "      <td>0.5396</td>\n",
       "      <td>12</td>\n",
       "      <td>10</td>\n",
       "      <td>8</td>\n",
       "      <td>6</td>\n",
       "      <td>2</td>\n",
       "      <td>200</td>\n",
       "      <td>200</td>\n",
       "      <td>0.0188</td>\n",
       "      <td>0</td>\n",
       "      <td>50</td>\n",
       "    </tr>\n",
       "    <tr>\n",
       "      <th>2020-05-19 19:03:36.891749</th>\n",
       "      <td>run_2020_May_19_19_03_36_891749</td>\n",
       "      <td>00:06:58</td>\n",
       "      <td>00:06:58</td>\n",
       "      <td>0.461</td>\n",
       "      <td>0.480</td>\n",
       "      <td>0.461</td>\n",
       "      <td>0.8473</td>\n",
       "      <td>0.5396</td>\n",
       "      <td>12</td>\n",
       "      <td>10</td>\n",
       "      <td>8</td>\n",
       "      <td>6</td>\n",
       "      <td>2</td>\n",
       "      <td>200</td>\n",
       "      <td>200</td>\n",
       "      <td>0.0188</td>\n",
       "      <td>0</td>\n",
       "      <td>50</td>\n",
       "    </tr>\n",
       "    <tr>\n",
       "      <th>2020-05-19 19:03:36.891492</th>\n",
       "      <td>run_2020_May_19_19_03_36_891492</td>\n",
       "      <td>00:06:58</td>\n",
       "      <td>00:06:58</td>\n",
       "      <td>0.337</td>\n",
       "      <td>0.337</td>\n",
       "      <td>0.339</td>\n",
       "      <td>0.5799</td>\n",
       "      <td>0.7467</td>\n",
       "      <td>12</td>\n",
       "      <td>10</td>\n",
       "      <td>8</td>\n",
       "      <td>6</td>\n",
       "      <td>2</td>\n",
       "      <td>200</td>\n",
       "      <td>200</td>\n",
       "      <td>0.0444</td>\n",
       "      <td>0</td>\n",
       "      <td>50</td>\n",
       "    </tr>\n",
       "    <tr>\n",
       "      <th>2020-05-19 19:03:36.851661</th>\n",
       "      <td>run_2020_May_19_19_03_36_851661</td>\n",
       "      <td>00:07:00</td>\n",
       "      <td>00:07:00</td>\n",
       "      <td>0.415</td>\n",
       "      <td>0.470</td>\n",
       "      <td>0.456</td>\n",
       "      <td>0.5381</td>\n",
       "      <td>0.6327</td>\n",
       "      <td>12</td>\n",
       "      <td>10</td>\n",
       "      <td>8</td>\n",
       "      <td>6</td>\n",
       "      <td>2</td>\n",
       "      <td>200</td>\n",
       "      <td>200</td>\n",
       "      <td>0.0239</td>\n",
       "      <td>0</td>\n",
       "      <td>50</td>\n",
       "    </tr>\n",
       "    <tr>\n",
       "      <th>2020-05-19 18:47:46.335684</th>\n",
       "      <td>run_2020_May_19_18_47_46_335684</td>\n",
       "      <td>00:06:55</td>\n",
       "      <td>00:03:28</td>\n",
       "      <td>0.062</td>\n",
       "      <td>0.060</td>\n",
       "      <td>0.075</td>\n",
       "      <td>0.0100</td>\n",
       "      <td>0.0100</td>\n",
       "      <td>12</td>\n",
       "      <td>10</td>\n",
       "      <td>8</td>\n",
       "      <td>6</td>\n",
       "      <td>4</td>\n",
       "      <td>200</td>\n",
       "      <td>200</td>\n",
       "      <td>0.0000</td>\n",
       "      <td>0</td>\n",
       "      <td>50</td>\n",
       "    </tr>\n",
       "  </tbody>\n",
       "</table>\n",
       "</div>"
      ],
      "text/plain": [
       "                                                       name       tt      t2b  \\\n",
       "start                                                                           \n",
       "2020-05-19 19:22:28.047876  run_2020_May_19_19_22_28_047876 00:00:17 00:00:00   \n",
       "2020-05-19 19:22:21.926511  run_2020_May_19_19_22_21_926511 00:00:21 00:00:21   \n",
       "2020-05-19 19:22:21.909126  run_2020_May_19_19_22_21_909126 00:00:21 00:00:21   \n",
       "2020-05-19 19:14:57.462776  run_2020_May_19_19_14_57_462776 00:07:07 00:06:40   \n",
       "2020-05-19 19:14:57.452274  run_2020_May_19_19_14_57_452274 00:07:02 00:06:22   \n",
       "2020-05-19 19:14:57.434298  run_2020_May_19_19_14_57_434298 00:06:58 00:04:57   \n",
       "2020-05-19 19:03:36.891749  run_2020_May_19_19_03_36_891749 00:06:58 00:06:58   \n",
       "2020-05-19 19:03:36.891492  run_2020_May_19_19_03_36_891492 00:06:58 00:06:58   \n",
       "2020-05-19 19:03:36.851661  run_2020_May_19_19_03_36_851661 00:07:00 00:07:00   \n",
       "2020-05-19 18:47:46.335684  run_2020_May_19_18_47_46_335684 00:06:55 00:03:28   \n",
       "\n",
       "                               ba    bva     la  combine_chance  \\\n",
       "start                                                             \n",
       "2020-05-19 19:22:28.047876  0.084  0.065  0.088          0.5799   \n",
       "2020-05-19 19:22:21.926511  0.118  0.094  0.118          0.8473   \n",
       "2020-05-19 19:22:21.909126  0.098  0.070  0.080          0.5381   \n",
       "2020-05-19 19:14:57.462776  0.310  0.333  0.335          0.5799   \n",
       "2020-05-19 19:14:57.452274  0.460  0.455  0.452          0.5381   \n",
       "2020-05-19 19:14:57.434298  0.480  0.492  0.473          0.8473   \n",
       "2020-05-19 19:03:36.891749  0.461  0.480  0.461          0.8473   \n",
       "2020-05-19 19:03:36.891492  0.337  0.337  0.339          0.5799   \n",
       "2020-05-19 19:03:36.851661  0.415  0.470  0.456          0.5381   \n",
       "2020-05-19 18:47:46.335684  0.062  0.060  0.075          0.0100   \n",
       "\n",
       "                            crossover_chance  dec_f0  dec_f1  dec_f2  dec_f3  \\\n",
       "start                                                                          \n",
       "2020-05-19 19:22:28.047876            0.7467      12      10       8       6   \n",
       "2020-05-19 19:22:21.926511            0.5396      12      10       8       6   \n",
       "2020-05-19 19:22:21.909126            0.6327      12      10       8       6   \n",
       "2020-05-19 19:14:57.462776            0.7467      12      10       8       6   \n",
       "2020-05-19 19:14:57.452274            0.6327      12      10       8       6   \n",
       "2020-05-19 19:14:57.434298            0.5396      12      10       8       6   \n",
       "2020-05-19 19:03:36.891749            0.5396      12      10       8       6   \n",
       "2020-05-19 19:03:36.891492            0.7467      12      10       8       6   \n",
       "2020-05-19 19:03:36.851661            0.6327      12      10       8       6   \n",
       "2020-05-19 18:47:46.335684            0.0100      12      10       8       6   \n",
       "\n",
       "                            exp_power  generation_size  generations  \\\n",
       "start                                                                 \n",
       "2020-05-19 19:22:28.047876          2              200          200   \n",
       "2020-05-19 19:22:21.926511          2              200          200   \n",
       "2020-05-19 19:22:21.909126          2              200          200   \n",
       "2020-05-19 19:14:57.462776          2              200          200   \n",
       "2020-05-19 19:14:57.452274          2              200          200   \n",
       "2020-05-19 19:14:57.434298          2              200          200   \n",
       "2020-05-19 19:03:36.891749          2              200          200   \n",
       "2020-05-19 19:03:36.891492          2              200          200   \n",
       "2020-05-19 19:03:36.851661          2              200          200   \n",
       "2020-05-19 18:47:46.335684          4              200          200   \n",
       "\n",
       "                            mutate_chance  seed  subsample_size  \n",
       "start                                                            \n",
       "2020-05-19 19:22:28.047876         0.0444     0              50  \n",
       "2020-05-19 19:22:21.926511         0.0188     0              50  \n",
       "2020-05-19 19:22:21.909126         0.0239     0              50  \n",
       "2020-05-19 19:14:57.462776         0.0444     0              50  \n",
       "2020-05-19 19:14:57.452274         0.0239     0              50  \n",
       "2020-05-19 19:14:57.434298         0.0188     0              50  \n",
       "2020-05-19 19:03:36.891749         0.0188     0              50  \n",
       "2020-05-19 19:03:36.891492         0.0444     0              50  \n",
       "2020-05-19 19:03:36.851661         0.0239     0              50  \n",
       "2020-05-19 18:47:46.335684         0.0000     0              50  "
      ]
     },
     "execution_count": 46,
     "metadata": {},
     "output_type": "execute_result"
    }
   ],
   "source": [
    "df.sort_index(ascending=False).head(10)\n",
    "#df.sort_values('bva', ascending=False).head(10)"
   ]
  },
  {
   "cell_type": "code",
   "execution_count": 44,
   "metadata": {
    "ExecuteTime": {
     "end_time": "2020-05-19T16:21:03.672007Z",
     "start_time": "2020-05-19T16:21:03.531346Z"
    },
    "execution": {
     "iopub.execute_input": "2020-05-19T15:49:03.717119Z",
     "iopub.status.busy": "2020-05-19T15:49:03.716849Z",
     "iopub.status.idle": "2020-05-19T15:49:03.860564Z",
     "shell.execute_reply": "2020-05-19T15:49:03.860093Z",
     "shell.execute_reply.started": "2020-05-19T15:49:03.717083Z"
    }
   },
   "outputs": [
    {
     "name": "stdout",
     "output_type": "stream",
     "text": [
      "0.34992982456140354\n"
     ]
    },
    {
     "data": {
      "text/plain": [
       "<matplotlib.axes._subplots.AxesSubplot at 0x7f5096f7a0f0>"
      ]
     },
     "execution_count": 44,
     "metadata": {},
     "output_type": "execute_result"
    },
    {
     "data": {
      "image/png": "[encoded data removed]",
      "text/plain": [
       "<Figure size 432x288 with 1 Axes>"
      ]
     },
     "metadata": {
      "needs_background": "light"
     },
     "output_type": "display_data"
    }
   ],
   "source": [
    "s = df['bva']\n",
    "print(s.mean())\n",
    "s.plot()"
   ]
  },
  {
   "cell_type": "code",
   "execution_count": null,
   "metadata": {
    "ExecuteTime": {
     "end_time": "2020-05-19T16:20:40.000751Z",
     "start_time": "2020-05-19T16:20:39.858600Z"
    }
   },
   "outputs": [],
   "source": []
  },
  {
   "cell_type": "code",
   "execution_count": null,
   "metadata": {},
   "outputs": [],
   "source": []
  },
  {
   "cell_type": "code",
   "execution_count": null,
   "metadata": {},
   "outputs": [],
   "source": []
  },
  {
   "cell_type": "code",
   "execution_count": 18,
   "metadata": {
    "ExecuteTime": {
     "end_time": "2020-05-19T15:58:23.061810Z",
     "start_time": "2020-05-19T15:58:23.057612Z"
    },
    "execution": {
     "iopub.execute_input": "2020-05-19T14:37:40.656483Z",
     "iopub.status.busy": "2020-05-19T14:37:40.656167Z",
     "iopub.status.idle": "2020-05-19T14:37:40.660764Z",
     "shell.execute_reply": "2020-05-19T14:37:40.660291Z",
     "shell.execute_reply.started": "2020-05-19T14:37:40.656440Z"
    }
   },
   "outputs": [
    {
     "data": {
      "text/plain": [
       "Timedelta('0 days 05:54:57')"
      ]
     },
     "execution_count": 18,
     "metadata": {},
     "output_type": "execute_result"
    }
   ],
   "source": [
    "df['tt'].sum()"
   ]
  },
  {
   "cell_type": "code",
   "execution_count": 19,
   "metadata": {
    "ExecuteTime": {
     "end_time": "2020-05-19T15:58:23.290203Z",
     "start_time": "2020-05-19T15:58:23.284984Z"
    },
    "execution": {
     "iopub.execute_input": "2020-05-19T14:37:45.592199Z",
     "iopub.status.busy": "2020-05-19T14:37:45.591899Z",
     "iopub.status.idle": "2020-05-19T14:37:45.597483Z",
     "shell.execute_reply": "2020-05-19T14:37:45.597028Z",
     "shell.execute_reply.started": "2020-05-19T14:37:45.592159Z"
    }
   },
   "outputs": [
    {
     "data": {
      "text/plain": [
       "(32, 18)"
      ]
     },
     "execution_count": 19,
     "metadata": {},
     "output_type": "execute_result"
    }
   ],
   "source": [
    "df = df[df['ba']>.3]\n",
    "df.shape"
   ]
  },
  {
   "cell_type": "code",
   "execution_count": 20,
   "metadata": {
    "ExecuteTime": {
     "end_time": "2020-05-19T15:58:24.418695Z",
     "start_time": "2020-05-19T15:58:24.416372Z"
    },
    "execution": {
     "iopub.execute_input": "2020-05-18T12:52:56.386960Z",
     "iopub.status.busy": "2020-05-18T12:52:56.386784Z",
     "iopub.status.idle": "2020-05-18T12:52:56.390679Z",
     "shell.execute_reply": "2020-05-18T12:52:56.390265Z",
     "shell.execute_reply.started": "2020-05-18T12:52:56.386933Z"
    }
   },
   "outputs": [],
   "source": [
    "# df = df[df['ba']<.3]\n",
    "# df.shape\n",
    "# names = df.sort_index()['name'][:30].values\n",
    "# p = Path('./cycler_runs/')\n",
    "# for name in names:\n",
    "#     pi = p/name\n",
    "#     shutil.rmtree(pi)"
   ]
  },
  {
   "cell_type": "code",
   "execution_count": null,
   "metadata": {},
   "outputs": [],
   "source": []
  },
  {
   "cell_type": "code",
   "execution_count": 24,
   "metadata": {
    "ExecuteTime": {
     "end_time": "2020-05-19T15:59:23.083359Z",
     "start_time": "2020-05-19T15:59:22.851900Z"
    },
    "execution": {
     "iopub.execute_input": "2020-05-18T12:52:56.391496Z",
     "iopub.status.busy": "2020-05-18T12:52:56.391313Z",
     "iopub.status.idle": "2020-05-18T12:52:57.057637Z",
     "shell.execute_reply": "2020-05-18T12:52:57.056663Z",
     "shell.execute_reply.started": "2020-05-18T12:52:56.391467Z"
    }
   },
   "outputs": [
    {
     "data": {
      "application/vnd.plotly.v1+json": {
       "config": {
        "plotlyServerURL": "https://plot.ly"
       },
       "data": [
        {
         "dimensions": [
          {
           "label": "combine_chance",
           "values": [
            0.1609,
            0.6681,
            0.4325,
            0.7628,
            0.99,
            0.99,
            0.1861,
            0.7756,
            0.8043,
            0.3297,
            0.99,
            0.9484,
            0.7866,
            0.01,
            0.01,
            0.99,
            0.01,
            0.99,
            0.99,
            0.99,
            0.99,
            0.99,
            0.6986,
            0.4794,
            0.4933,
            0.6986,
            0.4794,
            0.4933,
            0.6986,
            0.6986,
            0.4794,
            0.4933
           ]
          },
          {
           "label": "crossover_chance",
           "values": [
            0.01,
            0.01,
            0.7717,
            0.1284,
            0.99,
            0.01,
            0.9844,
            0.8029,
            0.5182,
            0.5171,
            0.01,
            0.7651,
            0.5402,
            0.99,
            0.01,
            0.01,
            0.01,
            0.99,
            0.01,
            0.01,
            0.99,
            0.01,
            0.0704,
            0.6726,
            0.8811,
            0.0704,
            0.6726,
            0.8811,
            0.0704,
            0.0704,
            0.6726,
            0.8811
           ]
          },
          {
           "label": "mutate_chance",
           "values": [
            0.0035,
            0.0035,
            0.0087,
            0.0005,
            0.05,
            0.05,
            0.05,
            0.0265,
            0.0383,
            0.0311,
            0.05,
            0.0036,
            0.0037,
            0.05,
            0.05,
            0.0421,
            0.0346,
            0.0319,
            0.0364,
            0.0379,
            0.0381,
            0.05,
            0.0073,
            0.0482,
            0.0128,
            0.0073,
            0.0482,
            0.0128,
            0.0073,
            0.0073,
            0.0482,
            0.0128
           ]
          },
          {
           "label": "exp_power",
           "values": [
            1,
            1,
            2,
            1,
            2,
            11,
            12,
            7,
            7,
            7,
            1,
            15,
            15,
            1,
            1,
            1,
            1,
            1,
            1,
            15,
            1,
            15,
            6,
            5,
            1,
            6,
            5,
            1,
            6,
            6,
            5,
            1
           ]
          },
          {
           "label": "bva",
           "values": [
            0.5,
            0.498,
            0.532,
            0.416,
            0.312,
            0.426,
            0.43,
            0.519,
            0.478,
            0.487,
            0.316,
            0.55,
            0.557,
            0.311,
            0.293,
            0.329,
            0.322,
            0.365,
            0.306,
            0.451,
            0.309,
            0.396,
            0.535,
            0.347,
            0.528,
            0.537,
            0.386,
            0.509,
            0.518,
            0.528,
            0.411,
            0.52
           ]
          }
         ],
         "domain": {
          "x": [
           0,
           1
          ],
          "y": [
           0,
           1
          ]
         },
         "line": {
          "color": [
           0.5,
           0.498,
           0.532,
           0.416,
           0.312,
           0.426,
           0.43,
           0.519,
           0.478,
           0.487,
           0.316,
           0.55,
           0.557,
           0.311,
           0.293,
           0.329,
           0.322,
           0.365,
           0.306,
           0.451,
           0.309,
           0.396,
           0.535,
           0.347,
           0.528,
           0.537,
           0.386,
           0.509,
           0.518,
           0.528,
           0.411,
           0.52
          ],
          "coloraxis": "coloraxis"
         },
         "name": "",
         "type": "parcoords"
        }
       ],
       "layout": {
        "coloraxis": {
         "cmax": 0.557,
         "cmid": 0.25,
         "cmin": 0.4,
         "colorbar": {
          "title": {
           "text": "bva"
          }
         },
         "colorscale": [
          [
           0,
           "rgb(0, 147, 146)"
          ],
          [
           0.16666666666666666,
           "rgb(114, 170, 161)"
          ],
          [
           0.3333333333333333,
           "rgb(177, 199, 179)"
          ],
          [
           0.5,
           "rgb(241, 234, 200)"
          ],
          [
           0.6666666666666666,
           "rgb(229, 185, 173)"
          ],
          [
           0.8333333333333334,
           "rgb(217, 137, 148)"
          ],
          [
           1,
           "rgb(208, 88, 126)"
          ]
         ]
        },
        "height": 600,
        "legend": {
         "tracegroupgap": 0
        },
        "margin": {
         "t": 60
        },
        "template": {
         "data": {
          "bar": [
           {
            "error_x": {
             "color": "#2a3f5f"
            },
            "error_y": {
             "color": "#2a3f5f"
            },
            "marker": {
             "line": {
              "color": "#E5ECF6",
              "width": 0.5
             }
            },
            "type": "bar"
           }
          ],
          "barpolar": [
           {
            "marker": {
             "line": {
              "color": "#E5ECF6",
              "width": 0.5
             }
            },
            "type": "barpolar"
           }
          ],
          "carpet": [
           {
            "aaxis": {
             "endlinecolor": "#2a3f5f",
             "gridcolor": "white",
             "linecolor": "white",
             "minorgridcolor": "white",
             "startlinecolor": "#2a3f5f"
            },
            "baxis": {
             "endlinecolor": "#2a3f5f",
             "gridcolor": "white",
             "linecolor": "white",
             "minorgridcolor": "white",
             "startlinecolor": "#2a3f5f"
            },
            "type": "carpet"
           }
          ],
          "choropleth": [
           {
            "colorbar": {
             "outlinewidth": 0,
             "ticks": ""
            },
            "type": "choropleth"
           }
          ],
          "contour": [
           {
            "colorbar": {
             "outlinewidth": 0,
             "ticks": ""
            },
            "colorscale": [
             [
              0,
              "#0d0887"
             ],
             [
              0.1111111111111111,
              "#46039f"
             ],
             [
              0.2222222222222222,
              "#7201a8"
             ],
             [
              0.3333333333333333,
              "#9c179e"
             ],
             [
              0.4444444444444444,
              "#bd3786"
             ],
             [
              0.5555555555555556,
              "#d8576b"
             ],
             [
              0.6666666666666666,
              "#ed7953"
             ],
             [
              0.7777777777777778,
              "#fb9f3a"
             ],
             [
              0.8888888888888888,
              "#fdca26"
             ],
             [
              1,
              "#f0f921"
             ]
            ],
            "type": "contour"
           }
          ],
          "contourcarpet": [
           {
            "colorbar": {
             "outlinewidth": 0,
             "ticks": ""
            },
            "type": "contourcarpet"
           }
          ],
          "heatmap": [
           {
            "colorbar": {
             "outlinewidth": 0,
             "ticks": ""
            },
            "colorscale": [
             [
              0,
              "#0d0887"
             ],
             [
              0.1111111111111111,
              "#46039f"
             ],
             [
              0.2222222222222222,
              "#7201a8"
             ],
             [
              0.3333333333333333,
              "#9c179e"
             ],
             [
              0.4444444444444444,
              "#bd3786"
             ],
             [
              0.5555555555555556,
              "#d8576b"
             ],
             [
              0.6666666666666666,
              "#ed7953"
             ],
             [
              0.7777777777777778,
              "#fb9f3a"
             ],
             [
              0.8888888888888888,
              "#fdca26"
             ],
             [
              1,
              "#f0f921"
             ]
            ],
            "type": "heatmap"
           }
          ],
          "heatmapgl": [
           {
            "colorbar": {
             "outlinewidth": 0,
             "ticks": ""
            },
            "colorscale": [
             [
              0,
              "#0d0887"
             ],
             [
              0.1111111111111111,
              "#46039f"
             ],
             [
              0.2222222222222222,
              "#7201a8"
             ],
             [
              0.3333333333333333,
              "#9c179e"
             ],
             [
              0.4444444444444444,
              "#bd3786"
             ],
             [
              0.5555555555555556,
              "#d8576b"
             ],
             [
              0.6666666666666666,
              "#ed7953"
             ],
             [
              0.7777777777777778,
              "#fb9f3a"
             ],
             [
              0.8888888888888888,
              "#fdca26"
             ],
             [
              1,
              "#f0f921"
             ]
            ],
            "type": "heatmapgl"
           }
          ],
          "histogram": [
           {
            "marker": {
             "colorbar": {
              "outlinewidth": 0,
              "ticks": ""
             }
            },
            "type": "histogram"
           }
          ],
          "histogram2d": [
           {
            "colorbar": {
             "outlinewidth": 0,
             "ticks": ""
            },
            "colorscale": [
             [
              0,
              "#0d0887"
             ],
             [
              0.1111111111111111,
              "#46039f"
             ],
             [
              0.2222222222222222,
              "#7201a8"
             ],
             [
              0.3333333333333333,
              "#9c179e"
             ],
             [
              0.4444444444444444,
              "#bd3786"
             ],
             [
              0.5555555555555556,
              "#d8576b"
             ],
             [
              0.6666666666666666,
              "#ed7953"
             ],
             [
              0.7777777777777778,
              "#fb9f3a"
             ],
             [
              0.8888888888888888,
              "#fdca26"
             ],
             [
              1,
              "#f0f921"
             ]
            ],
            "type": "histogram2d"
           }
          ],
          "histogram2dcontour": [
           {
            "colorbar": {
             "outlinewidth": 0,
             "ticks": ""
            },
            "colorscale": [
             [
              0,
              "#0d0887"
             ],
             [
              0.1111111111111111,
              "#46039f"
             ],
             [
              0.2222222222222222,
              "#7201a8"
             ],
             [
              0.3333333333333333,
              "#9c179e"
             ],
             [
              0.4444444444444444,
              "#bd3786"
             ],
             [
              0.5555555555555556,
              "#d8576b"
             ],
             [
              0.6666666666666666,
              "#ed7953"
             ],
             [
              0.7777777777777778,
              "#fb9f3a"
             ],
             [
              0.8888888888888888,
              "#fdca26"
             ],
             [
              1,
              "#f0f921"
             ]
            ],
            "type": "histogram2dcontour"
           }
          ],
          "mesh3d": [
           {
            "colorbar": {
             "outlinewidth": 0,
             "ticks": ""
            },
            "type": "mesh3d"
           }
          ],
          "parcoords": [
           {
            "line": {
             "colorbar": {
              "outlinewidth": 0,
              "ticks": ""
             }
            },
            "type": "parcoords"
           }
          ],
          "pie": [
           {
            "automargin": true,
            "type": "pie"
           }
          ],
          "scatter": [
           {
            "marker": {
             "colorbar": {
              "outlinewidth": 0,
              "ticks": ""
             }
            },
            "type": "scatter"
           }
          ],
          "scatter3d": [
           {
            "line": {
             "colorbar": {
              "outlinewidth": 0,
              "ticks": ""
             }
            },
            "marker": {
             "colorbar": {
              "outlinewidth": 0,
              "ticks": ""
             }
            },
            "type": "scatter3d"
           }
          ],
          "scattercarpet": [
           {
            "marker": {
             "colorbar": {
              "outlinewidth": 0,
              "ticks": ""
             }
            },
            "type": "scattercarpet"
           }
          ],
          "scattergeo": [
           {
            "marker": {
             "colorbar": {
              "outlinewidth": 0,
              "ticks": ""
             }
            },
            "type": "scattergeo"
           }
          ],
          "scattergl": [
           {
            "marker": {
             "colorbar": {
              "outlinewidth": 0,
              "ticks": ""
             }
            },
            "type": "scattergl"
           }
          ],
          "scattermapbox": [
           {
            "marker": {
             "colorbar": {
              "outlinewidth": 0,
              "ticks": ""
             }
            },
            "type": "scattermapbox"
           }
          ],
          "scatterpolar": [
           {
            "marker": {
             "colorbar": {
              "outlinewidth": 0,
              "ticks": ""
             }
            },
            "type": "scatterpolar"
           }
          ],
          "scatterpolargl": [
           {
            "marker": {
             "colorbar": {
              "outlinewidth": 0,
              "ticks": ""
             }
            },
            "type": "scatterpolargl"
           }
          ],
          "scatterternary": [
           {
            "marker": {
             "colorbar": {
              "outlinewidth": 0,
              "ticks": ""
             }
            },
            "type": "scatterternary"
           }
          ],
          "surface": [
           {
            "colorbar": {
             "outlinewidth": 0,
             "ticks": ""
            },
            "colorscale": [
             [
              0,
              "#0d0887"
             ],
             [
              0.1111111111111111,
              "#46039f"
             ],
             [
              0.2222222222222222,
              "#7201a8"
             ],
             [
              0.3333333333333333,
              "#9c179e"
             ],
             [
              0.4444444444444444,
              "#bd3786"
             ],
             [
              0.5555555555555556,
              "#d8576b"
             ],
             [
              0.6666666666666666,
              "#ed7953"
             ],
             [
              0.7777777777777778,
              "#fb9f3a"
             ],
             [
              0.8888888888888888,
              "#fdca26"
             ],
             [
              1,
              "#f0f921"
             ]
            ],
            "type": "surface"
           }
          ],
          "table": [
           {
            "cells": {
             "fill": {
              "color": "#EBF0F8"
             },
             "line": {
              "color": "white"
             }
            },
            "header": {
             "fill": {
              "color": "#C8D4E3"
             },
             "line": {
              "color": "white"
             }
            },
            "type": "table"
           }
          ]
         },
         "layout": {
          "annotationdefaults": {
           "arrowcolor": "#2a3f5f",
           "arrowhead": 0,
           "arrowwidth": 1
          },
          "coloraxis": {
           "colorbar": {
            "outlinewidth": 0,
            "ticks": ""
           }
          },
          "colorscale": {
           "diverging": [
            [
             0,
             "#8e0152"
            ],
            [
             0.1,
             "#c51b7d"
            ],
            [
             0.2,
             "#de77ae"
            ],
            [
             0.3,
             "#f1b6da"
            ],
            [
             0.4,
             "#fde0ef"
            ],
            [
             0.5,
             "#f7f7f7"
            ],
            [
             0.6,
             "#e6f5d0"
            ],
            [
             0.7,
             "#b8e186"
            ],
            [
             0.8,
             "#7fbc41"
            ],
            [
             0.9,
             "#4d9221"
            ],
            [
             1,
             "#276419"
            ]
           ],
           "sequential": [
            [
             0,
             "#0d0887"
            ],
            [
             0.1111111111111111,
             "#46039f"
            ],
            [
             0.2222222222222222,
             "#7201a8"
            ],
            [
             0.3333333333333333,
             "#9c179e"
            ],
            [
             0.4444444444444444,
             "#bd3786"
            ],
            [
             0.5555555555555556,
             "#d8576b"
            ],
            [
             0.6666666666666666,
             "#ed7953"
            ],
            [
             0.7777777777777778,
             "#fb9f3a"
            ],
            [
             0.8888888888888888,
             "#fdca26"
            ],
            [
             1,
             "#f0f921"
            ]
           ],
           "sequentialminus": [
            [
             0,
             "#0d0887"
            ],
            [
             0.1111111111111111,
             "#46039f"
            ],
            [
             0.2222222222222222,
             "#7201a8"
            ],
            [
             0.3333333333333333,
             "#9c179e"
            ],
            [
             0.4444444444444444,
             "#bd3786"
            ],
            [
             0.5555555555555556,
             "#d8576b"
            ],
            [
             0.6666666666666666,
             "#ed7953"
            ],
            [
             0.7777777777777778,
             "#fb9f3a"
            ],
            [
             0.8888888888888888,
             "#fdca26"
            ],
            [
             1,
             "#f0f921"
            ]
           ]
          },
          "colorway": [
           "#636efa",
           "#EF553B",
           "#00cc96",
           "#ab63fa",
           "#FFA15A",
           "#19d3f3",
           "#FF6692",
           "#B6E880",
           "#FF97FF",
           "#FECB52"
          ],
          "font": {
           "color": "#2a3f5f"
          },
          "geo": {
           "bgcolor": "white",
           "lakecolor": "white",
           "landcolor": "#E5ECF6",
           "showlakes": true,
           "showland": true,
           "subunitcolor": "white"
          },
          "hoverlabel": {
           "align": "left"
          },
          "hovermode": "closest",
          "mapbox": {
           "style": "light"
          },
          "paper_bgcolor": "white",
          "plot_bgcolor": "#E5ECF6",
          "polar": {
           "angularaxis": {
            "gridcolor": "white",
            "linecolor": "white",
            "ticks": ""
           },
           "bgcolor": "#E5ECF6",
           "radialaxis": {
            "gridcolor": "white",
            "linecolor": "white",
            "ticks": ""
           }
          },
          "scene": {
           "xaxis": {
            "backgroundcolor": "#E5ECF6",
            "gridcolor": "white",
            "gridwidth": 2,
            "linecolor": "white",
            "showbackground": true,
            "ticks": "",
            "zerolinecolor": "white"
           },
           "yaxis": {
            "backgroundcolor": "#E5ECF6",
            "gridcolor": "white",
            "gridwidth": 2,
            "linecolor": "white",
            "showbackground": true,
            "ticks": "",
            "zerolinecolor": "white"
           },
           "zaxis": {
            "backgroundcolor": "#E5ECF6",
            "gridcolor": "white",
            "gridwidth": 2,
            "linecolor": "white",
            "showbackground": true,
            "ticks": "",
            "zerolinecolor": "white"
           }
          },
          "shapedefaults": {
           "line": {
            "color": "#2a3f5f"
           }
          },
          "ternary": {
           "aaxis": {
            "gridcolor": "white",
            "linecolor": "white",
            "ticks": ""
           },
           "baxis": {
            "gridcolor": "white",
            "linecolor": "white",
            "ticks": ""
           },
           "bgcolor": "#E5ECF6",
           "caxis": {
            "gridcolor": "white",
            "linecolor": "white",
            "ticks": ""
           }
          },
          "title": {
           "x": 0.05
          },
          "xaxis": {
           "automargin": true,
           "gridcolor": "white",
           "linecolor": "white",
           "ticks": "",
           "title": {
            "standoff": 15
           },
           "zerolinecolor": "white",
           "zerolinewidth": 2
          },
          "yaxis": {
           "automargin": true,
           "gridcolor": "white",
           "linecolor": "white",
           "ticks": "",
           "title": {
            "standoff": 15
           },
           "zerolinecolor": "white",
           "zerolinewidth": 2
          }
         }
        }
       }
      },
      "text/html": [
       "<div>\n",
       "        \n",
       "        \n",
       "            <div id=\"2e292400-5859-4322-9ab5-b8e7666e9422\" class=\"plotly-graph-div\" style=\"height:600px; width:100%;\"></div>\n",
       "            <script type=\"text/javascript\">\n",
       "                require([\"plotly\"], function(Plotly) {\n",
       "                    window.PLOTLYENV=window.PLOTLYENV || {};\n",
       "                    \n",
       "                if (document.getElementById(\"2e292400-5859-4322-9ab5-b8e7666e9422\")) {\n",
       "                    Plotly.newPlot(\n",
       "                        '2e292400-5859-4322-9ab5-b8e7666e9422',\n",
       "                        [{\"dimensions\": [{\"label\": \"combine_chance\", \"values\": [0.1609, 0.6681, 0.4325, 0.7628, 0.99, 0.99, 0.1861, 0.7756, 0.8043, 0.3297, 0.99, 0.9484, 0.7866, 0.01, 0.01, 0.99, 0.01, 0.99, 0.99, 0.99, 0.99, 0.99, 0.6986, 0.4794, 0.4933, 0.6986, 0.4794, 0.4933, 0.6986, 0.6986, 0.4794, 0.4933]}, {\"label\": \"crossover_chance\", \"values\": [0.01, 0.01, 0.7717, 0.1284, 0.99, 0.01, 0.9844, 0.8029, 0.5182, 0.5171, 0.01, 0.7651, 0.5402, 0.99, 0.01, 0.01, 0.01, 0.99, 0.01, 0.01, 0.99, 0.01, 0.0704, 0.6726, 0.8811, 0.0704, 0.6726, 0.8811, 0.0704, 0.0704, 0.6726, 0.8811]}, {\"label\": \"mutate_chance\", \"values\": [0.0035, 0.0035, 0.0087, 0.0005, 0.05, 0.05, 0.05, 0.0265, 0.0383, 0.0311, 0.05, 0.0036, 0.0037, 0.05, 0.05, 0.0421, 0.0346, 0.0319, 0.0364, 0.0379, 0.0381, 0.05, 0.0073, 0.0482, 0.0128, 0.0073, 0.0482, 0.0128, 0.0073, 0.0073, 0.0482, 0.0128]}, {\"label\": \"exp_power\", \"values\": [1, 1, 2, 1, 2, 11, 12, 7, 7, 7, 1, 15, 15, 1, 1, 1, 1, 1, 1, 15, 1, 15, 6, 5, 1, 6, 5, 1, 6, 6, 5, 1]}, {\"label\": \"bva\", \"values\": [0.5, 0.498, 0.532, 0.416, 0.312, 0.426, 0.43, 0.519, 0.478, 0.487, 0.316, 0.55, 0.557, 0.311, 0.293, 0.329, 0.322, 0.365, 0.306, 0.451, 0.309, 0.396, 0.535, 0.347, 0.528, 0.537, 0.386, 0.509, 0.518, 0.528, 0.411, 0.52]}], \"domain\": {\"x\": [0.0, 1.0], \"y\": [0.0, 1.0]}, \"line\": {\"color\": [0.5, 0.498, 0.532, 0.416, 0.312, 0.426, 0.43, 0.519, 0.478, 0.487, 0.316, 0.55, 0.557, 0.311, 0.293, 0.329, 0.322, 0.365, 0.306, 0.451, 0.309, 0.396, 0.535, 0.347, 0.528, 0.537, 0.386, 0.509, 0.518, 0.528, 0.411, 0.52], \"coloraxis\": \"coloraxis\"}, \"name\": \"\", \"type\": \"parcoords\"}],\n",
       "                        {\"coloraxis\": {\"cmax\": 0.557, \"cmid\": 0.25, \"cmin\": 0.4, \"colorbar\": {\"title\": {\"text\": \"bva\"}}, \"colorscale\": [[0.0, \"rgb(0, 147, 146)\"], [0.16666666666666666, \"rgb(114, 170, 161)\"], [0.3333333333333333, \"rgb(177, 199, 179)\"], [0.5, \"rgb(241, 234, 200)\"], [0.6666666666666666, \"rgb(229, 185, 173)\"], [0.8333333333333334, \"rgb(217, 137, 148)\"], [1.0, \"rgb(208, 88, 126)\"]]}, \"height\": 600, \"legend\": {\"tracegroupgap\": 0}, \"margin\": {\"t\": 60}, \"template\": {\"data\": {\"bar\": [{\"error_x\": {\"color\": \"#2a3f5f\"}, \"error_y\": {\"color\": \"#2a3f5f\"}, \"marker\": {\"line\": {\"color\": \"#E5ECF6\", \"width\": 0.5}}, \"type\": \"bar\"}], \"barpolar\": [{\"marker\": {\"line\": {\"color\": \"#E5ECF6\", \"width\": 0.5}}, \"type\": \"barpolar\"}], \"carpet\": [{\"aaxis\": {\"endlinecolor\": \"#2a3f5f\", \"gridcolor\": \"white\", \"linecolor\": \"white\", \"minorgridcolor\": \"white\", \"startlinecolor\": \"#2a3f5f\"}, \"baxis\": {\"endlinecolor\": \"#2a3f5f\", \"gridcolor\": \"white\", \"linecolor\": \"white\", \"minorgridcolor\": \"white\", \"startlinecolor\": \"#2a3f5f\"}, \"type\": \"carpet\"}], \"choropleth\": [{\"colorbar\": {\"outlinewidth\": 0, \"ticks\": \"\"}, \"type\": \"choropleth\"}], \"contour\": [{\"colorbar\": {\"outlinewidth\": 0, \"ticks\": \"\"}, \"colorscale\": [[0.0, \"#0d0887\"], [0.1111111111111111, \"#46039f\"], [0.2222222222222222, \"#7201a8\"], [0.3333333333333333, \"#9c179e\"], [0.4444444444444444, \"#bd3786\"], [0.5555555555555556, \"#d8576b\"], [0.6666666666666666, \"#ed7953\"], [0.7777777777777778, \"#fb9f3a\"], [0.8888888888888888, \"#fdca26\"], [1.0, \"#f0f921\"]], \"type\": \"contour\"}], \"contourcarpet\": [{\"colorbar\": {\"outlinewidth\": 0, \"ticks\": \"\"}, \"type\": \"contourcarpet\"}], \"heatmap\": [{\"colorbar\": {\"outlinewidth\": 0, \"ticks\": \"\"}, \"colorscale\": [[0.0, \"#0d0887\"], [0.1111111111111111, \"#46039f\"], [0.2222222222222222, \"#7201a8\"], [0.3333333333333333, \"#9c179e\"], [0.4444444444444444, \"#bd3786\"], [0.5555555555555556, \"#d8576b\"], [0.6666666666666666, \"#ed7953\"], [0.7777777777777778, \"#fb9f3a\"], [0.8888888888888888, \"#fdca26\"], [1.0, \"#f0f921\"]], \"type\": \"heatmap\"}], \"heatmapgl\": [{\"colorbar\": {\"outlinewidth\": 0, \"ticks\": \"\"}, \"colorscale\": [[0.0, \"#0d0887\"], [0.1111111111111111, \"#46039f\"], [0.2222222222222222, \"#7201a8\"], [0.3333333333333333, \"#9c179e\"], [0.4444444444444444, \"#bd3786\"], [0.5555555555555556, \"#d8576b\"], [0.6666666666666666, \"#ed7953\"], [0.7777777777777778, \"#fb9f3a\"], [0.8888888888888888, \"#fdca26\"], [1.0, \"#f0f921\"]], \"type\": \"heatmapgl\"}], \"histogram\": [{\"marker\": {\"colorbar\": {\"outlinewidth\": 0, \"ticks\": \"\"}}, \"type\": \"histogram\"}], \"histogram2d\": [{\"colorbar\": {\"outlinewidth\": 0, \"ticks\": \"\"}, \"colorscale\": [[0.0, \"#0d0887\"], [0.1111111111111111, \"#46039f\"], [0.2222222222222222, \"#7201a8\"], [0.3333333333333333, \"#9c179e\"], [0.4444444444444444, \"#bd3786\"], [0.5555555555555556, \"#d8576b\"], [0.6666666666666666, \"#ed7953\"], [0.7777777777777778, \"#fb9f3a\"], [0.8888888888888888, \"#fdca26\"], [1.0, \"#f0f921\"]], \"type\": \"histogram2d\"}], \"histogram2dcontour\": [{\"colorbar\": {\"outlinewidth\": 0, \"ticks\": \"\"}, \"colorscale\": [[0.0, \"#0d0887\"], [0.1111111111111111, \"#46039f\"], [0.2222222222222222, \"#7201a8\"], [0.3333333333333333, \"#9c179e\"], [0.4444444444444444, \"#bd3786\"], [0.5555555555555556, \"#d8576b\"], [0.6666666666666666, \"#ed7953\"], [0.7777777777777778, \"#fb9f3a\"], [0.8888888888888888, \"#fdca26\"], [1.0, \"#f0f921\"]], \"type\": \"histogram2dcontour\"}], \"mesh3d\": [{\"colorbar\": {\"outlinewidth\": 0, \"ticks\": \"\"}, \"type\": \"mesh3d\"}], \"parcoords\": [{\"line\": {\"colorbar\": {\"outlinewidth\": 0, \"ticks\": \"\"}}, \"type\": \"parcoords\"}], \"pie\": [{\"automargin\": true, \"type\": \"pie\"}], \"scatter\": [{\"marker\": {\"colorbar\": {\"outlinewidth\": 0, \"ticks\": \"\"}}, \"type\": \"scatter\"}], \"scatter3d\": [{\"line\": {\"colorbar\": {\"outlinewidth\": 0, \"ticks\": \"\"}}, \"marker\": {\"colorbar\": {\"outlinewidth\": 0, \"ticks\": \"\"}}, \"type\": \"scatter3d\"}], \"scattercarpet\": [{\"marker\": {\"colorbar\": {\"outlinewidth\": 0, \"ticks\": \"\"}}, \"type\": \"scattercarpet\"}], \"scattergeo\": [{\"marker\": {\"colorbar\": {\"outlinewidth\": 0, \"ticks\": \"\"}}, \"type\": \"scattergeo\"}], \"scattergl\": [{\"marker\": {\"colorbar\": {\"outlinewidth\": 0, \"ticks\": \"\"}}, \"type\": \"scattergl\"}], \"scattermapbox\": [{\"marker\": {\"colorbar\": {\"outlinewidth\": 0, \"ticks\": \"\"}}, \"type\": \"scattermapbox\"}], \"scatterpolar\": [{\"marker\": {\"colorbar\": {\"outlinewidth\": 0, \"ticks\": \"\"}}, \"type\": \"scatterpolar\"}], \"scatterpolargl\": [{\"marker\": {\"colorbar\": {\"outlinewidth\": 0, \"ticks\": \"\"}}, \"type\": \"scatterpolargl\"}], \"scatterternary\": [{\"marker\": {\"colorbar\": {\"outlinewidth\": 0, \"ticks\": \"\"}}, \"type\": \"scatterternary\"}], \"surface\": [{\"colorbar\": {\"outlinewidth\": 0, \"ticks\": \"\"}, \"colorscale\": [[0.0, \"#0d0887\"], [0.1111111111111111, \"#46039f\"], [0.2222222222222222, \"#7201a8\"], [0.3333333333333333, \"#9c179e\"], [0.4444444444444444, \"#bd3786\"], [0.5555555555555556, \"#d8576b\"], [0.6666666666666666, \"#ed7953\"], [0.7777777777777778, \"#fb9f3a\"], [0.8888888888888888, \"#fdca26\"], [1.0, \"#f0f921\"]], \"type\": \"surface\"}], \"table\": [{\"cells\": {\"fill\": {\"color\": \"#EBF0F8\"}, \"line\": {\"color\": \"white\"}}, \"header\": {\"fill\": {\"color\": \"#C8D4E3\"}, \"line\": {\"color\": \"white\"}}, \"type\": \"table\"}]}, \"layout\": {\"annotationdefaults\": {\"arrowcolor\": \"#2a3f5f\", \"arrowhead\": 0, \"arrowwidth\": 1}, \"coloraxis\": {\"colorbar\": {\"outlinewidth\": 0, \"ticks\": \"\"}}, \"colorscale\": {\"diverging\": [[0, \"#8e0152\"], [0.1, \"#c51b7d\"], [0.2, \"#de77ae\"], [0.3, \"#f1b6da\"], [0.4, \"#fde0ef\"], [0.5, \"#f7f7f7\"], [0.6, \"#e6f5d0\"], [0.7, \"#b8e186\"], [0.8, \"#7fbc41\"], [0.9, \"#4d9221\"], [1, \"#276419\"]], \"sequential\": [[0.0, \"#0d0887\"], [0.1111111111111111, \"#46039f\"], [0.2222222222222222, \"#7201a8\"], [0.3333333333333333, \"#9c179e\"], [0.4444444444444444, \"#bd3786\"], [0.5555555555555556, \"#d8576b\"], [0.6666666666666666, \"#ed7953\"], [0.7777777777777778, \"#fb9f3a\"], [0.8888888888888888, \"#fdca26\"], [1.0, \"#f0f921\"]], \"sequentialminus\": [[0.0, \"#0d0887\"], [0.1111111111111111, \"#46039f\"], [0.2222222222222222, \"#7201a8\"], [0.3333333333333333, \"#9c179e\"], [0.4444444444444444, \"#bd3786\"], [0.5555555555555556, \"#d8576b\"], [0.6666666666666666, \"#ed7953\"], [0.7777777777777778, \"#fb9f3a\"], [0.8888888888888888, \"#fdca26\"], [1.0, \"#f0f921\"]]}, \"colorway\": [\"#636efa\", \"#EF553B\", \"#00cc96\", \"#ab63fa\", \"#FFA15A\", \"#19d3f3\", \"#FF6692\", \"#B6E880\", \"#FF97FF\", \"#FECB52\"], \"font\": {\"color\": \"#2a3f5f\"}, \"geo\": {\"bgcolor\": \"white\", \"lakecolor\": \"white\", \"landcolor\": \"#E5ECF6\", \"showlakes\": true, \"showland\": true, \"subunitcolor\": \"white\"}, \"hoverlabel\": {\"align\": \"left\"}, \"hovermode\": \"closest\", \"mapbox\": {\"style\": \"light\"}, \"paper_bgcolor\": \"white\", \"plot_bgcolor\": \"#E5ECF6\", \"polar\": {\"angularaxis\": {\"gridcolor\": \"white\", \"linecolor\": \"white\", \"ticks\": \"\"}, \"bgcolor\": \"#E5ECF6\", \"radialaxis\": {\"gridcolor\": \"white\", \"linecolor\": \"white\", \"ticks\": \"\"}}, \"scene\": {\"xaxis\": {\"backgroundcolor\": \"#E5ECF6\", \"gridcolor\": \"white\", \"gridwidth\": 2, \"linecolor\": \"white\", \"showbackground\": true, \"ticks\": \"\", \"zerolinecolor\": \"white\"}, \"yaxis\": {\"backgroundcolor\": \"#E5ECF6\", \"gridcolor\": \"white\", \"gridwidth\": 2, \"linecolor\": \"white\", \"showbackground\": true, \"ticks\": \"\", \"zerolinecolor\": \"white\"}, \"zaxis\": {\"backgroundcolor\": \"#E5ECF6\", \"gridcolor\": \"white\", \"gridwidth\": 2, \"linecolor\": \"white\", \"showbackground\": true, \"ticks\": \"\", \"zerolinecolor\": \"white\"}}, \"shapedefaults\": {\"line\": {\"color\": \"#2a3f5f\"}}, \"ternary\": {\"aaxis\": {\"gridcolor\": \"white\", \"linecolor\": \"white\", \"ticks\": \"\"}, \"baxis\": {\"gridcolor\": \"white\", \"linecolor\": \"white\", \"ticks\": \"\"}, \"bgcolor\": \"#E5ECF6\", \"caxis\": {\"gridcolor\": \"white\", \"linecolor\": \"white\", \"ticks\": \"\"}}, \"title\": {\"x\": 0.05}, \"xaxis\": {\"automargin\": true, \"gridcolor\": \"white\", \"linecolor\": \"white\", \"ticks\": \"\", \"title\": {\"standoff\": 15}, \"zerolinecolor\": \"white\", \"zerolinewidth\": 2}, \"yaxis\": {\"automargin\": true, \"gridcolor\": \"white\", \"linecolor\": \"white\", \"ticks\": \"\", \"title\": {\"standoff\": 15}, \"zerolinecolor\": \"white\", \"zerolinewidth\": 2}}}},\n",
       "                        {\"responsive\": true}\n",
       "                    ).then(function(){\n",
       "                            \n",
       "var gd = document.getElementById('2e292400-5859-4322-9ab5-b8e7666e9422');\n",
       "var x = new MutationObserver(function (mutations, observer) {{\n",
       "        var display = window.getComputedStyle(gd).display;\n",
       "        if (!display || display === 'none') {{\n",
       "            console.log([gd, 'removed!']);\n",
       "            Plotly.purge(gd);\n",
       "            observer.disconnect();\n",
       "        }}\n",
       "}});\n",
       "\n",
       "// Listen for the removal of the full notebook cells\n",
       "var notebookContainer = gd.closest('#notebook-container');\n",
       "if (notebookContainer) {{\n",
       "    x.observe(notebookContainer, {childList: true});\n",
       "}}\n",
       "\n",
       "// Listen for the clearing of the current output cell\n",
       "var outputEl = gd.closest('.output');\n",
       "if (outputEl) {{\n",
       "    x.observe(outputEl, {childList: true});\n",
       "}}\n",
       "\n",
       "                        })\n",
       "                };\n",
       "                });\n",
       "            </script>\n",
       "        </div>"
      ]
     },
     "metadata": {},
     "output_type": "display_data"
    }
   ],
   "source": [
    "k = 'bva'\n",
    "tdf = df.sort_index(ascending=False)#[:10]\n",
    "fig = px.parallel_coordinates(tdf, color=k,\n",
    "              dimensions=['combine_chance', 'crossover_chance', 'mutate_chance', 'exp_power',\n",
    "                         #'dec_f0','dec_f1','dec_f2','dec_f3',\n",
    "                          'bva'],\n",
    "              color_continuous_scale=px.colors.diverging.Tealrose,\n",
    "              range_color=[0.4,df[k].max()],\n",
    "              color_continuous_midpoint=.25)\n",
    "fig.show()"
   ]
  },
  {
   "cell_type": "code",
   "execution_count": 62,
   "metadata": {
    "execution": {
     "iopub.execute_input": "2020-05-19T15:49:20.893257Z",
     "iopub.status.busy": "2020-05-19T15:49:20.892982Z",
     "iopub.status.idle": "2020-05-19T15:49:20.896419Z",
     "shell.execute_reply": "2020-05-19T15:49:20.895864Z",
     "shell.execute_reply.started": "2020-05-19T15:49:20.893221Z"
    }
   },
   "outputs": [],
   "source": [
    "plot_df = df#[:1]\n",
    "#top = df.sort_values(by='bva', ascending=False)[:5]\n",
    "#plot_df = pd.concat([plot_df,top])"
   ]
  },
  {
   "cell_type": "code",
   "execution_count": 67,
   "metadata": {
    "execution": {
     "iopub.execute_input": "2020-05-19T15:50:03.575071Z",
     "iopub.status.busy": "2020-05-19T15:50:03.574769Z",
     "iopub.status.idle": "2020-05-19T15:50:03.590832Z",
     "shell.execute_reply": "2020-05-19T15:50:03.590367Z",
     "shell.execute_reply.started": "2020-05-19T15:50:03.575032Z"
    }
   },
   "outputs": [
    {
     "data": {
      "text/html": [
       "<div>\n",
       "<style scoped>\n",
       "    .dataframe tbody tr th:only-of-type {\n",
       "        vertical-align: middle;\n",
       "    }\n",
       "\n",
       "    .dataframe tbody tr th {\n",
       "        vertical-align: top;\n",
       "    }\n",
       "\n",
       "    .dataframe thead th {\n",
       "        text-align: right;\n",
       "    }\n",
       "</style>\n",
       "<table border=\"1\" class=\"dataframe\">\n",
       "  <thead>\n",
       "    <tr style=\"text-align: right;\">\n",
       "      <th></th>\n",
       "      <th>name</th>\n",
       "      <th>tt</th>\n",
       "      <th>t2b</th>\n",
       "      <th>ba</th>\n",
       "      <th>bva</th>\n",
       "      <th>la</th>\n",
       "      <th>combine_chance</th>\n",
       "      <th>crossover_chance</th>\n",
       "      <th>dec_f0</th>\n",
       "      <th>dec_f1</th>\n",
       "      <th>dec_f2</th>\n",
       "      <th>dec_f3</th>\n",
       "      <th>exp_power</th>\n",
       "      <th>generation_size</th>\n",
       "      <th>generations</th>\n",
       "      <th>mutate_chance</th>\n",
       "      <th>seed</th>\n",
       "      <th>subsample_size</th>\n",
       "    </tr>\n",
       "    <tr>\n",
       "      <th>start</th>\n",
       "      <th></th>\n",
       "      <th></th>\n",
       "      <th></th>\n",
       "      <th></th>\n",
       "      <th></th>\n",
       "      <th></th>\n",
       "      <th></th>\n",
       "      <th></th>\n",
       "      <th></th>\n",
       "      <th></th>\n",
       "      <th></th>\n",
       "      <th></th>\n",
       "      <th></th>\n",
       "      <th></th>\n",
       "      <th></th>\n",
       "      <th></th>\n",
       "      <th></th>\n",
       "      <th></th>\n",
       "    </tr>\n",
       "  </thead>\n",
       "  <tbody>\n",
       "    <tr>\n",
       "      <th>2020-05-19 17:40:04.711211</th>\n",
       "      <td>run_2020_May_19_17_40_04_711211</td>\n",
       "      <td>00:06:56</td>\n",
       "      <td>00:06:18</td>\n",
       "      <td>0.542</td>\n",
       "      <td>0.557</td>\n",
       "      <td>0.539</td>\n",
       "      <td>0.7866</td>\n",
       "      <td>0.5402</td>\n",
       "      <td>12</td>\n",
       "      <td>10</td>\n",
       "      <td>8</td>\n",
       "      <td>6</td>\n",
       "      <td>15</td>\n",
       "      <td>200</td>\n",
       "      <td>200</td>\n",
       "      <td>0.0037</td>\n",
       "      <td>0</td>\n",
       "      <td>50</td>\n",
       "    </tr>\n",
       "    <tr>\n",
       "      <th>2020-05-19 17:47:12.533388</th>\n",
       "      <td>run_2020_May_19_17_47_12_533388</td>\n",
       "      <td>00:06:58</td>\n",
       "      <td>00:06:58</td>\n",
       "      <td>0.536</td>\n",
       "      <td>0.550</td>\n",
       "      <td>0.538</td>\n",
       "      <td>0.9484</td>\n",
       "      <td>0.7651</td>\n",
       "      <td>12</td>\n",
       "      <td>10</td>\n",
       "      <td>8</td>\n",
       "      <td>6</td>\n",
       "      <td>15</td>\n",
       "      <td>200</td>\n",
       "      <td>200</td>\n",
       "      <td>0.0036</td>\n",
       "      <td>0</td>\n",
       "      <td>50</td>\n",
       "    </tr>\n",
       "    <tr>\n",
       "      <th>2020-05-19 17:03:05.653555</th>\n",
       "      <td>run_2020_May_19_17_03_05_653555</td>\n",
       "      <td>00:07:01</td>\n",
       "      <td>00:06:27</td>\n",
       "      <td>0.526</td>\n",
       "      <td>0.537</td>\n",
       "      <td>0.533</td>\n",
       "      <td>0.6986</td>\n",
       "      <td>0.0704</td>\n",
       "      <td>12</td>\n",
       "      <td>10</td>\n",
       "      <td>8</td>\n",
       "      <td>6</td>\n",
       "      <td>6</td>\n",
       "      <td>200</td>\n",
       "      <td>200</td>\n",
       "      <td>0.0073</td>\n",
       "      <td>0</td>\n",
       "      <td>50</td>\n",
       "    </tr>\n",
       "    <tr>\n",
       "      <th>2020-05-19 17:10:31.817967</th>\n",
       "      <td>run_2020_May_19_17_10_31_817967</td>\n",
       "      <td>00:07:06</td>\n",
       "      <td>00:07:06</td>\n",
       "      <td>0.526</td>\n",
       "      <td>0.535</td>\n",
       "      <td>0.522</td>\n",
       "      <td>0.6986</td>\n",
       "      <td>0.0704</td>\n",
       "      <td>12</td>\n",
       "      <td>10</td>\n",
       "      <td>8</td>\n",
       "      <td>6</td>\n",
       "      <td>6</td>\n",
       "      <td>200</td>\n",
       "      <td>200</td>\n",
       "      <td>0.0073</td>\n",
       "      <td>0</td>\n",
       "      <td>50</td>\n",
       "    </tr>\n",
       "    <tr>\n",
       "      <th>2020-05-19 18:39:36.208843</th>\n",
       "      <td>run_2020_May_19_18_39_36_208843</td>\n",
       "      <td>00:07:00</td>\n",
       "      <td>00:07:00</td>\n",
       "      <td>0.554</td>\n",
       "      <td>0.532</td>\n",
       "      <td>0.546</td>\n",
       "      <td>0.4325</td>\n",
       "      <td>0.7717</td>\n",
       "      <td>12</td>\n",
       "      <td>10</td>\n",
       "      <td>8</td>\n",
       "      <td>6</td>\n",
       "      <td>2</td>\n",
       "      <td>200</td>\n",
       "      <td>200</td>\n",
       "      <td>0.0087</td>\n",
       "      <td>0</td>\n",
       "      <td>50</td>\n",
       "    </tr>\n",
       "  </tbody>\n",
       "</table>\n",
       "</div>"
      ],
      "text/plain": [
       "                                                       name       tt      t2b  \\\n",
       "start                                                                           \n",
       "2020-05-19 17:40:04.711211  run_2020_May_19_17_40_04_711211 00:06:56 00:06:18   \n",
       "2020-05-19 17:47:12.533388  run_2020_May_19_17_47_12_533388 00:06:58 00:06:58   \n",
       "2020-05-19 17:03:05.653555  run_2020_May_19_17_03_05_653555 00:07:01 00:06:27   \n",
       "2020-05-19 17:10:31.817967  run_2020_May_19_17_10_31_817967 00:07:06 00:07:06   \n",
       "2020-05-19 18:39:36.208843  run_2020_May_19_18_39_36_208843 00:07:00 00:07:00   \n",
       "\n",
       "                               ba    bva     la  combine_chance  \\\n",
       "start                                                             \n",
       "2020-05-19 17:40:04.711211  0.542  0.557  0.539          0.7866   \n",
       "2020-05-19 17:47:12.533388  0.536  0.550  0.538          0.9484   \n",
       "2020-05-19 17:03:05.653555  0.526  0.537  0.533          0.6986   \n",
       "2020-05-19 17:10:31.817967  0.526  0.535  0.522          0.6986   \n",
       "2020-05-19 18:39:36.208843  0.554  0.532  0.546          0.4325   \n",
       "\n",
       "                            crossover_chance  dec_f0  dec_f1  dec_f2  dec_f3  \\\n",
       "start                                                                          \n",
       "2020-05-19 17:40:04.711211            0.5402      12      10       8       6   \n",
       "2020-05-19 17:47:12.533388            0.7651      12      10       8       6   \n",
       "2020-05-19 17:03:05.653555            0.0704      12      10       8       6   \n",
       "2020-05-19 17:10:31.817967            0.0704      12      10       8       6   \n",
       "2020-05-19 18:39:36.208843            0.7717      12      10       8       6   \n",
       "\n",
       "                            exp_power  generation_size  generations  \\\n",
       "start                                                                 \n",
       "2020-05-19 17:40:04.711211         15              200          200   \n",
       "2020-05-19 17:47:12.533388         15              200          200   \n",
       "2020-05-19 17:03:05.653555          6              200          200   \n",
       "2020-05-19 17:10:31.817967          6              200          200   \n",
       "2020-05-19 18:39:36.208843          2              200          200   \n",
       "\n",
       "                            mutate_chance  seed  subsample_size  \n",
       "start                                                            \n",
       "2020-05-19 17:40:04.711211         0.0037     0              50  \n",
       "2020-05-19 17:47:12.533388         0.0036     0              50  \n",
       "2020-05-19 17:03:05.653555         0.0073     0              50  \n",
       "2020-05-19 17:10:31.817967         0.0073     0              50  \n",
       "2020-05-19 18:39:36.208843         0.0087     0              50  "
      ]
     },
     "execution_count": 67,
     "metadata": {},
     "output_type": "execute_result"
    }
   ],
   "source": [
    "df.sort_values(by='bva', ascending=False)[:5]"
   ]
  },
  {
   "cell_type": "code",
   "execution_count": 66,
   "metadata": {
    "execution": {
     "iopub.execute_input": "2020-05-19T15:49:49.019440Z",
     "iopub.status.busy": "2020-05-19T15:49:49.019144Z",
     "iopub.status.idle": "2020-05-19T15:49:50.922459Z",
     "shell.execute_reply": "2020-05-19T15:49:50.921879Z",
     "shell.execute_reply.started": "2020-05-19T15:49:49.019402Z"
    }
   },
   "outputs": [
    {
     "data": {
      "image/png": "[encoded data removed]",
      "text/plain": [
       "<Figure size 1080x576 with 1 Axes>"
      ]
     },
     "metadata": {
      "needs_background": "light"
     },
     "output_type": "display_data"
    }
   ],
   "source": [
    "rs = bp.exps\n",
    "f, a = plt.subplots(1, figsize=(15,8))\n",
    "#l_lim, r_lim = 0, 1000\n",
    "\n",
    "rsp = [r for r in rs if r.name in plot_df.name.values]\n",
    "\n",
    "[plot_run(r, col='val_acc', ax=a, window=15) for r in rsp]\n",
    "\n",
    "#a.legend([r.name for r in rsp])\n",
    "#axs.legend(['Validation', 'Train'])\n",
    "\n",
    "#a.set_xticks(np.arange(l_lim, 700, 10))\n",
    "#a.set_yticks(np.arange(0.1, .9, 0.05))\n",
    "plt.ylim(.2,.55)\n",
    "plt.grid()"
   ]
  },
  {
   "cell_type": "code",
   "execution_count": null,
   "metadata": {},
   "outputs": [],
   "source": []
  },
  {
   "cell_type": "code",
   "execution_count": null,
   "metadata": {},
   "outputs": [],
   "source": []
  },
  {
   "cell_type": "markdown",
   "metadata": {
    "execution": {
     "iopub.execute_input": "2020-05-15T08:17:13.031204Z",
     "iopub.status.busy": "2020-05-15T08:17:13.030909Z",
     "iopub.status.idle": "2020-05-15T08:17:13.033826Z",
     "shell.execute_reply": "2020-05-15T08:17:13.033386Z",
     "shell.execute_reply.started": "2020-05-15T08:17:13.031167Z"
    }
   },
   "source": [
    "# Exports"
   ]
  },
  {
   "cell_type": "code",
   "execution_count": 11,
   "metadata": {
    "ExecuteTime": {
     "end_time": "2020-05-15T19:27:58.095241Z",
     "start_time": "2020-05-15T19:27:57.909654Z"
    },
    "execution": {
     "iopub.execute_input": "2020-05-18T12:52:57.059387Z",
     "iopub.status.busy": "2020-05-18T12:52:57.059067Z",
     "iopub.status.idle": "2020-05-18T12:52:57.283215Z",
     "shell.execute_reply": "2020-05-18T12:52:57.282636Z",
     "shell.execute_reply.started": "2020-05-18T12:52:57.059330Z"
    }
   },
   "outputs": [
    {
     "name": "stdout",
     "output_type": "stream",
     "text": [
      "Converted gen_exp.ipynb to exp/nb_gen_exp.py\n"
     ]
    }
   ],
   "source": [
    "!python3 extra/n2s.py gen_exp.ipynb "
   ]
  },
  {
   "cell_type": "code",
   "execution_count": null,
   "metadata": {},
   "outputs": [],
   "source": []
  }
 ],
 "metadata": {
  "kernelspec": {
   "display_name": "Python 3",
   "language": "python",
   "name": "python3"
  },
  "language_info": {
   "codemirror_mode": {
    "name": "ipython",
    "version": 3
   },
   "file_extension": ".py",
   "mimetype": "text/x-python",
   "name": "python",
   "nbconvert_exporter": "python",
   "pygments_lexer": "ipython3",
   "version": "3.6.9"
  }
 },
 "nbformat": 4,
 "nbformat_minor": 4
}
