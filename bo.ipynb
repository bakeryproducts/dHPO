{
 "cells": [
  {
   "cell_type": "markdown",
   "metadata": {
    "execution": {
     "iopub.execute_input": "2020-05-18T09:31:05.770602Z",
     "iopub.status.busy": "2020-05-18T09:31:05.770273Z",
     "iopub.status.idle": "2020-05-18T09:31:05.773585Z",
     "shell.execute_reply": "2020-05-18T09:31:05.772966Z",
     "shell.execute_reply.started": "2020-05-18T09:31:05.770559Z"
    }
   },
   "source": [
    "# Imports"
   ]
  },
  {
   "cell_type": "code",
   "execution_count": 1,
   "metadata": {
    "execution": {
     "iopub.execute_input": "2020-05-21T16:50:43.559891Z",
     "iopub.status.busy": "2020-05-21T16:50:43.559674Z",
     "iopub.status.idle": "2020-05-21T16:50:44.740589Z",
     "shell.execute_reply": "2020-05-21T16:50:44.740051Z",
     "shell.execute_reply.started": "2020-05-21T16:50:43.559864Z"
    }
   },
   "outputs": [],
   "source": [
    "#export\n",
    "import os\n",
    "import sys\n",
    "sys.path.append(os.path.join(os.getcwd(),'exp'))\n",
    "\n",
    "import yaml\n",
    "import json\n",
    "import numpy as np\n",
    "from pprint import pprint\n",
    "from skopt import Optimizer\n",
    "from skopt.space import Real, Integer\n",
    "from collections import Mapping, defaultdict, OrderedDict\n",
    "\n",
    "from config import cfg"
   ]
  },
  {
   "cell_type": "code",
   "execution_count": 2,
   "metadata": {
    "execution": {
     "iopub.execute_input": "2020-05-21T16:50:44.760986Z",
     "iopub.status.busy": "2020-05-21T16:50:44.759252Z",
     "iopub.status.idle": "2020-05-21T16:50:45.079925Z",
     "shell.execute_reply": "2020-05-21T16:50:45.077605Z",
     "shell.execute_reply.started": "2020-05-21T16:50:44.760955Z"
    }
   },
   "outputs": [],
   "source": [
    "import matplotlib.pyplot as plt\n",
    "%matplotlib inline"
   ]
  },
  {
   "cell_type": "markdown",
   "metadata": {},
   "source": [
    "# Code"
   ]
  },
  {
   "cell_type": "code",
   "execution_count": 3,
   "metadata": {
    "execution": {
     "iopub.execute_input": "2020-05-21T16:50:45.085694Z",
     "iopub.status.busy": "2020-05-21T16:50:45.081926Z",
     "iopub.status.idle": "2020-05-21T16:50:45.101974Z",
     "shell.execute_reply": "2020-05-21T16:50:45.101326Z",
     "shell.execute_reply.started": "2020-05-21T16:50:45.085663Z"
    }
   },
   "outputs": [],
   "source": [
    "#export\n",
    "def dict_merge(dct, merge_dct):\n",
    "    for k, v in merge_dct.items():\n",
    "        if (k in dct and isinstance(dct[k], dict)\n",
    "                and isinstance(merge_dct[k], Mapping)):\n",
    "            dict_merge(dct[k], merge_dct[k])\n",
    "        else:\n",
    "            dct[k] = merge_dct[k]\n",
    "\n",
    "def create_nested(k, v, sep='|'):\n",
    "    d = defaultdict(dict)\n",
    "    nested = d\n",
    "    for i in k.split(sep)[:-1]:\n",
    "        nested.setdefault(i, {})\n",
    "        nested = nested[i]\n",
    "    nested[k.split('|')[-1]] = v\n",
    "    return d"
   ]
  },
  {
   "cell_type": "code",
   "execution_count": 4,
   "metadata": {
    "execution": {
     "iopub.execute_input": "2020-05-21T16:50:45.103612Z",
     "iopub.status.busy": "2020-05-21T16:50:45.103280Z",
     "iopub.status.idle": "2020-05-21T16:50:45.118314Z",
     "shell.execute_reply": "2020-05-21T16:50:45.117895Z",
     "shell.execute_reply.started": "2020-05-21T16:50:45.103581Z"
    }
   },
   "outputs": [],
   "source": [
    "#export\n",
    "class BaseConfigBo:\n",
    "    def __init__(self, n):\n",
    "        self.n_points = n\n",
    "        \n",
    "    def read_params(self, params):\n",
    "        bounds = {}\n",
    "        for name, settings in params.items():\n",
    "            if settings['default'] is not None: continue\n",
    "            space_args = {}\n",
    "            space_type = Real if settings['type'] is float else Integer\n",
    "            space_args['low'],space_args['high'] = settings['bounds'][0], settings['bounds'][1]\n",
    "            space_args['prior'] = settings['prior']\n",
    "            bounds[name] = space_type(**space_args)\n",
    "        \n",
    "        bounds = [bounds[k] for k in sorted(bounds)]\n",
    "        return bounds\n",
    "    \n",
    "    def init_opt(self, bounds):\n",
    "        return Optimizer(\n",
    "                    dimensions=bounds,\n",
    "                    random_state=1,\n",
    "                    base_estimator='gp',\n",
    "                    n_initial_points=2*self.n_points)\n",
    "        \n",
    "    def register(self, o, hp_points, boparams):\n",
    "        NEGATIVE = -1\n",
    "        for hp_point in hp_points:\n",
    "            points = hp_point['points']\n",
    "            x = []\n",
    "            for k1, k2 in zip(sorted(points), boparams):\n",
    "                if k1 == k2: x.append(points[k1])\n",
    "                else:\n",
    "                    print('keys mismatch: ', k1, k2)\n",
    "                    raise ValueError\n",
    "            y = NEGATIVE * hp_point['target']\n",
    "            try:\n",
    "                o.tell(x, y)\n",
    "                print(f'Registrating: {x}, {y}')\n",
    "            except ValueError as v:\n",
    "                print(f'\\n\\n\\tWARNING, point is out of bounds: {v}')\n",
    "        \n",
    "    def get_values(self, o, names):\n",
    "        o.update_next()\n",
    "        set_points = o.ask(n_points=self.n_points)\n",
    "        all_points = []\n",
    "        for points in set_points:\n",
    "            ps = {}\n",
    "            for n,p  in zip(names, points):\n",
    "                t = self.params[n]['type']\n",
    "                ps[n] = t(p)\n",
    "            all_points.append(ps)   \n",
    "        #points = [{n:p for n,p in zip(names, points)} for points in set_points]\n",
    "        return all_points\n",
    "    \n",
    "    def init_warmups(self,  warm_list, boparams):\n",
    "        warmups = []\n",
    "        if warm_list:\n",
    "            for w in warm_list:\n",
    "                warmups.extend(self.read_warmup(w, boparams))\n",
    "        return warmups\n",
    "    \n",
    "    def read_warmup(self, warmup, boparams):\n",
    "        if not warmup:\n",
    "            return []\n",
    "        with open(warmup, 'r') as f:\n",
    "            data = json.load(f)\n",
    "        cleared_data = []\n",
    "        for hppoint in data:\n",
    "            points = hppoint['points']\n",
    "            hpkeys = set(points.keys())\n",
    "            if hpkeys.intersection(boparams) != set(boparams):\n",
    "                return cleared_data\n",
    "            \n",
    "            cleared_point = {}\n",
    "            for p in boparams:\n",
    "                cleared_point[p] = points[p]\n",
    "            cleared_data.append({'points':cleared_point, 'target':hppoint['target']})\n",
    "        return cleared_data\n",
    "    \n",
    "    def create_state(self, points, idx):\n",
    "        points = points.copy()\n",
    "        o = self.init_opt(self.bounds)\n",
    "        points.extend(self.warmup)\n",
    "        if points: self.register(o, points, self.boparams)\n",
    "        \n",
    "        list_of_new_params = self.get_values(o, self.boparams)\n",
    "        new_params = list_of_new_params[idx]\n",
    "        pprint(new_params, indent=4)\n",
    "        \n",
    "        cfg = {}\n",
    "        for name, settings in self.params.items():\n",
    "            new_value = new_params[name] if not settings['default'] else settings['default']\n",
    "            sub_cfg = create_nested(name, settings['type'](new_value))\n",
    "            dict_merge(cfg, sub_cfg)\n",
    "        \n",
    "        return new_params, cfg\n",
    "    \n",
    "class Bo(BaseConfigBo):\n",
    "    def __init__(self, params, warm_list, *args, **kwargs):\n",
    "        super(Bo, self).__init__(*args, **kwargs)\n",
    "        self.params =  OrderedDict(sorted(params.items(), key=lambda x:x[0], reverse=False))\n",
    "        self.boparams = [k for k in self.params if self.params[k]['default'] is None]\n",
    "        self.bounds = self.read_params(self.params)\n",
    "        self.warmup = self.init_warmups(warm_list, self.boparams)    "
   ]
  },
  {
   "cell_type": "markdown",
   "metadata": {
    "collapsed": "true",
    "execution": {
     "iopub.execute_input": "2020-05-18T09:31:16.770884Z",
     "iopub.status.busy": "2020-05-18T09:31:16.770599Z",
     "iopub.status.idle": "2020-05-18T09:31:16.773389Z",
     "shell.execute_reply": "2020-05-18T09:31:16.772893Z",
     "shell.execute_reply.started": "2020-05-18T09:31:16.770848Z"
    }
   },
   "source": [
    "# Tests"
   ]
  },
  {
   "cell_type": "code",
   "execution_count": 35,
   "metadata": {
    "execution": {
     "iopub.execute_input": "2020-05-21T15:06:25.226789Z",
     "iopub.status.busy": "2020-05-21T15:06:25.226599Z",
     "iopub.status.idle": "2020-05-21T15:06:25.231237Z",
     "shell.execute_reply": "2020-05-21T15:06:25.230752Z",
     "shell.execute_reply.started": "2020-05-21T15:06:25.226759Z"
    }
   },
   "outputs": [],
   "source": [
    "# points = [{'params':{'e':1,  'a':2},'target':0.1},\n",
    "#           {'params':{'e':1,  'a':2},'target':0.2},\n",
    "#           {'params':{'e':1,'a':2},'target':0.5},\n",
    "#           {'params':{'e':1.2,'d':2},'target':0.0},\n",
    "#           {'params':{'e':330,'k':2},'target':0.2}\n",
    "#          ]\n",
    "\n",
    "points = [\n",
    "    {'params': {'cr': 0.9885257859302491}, 'target': 0.577763631939888},\n",
    "    {'params': {'cr': 0.9885660456872435}, 'target': 0.5584937930107117},\n",
    "    {'params': {'cr': 0.010119437482166772}, 'target': 0.5518008545041084},\n",
    "    {'params': {'cr': 0.0101559066291012}, 'target': 0.5431795716285706},\n",
    "    {'params': {'cr': 0.9899404424902588}, 'target': 0.5732786804437637},\n",
    "    {'params': {'cr': 0.9893949599413431}, 'target': 0.5737223923206329},\n",
    "    {'params': {'cr': 0.9898670833454175}, 'target': 0.5675030797719955},\n",
    "    {'params': {'cr': 0.3092491872609939}, 'target': 0.5605851411819458},\n",
    "    {'params': {'cr': 0.6836879323470609}, 'target': 0.567135363817215},\n",
    "    {'params': {'cr': 0.5175112773164423}, 'target': 0.5583183616399765},\n",
    "    {'params': {'cr': 0.010109605687386128}, 'target': 0.5333066955208778}\n",
    "]"
   ]
  },
  {
   "cell_type": "code",
   "execution_count": 36,
   "metadata": {
    "execution": {
     "iopub.execute_input": "2020-05-21T15:06:25.449594Z",
     "iopub.status.busy": "2020-05-21T15:06:25.449389Z",
     "iopub.status.idle": "2020-05-21T15:06:25.452985Z",
     "shell.execute_reply": "2020-05-21T15:06:25.452559Z",
     "shell.execute_reply.started": "2020-05-21T15:06:25.449564Z"
    }
   },
   "outputs": [],
   "source": [
    "bounds = [Real(10,15, transform='normalize')]"
   ]
  },
  {
   "cell_type": "code",
   "execution_count": 26,
   "metadata": {
    "execution": {
     "iopub.execute_input": "2020-05-21T13:38:08.065181Z",
     "iopub.status.busy": "2020-05-21T13:38:08.064934Z",
     "iopub.status.idle": "2020-05-21T13:38:08.070315Z",
     "shell.execute_reply": "2020-05-21T13:38:08.069859Z",
     "shell.execute_reply.started": "2020-05-21T13:38:08.065147Z"
    }
   },
   "outputs": [],
   "source": [
    "o = Optimizer(   dimensions=bounds,\n",
    "            random_state=1,\n",
    "            base_estimator='gp',\n",
    "            n_initial_points=3)"
   ]
  },
  {
   "cell_type": "code",
   "execution_count": 22,
   "metadata": {
    "execution": {
     "iopub.execute_input": "2020-05-20T15:42:26.680394Z",
     "iopub.status.busy": "2020-05-20T15:42:26.680116Z",
     "iopub.status.idle": "2020-05-20T15:42:26.684699Z",
     "shell.execute_reply": "2020-05-20T15:42:26.684104Z",
     "shell.execute_reply.started": "2020-05-20T15:42:26.680342Z"
    }
   },
   "outputs": [
    {
     "data": {
      "text/plain": [
       "[14.231554583430086]"
      ]
     },
     "execution_count": 22,
     "metadata": {},
     "output_type": "execute_result"
    }
   ],
   "source": [
    "o.ask()"
   ]
  },
  {
   "cell_type": "code",
   "execution_count": 18,
   "metadata": {
    "execution": {
     "iopub.execute_input": "2020-05-20T15:42:22.228030Z",
     "iopub.status.busy": "2020-05-20T15:42:22.227749Z",
     "iopub.status.idle": "2020-05-20T15:42:22.232716Z",
     "shell.execute_reply": "2020-05-20T15:42:22.232202Z",
     "shell.execute_reply.started": "2020-05-20T15:42:22.227994Z"
    }
   },
   "outputs": [
    {
     "data": {
      "text/plain": [
       "          fun: 1\n",
       "    func_vals: array([1])\n",
       "       models: []\n",
       " random_state: RandomState(MT19937) at 0x7F9C8F01F048\n",
       "        space: Space([Real(low=10, high=15, prior='uniform', transform='normalize')])\n",
       "        specs: None\n",
       "            x: [11.982903636480131]\n",
       "      x_iters: [[11.982903636480131]]"
      ]
     },
     "execution_count": 18,
     "metadata": {},
     "output_type": "execute_result"
    }
   ],
   "source": [
    "o.tell([11.982903636480131], 1)"
   ]
  },
  {
   "cell_type": "code",
   "execution_count": 65,
   "metadata": {
    "execution": {
     "iopub.execute_input": "2020-05-18T16:05:01.181443Z",
     "iopub.status.busy": "2020-05-18T16:05:01.181219Z",
     "iopub.status.idle": "2020-05-18T16:05:01.183865Z",
     "shell.execute_reply": "2020-05-18T16:05:01.183461Z",
     "shell.execute_reply.started": "2020-05-18T16:05:01.181413Z"
    }
   },
   "outputs": [],
   "source": [
    "from random import shuffle"
   ]
  },
  {
   "cell_type": "code",
   "execution_count": 66,
   "metadata": {
    "execution": {
     "iopub.execute_input": "2020-05-18T16:05:01.644669Z",
     "iopub.status.busy": "2020-05-18T16:05:01.644440Z",
     "iopub.status.idle": "2020-05-18T16:05:01.647355Z",
     "shell.execute_reply": "2020-05-18T16:05:01.646929Z",
     "shell.execute_reply.started": "2020-05-18T16:05:01.644639Z"
    }
   },
   "outputs": [],
   "source": [
    "p1 = {'name':'cr', 'bounds':(0.01,.99)}\n",
    "shuffle(points)"
   ]
  },
  {
   "cell_type": "code",
   "execution_count": null,
   "metadata": {},
   "outputs": [],
   "source": []
  },
  {
   "cell_type": "markdown",
   "metadata": {
    "execution": {
     "iopub.execute_input": "2020-05-19T04:54:50.430211Z",
     "iopub.status.busy": "2020-05-19T04:54:50.429957Z",
     "iopub.status.idle": "2020-05-19T04:54:50.432632Z",
     "shell.execute_reply": "2020-05-19T04:54:50.432208Z",
     "shell.execute_reply.started": "2020-05-19T04:54:50.430179Z"
    }
   },
   "source": [
    "# More Tests"
   ]
  },
  {
   "cell_type": "code",
   "execution_count": 7,
   "metadata": {
    "execution": {
     "iopub.execute_input": "2020-05-21T16:51:20.336664Z",
     "iopub.status.busy": "2020-05-21T16:51:20.336407Z",
     "iopub.status.idle": "2020-05-21T16:51:20.346868Z",
     "shell.execute_reply": "2020-05-21T16:51:20.346321Z",
     "shell.execute_reply.started": "2020-05-21T16:51:20.336630Z"
    }
   },
   "outputs": [],
   "source": [
    "#export\n",
    "n_parallel_processes = len(cfg.GPUS.IDS)\n",
    "warm_list = ['/home/sokolov/work/cycler/dHPO/2020_May_21_18_34_23_hp.json']\n",
    "\n",
    "params_static = {\n",
    "    'generations':{'default':200, 'type':int},\n",
    "}\n",
    "params_genom = {\n",
    "            'genom|mutate_chance':{'bounds':(0,.05), 'type':float, 'prior':'uniform', 'default':None},\n",
    "            'genom|crossover_chance':{'bounds':(0,1), 'type':float, 'prior':'uniform', 'default':None},\n",
    "            'genom|combine_chance':{'bounds':(0,1), 'type':float, 'prior':'uniform', 'default':None},\n",
    "            }\n",
    "params_post = {\n",
    "    'post|exp_power':{'bounds':(1,15), 'type':int, 'prior':'uniform', 'default':None},\n",
    "}\n",
    "\n",
    "p_all = {}\n",
    "[dict_merge(p_all, d) for d in [params_static, params_genom, params_post]]\n",
    "b1 = Bo(n=n_parallel_processes, params=p_all, warm_list=warm_list)\n",
    "\n",
    "b2 = Bo(n=n_parallel_processes, params=params_post, warm_list=warm_list)\n",
    "\n",
    "\n",
    "def bo_all(**kwargs):\n",
    "    inner_state, new_state=bo_all.create_state(points=kwargs['hp_points'], idx=kwargs['idx'])\n",
    "    return run(new_state=new_state, inner_state=inner_state, **kwargs)\n",
    "\n",
    "def bo_exp(**kwargs):\n",
    "    inner_state, new_state=bo_exp.create_state(points=kwargs['hp_points'], idx=kwargs['idx'])\n",
    "    return run(new_state=new_state, inner_state=inner_state, **kwargs)"
   ]
  },
  {
   "cell_type": "code",
   "execution_count": 9,
   "metadata": {
    "execution": {
     "iopub.execute_input": "2020-05-21T16:51:24.075536Z",
     "iopub.status.busy": "2020-05-21T16:51:24.075279Z",
     "iopub.status.idle": "2020-05-21T16:51:24.079337Z",
     "shell.execute_reply": "2020-05-21T16:51:24.078833Z",
     "shell.execute_reply.started": "2020-05-21T16:51:24.075502Z"
    }
   },
   "outputs": [
    {
     "data": {
      "text/plain": [
       "<__main__.Bo at 0x7f06f6153b70>"
      ]
     },
     "execution_count": 9,
     "metadata": {},
     "output_type": "execute_result"
    }
   ],
   "source": [
    "b1"
   ]
  },
  {
   "cell_type": "code",
   "execution_count": null,
   "metadata": {},
   "outputs": [],
   "source": []
  },
  {
   "cell_type": "code",
   "execution_count": null,
   "metadata": {},
   "outputs": [],
   "source": []
  },
  {
   "cell_type": "code",
   "execution_count": 11,
   "metadata": {
    "execution": {
     "iopub.execute_input": "2020-05-21T16:51:36.548715Z",
     "iopub.status.busy": "2020-05-21T16:51:36.548488Z",
     "iopub.status.idle": "2020-05-21T16:51:36.555316Z",
     "shell.execute_reply": "2020-05-21T16:51:36.554817Z",
     "shell.execute_reply.started": "2020-05-21T16:51:36.548691Z"
    }
   },
   "outputs": [],
   "source": [
    "points = [{'points':{'genom|crossover_chance': 0.493, 'post|exp_power': 1.14, 'genom|combine_chance':.2}, 'target':0.3},\n",
    "         { 'points':{'genom|crossover_chance': 0.6985, 'post|exp_power': 1.1, 'genom|combine_chance':.9}, 'target':.4},\n",
    "           { 'points':{'genom|crossover_chance': 0.67, 'post|exp_power': 1.5, 'genom|combine_chance':.5}, 'target':.4},\n",
    "         ]\n",
    "\n",
    "# points = [{'points':{'cr': 0.493, 'mc': .014, 'co':.2}, 'target':0.3},\n",
    "#          { 'points':{'cr': 0.6985, 'mc': .01, 'co':.9}, 'target':.4},\n",
    "#            { 'points':{'cr': 0.67, 'mc': .5, 'co':.5}, 'target':.4},\n",
    "#          ]\n",
    "points = [{\"points\":{   'genom|combine_chance': 0.702644992444359,\n",
    "    'genom|crossover_chance': 0.061651731814223246,\n",
    "    'genom|mutate_chance': 0.01884459380869284,\n",
    "    'post|exp_power': 3}, 'target':.1}]\n",
    "af = {\n",
    "    'hp_points':points,\n",
    "    'idx':0\n",
    "}"
   ]
  },
  {
   "cell_type": "code",
   "execution_count": 12,
   "metadata": {
    "execution": {
     "iopub.execute_input": "2020-05-21T16:51:36.993838Z",
     "iopub.status.busy": "2020-05-21T16:51:36.993636Z",
     "iopub.status.idle": "2020-05-21T16:51:36.997480Z",
     "shell.execute_reply": "2020-05-21T16:51:36.997066Z",
     "shell.execute_reply.started": "2020-05-21T16:51:36.993815Z"
    }
   },
   "outputs": [],
   "source": [
    "n_parallel_processes = len(cfg.GPUS.IDS)\n",
    "warm_list = None\n",
    "\n",
    "b2 = Bo(n=n_parallel_processes, params=params_post, warm_list=warm_list)"
   ]
  },
  {
   "cell_type": "code",
   "execution_count": 13,
   "metadata": {
    "execution": {
     "iopub.execute_input": "2020-05-21T16:51:37.527721Z",
     "iopub.status.busy": "2020-05-21T16:51:37.527483Z",
     "iopub.status.idle": "2020-05-21T16:51:42.160628Z",
     "shell.execute_reply": "2020-05-21T16:51:42.160136Z",
     "shell.execute_reply.started": "2020-05-21T16:51:37.527690Z"
    }
   },
   "outputs": [
    {
     "name": "stdout",
     "output_type": "stream",
     "text": [
      "Registrating: [0.702644992444359, 0.061651731814223246, 0.01884459380869284, 3], -0.1\n",
      "Registrating: [0.702644992444359, 0.061651731814223246, 0.01884459380869284, 3], -0.47418662160634995\n",
      "Registrating: [0.49317547373314585, 0.8889254049717007, 0.0029243592954225524, 5], -0.5729198455810547\n",
      "Registrating: [0.47895657759933064, 0.6760874977543353, 0.015782121348437275, 15], -0.542678639292717\n",
      "Registrating: [0.702644992444359, 0.061651731814223246, 0.01884459380869284, 3], -0.4781750291585922\n",
      "Registrating: [0.49317547373314585, 0.8889254049717007, 0.0029243592954225524, 5], -0.574361115694046\n",
      "Registrating: [0.47895657759933064, 0.6760874977543353, 0.015782121348437275, 15], -0.5501270592212677\n",
      "{   'genom|combine_chance': 0.5173994830665458,\n",
      "    'genom|crossover_chance': 0.5100114319247788,\n",
      "    'genom|mutate_chance': 0.047197218994194205,\n",
      "    'post|exp_power': 2}\n"
     ]
    }
   ],
   "source": [
    "ns, ccfg = b1.create_state(points=af['hp_points'], idx=af['idx'])"
   ]
  },
  {
   "cell_type": "code",
   "execution_count": null,
   "metadata": {},
   "outputs": [],
   "source": []
  },
  {
   "cell_type": "code",
   "execution_count": 52,
   "metadata": {
    "execution": {
     "iopub.execute_input": "2020-05-21T15:16:26.809024Z",
     "iopub.status.busy": "2020-05-21T15:16:26.808764Z",
     "iopub.status.idle": "2020-05-21T15:16:26.812118Z",
     "shell.execute_reply": "2020-05-21T15:16:26.811686Z",
     "shell.execute_reply.started": "2020-05-21T15:16:26.808989Z"
    }
   },
   "outputs": [],
   "source": [
    "with open('t.yaml', 'w') as f:\n",
    "    json.dump(ns, f)"
   ]
  },
  {
   "cell_type": "code",
   "execution_count": null,
   "metadata": {},
   "outputs": [],
   "source": []
  },
  {
   "cell_type": "code",
   "execution_count": 11,
   "metadata": {
    "execution": {
     "iopub.execute_input": "2020-05-21T14:04:57.136749Z",
     "iopub.status.busy": "2020-05-21T14:04:57.136462Z",
     "iopub.status.idle": "2020-05-21T14:04:57.141224Z",
     "shell.execute_reply": "2020-05-21T14:04:57.140763Z",
     "shell.execute_reply.started": "2020-05-21T14:04:57.136714Z"
    }
   },
   "outputs": [],
   "source": [
    "with open('t.yaml', 'w') as f:\n",
    "    yaml.safe_dump(ccfg, f)"
   ]
  },
  {
   "cell_type": "code",
   "execution_count": null,
   "metadata": {},
   "outputs": [],
   "source": []
  },
  {
   "cell_type": "code",
   "execution_count": null,
   "metadata": {},
   "outputs": [],
   "source": []
  },
  {
   "cell_type": "code",
   "execution_count": null,
   "metadata": {},
   "outputs": [],
   "source": []
  },
  {
   "cell_type": "code",
   "execution_count": null,
   "metadata": {},
   "outputs": [],
   "source": [
    "for i in range(10):\n",
    "    x = optimizer.ask(n_points=4)  # x is a list of n_points points\n",
    "    y = Parallel(n_jobs=4)(delayed(branin)(v) for v in x)  # evaluate points in parallel\n",
    "    optimizer.tell(x, y)\n",
    "\n",
    "# takes ~ 20 sec to get here\n",
    "print(min(optimizer.yi))  # print the best objective found"
   ]
  },
  {
   "cell_type": "code",
   "execution_count": null,
   "metadata": {},
   "outputs": [],
   "source": []
  },
  {
   "cell_type": "markdown",
   "metadata": {
    "execution": {
     "iopub.execute_input": "2020-05-18T09:34:15.598673Z",
     "iopub.status.busy": "2020-05-18T09:34:15.598376Z",
     "iopub.status.idle": "2020-05-18T09:34:15.601219Z",
     "shell.execute_reply": "2020-05-18T09:34:15.600764Z",
     "shell.execute_reply.started": "2020-05-18T09:34:15.598636Z"
    }
   },
   "source": [
    "# Exports"
   ]
  },
  {
   "cell_type": "code",
   "execution_count": 14,
   "metadata": {
    "execution": {
     "iopub.execute_input": "2020-05-21T16:53:45.725505Z",
     "iopub.status.busy": "2020-05-21T16:53:45.725271Z",
     "iopub.status.idle": "2020-05-21T16:53:46.315892Z",
     "shell.execute_reply": "2020-05-21T16:53:46.315350Z",
     "shell.execute_reply.started": "2020-05-21T16:53:45.725479Z"
    }
   },
   "outputs": [
    {
     "name": "stdout",
     "output_type": "stream",
     "text": [
      "Converted bo.ipynb to exp/nb_bo.py\n"
     ]
    }
   ],
   "source": [
    "!python3 extra/n2s.py bo.ipynb"
   ]
  },
  {
   "cell_type": "code",
   "execution_count": null,
   "metadata": {},
   "outputs": [],
   "source": []
  }
 ],
 "metadata": {
  "kernelspec": {
   "display_name": "Python 3",
   "language": "python",
   "name": "python3"
  },
  "language_info": {
   "codemirror_mode": {
    "name": "ipython",
    "version": 3
   },
   "file_extension": ".py",
   "mimetype": "text/x-python",
   "name": "python",
   "nbconvert_exporter": "python",
   "pygments_lexer": "ipython3",
   "version": "3.6.9"
  }
 },
 "nbformat": 4,
 "nbformat_minor": 4
}
