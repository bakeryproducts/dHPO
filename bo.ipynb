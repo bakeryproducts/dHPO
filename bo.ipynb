{
 "cells": [
  {
   "cell_type": "markdown",
   "metadata": {
    "execution": {
     "iopub.execute_input": "2020-05-18T09:31:05.770602Z",
     "iopub.status.busy": "2020-05-18T09:31:05.770273Z",
     "iopub.status.idle": "2020-05-18T09:31:05.773585Z",
     "shell.execute_reply": "2020-05-18T09:31:05.772966Z",
     "shell.execute_reply.started": "2020-05-18T09:31:05.770559Z"
    }
   },
   "source": [
    "# Imports"
   ]
  },
  {
   "cell_type": "code",
   "execution_count": 25,
   "metadata": {
    "execution": {
     "iopub.execute_input": "2020-05-19T18:10:32.417524Z",
     "iopub.status.busy": "2020-05-19T18:10:32.417253Z",
     "iopub.status.idle": "2020-05-19T18:10:32.426052Z",
     "shell.execute_reply": "2020-05-19T18:10:32.424853Z",
     "shell.execute_reply.started": "2020-05-19T18:10:32.417488Z"
    }
   },
   "outputs": [],
   "source": [
    "#export\n",
    "import os\n",
    "import sys\n",
    "sys.path.append(os.path.join(os.getcwd(),'exp'))\n",
    "\n",
    "import numpy as np\n",
    "from pprint import pprint\n",
    "\n",
    "from skopt import Optimizer\n",
    "from skopt.space import Real\n",
    "#from bayes_opt import BayesianOptimization, UtilityFunction, SequentialDomainReductionTransformer\n",
    "\n",
    "from config import cfg"
   ]
  },
  {
   "cell_type": "code",
   "execution_count": 26,
   "metadata": {
    "execution": {
     "iopub.execute_input": "2020-05-19T18:10:32.572315Z",
     "iopub.status.busy": "2020-05-19T18:10:32.572137Z",
     "iopub.status.idle": "2020-05-19T18:10:32.577261Z",
     "shell.execute_reply": "2020-05-19T18:10:32.576773Z",
     "shell.execute_reply.started": "2020-05-19T18:10:32.572286Z"
    }
   },
   "outputs": [],
   "source": [
    "import matplotlib.pyplot as plt\n",
    "%matplotlib inline"
   ]
  },
  {
   "cell_type": "markdown",
   "metadata": {},
   "source": [
    "# Code"
   ]
  },
  {
   "cell_type": "code",
   "execution_count": 27,
   "metadata": {
    "execution": {
     "iopub.execute_input": "2020-05-19T18:10:33.481155Z",
     "iopub.status.busy": "2020-05-19T18:10:33.480856Z",
     "iopub.status.idle": "2020-05-19T18:10:33.491181Z",
     "shell.execute_reply": "2020-05-19T18:10:33.490638Z",
     "shell.execute_reply.started": "2020-05-19T18:10:33.481120Z"
    }
   },
   "outputs": [],
   "source": [
    "#export\n",
    "class BaseConfigBo:\n",
    "    def __init__(self, n):\n",
    "        self.n_points = n\n",
    "        \n",
    "    def get_values(self, o, names):\n",
    "        o.update_next()\n",
    "        set_points = o.ask(n_points=self.n_points)\n",
    "        points = [{n:p for n,p in zip(sorted(names), points)} for points in set_points]\n",
    "        return points\n",
    "    \n",
    "    def init_opt(self, bounds):\n",
    "        return Optimizer(\n",
    "                    dimensions=bounds,\n",
    "                    random_state=1,\n",
    "                    base_estimator='gp',\n",
    "                    n_initial_points=3*self.n_points)\n",
    "        \n",
    "    def register(self, o, hp_points):\n",
    "        NEGATIVE = -1\n",
    "        for hp_point in hp_points:\n",
    "            points = hp_point['points']\n",
    "            x = [points[k] for k in sorted(points)]\n",
    "            y = NEGATIVE * hp_point['target']\n",
    "            o.tell(x, y)\n",
    "            print(f'Registrating: {x}, {y}')\n",
    "            \n",
    "    def init_map(self):\n",
    "        raise NotImplementedError\n",
    "    \n",
    "    def read_params(self, params):\n",
    "        bounds = {}\n",
    "        space_type = Real\n",
    "        space_args = {'prior':'uniform', 'transform':None}\n",
    "        for p in params:\n",
    "            space_args['low'],space_args['high'] = p['bounds'][0], p['bounds'][1]\n",
    "            bounds[p['name']] = space_type(**space_args)\n",
    "        \n",
    "        bounds = [bounds[k] for k in sorted(bounds)]\n",
    "        return bounds\n",
    "    \n",
    "    def create_state(self, points, params, idx):\n",
    "        names = [p['name'] for p in params]\n",
    "        bounds = self.read_params(params)\n",
    "        o = self.init_opt(bounds)\n",
    "\n",
    "        if points:\n",
    "            self.register(o, points)\n",
    "        \n",
    "        new_params = self.get_values(o, names)\n",
    "        pprint(new_params, indent=4)\n",
    "        new_params = new_params[idx]\n",
    "        \n",
    "        params_map = self.init_map()\n",
    "        cfg = {}\n",
    "        for name, (full_name, p_type, default_value) in params_map.items():\n",
    "            value = new_params.get(name, default_value)\n",
    "            if value is not np.NaN:\n",
    "                cfg[full_name] = p_type(value)\n",
    "        return new_params, cfg"
   ]
  },
  {
   "cell_type": "markdown",
   "metadata": {
    "collapsed": "true",
    "execution": {
     "iopub.execute_input": "2020-05-18T09:31:16.770884Z",
     "iopub.status.busy": "2020-05-18T09:31:16.770599Z",
     "iopub.status.idle": "2020-05-18T09:31:16.773389Z",
     "shell.execute_reply": "2020-05-18T09:31:16.772893Z",
     "shell.execute_reply.started": "2020-05-18T09:31:16.770848Z"
    }
   },
   "source": [
    "# Tests"
   ]
  },
  {
   "cell_type": "code",
   "execution_count": 64,
   "metadata": {
    "execution": {
     "iopub.execute_input": "2020-05-18T16:05:00.869788Z",
     "iopub.status.busy": "2020-05-18T16:05:00.869527Z",
     "iopub.status.idle": "2020-05-18T16:05:00.874601Z",
     "shell.execute_reply": "2020-05-18T16:05:00.874161Z",
     "shell.execute_reply.started": "2020-05-18T16:05:00.869754Z"
    }
   },
   "outputs": [],
   "source": [
    "# points = [{'params':{'e':1,  'a':2},'target':0.1},\n",
    "#           {'params':{'e':1,  'a':2},'target':0.2},\n",
    "#           {'params':{'e':1,'a':2},'target':0.5},\n",
    "#           {'params':{'e':1.2,'d':2},'target':0.0},\n",
    "#           {'params':{'e':330,'k':2},'target':0.2}\n",
    "#          ]\n",
    "\n",
    "points = [\n",
    "    {'params': {'cr': 0.9885257859302491}, 'target': 0.577763631939888},\n",
    "    {'params': {'cr': 0.9885660456872435}, 'target': 0.5584937930107117},\n",
    "    {'params': {'cr': 0.010119437482166772}, 'target': 0.5518008545041084},\n",
    "    {'params': {'cr': 0.0101559066291012}, 'target': 0.5431795716285706},\n",
    "    {'params': {'cr': 0.9899404424902588}, 'target': 0.5732786804437637},\n",
    "    {'params': {'cr': 0.9893949599413431}, 'target': 0.5737223923206329},\n",
    "    {'params': {'cr': 0.9898670833454175}, 'target': 0.5675030797719955},\n",
    "    {'params': {'cr': 0.3092491872609939}, 'target': 0.5605851411819458},\n",
    "    {'params': {'cr': 0.6836879323470609}, 'target': 0.567135363817215},\n",
    "    {'params': {'cr': 0.5175112773164423}, 'target': 0.5583183616399765},\n",
    "    {'params': {'cr': 0.010109605687386128}, 'target': 0.5333066955208778}\n",
    "]"
   ]
  },
  {
   "cell_type": "code",
   "execution_count": 65,
   "metadata": {
    "execution": {
     "iopub.execute_input": "2020-05-18T16:05:01.181443Z",
     "iopub.status.busy": "2020-05-18T16:05:01.181219Z",
     "iopub.status.idle": "2020-05-18T16:05:01.183865Z",
     "shell.execute_reply": "2020-05-18T16:05:01.183461Z",
     "shell.execute_reply.started": "2020-05-18T16:05:01.181413Z"
    }
   },
   "outputs": [],
   "source": [
    "from random import shuffle"
   ]
  },
  {
   "cell_type": "code",
   "execution_count": 66,
   "metadata": {
    "execution": {
     "iopub.execute_input": "2020-05-18T16:05:01.644669Z",
     "iopub.status.busy": "2020-05-18T16:05:01.644440Z",
     "iopub.status.idle": "2020-05-18T16:05:01.647355Z",
     "shell.execute_reply": "2020-05-18T16:05:01.646929Z",
     "shell.execute_reply.started": "2020-05-18T16:05:01.644639Z"
    }
   },
   "outputs": [],
   "source": [
    "p1 = {'name':'cr', 'bounds':(0.01,.99)}\n",
    "shuffle(points)"
   ]
  },
  {
   "cell_type": "code",
   "execution_count": null,
   "metadata": {},
   "outputs": [],
   "source": []
  },
  {
   "cell_type": "markdown",
   "metadata": {
    "execution": {
     "iopub.execute_input": "2020-05-19T04:54:50.430211Z",
     "iopub.status.busy": "2020-05-19T04:54:50.429957Z",
     "iopub.status.idle": "2020-05-19T04:54:50.432632Z",
     "shell.execute_reply": "2020-05-19T04:54:50.432208Z",
     "shell.execute_reply.started": "2020-05-19T04:54:50.430179Z"
    }
   },
   "source": [
    "# More Tests"
   ]
  },
  {
   "cell_type": "code",
   "execution_count": 35,
   "metadata": {
    "execution": {
     "iopub.execute_input": "2020-05-19T18:12:05.857472Z",
     "iopub.status.busy": "2020-05-19T18:12:05.857171Z",
     "iopub.status.idle": "2020-05-19T18:12:05.864112Z",
     "shell.execute_reply": "2020-05-19T18:12:05.863617Z",
     "shell.execute_reply.started": "2020-05-19T18:12:05.857437Z"
    }
   },
   "outputs": [],
   "source": [
    "class Bo(BaseConfigBo):\n",
    "    def init_map(self):\n",
    "        return {\n",
    "            'g':('generations', int, 2),\n",
    "            'e':('exp_power', int, np.NaN),\n",
    "            'f0':('dec_f0', int, np.NaN),\n",
    "            'f1':('dec_f1', int, np.NaN),\n",
    "            'f2':('dec_f2', int, np.NaN),\n",
    "            'f3':('dec_f3', int, np.NaN),\n",
    "            'mc':('mutate_chance', float, np.NaN),\n",
    "            'cr':('crossover_chance', float, np.NaN),\n",
    "            'co':('combine_chance', float, np.NaN)\n",
    "        }\n",
    "\n",
    "n_parallel_processes = len(cfg.GPUS.IDS)\n",
    "bo = Bo(n_parallel_processes)\n",
    "p1 = {'name':'e', 'bounds':(1,15)}\n",
    "p2 = {'name':'cr', 'bounds':(0.01,0.99)}\n",
    "\n",
    "def bo_all(**kwargs):\n",
    "    inner_state, new_state=bo.create_state(points=kwargs['hp_points'], params=[p1, p2], idx=kwargs['idx'])\n",
    "    return run(new_state=new_state, inner_state=inner_state, **kwargs)\n",
    "\n",
    "def bo_exp(**kwargs):\n",
    "    inner_state, new_state=bo.create_state(points=kwargs['hp_points'], params=[p1], idx=kwargs['idx'])\n",
    "    return run(new_state=new_state, inner_state=inner_state, **kwargs)\n"
   ]
  },
  {
   "cell_type": "code",
   "execution_count": 36,
   "metadata": {
    "execution": {
     "iopub.execute_input": "2020-05-19T18:12:06.009320Z",
     "iopub.status.busy": "2020-05-19T18:12:06.009137Z",
     "iopub.status.idle": "2020-05-19T18:12:06.012444Z",
     "shell.execute_reply": "2020-05-19T18:12:06.011988Z",
     "shell.execute_reply.started": "2020-05-19T18:12:06.009291Z"
    }
   },
   "outputs": [],
   "source": [
    "points = [{'points':{'cr': 0.49331196425848295, 'e': 13.444955669603809}, 'target':0.3},\n",
    "         { 'points':{'cr': 0.6985920925954717, 'e': 1.8631242453991255}, 'target':.4},\n",
    "           { 'points':{'cr': 0.6798862910768056, 'e': 5.684491632815158}, 'target':.4},\n",
    "         ]\n",
    "#points=None"
   ]
  },
  {
   "cell_type": "code",
   "execution_count": 37,
   "metadata": {
    "execution": {
     "iopub.execute_input": "2020-05-19T18:12:06.369192Z",
     "iopub.status.busy": "2020-05-19T18:12:06.369000Z",
     "iopub.status.idle": "2020-05-19T18:12:06.378344Z",
     "shell.execute_reply": "2020-05-19T18:12:06.377968Z",
     "shell.execute_reply.started": "2020-05-19T18:12:06.369163Z"
    }
   },
   "outputs": [
    {
     "name": "stdout",
     "output_type": "stream",
     "text": [
      "reging: [0.49331196425848295, 13.444955669603809], -0.3\n",
      "reging: [0.6985920925954717, 1.8631242453991255], -0.4\n",
      "reging: [0.6798862910768056, 5.684491632815158], -0.4\n",
      "[   {'cr': 0.6985920925954717, 'e': 1.8631242453991255},\n",
      "    {'cr': 0.37935403865037964, 'e': 3.0390075355652435},\n",
      "    {'cr': 0.49331196425848295, 'e': 13.444955669603809}]\n"
     ]
    }
   ],
   "source": [
    "new, ncfg = bo.create_state(points=points, params=[p1,p2], idx=2)"
   ]
  },
  {
   "cell_type": "code",
   "execution_count": 33,
   "metadata": {
    "execution": {
     "iopub.execute_input": "2020-05-19T12:40:25.396405Z",
     "iopub.status.busy": "2020-05-19T12:40:25.396144Z",
     "iopub.status.idle": "2020-05-19T12:40:25.401434Z",
     "shell.execute_reply": "2020-05-19T12:40:25.401025Z",
     "shell.execute_reply.started": "2020-05-19T12:40:25.396370Z"
    }
   },
   "outputs": [
    {
     "data": {
      "text/plain": [
       "          fun: 0.4\n",
       "    func_vals: array([0.4])\n",
       "       models: [GaussianProcessRegressor(alpha=1e-10, copy_X_train=True,\n",
       "                         kernel=1**2 * Matern(length_scale=[1, 1], nu=2.5) + WhiteKernel(noise_level=1),\n",
       "                         n_restarts_optimizer=2, noise='gaussian',\n",
       "                         normalize_y=True, optimizer='fmin_l_bfgs_b',\n",
       "                         random_state=1791095845)]\n",
       " random_state: RandomState(MT19937) at 0x7F3D0B706150\n",
       "        space: Space([Real(low=0.01, high=0.99, prior='uniform', transform='normalize'),\n",
       "       Real(low=1, high=15, prior='uniform', transform='normalize')])\n",
       "        specs: None\n",
       "            x: [0.6985920925954717, 1.8631242453991255]\n",
       "      x_iters: [[0.6985920925954717, 1.8631242453991255]]"
      ]
     },
     "execution_count": 33,
     "metadata": {},
     "output_type": "execute_result"
    }
   ],
   "source": [
    "o.get_result()"
   ]
  },
  {
   "cell_type": "code",
   "execution_count": 99,
   "metadata": {
    "execution": {
     "iopub.execute_input": "2020-05-19T12:20:57.494909Z",
     "iopub.status.busy": "2020-05-19T12:20:57.494641Z",
     "iopub.status.idle": "2020-05-19T12:20:57.498390Z",
     "shell.execute_reply": "2020-05-19T12:20:57.497964Z",
     "shell.execute_reply.started": "2020-05-19T12:20:57.494874Z"
    }
   },
   "outputs": [
    {
     "data": {
      "text/plain": [
       "[[0.8237910319631421, 1.188286707127822]]"
      ]
     },
     "execution_count": 99,
     "metadata": {},
     "output_type": "execute_result"
    }
   ],
   "source": [
    "o.ask(1)"
   ]
  },
  {
   "cell_type": "code",
   "execution_count": 54,
   "metadata": {
    "execution": {
     "iopub.execute_input": "2020-05-19T12:17:18.647398Z",
     "iopub.status.busy": "2020-05-19T12:17:18.647125Z",
     "iopub.status.idle": "2020-05-19T12:17:18.650385Z",
     "shell.execute_reply": "2020-05-19T12:17:18.649735Z",
     "shell.execute_reply.started": "2020-05-19T12:17:18.647364Z"
    }
   },
   "outputs": [],
   "source": [
    "o.update_next()"
   ]
  },
  {
   "cell_type": "code",
   "execution_count": null,
   "metadata": {},
   "outputs": [],
   "source": []
  },
  {
   "cell_type": "code",
   "execution_count": null,
   "metadata": {},
   "outputs": [],
   "source": []
  },
  {
   "cell_type": "code",
   "execution_count": null,
   "metadata": {},
   "outputs": [],
   "source": []
  },
  {
   "cell_type": "code",
   "execution_count": null,
   "metadata": {},
   "outputs": [],
   "source": [
    "for i in range(10):\n",
    "    x = optimizer.ask(n_points=4)  # x is a list of n_points points\n",
    "    y = Parallel(n_jobs=4)(delayed(branin)(v) for v in x)  # evaluate points in parallel\n",
    "    optimizer.tell(x, y)\n",
    "\n",
    "# takes ~ 20 sec to get here\n",
    "print(min(optimizer.yi))  # print the best objective found"
   ]
  },
  {
   "cell_type": "code",
   "execution_count": null,
   "metadata": {},
   "outputs": [],
   "source": []
  },
  {
   "cell_type": "markdown",
   "metadata": {
    "execution": {
     "iopub.execute_input": "2020-05-18T09:34:15.598673Z",
     "iopub.status.busy": "2020-05-18T09:34:15.598376Z",
     "iopub.status.idle": "2020-05-18T09:34:15.601219Z",
     "shell.execute_reply": "2020-05-18T09:34:15.600764Z",
     "shell.execute_reply.started": "2020-05-18T09:34:15.598636Z"
    }
   },
   "source": [
    "# Exports"
   ]
  },
  {
   "cell_type": "code",
   "execution_count": 39,
   "metadata": {
    "execution": {
     "iopub.execute_input": "2020-05-19T19:14:48.610091Z",
     "iopub.status.busy": "2020-05-19T19:14:48.609813Z",
     "iopub.status.idle": "2020-05-19T19:14:48.801121Z",
     "shell.execute_reply": "2020-05-19T19:14:48.800343Z",
     "shell.execute_reply.started": "2020-05-19T19:14:48.610054Z"
    }
   },
   "outputs": [
    {
     "name": "stdout",
     "output_type": "stream",
     "text": [
      "Converted bo.ipynb to exp/nb_bo.py\n"
     ]
    }
   ],
   "source": [
    "!python3 extra/n2s.py bo.ipynb"
   ]
  },
  {
   "cell_type": "code",
   "execution_count": null,
   "metadata": {},
   "outputs": [],
   "source": []
  },
  {
   "cell_type": "code",
   "execution_count": null,
   "metadata": {},
   "outputs": [],
   "source": []
  },
  {
   "cell_type": "code",
   "execution_count": null,
   "metadata": {},
   "outputs": [],
   "source": []
  }
 ],
 "metadata": {
  "kernelspec": {
   "display_name": "Python 3",
   "language": "python",
   "name": "python3"
  },
  "language_info": {
   "codemirror_mode": {
    "name": "ipython",
    "version": 3
   },
   "file_extension": ".py",
   "mimetype": "text/x-python",
   "name": "python",
   "nbconvert_exporter": "python",
   "pygments_lexer": "ipython3",
   "version": "3.6.9"
  }
 },
 "nbformat": 4,
 "nbformat_minor": 4
}
