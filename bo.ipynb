{
 "cells": [
  {
   "cell_type": "markdown",
   "metadata": {
    "execution": {
     "iopub.execute_input": "2020-05-18T09:31:05.770602Z",
     "iopub.status.busy": "2020-05-18T09:31:05.770273Z",
     "iopub.status.idle": "2020-05-18T09:31:05.773585Z",
     "shell.execute_reply": "2020-05-18T09:31:05.772966Z",
     "shell.execute_reply.started": "2020-05-18T09:31:05.770559Z"
    }
   },
   "source": [
    "# Imports"
   ]
  },
  {
   "cell_type": "code",
   "execution_count": 1,
   "metadata": {
    "execution": {
     "iopub.execute_input": "2020-05-18T16:01:02.378202Z",
     "iopub.status.busy": "2020-05-18T16:01:02.378038Z",
     "iopub.status.idle": "2020-05-18T16:01:02.839922Z",
     "shell.execute_reply": "2020-05-18T16:01:02.839304Z",
     "shell.execute_reply.started": "2020-05-18T16:01:02.378175Z"
    }
   },
   "outputs": [],
   "source": [
    "#export\n",
    "from bayes_opt import BayesianOptimization, UtilityFunction, SequentialDomainReductionTransformer\n",
    "import numpy as np\n",
    "from pprint import pprint"
   ]
  },
  {
   "cell_type": "code",
   "execution_count": 2,
   "metadata": {
    "execution": {
     "iopub.execute_input": "2020-05-18T16:01:02.841121Z",
     "iopub.status.busy": "2020-05-18T16:01:02.840931Z",
     "iopub.status.idle": "2020-05-18T16:01:03.006609Z",
     "shell.execute_reply": "2020-05-18T16:01:03.005963Z",
     "shell.execute_reply.started": "2020-05-18T16:01:02.841092Z"
    }
   },
   "outputs": [],
   "source": [
    "import matplotlib.pyplot as plt\n",
    "%matplotlib inline"
   ]
  },
  {
   "cell_type": "markdown",
   "metadata": {},
   "source": [
    "# Code"
   ]
  },
  {
   "cell_type": "code",
   "execution_count": 55,
   "metadata": {
    "execution": {
     "iopub.execute_input": "2020-05-18T16:04:20.691641Z",
     "iopub.status.busy": "2020-05-18T16:04:20.691396Z",
     "iopub.status.idle": "2020-05-18T16:04:20.701184Z",
     "shell.execute_reply": "2020-05-18T16:04:20.700610Z",
     "shell.execute_reply.started": "2020-05-18T16:04:20.691609Z"
    }
   },
   "outputs": [],
   "source": [
    "#export\n",
    "def mean_duplicates(points):\n",
    "    uni_params = {}\n",
    "    targets = {}\n",
    "    for i, p in enumerate(points):\n",
    "        param, target = p['params'], p['target']\n",
    "        for k,v in uni_params.items():\n",
    "            if param == v:\n",
    "                targets[k].append(target)\n",
    "                break\n",
    "        else:\n",
    "            uni_params[i] = param\n",
    "            targets[i] = [target]\n",
    "\n",
    "    res = []\n",
    "    for k, v in uni_params.items():\n",
    "        res.append({'params':v, 'target':np.mean(targets[k])})\n",
    "\n",
    "    return res\n",
    "\n",
    "\n",
    "class BaseConfigBo:\n",
    "    def __init__(self):\n",
    "        self.utility = UtilityFunction(kind=\"ei\", kappa=1, xi=0.1)\n",
    "        \n",
    "    def get_values(self, optimizer):\n",
    "        return optimizer.suggest(self.utility)\n",
    "    \n",
    "    def init_opt(self, bounds):\n",
    "        return BayesianOptimization(f=None,\n",
    "                                    pbounds=bounds,\n",
    "                                   random_state=1)\n",
    "                                    #bounds_transformer=SequentialDomainReductionTransformer())\n",
    "        \n",
    "    def register(self, opt, points):\n",
    "        for point in points:\n",
    "            opt.register(\n",
    "                params=point['params'],\n",
    "                target=point['target'],)\n",
    "        \n",
    "    def init_map(self):\n",
    "        raise NotImplementedError\n",
    "    \n",
    "    def read_params(self, params):\n",
    "        bounds = {}\n",
    "        for p in params:\n",
    "            bounds[p['name']] = p['bounds']\n",
    "        return bounds\n",
    "    \n",
    "    def create_state(self, points, params):\n",
    "        bounds = self.read_params(params)\n",
    "        o = self.init_opt(bounds)\n",
    "        if points:\n",
    "            points = mean_duplicates(points)\n",
    "            #pprint(points, indent=4)\n",
    "            self.register(o, points)\n",
    "        print(o.res)\n",
    "        print([self.get_values(o) for i in range(10)])\n",
    "        new_params = self.get_values(o)\n",
    "        params_map = self.init_map()\n",
    "        cfg = {}\n",
    "        for name, (full_name, p_type, default_value) in params_map.items():\n",
    "            value = new_params.get(name, default_value)\n",
    "            if value is not np.NaN:\n",
    "                cfg[full_name] = p_type(value)\n",
    "        return new_params, cfg"
   ]
  },
  {
   "cell_type": "markdown",
   "metadata": {
    "collapsed": "true",
    "execution": {
     "iopub.execute_input": "2020-05-18T09:31:16.770884Z",
     "iopub.status.busy": "2020-05-18T09:31:16.770599Z",
     "iopub.status.idle": "2020-05-18T09:31:16.773389Z",
     "shell.execute_reply": "2020-05-18T09:31:16.772893Z",
     "shell.execute_reply.started": "2020-05-18T09:31:16.770848Z"
    }
   },
   "source": [
    "# Tests"
   ]
  },
  {
   "cell_type": "code",
   "execution_count": 56,
   "metadata": {
    "execution": {
     "iopub.execute_input": "2020-05-18T16:04:21.888583Z",
     "iopub.status.busy": "2020-05-18T16:04:21.888314Z",
     "iopub.status.idle": "2020-05-18T16:04:21.891755Z",
     "shell.execute_reply": "2020-05-18T16:04:21.891123Z",
     "shell.execute_reply.started": "2020-05-18T16:04:21.888551Z"
    }
   },
   "outputs": [],
   "source": [
    "def black_box_function(x, y):\n",
    "    return -x ** 2 - (y - 1) ** 2 + 1"
   ]
  },
  {
   "cell_type": "code",
   "execution_count": 57,
   "metadata": {
    "execution": {
     "iopub.execute_input": "2020-05-18T16:04:22.079967Z",
     "iopub.status.busy": "2020-05-18T16:04:22.079793Z",
     "iopub.status.idle": "2020-05-18T16:04:22.085730Z",
     "shell.execute_reply": "2020-05-18T16:04:22.085357Z",
     "shell.execute_reply.started": "2020-05-18T16:04:22.079939Z"
    }
   },
   "outputs": [],
   "source": [
    "class Bo(BaseConfigBo):\n",
    "    def init_map(self):\n",
    "        return {\n",
    "            'g':('generations', int, 2),\n",
    "            'e':('exp_power', int, np.NaN),\n",
    "            'f0':('dec_f0', int, np.NaN),\n",
    "            'f1':('dec_f1', int, np.NaN),\n",
    "            'f2':('dec_f2', int, np.NaN),\n",
    "            'f3':('dec_f3', int, np.NaN),\n",
    "            'mc':('mutate_chance', float, np.NaN),\n",
    "            'cr':('crossover_chance', float, np.NaN),\n",
    "            'co':('combine_chance', float, np.NaN)\n",
    "        }\n",
    "\n",
    "bo = Bo()\n",
    "p1 = {'name':'e', 'bounds':(1,15)}\n",
    "p2 = {'name':'cr', 'bounds':(.01,.99)}\n",
    "\n",
    "def bo_all(**kwargs):\n",
    "    inner_state, new_state=bo.create_state(kwargs['params'], [p1, p2])\n",
    "    return run(new_state=new_state, inner_state=inner_state, **kwargs)\n",
    "\n",
    "def bo_exp(**kwargs):\n",
    "    inner_state, new_state=bo.create_state(kwargs['params'], [p1])\n",
    "    return run(new_state=new_state, inner_state=inner_state, **kwargs)\n"
   ]
  },
  {
   "cell_type": "code",
   "execution_count": null,
   "metadata": {},
   "outputs": [],
   "source": []
  },
  {
   "cell_type": "code",
   "execution_count": 58,
   "metadata": {
    "execution": {
     "iopub.execute_input": "2020-05-18T16:04:22.778431Z",
     "iopub.status.busy": "2020-05-18T16:04:22.778189Z",
     "iopub.status.idle": "2020-05-18T16:04:22.797960Z",
     "shell.execute_reply": "2020-05-18T16:04:22.797531Z",
     "shell.execute_reply.started": "2020-05-18T16:04:22.778399Z"
    }
   },
   "outputs": [
    {
     "data": {
      "text/plain": [
       "({'e': 10.822801232517557}, {'generations': 2, 'exp_power': 10})"
      ]
     },
     "execution_count": 58,
     "metadata": {},
     "output_type": "execute_result"
    }
   ],
   "source": [
    "points = [{'params':{'e':1},'target':0.1},\n",
    "          {'params':{'e':1},'target':0.2}\n",
    "         ]\n",
    "bo.create_state(points, [p1])"
   ]
  },
  {
   "cell_type": "code",
   "execution_count": null,
   "metadata": {},
   "outputs": [],
   "source": []
  },
  {
   "cell_type": "code",
   "execution_count": 64,
   "metadata": {
    "execution": {
     "iopub.execute_input": "2020-05-18T16:05:00.869788Z",
     "iopub.status.busy": "2020-05-18T16:05:00.869527Z",
     "iopub.status.idle": "2020-05-18T16:05:00.874601Z",
     "shell.execute_reply": "2020-05-18T16:05:00.874161Z",
     "shell.execute_reply.started": "2020-05-18T16:05:00.869754Z"
    }
   },
   "outputs": [],
   "source": [
    "# points = [{'params':{'e':1,  'a':2},'target':0.1},\n",
    "#           {'params':{'e':1,  'a':2},'target':0.2},\n",
    "#           {'params':{'e':1,'a':2},'target':0.5},\n",
    "#           {'params':{'e':1.2,'d':2},'target':0.0},\n",
    "#           {'params':{'e':330,'k':2},'target':0.2}\n",
    "#          ]\n",
    "\n",
    "points = [\n",
    "    {'params': {'cr': 0.9885257859302491}, 'target': 0.577763631939888},\n",
    "    {'params': {'cr': 0.9885660456872435}, 'target': 0.5584937930107117},\n",
    "    {'params': {'cr': 0.010119437482166772}, 'target': 0.5518008545041084},\n",
    "    {'params': {'cr': 0.0101559066291012}, 'target': 0.5431795716285706},\n",
    "    {'params': {'cr': 0.9899404424902588}, 'target': 0.5732786804437637},\n",
    "    {'params': {'cr': 0.9893949599413431}, 'target': 0.5737223923206329},\n",
    "    {'params': {'cr': 0.9898670833454175}, 'target': 0.5675030797719955},\n",
    "    {'params': {'cr': 0.3092491872609939}, 'target': 0.5605851411819458},\n",
    "    {'params': {'cr': 0.6836879323470609}, 'target': 0.567135363817215},\n",
    "    {'params': {'cr': 0.5175112773164423}, 'target': 0.5583183616399765},\n",
    "    {'params': {'cr': 0.010109605687386128}, 'target': 0.5333066955208778}\n",
    "]"
   ]
  },
  {
   "cell_type": "code",
   "execution_count": 65,
   "metadata": {
    "execution": {
     "iopub.execute_input": "2020-05-18T16:05:01.181443Z",
     "iopub.status.busy": "2020-05-18T16:05:01.181219Z",
     "iopub.status.idle": "2020-05-18T16:05:01.183865Z",
     "shell.execute_reply": "2020-05-18T16:05:01.183461Z",
     "shell.execute_reply.started": "2020-05-18T16:05:01.181413Z"
    }
   },
   "outputs": [],
   "source": [
    "from random import shuffle"
   ]
  },
  {
   "cell_type": "code",
   "execution_count": 66,
   "metadata": {
    "execution": {
     "iopub.execute_input": "2020-05-18T16:05:01.644669Z",
     "iopub.status.busy": "2020-05-18T16:05:01.644440Z",
     "iopub.status.idle": "2020-05-18T16:05:01.647355Z",
     "shell.execute_reply": "2020-05-18T16:05:01.646929Z",
     "shell.execute_reply.started": "2020-05-18T16:05:01.644639Z"
    }
   },
   "outputs": [],
   "source": [
    "p1 = {'name':'cr', 'bounds':(0.01,.99)}\n",
    "shuffle(points)"
   ]
  },
  {
   "cell_type": "code",
   "execution_count": 71,
   "metadata": {
    "execution": {
     "iopub.execute_input": "2020-05-18T16:05:07.143574Z",
     "iopub.status.busy": "2020-05-18T16:05:07.143376Z",
     "iopub.status.idle": "2020-05-18T16:05:07.193326Z",
     "shell.execute_reply": "2020-05-18T16:05:07.192944Z",
     "shell.execute_reply.started": "2020-05-18T16:05:07.143545Z"
    }
   },
   "outputs": [
    {
     "data": {
      "text/plain": [
       "({'cr': 0.987307333997757},\n",
       " {'generations': 2, 'crossover_chance': 0.987307333997757})"
      ]
     },
     "execution_count": 71,
     "metadata": {},
     "output_type": "execute_result"
    }
   ],
   "source": [
    "bo.create_state(points, [p1])"
   ]
  },
  {
   "cell_type": "code",
   "execution_count": 63,
   "metadata": {
    "execution": {
     "iopub.execute_input": "2020-05-18T16:04:27.542670Z",
     "iopub.status.busy": "2020-05-18T16:04:27.542306Z",
     "iopub.status.idle": "2020-05-18T16:04:33.002152Z",
     "shell.execute_reply": "2020-05-18T16:04:33.001697Z",
     "shell.execute_reply.started": "2020-05-18T16:04:27.542633Z"
    }
   },
   "outputs": [
    {
     "data": {
      "text/plain": [
       "0.9874239338671746"
      ]
     },
     "execution_count": 63,
     "metadata": {},
     "output_type": "execute_result"
    }
   ],
   "source": [
    "ts = [bo.create_state(points, [p1])[0]['cr'] for i in range(100)]\n",
    "np.mean(ts)"
   ]
  },
  {
   "cell_type": "code",
   "execution_count": null,
   "metadata": {},
   "outputs": [],
   "source": []
  },
  {
   "cell_type": "code",
   "execution_count": null,
   "metadata": {},
   "outputs": [],
   "source": []
  },
  {
   "cell_type": "code",
   "execution_count": 87,
   "metadata": {
    "execution": {
     "iopub.execute_input": "2020-05-18T17:57:39.781323Z",
     "iopub.status.busy": "2020-05-18T17:57:39.781069Z",
     "iopub.status.idle": "2020-05-18T17:57:39.785327Z",
     "shell.execute_reply": "2020-05-18T17:57:39.784940Z",
     "shell.execute_reply.started": "2020-05-18T17:57:39.781289Z"
    }
   },
   "outputs": [
    {
     "data": {
      "text/plain": [
       "array([0. , 0.1, 0.2, 0.3, 0.4, 0.5, 0.6, 0.7, 0.8, 0.9])"
      ]
     },
     "execution_count": 87,
     "metadata": {},
     "output_type": "execute_result"
    }
   ],
   "source": [
    "np.arange(10)/10"
   ]
  },
  {
   "cell_type": "code",
   "execution_count": 14,
   "metadata": {
    "execution": {
     "iopub.execute_input": "2020-05-18T16:01:08.506322Z",
     "iopub.status.busy": "2020-05-18T16:01:08.506009Z",
     "iopub.status.idle": "2020-05-18T16:01:08.509774Z",
     "shell.execute_reply": "2020-05-18T16:01:08.509423Z",
     "shell.execute_reply.started": "2020-05-18T16:01:08.506287Z"
    }
   },
   "outputs": [],
   "source": [
    "points = [#[0.0101, 0.075 ],\n",
    "       [0.0102, 0.061 ],\n",
    "       [0.0101, 0.062 ],\n",
    "       [0.9894, 0.574 ],\n",
    "       #[0.9899, 0.568 ],\n",
    "       [0.9899, 0.573 ],\n",
    "       [0.6837, 0.567 ],\n",
    "       [0.3092, 0.561 ],\n",
    "       [0.5175, 0.558 ]]\n",
    "rs = []\n",
    "for p in reversed(points):\n",
    "    rs.append(({'x':p[0]}, p[1]))"
   ]
  },
  {
   "cell_type": "code",
   "execution_count": 467,
   "metadata": {
    "execution": {
     "iopub.execute_input": "2020-05-18T18:26:08.006090Z",
     "iopub.status.busy": "2020-05-18T18:26:08.005814Z",
     "iopub.status.idle": "2020-05-18T18:26:08.010445Z",
     "shell.execute_reply": "2020-05-18T18:26:08.009862Z",
     "shell.execute_reply.started": "2020-05-18T18:26:08.006054Z"
    }
   },
   "outputs": [],
   "source": [
    "def gen_x():\n",
    "    x = list(range(1,10))\n",
    "    t = list(range(1,10))\n",
    "    x = x+[.1]\n",
    "    t = t+[0]\n",
    "    x = x+[9.9] \n",
    "    t = t+[-.2]\n",
    "    rs = []\n",
    "    for i,j in zip(x,t):\n",
    "        yield {'x':i}, j/10"
   ]
  },
  {
   "cell_type": "code",
   "execution_count": 468,
   "metadata": {
    "execution": {
     "iopub.execute_input": "2020-05-18T18:26:08.444957Z",
     "iopub.status.busy": "2020-05-18T18:26:08.444718Z",
     "iopub.status.idle": "2020-05-18T18:26:08.449077Z",
     "shell.execute_reply": "2020-05-18T18:26:08.448560Z",
     "shell.execute_reply.started": "2020-05-18T18:26:08.444926Z"
    }
   },
   "outputs": [],
   "source": [
    "bounds = {'x':(0.1, 9.9)}\n",
    "utility = UtilityFunction(kind=\"ei\", kappa=None, xi=0.1)\n",
    "optimizer = BayesianOptimization(\n",
    "    f=None,\n",
    "    pbounds=bounds,\n",
    "    verbose=2,\n",
    "    random_state=1)\n",
    "g = gen_x()"
   ]
  },
  {
   "cell_type": "code",
   "execution_count": 535,
   "metadata": {
    "execution": {
     "iopub.execute_input": "2020-05-18T18:27:33.948883Z",
     "iopub.status.busy": "2020-05-18T18:27:33.948637Z",
     "iopub.status.idle": "2020-05-18T18:27:33.952246Z",
     "shell.execute_reply": "2020-05-18T18:27:33.951783Z",
     "shell.execute_reply.started": "2020-05-18T18:27:33.948851Z"
    }
   },
   "outputs": [
    {
     "name": "stdout",
     "output_type": "stream",
     "text": [
      "{'x': 7} 0.7\n"
     ]
    }
   ],
   "source": [
    "x, t = next(g)\n",
    "optimizer.register(\n",
    "    params=x,\n",
    "    target=t)\n",
    "print(x,t)"
   ]
  },
  {
   "cell_type": "code",
   "execution_count": 517,
   "metadata": {
    "execution": {
     "iopub.execute_input": "2020-05-18T18:27:24.078531Z",
     "iopub.status.busy": "2020-05-18T18:27:24.078279Z",
     "iopub.status.idle": "2020-05-18T18:27:24.081244Z",
     "shell.execute_reply": "2020-05-18T18:27:24.080816Z",
     "shell.execute_reply.started": "2020-05-18T18:27:24.078498Z"
    }
   },
   "outputs": [],
   "source": [
    "utility = UtilityFunction(kind=\"ei\", kappa=100, xi=0)"
   ]
  },
  {
   "cell_type": "code",
   "execution_count": 572,
   "metadata": {
    "execution": {
     "iopub.execute_input": "2020-05-18T18:28:35.805791Z",
     "iopub.status.busy": "2020-05-18T18:28:35.805535Z",
     "iopub.status.idle": "2020-05-18T18:28:35.837395Z",
     "shell.execute_reply": "2020-05-18T18:28:35.836984Z",
     "shell.execute_reply.started": "2020-05-18T18:28:35.805759Z"
    }
   },
   "outputs": [
    {
     "data": {
      "text/plain": [
       "{'x': 5.100098810089408}"
      ]
     },
     "execution_count": 572,
     "metadata": {},
     "output_type": "execute_result"
    }
   ],
   "source": [
    "optimizer.suggest(utility)"
   ]
  },
  {
   "cell_type": "code",
   "execution_count": 563,
   "metadata": {
    "execution": {
     "iopub.execute_input": "2020-05-18T18:28:30.151323Z",
     "iopub.status.busy": "2020-05-18T18:28:30.151014Z",
     "iopub.status.idle": "2020-05-18T18:28:30.154470Z",
     "shell.execute_reply": "2020-05-18T18:28:30.154016Z",
     "shell.execute_reply.started": "2020-05-18T18:28:30.151286Z"
    }
   },
   "outputs": [],
   "source": [
    "optimizer.register(\n",
    "    params=6.68,\n",
    "    target=.6)"
   ]
  },
  {
   "cell_type": "code",
   "execution_count": 578,
   "metadata": {
    "execution": {
     "iopub.execute_input": "2020-05-18T19:52:17.106036Z",
     "iopub.status.busy": "2020-05-18T19:52:17.105768Z",
     "iopub.status.idle": "2020-05-18T19:52:17.109689Z",
     "shell.execute_reply": "2020-05-18T19:52:17.109332Z",
     "shell.execute_reply.started": "2020-05-18T19:52:17.106001Z"
    }
   },
   "outputs": [
    {
     "data": {
      "text/plain": [
       "array([ 0.1, -0.2,  0.2,  0.3,  0.4,  0.5,  0.6,  0.7, -2. ,  0.4,  0.6])"
      ]
     },
     "execution_count": 578,
     "metadata": {},
     "output_type": "execute_result"
    }
   ],
   "source": [
    "optimizer._space.target"
   ]
  },
  {
   "cell_type": "code",
   "execution_count": 579,
   "metadata": {
    "execution": {
     "iopub.execute_input": "2020-05-18T19:52:26.350131Z",
     "iopub.status.busy": "2020-05-18T19:52:26.349847Z",
     "iopub.status.idle": "2020-05-18T19:52:26.354223Z",
     "shell.execute_reply": "2020-05-18T19:52:26.353780Z",
     "shell.execute_reply.started": "2020-05-18T19:52:26.350094Z"
    }
   },
   "outputs": [
    {
     "data": {
      "text/plain": [
       "[{'target': 0.1, 'params': {'x': 1.0}},\n",
       " {'target': -0.2, 'params': {'x': 0.901}},\n",
       " {'target': 0.2, 'params': {'x': 2.0}},\n",
       " {'target': 0.3, 'params': {'x': 3.0}},\n",
       " {'target': 0.4, 'params': {'x': 4.0}},\n",
       " {'target': 0.5, 'params': {'x': 5.0}},\n",
       " {'target': 0.6, 'params': {'x': 6.0}},\n",
       " {'target': 0.7, 'params': {'x': 7.0}},\n",
       " {'target': -2.0, 'params': {'x': 7.6}},\n",
       " {'target': 0.4, 'params': {'x': 5.1}},\n",
       " {'target': 0.6, 'params': {'x': 6.68}}]"
      ]
     },
     "execution_count": 579,
     "metadata": {},
     "output_type": "execute_result"
    }
   ],
   "source": [
    "optimizer.res"
   ]
  },
  {
   "cell_type": "code",
   "execution_count": null,
   "metadata": {},
   "outputs": [],
   "source": []
  },
  {
   "cell_type": "code",
   "execution_count": null,
   "metadata": {},
   "outputs": [],
   "source": []
  },
  {
   "cell_type": "code",
   "execution_count": 15,
   "metadata": {
    "execution": {
     "iopub.execute_input": "2020-05-18T16:01:08.510973Z",
     "iopub.status.busy": "2020-05-18T16:01:08.510671Z",
     "iopub.status.idle": "2020-05-18T16:01:08.592545Z",
     "shell.execute_reply": "2020-05-18T16:01:08.591092Z",
     "shell.execute_reply.started": "2020-05-18T16:01:08.510949Z"
    }
   },
   "outputs": [
    {
     "ename": "NameError",
     "evalue": "name 'utility' is not defined",
     "output_type": "error",
     "traceback": [
      "\u001b[0;31m-----------------------------------------------------------------------\u001b[0m",
      "\u001b[0;31mNameError\u001b[0m                             Traceback (most recent call last)",
      "\u001b[0;32m<ipython-input-15-d56623e87495>\u001b[0m in \u001b[0;36m<module>\u001b[0;34m\u001b[0m\n\u001b[1;32m     12\u001b[0m     \u001b[0mparams\u001b[0m\u001b[0;34m=\u001b[0m\u001b[0mx\u001b[0m\u001b[0;34m,\u001b[0m\u001b[0;34m\u001b[0m\u001b[0;34m\u001b[0m\u001b[0m\n\u001b[1;32m     13\u001b[0m     target=t)\n\u001b[0;32m---> 14\u001b[0;31m     \u001b[0mprint\u001b[0m\u001b[0;34m(\u001b[0m\u001b[0moptimizer\u001b[0m\u001b[0;34m.\u001b[0m\u001b[0msuggest\u001b[0m\u001b[0;34m(\u001b[0m\u001b[0mutility\u001b[0m\u001b[0;34m)\u001b[0m\u001b[0;34m,\u001b[0m \u001b[0mx\u001b[0m\u001b[0;34m,\u001b[0m \u001b[0mt\u001b[0m\u001b[0;34m)\u001b[0m\u001b[0;34m\u001b[0m\u001b[0;34m\u001b[0m\u001b[0m\n\u001b[0m\u001b[1;32m     15\u001b[0m     \u001b[0;31m#break\u001b[0m\u001b[0;34m\u001b[0m\u001b[0;34m\u001b[0m\u001b[0;34m\u001b[0m\u001b[0m\n",
      "\u001b[0;31mNameError\u001b[0m: name 'utility' is not defined"
     ]
    }
   ],
   "source": [
    "\n",
    "for x, t in rs:\n",
    "    optimizer.register(\n",
    "    params=x,\n",
    "    target=t)\n",
    "    print(optimizer.suggest(utility), x, t)\n",
    "    #break"
   ]
  },
  {
   "cell_type": "code",
   "execution_count": null,
   "metadata": {
    "execution": {
     "iopub.status.busy": "2020-05-18T16:01:08.593348Z",
     "iopub.status.idle": "2020-05-18T16:01:08.593607Z"
    }
   },
   "outputs": [],
   "source": [
    "utility = UtilityFunction(kind='ei',kappa=None, xi=.1)\n",
    "\n",
    "sg = [optimizer.suggest(utility)['x'] for i in range(100)]"
   ]
  },
  {
   "cell_type": "code",
   "execution_count": 83,
   "metadata": {
    "execution": {
     "iopub.execute_input": "2020-05-18T16:14:26.479829Z",
     "iopub.status.busy": "2020-05-18T16:14:26.479586Z",
     "iopub.status.idle": "2020-05-18T16:14:26.483213Z",
     "shell.execute_reply": "2020-05-18T16:14:26.482788Z",
     "shell.execute_reply.started": "2020-05-18T16:14:26.479798Z"
    }
   },
   "outputs": [
    {
     "data": {
      "text/plain": [
       "[{'target': 0.558, 'params': {'x': 0.5175}}]"
      ]
     },
     "execution_count": 83,
     "metadata": {},
     "output_type": "execute_result"
    }
   ],
   "source": [
    "optimizer.res"
   ]
  },
  {
   "cell_type": "code",
   "execution_count": null,
   "metadata": {
    "execution": {
     "iopub.status.busy": "2020-05-18T16:01:08.594236Z",
     "iopub.status.idle": "2020-05-18T16:01:08.594469Z"
    }
   },
   "outputs": [],
   "source": [
    "np.array(sg).std()"
   ]
  },
  {
   "cell_type": "code",
   "execution_count": null,
   "metadata": {
    "execution": {
     "iopub.status.busy": "2020-05-18T16:01:08.595093Z",
     "iopub.status.idle": "2020-05-18T16:01:08.595307Z"
    }
   },
   "outputs": [],
   "source": [
    "plt.hist(sg, bins=50);"
   ]
  },
  {
   "cell_type": "code",
   "execution_count": null,
   "metadata": {
    "execution": {
     "iopub.status.busy": "2020-05-18T16:01:08.595915Z",
     "iopub.status.idle": "2020-05-18T16:01:08.596130Z"
    }
   },
   "outputs": [],
   "source": [
    "plt.plot(optimizer.space.target, label='Mutated Optimizer')"
   ]
  },
  {
   "cell_type": "code",
   "execution_count": null,
   "metadata": {},
   "outputs": [],
   "source": []
  },
  {
   "cell_type": "markdown",
   "metadata": {
    "execution": {
     "iopub.execute_input": "2020-05-19T04:54:50.430211Z",
     "iopub.status.busy": "2020-05-19T04:54:50.429957Z",
     "iopub.status.idle": "2020-05-19T04:54:50.432632Z",
     "shell.execute_reply": "2020-05-19T04:54:50.432208Z",
     "shell.execute_reply.started": "2020-05-19T04:54:50.430179Z"
    }
   },
   "source": [
    "# More Tests"
   ]
  },
  {
   "cell_type": "code",
   "execution_count": 582,
   "metadata": {
    "execution": {
     "iopub.execute_input": "2020-05-19T04:55:53.313843Z",
     "iopub.status.busy": "2020-05-19T04:55:53.313577Z",
     "iopub.status.idle": "2020-05-19T04:55:53.566334Z",
     "shell.execute_reply": "2020-05-19T04:55:53.565800Z",
     "shell.execute_reply.started": "2020-05-19T04:55:53.313806Z"
    }
   },
   "outputs": [],
   "source": [
    "from skopt import Optimizer\n",
    "from skopt.space import Real\n",
    "from joblib import Parallel, delayed\n",
    "# example objective taken from skopt\n",
    "from skopt.benchmarks import branin"
   ]
  },
  {
   "cell_type": "code",
   "execution_count": null,
   "metadata": {},
   "outputs": [],
   "source": [
    "optimizer = Optimizer()"
   ]
  },
  {
   "cell_type": "code",
   "execution_count": 660,
   "metadata": {
    "execution": {
     "iopub.execute_input": "2020-05-19T05:31:07.133284Z",
     "iopub.status.busy": "2020-05-19T05:31:07.133030Z",
     "iopub.status.idle": "2020-05-19T05:31:07.141093Z",
     "shell.execute_reply": "2020-05-19T05:31:07.140628Z",
     "shell.execute_reply.started": "2020-05-19T05:31:07.133250Z"
    }
   },
   "outputs": [],
   "source": [
    "optimizer = Optimizer(\n",
    "    dimensions=[Real(1,15), Real(0.01,0.99)],\n",
    "    random_state=1,\n",
    "    base_estimator='gp'\n",
    ")"
   ]
  },
  {
   "cell_type": "code",
   "execution_count": 661,
   "metadata": {
    "execution": {
     "iopub.execute_input": "2020-05-19T05:31:07.645159Z",
     "iopub.status.busy": "2020-05-19T05:31:07.644880Z",
     "iopub.status.idle": "2020-05-19T05:31:37.653621Z",
     "shell.execute_reply": "2020-05-19T05:31:37.652949Z",
     "shell.execute_reply.started": "2020-05-19T05:31:07.645110Z"
    }
   },
   "outputs": [],
   "source": [
    "for i in range(10):\n",
    "    x = optimizer.ask(n_points=4)\n",
    "    y = Parallel(n_jobs=4)(delayed(branin)(v) for v in x)\n",
    "    optimizer.tell(x, y)"
   ]
  },
  {
   "cell_type": "code",
   "execution_count": 662,
   "metadata": {
    "execution": {
     "iopub.execute_input": "2020-05-19T05:31:37.661101Z",
     "iopub.status.busy": "2020-05-19T05:31:37.660818Z",
     "iopub.status.idle": "2020-05-19T05:31:37.664080Z",
     "shell.execute_reply": "2020-05-19T05:31:37.663731Z",
     "shell.execute_reply.started": "2020-05-19T05:31:37.661078Z"
    }
   },
   "outputs": [
    {
     "data": {
      "text/plain": [
       "1.8727364911380562"
      ]
     },
     "execution_count": 662,
     "metadata": {},
     "output_type": "execute_result"
    }
   ],
   "source": [
    "min(optimizer.yi)"
   ]
  },
  {
   "cell_type": "code",
   "execution_count": 655,
   "metadata": {
    "execution": {
     "iopub.execute_input": "2020-05-19T05:30:54.327158Z",
     "iopub.status.busy": "2020-05-19T05:30:54.326901Z",
     "iopub.status.idle": "2020-05-19T05:30:54.331176Z",
     "shell.execute_reply": "2020-05-19T05:30:54.330657Z",
     "shell.execute_reply.started": "2020-05-19T05:30:54.327122Z"
    }
   },
   "outputs": [
    {
     "data": {
      "text/plain": [
       "1.8727364911380562"
      ]
     },
     "execution_count": 655,
     "metadata": {},
     "output_type": "execute_result"
    }
   ],
   "source": [
    "min(optimizer.yi)"
   ]
  },
  {
   "cell_type": "code",
   "execution_count": 645,
   "metadata": {
    "execution": {
     "iopub.execute_input": "2020-05-19T05:10:17.575809Z",
     "iopub.status.busy": "2020-05-19T05:10:17.575602Z",
     "iopub.status.idle": "2020-05-19T05:10:17.579590Z",
     "shell.execute_reply": "2020-05-19T05:10:17.579101Z",
     "shell.execute_reply.started": "2020-05-19T05:10:17.575778Z"
    }
   },
   "outputs": [
    {
     "data": {
      "text/plain": [
       "          fun: 9.887668349173717\n",
       "    func_vals: array([23.33345935, 20.49882368,  9.88766835, 18.34898225])\n",
       "       models: []\n",
       " random_state: RandomState(MT19937) at 0x7F79A313B888\n",
       "        space: Space([Real(low=1, high=15, prior='uniform', transform='normalize'),\n",
       "       Real(low=0.01, high=0.99, prior='uniform', transform='normalize')])\n",
       "        specs: None\n",
       "            x: [7.904456632264042, 0.8811468968722667]\n",
       "      x_iters: [[10.837029894221025, 0.07041869717793878], [6.276486266433995, 0.15273052748956706], [7.904456632264042, 0.8811468968722667], [1.8188206027183147, 0.26058092147083095]]"
      ]
     },
     "execution_count": 645,
     "metadata": {},
     "output_type": "execute_result"
    }
   ],
   "source": [
    "optimizer.get_result()"
   ]
  },
  {
   "cell_type": "code",
   "execution_count": null,
   "metadata": {},
   "outputs": [],
   "source": []
  },
  {
   "cell_type": "code",
   "execution_count": null,
   "metadata": {},
   "outputs": [],
   "source": [
    "for i in range(10):\n",
    "    x = optimizer.ask(n_points=4)  # x is a list of n_points points\n",
    "    y = Parallel(n_jobs=4)(delayed(branin)(v) for v in x)  # evaluate points in parallel\n",
    "    optimizer.tell(x, y)\n",
    "\n",
    "# takes ~ 20 sec to get here\n",
    "print(min(optimizer.yi))  # print the best objective found"
   ]
  },
  {
   "cell_type": "code",
   "execution_count": null,
   "metadata": {},
   "outputs": [],
   "source": []
  },
  {
   "cell_type": "code",
   "execution_count": null,
   "metadata": {},
   "outputs": [],
   "source": []
  },
  {
   "cell_type": "markdown",
   "metadata": {
    "execution": {
     "iopub.execute_input": "2020-05-18T09:34:15.598673Z",
     "iopub.status.busy": "2020-05-18T09:34:15.598376Z",
     "iopub.status.idle": "2020-05-18T09:34:15.601219Z",
     "shell.execute_reply": "2020-05-18T09:34:15.600764Z",
     "shell.execute_reply.started": "2020-05-18T09:34:15.598636Z"
    }
   },
   "source": [
    "# Exports"
   ]
  },
  {
   "cell_type": "code",
   "execution_count": 1,
   "metadata": {
    "execution": {
     "iopub.execute_input": "2020-05-19T07:15:01.352937Z",
     "iopub.status.busy": "2020-05-19T07:15:01.352619Z",
     "iopub.status.idle": "2020-05-19T07:15:01.556655Z",
     "shell.execute_reply": "2020-05-19T07:15:01.556002Z",
     "shell.execute_reply.started": "2020-05-19T07:15:01.352902Z"
    }
   },
   "outputs": [
    {
     "name": "stdout",
     "output_type": "stream",
     "text": [
      "Converted bo.ipynb to exp/nb_bo.py\n"
     ]
    }
   ],
   "source": [
    "!python3 extra/n2s.py bo.ipynb"
   ]
  },
  {
   "cell_type": "code",
   "execution_count": null,
   "metadata": {},
   "outputs": [],
   "source": []
  },
  {
   "cell_type": "code",
   "execution_count": null,
   "metadata": {},
   "outputs": [],
   "source": []
  },
  {
   "cell_type": "code",
   "execution_count": null,
   "metadata": {},
   "outputs": [],
   "source": []
  }
 ],
 "metadata": {
  "kernelspec": {
   "display_name": "Python 3",
   "language": "python",
   "name": "python3"
  },
  "language_info": {
   "codemirror_mode": {
    "name": "ipython",
    "version": 3
   },
   "file_extension": ".py",
   "mimetype": "text/x-python",
   "name": "python",
   "nbconvert_exporter": "python",
   "pygments_lexer": "ipython3",
   "version": "3.6.9"
  }
 },
 "nbformat": 4,
 "nbformat_minor": 4
}
