{
 "cells": [
  {
   "cell_type": "code",
   "execution_count": 1,
   "metadata": {
    "execution": {
     "iopub.execute_input": "2020-05-19T14:07:21.912229Z",
     "iopub.status.busy": "2020-05-19T14:07:21.911939Z",
     "iopub.status.idle": "2020-05-19T14:07:21.918281Z",
     "shell.execute_reply": "2020-05-19T14:07:21.917562Z",
     "shell.execute_reply.started": "2020-05-19T14:07:21.912190Z"
    }
   },
   "outputs": [],
   "source": [
    "#export\n",
    "import os\n",
    "import time\n",
    "import atexit\n",
    "import argparse\n",
    "import datetime\n",
    "from pathlib import Path\n",
    "from functools import partial\n",
    "\n",
    "import numpy  as np\n",
    "import GPUtil as gu"
   ]
  },
  {
   "cell_type": "markdown",
   "metadata": {
    "execution": {
     "iopub.execute_input": "2020-05-13T11:15:33.275730Z",
     "iopub.status.busy": "2020-05-13T11:15:33.275431Z",
     "iopub.status.idle": "2020-05-13T11:15:33.278338Z",
     "shell.execute_reply": "2020-05-13T11:15:33.277842Z",
     "shell.execute_reply.started": "2020-05-13T11:15:33.275691Z"
    }
   },
   "source": [
    "# Code"
   ]
  },
  {
   "cell_type": "code",
   "execution_count": 5,
   "metadata": {
    "execution": {
     "iopub.execute_input": "2020-05-19T14:10:41.909378Z",
     "iopub.status.busy": "2020-05-19T14:10:41.909109Z",
     "iopub.status.idle": "2020-05-19T14:10:41.912302Z",
     "shell.execute_reply": "2020-05-19T14:10:41.911822Z",
     "shell.execute_reply.started": "2020-05-19T14:10:41.909344Z"
    }
   },
   "outputs": [],
   "source": [
    "class GpuLockedTimeout(Exception):pass\n",
    "class GpuUsageTimeout(Exception):pass"
   ]
  },
  {
   "cell_type": "code",
   "execution_count": 2,
   "metadata": {
    "execution": {
     "iopub.execute_input": "2020-05-13T15:02:41.317516Z",
     "iopub.status.busy": "2020-05-13T15:02:41.317327Z",
     "iopub.status.idle": "2020-05-13T15:02:41.323560Z",
     "shell.execute_reply": "2020-05-13T15:02:41.323108Z",
     "shell.execute_reply.started": "2020-05-13T15:02:41.317484Z"
    }
   },
   "outputs": [],
   "source": [
    "#export\n",
    "class Lock:\n",
    "    def __init__(self, path, data, seconds_delay):\n",
    "        timedelta = datetime.timedelta(seconds=seconds_delay)\n",
    "        time_out = datetime.datetime.now() + timedelta\n",
    "        timestamp = '{:%Y_%b_%d_%H_%M_%S_%f}'.format(time_out)\n",
    "        lock_name = f'dhpo_{timestamp}.lock'\n",
    "        self.lock_name = path / lock_name\n",
    "        self.data = data   \n",
    "    \n",
    "    def __enter__(self):\n",
    "        try:\n",
    "            print(f'Locking \"{self.data}\" @ {self.lock_name}')\n",
    "            with open(self.lock_name, 'w+') as f:\n",
    "                f.write(self.data)\n",
    "            os.chmod(self.lock_name, 0o776)\n",
    "        except Exception as e:\n",
    "            print(f'Cant get a lock! {self.lock_name} \\n', e)\n",
    "            self.lock_name = None\n",
    "            \n",
    "        return self.lock_name\n",
    "    \n",
    "    def __exit__(self, type, value, traceback):\n",
    "        try:\n",
    "            if self.lock_name:\n",
    "                os.remove(self.lock_name)\n",
    "        except Exception as e:\n",
    "            print(f'Cant remove lock! {self.lock_name}\\n', e)\n"
   ]
  },
  {
   "cell_type": "code",
   "execution_count": 3,
   "metadata": {
    "execution": {
     "iopub.execute_input": "2020-05-13T15:02:41.324550Z",
     "iopub.status.busy": "2020-05-13T15:02:41.324388Z",
     "iopub.status.idle": "2020-05-13T15:02:41.331687Z",
     "shell.execute_reply": "2020-05-13T15:02:41.331014Z",
     "shell.execute_reply.started": "2020-05-13T15:02:41.324523Z"
    }
   },
   "outputs": [],
   "source": [
    "#export\n",
    "def base_exit_handler(lock_name):\n",
    "    try:\n",
    "        if lock_name:\n",
    "            if os.path.exists(lock_name): os.remove(lock_name)\n",
    "    except Exception as e:\n",
    "        print(f'Cant remove lock! {lock_name}\\n', e)\n",
    "\n",
    "def lock(gpus, seconds_delay, path='/tmp'):\n",
    "    gpus = str(gpus).strip('()')\n",
    "    lock = Lock(path, gpus, seconds_delay)\n",
    "    with lock as l:\n",
    "        exit_handler = partial(base_exit_handler, lock_name=l)\n",
    "        atexit.register(exit_handler)\n",
    "        time.sleep(seconds_delay)"
   ]
  },
  {
   "cell_type": "code",
   "execution_count": null,
   "metadata": {},
   "outputs": [],
   "source": [
    "#export\n",
    "def check_locks(path):\n",
    "    g = path.rglob('dhpo_*.lock')\n",
    "    locked_gpus = set()\n",
    "    for l in g:\n",
    "        if is_expired(l):\n",
    "            print(f'Lock {l} is expired, deleting')\n",
    "            clean_up(l)\n",
    "            continue\n",
    "        locked_gpus.update(read_lock(l))\n",
    "    return locked_gpus\n",
    "\n",
    "def list_locks(path):\n",
    "    g = path.rglob('dhpo_*.lock')\n",
    "    if g:\n",
    "        for i, l in enumerate(g):\n",
    "            print(f'\\t{i}. {l}')\n",
    "            with open(l, 'r') as f:\n",
    "                print(f'\\t\\tGPUS: {f.read()}')\n",
    "    else:\n",
    "        print('\\tThere is no locks')\n",
    "    \n",
    "def is_expired(name):\n",
    "    date = name.name.strip('dhpo_').rstrip('.lock')\n",
    "    datetime_object = datetime.datetime.strptime(date, '%Y_%b_%d_%H_%M_%S_%f')\n",
    "    datetime_object, datetime_object > datetime.datetime.now()\n",
    "    return datetime_object < datetime.datetime.now()\n",
    "\n",
    "def clean_up(name):\n",
    "    print(f'\\n\\t ooo deleting{name}')\n",
    "    os.remove(name)\n",
    "    \n",
    "def read_lock(name):\n",
    "    with open(name, 'r') as f:\n",
    "        data = f.read()\n",
    "    return set([int(i) for i in data if i.isdigit()])"
   ]
  },
  {
   "cell_type": "code",
   "execution_count": 10,
   "metadata": {
    "execution": {
     "iopub.execute_input": "2020-05-13T15:06:29.928383Z",
     "iopub.status.busy": "2020-05-13T15:06:29.928086Z",
     "iopub.status.idle": "2020-05-13T15:06:29.932702Z",
     "shell.execute_reply": "2020-05-13T15:06:29.932134Z",
     "shell.execute_reply.started": "2020-05-13T15:06:29.928325Z"
    }
   },
   "outputs": [],
   "source": [
    "#export\n",
    "def check_gpu_access(path, gpus):\n",
    "    print(f'\\n\\tChecking {path} for locks on gpu {gpus}...')\n",
    "    #path = Path('./test')\n",
    "    #gpus='0'\n",
    "    #lock_delay = 5\n",
    "\n",
    "    target_gpu = set([int(i) for i in gpus if i.isdigit()])\n",
    "    all_gpus = set((0,1,2,3))\n",
    "\n",
    "    #while True:\n",
    "    locked_gpus = check_locks(path)\n",
    "    avail_gpus = all_gpus - locked_gpus    \n",
    "    if target_gpu.issubset(avail_gpus):\n",
    "        print(f'\\n\\tgpu {target_gpu} is avaliable...')\n",
    "        #break\n",
    "    else:\n",
    "        print(f'\\n\\tWaiting, gpu #{target_gpu} is locked. Current gpus under lock: {locked_gpus}')\n",
    "        #time.sleep(lock_delay)\n",
    "        raise GpuLockedTimeout"
   ]
  },
  {
   "cell_type": "code",
   "execution_count": 8,
   "metadata": {
    "execution": {
     "iopub.execute_input": "2020-05-19T14:15:02.946773Z",
     "iopub.status.busy": "2020-05-19T14:15:02.946492Z",
     "iopub.status.idle": "2020-05-19T14:15:02.952018Z",
     "shell.execute_reply": "2020-05-19T14:15:02.951555Z",
     "shell.execute_reply.started": "2020-05-19T14:15:02.946738Z"
    }
   },
   "outputs": [],
   "source": [
    "#export\n",
    "def check_gpu_usage(gpus, threshlod=.2, delay=.1):\n",
    "    gpus = set([int(i) for i in gpus if i.isdigit()])\n",
    "    load = get_gpu_load(delay)\n",
    "    for g in gpus:\n",
    "        if load[g] > threshlod:\n",
    "            print(f'Usage on gpu{g} : {load[g]}')\n",
    "            raise GpuUsageTimeout\n",
    "    print(f'Gpu usage is acceptable: {load}')\n",
    "    \n",
    "def get_gpu_load(delay=.1):\n",
    "    load = []\n",
    "    for i in range(10):\n",
    "        gpus = gu.getGPUs()\n",
    "        c_load = [g.load for g in gpus]\n",
    "        load.append(c_load)\n",
    "        time.sleep(delay)\n",
    "    return np.array(load).mean(axis=0)"
   ]
  },
  {
   "cell_type": "code",
   "execution_count": 17,
   "metadata": {
    "execution": {
     "iopub.execute_input": "2020-05-13T15:16:24.905299Z",
     "iopub.status.busy": "2020-05-13T15:16:24.905012Z",
     "iopub.status.idle": "2020-05-13T15:16:24.908199Z",
     "shell.execute_reply": "2020-05-13T15:16:24.907604Z",
     "shell.execute_reply.started": "2020-05-13T15:16:24.905262Z"
    }
   },
   "outputs": [],
   "source": [
    "#check_gpu_access('0')"
   ]
  },
  {
   "cell_type": "code",
   "execution_count": null,
   "metadata": {},
   "outputs": [],
   "source": []
  },
  {
   "cell_type": "code",
   "execution_count": 5,
   "metadata": {
    "execution": {
     "iopub.execute_input": "2020-05-13T15:02:41.344654Z",
     "iopub.status.busy": "2020-05-13T15:02:41.344483Z",
     "iopub.status.idle": "2020-05-13T15:02:41.351284Z",
     "shell.execute_reply": "2020-05-13T15:02:41.350592Z",
     "shell.execute_reply.started": "2020-05-13T15:02:41.344626Z"
    }
   },
   "outputs": [
    {
     "name": "stderr",
     "output_type": "stream",
     "text": [
      "usage: ipykernel_launcher.py [-h] [--mdelay MINUTE_DELAY] [--gpus GPUS]\n",
      "ipykernel_launcher.py: error: unrecognized arguments: -f /home/sokolov/.local/share/jupyter/runtime/kernel-e361d33f-8a7a-4c98-9260-9c30f637b817.json\n"
     ]
    },
    {
     "ename": "SystemExit",
     "evalue": "2",
     "output_type": "error",
     "traceback": [
      "An exception has occurred, use %tb to see the full traceback.\n",
      "\u001b[0;31mSystemExit\u001b[0m\u001b[0;31m:\u001b[0m 2\n"
     ]
    },
    {
     "name": "stderr",
     "output_type": "stream",
     "text": [
      "/usr/local/lib/python3.6/dist-packages/IPython/core/interactiveshell.py:3334: UserWarning: To exit: use 'exit', 'quit', or Ctrl-D.\n",
      "  warn(\"To exit: use 'exit', 'quit', or Ctrl-D.\", stacklevel=1)\n"
     ]
    }
   ],
   "source": [
    "#export\n",
    "if __name__ == '__main__':\n",
    "    parser = argparse.ArgumentParser()\n",
    "    parser.add_argument('--mdelay', '-md', dest='minute_delay',\n",
    "                    default=.1,\n",
    "                    help='delay in minutes')\n",
    "    parser.add_argument('--gpus', '-g', dest='gpus',\n",
    "                    default=None,\n",
    "                    help='gpus to lock, 0,2')\n",
    "    \n",
    "    args = parser.parse_args()\n",
    "    gpus = args.gpus\n",
    "    p = Path('/home/sokolov/work/cycler/dHPO/sync/locks')\n",
    "    \n",
    "    minute_delay = args.minute_delay\n",
    "    seconds_delay = float(minute_delay) * 60\n",
    "    print(f'DELAY: {seconds_delay} seconds')\n",
    "    print(f'GPUS: {gpus}')\n",
    "    print(f'PATH: {p}')\n",
    "    lock(path=p, gpus=gpus, seconds_delay=seconds_delay)\n",
    "    "
   ]
  },
  {
   "cell_type": "markdown",
   "metadata": {
    "execution": {
     "iopub.execute_input": "2020-05-13T11:15:24.228710Z",
     "iopub.status.busy": "2020-05-13T11:15:24.228412Z",
     "iopub.status.idle": "2020-05-13T11:15:24.231250Z",
     "shell.execute_reply": "2020-05-13T11:15:24.230740Z",
     "shell.execute_reply.started": "2020-05-13T11:15:24.228673Z"
    }
   },
   "source": [
    "# Tests"
   ]
  },
  {
   "cell_type": "code",
   "execution_count": 6,
   "metadata": {
    "execution": {
     "iopub.execute_input": "2020-05-13T15:02:46.000501Z",
     "iopub.status.busy": "2020-05-13T15:02:46.000222Z",
     "iopub.status.idle": "2020-05-13T15:02:56.014223Z",
     "shell.execute_reply": "2020-05-13T15:02:56.013670Z",
     "shell.execute_reply.started": "2020-05-13T15:02:46.000467Z"
    }
   },
   "outputs": [
    {
     "name": "stdout",
     "output_type": "stream",
     "text": [
      "Locking \"0,1\" @ test/dhpo_2020_May_13_18_02_56_001469.lock\n"
     ]
    }
   ],
   "source": [
    "lock(gpus='0,1', seconds_delay=10)"
   ]
  },
  {
   "cell_type": "code",
   "execution_count": null,
   "metadata": {
    "execution": {
     "iopub.status.busy": "2020-05-13T15:02:41.352655Z",
     "iopub.status.idle": "2020-05-13T15:02:41.352882Z"
    }
   },
   "outputs": [],
   "source": [
    "#! rm ./test/*"
   ]
  },
  {
   "cell_type": "markdown",
   "metadata": {
    "execution": {
     "iopub.execute_input": "2020-05-13T11:15:45.007325Z",
     "iopub.status.busy": "2020-05-13T11:15:45.007017Z",
     "iopub.status.idle": "2020-05-13T11:15:45.009926Z",
     "shell.execute_reply": "2020-05-13T11:15:45.009481Z",
     "shell.execute_reply.started": "2020-05-13T11:15:45.007281Z"
    }
   },
   "source": [
    "# Exports"
   ]
  },
  {
   "cell_type": "code",
   "execution_count": 19,
   "metadata": {
    "execution": {
     "iopub.execute_input": "2020-05-20T12:36:16.559755Z",
     "iopub.status.busy": "2020-05-20T12:36:16.559447Z",
     "iopub.status.idle": "2020-05-20T12:36:16.745853Z",
     "shell.execute_reply": "2020-05-20T12:36:16.745172Z",
     "shell.execute_reply.started": "2020-05-20T12:36:16.559718Z"
    }
   },
   "outputs": [
    {
     "name": "stdout",
     "output_type": "stream",
     "text": [
      "Converted locker.ipynb to exp/nb_locker.py\n"
     ]
    }
   ],
   "source": [
    "!python3 extra/n2s.py locker.ipynb"
   ]
  },
  {
   "cell_type": "code",
   "execution_count": 23,
   "metadata": {
    "execution": {
     "iopub.execute_input": "2020-05-13T17:35:04.810823Z",
     "iopub.status.busy": "2020-05-13T17:35:04.810551Z",
     "iopub.status.idle": "2020-05-13T17:35:08.120191Z",
     "shell.execute_reply": "2020-05-13T17:35:08.119312Z",
     "shell.execute_reply.started": "2020-05-13T17:35:04.810787Z"
    }
   },
   "outputs": [
    {
     "name": "stdout",
     "output_type": "stream",
     "text": [
      "DELAY: 3.0 seconds\n",
      "GPUS: 0,1\n",
      "PATH: /home/sokolov/work/cycler/crsch_cycle/locks\n",
      "Locking \"0,1\" @ /home/sokolov/work/cycler/crsch_cycle/locks/dhpo_2020_May_13_20_35_07_988504.lock\n"
     ]
    }
   ],
   "source": [
    "!python3 exp/nb_locker.py --gpus=0,1 --mdelay=.05"
   ]
  },
  {
   "cell_type": "code",
   "execution_count": null,
   "metadata": {},
   "outputs": [],
   "source": []
  },
  {
   "cell_type": "code",
   "execution_count": null,
   "metadata": {},
   "outputs": [],
   "source": []
  },
  {
   "cell_type": "code",
   "execution_count": null,
   "metadata": {},
   "outputs": [],
   "source": []
  }
 ],
 "metadata": {
  "kernelspec": {
   "display_name": "Python 3",
   "language": "python",
   "name": "python3"
  },
  "language_info": {
   "codemirror_mode": {
    "name": "ipython",
    "version": 3
   },
   "file_extension": ".py",
   "mimetype": "text/x-python",
   "name": "python",
   "nbconvert_exporter": "python",
   "pygments_lexer": "ipython3",
   "version": "3.6.9"
  }
 },
 "nbformat": 4,
 "nbformat_minor": 4
}
