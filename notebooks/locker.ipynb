{
 "cells": [
  {
   "cell_type": "code",
   "execution_count": null,
   "metadata": {},
   "outputs": [],
   "source": [
    "#export\n",
    "import os\n",
    "import sys\n",
    "sys.path.append(os.path.join(os.getcwd(),'exp'))\n",
    "import time\n",
    "import atexit\n",
    "import argparse\n",
    "import datetime\n",
    "from pathlib import Path\n",
    "from functools import partial\n",
    "\n",
    "import numpy  as np\n",
    "import GPUtil as gu\n",
    "from nb_helpers import GpuLockedTimeout, GpuUsageTimeout"
   ]
  },
  {
   "cell_type": "markdown",
   "metadata": {},
   "source": [
    "# Code"
   ]
  },
  {
   "cell_type": "code",
   "execution_count": null,
   "metadata": {},
   "outputs": [],
   "source": [
    "#export\n",
    "\n",
    "class Lock:\n",
    "    def __init__(self, path, data, seconds_delay):\n",
    "        timedelta = datetime.timedelta(seconds=seconds_delay)\n",
    "        time_out = datetime.datetime.now() + timedelta\n",
    "        timestamp = '{:%Y_%b_%d_%H_%M_%S_%f}'.format(time_out)\n",
    "        lock_name = f'dhpo_{timestamp}.lock'\n",
    "        self.lock_name = path / lock_name\n",
    "        self.data = data   \n",
    "    \n",
    "    def __enter__(self):\n",
    "        try:\n",
    "            print(f'Locking \"{self.data}\" @ {self.lock_name}')\n",
    "            with open(self.lock_name, 'w+') as f:\n",
    "                f.write(self.data)\n",
    "            os.chmod(self.lock_name, 0o776)\n",
    "        except Exception as e:\n",
    "            print(f'Cant get a lock! {self.lock_name} \\n', e)\n",
    "            self.lock_name = None\n",
    "            \n",
    "        return self.lock_name\n",
    "    \n",
    "    def __exit__(self, type, value, traceback):\n",
    "        try:\n",
    "            if self.lock_name:\n",
    "                os.remove(self.lock_name)\n",
    "        except Exception as e:\n",
    "            print(f'Cant remove lock! {self.lock_name}\\n', e)\n"
   ]
  },
  {
   "cell_type": "code",
   "execution_count": null,
   "metadata": {},
   "outputs": [],
   "source": [
    "#export\n",
    "def base_exit_handler(lock_name):\n",
    "    try:\n",
    "        if lock_name:\n",
    "            if os.path.exists(lock_name): os.remove(lock_name)\n",
    "    except Exception as e:\n",
    "        print(f'Cant remove lock! {lock_name}\\n', e)\n",
    "\n",
    "def lock(gpus, seconds_delay, path='/tmp'):\n",
    "    gpus = str(gpus).strip('()')\n",
    "    lock = Lock(path, gpus, seconds_delay)\n",
    "    with lock as l:\n",
    "        exit_handler = partial(base_exit_handler, lock_name=l)\n",
    "        atexit.register(exit_handler)\n",
    "        time.sleep(seconds_delay)"
   ]
  },
  {
   "cell_type": "code",
   "execution_count": null,
   "metadata": {},
   "outputs": [],
   "source": [
    "#export\n",
    "def check_locks(path):\n",
    "    g = path.rglob('dhpo_*.lock')\n",
    "    locked_gpus = set()\n",
    "    for l in g:\n",
    "        if is_expired(l):\n",
    "            print(f'Lock {l} is expired, deleting')\n",
    "            clean_up(l)\n",
    "            continue\n",
    "        locked_gpus.update(read_lock(l))\n",
    "    return locked_gpus\n",
    "\n",
    "def list_locks(path):\n",
    "    g = path.rglob('dhpo_*.lock')\n",
    "    if g:\n",
    "        for i, l in enumerate(g):\n",
    "            print(f'\\t{i}. {l.name}')\n",
    "            with open(l, 'r') as f:\n",
    "                print(f'\\t\\tGPUS: {f.read()}')\n",
    "    else:\n",
    "        print('\\tThere is no locks')\n",
    "    \n",
    "def is_expired(name):\n",
    "    date = name.name.strip('dhpo_').rstrip('.lock')\n",
    "    datetime_object = datetime.datetime.strptime(date, '%Y_%b_%d_%H_%M_%S_%f')\n",
    "    datetime_object, datetime_object > datetime.datetime.now()\n",
    "    return datetime_object < datetime.datetime.now()\n",
    "\n",
    "def clean_up(name): os.remove(name)\n",
    "    \n",
    "def read_lock(name):\n",
    "    with open(name, 'r') as f:\n",
    "        data = f.read()\n",
    "    return set([int(i) for i in data if i.isdigit()])"
   ]
  },
  {
   "cell_type": "code",
   "execution_count": null,
   "metadata": {},
   "outputs": [],
   "source": [
    "#export\n",
    "def check_gpu_access(path, gpus):\n",
    "    print(f'\\n\\tChecking {path} for locks on gpu {gpus}...')\n",
    "\n",
    "    target_gpu = set([int(i) for i in gpus if i.isdigit()])\n",
    "    all_gpus = set((0,1,2,3))\n",
    "\n",
    "    locked_gpus = check_locks(path)\n",
    "    avail_gpus = all_gpus - locked_gpus    \n",
    "    if target_gpu.issubset(avail_gpus):\n",
    "        print(f'\\n\\tgpu {target_gpu} is avaliable...')\n",
    "    else:\n",
    "        print(f'\\n\\tWaiting, gpu #{target_gpu} is locked. Current gpus under lock: {locked_gpus}')\n",
    "        raise GpuLockedTimeout\n",
    "\n",
    "def check_gpu_usage(gpus, threshlod=.2, delay=.1):\n",
    "    gpus = set([int(i) for i in gpus if i.isdigit()])\n",
    "    load = get_gpu_load(delay)\n",
    "    for g in gpus:\n",
    "        if load[g] > threshlod:\n",
    "            print(f'Usage on gpu{g} : {load[g]}')\n",
    "            raise GpuUsageTimeout\n",
    "    print(f'Gpu usage is acceptable: {load}')\n",
    "    \n",
    "def get_gpu_load(delay=.1):\n",
    "    load = []\n",
    "    for i in range(10):\n",
    "        gpus = gu.getGPUs()\n",
    "        c_load = [g.load for g in gpus]\n",
    "        load.append(c_load)\n",
    "        time.sleep(delay)\n",
    "    return np.array(load).mean(axis=0)"
   ]
  },
  {
   "cell_type": "code",
   "execution_count": null,
   "metadata": {},
   "outputs": [],
   "source": []
  },
  {
   "cell_type": "markdown",
   "metadata": {},
   "source": [
    "# Tests"
   ]
  },
  {
   "cell_type": "code",
   "execution_count": null,
   "metadata": {},
   "outputs": [],
   "source": []
  },
  {
   "cell_type": "code",
   "execution_count": null,
   "metadata": {},
   "outputs": [],
   "source": [
    "lock(gpus='0,1', seconds_delay=10)"
   ]
  },
  {
   "cell_type": "markdown",
   "metadata": {},
   "source": [
    "# Exports"
   ]
  },
  {
   "cell_type": "code",
   "execution_count": null,
   "metadata": {},
   "outputs": [],
   "source": [
    "!python3 extra/n2s.py locker.ipynb"
   ]
  },
  {
   "cell_type": "code",
   "execution_count": null,
   "metadata": {},
   "outputs": [],
   "source": []
  },
  {
   "cell_type": "code",
   "execution_count": null,
   "metadata": {},
   "outputs": [],
   "source": []
  },
  {
   "cell_type": "code",
   "execution_count": null,
   "metadata": {},
   "outputs": [],
   "source": []
  }
 ],
 "metadata": {
  "kernelspec": {
   "display_name": "Python 3",
   "language": "python",
   "name": "python3"
  },
  "language_info": {
   "codemirror_mode": {
    "name": "ipython",
    "version": 3
   },
   "file_extension": ".py",
   "mimetype": "text/x-python",
   "name": "python",
   "nbconvert_exporter": "python",
   "pygments_lexer": "ipython3",
   "version": "3.6.9"
  }
 },
 "nbformat": 4,
 "nbformat_minor": 4
}
