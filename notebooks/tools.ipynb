{
 "cells": [
  {
   "cell_type": "markdown",
   "metadata": {},
   "source": [
    "# Imports"
   ]
  },
  {
   "cell_type": "code",
   "execution_count": null,
   "metadata": {},
   "outputs": [],
   "source": [
    "#export\n",
    "import os\n",
    "import sys\n",
    "import atexit\n",
    "sys.path.append(os.path.join(os.getcwd(),'exp'))\n",
    "\n",
    "import fire\n",
    "import docker\n",
    "from functools import partial\n",
    "from pathlib import Path\n",
    "\n",
    "from config import cfg\n",
    "from nb_locker import check_locks, list_locks, lock as locker\n",
    "from nb_helpers import CantDoThatMuch, clrd, log"
   ]
  },
  {
   "cell_type": "markdown",
   "metadata": {},
   "source": [
    "# Code"
   ]
  },
  {
   "cell_type": "code",
   "execution_count": null,
   "metadata": {},
   "outputs": [],
   "source": [
    "#export\n",
    "def cycle_c_gen(pat=cfg.DOCKER.CONTAINER_PREFIX, list_all=False): \n",
    "    containers = (docker.from_env()).containers.list(all=list_all)\n",
    "    for i, c in enumerate(containers):\n",
    "        name = clrd(c.name, 'BLUE')\n",
    "        print(f'{i}. container\\t {name} :')\n",
    "        if pat in c.name: yield c\n",
    "        else: print(f'\\t Skipping {name}, not part of dHPO\\n')\n",
    "    \n",
    "def check_gpu(container):\n",
    "    env_vars = container.attrs['Config']['Env']\n",
    "    for v in env_vars:\n",
    "        if v.startswith('CUDA_VISIBLE_DEVICES'):\n",
    "            gpus = v.split(\"=\")[-1]\n",
    "            break\n",
    "    else: raise UnknownGpuDevice\n",
    "    return set([int(g) for g in gpus.split(',')])"
   ]
  },
  {
   "cell_type": "code",
   "execution_count": null,
   "metadata": {},
   "outputs": [],
   "source": [
    "#export\n",
    "def check_status(c):\n",
    "    c.reload()\n",
    "    return c.status\n",
    "\n",
    "def is_running(c): return check_status(c) == 'running'\n",
    "def is_paused(c): return check_status(c) == 'paused'\n",
    "\n",
    "def unpause(c):\n",
    "    if is_paused(c):\n",
    "        print(f'\\t UNpausing {c.name}...')\n",
    "        c.unpause()\n",
    "        return True\n",
    "    elif is_running(c):\n",
    "        log(f'\\tWARNING {c.name} already running!', c='BROWN')\n",
    "        return True\n",
    "    else:\n",
    "        print(f'\\tSomething is wrong with {c.name}, check it manually')\n",
    "        return False\n",
    "\n",
    "def pause(c):\n",
    "    if is_running(c):\n",
    "        print(f'\\t Pausing {c.name}...')\n",
    "        c.pause()\n",
    "        return True\n",
    "    elif is_paused(c):\n",
    "        log(f'\\tWARNING {c.name} already on pause!', c='BROWN')\n",
    "        return True\n",
    "    else:\n",
    "        print(f'\\tSomething is wrong with {c.name}, check it manually')\n",
    "        return False\n",
    "    \n",
    "def switch(gpus, mode):\n",
    "    usage =''' Usage:\n",
    "        switch $GPUS $MODE\n",
    "        switch 0 pause\n",
    "        switch 0,1 unpause\n",
    "    '''\n",
    "    if gpus is None or mode not in ['pause', 'unpause']:\n",
    "        log(usage, c='RED')\n",
    "        return\n",
    "    \n",
    "    if not isinstance(gpus, tuple): gpus = gpus,\n",
    "    do = pause if mode == 'pause' else unpause\n",
    "\n",
    "    for c in cycle_c_gen():\n",
    "        c_gpus = check_gpu(c)\n",
    "        if c_gpus.intersection(gpus):\n",
    "            print(f'\\t{c.name} is using GPUS{c_gpus}, trying to set on \"{mode}\"')\n",
    "            do(c)\n",
    "        else:\n",
    "            print(f'\\tSkipping {c.name}, on GPU{c_gpus}')"
   ]
  },
  {
   "cell_type": "code",
   "execution_count": null,
   "metadata": {},
   "outputs": [],
   "source": [
    "#export\n",
    "def forced(func):\n",
    "    def force(force_arg, *args, **kwargs):\n",
    "        if force_arg == 'force':\n",
    "            return func(*args, **kwargs)\n",
    "        else:\n",
    "            log('Specify force arg: dhpoctl kill | clean  force', c='BROWN')\n",
    "    return force"
   ]
  },
  {
   "cell_type": "code",
   "execution_count": null,
   "metadata": {},
   "outputs": [],
   "source": [
    "#export\n",
    "def status():\n",
    "    print(f'  *{cfg.DOCKER.CONTAINER_PREFIX}* containers: ')\n",
    "    for c in cycle_c_gen():\n",
    "        gpu = str(check_gpu(c)).strip('{}')\n",
    "        color = 'GREEN' if c.status == 'running' else 'BROWN'\n",
    "        print(clrd(f'\\t GPU# {gpu} {c.status}', color))\n",
    "    print(f'Active locks @ {cfg.GPUS.LOCK}:')\n",
    "    list_locks(Path(cfg.GPUS.LOCK))\n",
    "    \n",
    "@forced           \n",
    "def clean():\n",
    "    ''' Cleans up exited dhpo containers '''\n",
    "    for c in cycle_c_gen(list_all=True):\n",
    "        if c.status == 'exited': c.remove()\n",
    "        else: print(f'\\tSkipping, status:{c.status}')\n",
    "\n",
    "@forced\n",
    "def kill(gpus):\n",
    "    '''\n",
    "    Kills dhpo containers on specified gpu(s)\n",
    "    Args:\n",
    "        gpus: int or tuple | 0 | 0,1 | 2,3,6\n",
    "    '''\n",
    "    if not isinstance(gpus, tuple): gpus = gpus,\n",
    "    \n",
    "    for c in cycle_c_gen():\n",
    "        c_gpus = check_gpu(c)\n",
    "        if c_gpus.intersection(gpus):\n",
    "            if c.status == 'running' or c.status == 'paused':\n",
    "                print(clrd(f'Killing {c.name}','RED'))\n",
    "                c.kill()\n",
    "            else: print(f'\\tSkipping, status:{c.status}')\n",
    "        else:\n",
    "            print(f'\\tSkipping, @ gpu {c_gpus}')\n",
    "            \n",
    "def lock(gpus, delay):\n",
    "    ''' Locks up gpu for user\n",
    "    \n",
    "        Lock dhpo usage (pause docker container) of specified gpu(s) \n",
    "        for some period of time (delay)\n",
    "    Args:\n",
    "        gpus: GPU ids, int or tuple.  | 0 | 0,1 | 2,3,6\n",
    "        delay: Time interval in minutes, float, \n",
    "    '''\n",
    "    delay = delay * 60\n",
    "    if delay > 8*60: raise CantDoThatMuch\n",
    "    switch(gpus, 'pause')\n",
    "    #atexit.register(reset)\n",
    "    locker(gpus, delay, path=Path(cfg.GPUS.LOCK))\n",
    "\n",
    "def reset():\n",
    "    ''' Updating locks state, dockers state. Removing expired locks '''\n",
    "    lp = Path(cfg.GPUS.LOCK)\n",
    "    for c in cycle_c_gen():\n",
    "        locked_gpus = check_locks(lp)\n",
    "        if not locked_gpus.intersection(check_gpu(c)): unpause(c)\n",
    "        else: print('locked, skip')"
   ]
  },
  {
   "cell_type": "code",
   "execution_count": null,
   "metadata": {},
   "outputs": [],
   "source": []
  },
  {
   "cell_type": "markdown",
   "metadata": {},
   "source": [
    "# Tests "
   ]
  },
  {
   "cell_type": "code",
   "execution_count": null,
   "metadata": {},
   "outputs": [],
   "source": [
    "#export\n",
    "if __name__ == '__main__':\n",
    "    fire.Fire({'status':status,\n",
    "               'lock':lock,\n",
    "               'kill':kill,\n",
    "               'clean':clean,\n",
    "               'reset':reset,\n",
    "               'z__switch':switch,\n",
    "              })"
   ]
  },
  {
   "cell_type": "code",
   "execution_count": null,
   "metadata": {},
   "outputs": [],
   "source": [
    "client = docker.from_env()\n",
    "containers = client.containers.list(all=True)\n",
    "c = containers[0]\n",
    "c.name, c.status"
   ]
  },
  {
   "cell_type": "code",
   "execution_count": null,
   "metadata": {},
   "outputs": [],
   "source": []
  },
  {
   "cell_type": "markdown",
   "metadata": {},
   "source": [
    "# Exports"
   ]
  },
  {
   "cell_type": "code",
   "execution_count": null,
   "metadata": {},
   "outputs": [],
   "source": [
    "!python3 extra/n2s.py tools.ipynb"
   ]
  },
  {
   "cell_type": "code",
   "execution_count": null,
   "metadata": {},
   "outputs": [],
   "source": [
    "!python3 exp/nb_tools.py lock --help"
   ]
  },
  {
   "cell_type": "code",
   "execution_count": null,
   "metadata": {},
   "outputs": [],
   "source": []
  },
  {
   "cell_type": "code",
   "execution_count": null,
   "metadata": {},
   "outputs": [],
   "source": [
    "!python3 exp/nb_tools.py status"
   ]
  },
  {
   "cell_type": "code",
   "execution_count": null,
   "metadata": {},
   "outputs": [],
   "source": [
    "!python3 exp/nb_tools.py kill force 0,1,2"
   ]
  },
  {
   "cell_type": "code",
   "execution_count": null,
   "metadata": {},
   "outputs": [],
   "source": [
    "!python3 exp/nb_tools.py clean force"
   ]
  },
  {
   "cell_type": "code",
   "execution_count": null,
   "metadata": {},
   "outputs": [],
   "source": [
    "!python3 exp/nb_tools.py reset"
   ]
  },
  {
   "cell_type": "code",
   "execution_count": null,
   "metadata": {},
   "outputs": [],
   "source": [
    "!python3 exp/nb_tools.py lock 0,1 30"
   ]
  },
  {
   "cell_type": "code",
   "execution_count": null,
   "metadata": {},
   "outputs": [],
   "source": []
  }
 ],
 "metadata": {
  "kernelspec": {
   "display_name": "Python 3",
   "language": "python",
   "name": "python3"
  },
  "language_info": {
   "codemirror_mode": {
    "name": "ipython",
    "version": 3
   },
   "file_extension": ".py",
   "mimetype": "text/x-python",
   "name": "python",
   "nbconvert_exporter": "python",
   "pygments_lexer": "ipython3",
   "version": "3.7.3"
  }
 },
 "nbformat": 4,
 "nbformat_minor": 4
}
