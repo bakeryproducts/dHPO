{
 "cells": [
  {
   "cell_type": "markdown",
   "metadata": {},
   "source": [
    "# Imports"
   ]
  },
  {
   "cell_type": "code",
   "execution_count": null,
   "metadata": {},
   "outputs": [],
   "source": [
    "#export\n",
    "import os\n",
    "import sys\n",
    "sys.path.append(os.path.join(os.getcwd(),'exp'))\n",
    "\n",
    "import yaml\n",
    "import json\n",
    "import numpy as np\n",
    "from pprint import pprint\n",
    "from skopt import Optimizer\n",
    "from skopt.space import Real, Integer\n",
    "from collections import OrderedDict\n",
    "\n",
    "from config import cfg\n",
    "from nb_helpers import create_nested, dict_merge"
   ]
  },
  {
   "cell_type": "code",
   "execution_count": null,
   "metadata": {},
   "outputs": [],
   "source": [
    "import matplotlib.pyplot as plt\n",
    "%matplotlib inline"
   ]
  },
  {
   "cell_type": "markdown",
   "metadata": {},
   "source": [
    "# Code"
   ]
  },
  {
   "cell_type": "code",
   "execution_count": null,
   "metadata": {},
   "outputs": [],
   "source": [
    "#export\n",
    "class BaseConfigBo:\n",
    "    def __init__(self, n):\n",
    "        self.n_points = n\n",
    "        \n",
    "    def read_params(self, params):\n",
    "        bounds = {}\n",
    "        for name, settings in params.items():\n",
    "            if settings['default'] is not None: continue\n",
    "            space_args = {}\n",
    "            space_type = Real if settings['type'] is float else Integer\n",
    "            space_args['low'],space_args['high'] = settings['bounds'][0], settings['bounds'][1]\n",
    "            space_args['prior'] = settings['prior']\n",
    "            bounds[name] = space_type(**space_args)\n",
    "        \n",
    "        bounds = [bounds[k] for k in sorted(bounds)]\n",
    "        return bounds\n",
    "    \n",
    "    def init_opt(self, bounds):\n",
    "        return Optimizer(\n",
    "                    dimensions=bounds,\n",
    "                    random_state=1,\n",
    "                    base_estimator='gp',\n",
    "                    n_initial_points=2*self.n_points)\n",
    "        \n",
    "    def register(self, o, hp_points, boparams):\n",
    "        NEGATIVE = -1\n",
    "        for hp_point in hp_points:\n",
    "            points = hp_point['points']\n",
    "            x = []\n",
    "            for k1, k2 in zip(sorted(points), boparams):\n",
    "                if k1 == k2: x.append(points[k1])\n",
    "                else:\n",
    "                    print('keys mismatch: ', k1, k2)\n",
    "                    raise ValueError\n",
    "            y = NEGATIVE * hp_point['target']\n",
    "            try:\n",
    "                o.tell(x, y)\n",
    "                print(f'Registrating: {x}, {y}')\n",
    "            except ValueError as v:\n",
    "                print(f'\\n\\n\\tWARNING, point is out of bounds: {v}')\n",
    "        \n",
    "    def get_values(self, o, names):\n",
    "        o.update_next()\n",
    "        set_points = o.ask(n_points=self.n_points)\n",
    "        all_points = []\n",
    "        for points in set_points:\n",
    "            ps = {}\n",
    "            for n,p  in zip(names, points):\n",
    "                t = self.params[n]['type']\n",
    "                ps[n] = t(p)\n",
    "            all_points.append(ps)   \n",
    "        #points = [{n:p for n,p in zip(names, points)} for points in set_points]\n",
    "        return all_points\n",
    "    \n",
    "    def init_warmups(self,  warm_list, boparams):\n",
    "        warmups = []\n",
    "        if warm_list:\n",
    "            for w in warm_list:\n",
    "                warmups.extend(self.read_warmup(w, boparams))\n",
    "        return warmups\n",
    "    \n",
    "    def read_warmup(self, warmup, boparams):\n",
    "        if not warmup:\n",
    "            return []\n",
    "        with open(warmup, 'r') as f:\n",
    "            data = json.load(f)\n",
    "        cleared_data = []\n",
    "        for hppoint in data:\n",
    "            points = hppoint['points']\n",
    "            hpkeys = set(points.keys())\n",
    "            if hpkeys.intersection(boparams) != set(boparams):\n",
    "                return cleared_data\n",
    "            \n",
    "            cleared_point = {}\n",
    "            for p in boparams:\n",
    "                cleared_point[p] = points[p]\n",
    "            cleared_data.append({'points':cleared_point, 'target':hppoint['target']})\n",
    "        return cleared_data\n",
    "    \n",
    "    def create_state(self, points, idx):\n",
    "        points = points.copy()\n",
    "        o = self.init_opt(self.bounds)\n",
    "        points.extend(self.warmup)\n",
    "        if points: self.register(o, points, self.boparams)\n",
    "        \n",
    "        list_of_new_params = self.get_values(o, self.boparams)\n",
    "        new_params = list_of_new_params[idx]\n",
    "        pprint(new_params, indent=4)\n",
    "        \n",
    "        cfg = {}\n",
    "        for name, settings in self.params.items():\n",
    "            new_value = new_params[name] if not settings['default'] else settings['default']\n",
    "            sub_cfg = create_nested(name, new_value)\n",
    "            dict_merge(cfg, sub_cfg)\n",
    "        \n",
    "        return new_params, cfg\n",
    "    \n",
    "    def to_dict(self, params):\n",
    "        d = {}\n",
    "        params = sorted(params, key=lambda x:x['name'], reverse=False)\n",
    "        for p in params:\n",
    "            d[p['name']] = {n:v for n,v in p.items() if n != 'name'}\n",
    "        return OrderedDict(d)\n",
    "    \n",
    "class Bo(BaseConfigBo):\n",
    "    def __init__(self, params, warm_list, *args, **kwargs):\n",
    "        super(Bo, self).__init__(*args, **kwargs)\n",
    "        self.params =  self.to_dict(params)\n",
    "        self.boparams = [k for k in self.params if self.params[k]['default'] is None]\n",
    "        self.bounds = self.read_params(self.params)\n",
    "        self.warmup = self.init_warmups(warm_list, self.boparams)    "
   ]
  },
  {
   "cell_type": "code",
   "execution_count": null,
   "metadata": {},
   "outputs": [],
   "source": []
  },
  {
   "cell_type": "markdown",
   "metadata": {},
   "source": [
    "# More Tests"
   ]
  },
  {
   "cell_type": "code",
   "execution_count": null,
   "metadata": {},
   "outputs": [],
   "source": [
    "#export\n",
    "n_parallel_processes = len(cfg.GPUS.IDS)\n",
    "warm_list = ['/home/sokolov/work/cycler/dHPO/2020_May_21_18_34_23_hp.json']\n",
    "\n",
    "params_static = [\n",
    "            {'name':'generations', 'default':200},\n",
    "]\n",
    "params_genom = [\n",
    "            {'name':'genom|mutate_chance', 'bounds':(0,.05), 'type':float, 'prior':'uniform', 'default':None},\n",
    "            {'name':'genom|crossover_chance', 'bounds':(0,1), 'type':float, 'prior':'uniform', 'default':None},\n",
    "            {'name':'genom|combine_chance', 'bounds':(0,1), 'type':float, 'prior':'uniform', 'default':None},\n",
    "]\n",
    "params_post =[ \n",
    "            {'name':'post|exp_power','bounds':(1,15), 'type':int, 'prior':'uniform', 'default':None}\n",
    "]\n",
    "\n",
    "p_all = [*params_static, *params_genom, *params_post]\n",
    "b1 = Bo(n=n_parallel_processes, params=p_all, warm_list=warm_list)\n",
    "\n",
    "b2 = Bo(n=n_parallel_processes, params=params_post, warm_list=warm_list)\n",
    "\n",
    "\n",
    "def bo_all(**kwargs):\n",
    "    inner_state, new_state=bo_all.create_state(points=kwargs['hp_points'], idx=kwargs['idx'])\n",
    "    return run(new_state=new_state, inner_state=inner_state, **kwargs)\n",
    "\n",
    "def bo_exp(**kwargs):\n",
    "    inner_state, new_state=bo_exp.create_state(points=kwargs['hp_points'], idx=kwargs['idx'])\n",
    "    return run(new_state=new_state, inner_state=inner_state, **kwargs)"
   ]
  },
  {
   "cell_type": "code",
   "execution_count": null,
   "metadata": {},
   "outputs": [],
   "source": []
  },
  {
   "cell_type": "code",
   "execution_count": null,
   "metadata": {},
   "outputs": [],
   "source": []
  },
  {
   "cell_type": "code",
   "execution_count": null,
   "metadata": {},
   "outputs": [],
   "source": [
    "points = [{'points':{'genom|crossover_chance': 0.493, 'post|exp_power': 1.14, 'genom|combine_chance':.2}, 'target':0.3},\n",
    "         { 'points':{'genom|crossover_chance': 0.6985, 'post|exp_power': 1.1, 'genom|combine_chance':.9}, 'target':.4},\n",
    "           { 'points':{'genom|crossover_chance': 0.67, 'post|exp_power': 1.5, 'genom|combine_chance':.5}, 'target':.4},\n",
    "         ]\n",
    "\n",
    "# points = [{'points':{'cr': 0.493, 'mc': .014, 'co':.2}, 'target':0.3},\n",
    "#          { 'points':{'cr': 0.6985, 'mc': .01, 'co':.9}, 'target':.4},\n",
    "#            { 'points':{'cr': 0.67, 'mc': .5, 'co':.5}, 'target':.4},\n",
    "#          ]\n",
    "points = [{\"points\":{   'genom|combine_chance': 0.702644992444359,\n",
    "    'genom|crossover_chance': 0.061651731814223246,\n",
    "    'genom|mutate_chance': 0.01884459380869284,\n",
    "    'post|exp_power': 3}, 'target':.1}]\n",
    "af = {\n",
    "    'hp_points':points,\n",
    "    'idx':0\n",
    "}"
   ]
  },
  {
   "cell_type": "code",
   "execution_count": null,
   "metadata": {},
   "outputs": [],
   "source": [
    "n_parallel_processes = len(cfg.GPUS.IDS)\n",
    "warm_list = None\n",
    "\n",
    "b2 = Bo(n=n_parallel_processes, params=p_all, warm_list=warm_list)"
   ]
  },
  {
   "cell_type": "code",
   "execution_count": null,
   "metadata": {},
   "outputs": [],
   "source": [
    "ns, ccfg = b1.create_state(points=af['hp_points'], idx=af['idx'])"
   ]
  },
  {
   "cell_type": "code",
   "execution_count": null,
   "metadata": {},
   "outputs": [],
   "source": []
  },
  {
   "cell_type": "code",
   "execution_count": null,
   "metadata": {},
   "outputs": [],
   "source": []
  },
  {
   "cell_type": "code",
   "execution_count": null,
   "metadata": {},
   "outputs": [],
   "source": [
    "for i in range(10):\n",
    "    x = optimizer.ask(n_points=4)  # x is a list of n_points points\n",
    "    y = Parallel(n_jobs=4)(delayed(branin)(v) for v in x)  # evaluate points in parallel\n",
    "    optimizer.tell(x, y)\n",
    "\n",
    "# takes ~ 20 sec to get here\n",
    "print(min(optimizer.yi))  # print the best objective found"
   ]
  },
  {
   "cell_type": "code",
   "execution_count": null,
   "metadata": {},
   "outputs": [],
   "source": []
  },
  {
   "cell_type": "markdown",
   "metadata": {},
   "source": [
    "# Exports"
   ]
  },
  {
   "cell_type": "code",
   "execution_count": null,
   "metadata": {},
   "outputs": [],
   "source": [
    "!python3 extra/n2s.py bo.ipynb"
   ]
  },
  {
   "cell_type": "code",
   "execution_count": null,
   "metadata": {},
   "outputs": [],
   "source": []
  }
 ],
 "metadata": {
  "kernelspec": {
   "display_name": "Python 3",
   "language": "python",
   "name": "python3"
  },
  "language_info": {
   "codemirror_mode": {
    "name": "ipython",
    "version": 3
   },
   "file_extension": ".py",
   "mimetype": "text/x-python",
   "name": "python",
   "nbconvert_exporter": "python",
   "pygments_lexer": "ipython3",
   "version": "3.6.9"
  }
 },
 "nbformat": 4,
 "nbformat_minor": 4
}
