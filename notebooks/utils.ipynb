{
 "cells": [
  {
   "cell_type": "markdown",
   "metadata": {},
   "source": [
    "# Imports"
   ]
  },
  {
   "cell_type": "code",
   "execution_count": null,
   "metadata": {},
   "outputs": [],
   "source": [
    "import os\n",
    "import json\n",
    "import yaml\n",
    "import datetime\n",
    "from pathlib import Path\n",
    "from collections import defaultdict, MutableMapping, Mapping"
   ]
  },
  {
   "cell_type": "code",
   "execution_count": null,
   "metadata": {
    "tags": [
     "active-ipynb"
    ]
   },
   "outputs": [],
   "source": [
    "import numpy as np\n",
    "import pandas as pd\n",
    "import matplotlib.pyplot as plt\n",
    "%matplotlib inline"
   ]
  },
  {
   "cell_type": "markdown",
   "metadata": {},
   "source": [
    "# Code"
   ]
  },
  {
   "cell_type": "code",
   "execution_count": null,
   "metadata": {},
   "outputs": [],
   "source": [
    "class UnknownGpuDevice(Exception):pass\n",
    "class CantDoThatMuch(Exception):pass\n",
    "\n",
    "class GpuLockedTimeout(Exception):pass\n",
    "class GpuUsageTimeout(Exception):pass"
   ]
  },
  {
   "cell_type": "code",
   "execution_count": null,
   "metadata": {},
   "outputs": [],
   "source": [
    "def flatten(d, parent_key='', sep='_'):\n",
    "    items = []\n",
    "    for k, v in d.items():\n",
    "        new_key = parent_key + sep + k if parent_key else k\n",
    "        if isinstance(v, MutableMapping):\n",
    "            items.extend(flatten(v, new_key, sep=sep).items())\n",
    "        else:\n",
    "            items.append((new_key, v))\n",
    "    return dict(items)\n",
    "\n",
    "def load_txt_log(path, types=None, read_header=False, delimiter=','):\n",
    "    with open(path, 'r') as f:\n",
    "        raw_logs = f.read()\n",
    "    logs = raw_logs.split('\\n')\n",
    "\n",
    "    header=None\n",
    "    if read_header:\n",
    "        header, *logs = logs\n",
    "        header = header.split(delimeter)\n",
    "\n",
    "    parsed_logs = []\n",
    "    for line in logs:\n",
    "        line = line.split(delimiter)\n",
    "        if types is not None:\n",
    "            line = [t(l) for t,l in zip(types,line)]\n",
    "        parsed_logs.append(line)\n",
    "\n",
    "    return header, parsed_logs\n",
    "\n",
    "\n",
    "def dump_state(state, path, name, is_config=True, yaml_dump=True):\n",
    "    timestamp = '{:%Y_%b_%d_%H_%M_%S}'.format(datetime.datetime.now())\n",
    "    prefix = 'config_' if is_config else ''\n",
    "    if yaml_dump:\n",
    "        dump = yaml.safe_dump\n",
    "        postfix = '.yaml'\n",
    "    else:\n",
    "        dump = json.dumps\n",
    "        postfix = '.json'\n",
    "    \n",
    "    p = path/f'{prefix}{timestamp}_{name}{postfix}'\n",
    "    with open(p, 'w') as f:\n",
    "        f.write(dump(state, indent=4))\n",
    "    return p\n"
   ]
  },
  {
   "cell_type": "code",
   "execution_count": null,
   "metadata": {},
   "outputs": [],
   "source": [
    "def dict_merge(dct, merge_dct):\n",
    "    for k, v in merge_dct.items():\n",
    "        if (k in dct and isinstance(dct[k], dict)\n",
    "                and isinstance(merge_dct[k], Mapping)):\n",
    "            dict_merge(dct[k], merge_dct[k])\n",
    "        else:\n",
    "            dct[k] = merge_dct[k]\n",
    "\n",
    "def create_nested(k, v, sep='|'):\n",
    "    d = defaultdict(dict)\n",
    "    nested = d\n",
    "    for i in k.split(sep)[:-1]:\n",
    "        nested.setdefault(i, {})\n",
    "        nested = nested[i]\n",
    "    nested[k.split('|')[-1]] = v\n",
    "    return d"
   ]
  },
  {
   "cell_type": "code",
   "execution_count": null,
   "metadata": {},
   "outputs": [],
   "source": [
    "colors = {\n",
    "    \"RED\":'\\033[0;31m',\n",
    "    \"GREEN\":'\\033[0;32m',\n",
    "    \"BROWN\":'\\033[0;33m',\n",
    "    \"BLUE\":'\\033[0;34m',\n",
    "    \"NC\":'\\033[0m' \n",
    "}\n",
    "\n",
    "def clrd(s, clr):\n",
    "    return colors[clr] + s + colors['NC']\n",
    "\n",
    "def log(*args, c='NC', **kwargs):\n",
    "    print(clrd(*args, **kwargs, clr=c))"
   ]
  },
  {
   "cell_type": "code",
   "execution_count": null,
   "metadata": {},
   "outputs": [],
   "source": []
  },
  {
   "cell_type": "code",
   "execution_count": null,
   "metadata": {},
   "outputs": [],
   "source": []
  }
 ],
 "metadata": {
  "jupytext": {
   "formats": "notebooks//ipynb,dHPO//py:percent"
  },
  "kernelspec": {
   "display_name": "Python 3",
   "language": "python",
   "name": "python3"
  },
  "language_info": {
   "codemirror_mode": {
    "name": "ipython",
    "version": 3
   },
   "file_extension": ".py",
   "mimetype": "text/x-python",
   "name": "python",
   "nbconvert_exporter": "python",
   "pygments_lexer": "ipython3",
   "version": "3.7.3"
  }
 },
 "nbformat": 4,
 "nbformat_minor": 4
}
