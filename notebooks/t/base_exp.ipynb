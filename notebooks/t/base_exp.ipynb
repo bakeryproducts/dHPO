{
 "cells": [
  {
   "cell_type": "markdown",
   "metadata": {},
   "source": [
    "# Imports "
   ]
  },
  {
   "cell_type": "code",
   "execution_count": null,
   "metadata": {},
   "outputs": [],
   "source": [
    "#export\n",
    "import os\n",
    "import datetime\n",
    "import collections\n",
    "from pathlib import Path\n",
    "\n",
    "import numpy as np\n",
    "import pandas as pd"
   ]
  },
  {
   "cell_type": "markdown",
   "metadata": {},
   "source": [
    "# Code "
   ]
  },
  {
   "cell_type": "code",
   "execution_count": null,
   "metadata": {},
   "outputs": [],
   "source": [
    "#export\n",
    "class BaseProject:\n",
    "    def __init__(self, root, valid_func, Experiment):\n",
    "        self.root = root\n",
    "        self.exps = []\n",
    "        for p in root.iterdir():  \n",
    "            if valid_func(p):\n",
    "                self.exps.append(Experiment(p))\n",
    "        \n",
    "    def load(self):\n",
    "        raise NotImplementedError\n",
    "    \n",
    "    def base_table(self):\n",
    "        run_dfs = []\n",
    "        for e in self.exps:\n",
    "            dfi = pd.DataFrame(e.cfg_data, index=[e.name])\n",
    "            run_dfs.append(dfi)\n",
    "        df = pd.concat(run_dfs)\n",
    "        return df\n",
    "    \n",
    "class BaseExperiment:\n",
    "    def __init__(self, path, log_reader, cfg_reader):\n",
    "        self.path = path\n",
    "        self.name = path.name\n",
    "        self.log_reader = log_reader\n",
    "        self.cfg_reader = cfg_reader\n",
    "        self.log_data, self.cfg_data = self.load()\n",
    "    \n",
    "    \n",
    "    def load(self):\n",
    "        log_data = self.log_reader(self.path)\n",
    "        cfg_data = self.cfg_reader(self.path)\n",
    "        return log_data, cfg_data\n",
    "    \n",
    "    def __repr__(self):\n",
    "        return str(__class__) + self.name\n",
    "    \n",
    "    def __len__(self):\n",
    "        return len(self.log_data)\n",
    "        \n",
    "    def best(self, col, num=1, ascending=False):\n",
    "        assert col in self.log_data.columns\n",
    "        return self.log_data.sort_values(col, ascending=ascending)[:num]"
   ]
  },
  {
   "cell_type": "code",
   "execution_count": null,
   "metadata": {},
   "outputs": [],
   "source": []
  },
  {
   "cell_type": "markdown",
   "metadata": {},
   "source": [
    "# Exports"
   ]
  },
  {
   "cell_type": "code",
   "execution_count": null,
   "metadata": {},
   "outputs": [],
   "source": [
    "!python3 extra/n2s.py base_exp.ipynb"
   ]
  },
  {
   "cell_type": "code",
   "execution_count": null,
   "metadata": {},
   "outputs": [],
   "source": []
  }
 ],
 "metadata": {
  "kernelspec": {
   "display_name": "Python 3",
   "language": "python",
   "name": "python3"
  },
  "language_info": {
   "codemirror_mode": {
    "name": "ipython",
    "version": 3
   },
   "file_extension": ".py",
   "mimetype": "text/x-python",
   "name": "python",
   "nbconvert_exporter": "python",
   "pygments_lexer": "ipython3",
   "version": "3.6.9"
  }
 },
 "nbformat": 4,
 "nbformat_minor": 4
}
