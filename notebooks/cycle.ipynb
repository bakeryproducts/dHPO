{
 "cells": [
  {
   "cell_type": "markdown",
   "metadata": {},
   "source": [
    "\n",
    "# Imports"
   ]
  },
  {
   "cell_type": "code",
   "execution_count": null,
   "metadata": {
    "tags": [
     "active-ipynb"
    ]
   },
   "outputs": [],
   "source": [
    "import os\n",
    "import sys\n",
    "os.chdir('../dHPO')"
   ]
  },
  {
   "cell_type": "code",
   "execution_count": null,
   "metadata": {},
   "outputs": [],
   "source": [
    "import os\n",
    "import sys\n",
    "\n",
    "import time\n",
    "import yaml\n",
    "import json\n",
    "import datetime\n",
    "import numpy as np\n",
    "from pathlib import Path\n",
    "from collections import OrderedDict\n",
    "print(sys.path)\n",
    "\n",
    "from dHPO.utils import dict_merge, create_nested"
   ]
  },
  {
   "cell_type": "code",
   "execution_count": null,
   "metadata": {},
   "outputs": [],
   "source": [
    "import matplotlib.pyplot as plt\n",
    "#%matplotlib inline"
   ]
  },
  {
   "cell_type": "markdown",
   "metadata": {},
   "source": [
    "# Code"
   ]
  },
  {
   "cell_type": "code",
   "execution_count": null,
   "metadata": {},
   "outputs": [],
   "source": [
    "def from_range(start, end, num, dist=None):\n",
    "    if dist is None:\n",
    "        dist = np.random.random\n",
    "    lstart, lend = np.log(start), np.log(end)\n",
    "    ar = np.logspace(lstart, lend, num, base=np.e)\n",
    "    return ar\n",
    "\n",
    "def get_dist(start, end, num, space, to_int=False):\n",
    "    if space == 'log':\n",
    "        space = np.geomspace\n",
    "    elif space == 'lin':\n",
    "        space = np.linspace\n",
    "    else:\n",
    "        raise NotImplementedError\n",
    "    arr = space(start, end, num).astype(np.float32)\n",
    "    if to_int:\n",
    "        arr = arr.astype(np.int32)\n",
    "    return arr"
   ]
  },
  {
   "cell_type": "code",
   "execution_count": null,
   "metadata": {},
   "outputs": [],
   "source": [
    "class Param:\n",
    "    def __init__(self, name, arr, sampling, **kwargs):\n",
    "        self.name = name\n",
    "        self.arr = arr\n",
    "        self.count = 0\n",
    "        self.sampling = sampling\n",
    "        self.type = kwargs['type']\n",
    "        \n",
    "    def __len__(self):\n",
    "        return len(self.arr)\n",
    "    \n",
    "    def __getitem__(self, i):\n",
    "        i = i%self.__len__()\n",
    "        return self.arr[i]\n",
    "    \n",
    "    def get_random(self):\n",
    "        return self.__getitem__(np.random.choice(self.__len__()))\n",
    "    \n",
    "    def safe_get_next(self):\n",
    "        val = self.__getitem__(self.count)\n",
    "        self.count = self.count+1 if self.count < self.__len__()-1 else 0\n",
    "        return val\n",
    "    \n",
    "    def get_next(self, **kwargs):\n",
    "        if self.sampling == 'random':\n",
    "            v = self.get_random()\n",
    "        elif self.sampling == 'sequential':\n",
    "            if kwargs.get('idx', None):\n",
    "                v = self.__getitem__(kwargs['idx'])\n",
    "            else:\n",
    "                v = self.safe_get_next()\n",
    "        else:\n",
    "            raise ValueError\n",
    "        \n",
    "        return self.type(v)\n",
    "    \n",
    "    def reset_count(self):\n",
    "        self.count=0\n",
    "    \n",
    "    def __repr__(self):\n",
    "        return f'Param : {self.name} | {str(self.arr)}'\n",
    "    \n",
    "    def plot(self):\n",
    "        plt.hist(self.arr, bins=10)\n",
    "    \n"
   ]
  },
  {
   "cell_type": "code",
   "execution_count": null,
   "metadata": {},
   "outputs": [],
   "source": [
    "class BaseConfigCycler:        \n",
    "    def get_values(self, idx):\n",
    "        values = {}\n",
    "        for name in self.opt_param_names:\n",
    "            kwargs = self.params[name]\n",
    "            p = Param(name=name, **kwargs)\n",
    "            values[name] = p.get_next(idx=idx)\n",
    "        return values\n",
    "\n",
    "    def to_dict(self, params):\n",
    "        d = {}\n",
    "        params = sorted(params, key=lambda x:x['name'], reverse=False)\n",
    "        for p in params:\n",
    "            d[p['name']] = {n:v for n,v in p.items() if n != 'name'}\n",
    "        return OrderedDict(d)\n",
    "    \n",
    "class Cycler(BaseConfigCycler):\n",
    "    def __init__(self, params, *args, **kwargs):\n",
    "        super(Cycler, self).__init__(*args, **kwargs)\n",
    "        self.params = self.to_dict(params)\n",
    "        self.opt_param_names = [k for k in self.params if self.params[k]['default'] is None]\n",
    "        \n",
    "    def create_state(self, idx=None):\n",
    "        new_params = self.get_values(idx)\n",
    "\n",
    "        cfg = {}\n",
    "        for name, settings in self.params.items():\n",
    "            new_value = new_params[name] if not settings['default'] else settings['default']\n",
    "            sub_cfg = create_nested(name, new_value)\n",
    "            dict_merge(cfg, sub_cfg)\n",
    "        return new_params, cfg"
   ]
  },
  {
   "cell_type": "markdown",
   "metadata": {},
   "source": [
    "# Tests "
   ]
  },
  {
   "cell_type": "code",
   "execution_count": null,
   "metadata": {
    "tags": [
     "active-ipynb"
    ]
   },
   "outputs": [],
   "source": [
    "p1 = {'name':'genom|mutate_chance',\n",
    "      'sampling':'random',\n",
    "      'arr':get_dist(start=5e-4, end=5e-3, num=500, space='lin'),\n",
    "      'default':None,\n",
    "      'type':float}\n",
    "\n",
    "p2 = {'name':'genom|combine_chance', 'arr':[4,5,6], 'sampling':'random', 'default':None, 'type':float}\n",
    "p3 = {'name':'dec_f0', 'arr':[33,488,99], 'sampling':'sequential', 'default':None, 'type':float}\n",
    "p4 = {'name':'generations', 'default':1}\n",
    "pis = [p1,p2, p3, p4]\n",
    "c = Cycler(pis)"
   ]
  },
  {
   "cell_type": "code",
   "execution_count": null,
   "metadata": {
    "tags": [
     "active-ipynb"
    ]
   },
   "outputs": [],
   "source": [
    "for k,v in c.params.items():\n",
    "    print(k)"
   ]
  },
  {
   "cell_type": "code",
   "execution_count": null,
   "metadata": {
    "tags": [
     "active-ipynb"
    ]
   },
   "outputs": [],
   "source": [
    "c.create_state()"
   ]
  },
  {
   "cell_type": "code",
   "execution_count": null,
   "metadata": {},
   "outputs": [],
   "source": []
  },
  {
   "cell_type": "code",
   "execution_count": null,
   "metadata": {},
   "outputs": [],
   "source": []
  }
 ],
 "metadata": {
  "jupytext": {
   "formats": "notebooks//ipynb,dHPO//py:percent"
  },
  "kernelspec": {
   "display_name": "Python 3",
   "language": "python",
   "name": "python3"
  },
  "language_info": {
   "codemirror_mode": {
    "name": "ipython",
    "version": 3
   },
   "file_extension": ".py",
   "mimetype": "text/x-python",
   "name": "python",
   "nbconvert_exporter": "python",
   "pygments_lexer": "ipython3",
   "version": "3.7.3"
  }
 },
 "nbformat": 4,
 "nbformat_minor": 4
}
