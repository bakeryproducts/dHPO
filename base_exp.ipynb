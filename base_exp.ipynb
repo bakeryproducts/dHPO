{
 "cells": [
  {
   "cell_type": "markdown",
   "metadata": {
    "execution": {
     "iopub.execute_input": "2020-05-15T07:24:30.707164Z",
     "iopub.status.busy": "2020-05-15T07:24:30.706891Z",
     "iopub.status.idle": "2020-05-15T07:24:30.709774Z",
     "shell.execute_reply": "2020-05-15T07:24:30.709270Z",
     "shell.execute_reply.started": "2020-05-15T07:24:30.707130Z"
    }
   },
   "source": [
    "# Imports "
   ]
  },
  {
   "cell_type": "code",
   "execution_count": 10,
   "metadata": {
    "ExecuteTime": {
     "end_time": "2020-04-27T16:13:45.478599Z",
     "start_time": "2020-04-27T16:13:45.476091Z"
    },
    "execution": {
     "iopub.execute_input": "2020-05-15T07:39:52.787544Z",
     "iopub.status.busy": "2020-05-15T07:39:52.787246Z",
     "iopub.status.idle": "2020-05-15T07:39:52.790957Z",
     "shell.execute_reply": "2020-05-15T07:39:52.790532Z",
     "shell.execute_reply.started": "2020-05-15T07:39:52.787509Z"
    }
   },
   "outputs": [],
   "source": [
    "#export\n",
    "import os\n",
    "import datetime\n",
    "import collections\n",
    "from pathlib import Path\n",
    "from collections import OrderedDict\n",
    "\n",
    "import numpy as np\n",
    "import pandas as pd"
   ]
  },
  {
   "cell_type": "markdown",
   "metadata": {},
   "source": [
    "# Code "
   ]
  },
  {
   "cell_type": "code",
   "execution_count": 40,
   "metadata": {
    "execution": {
     "iopub.execute_input": "2020-05-15T07:48:39.400392Z",
     "iopub.status.busy": "2020-05-15T07:48:39.400092Z",
     "iopub.status.idle": "2020-05-15T07:48:39.410727Z",
     "shell.execute_reply": "2020-05-15T07:48:39.410260Z",
     "shell.execute_reply.started": "2020-05-15T07:48:39.400338Z"
    }
   },
   "outputs": [],
   "source": [
    "#export\n",
    "def flatten(d, parent_key='', sep='_'):\n",
    "    items = []\n",
    "    for k, v in d.items():\n",
    "        new_key = parent_key + sep + k if parent_key else k\n",
    "        if isinstance(v, collections.MutableMapping):\n",
    "            items.extend(flatten(v, new_key, sep=sep).items())\n",
    "        else:\n",
    "            items.append((new_key, v))\n",
    "    return dict(items)\n",
    "\n",
    "def load_txt_log(path, types=None, read_header=False, delimiter=','):\n",
    "    with open(path, 'r') as f:\n",
    "        raw_logs = f.read()\n",
    "    logs = raw_logs.split('\\n')\n",
    "\n",
    "    header=None\n",
    "    if read_header:\n",
    "        header, *logs = logs\n",
    "        header = header.split(delimeter)\n",
    "\n",
    "    parsed_logs = []\n",
    "    for line in logs:\n",
    "        line = line.split(delimiter)\n",
    "        if types is not None:\n",
    "            line = [t(l) for t,l in zip(types,line)]\n",
    "        parsed_logs.append(line)\n",
    "\n",
    "    return header, parsed_logs\n",
    "\n",
    "class BaseProject:\n",
    "    def __init__(self, root, valid_func, Experiment):\n",
    "        self.root = root\n",
    "        self.exps = []\n",
    "        for p in root.iterdir():  \n",
    "            if valid_func(p):\n",
    "                self.exps.append(Experiment(p))\n",
    "        \n",
    "    def load(self):\n",
    "        raise NotImplementedError\n",
    "    \n",
    "    def base_table(self):\n",
    "        run_dfs = []\n",
    "        for e in self.exps:\n",
    "            dfi = pd.DataFrame(e.cfg_data, index=[e.name])\n",
    "            run_dfs.append(dfi)\n",
    "        df = pd.concat(run_dfs)\n",
    "        return df\n",
    "    \n",
    "class BaseExperiment:\n",
    "    def __init__(self, path, log_reader, cfg_reader):\n",
    "        self.path = path\n",
    "        self.name = path.name\n",
    "        self.log_reader = log_reader\n",
    "        self.cfg_reader = cfg_reader\n",
    "        self.log_data, self.cfg_data = self.load()\n",
    "    \n",
    "    \n",
    "    def load(self):\n",
    "        log_data = self.log_reader(self.path)\n",
    "        cfg_data = self.cfg_reader(self.path)\n",
    "        return log_data, cfg_data\n",
    "    \n",
    "    def __repr__(self):\n",
    "        return str(__class__) + self.name\n",
    "    \n",
    "    def __len__(self):\n",
    "        return len(self.log_data)\n",
    "        \n",
    "    def best(self, col, num=1, ascending=False):\n",
    "        assert col in self.log_data.columns\n",
    "        return self.log_data.sort_values(col, ascending=ascending)[:num]"
   ]
  },
  {
   "cell_type": "code",
   "execution_count": null,
   "metadata": {},
   "outputs": [],
   "source": []
  },
  {
   "cell_type": "markdown",
   "metadata": {
    "execution": {
     "iopub.execute_input": "2020-05-15T08:08:57.242571Z",
     "iopub.status.busy": "2020-05-15T08:08:57.242326Z",
     "iopub.status.idle": "2020-05-15T08:08:57.245892Z",
     "shell.execute_reply": "2020-05-15T08:08:57.245173Z",
     "shell.execute_reply.started": "2020-05-15T08:08:57.242540Z"
    }
   },
   "source": [
    "# Exports"
   ]
  },
  {
   "cell_type": "code",
   "execution_count": 1,
   "metadata": {
    "execution": {
     "iopub.execute_input": "2020-05-19T07:14:35.971308Z",
     "iopub.status.busy": "2020-05-19T07:14:35.971015Z",
     "iopub.status.idle": "2020-05-19T07:14:36.164292Z",
     "shell.execute_reply": "2020-05-19T07:14:36.163674Z",
     "shell.execute_reply.started": "2020-05-19T07:14:35.971273Z"
    }
   },
   "outputs": [
    {
     "name": "stdout",
     "output_type": "stream",
     "text": [
      "Converted base_exp.ipynb to exp/nb_base_exp.py\n"
     ]
    }
   ],
   "source": [
    "!python3 extra/n2s.py base_exp.ipynb"
   ]
  },
  {
   "cell_type": "code",
   "execution_count": null,
   "metadata": {},
   "outputs": [],
   "source": []
  }
 ],
 "metadata": {
  "kernelspec": {
   "display_name": "Python 3",
   "language": "python",
   "name": "python3"
  },
  "language_info": {
   "codemirror_mode": {
    "name": "ipython",
    "version": 3
   },
   "file_extension": ".py",
   "mimetype": "text/x-python",
   "name": "python",
   "nbconvert_exporter": "python",
   "pygments_lexer": "ipython3",
   "version": "3.6.9"
  }
 },
 "nbformat": 4,
 "nbformat_minor": 4
}
