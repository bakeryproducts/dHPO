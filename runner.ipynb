{
 "cells": [
  {
   "cell_type": "markdown",
   "metadata": {
    "collapsed": "true"
   },
   "source": [
    "# Imports"
   ]
  },
  {
   "cell_type": "code",
   "execution_count": 4,
   "metadata": {
    "execution": {
     "iopub.execute_input": "2020-05-19T09:25:00.447804Z",
     "iopub.status.busy": "2020-05-19T09:25:00.447390Z",
     "iopub.status.idle": "2020-05-19T09:25:01.002428Z",
     "shell.execute_reply": "2020-05-19T09:25:01.001705Z",
     "shell.execute_reply.started": "2020-05-19T09:25:00.447747Z"
    }
   },
   "outputs": [],
   "source": [
    "#export\n",
    "import os\n",
    "import sys\n",
    "sys.path.append(os.path.join(os.getcwd(),'exp'))\n",
    "\n",
    "import time\n",
    "import json\n",
    "import logging\n",
    "import datetime\n",
    "import numpy as np\n",
    "from pathlib import Path\n",
    "from shutil import copyfile\n",
    "\n",
    "import nb_dockertools as docker_tools\n",
    "from nb_cycle import get_dist, dump_state, init_params, BaseConfigCycler, Param\n",
    "from nb_bo import BaseConfigBo\n",
    "from config import cfg"
   ]
  },
  {
   "cell_type": "markdown",
   "metadata": {},
   "source": [
    "# Code "
   ]
  },
  {
   "cell_type": "code",
   "execution_count": 5,
   "metadata": {
    "execution": {
     "iopub.execute_input": "2020-05-19T09:25:01.080594Z",
     "iopub.status.busy": "2020-05-19T09:25:01.080307Z",
     "iopub.status.idle": "2020-05-19T09:25:01.087003Z",
     "shell.execute_reply": "2020-05-19T09:25:01.086329Z",
     "shell.execute_reply.started": "2020-05-19T09:25:01.080556Z"
    }
   },
   "outputs": [],
   "source": [
    "#export\n",
    "def run(new_state, inner_state, aux_cfg_files=None, name='cfg', gpus='0', **kwargs):\n",
    "    logging.info(f'\\n\\tNew state for {name}:\\n {json.dumps(new_state, indent=4)}\\n')\n",
    "    \n",
    "    root = Path(cfg.DAG.RUNS)\n",
    "    root = root.absolute()\n",
    "    os.makedirs(root, exist_ok=True)\n",
    "    \n",
    "    run_path, configs_path = init_run(root)\n",
    "    if aux_cfg_files is not None:\n",
    "        for cfg_file in aux_cfg_files:\n",
    "            file_name = os.path.basename(cfg_file)\n",
    "            copyfile(cfg_file, configs_path/file_name)\n",
    "    else:\n",
    "        aux_cfg_files=[]\n",
    "    run_cfg_file = dump_state(new_state, configs_path, name)\n",
    "    \n",
    "    docker_result = docker_tools.main(run_path, gpus=gpus)\n",
    "    results = {'configs':[run_cfg_file] + aux_cfg_files}\n",
    "    results['docker_results'] = {\n",
    "        'metric':docker_result\n",
    "    }\n",
    "    results['state'] = inner_state \n",
    "    return results   \n",
    "\n",
    "def init_run(root):\n",
    "    timestamp = '{:%Y_%b_%d_%H_%M_%S_%f}'.format(datetime.datetime.now())\n",
    "    run_dir = root/f'run_{timestamp}'\n",
    "    conf_dir = run_dir/'configs'\n",
    "    os.makedirs(conf_dir, exist_ok=True)\n",
    "    return run_dir, conf_dir"
   ]
  },
  {
   "cell_type": "code",
   "execution_count": 6,
   "metadata": {
    "execution": {
     "iopub.execute_input": "2020-05-19T09:25:02.890962Z",
     "iopub.status.busy": "2020-05-19T09:25:02.890696Z",
     "iopub.status.idle": "2020-05-19T09:25:02.901994Z",
     "shell.execute_reply": "2020-05-19T09:25:02.901514Z",
     "shell.execute_reply.started": "2020-05-19T09:25:02.890927Z"
    }
   },
   "outputs": [],
   "source": [
    "#export\n",
    "class Cycler(BaseConfigCycler):\n",
    "    def init_map(self):\n",
    "        return {\n",
    "            'g':('generations', int, 2),\n",
    "            'e':('exp_power', int, np.NaN),\n",
    "            'f0':('dec_f0', int, np.NaN),\n",
    "            'f1':('dec_f1', int, np.NaN),\n",
    "            'f2':('dec_f2', int, np.NaN),\n",
    "            'f3':('dec_f3', int, np.NaN),\n",
    "            'mc':('mutate_chance', float, np.NaN),\n",
    "            'cr':('crossover_chance', float, np.NaN),\n",
    "            'co':('combine_chance', float, np.NaN)\n",
    "        }\n",
    "\n",
    "cycler = Cycler()\n",
    "p9 = {'name':'co', 'sampling':'random', 'arr':get_dist(start=.01, end=.99, num=500, space='lin')}                           \n",
    "p7 = {'name':'e', 'sampling':'sequential', 'arr':[1,5,10,15,25,50]}\n",
    "p1 = {'name':'mc', 'sampling':'random', 'arr':get_dist(start=5e-4, end=5e-3, num=500, space='lin')}                         \n",
    "p3 = {'name':'cr', 'sampling':'random', 'arr':get_dist(start=.01, end=.99,   num=500, space='lin')}\n",
    "\n",
    "p2 = {'name':'f0', 'sampling':'random', 'arr':get_dist(start=2, end=20,   num=500, space='lin', to_int=True)}\n",
    "p4 = {'name':'f1', 'sampling':'random', 'arr':get_dist(start=2, end=30,   num=500, space='lin', to_int=True)}\n",
    "p6 = {'name':'f2', 'sampling':'random', 'arr':get_dist(start=2, end=30,   num=500, space='lin', to_int=True)}\n",
    "p8 = {'name':'f3', 'sampling':'random', 'arr':get_dist(start=2, end=10,   num=500, space='lin', to_int=True)}\n",
    "\n",
    "\n",
    "#params_dists = {p['name']:init_params([p]) for p in [p1,p3,p7,p9]}\n",
    "\n",
    "def cycle_all(**kwargs):\n",
    "    inner_state, new_state=cycler.create_state([p1,p3,p7,p9, p2,p4,p6,p8], kwargs['seq_id'])\n",
    "    return run(new_state=new_state, inner_state=inner_state, **kwargs)\n",
    "\n",
    "def cycle_exp(**kwargs):\n",
    "    inner_state, new_state=cycler.create_state([p7], kwargs['seq_id'])\n",
    "    return run(new_state=new_state, inner_state=inner_state, **kwargs)\n",
    "\n",
    "def cycle_combine(**kwargs):\n",
    "    inner_state, new_state=cycler.create_state([p9])\n",
    "    return run(new_state=new_state, inner_state=inner_state, **kwargs)\n",
    "\n",
    "def cycle_mutate(**kwargs):\n",
    "    inner_state, new_state=cycler.create_state([p1])\n",
    "    return run(new_state=new_state, inner_state=inner_state, **kwargs)\n",
    "\n",
    "def cycle_crossover(**kwargs):\n",
    "    inner_state, new_state=cycler.create_state([p3])\n",
    "    return run(new_state=new_state, inner_state=inner_state, **kwargs)\n"
   ]
  },
  {
   "cell_type": "code",
   "execution_count": 7,
   "metadata": {
    "execution": {
     "iopub.execute_input": "2020-05-19T09:25:04.157121Z",
     "iopub.status.busy": "2020-05-19T09:25:04.156861Z",
     "iopub.status.idle": "2020-05-19T09:25:04.165729Z",
     "shell.execute_reply": "2020-05-19T09:25:04.165183Z",
     "shell.execute_reply.started": "2020-05-19T09:25:04.157085Z"
    }
   },
   "outputs": [],
   "source": [
    "#export\n",
    "class Bo(BaseConfigBo):\n",
    "    def init_map(self):\n",
    "        return {\n",
    "            'g':('generations', int, 200),\n",
    "            'e':('exp_power', int, 2),\n",
    "            'f0':('dec_f0', int, np.NaN),\n",
    "            'f1':('dec_f1', int, np.NaN),\n",
    "            'f2':('dec_f2', int, np.NaN),\n",
    "            'f3':('dec_f3', int, np.NaN),\n",
    "            'mc':('mutate_chance', float, np.NaN),\n",
    "            'cr':('crossover_chance', float, np.NaN),\n",
    "            'co':('combine_chance', float, np.NaN)\n",
    "        }\n",
    "\n",
    "\n",
    "\n",
    "n_parallel_processes = len(cfg.GPUS.IDS)\n",
    "bo = Bo(n_parallel_processes)\n",
    "# bo_p1 = {'name':'e', 'bounds':(1, 15)}\n",
    "bo_p2 = {'name':'cr', 'bounds':(.51, .99)}\n",
    "bo_p3 = {'name':'mc', 'bounds':(0, .05)}\n",
    "bo_p4 = {'name':'co', 'bounds':(.51, .99)}\n",
    "\n",
    "all_params = [bo_p2, bo_p3, bo_p4]\n",
    "\n",
    "def bo_all(**kwargs):\n",
    "    inner_state, new_state=bo.create_state(points=kwargs['hp_points'], params=all_params, idx=kwargs['idx'])\n",
    "    return run(new_state=new_state, inner_state=inner_state, **kwargs)\n",
    "\n",
    "def bo_exp(**kwargs):\n",
    "    inner_state, new_state=bo.create_state(points=kwargs['hp_points'], params=[bo_p1], idx=kwargs['idx'])\n",
    "    return run(new_state=new_state, inner_state=inner_state, **kwargs)\n",
    "\n",
    "def bo_crossover(**kwargs):\n",
    "    inner_state, new_state=bo.create_state(points=kwargs['hp_points'], params=[bo_p2], idx=kwargs['idx'])\n",
    "    return run(new_state=new_state, inner_state=inner_state, **kwargs)"
   ]
  },
  {
   "cell_type": "code",
   "execution_count": null,
   "metadata": {},
   "outputs": [],
   "source": []
  },
  {
   "cell_type": "code",
   "execution_count": null,
   "metadata": {},
   "outputs": [],
   "source": []
  },
  {
   "cell_type": "markdown",
   "metadata": {
    "execution": {
     "iopub.execute_input": "2020-05-13T16:42:17.123744Z",
     "iopub.status.busy": "2020-05-13T16:42:17.123467Z",
     "iopub.status.idle": "2020-05-13T16:42:17.126413Z",
     "shell.execute_reply": "2020-05-13T16:42:17.125956Z",
     "shell.execute_reply.started": "2020-05-13T16:42:17.123711Z"
    }
   },
   "source": [
    "# Tests"
   ]
  },
  {
   "cell_type": "code",
   "execution_count": 16,
   "metadata": {},
   "outputs": [
    {
     "name": "stdout",
     "output_type": "stream",
     "text": [
      "[PosixPath('/home/sokolov/work/cycler/crsch_cycle/cycler_runs/run_2020_May_10_14_53_34_854649/output/data_2020_May_10_11:53:37/log.txt')]\n",
      "{'configs': [PosixPath('/home/sokolov/work/cycler/crsch_cycle/cycler_runs/run_2020_May_10_14_53_34_854649/configs/2020_May_10_14_53_34_cc_e.yaml')], 'docker_results': 0.06180047336965799}\n",
      "[PosixPath('/home/sokolov/work/cycler/crsch_cycle/cycler_runs/run_2020_May_10_14_53_57_423649/output/data_2020_May_10_11:54:00/log.txt')]\n",
      "{'configs': [PosixPath('/home/sokolov/work/cycler/crsch_cycle/cycler_runs/run_2020_May_10_14_53_57_423649/configs/2020_May_10_14_53_57_cc_m.yaml'), PosixPath('/home/sokolov/work/cycler/crsch_cycle/cycler_runs/run_2020_May_10_14_53_34_854649/configs/2020_May_10_14_53_34_cc_e.yaml')], 'docker_results': 0.061617747880518436}\n",
      "all good!\n"
     ]
    }
   ],
   "source": [
    "#export\n",
    "if __name__ == '__main__':\n",
    "    r1 = cycle_exp(seq_id=0, gpu=0)\n",
    "    print(r1)\n",
    "    r2 = cycle_mut(aux_cfg_files=r1['configs'], gpu=0)\n",
    "    print(r2)\n",
    "    print('all good!')"
   ]
  },
  {
   "cell_type": "markdown",
   "metadata": {},
   "source": [
    "# Export"
   ]
  },
  {
   "cell_type": "code",
   "execution_count": 17,
   "metadata": {
    "execution": {
     "iopub.execute_input": "2020-05-19T16:01:34.916942Z",
     "iopub.status.busy": "2020-05-19T16:01:34.916684Z",
     "iopub.status.idle": "2020-05-19T16:01:35.100846Z",
     "shell.execute_reply": "2020-05-19T16:01:35.100092Z",
     "shell.execute_reply.started": "2020-05-19T16:01:34.916908Z"
    }
   },
   "outputs": [
    {
     "name": "stdout",
     "output_type": "stream",
     "text": [
      "Converted runner.ipynb to exp/nb_runner.py\n"
     ]
    }
   ],
   "source": [
    "!python3 extra/n2s.py runner.ipynb"
   ]
  },
  {
   "cell_type": "code",
   "execution_count": 15,
   "metadata": {},
   "outputs": [
    {
     "name": "stdout",
     "output_type": "stream",
     "text": [
      "[PosixPath('/home/sokolov/work/cycler/crsch_cycle/cycler_runs/run_2020_May_10_14_27_53_473298/output/data_2020_May_10_11:27:56/log.txt')]\n",
      "{'configs': [PosixPath('/home/sokolov/work/cycler/crsch_cycle/cycler_runs/run_2020_May_10_14_27_53_473298/configs/2020_May_10_14_27_53_cc_e.yaml')], 'docker_results': 0.061637488193809986}\n",
      "[PosixPath('/home/sokolov/work/cycler/crsch_cycle/cycler_runs/run_2020_May_10_14_28_16_649084/output/data_2020_May_10_11:28:19/log.txt')]\n",
      "{'configs': [PosixPath('/home/sokolov/work/cycler/crsch_cycle/cycler_runs/run_2020_May_10_14_28_16_649084/configs/2020_May_10_14_28_16_cc_m.yaml'), PosixPath('/home/sokolov/work/cycler/crsch_cycle/cycler_runs/run_2020_May_10_14_27_53_473298/configs/2020_May_10_14_27_53_cc_e.yaml')], 'docker_results': 0.06321999430656433}\n",
      "all good!\n"
     ]
    }
   ],
   "source": [
    "!python3 exp/nb_runner.py"
   ]
  },
  {
   "cell_type": "code",
   "execution_count": null,
   "metadata": {},
   "outputs": [],
   "source": []
  },
  {
   "cell_type": "code",
   "execution_count": null,
   "metadata": {},
   "outputs": [],
   "source": []
  },
  {
   "cell_type": "code",
   "execution_count": null,
   "metadata": {},
   "outputs": [],
   "source": []
  }
 ],
 "metadata": {
  "kernelspec": {
   "display_name": "Python 3",
   "language": "python",
   "name": "python3"
  },
  "language_info": {
   "codemirror_mode": {
    "name": "ipython",
    "version": 3
   },
   "file_extension": ".py",
   "mimetype": "text/x-python",
   "name": "python",
   "nbconvert_exporter": "python",
   "pygments_lexer": "ipython3",
   "version": "3.6.9"
  }
 },
 "nbformat": 4,
 "nbformat_minor": 4
}
