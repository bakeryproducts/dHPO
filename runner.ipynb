{
 "cells": [
  {
   "cell_type": "markdown",
   "metadata": {},
   "source": [
    "# Imports"
   ]
  },
  {
   "cell_type": "code",
   "execution_count": 4,
   "metadata": {
    "execution": {
     "iopub.execute_input": "2020-05-19T09:25:00.447804Z",
     "iopub.status.busy": "2020-05-19T09:25:00.447390Z",
     "iopub.status.idle": "2020-05-19T09:25:01.002428Z",
     "shell.execute_reply": "2020-05-19T09:25:01.001705Z",
     "shell.execute_reply.started": "2020-05-19T09:25:00.447747Z"
    }
   },
   "outputs": [],
   "source": [
    "#export\n",
    "import os\n",
    "import sys\n",
    "sys.path.append(os.path.join(os.getcwd(),'exp'))\n",
    "\n",
    "import time\n",
    "import json\n",
    "import logging\n",
    "import datetime\n",
    "import numpy as np\n",
    "from pathlib import Path\n",
    "from shutil import copyfile\n",
    "\n",
    "import nb_dockertools as docker_tools\n",
    "from nb_cycle import get_dist, dump_state, init_params, BaseConfigCycler, Param\n",
    "from nb_bo import BaseConfigBo\n",
    "from config import cfg"
   ]
  },
  {
   "cell_type": "markdown",
   "metadata": {},
   "source": [
    "# Code "
   ]
  },
  {
   "cell_type": "code",
   "execution_count": 5,
   "metadata": {
    "execution": {
     "iopub.execute_input": "2020-05-19T09:25:01.080594Z",
     "iopub.status.busy": "2020-05-19T09:25:01.080307Z",
     "iopub.status.idle": "2020-05-19T09:25:01.087003Z",
     "shell.execute_reply": "2020-05-19T09:25:01.086329Z",
     "shell.execute_reply.started": "2020-05-19T09:25:01.080556Z"
    }
   },
   "outputs": [],
   "source": [
    "#export\n",
    "def run(new_state, inner_state, aux_cfg_files=None, name='cfg', gpus='0', **kwargs):\n",
    "    logging.info(f'\\n\\tNew state for {name}:\\n {json.dumps(new_state, indent=4)}\\n')\n",
    "    \n",
    "    root = Path(cfg.DAG.RUNS)\n",
    "    root = root.absolute()\n",
    "    os.makedirs(root, exist_ok=True)\n",
    "    \n",
    "    run_path, configs_path = init_run(root)\n",
    "    if aux_cfg_files is not None:\n",
    "        for cfg_file in aux_cfg_files:\n",
    "            file_name = os.path.basename(cfg_file)\n",
    "            copyfile(cfg_file, configs_path/file_name)\n",
    "    else:\n",
    "        aux_cfg_files=[]\n",
    "    run_cfg_file = dump_state(new_state, configs_path, name)\n",
    "    if kwargs.get('hp_points',None):\n",
    "        dump_state(kwargs['hp_points'], configs_path, 'hp', is_config=False, yaml_dump=False)\n",
    "    \n",
    "    docker_result = docker_tools.main(run_path, gpus=gpus)\n",
    "    results = {'configs':[run_cfg_file] + aux_cfg_files}\n",
    "    results['docker_results'] = {\n",
    "        'metric':docker_result\n",
    "    }\n",
    "    results['state'] = inner_state \n",
    "    return results   \n",
    "\n",
    "def init_run(root):\n",
    "    timestamp = '{:%Y_%b_%d_%H_%M_%S_%f}'.format(datetime.datetime.now())\n",
    "    run_dir = root/f'run_{timestamp}'\n",
    "    conf_dir = run_dir/'configs'\n",
    "    os.makedirs(conf_dir, exist_ok=True)\n",
    "    return run_dir, conf_dir"
   ]
  },
  {
   "cell_type": "code",
   "execution_count": 6,
   "metadata": {
    "execution": {
     "iopub.execute_input": "2020-05-19T09:25:02.890962Z",
     "iopub.status.busy": "2020-05-19T09:25:02.890696Z",
     "iopub.status.idle": "2020-05-19T09:25:02.901994Z",
     "shell.execute_reply": "2020-05-19T09:25:02.901514Z",
     "shell.execute_reply.started": "2020-05-19T09:25:02.890927Z"
    }
   },
   "outputs": [],
   "source": [
    "#export\n",
    "class Cycler(BaseConfigCycler):\n",
    "    def init_map(self):\n",
    "        return {\n",
    "            'g':('generations', int, 2),\n",
    "            'e':('exp_power', int, np.NaN),\n",
    "            'f0':('dec_f0', int, np.NaN),\n",
    "            'f1':('dec_f1', int, np.NaN),\n",
    "            'f2':('dec_f2', int, np.NaN),\n",
    "            'f3':('dec_f3', int, np.NaN),\n",
    "            'mc':('mutate_chance', float, np.NaN),\n",
    "            'cr':('crossover_chance', float, np.NaN),\n",
    "            'co':('combine_chance', float, np.NaN)\n",
    "        }\n",
    "\n",
    "cycler = Cycler()\n",
    "p9 = {'name':'co', 'sampling':'random', 'arr':get_dist(start=.01, end=.99, num=500, space='lin')}                           \n",
    "p7 = {'name':'e', 'sampling':'sequential', 'arr':[1,5,10,15,25,50]}\n",
    "p1 = {'name':'mc', 'sampling':'random', 'arr':get_dist(start=5e-4, end=5e-3, num=500, space='lin')}                         \n",
    "p3 = {'name':'cr', 'sampling':'random', 'arr':get_dist(start=.01, end=.99,   num=500, space='lin')}\n",
    "\n",
    "p2 = {'name':'f0', 'sampling':'random', 'arr':get_dist(start=2, end=20,   num=500, space='lin', to_int=True)}\n",
    "p4 = {'name':'f1', 'sampling':'random', 'arr':get_dist(start=2, end=30,   num=500, space='lin', to_int=True)}\n",
    "p6 = {'name':'f2', 'sampling':'random', 'arr':get_dist(start=2, end=30,   num=500, space='lin', to_int=True)}\n",
    "p8 = {'name':'f3', 'sampling':'random', 'arr':get_dist(start=2, end=10,   num=500, space='lin', to_int=True)}\n",
    "\n",
    "\n",
    "#params_dists = {p['name']:init_params([p]) for p in [p1,p3,p7,p9]}\n",
    "\n",
    "def cycle_all(**kwargs):\n",
    "    inner_state, new_state=cycler.create_state([p1,p3,p7,p9, p2,p4,p6,p8], kwargs['seq_id'])\n",
    "    return run(new_state=new_state, inner_state=inner_state, **kwargs)\n",
    "\n",
    "def cycle_exp(**kwargs):\n",
    "    inner_state, new_state=cycler.create_state([p7], kwargs['seq_id'])\n",
    "    return run(new_state=new_state, inner_state=inner_state, **kwargs)\n",
    "\n",
    "def cycle_combine(**kwargs):\n",
    "    inner_state, new_state=cycler.create_state([p9])\n",
    "    return run(new_state=new_state, inner_state=inner_state, **kwargs)\n",
    "\n",
    "def cycle_mutate(**kwargs):\n",
    "    inner_state, new_state=cycler.create_state([p1])\n",
    "    return run(new_state=new_state, inner_state=inner_state, **kwargs)\n",
    "\n",
    "def cycle_crossover(**kwargs):\n",
    "    inner_state, new_state=cycler.create_state([p3])\n",
    "    return run(new_state=new_state, inner_state=inner_state, **kwargs)\n"
   ]
  },
  {
   "cell_type": "code",
   "execution_count": 7,
   "metadata": {
    "execution": {
     "iopub.execute_input": "2020-05-19T09:25:04.157121Z",
     "iopub.status.busy": "2020-05-19T09:25:04.156861Z",
     "iopub.status.idle": "2020-05-19T09:25:04.165729Z",
     "shell.execute_reply": "2020-05-19T09:25:04.165183Z",
     "shell.execute_reply.started": "2020-05-19T09:25:04.157085Z"
    }
   },
   "outputs": [],
   "source": [
    "#export\n",
    "class Bo(BaseConfigBo):\n",
    "    def init_map(self):\n",
    "        return {\n",
    "            'g':('generations', int, 200),\n",
    "            'e':('exp_power', int, 2),\n",
    "            'f0':('dec_f0', int, np.NaN),\n",
    "            'f1':('dec_f1', int, np.NaN),\n",
    "            'f2':('dec_f2', int, np.NaN),\n",
    "            'f3':('dec_f3', int, np.NaN),\n",
    "            'mc':('mutate_chance', float, np.NaN),\n",
    "            'cr':('crossover_chance', float, np.NaN),\n",
    "            'co':('combine_chance', float, np.NaN)\n",
    "        }\n",
    "\n",
    "\n",
    "\n",
    "n_parallel_processes = len(cfg.GPUS.IDS)\n",
    "bo = Bo(n_parallel_processes)\n",
    "# bo_p1 = {'name':'e', 'bounds':(1, 15)}\n",
    "bo_p2 = {'name':'cr', 'bounds':(.01, .99)}\n",
    "bo_p3 = {'name':'mc', 'bounds':(0, .05)}\n",
    "bo_p4 = {'name':'co', 'bounds':(.01, .99)}\n",
    "\n",
    "all_params = [bo_p2, bo_p3, bo_p4]\n",
    "\n",
    "try:\n",
    "    p = '/home/sokolov/work/cycler/dHPO/2020_May_19_20_58_39_hp.json'\n",
    "    with open(p, 'r') as f:\n",
    "        warm_start = json.load(f)\n",
    "except Exception as e:\n",
    "    warm_start = []\n",
    "    print(e)\n",
    "        \n",
    "def bo_all(**kwargs):\n",
    "    points = []#warm_start\n",
    "    if kwargs['hp_points']:\n",
    "        points.extend(kwargs['hp_points'])\n",
    "    \n",
    "    inner_state, new_state=bo.create_state(points=points, params=all_params, idx=kwargs['idx'])\n",
    "    return run(new_state=new_state, inner_state=inner_state, **kwargs)\n",
    "\n",
    "def bo_exp(**kwargs):\n",
    "    inner_state, new_state=bo.create_state(points=kwargs['hp_points'], params=[bo_p1], idx=kwargs['idx'])\n",
    "    return run(new_state=new_state, inner_state=inner_state, **kwargs)\n",
    "\n",
    "def bo_crossover(**kwargs):\n",
    "    inner_state, new_state=bo.create_state(points=kwargs['hp_points'], params=[bo_p2], idx=kwargs['idx'])\n",
    "    return run(new_state=new_state, inner_state=inner_state, **kwargs)"
   ]
  },
  {
   "cell_type": "code",
   "execution_count": null,
   "metadata": {},
   "outputs": [],
   "source": []
  },
  {
   "cell_type": "code",
   "execution_count": 61,
   "metadata": {
    "execution": {
     "iopub.execute_input": "2020-05-19T19:07:46.010686Z",
     "iopub.status.busy": "2020-05-19T19:07:46.010346Z",
     "iopub.status.idle": "2020-05-19T19:07:46.014974Z",
     "shell.execute_reply": "2020-05-19T19:07:46.014507Z",
     "shell.execute_reply.started": "2020-05-19T19:07:46.010647Z"
    }
   },
   "outputs": [],
   "source": [
    "warm_start = []\n",
    "try:\n",
    "    p = '2020_May_19_20_58_39_hp.json'\n",
    "    with open(p, 'r') as f:\n",
    "        warm_start = json.load(f)\n",
    "except Exception as e:\n",
    "    warm_start = []\n",
    "    print(e)"
   ]
  },
  {
   "cell_type": "code",
   "execution_count": 63,
   "metadata": {
    "execution": {
     "iopub.execute_input": "2020-05-19T19:07:55.208711Z",
     "iopub.status.busy": "2020-05-19T19:07:55.208331Z",
     "iopub.status.idle": "2020-05-19T19:07:55.212176Z",
     "shell.execute_reply": "2020-05-19T19:07:55.211464Z",
     "shell.execute_reply.started": "2020-05-19T19:07:55.208664Z"
    }
   },
   "outputs": [],
   "source": [
    "warm_start.extend(warm_start)"
   ]
  },
  {
   "cell_type": "code",
   "execution_count": 64,
   "metadata": {
    "collapsed": true,
    "execution": {
     "iopub.execute_input": "2020-05-19T19:07:58.538799Z",
     "iopub.status.busy": "2020-05-19T19:07:58.538550Z",
     "iopub.status.idle": "2020-05-19T19:07:58.547764Z",
     "shell.execute_reply": "2020-05-19T19:07:58.547269Z",
     "shell.execute_reply.started": "2020-05-19T19:07:58.538766Z"
    },
    "jupyter": {
     "outputs_hidden": true
    }
   },
   "outputs": [
    {
     "data": {
      "text/plain": [
       "[{'points': {'co': 0.8472695963732924,\n",
       "   'cr': 0.5395928312708271,\n",
       "   'mc': 0.01884459380869284},\n",
       "  'target': 0.4957607835531235},\n",
       " {'points': {'co': 0.5164127714781301, 'cr': 0.9889118584345225, 'mc': 0.0},\n",
       "  'target': 0.3831751123070717},\n",
       " {'points': {'co': 0.51, 'cr': 0.51, 'mc': 0.0},\n",
       "  'target': 0.07311470620334148},\n",
       " {'points': {'co': 0.51, 'cr': 0.99, 'mc': 0.0},\n",
       "  'target': 0.32334306091070175},\n",
       " {'points': {'co': 0.51, 'cr': 0.99, 'mc': 0.0},\n",
       "  'target': 0.17746678739786148},\n",
       " {'points': {'co': 0.5799088297908084,\n",
       "   'cr': 0.74672422739191,\n",
       "   'mc': 0.04444627024858504},\n",
       "  'target': 0.3367279842495918},\n",
       " {'points': {'co': 0.5380738492360565,\n",
       "   'cr': 0.6327335125571417,\n",
       "   'mc': 0.023947828879966535},\n",
       "  'target': 0.46977394074201584},\n",
       " {'points': {'co': 0.8472695963732924,\n",
       "   'cr': 0.5395928312708271,\n",
       "   'mc': 0.01884459380869284},\n",
       "  'target': 0.4804927557706833},\n",
       " {'points': {'co': 0.5799088297908084,\n",
       "   'cr': 0.74672422739191,\n",
       "   'mc': 0.04444627024858504},\n",
       "  'target': 0.33756113052368164},\n",
       " {'points': {'co': 0.5264259960603158,\n",
       "   'cr': 0.9800495013850363,\n",
       "   'mc': 0.048972479919940345},\n",
       "  'target': 0.2192247062921524},\n",
       " {'points': {'co': 0.8472695963732924,\n",
       "   'cr': 0.5395928312708271,\n",
       "   'mc': 0.01884459380869284},\n",
       "  'target': 0.4616185948252678},\n",
       " {'points': {'co': 0.51, 'cr': 0.51, 'mc': 0.05},\n",
       "  'target': 0.3509488105773926},\n",
       " {'points': {'co': 0.5380738492360565,\n",
       "   'cr': 0.6327335125571417,\n",
       "   'mc': 0.023947828879966535},\n",
       "  'target': 0.4318268746137619},\n",
       " {'points': {'co': 0.99, 'cr': 0.597710570554364, 'mc': 0.05},\n",
       "  'target': 0.31889648735523224},\n",
       " {'points': {'co': 0.6990645910067693,\n",
       "   'cr': 0.7392378226565952,\n",
       "   'mc': 0.035114954704638594},\n",
       "  'target': 0.41844187676906586},\n",
       " {'points': {'co': 0.51,\n",
       "   'cr': 0.5115217355941956,\n",
       "   'mc': 7.862007665348658e-05},\n",
       "  'target': 0.388194277882576},\n",
       " {'points': {'co': 0.6975275608769891,\n",
       "   'cr': 0.8812685914284548,\n",
       "   'mc': 0.0352018359464264},\n",
       "  'target': 0.4418368935585022},\n",
       " {'points': {'co': 0.8516200229945359, 'cr': 0.51, 'mc': 0.03672542402251214},\n",
       "  'target': 0.367172546684742},\n",
       " {'points': {'co': 0.51, 'cr': 0.51, 'mc': 0.002952479062491166},\n",
       "  'target': 0.5550364851951599},\n",
       " {'points': {'co': 0.8592687866410532, 'cr': 0.51, 'mc': 0.036615533889106516},\n",
       "  'target': 0.4263888746500015},\n",
       " {'points': {'co': 0.6557055234199469, 'cr': 0.99, 'mc': 0.04960755100059365},\n",
       "  'target': 0.2775264158844948},\n",
       " {'points': {'co': 0.51, 'cr': 0.51, 'mc': 0.0},\n",
       "  'target': 0.06372997537255287},\n",
       " {'points': {'co': 0.99, 'cr': 0.51, 'mc': 0.0},\n",
       "  'target': 0.08923611044883728},\n",
       " {'points': {'co': 0.8472695963732924,\n",
       "   'cr': 0.5395928312708271,\n",
       "   'mc': 0.01884459380869284},\n",
       "  'target': 0.49234604090452194},\n",
       " {'points': {'co': 0.51, 'cr': 0.99, 'mc': 0.05},\n",
       "  'target': 0.2323523685336113},\n",
       " {'points': {'co': 0.5380738492360565,\n",
       "   'cr': 0.6327335125571417,\n",
       "   'mc': 0.023947828879966535},\n",
       "  'target': 0.45506325364112854},\n",
       " {'points': {'co': 0.51, 'cr': 0.511536890615047, 'mc': 0.0},\n",
       "  'target': 0.07227335218340158},\n",
       " {'points': {'co': 0.5799088297908084,\n",
       "   'cr': 0.74672422739191,\n",
       "   'mc': 0.04444627024858504},\n",
       "  'target': 0.332761786878109},\n",
       " {'points': {'co': 0.51, 'cr': 0.99, 'mc': 0.05},\n",
       "  'target': 0.2725064605474472},\n",
       " {'points': {'co': 0.5533453871671711,\n",
       "   'cr': 0.9835000245059076,\n",
       "   'mc': 0.04888620027775212},\n",
       "  'target': 0.2581128254532814},\n",
       " {'points': {'co': 0.9824232838887692, 'cr': 0.51, 'mc': 0.03553745438869034},\n",
       "  'target': 0.3313879817724228},\n",
       " {'points': {'co': 0.5441308162134516,\n",
       "   'cr': 0.9806473342069223,\n",
       "   'mc': 0.049337105335106934},\n",
       "  'target': 0.195886991918087},\n",
       " {'points': {'co': 0.51, 'cr': 0.51, 'mc': 0.0}, 'target': 0.076444823294878},\n",
       " {'points': {'co': 0.99, 'cr': 0.99, 'mc': 0.05},\n",
       "  'target': 0.3328731879591942},\n",
       " {'points': {'co': 0.51, 'cr': 0.51, 'mc': 0.0},\n",
       "  'target': 0.061216965317726135},\n",
       " {'points': {'co': 0.51,\n",
       "   'cr': 0.5112853241447949,\n",
       "   'mc': 0.0002962805538230746},\n",
       "  'target': 0.5111981630325317},\n",
       " {'points': {'co': 0.51, 'cr': 0.99, 'mc': 0.014662296140812459},\n",
       "  'target': 0.5455801337957382},\n",
       " {'points': {'co': 0.99, 'cr': 0.99, 'mc': 0.05},\n",
       "  'target': 0.28508761525154114},\n",
       " {'points': {'co': 0.99, 'cr': 0.51, 'mc': 0.0}, 'target': 0.0862026559188962},\n",
       " {'points': {'co': 0.8472695963732924,\n",
       "   'cr': 0.5395928312708271,\n",
       "   'mc': 0.01884459380869284},\n",
       "  'target': 0.4957607835531235},\n",
       " {'points': {'co': 0.5164127714781301, 'cr': 0.9889118584345225, 'mc': 0.0},\n",
       "  'target': 0.3831751123070717},\n",
       " {'points': {'co': 0.51, 'cr': 0.51, 'mc': 0.0},\n",
       "  'target': 0.07311470620334148},\n",
       " {'points': {'co': 0.51, 'cr': 0.99, 'mc': 0.0},\n",
       "  'target': 0.32334306091070175},\n",
       " {'points': {'co': 0.51, 'cr': 0.99, 'mc': 0.0},\n",
       "  'target': 0.17746678739786148},\n",
       " {'points': {'co': 0.5799088297908084,\n",
       "   'cr': 0.74672422739191,\n",
       "   'mc': 0.04444627024858504},\n",
       "  'target': 0.3367279842495918},\n",
       " {'points': {'co': 0.5380738492360565,\n",
       "   'cr': 0.6327335125571417,\n",
       "   'mc': 0.023947828879966535},\n",
       "  'target': 0.46977394074201584},\n",
       " {'points': {'co': 0.8472695963732924,\n",
       "   'cr': 0.5395928312708271,\n",
       "   'mc': 0.01884459380869284},\n",
       "  'target': 0.4804927557706833},\n",
       " {'points': {'co': 0.5799088297908084,\n",
       "   'cr': 0.74672422739191,\n",
       "   'mc': 0.04444627024858504},\n",
       "  'target': 0.33756113052368164},\n",
       " {'points': {'co': 0.5264259960603158,\n",
       "   'cr': 0.9800495013850363,\n",
       "   'mc': 0.048972479919940345},\n",
       "  'target': 0.2192247062921524},\n",
       " {'points': {'co': 0.8472695963732924,\n",
       "   'cr': 0.5395928312708271,\n",
       "   'mc': 0.01884459380869284},\n",
       "  'target': 0.4616185948252678},\n",
       " {'points': {'co': 0.51, 'cr': 0.51, 'mc': 0.05},\n",
       "  'target': 0.3509488105773926},\n",
       " {'points': {'co': 0.5380738492360565,\n",
       "   'cr': 0.6327335125571417,\n",
       "   'mc': 0.023947828879966535},\n",
       "  'target': 0.4318268746137619},\n",
       " {'points': {'co': 0.99, 'cr': 0.597710570554364, 'mc': 0.05},\n",
       "  'target': 0.31889648735523224},\n",
       " {'points': {'co': 0.6990645910067693,\n",
       "   'cr': 0.7392378226565952,\n",
       "   'mc': 0.035114954704638594},\n",
       "  'target': 0.41844187676906586},\n",
       " {'points': {'co': 0.51,\n",
       "   'cr': 0.5115217355941956,\n",
       "   'mc': 7.862007665348658e-05},\n",
       "  'target': 0.388194277882576},\n",
       " {'points': {'co': 0.6975275608769891,\n",
       "   'cr': 0.8812685914284548,\n",
       "   'mc': 0.0352018359464264},\n",
       "  'target': 0.4418368935585022},\n",
       " {'points': {'co': 0.8516200229945359, 'cr': 0.51, 'mc': 0.03672542402251214},\n",
       "  'target': 0.367172546684742},\n",
       " {'points': {'co': 0.51, 'cr': 0.51, 'mc': 0.002952479062491166},\n",
       "  'target': 0.5550364851951599},\n",
       " {'points': {'co': 0.8592687866410532, 'cr': 0.51, 'mc': 0.036615533889106516},\n",
       "  'target': 0.4263888746500015},\n",
       " {'points': {'co': 0.6557055234199469, 'cr': 0.99, 'mc': 0.04960755100059365},\n",
       "  'target': 0.2775264158844948},\n",
       " {'points': {'co': 0.51, 'cr': 0.51, 'mc': 0.0},\n",
       "  'target': 0.06372997537255287},\n",
       " {'points': {'co': 0.99, 'cr': 0.51, 'mc': 0.0},\n",
       "  'target': 0.08923611044883728},\n",
       " {'points': {'co': 0.8472695963732924,\n",
       "   'cr': 0.5395928312708271,\n",
       "   'mc': 0.01884459380869284},\n",
       "  'target': 0.49234604090452194},\n",
       " {'points': {'co': 0.51, 'cr': 0.99, 'mc': 0.05},\n",
       "  'target': 0.2323523685336113},\n",
       " {'points': {'co': 0.5380738492360565,\n",
       "   'cr': 0.6327335125571417,\n",
       "   'mc': 0.023947828879966535},\n",
       "  'target': 0.45506325364112854},\n",
       " {'points': {'co': 0.51, 'cr': 0.511536890615047, 'mc': 0.0},\n",
       "  'target': 0.07227335218340158},\n",
       " {'points': {'co': 0.5799088297908084,\n",
       "   'cr': 0.74672422739191,\n",
       "   'mc': 0.04444627024858504},\n",
       "  'target': 0.332761786878109},\n",
       " {'points': {'co': 0.51, 'cr': 0.99, 'mc': 0.05},\n",
       "  'target': 0.2725064605474472},\n",
       " {'points': {'co': 0.5533453871671711,\n",
       "   'cr': 0.9835000245059076,\n",
       "   'mc': 0.04888620027775212},\n",
       "  'target': 0.2581128254532814},\n",
       " {'points': {'co': 0.9824232838887692, 'cr': 0.51, 'mc': 0.03553745438869034},\n",
       "  'target': 0.3313879817724228},\n",
       " {'points': {'co': 0.5441308162134516,\n",
       "   'cr': 0.9806473342069223,\n",
       "   'mc': 0.049337105335106934},\n",
       "  'target': 0.195886991918087},\n",
       " {'points': {'co': 0.51, 'cr': 0.51, 'mc': 0.0}, 'target': 0.076444823294878},\n",
       " {'points': {'co': 0.99, 'cr': 0.99, 'mc': 0.05},\n",
       "  'target': 0.3328731879591942},\n",
       " {'points': {'co': 0.51, 'cr': 0.51, 'mc': 0.0},\n",
       "  'target': 0.061216965317726135},\n",
       " {'points': {'co': 0.51,\n",
       "   'cr': 0.5112853241447949,\n",
       "   'mc': 0.0002962805538230746},\n",
       "  'target': 0.5111981630325317},\n",
       " {'points': {'co': 0.51, 'cr': 0.99, 'mc': 0.014662296140812459},\n",
       "  'target': 0.5455801337957382},\n",
       " {'points': {'co': 0.99, 'cr': 0.99, 'mc': 0.05},\n",
       "  'target': 0.28508761525154114},\n",
       " {'points': {'co': 0.99, 'cr': 0.51, 'mc': 0.0}, 'target': 0.0862026559188962}]"
      ]
     },
     "execution_count": 64,
     "metadata": {},
     "output_type": "execute_result"
    }
   ],
   "source": [
    "warm_start"
   ]
  },
  {
   "cell_type": "code",
   "execution_count": null,
   "metadata": {},
   "outputs": [],
   "source": []
  },
  {
   "cell_type": "markdown",
   "metadata": {
    "execution": {
     "iopub.execute_input": "2020-05-13T16:42:17.123744Z",
     "iopub.status.busy": "2020-05-13T16:42:17.123467Z",
     "iopub.status.idle": "2020-05-13T16:42:17.126413Z",
     "shell.execute_reply": "2020-05-13T16:42:17.125956Z",
     "shell.execute_reply.started": "2020-05-13T16:42:17.123711Z"
    }
   },
   "source": [
    "# Tests"
   ]
  },
  {
   "cell_type": "code",
   "execution_count": 16,
   "metadata": {},
   "outputs": [
    {
     "name": "stdout",
     "output_type": "stream",
     "text": [
      "[PosixPath('/home/sokolov/work/cycler/crsch_cycle/cycler_runs/run_2020_May_10_14_53_34_854649/output/data_2020_May_10_11:53:37/log.txt')]\n",
      "{'configs': [PosixPath('/home/sokolov/work/cycler/crsch_cycle/cycler_runs/run_2020_May_10_14_53_34_854649/configs/2020_May_10_14_53_34_cc_e.yaml')], 'docker_results': 0.06180047336965799}\n",
      "[PosixPath('/home/sokolov/work/cycler/crsch_cycle/cycler_runs/run_2020_May_10_14_53_57_423649/output/data_2020_May_10_11:54:00/log.txt')]\n",
      "{'configs': [PosixPath('/home/sokolov/work/cycler/crsch_cycle/cycler_runs/run_2020_May_10_14_53_57_423649/configs/2020_May_10_14_53_57_cc_m.yaml'), PosixPath('/home/sokolov/work/cycler/crsch_cycle/cycler_runs/run_2020_May_10_14_53_34_854649/configs/2020_May_10_14_53_34_cc_e.yaml')], 'docker_results': 0.061617747880518436}\n",
      "all good!\n"
     ]
    }
   ],
   "source": [
    "#export\n",
    "if __name__ == '__main__':\n",
    "    r1 = cycle_exp(seq_id=0, gpu=0)\n",
    "    print(r1)\n",
    "    r2 = cycle_mut(aux_cfg_files=r1['configs'], gpu=0)\n",
    "    print(r2)\n",
    "    print('all good!')"
   ]
  },
  {
   "cell_type": "markdown",
   "metadata": {},
   "source": [
    "# Export"
   ]
  },
  {
   "cell_type": "code",
   "execution_count": 67,
   "metadata": {
    "execution": {
     "iopub.execute_input": "2020-05-19T19:30:09.756341Z",
     "iopub.status.busy": "2020-05-19T19:30:09.756090Z",
     "iopub.status.idle": "2020-05-19T19:30:09.944881Z",
     "shell.execute_reply": "2020-05-19T19:30:09.944263Z",
     "shell.execute_reply.started": "2020-05-19T19:30:09.756307Z"
    }
   },
   "outputs": [
    {
     "name": "stdout",
     "output_type": "stream",
     "text": [
      "Converted runner.ipynb to exp/nb_runner.py\n"
     ]
    }
   ],
   "source": [
    "!python3 extra/n2s.py runner.ipynb"
   ]
  },
  {
   "cell_type": "code",
   "execution_count": 15,
   "metadata": {},
   "outputs": [
    {
     "name": "stdout",
     "output_type": "stream",
     "text": [
      "[PosixPath('/home/sokolov/work/cycler/crsch_cycle/cycler_runs/run_2020_May_10_14_27_53_473298/output/data_2020_May_10_11:27:56/log.txt')]\n",
      "{'configs': [PosixPath('/home/sokolov/work/cycler/crsch_cycle/cycler_runs/run_2020_May_10_14_27_53_473298/configs/2020_May_10_14_27_53_cc_e.yaml')], 'docker_results': 0.061637488193809986}\n",
      "[PosixPath('/home/sokolov/work/cycler/crsch_cycle/cycler_runs/run_2020_May_10_14_28_16_649084/output/data_2020_May_10_11:28:19/log.txt')]\n",
      "{'configs': [PosixPath('/home/sokolov/work/cycler/crsch_cycle/cycler_runs/run_2020_May_10_14_28_16_649084/configs/2020_May_10_14_28_16_cc_m.yaml'), PosixPath('/home/sokolov/work/cycler/crsch_cycle/cycler_runs/run_2020_May_10_14_27_53_473298/configs/2020_May_10_14_27_53_cc_e.yaml')], 'docker_results': 0.06321999430656433}\n",
      "all good!\n"
     ]
    }
   ],
   "source": [
    "!python3 exp/nb_runner.py"
   ]
  },
  {
   "cell_type": "code",
   "execution_count": null,
   "metadata": {},
   "outputs": [],
   "source": []
  },
  {
   "cell_type": "code",
   "execution_count": null,
   "metadata": {},
   "outputs": [],
   "source": []
  },
  {
   "cell_type": "code",
   "execution_count": null,
   "metadata": {},
   "outputs": [],
   "source": []
  }
 ],
 "metadata": {
  "kernelspec": {
   "display_name": "Python 3",
   "language": "python",
   "name": "python3"
  },
  "language_info": {
   "codemirror_mode": {
    "name": "ipython",
    "version": 3
   },
   "file_extension": ".py",
   "mimetype": "text/x-python",
   "name": "python",
   "nbconvert_exporter": "python",
   "pygments_lexer": "ipython3",
   "version": "3.6.9"
  }
 },
 "nbformat": 4,
 "nbformat_minor": 4
}
