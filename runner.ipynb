{
 "cells": [
  {
   "cell_type": "markdown",
   "metadata": {},
   "source": [
    "# Imports"
   ]
  },
  {
   "cell_type": "code",
   "execution_count": 1,
   "metadata": {
    "execution": {
     "iopub.execute_input": "2020-05-22T10:49:29.110573Z",
     "iopub.status.busy": "2020-05-22T10:49:29.110395Z",
     "iopub.status.idle": "2020-05-22T10:49:29.520726Z",
     "shell.execute_reply": "2020-05-22T10:49:29.519927Z",
     "shell.execute_reply.started": "2020-05-22T10:49:29.110543Z"
    }
   },
   "outputs": [],
   "source": [
    "#export\n",
    "import os\n",
    "import sys\n",
    "sys.path.append(os.path.join(os.getcwd(),'exp'))\n",
    "\n",
    "import time\n",
    "import json\n",
    "import logging\n",
    "import datetime\n",
    "import numpy as np\n",
    "from pathlib import Path\n",
    "from shutil import copyfile\n",
    "from collections import OrderedDict\n",
    "\n",
    "import nb_dockertools as docker_tools\n",
    "from nb_cycle import get_dist, Cycler\n",
    "from nb_bo import Bo\n",
    "from nb_helpers import dict_merge, dump_state\n",
    "from config import cfg"
   ]
  },
  {
   "cell_type": "markdown",
   "metadata": {},
   "source": [
    "# Code "
   ]
  },
  {
   "cell_type": "code",
   "execution_count": 2,
   "metadata": {
    "execution": {
     "iopub.execute_input": "2020-05-21T16:41:18.244457Z",
     "iopub.status.busy": "2020-05-21T16:41:18.244220Z",
     "iopub.status.idle": "2020-05-21T16:41:18.250174Z",
     "shell.execute_reply": "2020-05-21T16:41:18.249766Z",
     "shell.execute_reply.started": "2020-05-21T16:41:18.244426Z"
    }
   },
   "outputs": [],
   "source": [
    "#export\n",
    "def make_root():\n",
    "    root = Path(cfg.DAG.RUNS)\n",
    "    root = root.absolute()\n",
    "    os.makedirs(root, exist_ok=True)\n",
    "    return root\n",
    "\n",
    "def init_run():\n",
    "    root = make_root()\n",
    "    timestamp = '{:%Y_%b_%d_%H_%M_%S_%f}'.format(datetime.datetime.now())\n",
    "    run_dir = root/f'run_{timestamp}'\n",
    "    conf_dir = run_dir/'configs'\n",
    "    os.makedirs(conf_dir, exist_ok=True)\n",
    "    return run_dir, conf_dir\n",
    "\n",
    "def init_aux_configs(aux_cfg_files, configs_path):\n",
    "    if aux_cfg_files is not None:\n",
    "        for cfg_file in aux_cfg_files:\n",
    "            file_name = os.path.basename(cfg_file)\n",
    "            copyfile(cfg_file, configs_path/file_name)\n",
    "    else:\n",
    "        aux_cfg_files=[]\n",
    "    return aux_cfg_files\n",
    "        \n",
    "def run(new_state, inner_state, aux_cfg_files=None, name='cfg', gpus='0', **kwargs):\n",
    "    logging.info(f'\\n\\tNew state for {name}:\\n {json.dumps(new_state, indent=4)}\\n')\n",
    "    \n",
    "    run_path, configs_path = init_run()\n",
    "    aux_cfg_files = init_aux_configs(aux_cfg_files, configs_path)\n",
    "    \n",
    "    run_cfg_file = dump_state(new_state, configs_path, name)\n",
    "    if kwargs.get('hp_points',None):\n",
    "        dump_state(kwargs['hp_points'], configs_path, 'hp', is_config=False, yaml_dump=False)\n",
    "    \n",
    "    \n",
    "    docker_result = docker_tools.main(run_path, gpus=gpus)\n",
    "    results = {\n",
    "        'configs':[run_cfg_file] + aux_cfg_files,\n",
    "        'docker_results':{'metric':docker_result},\n",
    "        'state':inner_state\n",
    "    }\n",
    "    return results   "
   ]
  },
  {
   "cell_type": "code",
   "execution_count": 6,
   "metadata": {
    "execution": {
     "iopub.execute_input": "2020-05-19T09:25:02.890962Z",
     "iopub.status.busy": "2020-05-19T09:25:02.890696Z",
     "iopub.status.idle": "2020-05-19T09:25:02.901994Z",
     "shell.execute_reply": "2020-05-19T09:25:02.901514Z",
     "shell.execute_reply.started": "2020-05-19T09:25:02.890927Z"
    }
   },
   "outputs": [],
   "source": [
    "#export\n",
    "p_mut = {'name':'genom|mutate_chance',\n",
    "      'sampling':'random',\n",
    "      'arr':get_dist(start=0, end=0.05, num=500, space='lin'),\n",
    "      'default':None,\n",
    "      'type':float}\n",
    "\n",
    "p_com = {'name':'genom|combine_chance',\n",
    "      'arr':get_dist(start=0, end=1, num=500, space='lin'),\n",
    "      'sampling':'random',\n",
    "      'default':None,\n",
    "      'type':float}\n",
    "\n",
    "p_cr = {'name':'genom|crossover_chance',\n",
    "      'arr':get_dist(start=0, end=1, num=500, space='lin'),\n",
    "      'sampling':'random',\n",
    "      'default':None,\n",
    "      'type':float}\n",
    "\n",
    "p_e = {'name':'post|exp_power', 'arr':[4,6,8], 'sampling':'sequential', 'default':None, 'type':int}\n",
    "p_g = {'name':'generations', 'default':5}\n",
    "\n",
    "cycler_all = Cycler( [p_mut, p_com, p_cr, p_e, p_g])\n",
    "cycler_exp = Cycler( [p_e, p_g])\n",
    "cycler_mut = Cycler( [p_mut, p_g])\n",
    "cycler_com = Cycler( [p_com, p_g])\n",
    "cycler_cr = Cycler( [p_cr, p_g])\n",
    "\n",
    "def cycle_all(**kwargs):\n",
    "    inner_state, new_state=cycler_all.create_state(kwargs['seq_id'])\n",
    "    return run(new_state=new_state, inner_state=inner_state, **kwargs)\n",
    "\n",
    "def cycle_exp(**kwargs):\n",
    "    inner_state, new_state=cycler_exp.create_state(kwargs['seq_id'])\n",
    "    return run(new_state=new_state, inner_state=inner_state, **kwargs)\n",
    "\n",
    "def cycle_combine(**kwargs):\n",
    "    inner_state, new_state=cycler_com.create_state()\n",
    "    return run(new_state=new_state, inner_state=inner_state, **kwargs)\n",
    "\n",
    "def cycle_mutate(**kwargs):\n",
    "    inner_state, new_state=cycler_mut.create_state()\n",
    "    return run(new_state=new_state, inner_state=inner_state, **kwargs)\n",
    "\n",
    "def cycle_crossover(**kwargs):\n",
    "    inner_state, new_state=cycler_cr.create_state([p3])\n",
    "    return run(new_state=new_state, inner_state=inner_state, **kwargs)\n"
   ]
  },
  {
   "cell_type": "code",
   "execution_count": 15,
   "metadata": {
    "execution": {
     "iopub.execute_input": "2020-05-21T16:45:11.126915Z",
     "iopub.status.busy": "2020-05-21T16:45:11.126640Z",
     "iopub.status.idle": "2020-05-21T16:45:11.137948Z",
     "shell.execute_reply": "2020-05-21T16:45:11.137500Z",
     "shell.execute_reply.started": "2020-05-21T16:45:11.126879Z"
    }
   },
   "outputs": [],
   "source": [
    "#export\n",
    "n_parallel_processes = len(cfg.GPUS.IDS)\n",
    "warm_list = ['/home/sokolov/work/cycler/dHPO/2020_May_21_18_34_23_hp.json']\n",
    "\n",
    "params_static = [\n",
    "            {'name':'generations', 'default':200},\n",
    "]\n",
    "params_genom = [\n",
    "            {'name':'genom|mutate_chance', 'bounds':(0,.05), 'type':float, 'prior':'uniform', 'default':None},\n",
    "            {'name':'genom|crossover_chance', 'bounds':(0,1), 'type':float, 'prior':'uniform', 'default':None},\n",
    "            {'name':'genom|combine_chance', 'bounds':(0,1), 'type':float, 'prior':'uniform', 'default':None},\n",
    "]\n",
    "params_post =[ \n",
    "            {'name':'post|exp_power','bounds':(1,15), 'type':int, 'prior':'uniform', 'default':None}\n",
    "]\n",
    "\n",
    "p_all = [*params_static, *params_genom, *params_post]\n",
    "bopt_all = Bo(n=n_parallel_processes, params=p_all, warm_list=warm_list)\n",
    "\n",
    "bopt_post = Bo(n=n_parallel_processes, params=params_post, warm_list=warm_list)\n",
    "\n",
    "\n",
    "def bo_all(**kwargs):\n",
    "    inner_state, new_state=bopt_all.create_state(points=kwargs['hp_points'], idx=kwargs['idx'])\n",
    "    return run(new_state=new_state, inner_state=inner_state, **kwargs)\n",
    "\n",
    "def bo_exp(**kwargs):\n",
    "    inner_state, new_state=bopt_post.create_state(points=kwargs['hp_points'], idx=kwargs['idx'])\n",
    "    return run(new_state=new_state, inner_state=inner_state, **kwargs)"
   ]
  },
  {
   "cell_type": "code",
   "execution_count": 6,
   "metadata": {
    "execution": {
     "iopub.execute_input": "2020-05-21T16:42:20.111981Z",
     "iopub.status.busy": "2020-05-21T16:42:20.111688Z",
     "iopub.status.idle": "2020-05-21T16:42:20.115151Z",
     "shell.execute_reply": "2020-05-21T16:42:20.114566Z",
     "shell.execute_reply.started": "2020-05-21T16:42:20.111944Z"
    }
   },
   "outputs": [],
   "source": []
  },
  {
   "cell_type": "markdown",
   "metadata": {
    "execution": {
     "iopub.execute_input": "2020-05-13T16:42:17.123744Z",
     "iopub.status.busy": "2020-05-13T16:42:17.123467Z",
     "iopub.status.idle": "2020-05-13T16:42:17.126413Z",
     "shell.execute_reply": "2020-05-13T16:42:17.125956Z",
     "shell.execute_reply.started": "2020-05-13T16:42:17.123711Z"
    }
   },
   "source": [
    "# Tests"
   ]
  },
  {
   "cell_type": "code",
   "execution_count": 16,
   "metadata": {},
   "outputs": [
    {
     "name": "stdout",
     "output_type": "stream",
     "text": [
      "[PosixPath('/home/sokolov/work/cycler/crsch_cycle/cycler_runs/run_2020_May_10_14_53_34_854649/output/data_2020_May_10_11:53:37/log.txt')]\n",
      "{'configs': [PosixPath('/home/sokolov/work/cycler/crsch_cycle/cycler_runs/run_2020_May_10_14_53_34_854649/configs/2020_May_10_14_53_34_cc_e.yaml')], 'docker_results': 0.06180047336965799}\n",
      "[PosixPath('/home/sokolov/work/cycler/crsch_cycle/cycler_runs/run_2020_May_10_14_53_57_423649/output/data_2020_May_10_11:54:00/log.txt')]\n",
      "{'configs': [PosixPath('/home/sokolov/work/cycler/crsch_cycle/cycler_runs/run_2020_May_10_14_53_57_423649/configs/2020_May_10_14_53_57_cc_m.yaml'), PosixPath('/home/sokolov/work/cycler/crsch_cycle/cycler_runs/run_2020_May_10_14_53_34_854649/configs/2020_May_10_14_53_34_cc_e.yaml')], 'docker_results': 0.061617747880518436}\n",
      "all good!\n"
     ]
    }
   ],
   "source": [
    "#export\n",
    "if __name__ == '__main__':\n",
    "    r1 = cycle_exp(seq_id=0, gpu=0)\n",
    "    print(r1)\n",
    "    r2 = cycle_mut(aux_cfg_files=r1['configs'], gpu=0)\n",
    "    print(r2)\n",
    "    print('all good!')"
   ]
  },
  {
   "cell_type": "markdown",
   "metadata": {},
   "source": [
    "# Export"
   ]
  },
  {
   "cell_type": "code",
   "execution_count": 8,
   "metadata": {
    "execution": {
     "iopub.execute_input": "2020-05-22T12:28:43.949462Z",
     "iopub.status.busy": "2020-05-22T12:28:43.949175Z",
     "iopub.status.idle": "2020-05-22T12:28:44.137148Z",
     "shell.execute_reply": "2020-05-22T12:28:44.136505Z",
     "shell.execute_reply.started": "2020-05-22T12:28:43.949426Z"
    }
   },
   "outputs": [
    {
     "name": "stdout",
     "output_type": "stream",
     "text": [
      "Converted runner.ipynb to exp/nb_runner.py\n"
     ]
    }
   ],
   "source": [
    "!python3 extra/n2s.py runner.ipynb"
   ]
  },
  {
   "cell_type": "code",
   "execution_count": 15,
   "metadata": {},
   "outputs": [
    {
     "name": "stdout",
     "output_type": "stream",
     "text": [
      "[PosixPath('/home/sokolov/work/cycler/crsch_cycle/cycler_runs/run_2020_May_10_14_27_53_473298/output/data_2020_May_10_11:27:56/log.txt')]\n",
      "{'configs': [PosixPath('/home/sokolov/work/cycler/crsch_cycle/cycler_runs/run_2020_May_10_14_27_53_473298/configs/2020_May_10_14_27_53_cc_e.yaml')], 'docker_results': 0.061637488193809986}\n",
      "[PosixPath('/home/sokolov/work/cycler/crsch_cycle/cycler_runs/run_2020_May_10_14_28_16_649084/output/data_2020_May_10_11:28:19/log.txt')]\n",
      "{'configs': [PosixPath('/home/sokolov/work/cycler/crsch_cycle/cycler_runs/run_2020_May_10_14_28_16_649084/configs/2020_May_10_14_28_16_cc_m.yaml'), PosixPath('/home/sokolov/work/cycler/crsch_cycle/cycler_runs/run_2020_May_10_14_27_53_473298/configs/2020_May_10_14_27_53_cc_e.yaml')], 'docker_results': 0.06321999430656433}\n",
      "all good!\n"
     ]
    }
   ],
   "source": [
    "!python3 exp/nb_runner.py"
   ]
  },
  {
   "cell_type": "code",
   "execution_count": null,
   "metadata": {},
   "outputs": [],
   "source": []
  },
  {
   "cell_type": "code",
   "execution_count": null,
   "metadata": {},
   "outputs": [],
   "source": []
  }
 ],
 "metadata": {
  "kernelspec": {
   "display_name": "Python 3",
   "language": "python",
   "name": "python3"
  },
  "language_info": {
   "codemirror_mode": {
    "name": "ipython",
    "version": 3
   },
   "file_extension": ".py",
   "mimetype": "text/x-python",
   "name": "python",
   "nbconvert_exporter": "python",
   "pygments_lexer": "ipython3",
   "version": "3.6.9"
  }
 },
 "nbformat": 4,
 "nbformat_minor": 4
}
