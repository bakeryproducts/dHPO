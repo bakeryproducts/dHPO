{
 "cells": [
  {
   "cell_type": "markdown",
   "metadata": {},
   "source": [
    "# Imports"
   ]
  },
  {
   "cell_type": "code",
   "execution_count": 1,
   "metadata": {
    "execution": {
     "iopub.execute_input": "2020-05-20T15:46:58.637927Z",
     "iopub.status.busy": "2020-05-20T15:46:58.637756Z",
     "iopub.status.idle": "2020-05-20T15:46:59.869065Z",
     "shell.execute_reply": "2020-05-20T15:46:59.868380Z",
     "shell.execute_reply.started": "2020-05-20T15:46:58.637898Z"
    }
   },
   "outputs": [],
   "source": [
    "#export\n",
    "import os\n",
    "import sys\n",
    "from pathlib import Path\n",
    "p = '/home/sokolov/work/cycler/dHPO/exp/'\n",
    "sys.path.append(p)\n",
    "#sys.path.append(os.path.join(os.getcwd(),'exp'))\n",
    "\n",
    "import time\n",
    "import json\n",
    "import numpy as np\n",
    "from itertools import cycle\n",
    "from functools import partial\n",
    "from datetime import timedelta, datetime\n",
    "\n",
    "from airflow import DAG\n",
    "from airflow.operators.bash_operator import BashOperator\n",
    "from airflow.operators.python_operator import PythonOperator\n",
    "from airflow.utils.dates import days_ago\n",
    "\n",
    "\n",
    "from nb_runner import cycle_exp, cycle_mutate, \\\n",
    "                      cycle_crossover, cycle_combine, cycle_all,\\\n",
    "                      bo_exp, bo_all, bo_crossover\n",
    "from config import cfg"
   ]
  },
  {
   "cell_type": "markdown",
   "metadata": {},
   "source": [
    "# Code"
   ]
  },
  {
   "cell_type": "markdown",
   "metadata": {
    "collapsed": "true",
    "execution": {
     "iopub.execute_input": "2020-05-19T09:48:53.560250Z",
     "iopub.status.busy": "2020-05-19T09:48:53.559971Z",
     "iopub.status.idle": "2020-05-19T09:48:53.562816Z",
     "shell.execute_reply": "2020-05-19T09:48:53.562386Z",
     "shell.execute_reply.started": "2020-05-19T09:48:53.560215Z"
    }
   },
   "source": [
    "## dag base"
   ]
  },
  {
   "cell_type": "code",
   "execution_count": 2,
   "metadata": {
    "execution": {
     "iopub.execute_input": "2020-05-20T15:46:59.870507Z",
     "iopub.status.busy": "2020-05-20T15:46:59.870302Z",
     "iopub.status.idle": "2020-05-20T15:46:59.881834Z",
     "shell.execute_reply": "2020-05-20T15:46:59.881361Z",
     "shell.execute_reply.started": "2020-05-20T15:46:59.870474Z"
    }
   },
   "outputs": [],
   "source": [
    "#export\n",
    "d = days_ago(1)# + timedelta(hours=10, minutes=31)\n",
    "\n",
    "default_args = {\n",
    "    'owner': cfg.OWNER,\n",
    "    'depends_on_past': False,\n",
    "    #'start_date':d,\n",
    "    'email': False,\n",
    "    'email_on_failure': False,\n",
    "    'email_on_retry': False,\n",
    "    #'retries': 0,# overrided in pythonOperator down below\n",
    "    #'retry_delay': timedelta(minutes=5),# overrided in pythonOperator down below\n",
    "}\n",
    "\n",
    "default_pool = cfg.DAG.DEF_POOL\n",
    "#schedule_interval = cfg.DAG.SCHED_INTERVAL if cfg.DAG.SCHED_INTERVAL else None #@daily\n",
    "description = cfg.DAG.DESC + '\\n' + json.dumps(cfg, indent=4)\n",
    "\n",
    "schedule_interval = '00 22 * * *'\n",
    "\n",
    "dag = DAG(  cfg.DAG.NAME,\n",
    "                max_active_runs=1,\n",
    "                start_date=d,\n",
    "                catchup=False,# for disabling backfill!\n",
    "                description=description,\n",
    "                schedule_interval=schedule_interval,\n",
    "                default_args=default_args,\n",
    "                )\n",
    "\n",
    "def base_task_generator(name, func, dag, pool=default_pool, op_kwargs=None):\n",
    "    task = PythonOperator(\n",
    "                    task_id=name,\n",
    "                    python_callable=func,\n",
    "                    op_kwargs=op_kwargs,\n",
    "                    provide_context=True,\n",
    "                    pool=pool,\n",
    "                    retries=cfg.DAG.RETRIES,\n",
    "                    retry_delay=timedelta(minutes=cfg.DAG.RETRY_DELAY),\n",
    "                    dag=dag,)\n",
    "    return task\n",
    "        \n",
    "create_task = partial(base_task_generator, dag=dag)\n",
    "\n",
    "def pull_results(**context):\n",
    "    results = None\n",
    "    if context is not None:\n",
    "        task_ids = context['dag'].task_ids\n",
    "        results = {task_id:context['ti'].xcom_pull(task_ids=task_id) for task_id in task_ids}\n",
    "    return results\n",
    "\n",
    "\n",
    "def upstream_results(**context):\n",
    "    task = context['task']\n",
    "    upstream_task_ids = task.upstream_task_ids\n",
    "    rs = [pull_results(**context)[task_id] for task_id in upstream_task_ids]\n",
    "    if not rs:\n",
    "        rs = [{'configs':None, 'docker_results':None}]\n",
    "    for result in rs:\n",
    "        yield result        \n",
    "\n",
    "def parse_pool(pool_str):\n",
    "    pool_str = pool_str.split('_')[-1]\n",
    "    return ','.join([i for i in pool_str if i.isdigit()])\n",
    "\n",
    "def chunker_list(seq, size):\n",
    "    return (seq[i::size] for i in range(size))"
   ]
  },
  {
   "cell_type": "markdown",
   "metadata": {
    "collapsed": "true",
    "execution": {
     "iopub.execute_input": "2020-05-19T09:49:08.947629Z",
     "iopub.status.busy": "2020-05-19T09:49:08.947364Z",
     "iopub.status.idle": "2020-05-19T09:49:08.950042Z",
     "shell.execute_reply": "2020-05-19T09:49:08.949632Z",
     "shell.execute_reply.started": "2020-05-19T09:49:08.947594Z"
    }
   },
   "source": [
    "## dag extra"
   ]
  },
  {
   "cell_type": "code",
   "execution_count": 3,
   "metadata": {
    "execution": {
     "iopub.execute_input": "2020-05-20T15:46:59.882905Z",
     "iopub.status.busy": "2020-05-20T15:46:59.882724Z",
     "iopub.status.idle": "2020-05-20T15:46:59.892134Z",
     "shell.execute_reply": "2020-05-20T15:46:59.891696Z",
     "shell.execute_reply.started": "2020-05-20T15:46:59.882875Z"
    }
   },
   "outputs": [],
   "source": [
    "#export\n",
    "def dw_cycle_param(func, **context):\n",
    "    prev_results = next(upstream_results(**context))\n",
    "    aux_cfg_files = prev_results['configs']\n",
    "    gpus = parse_pool(context['ti'].pool)\n",
    "    return func(aux_cfg_files=aux_cfg_files, gpus=gpus)\n",
    "\n",
    "def dw_bo_param(func, **context):\n",
    "    results = pull_results(**context)\n",
    "    all_hp_points = []\n",
    "    for task_id, r in results.items():\n",
    "        if r:\n",
    "            all_hp_points.append({'points':r['state'], 'target':r['docker_results']['metric']})  \n",
    "    \n",
    "    prev_results = next(upstream_results(**context))\n",
    "    aux_cfg_files = prev_results['configs']\n",
    "    gpus = parse_pool(context['ti'].pool)\n",
    "    idx = cfg.GPUS.IDS.index(int(gpus))# wont work with single exp on multiple gpus!\n",
    "    return func(aux_cfg_files=aux_cfg_files, gpus=gpus, hp_points=all_hp_points, idx=idx)\n",
    "\n",
    "def dw_pooling(num=1, **context):\n",
    "    key = 'metric'\n",
    "    res = {}\n",
    "    for r in upstream_results(**context):\n",
    "        res[r['docker_results'][key]] = r['configs']\n",
    "    res = sorted(res.items(), key=lambda x: x[0], reverse=True)\n",
    "    res = res[:num]\n",
    "    best_docker_results = [r[0] for r in res]\n",
    "    best_configs = [r[1] for r in res]\n",
    "    print(f'\\n\\tPooling: best result : {best_docker_results}, {best_configs}\\n')\n",
    "    return [{'configs':best_config} for best_config in best_configs]\n",
    "\n",
    "def dw_dist(idx=None, **context):\n",
    "    res = list(upstream_results(**context))[0][idx]\n",
    "    return res\n",
    "\n",
    "def distribute(name, num):\n",
    "    tasks = []\n",
    "    for i in range(num):\n",
    "        task_name = f'distribute_{name}_{i}'\n",
    "        tasks.append(create_task(task_name, dw_dist, op_kwargs={'idx':i}))\n",
    "    return tasks\n",
    "        \n",
    "def block_optimize(n, name, func, dw_param):\n",
    "    tasks = []\n",
    "    gpus_avail = cycle(cfg.GPUS.IDS)\n",
    "        \n",
    "    for i in range(n):\n",
    "        gpu = next(gpus_avail)\n",
    "        task_name = f'{name}_{i}'\n",
    "        pool = cfg.DAG.POOL_PREFIX + str(gpu)\n",
    "        \n",
    "        block_func = partial(func, seq_id=i, name=task_name)\n",
    "        task = create_task(task_name, dw_param, pool=pool, op_kwargs={'func':block_func}) \n",
    "        tasks.append(task) \n",
    "    return tasks"
   ]
  },
  {
   "cell_type": "markdown",
   "metadata": {
    "execution": {
     "iopub.execute_input": "2020-05-20T18:07:34.399048Z",
     "iopub.status.busy": "2020-05-20T18:07:34.398589Z",
     "iopub.status.idle": "2020-05-20T18:07:34.402571Z",
     "shell.execute_reply": "2020-05-20T18:07:34.402023Z",
     "shell.execute_reply.started": "2020-05-20T18:07:34.399000Z"
    }
   },
   "source": [
    "# Tests"
   ]
  },
  {
   "cell_type": "markdown",
   "metadata": {
    "collapsed": "true",
    "execution": {
     "iopub.execute_input": "2020-05-18T09:37:06.369254Z",
     "iopub.status.busy": "2020-05-18T09:37:06.368952Z",
     "iopub.status.idle": "2020-05-18T09:37:06.371993Z",
     "shell.execute_reply": "2020-05-18T09:37:06.371581Z",
     "shell.execute_reply.started": "2020-05-18T09:37:06.369212Z"
    }
   },
   "source": [
    "## random search"
   ]
  },
  {
   "cell_type": "markdown",
   "metadata": {
    "collapsed": "true",
    "execution": {
     "iopub.execute_input": "2020-05-20T14:04:14.253310Z",
     "iopub.status.busy": "2020-05-20T14:04:14.253022Z",
     "iopub.status.idle": "2020-05-20T14:04:14.255955Z",
     "shell.execute_reply": "2020-05-20T14:04:14.255456Z",
     "shell.execute_reply.started": "2020-05-20T14:04:14.253271Z"
    }
   },
   "source": [
    "### chain"
   ]
  },
  {
   "cell_type": "code",
   "execution_count": 4,
   "metadata": {
    "execution": {
     "iopub.execute_input": "2020-05-20T15:46:59.893007Z",
     "iopub.status.busy": "2020-05-20T15:46:59.892834Z",
     "iopub.status.idle": "2020-05-20T15:46:59.899989Z",
     "shell.execute_reply": "2020-05-20T15:46:59.899439Z",
     "shell.execute_reply.started": "2020-05-20T15:46:59.892979Z"
    }
   },
   "outputs": [
    {
     "data": {
      "text/plain": [
       "<Task(PythonOperator): rs_mut_0>"
      ]
     },
     "execution_count": 4,
     "metadata": {},
     "output_type": "execute_result"
    }
   ],
   "source": [
    "t1 = block_optimize(1, 'rs_exp', cycle_exp, dw_cycle_param)\n",
    "t2 = block_optimize(1, 'rs_mut', cycle_mutate, dw_cycle_param)\n",
    "t1[0] >> t2[0]"
   ]
  },
  {
   "cell_type": "markdown",
   "metadata": {
    "collapsed": "true"
   },
   "source": [
    "### parallel"
   ]
  },
  {
   "cell_type": "code",
   "execution_count": 5,
   "metadata": {
    "execution": {
     "iopub.execute_input": "2020-05-20T15:46:59.901389Z",
     "iopub.status.busy": "2020-05-20T15:46:59.900939Z",
     "iopub.status.idle": "2020-05-20T15:46:59.905711Z",
     "shell.execute_reply": "2020-05-20T15:46:59.905135Z",
     "shell.execute_reply.started": "2020-05-20T15:46:59.901344Z"
    }
   },
   "outputs": [
    {
     "data": {
      "text/plain": [
       "[<Task(PythonOperator): rs_all_0>, <Task(PythonOperator): rs_all_1>]"
      ]
     },
     "execution_count": 5,
     "metadata": {},
     "output_type": "execute_result"
    }
   ],
   "source": [
    "block_optimize(2, 'rs_all', cycle_all, dw_cycle_param)"
   ]
  },
  {
   "cell_type": "markdown",
   "metadata": {
    "collapsed": "true"
   },
   "source": [
    "### parallel chains"
   ]
  },
  {
   "cell_type": "code",
   "execution_count": 6,
   "metadata": {
    "execution": {
     "iopub.execute_input": "2020-05-20T15:46:59.907715Z",
     "iopub.status.busy": "2020-05-20T15:46:59.907415Z",
     "iopub.status.idle": "2020-05-20T15:46:59.911878Z",
     "shell.execute_reply": "2020-05-20T15:46:59.911347Z",
     "shell.execute_reply.started": "2020-05-20T15:46:59.907673Z"
    }
   },
   "outputs": [],
   "source": [
    "tasks = {}\n",
    "tasks['exp'] = block_optimize(3, 'cycle_e', cycle_exp, dw_cycle_param)\n",
    "tasks['mut'] = block_optimize(3, 'cycle_m', cycle_mutate, dw_cycle_param)\n",
    "for task_e, task_m in zip(tasks['exp'], tasks['mut']):\n",
    "    task_e >> task_m"
   ]
  },
  {
   "cell_type": "markdown",
   "metadata": {
    "collapsed": "true",
    "execution": {
     "iopub.execute_input": "2020-05-20T14:08:23.162888Z",
     "iopub.status.busy": "2020-05-20T14:08:23.162595Z",
     "iopub.status.idle": "2020-05-20T14:08:23.165605Z",
     "shell.execute_reply": "2020-05-20T14:08:23.165107Z",
     "shell.execute_reply.started": "2020-05-20T14:08:23.162850Z"
    }
   },
   "source": [
    "### pooling one"
   ]
  },
  {
   "cell_type": "code",
   "execution_count": 7,
   "metadata": {
    "execution": {
     "iopub.execute_input": "2020-05-20T15:46:59.913235Z",
     "iopub.status.busy": "2020-05-20T15:46:59.913017Z",
     "iopub.status.idle": "2020-05-20T15:46:59.918939Z",
     "shell.execute_reply": "2020-05-20T15:46:59.918384Z",
     "shell.execute_reply.started": "2020-05-20T15:46:59.913195Z"
    }
   },
   "outputs": [
    {
     "data": {
      "text/plain": [
       "[<Task(PythonOperator): cycle_m_0>,\n",
       " <Task(PythonOperator): cycle_m_1>,\n",
       " <Task(PythonOperator): cycle_m_2>,\n",
       " <Task(PythonOperator): cycle_m_3>,\n",
       " <Task(PythonOperator): cycle_m_4>]"
      ]
     },
     "execution_count": 7,
     "metadata": {},
     "output_type": "execute_result"
    }
   ],
   "source": [
    "tasks = {}\n",
    "tasks['exp'] = block_optimize(3, 'cycle_e', cycle_exp, dw_cycle_param)\n",
    "pooling_task1 = create_task(f'pooling1', dw_pooling) \n",
    "tasks['exp'] >> pooling_task1\n",
    "\n",
    "tasks['mut'] = block_optimize(5, 'cycle_m', cycle_mutate, dw_cycle_param)\n",
    "pooling_task1 >> tasks['mut']"
   ]
  },
  {
   "cell_type": "markdown",
   "metadata": {
    "collapsed": "true",
    "execution": {
     "iopub.execute_input": "2020-05-20T14:09:51.518436Z",
     "iopub.status.busy": "2020-05-20T14:09:51.518147Z",
     "iopub.status.idle": "2020-05-20T14:09:51.521061Z",
     "shell.execute_reply": "2020-05-20T14:09:51.520632Z",
     "shell.execute_reply.started": "2020-05-20T14:09:51.518400Z"
    }
   },
   "source": [
    "### pooling many"
   ]
  },
  {
   "cell_type": "code",
   "execution_count": 8,
   "metadata": {
    "execution": {
     "iopub.execute_input": "2020-05-20T15:46:59.920073Z",
     "iopub.status.busy": "2020-05-20T15:46:59.919839Z",
     "iopub.status.idle": "2020-05-20T15:46:59.925986Z",
     "shell.execute_reply": "2020-05-20T15:46:59.925441Z",
     "shell.execute_reply.started": "2020-05-20T15:46:59.920032Z"
    }
   },
   "outputs": [],
   "source": [
    "tasks = {}\n",
    "#block_optimize(50, 'cycle_all', cycle_all, dw_cycle_param)\n",
    "tasks['exp'] = block_optimize(3, 'cycle_e', cycle_exp, dw_cycle_param)\n",
    "n_pooling = 2\n",
    "pooling_task1 = create_task(f'pooling_{n_pooling}_best', partial(dw_pooling, num=n_pooling))\n",
    "tasks['exp'] >> pooling_task1\n",
    "\n",
    "dist_tasks = distribute('best_exp', n_pooling)\n",
    "pooling_task1 >> dist_tasks\n",
    "\n",
    "mut_tasks = block_optimize(5, 'cycle_m', cycle_mutate, dw_cycle_param)\n",
    "for task_d, task_mut in zip(dist_tasks, chunker_list(mut_tasks, n_pooling)):\n",
    "    task_d >> task_mut"
   ]
  },
  {
   "cell_type": "markdown",
   "metadata": {
    "collapsed": "true",
    "execution": {
     "iopub.execute_input": "2020-05-20T14:14:06.666487Z",
     "iopub.status.busy": "2020-05-20T14:14:06.666200Z",
     "iopub.status.idle": "2020-05-20T14:14:06.669049Z",
     "shell.execute_reply": "2020-05-20T14:14:06.668582Z",
     "shell.execute_reply.started": "2020-05-20T14:14:06.666451Z"
    }
   },
   "source": [
    "### general one"
   ]
  },
  {
   "cell_type": "code",
   "execution_count": 9,
   "metadata": {
    "execution": {
     "iopub.execute_input": "2020-05-20T15:46:59.927144Z",
     "iopub.status.busy": "2020-05-20T15:46:59.926915Z",
     "iopub.status.idle": "2020-05-20T15:46:59.940035Z",
     "shell.execute_reply": "2020-05-20T15:46:59.939592Z",
     "shell.execute_reply.started": "2020-05-20T15:46:59.927105Z"
    }
   },
   "outputs": [
    {
     "data": {
      "text/plain": [
       "[<Task(PythonOperator): cycle_co_0>,\n",
       " <Task(PythonOperator): cycle_co_1>,\n",
       " <Task(PythonOperator): cycle_co_2>,\n",
       " <Task(PythonOperator): cycle_co_3>,\n",
       " <Task(PythonOperator): cycle_co_4>]"
      ]
     },
     "execution_count": 9,
     "metadata": {},
     "output_type": "execute_result"
    }
   ],
   "source": [
    "\n",
    "tasks = {}\n",
    "tasks['all'] = block_optimize(10, 'cycle_all', cycle_all, dw_cycle_param)\n",
    "\n",
    "dist_num = 5\n",
    "pooling_task1 = create_task(f'pooling_{dist_num}_best1', partial(dw_pooling, num=dist_num))\n",
    "tasks['all'] >> pooling_task1\n",
    "\n",
    "dist_tasks = distribute('best_all', dist_num)\n",
    "pooling_task1 >> dist_tasks\n",
    "\n",
    "tasks['mut'] = block_optimize(25, 'cycle_m', cycle_mutate, dw_cycle_param)\n",
    "for dt, mt in zip(dist_tasks, chunker_list(tasks['mut'], dist_num)):\n",
    "    dt >> mt\n",
    "\n",
    "pooling_task2 = create_task(f'pooling_{dist_num}_best2', partial(dw_pooling, num=dist_num))\n",
    "tasks['mut'] >> pooling_task2\n",
    "\n",
    "dist_tasks2 = distribute('best_mut', dist_num)\n",
    "pooling_task2 >> dist_tasks2\n",
    "\n",
    "\n",
    "tasks['cr'] = block_optimize(10, 'cycle_cr', cycle_crossover, dw_cycle_param)\n",
    "for dt, mt in zip(dist_tasks2, chunker_list(tasks['cr'], dist_num)):\n",
    "    dt >> mt\n",
    "\n",
    "pooling_task3 = create_task(f'pooling3', dw_pooling) \n",
    "tasks['cr'] >> pooling_task3\n",
    "\n",
    "tasks['co'] = block_optimize(5, 'cycle_co', cycle_combine, dw_cycle_param)\n",
    "pooling_task3 >> tasks['co']\n"
   ]
  },
  {
   "cell_type": "markdown",
   "metadata": {
    "execution": {
     "iopub.execute_input": "2020-05-18T09:37:20.560749Z",
     "iopub.status.busy": "2020-05-18T09:37:20.560436Z",
     "iopub.status.idle": "2020-05-18T09:37:20.563678Z",
     "shell.execute_reply": "2020-05-18T09:37:20.563095Z",
     "shell.execute_reply.started": "2020-05-18T09:37:20.560712Z"
    }
   },
   "source": [
    "## bo"
   ]
  },
  {
   "cell_type": "code",
   "execution_count": 10,
   "metadata": {
    "execution": {
     "iopub.execute_input": "2020-05-20T15:46:59.940935Z",
     "iopub.status.busy": "2020-05-20T15:46:59.940763Z",
     "iopub.status.idle": "2020-05-20T15:46:59.946776Z",
     "shell.execute_reply": "2020-05-20T15:46:59.946325Z",
     "shell.execute_reply.started": "2020-05-20T15:46:59.940907Z"
    }
   },
   "outputs": [
    {
     "data": {
      "text/plain": [
       "<Task(PythonOperator): pooling1>"
      ]
     },
     "execution_count": 10,
     "metadata": {},
     "output_type": "execute_result"
    }
   ],
   "source": [
    "#export\n",
    "tasks_bo_all = block_optimize(50, 'bo_all', bo_all, dw_bo_param)\n",
    "\n",
    "pooling_task1 = create_task(f'pooling1', dw_pooling) \n",
    "tasks_bo_all >> pooling_task1\n"
   ]
  },
  {
   "cell_type": "code",
   "execution_count": null,
   "metadata": {},
   "outputs": [],
   "source": []
  },
  {
   "cell_type": "markdown",
   "metadata": {
    "collapsed": "true",
    "execution": {
     "iopub.execute_input": "2020-05-18T10:18:14.029858Z",
     "iopub.status.busy": "2020-05-18T10:18:14.029550Z",
     "iopub.status.idle": "2020-05-18T10:18:14.032891Z",
     "shell.execute_reply": "2020-05-18T10:18:14.032349Z",
     "shell.execute_reply.started": "2020-05-18T10:18:14.029821Z"
    }
   },
   "source": [
    "# More tests"
   ]
  },
  {
   "cell_type": "code",
   "execution_count": 11,
   "metadata": {
    "execution": {
     "iopub.execute_input": "2020-05-20T15:46:59.947569Z",
     "iopub.status.busy": "2020-05-20T15:46:59.947396Z",
     "iopub.status.idle": "2020-05-20T15:46:59.950217Z",
     "shell.execute_reply": "2020-05-20T15:46:59.949803Z",
     "shell.execute_reply.started": "2020-05-20T15:46:59.947539Z"
    }
   },
   "outputs": [],
   "source": [
    "#export\n",
    "from airflow.models import TaskInstance\n",
    "from datetime import datetime\n",
    "import json\n",
    "from pprint import pprint"
   ]
  },
  {
   "cell_type": "code",
   "execution_count": 12,
   "metadata": {
    "execution": {
     "iopub.execute_input": "2020-05-20T15:46:59.950958Z",
     "iopub.status.busy": "2020-05-20T15:46:59.950813Z",
     "iopub.status.idle": "2020-05-20T15:46:59.955613Z",
     "shell.execute_reply": "2020-05-20T15:46:59.955176Z",
     "shell.execute_reply.started": "2020-05-20T15:46:59.950934Z"
    }
   },
   "outputs": [],
   "source": [
    "\n",
    "def test1(**context):\n",
    "    pprint(context)\n",
    "    return 55\n",
    "\n",
    "def test2(**context):\n",
    "    pprint(context)\n",
    "    pprint(pull_results2(**context))\n",
    "    return 999\n",
    "\n",
    "\n",
    "def pull_results2(**context):\n",
    "    results = None\n",
    "    if context is not None:\n",
    "        task = context['task']\n",
    "        dag = context['dag']\n",
    "        task_ids = dag.task_ids\n",
    "        #task_ids = task.upstream_task_ids\n",
    "        for task_id in task_ids:\n",
    "            print(task_id)\n",
    "            xc = context['ti'].xcom_pull(task_ids=task_id)\n",
    "            print(xc)\n",
    "            \n",
    "        results = {task_id:context['ti'].xcom_pull(task_ids=task_id) for task_id in task_ids}\n",
    "    return results\n",
    "\n",
    "task1 = base_task_generator('test1', test1, dag)\n",
    "task2 = base_task_generator('test2', test2, dag)\n",
    "#task1 >> task2\n"
   ]
  },
  {
   "cell_type": "code",
   "execution_count": 13,
   "metadata": {
    "execution": {
     "iopub.execute_input": "2020-05-20T15:46:59.956388Z",
     "iopub.status.busy": "2020-05-20T15:46:59.956213Z",
     "iopub.status.idle": "2020-05-20T15:47:01.045536Z",
     "shell.execute_reply": "2020-05-20T15:47:01.045039Z",
     "shell.execute_reply.started": "2020-05-20T15:46:59.956344Z"
    }
   },
   "outputs": [
    {
     "name": "stdout",
     "output_type": "stream",
     "text": [
      "{'END_DATE': '2020-05-20',\n",
      " 'conf': <airflow.configuration.AirflowConfigParser object at 0x7fee782f7240>,\n",
      " 'dag': <DAG: dhpo2>,\n",
      " 'dag_run': None,\n",
      " 'ds': '2020-05-20',\n",
      " 'ds_nodash': '20200520',\n",
      " 'end_date': '2020-05-20',\n",
      " 'execution_date': <Pendulum [2020-05-20T18:46:59.957817+00:00]>,\n",
      " 'inlets': [],\n",
      " 'latest_date': '2020-05-20',\n",
      " 'macros': <module 'airflow.macros' from '/home/sokolov/.local/lib/python3.6/site-packages/airflow/macros/__init__.py'>,\n",
      " 'next_ds': '2020-05-20',\n",
      " 'next_ds_nodash': '20200520',\n",
      " 'next_execution_date': <Pendulum [2020-05-20T23:00:00+00:00]>,\n",
      " 'outlets': [],\n",
      " 'params': {},\n",
      " 'prev_ds': '2020-05-19',\n",
      " 'prev_ds_nodash': '20200519',\n",
      " 'prev_execution_date': <Pendulum [2020-05-19T23:00:00+00:00]>,\n",
      " 'prev_execution_date_success': <Proxy at 0x7fee5f624ec8 with factory <function TaskInstance.get_template_context.<locals>.<lambda> at 0x7fee5f57c158>>,\n",
      " 'prev_start_date_success': <Proxy at 0x7fee5f54ec48 with factory <function TaskInstance.get_template_context.<locals>.<lambda> at 0x7fee5f521ea0>>,\n",
      " 'run_id': None,\n",
      " 'tables': None,\n",
      " 'task': <Task(PythonOperator): test2>,\n",
      " 'task_instance': <TaskInstance: dhpo2.test2 2020-05-20 18:46:59.957817+00:00 [None]>,\n",
      " 'task_instance_key_str': 'dhpo2__test2__20200520',\n",
      " 'templates_dict': None,\n",
      " 'test_mode': False,\n",
      " 'ti': <TaskInstance: dhpo2.test2 2020-05-20 18:46:59.957817+00:00 [None]>,\n",
      " 'tomorrow_ds': '2020-05-21',\n",
      " 'tomorrow_ds_nodash': '20200521',\n",
      " 'ts': '2020-05-20T18:46:59.957817+00:00',\n",
      " 'ts_nodash': '20200520T184659',\n",
      " 'ts_nodash_with_tz': '20200520T184659.957817+0000',\n",
      " 'var': {'json': None, 'value': None},\n",
      " 'yesterday_ds': '2020-05-19',\n",
      " 'yesterday_ds_nodash': '20200519'}\n",
      "rs_exp_0\n",
      "None\n",
      "rs_mut_0\n",
      "None\n",
      "rs_all_0\n",
      "None\n",
      "rs_all_1\n",
      "None\n",
      "cycle_e_0\n",
      "None\n",
      "cycle_e_1\n",
      "None\n",
      "cycle_e_2\n",
      "None\n",
      "cycle_m_0\n",
      "None\n",
      "cycle_m_1\n",
      "None\n",
      "cycle_m_2\n",
      "None\n",
      "pooling1\n",
      "None\n",
      "cycle_m_3\n",
      "None\n",
      "cycle_m_4\n",
      "None\n",
      "pooling_2_best\n",
      "None\n",
      "distribute_best_exp_0\n",
      "None\n",
      "distribute_best_exp_1\n",
      "None\n",
      "cycle_all_0\n",
      "None\n",
      "cycle_all_1\n",
      "None\n",
      "cycle_all_2\n",
      "None\n",
      "cycle_all_3\n",
      "None\n",
      "cycle_all_4\n",
      "None\n",
      "cycle_all_5\n",
      "None\n",
      "cycle_all_6\n",
      "None\n",
      "cycle_all_7\n",
      "None\n",
      "cycle_all_8\n",
      "None\n",
      "cycle_all_9\n",
      "None\n",
      "pooling_5_best1\n",
      "None\n",
      "distribute_best_all_0\n",
      "None\n",
      "distribute_best_all_1\n",
      "None\n",
      "distribute_best_all_2\n",
      "None\n",
      "distribute_best_all_3\n",
      "None\n",
      "distribute_best_all_4\n",
      "None\n",
      "cycle_m_5\n",
      "None\n",
      "cycle_m_6\n",
      "None\n",
      "cycle_m_7\n",
      "None\n",
      "cycle_m_8\n",
      "None\n",
      "cycle_m_9\n",
      "None\n",
      "cycle_m_10\n",
      "None\n",
      "cycle_m_11\n",
      "None\n",
      "cycle_m_12\n",
      "None\n",
      "cycle_m_13\n",
      "None\n",
      "cycle_m_14\n",
      "None\n",
      "cycle_m_15\n",
      "None\n",
      "cycle_m_16\n",
      "None\n",
      "cycle_m_17\n",
      "None\n",
      "cycle_m_18\n",
      "None\n",
      "cycle_m_19\n",
      "None\n",
      "cycle_m_20\n",
      "None\n",
      "cycle_m_21\n",
      "None\n",
      "cycle_m_22\n",
      "None\n",
      "cycle_m_23\n",
      "None\n",
      "cycle_m_24\n",
      "None\n",
      "pooling_5_best2\n",
      "None\n",
      "distribute_best_mut_0\n",
      "None\n",
      "distribute_best_mut_1\n",
      "None\n",
      "distribute_best_mut_2\n",
      "None\n",
      "distribute_best_mut_3\n",
      "None\n",
      "distribute_best_mut_4\n",
      "None\n",
      "cycle_cr_0\n",
      "None\n",
      "cycle_cr_1\n",
      "None\n",
      "cycle_cr_2\n",
      "None\n",
      "cycle_cr_3\n",
      "None\n",
      "cycle_cr_4\n",
      "None\n",
      "cycle_cr_5\n",
      "None\n",
      "cycle_cr_6\n",
      "None\n",
      "cycle_cr_7\n",
      "None\n",
      "cycle_cr_8\n",
      "None\n",
      "cycle_cr_9\n",
      "None\n",
      "pooling3\n",
      "None\n",
      "cycle_co_0\n",
      "None\n",
      "cycle_co_1\n",
      "None\n",
      "cycle_co_2\n",
      "None\n",
      "cycle_co_3\n",
      "None\n",
      "cycle_co_4\n",
      "None\n",
      "bo_all_0\n",
      "None\n",
      "bo_all_1\n",
      "None\n",
      "bo_all_2\n",
      "None\n",
      "bo_all_3\n",
      "None\n",
      "bo_all_4\n",
      "None\n",
      "bo_all_5\n",
      "None\n",
      "bo_all_6\n",
      "None\n",
      "bo_all_7\n",
      "None\n",
      "bo_all_8\n",
      "None\n",
      "bo_all_9\n",
      "None\n",
      "bo_all_10\n",
      "None\n",
      "bo_all_11\n",
      "None\n",
      "bo_all_12\n",
      "None\n",
      "bo_all_13\n",
      "None\n",
      "bo_all_14\n",
      "None\n",
      "bo_all_15\n",
      "None\n",
      "bo_all_16\n",
      "None\n",
      "bo_all_17\n",
      "None\n",
      "bo_all_18\n",
      "None\n",
      "bo_all_19\n",
      "None\n",
      "bo_all_20\n",
      "None\n",
      "bo_all_21\n",
      "None\n",
      "bo_all_22\n",
      "None\n",
      "bo_all_23\n",
      "None\n",
      "bo_all_24\n",
      "None\n",
      "bo_all_25\n",
      "None\n",
      "bo_all_26\n",
      "None\n",
      "bo_all_27\n",
      "None\n",
      "bo_all_28\n",
      "None\n",
      "bo_all_29\n",
      "None\n",
      "bo_all_30\n",
      "None\n",
      "bo_all_31\n",
      "None\n",
      "bo_all_32\n",
      "None\n",
      "bo_all_33\n",
      "None\n",
      "bo_all_34\n",
      "None\n",
      "bo_all_35\n",
      "None\n",
      "bo_all_36\n",
      "None\n",
      "bo_all_37\n",
      "None\n",
      "bo_all_38\n",
      "None\n",
      "bo_all_39\n",
      "None\n",
      "bo_all_40\n",
      "None\n",
      "bo_all_41\n",
      "None\n",
      "bo_all_42\n",
      "None\n",
      "bo_all_43\n",
      "None\n",
      "bo_all_44\n",
      "None\n",
      "bo_all_45\n",
      "None\n",
      "bo_all_46\n",
      "None\n",
      "bo_all_47\n",
      "None\n",
      "bo_all_48\n",
      "None\n",
      "bo_all_49\n",
      "None\n",
      "bo_all_50\n",
      "None\n",
      "bo_all_51\n",
      "None\n",
      "bo_all_52\n",
      "None\n",
      "bo_all_53\n",
      "None\n",
      "bo_all_54\n",
      "None\n",
      "bo_all_55\n",
      "None\n",
      "bo_all_56\n",
      "None\n",
      "bo_all_57\n",
      "None\n",
      "bo_all_58\n",
      "None\n",
      "bo_all_59\n",
      "None\n",
      "bo_all_60\n",
      "None\n",
      "bo_all_61\n",
      "None\n",
      "bo_all_62\n",
      "None\n",
      "bo_all_63\n",
      "None\n",
      "bo_all_64\n",
      "None\n",
      "bo_all_65\n",
      "None\n",
      "bo_all_66\n",
      "None\n",
      "bo_all_67\n",
      "None\n",
      "bo_all_68\n",
      "None\n",
      "bo_all_69\n",
      "None\n",
      "bo_all_70\n",
      "None\n",
      "bo_all_71\n",
      "None\n",
      "bo_all_72\n",
      "None\n",
      "bo_all_73\n",
      "None\n",
      "bo_all_74\n",
      "None\n",
      "bo_all_75\n",
      "None\n",
      "bo_all_76\n",
      "None\n",
      "bo_all_77\n",
      "None\n",
      "bo_all_78\n",
      "None\n",
      "bo_all_79\n",
      "None\n",
      "test1\n",
      "None\n",
      "test2\n",
      "None\n",
      "{'bo_all_0': None,\n",
      " 'bo_all_1': None,\n",
      " 'bo_all_10': None,\n",
      " 'bo_all_11': None,\n",
      " 'bo_all_12': None,\n",
      " 'bo_all_13': None,\n",
      " 'bo_all_14': None,\n",
      " 'bo_all_15': None,\n",
      " 'bo_all_16': None,\n",
      " 'bo_all_17': None,\n",
      " 'bo_all_18': None,\n",
      " 'bo_all_19': None,\n",
      " 'bo_all_2': None,\n",
      " 'bo_all_20': None,\n",
      " 'bo_all_21': None,\n",
      " 'bo_all_22': None,\n",
      " 'bo_all_23': None,\n",
      " 'bo_all_24': None,\n",
      " 'bo_all_25': None,\n",
      " 'bo_all_26': None,\n",
      " 'bo_all_27': None,\n",
      " 'bo_all_28': None,\n",
      " 'bo_all_29': None,\n",
      " 'bo_all_3': None,\n",
      " 'bo_all_30': None,\n",
      " 'bo_all_31': None,\n",
      " 'bo_all_32': None,\n",
      " 'bo_all_33': None,\n",
      " 'bo_all_34': None,\n",
      " 'bo_all_35': None,\n",
      " 'bo_all_36': None,\n",
      " 'bo_all_37': None,\n",
      " 'bo_all_38': None,\n",
      " 'bo_all_39': None,\n",
      " 'bo_all_4': None,\n",
      " 'bo_all_40': None,\n",
      " 'bo_all_41': None,\n",
      " 'bo_all_42': None,\n",
      " 'bo_all_43': None,\n",
      " 'bo_all_44': None,\n",
      " 'bo_all_45': None,\n",
      " 'bo_all_46': None,\n",
      " 'bo_all_47': None,\n",
      " 'bo_all_48': None,\n",
      " 'bo_all_49': None,\n",
      " 'bo_all_5': None,\n",
      " 'bo_all_50': None,\n",
      " 'bo_all_51': None,\n",
      " 'bo_all_52': None,\n",
      " 'bo_all_53': None,\n",
      " 'bo_all_54': None,\n",
      " 'bo_all_55': None,\n",
      " 'bo_all_56': None,\n",
      " 'bo_all_57': None,\n",
      " 'bo_all_58': None,\n",
      " 'bo_all_59': None,\n",
      " 'bo_all_6': None,\n",
      " 'bo_all_60': None,\n",
      " 'bo_all_61': None,\n",
      " 'bo_all_62': None,\n",
      " 'bo_all_63': None,\n",
      " 'bo_all_64': None,\n",
      " 'bo_all_65': None,\n",
      " 'bo_all_66': None,\n",
      " 'bo_all_67': None,\n",
      " 'bo_all_68': None,\n",
      " 'bo_all_69': None,\n",
      " 'bo_all_7': None,\n",
      " 'bo_all_70': None,\n",
      " 'bo_all_71': None,\n",
      " 'bo_all_72': None,\n",
      " 'bo_all_73': None,\n",
      " 'bo_all_74': None,\n",
      " 'bo_all_75': None,\n",
      " 'bo_all_76': None,\n",
      " 'bo_all_77': None,\n",
      " 'bo_all_78': None,\n",
      " 'bo_all_79': None,\n",
      " 'bo_all_8': None,\n",
      " 'bo_all_9': None,\n",
      " 'cycle_all_0': None,\n",
      " 'cycle_all_1': None,\n",
      " 'cycle_all_2': None,\n",
      " 'cycle_all_3': None,\n",
      " 'cycle_all_4': None,\n",
      " 'cycle_all_5': None,\n",
      " 'cycle_all_6': None,\n",
      " 'cycle_all_7': None,\n",
      " 'cycle_all_8': None,\n",
      " 'cycle_all_9': None,\n",
      " 'cycle_co_0': None,\n",
      " 'cycle_co_1': None,\n",
      " 'cycle_co_2': None,\n",
      " 'cycle_co_3': None,\n",
      " 'cycle_co_4': None,\n",
      " 'cycle_cr_0': None,\n",
      " 'cycle_cr_1': None,\n",
      " 'cycle_cr_2': None,\n",
      " 'cycle_cr_3': None,\n",
      " 'cycle_cr_4': None,\n",
      " 'cycle_cr_5': None,\n",
      " 'cycle_cr_6': None,\n",
      " 'cycle_cr_7': None,\n",
      " 'cycle_cr_8': None,\n",
      " 'cycle_cr_9': None,\n",
      " 'cycle_e_0': None,\n",
      " 'cycle_e_1': None,\n",
      " 'cycle_e_2': None,\n",
      " 'cycle_m_0': None,\n",
      " 'cycle_m_1': None,\n",
      " 'cycle_m_10': None,\n",
      " 'cycle_m_11': None,\n",
      " 'cycle_m_12': None,\n",
      " 'cycle_m_13': None,\n",
      " 'cycle_m_14': None,\n",
      " 'cycle_m_15': None,\n",
      " 'cycle_m_16': None,\n",
      " 'cycle_m_17': None,\n",
      " 'cycle_m_18': None,\n",
      " 'cycle_m_19': None,\n",
      " 'cycle_m_2': None,\n",
      " 'cycle_m_20': None,\n",
      " 'cycle_m_21': None,\n",
      " 'cycle_m_22': None,\n",
      " 'cycle_m_23': None,\n",
      " 'cycle_m_24': None,\n",
      " 'cycle_m_3': None,\n",
      " 'cycle_m_4': None,\n",
      " 'cycle_m_5': None,\n",
      " 'cycle_m_6': None,\n",
      " 'cycle_m_7': None,\n",
      " 'cycle_m_8': None,\n",
      " 'cycle_m_9': None,\n",
      " 'distribute_best_all_0': None,\n",
      " 'distribute_best_all_1': None,\n",
      " 'distribute_best_all_2': None,\n",
      " 'distribute_best_all_3': None,\n",
      " 'distribute_best_all_4': None,\n",
      " 'distribute_best_exp_0': None,\n",
      " 'distribute_best_exp_1': None,\n",
      " 'distribute_best_mut_0': None,\n",
      " 'distribute_best_mut_1': None,\n",
      " 'distribute_best_mut_2': None,\n",
      " 'distribute_best_mut_3': None,\n",
      " 'distribute_best_mut_4': None,\n",
      " 'pooling1': None,\n",
      " 'pooling3': None,\n",
      " 'pooling_2_best': None,\n",
      " 'pooling_5_best1': None,\n",
      " 'pooling_5_best2': None,\n",
      " 'rs_all_0': None,\n",
      " 'rs_all_1': None,\n",
      " 'rs_exp_0': None,\n",
      " 'rs_mut_0': None,\n",
      " 'test1': None,\n",
      " 'test2': None}\n"
     ]
    },
    {
     "data": {
      "text/plain": [
       "999"
      ]
     },
     "execution_count": 13,
     "metadata": {},
     "output_type": "execute_result"
    }
   ],
   "source": [
    "ti = TaskInstance(task=task2, execution_date=datetime.now())\n",
    "ctxt = ti.get_template_context()\n",
    "task2.execute(context=ctxt)"
   ]
  },
  {
   "cell_type": "code",
   "execution_count": 14,
   "metadata": {
    "execution": {
     "iopub.execute_input": "2020-05-20T15:47:01.046975Z",
     "iopub.status.busy": "2020-05-20T15:47:01.046783Z",
     "iopub.status.idle": "2020-05-20T15:47:01.154395Z",
     "shell.execute_reply": "2020-05-20T15:47:01.153025Z",
     "shell.execute_reply.started": "2020-05-20T15:47:01.046946Z"
    }
   },
   "outputs": [
    {
     "ename": "AttributeError",
     "evalue": "'datetime.datetime' object has no attribute 'task_ids'",
     "output_type": "error",
     "traceback": [
      "\u001b[0;31m--------------------------------------------------------------\u001b[0m",
      "\u001b[0;31mAttributeError\u001b[0m               Traceback (most recent call last)",
      "\u001b[0;32m<ipython-input-14-fd17a56ac474>\u001b[0m in \u001b[0;36m<module>\u001b[0;34m\u001b[0m\n\u001b[0;32m----> 1\u001b[0;31m \u001b[0md\u001b[0m\u001b[0;34m.\u001b[0m\u001b[0mtask_ids\u001b[0m\u001b[0;34m\u001b[0m\u001b[0;34m\u001b[0m\u001b[0m\n\u001b[0m",
      "\u001b[0;31mAttributeError\u001b[0m: 'datetime.datetime' object has no attribute 'task_ids'"
     ]
    }
   ],
   "source": [
    "d.task_ids"
   ]
  },
  {
   "cell_type": "code",
   "execution_count": null,
   "metadata": {
    "execution": {
     "iopub.status.busy": "2020-05-20T15:47:01.155085Z",
     "iopub.status.idle": "2020-05-20T15:47:01.155335Z"
    }
   },
   "outputs": [],
   "source": [
    "d = ctxt['dag']\n",
    "t = d.task_dict['test2']\n",
    "t.xcom_pull(ctxt)"
   ]
  },
  {
   "cell_type": "code",
   "execution_count": null,
   "metadata": {
    "execution": {
     "iopub.status.busy": "2020-05-20T15:47:01.155979Z",
     "iopub.status.idle": "2020-05-20T15:47:01.156190Z"
    }
   },
   "outputs": [],
   "source": [
    "task2.xcom_push(ctxt, 'test',13)"
   ]
  },
  {
   "cell_type": "code",
   "execution_count": null,
   "metadata": {
    "execution": {
     "iopub.status.busy": "2020-05-20T15:47:01.156811Z",
     "iopub.status.idle": "2020-05-20T15:47:01.157032Z"
    }
   },
   "outputs": [],
   "source": [
    "task1.xcom_pull(ctxt)"
   ]
  },
  {
   "cell_type": "code",
   "execution_count": null,
   "metadata": {
    "execution": {
     "iopub.status.busy": "2020-05-20T15:47:01.157578Z",
     "iopub.status.idle": "2020-05-20T15:47:01.157784Z"
    }
   },
   "outputs": [],
   "source": [
    "ti.pool, ti.current_state()"
   ]
  },
  {
   "cell_type": "code",
   "execution_count": null,
   "metadata": {
    "execution": {
     "iopub.status.busy": "2020-05-20T15:47:01.158339Z",
     "iopub.status.idle": "2020-05-20T15:47:01.158546Z"
    }
   },
   "outputs": [],
   "source": [
    "ti = TaskInstance(task=task1, execution_date=datetime.now())\n",
    "task1.execute(context=ti.get_template_context())\n",
    "ti.pool, ti.current_state()"
   ]
  },
  {
   "cell_type": "code",
   "execution_count": null,
   "metadata": {
    "execution": {
     "iopub.status.busy": "2020-05-20T15:47:01.159080Z",
     "iopub.status.idle": "2020-05-20T15:47:01.159290Z"
    }
   },
   "outputs": [],
   "source": [
    "ti.pool, ti.current_state()"
   ]
  },
  {
   "cell_type": "code",
   "execution_count": null,
   "metadata": {},
   "outputs": [],
   "source": []
  },
  {
   "cell_type": "code",
   "execution_count": null,
   "metadata": {},
   "outputs": [],
   "source": []
  },
  {
   "cell_type": "code",
   "execution_count": null,
   "metadata": {
    "execution": {
     "iopub.status.busy": "2020-05-20T15:47:01.159925Z",
     "iopub.status.idle": "2020-05-20T15:47:01.160133Z"
    }
   },
   "outputs": [],
   "source": [
    "def task_state(args):\n",
    "    dag = get_dag(args)\n",
    "    task = dag.get_task(task_id=args.task_id)\n",
    "    ti = TaskInstance(task, args.execution_date)\n",
    "    print(ti.current_state())"
   ]
  },
  {
   "cell_type": "code",
   "execution_count": null,
   "metadata": {},
   "outputs": [],
   "source": []
  },
  {
   "cell_type": "markdown",
   "metadata": {},
   "source": [
    "# Export"
   ]
  },
  {
   "cell_type": "code",
   "execution_count": 22,
   "metadata": {
    "execution": {
     "iopub.execute_input": "2020-05-21T07:48:12.413578Z",
     "iopub.status.busy": "2020-05-21T07:48:12.413317Z",
     "iopub.status.idle": "2020-05-21T07:48:12.604015Z",
     "shell.execute_reply": "2020-05-21T07:48:12.603381Z",
     "shell.execute_reply.started": "2020-05-21T07:48:12.413544Z"
    }
   },
   "outputs": [
    {
     "name": "stdout",
     "output_type": "stream",
     "text": [
      "Converted dag.ipynb to exp/nb_dag.py\n"
     ]
    }
   ],
   "source": [
    "!python3 extra/n2s.py dag.ipynb"
   ]
  },
  {
   "cell_type": "code",
   "execution_count": 23,
   "metadata": {
    "execution": {
     "iopub.execute_input": "2020-05-21T07:48:12.668836Z",
     "iopub.status.busy": "2020-05-21T07:48:12.668661Z",
     "iopub.status.idle": "2020-05-21T07:48:14.688816Z",
     "shell.execute_reply": "2020-05-21T07:48:14.688058Z",
     "shell.execute_reply.started": "2020-05-21T07:48:12.668808Z"
    }
   },
   "outputs": [
    {
     "name": "stdout",
     "output_type": "stream",
     "text": [
      "[2020-05-21 10:48:13,564] {__init__.py:51} INFO - Using executor LocalExecutor\n",
      "[2020-05-21 10:48:13,564] {dagbag.py:396} INFO - Filling up the DagBag from /home/sokolov/airflow/dags\n",
      "[2020-05-21 10:48:13,565] {dagbag.py:396} INFO - Filling up the DagBag from /home/sokolov/work/cycler/dHPO/exp\n",
      "\n",
      "\n",
      "-------------------------------------------------------------------\n",
      "DAGS\n",
      "-------------------------------------------------------------------\n",
      "dhpo2\n",
      "\n"
     ]
    }
   ],
   "source": [
    "!airflow list_dags"
   ]
  },
  {
   "cell_type": "code",
   "execution_count": null,
   "metadata": {},
   "outputs": [],
   "source": []
  }
 ],
 "metadata": {
  "kernelspec": {
   "display_name": "Python 3",
   "language": "python",
   "name": "python3"
  },
  "language_info": {
   "codemirror_mode": {
    "name": "ipython",
    "version": 3
   },
   "file_extension": ".py",
   "mimetype": "text/x-python",
   "name": "python",
   "nbconvert_exporter": "python",
   "pygments_lexer": "ipython3",
   "version": "3.6.9"
  },
  "toc-autonumbering": false,
  "toc-showcode": false,
  "toc-showmarkdowntxt": true,
  "toc-showtags": false
 },
 "nbformat": 4,
 "nbformat_minor": 4
}
