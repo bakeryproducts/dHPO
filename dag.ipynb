{
 "cells": [
  {
   "cell_type": "markdown",
   "metadata": {},
   "source": [
    "# Imports"
   ]
  },
  {
   "cell_type": "code",
   "execution_count": 1,
   "metadata": {
    "execution": {
     "iopub.execute_input": "2020-05-18T10:25:38.114281Z",
     "iopub.status.busy": "2020-05-18T10:25:38.114038Z",
     "iopub.status.idle": "2020-05-18T10:25:38.924955Z",
     "shell.execute_reply": "2020-05-18T10:25:38.924229Z",
     "shell.execute_reply.started": "2020-05-18T10:25:38.114248Z"
    }
   },
   "outputs": [],
   "source": [
    "#export\n",
    "import os\n",
    "import sys\n",
    "sys.path.append(os.path.join(os.getcwd(),'exp'))\n",
    "\n",
    "import time\n",
    "import numpy as np\n",
    "from pathlib import Path\n",
    "from itertools import cycle\n",
    "from functools import partial\n",
    "from datetime import timedelta, datetime\n",
    "\n",
    "import GPUtil as gu\n",
    "from airflow import DAG\n",
    "from airflow.operators.bash_operator import BashOperator\n",
    "from airflow.operators.python_operator import PythonOperator\n",
    "from airflow.utils.dates import days_ago\n",
    "from airflow.utils.decorators import apply_defaults\n",
    "from airflow.operators.sensors import BaseSensorOperator\n",
    "\n",
    "from nb_runner import cycle_exp, cycle_mutate, \\\n",
    "                      cycle_crossover, cycle_combine, cycle_all,\\\n",
    "                      bo_exp, bo_all, bo_crossover"
   ]
  },
  {
   "cell_type": "markdown",
   "metadata": {},
   "source": [
    "# Code"
   ]
  },
  {
   "cell_type": "code",
   "execution_count": 8,
   "metadata": {
    "execution": {
     "iopub.execute_input": "2020-05-18T10:13:29.860880Z",
     "iopub.status.busy": "2020-05-18T10:13:29.860711Z",
     "iopub.status.idle": "2020-05-18T10:13:29.865587Z",
     "shell.execute_reply": "2020-05-18T10:13:29.865133Z",
     "shell.execute_reply.started": "2020-05-18T10:13:29.860853Z"
    }
   },
   "outputs": [],
   "source": [
    "#export\n",
    "class GpuSensor(BaseSensorOperator):\n",
    "    @apply_defaults\n",
    "    def __init__(self, gpu_id, threshold, gdelay, *args, **kwargs):\n",
    "        super(GpuSensor, self).__init__(*args, **kwargs)\n",
    "        self.gpu_id = gpu_id\n",
    "        self.threshold = threshold\n",
    "        self.gdelay = gdelay\n",
    "        \n",
    "    def poke(self, context):\n",
    "        gpu_load = check_load(self.gdelay)[self.gpu_id]\n",
    "        print(f'GPULOAD{gpu_load}')\n",
    "        return gpu_load < self.threshold\n",
    "    \n",
    "def check_load(delay=.1):\n",
    "    load = []\n",
    "    for i in range(10):\n",
    "        gpus = gu.getGPUs()\n",
    "        c_load = [g.load for g in gpus]\n",
    "        load.append(c_load)\n",
    "        time.sleep(delay)\n",
    "    return np.array(load).mean(axis=0)"
   ]
  },
  {
   "cell_type": "code",
   "execution_count": 9,
   "metadata": {
    "execution": {
     "iopub.execute_input": "2020-05-18T10:13:29.866445Z",
     "iopub.status.busy": "2020-05-18T10:13:29.866279Z",
     "iopub.status.idle": "2020-05-18T10:13:29.875411Z",
     "shell.execute_reply": "2020-05-18T10:13:29.874978Z",
     "shell.execute_reply.started": "2020-05-18T10:13:29.866419Z"
    }
   },
   "outputs": [],
   "source": [
    "#export\n",
    "default_args = {\n",
    "    'owner': 'airflow',\n",
    "    'depends_on_past': False,\n",
    "    'start_date': datetime(2020, 5, 15),\n",
    "    'email': False,\n",
    "    'email_on_failure': False,\n",
    "    'email_on_retry': False,\n",
    "    'retries': 0,\n",
    "    'retry_delay': timedelta(minutes=5),}\n",
    "\n",
    "default_pool = 'sokolov_pool_gpu0'\n",
    "\n",
    "dag = DAG(  'crsch_hyp_search1',\n",
    "                default_args=default_args,\n",
    "                description='crossover, mutate, combine chances',\n",
    "                schedule_interval='@daily')\n",
    "\n",
    "def base_task_generator(name, func, dag, pool=default_pool, op_kwargs=None):\n",
    "    task = PythonOperator(\n",
    "                    task_id=name,\n",
    "                    python_callable=func,\n",
    "                    op_kwargs=op_kwargs,\n",
    "                    provide_context=True,\n",
    "                    pool=pool,\n",
    "                    retries=10,\n",
    "                    retry_delay=timedelta(minutes=3),\n",
    "                    dag=dag,)\n",
    "#     gmap = {'gpu0':0, 'gpu1':1, 'gpu2':2,'gpu3':3}\n",
    "#     gpu_id = gmap[pool.split('_')[-1]]\n",
    "#     gpu_sensor = GpuSensor(gpu_id=gpu_id,\n",
    "#                             threshold=.1,\n",
    "#                             gdelay=.1,\n",
    "#                             task_id='sens_'+name,\n",
    "#                             pool=pool,\n",
    "#                             retries=10, \n",
    "#                             retry_delay=timedelta(minutes=1),\n",
    "#                             dag=dag,)\n",
    "                          \n",
    "#     task.set_upstream = gpu_sensor.set_upstream\n",
    "#     gpu_sensor >> task\n",
    "    return task\n",
    "        \n",
    "create_task = partial(base_task_generator, dag=dag)\n",
    "\n",
    "def pull_results(**context):\n",
    "    results = None\n",
    "    if context is not None:\n",
    "        task_ids = context['dag'].task_ids\n",
    "        results = {task_id:context['ti'].xcom_pull(task_ids=task_id) for task_id in task_ids}\n",
    "    return results\n",
    "\n",
    "\n",
    "def upstream_results(**context):\n",
    "    task = context['task']\n",
    "    upstream_task_ids = task.upstream_task_ids\n",
    "    rs = [pull_results(**context)[task_id] for task_id in upstream_task_ids]\n",
    "    if not rs:\n",
    "        rs = [{'configs':None, 'docker_results':None}]\n",
    "    for result in rs:\n",
    "        yield result        \n",
    "\n",
    "def parse_pool(pool_str):\n",
    "    pool_str = pool_str.split('_')[-1]\n",
    "    return ','.join([i for i in pool_str if i.isdigit()])\n",
    "\n",
    "def chunker_list(seq, size):\n",
    "    return (seq[i::size] for i in range(size))"
   ]
  },
  {
   "cell_type": "code",
   "execution_count": 10,
   "metadata": {
    "execution": {
     "iopub.execute_input": "2020-05-18T10:13:29.876267Z",
     "iopub.status.busy": "2020-05-18T10:13:29.876091Z",
     "iopub.status.idle": "2020-05-18T10:13:29.885177Z",
     "shell.execute_reply": "2020-05-18T10:13:29.884810Z",
     "shell.execute_reply.started": "2020-05-18T10:13:29.876220Z"
    }
   },
   "outputs": [],
   "source": [
    "#export\n",
    "def dw_cycle_param(func, **context):\n",
    "    prev_results = next(upstream_results(**context))\n",
    "    aux_cfg_files = prev_results['configs']\n",
    "    gpus = parse_pool(context['ti'].pool)\n",
    "    return func(aux_cfg_files=aux_cfg_files, gpus=gpus)\n",
    "\n",
    "def dw_bo_param(func, **context):\n",
    "    results = pull_results(**context)\n",
    "    all_params = []\n",
    "    for task_id, r in results.items():\n",
    "        if r:\n",
    "            all_params.append({'params':r['state'], 'target':r['docker_results']['metric']})  \n",
    "    \n",
    "    prev_results = next(upstream_results(**context))\n",
    "    aux_cfg_files = prev_results['configs']\n",
    "    gpus = parse_pool(context['ti'].pool)\n",
    "    return func(aux_cfg_files=aux_cfg_files, gpus=gpus, params=all_params)\n",
    "\n",
    "def dw_pooling(num=1, **context):\n",
    "    key = 'metric'\n",
    "    res = {}\n",
    "    for r in upstream_results(**context):\n",
    "        res[r['docker_results'][key]] = r['configs']\n",
    "    res = sorted(res.items(), key=lambda x: x[0], reverse=True)\n",
    "    res = res[:num]\n",
    "    best_docker_results = [r[0] for r in res]\n",
    "    best_configs = [r[1] for r in res]\n",
    "    print(f'\\n\\tPooling: best result : {best_docker_results}, {best_configs}\\n')\n",
    "    return [{'configs':best_config} for best_config in best_configs]\n",
    "\n",
    "def dw_dist(idx=None, **context):\n",
    "    res = list(upstream_results(**context))[0][idx]\n",
    "    return res\n",
    "\n",
    "def distribute(num):\n",
    "    tasks = []\n",
    "    for i in range(num):\n",
    "        task_name = f'distribute_{i}'\n",
    "        tasks.append(create_task(task_name, dw_dist, op_kwargs={'idx':i}))\n",
    "    return tasks\n",
    "        \n",
    "def cycle_block(n, name, func, dw_param):\n",
    "    tasks = []\n",
    "    gpus_avail = cycle([0,2,3])\n",
    "        \n",
    "    for i in range(n):\n",
    "        gpu = next(gpus_avail)\n",
    "        task_name = f'{name}_{i}'\n",
    "        pool = f'sokolov_pool_gpu{gpu}'\n",
    "        \n",
    "        block_func = partial(func, seq_id=i, name=task_name)\n",
    "        task = create_task(task_name, dw_param, pool=pool, op_kwargs={'func':block_func}) \n",
    "        tasks.append(task) \n",
    "    return tasks"
   ]
  },
  {
   "cell_type": "markdown",
   "metadata": {
    "execution": {
     "iopub.execute_input": "2020-05-18T09:37:06.369254Z",
     "iopub.status.busy": "2020-05-18T09:37:06.368952Z",
     "iopub.status.idle": "2020-05-18T09:37:06.371993Z",
     "shell.execute_reply": "2020-05-18T09:37:06.371581Z",
     "shell.execute_reply.started": "2020-05-18T09:37:06.369212Z"
    }
   },
   "source": [
    "### cycle"
   ]
  },
  {
   "cell_type": "code",
   "execution_count": 49,
   "metadata": {
    "execution": {
     "iopub.execute_input": "2020-05-18T07:18:15.274092Z",
     "iopub.status.busy": "2020-05-18T07:18:15.273820Z",
     "iopub.status.idle": "2020-05-18T07:18:15.279346Z",
     "shell.execute_reply": "2020-05-18T07:18:15.278934Z",
     "shell.execute_reply.started": "2020-05-18T07:18:15.274056Z"
    }
   },
   "outputs": [
    {
     "data": {
      "text/plain": [
       "<Task(PythonOperator): pooling_two_best>"
      ]
     },
     "execution_count": 49,
     "metadata": {},
     "output_type": "execute_result"
    }
   ],
   "source": [
    "tasks = {'mut':[], 'exp':[], 'cross':[]}\n",
    "\n",
    "#cycle_block(50, 'cycle_all', cycle_all, dw_cycle_param)\n",
    "tasks['exp'] = cycle_block(3, 'cycle_e', cycle_exp, dw_cycle_param)\n",
    "\n",
    "# pooling_task1 = create_task(f'pooling1', dw_pooling_one) \n",
    "#partial(dw_pooling, num=1)\n",
    "dist_num = 1\n",
    "pooling_task1 = create_task(f'pooling_two_best', partial(dw_pooling, num=dist_num))\n",
    "tasks['exp'] >> pooling_task1\n",
    "\n",
    "dist_tasks = distribute(dist_num)\n",
    "pooling_task1 >> dist_tasks\n",
    "\n",
    "mut_tasks = cycle_block(3, 'cycle_m', cycle_mutate, dw_cycle_param)\n",
    "for dt, mt in zip(dist_tasks, chunker_list(mut_tasks, dist_num)):\n",
    "    dt >> mt\n",
    "\n",
    "# pooling_task2 = create_task(f'pooling2', dw_pooling_one) \n",
    "# for task in tasks['mut']:\n",
    "#     pooling_task1 >> task\n",
    "#     task >> pooling_task2\n",
    "    \n",
    "# tasks['cross'] = cycle_block(3, 'cycle_cr', cycle_crossover)\n",
    "# pooling_task3 = create_task(f'pooling3', dw_cycle_pool) \n",
    "# for task in tasks['cross']:\n",
    "#     pooling_task2 >> task\n",
    "#     task >> pooling_task3\n",
    "    \n",
    "# tasks['comb'] = cycle_block(3, 'cycle_co', cycle_combine)\n",
    "# for task in tasks['comb']:\n",
    "#     pooling_task3 >> task"
   ]
  },
  {
   "cell_type": "markdown",
   "metadata": {
    "execution": {
     "iopub.execute_input": "2020-05-18T09:37:20.560749Z",
     "iopub.status.busy": "2020-05-18T09:37:20.560436Z",
     "iopub.status.idle": "2020-05-18T09:37:20.563678Z",
     "shell.execute_reply": "2020-05-18T09:37:20.563095Z",
     "shell.execute_reply.started": "2020-05-18T09:37:20.560712Z"
    }
   },
   "source": [
    "### bo"
   ]
  },
  {
   "cell_type": "code",
   "execution_count": null,
   "metadata": {},
   "outputs": [],
   "source": [
    "#export\n",
    "#tasks = {'mut':[], 'exp':[], 'cross':[]}\n",
    "\n",
    "cycle_block(30, 'bo_cross', bo_crossover, dw_bo_param)\n",
    "#tasks['exp'] = cycle_block(3, 'cycle_e', cycle_exp)\n",
    "\n",
    "# pooling_task1 = create_task(f'pooling1', dw_pooling_one) \n",
    "#partial(dw_pooling, num=1)\n",
    "# dist_num = 2\n",
    "# pooling_task1 = create_task(f'pooling_two_best', partial(dw_pooling, num=dist_num))\n",
    "# tasks['exp'] >> pooling_task1\n",
    "\n",
    "# dist_tasks = distribute(dist_num)\n",
    "# connect(pooling_task1, dist_tasks)\n",
    "\n",
    "# mut_tasks = cycle_block(7, 'cycle_m', cycle_mutate)\n",
    "# for dt, mt in zip(dist_tasks, chunker_list(mut_tasks, dist_num)):\n",
    "#     connect(dt, mt)"
   ]
  },
  {
   "cell_type": "code",
   "execution_count": null,
   "metadata": {},
   "outputs": [],
   "source": []
  },
  {
   "cell_type": "markdown",
   "metadata": {
    "collapsed": "true",
    "execution": {
     "iopub.execute_input": "2020-05-18T10:18:14.029858Z",
     "iopub.status.busy": "2020-05-18T10:18:14.029550Z",
     "iopub.status.idle": "2020-05-18T10:18:14.032891Z",
     "shell.execute_reply": "2020-05-18T10:18:14.032349Z",
     "shell.execute_reply.started": "2020-05-18T10:18:14.029821Z"
    }
   },
   "source": [
    "# More tests"
   ]
  },
  {
   "cell_type": "code",
   "execution_count": 16,
   "metadata": {
    "execution": {
     "iopub.execute_input": "2020-05-18T09:45:52.644560Z",
     "iopub.status.busy": "2020-05-18T09:45:52.644279Z",
     "iopub.status.idle": "2020-05-18T09:45:52.647449Z",
     "shell.execute_reply": "2020-05-18T09:45:52.646972Z",
     "shell.execute_reply.started": "2020-05-18T09:45:52.644525Z"
    }
   },
   "outputs": [],
   "source": [
    "#export\n",
    "from airflow.models import TaskInstance\n",
    "from datetime import datetime\n",
    "import json\n",
    "from pprint import pprint"
   ]
  },
  {
   "cell_type": "code",
   "execution_count": 17,
   "metadata": {
    "execution": {
     "iopub.execute_input": "2020-05-18T09:45:54.282316Z",
     "iopub.status.busy": "2020-05-18T09:45:54.282039Z",
     "iopub.status.idle": "2020-05-18T09:45:54.288594Z",
     "shell.execute_reply": "2020-05-18T09:45:54.287896Z",
     "shell.execute_reply.started": "2020-05-18T09:45:54.282282Z"
    }
   },
   "outputs": [],
   "source": [
    "\n",
    "def test1(**context):\n",
    "    pprint(context)\n",
    "    return 55\n",
    "\n",
    "def test2(**context):\n",
    "    pprint(context)\n",
    "    pprint(pull_results2(**context))\n",
    "    return 999\n",
    "\n",
    "\n",
    "def pull_results2(**context):\n",
    "    results = None\n",
    "    if context is not None:\n",
    "        task = context['task']\n",
    "        dag = context['dag']\n",
    "        task_ids = dag.task_ids\n",
    "        #task_ids = task.upstream_task_ids\n",
    "        for task_id in task_ids:\n",
    "            print(task_id)\n",
    "            xc = context['ti'].xcom_pull(task_ids=task_id)\n",
    "            print(xc)\n",
    "            \n",
    "        results = {task_id:context['ti'].xcom_pull(task_ids=task_id) for task_id in task_ids}\n",
    "    return results\n",
    "\n",
    "task1 = base_task_generator('test1', test1, dag)\n",
    "task2 = base_task_generator('test2', test2, dag)\n",
    "#task1 >> task2\n"
   ]
  },
  {
   "cell_type": "code",
   "execution_count": 18,
   "metadata": {
    "collapsed": true,
    "execution": {
     "iopub.execute_input": "2020-05-18T09:45:55.876617Z",
     "iopub.status.busy": "2020-05-18T09:45:55.876349Z",
     "iopub.status.idle": "2020-05-18T09:45:55.977700Z",
     "shell.execute_reply": "2020-05-18T09:45:55.977157Z",
     "shell.execute_reply.started": "2020-05-18T09:45:55.876585Z"
    },
    "jupyter": {
     "outputs_hidden": true
    }
   },
   "outputs": [
    {
     "name": "stdout",
     "output_type": "stream",
     "text": [
      "{'END_DATE': '2020-05-18',\n",
      " 'conf': <airflow.configuration.AirflowConfigParser object at 0x7f37e501dbe0>,\n",
      " 'dag': <DAG: crsch_hyp_search1>,\n",
      " 'dag_run': None,\n",
      " 'ds': '2020-05-18',\n",
      " 'ds_nodash': '20200518',\n",
      " 'end_date': '2020-05-18',\n",
      " 'execution_date': <Pendulum [2020-05-18T12:45:55.877627+00:00]>,\n",
      " 'inlets': [],\n",
      " 'latest_date': '2020-05-18',\n",
      " 'macros': <module 'airflow.macros' from '/home/sokolov/.local/lib/python3.6/site-packages/airflow/macros/__init__.py'>,\n",
      " 'next_ds': '2020-05-19',\n",
      " 'next_ds_nodash': '20200519',\n",
      " 'next_execution_date': <Pendulum [2020-05-19T00:00:00+00:00]>,\n",
      " 'outlets': [],\n",
      " 'params': {},\n",
      " 'prev_ds': '2020-05-18',\n",
      " 'prev_ds_nodash': '20200518',\n",
      " 'prev_execution_date': <Pendulum [2020-05-18T00:00:00+00:00]>,\n",
      " 'prev_execution_date_success': <Proxy at 0x7f38290a5a08 with factory <function TaskInstance.get_template_context.<locals>.<lambda> at 0x7f38290ef840>>,\n",
      " 'prev_start_date_success': <Proxy at 0x7f38290a5a48 with factory <function TaskInstance.get_template_context.<locals>.<lambda> at 0x7f38290fe730>>,\n",
      " 'run_id': None,\n",
      " 'tables': None,\n",
      " 'task': <Task(PythonOperator): test2>,\n",
      " 'task_instance': <TaskInstance: crsch_hyp_search1.test2 2020-05-18 12:45:55.877627+00:00 [None]>,\n",
      " 'task_instance_key_str': 'crsch_hyp_search1__test2__20200518',\n",
      " 'templates_dict': None,\n",
      " 'test_mode': False,\n",
      " 'ti': <TaskInstance: crsch_hyp_search1.test2 2020-05-18 12:45:55.877627+00:00 [None]>,\n",
      " 'tomorrow_ds': '2020-05-19',\n",
      " 'tomorrow_ds_nodash': '20200519',\n",
      " 'ts': '2020-05-18T12:45:55.877627+00:00',\n",
      " 'ts_nodash': '20200518T124555',\n",
      " 'ts_nodash_with_tz': '20200518T124555.877627+0000',\n",
      " 'var': {'json': None, 'value': None},\n",
      " 'yesterday_ds': '2020-05-17',\n",
      " 'yesterday_ds_nodash': '20200517'}\n",
      "test1\n",
      "None\n",
      "test2\n",
      "None\n",
      "{'test1': None, 'test2': None}\n"
     ]
    },
    {
     "data": {
      "text/plain": [
       "999"
      ]
     },
     "execution_count": 18,
     "metadata": {},
     "output_type": "execute_result"
    }
   ],
   "source": [
    "ti = TaskInstance(task=task2, execution_date=datetime.now())\n",
    "ctxt = ti.get_template_context()\n",
    "task2.execute(context=ctxt)"
   ]
  },
  {
   "cell_type": "code",
   "execution_count": 68,
   "metadata": {
    "execution": {
     "iopub.execute_input": "2020-05-18T07:38:15.849562Z",
     "iopub.status.busy": "2020-05-18T07:38:15.849290Z",
     "iopub.status.idle": "2020-05-18T07:38:15.853355Z",
     "shell.execute_reply": "2020-05-18T07:38:15.852921Z",
     "shell.execute_reply.started": "2020-05-18T07:38:15.849527Z"
    }
   },
   "outputs": [
    {
     "data": {
      "text/plain": [
       "['test1', 'test2', 'cycle_e_0', 'cycle_e_1', 'cycle_e_2', 'pooling_two_best']"
      ]
     },
     "execution_count": 68,
     "metadata": {},
     "output_type": "execute_result"
    }
   ],
   "source": [
    "d.task_ids"
   ]
  },
  {
   "cell_type": "code",
   "execution_count": 23,
   "metadata": {
    "execution": {
     "iopub.execute_input": "2020-05-18T06:35:28.410634Z",
     "iopub.status.busy": "2020-05-18T06:35:28.410367Z",
     "iopub.status.idle": "2020-05-18T06:35:28.415868Z",
     "shell.execute_reply": "2020-05-18T06:35:28.415361Z",
     "shell.execute_reply.started": "2020-05-18T06:35:28.410599Z"
    }
   },
   "outputs": [],
   "source": [
    "d = ctxt['dag']\n",
    "t = d.task_dict['test2']\n",
    "t.xcom_pull(ctxt)"
   ]
  },
  {
   "cell_type": "code",
   "execution_count": 37,
   "metadata": {
    "execution": {
     "iopub.execute_input": "2020-05-18T06:38:01.656235Z",
     "iopub.status.busy": "2020-05-18T06:38:01.655974Z",
     "iopub.status.idle": "2020-05-18T06:38:01.676319Z",
     "shell.execute_reply": "2020-05-18T06:38:01.675426Z",
     "shell.execute_reply.started": "2020-05-18T06:38:01.656201Z"
    }
   },
   "outputs": [],
   "source": [
    "task2.xcom_push(ctxt, 'test',13)"
   ]
  },
  {
   "cell_type": "code",
   "execution_count": 41,
   "metadata": {
    "execution": {
     "iopub.execute_input": "2020-05-18T06:38:37.344411Z",
     "iopub.status.busy": "2020-05-18T06:38:37.344125Z",
     "iopub.status.idle": "2020-05-18T06:38:37.350436Z",
     "shell.execute_reply": "2020-05-18T06:38:37.349826Z",
     "shell.execute_reply.started": "2020-05-18T06:38:37.344374Z"
    }
   },
   "outputs": [],
   "source": [
    "task1.xcom_pull(ctxt)"
   ]
  },
  {
   "cell_type": "code",
   "execution_count": 42,
   "metadata": {
    "collapsed": true,
    "execution": {
     "iopub.execute_input": "2020-05-18T06:38:46.897589Z",
     "iopub.status.busy": "2020-05-18T06:38:46.897315Z",
     "iopub.status.idle": "2020-05-18T06:38:46.901809Z",
     "shell.execute_reply": "2020-05-18T06:38:46.901362Z",
     "shell.execute_reply.started": "2020-05-18T06:38:46.897552Z"
    },
    "jupyter": {
     "outputs_hidden": true
    }
   },
   "outputs": [
    {
     "data": {
      "text/plain": [
       "{'conf': <airflow.configuration.AirflowConfigParser at 0x7f7d3675cd68>,\n",
       " 'dag': <DAG: crsch_hyp_search1>,\n",
       " 'ds': '2020-05-18',\n",
       " 'next_ds': '2020-05-19',\n",
       " 'next_ds_nodash': '20200519',\n",
       " 'prev_ds': '2020-05-18',\n",
       " 'prev_ds_nodash': '20200518',\n",
       " 'ds_nodash': '20200518',\n",
       " 'ts': '2020-05-18T09:27:49.564986+00:00',\n",
       " 'ts_nodash': '20200518T092749',\n",
       " 'ts_nodash_with_tz': '20200518T092749.564986+0000',\n",
       " 'yesterday_ds': '2020-05-17',\n",
       " 'yesterday_ds_nodash': '20200517',\n",
       " 'tomorrow_ds': '2020-05-19',\n",
       " 'tomorrow_ds_nodash': '20200519',\n",
       " 'END_DATE': '2020-05-18',\n",
       " 'end_date': '2020-05-18',\n",
       " 'dag_run': None,\n",
       " 'run_id': None,\n",
       " 'execution_date': <Pendulum [2020-05-18T09:27:49.564986+00:00]>,\n",
       " 'prev_execution_date': <Pendulum [2020-05-18T00:00:00+00:00]>,\n",
       " 'prev_execution_date_success': <Proxy at 0x7f7d0f427b08 wrapping datetime.datetime(2020, 5, 18, 0, 0, tzinfo=<TimezoneInfo [UTC, GMT, +00:00:00, STD]>) at 0x7f7d0f351bd0 with factory <function TaskInstance.get_template_context.<locals>.<lambda> at 0x7f7d0f817400>>,\n",
       " 'prev_start_date_success': <Proxy at 0x7f7d0f427688 wrapping None at 0x9d4380 with factory <function TaskInstance.get_template_context.<locals>.<lambda> at 0x7f7d0e9a4bf8>>,\n",
       " 'next_execution_date': <Pendulum [2020-05-19T00:00:00+00:00]>,\n",
       " 'latest_date': '2020-05-18',\n",
       " 'macros': <module 'airflow.macros' from '/home/sokolov/.local/lib/python3.6/site-packages/airflow/macros/__init__.py'>,\n",
       " 'params': {},\n",
       " 'tables': None,\n",
       " 'task': <Task(PythonOperator): test2>,\n",
       " 'task_instance': <TaskInstance: crsch_hyp_search1.test2 2020-05-18 09:27:49.564986+00:00 [None]>,\n",
       " 'ti': <TaskInstance: crsch_hyp_search1.test2 2020-05-18 09:27:49.564986+00:00 [None]>,\n",
       " 'task_instance_key_str': 'crsch_hyp_search1__test2__20200518',\n",
       " 'test_mode': False,\n",
       " 'var': {'value': None, 'json': None},\n",
       " 'inlets': [],\n",
       " 'outlets': [],\n",
       " 'templates_dict': None}"
      ]
     },
     "execution_count": 42,
     "metadata": {},
     "output_type": "execute_result"
    }
   ],
   "source": [
    "ctxt"
   ]
  },
  {
   "cell_type": "code",
   "execution_count": null,
   "metadata": {},
   "outputs": [],
   "source": []
  },
  {
   "cell_type": "code",
   "execution_count": 19,
   "metadata": {
    "execution": {
     "iopub.execute_input": "2020-05-18T06:33:48.459999Z",
     "iopub.status.busy": "2020-05-18T06:33:48.459731Z",
     "iopub.status.idle": "2020-05-18T06:33:48.465669Z",
     "shell.execute_reply": "2020-05-18T06:33:48.465155Z",
     "shell.execute_reply.started": "2020-05-18T06:33:48.459964Z"
    }
   },
   "outputs": [],
   "source": []
  },
  {
   "cell_type": "code",
   "execution_count": 17,
   "metadata": {
    "execution": {
     "iopub.execute_input": "2020-05-18T06:27:52.199757Z",
     "iopub.status.busy": "2020-05-18T06:27:52.199514Z",
     "iopub.status.idle": "2020-05-18T06:27:52.206575Z",
     "shell.execute_reply": "2020-05-18T06:27:52.206000Z",
     "shell.execute_reply.started": "2020-05-18T06:27:52.199724Z"
    }
   },
   "outputs": [
    {
     "data": {
      "text/plain": [
       "('sokolov_pool_gpu0', None)"
      ]
     },
     "execution_count": 17,
     "metadata": {},
     "output_type": "execute_result"
    }
   ],
   "source": [
    "ti.pool, ti.current_state()"
   ]
  },
  {
   "cell_type": "code",
   "execution_count": 14,
   "metadata": {
    "collapsed": true,
    "execution": {
     "iopub.execute_input": "2020-05-18T06:27:30.597308Z",
     "iopub.status.busy": "2020-05-18T06:27:30.597011Z",
     "iopub.status.idle": "2020-05-18T06:27:30.672239Z",
     "shell.execute_reply": "2020-05-18T06:27:30.671816Z",
     "shell.execute_reply.started": "2020-05-18T06:27:30.597270Z"
    },
    "jupyter": {
     "outputs_hidden": true
    }
   },
   "outputs": [
    {
     "name": "stdout",
     "output_type": "stream",
     "text": [
      "{'END_DATE': '2020-05-18',\n",
      " 'conf': <airflow.configuration.AirflowConfigParser object at 0x7f7d3675cd68>,\n",
      " 'dag': <DAG: crsch_hyp_search1>,\n",
      " 'dag_run': None,\n",
      " 'ds': '2020-05-18',\n",
      " 'ds_nodash': '20200518',\n",
      " 'end_date': '2020-05-18',\n",
      " 'execution_date': <Pendulum [2020-05-18T09:26:52.863269+00:00]>,\n",
      " 'inlets': [],\n",
      " 'latest_date': '2020-05-18',\n",
      " 'macros': <module 'airflow.macros' from '/home/sokolov/.local/lib/python3.6/site-packages/airflow/macros/__init__.py'>,\n",
      " 'next_ds': '2020-05-19',\n",
      " 'next_ds_nodash': '20200519',\n",
      " 'next_execution_date': <Pendulum [2020-05-19T00:00:00+00:00]>,\n",
      " 'outlets': [],\n",
      " 'params': {},\n",
      " 'prev_ds': '2020-05-18',\n",
      " 'prev_ds_nodash': '20200518',\n",
      " 'prev_execution_date': <Pendulum [2020-05-18T00:00:00+00:00]>,\n",
      " 'prev_execution_date_success': <Proxy at 0x7f7d106ed688 wrapping datetime.datetime(2020, 5, 18, 0, 0, tzinfo=<TimezoneInfo [UTC, GMT, +00:00:00, STD]>) at 0x7f7d107b4ed0 with factory <function TaskInstance.get_template_context.<locals>.<lambda> at 0x7f7d2c38b0d0>>,\n",
      " 'prev_start_date_success': <Proxy at 0x7f7d106ed6c8 wrapping None at 0x9d4380 with factory <function TaskInstance.get_template_context.<locals>.<lambda> at 0x7f7d106fa0d0>>,\n",
      " 'run_id': None,\n",
      " 'tables': None,\n",
      " 'task': <Task(PythonOperator): test1>,\n",
      " 'task_instance': <TaskInstance: crsch_hyp_search1.test1 2020-05-18 09:26:52.863269+00:00 [None]>,\n",
      " 'task_instance_key_str': 'crsch_hyp_search1__test1__20200518',\n",
      " 'templates_dict': None,\n",
      " 'test_mode': False,\n",
      " 'ti': <TaskInstance: crsch_hyp_search1.test1 2020-05-18 09:26:52.863269+00:00 [None]>,\n",
      " 'tomorrow_ds': '2020-05-19',\n",
      " 'tomorrow_ds_nodash': '20200519',\n",
      " 'ts': '2020-05-18T09:26:52.863269+00:00',\n",
      " 'ts_nodash': '20200518T092652',\n",
      " 'ts_nodash_with_tz': '20200518T092652.863269+0000',\n",
      " 'var': {'json': None, 'value': None},\n",
      " 'yesterday_ds': '2020-05-17',\n",
      " 'yesterday_ds_nodash': '20200517'}\n"
     ]
    },
    {
     "data": {
      "text/plain": [
       "('sokolov_pool_gpu0', None)"
      ]
     },
     "execution_count": 14,
     "metadata": {},
     "output_type": "execute_result"
    }
   ],
   "source": [
    "ti = TaskInstance(task=task1, execution_date=datetime.now())\n",
    "task1.execute(context=ti.get_template_context())\n",
    "ti.pool, ti.current_state()"
   ]
  },
  {
   "cell_type": "code",
   "execution_count": 13,
   "metadata": {
    "execution": {
     "iopub.execute_input": "2020-05-18T06:27:15.733362Z",
     "iopub.status.busy": "2020-05-18T06:27:15.733017Z",
     "iopub.status.idle": "2020-05-18T06:27:15.743785Z",
     "shell.execute_reply": "2020-05-18T06:27:15.743275Z",
     "shell.execute_reply.started": "2020-05-18T06:27:15.733299Z"
    }
   },
   "outputs": [
    {
     "data": {
      "text/plain": [
       "('sokolov_pool_gpu0', None)"
      ]
     },
     "execution_count": 13,
     "metadata": {},
     "output_type": "execute_result"
    }
   ],
   "source": [
    "ti.pool, ti.current_state()"
   ]
  },
  {
   "cell_type": "code",
   "execution_count": null,
   "metadata": {},
   "outputs": [],
   "source": []
  },
  {
   "cell_type": "code",
   "execution_count": null,
   "metadata": {},
   "outputs": [],
   "source": []
  },
  {
   "cell_type": "code",
   "execution_count": null,
   "metadata": {},
   "outputs": [],
   "source": []
  },
  {
   "cell_type": "code",
   "execution_count": null,
   "metadata": {
    "execution": {
     "iopub.status.busy": "2020-05-18T06:25:49.165206Z",
     "iopub.status.idle": "2020-05-18T06:25:49.165410Z"
    }
   },
   "outputs": [],
   "source": [
    "def task_state(args):\n",
    "    dag = get_dag(args)\n",
    "    task = dag.get_task(task_id=args.task_id)\n",
    "    ti = TaskInstance(task, args.execution_date)\n",
    "    print(ti.current_state())"
   ]
  },
  {
   "cell_type": "markdown",
   "metadata": {},
   "source": [
    "# Export"
   ]
  },
  {
   "cell_type": "code",
   "execution_count": 1,
   "metadata": {
    "execution": {
     "iopub.execute_input": "2020-05-19T07:16:17.832676Z",
     "iopub.status.busy": "2020-05-19T07:16:17.832384Z",
     "iopub.status.idle": "2020-05-19T07:16:18.015967Z",
     "shell.execute_reply": "2020-05-19T07:16:18.015282Z",
     "shell.execute_reply.started": "2020-05-19T07:16:17.832640Z"
    }
   },
   "outputs": [
    {
     "name": "stdout",
     "output_type": "stream",
     "text": [
      "Converted dag.ipynb to exp/nb_dag.py\n"
     ]
    }
   ],
   "source": [
    "!python3 extra/n2s.py dag.ipynb"
   ]
  },
  {
   "cell_type": "code",
   "execution_count": 2,
   "metadata": {
    "execution": {
     "iopub.execute_input": "2020-05-19T07:16:18.738953Z",
     "iopub.status.busy": "2020-05-19T07:16:18.738670Z",
     "iopub.status.idle": "2020-05-19T07:16:20.626500Z",
     "shell.execute_reply": "2020-05-19T07:16:20.625730Z",
     "shell.execute_reply.started": "2020-05-19T07:16:18.738916Z"
    }
   },
   "outputs": [
    {
     "name": "stdout",
     "output_type": "stream",
     "text": [
      "[\u001b[34m2020-05-19 10:16:19,621\u001b[0m] {\u001b[34m__init__.py:\u001b[0m51} INFO\u001b[0m - Using executor \u001b[1mLocalExecutor\u001b[0m\u001b[0m\n",
      "[\u001b[34m2020-05-19 10:16:19,621\u001b[0m] {\u001b[34mdagbag.py:\u001b[0m396} INFO\u001b[0m - Filling up the DagBag from \u001b[1m/home/sokolov/airflow/dags\u001b[0m\u001b[0m\n",
      "[\u001b[34m2020-05-19 10:16:19,622\u001b[0m] {\u001b[34mdagbag.py:\u001b[0m396} INFO\u001b[0m - Filling up the DagBag from \u001b[1m/home/sokolov/work/cycler/dHPO/exp\u001b[0m\u001b[0m\n",
      "\n",
      "\n",
      "-------------------------------------------------------------------\n",
      "DAGS\n",
      "-------------------------------------------------------------------\n",
      "crsch_hyp_search1\n",
      "\n",
      "\u001b[0m"
     ]
    }
   ],
   "source": [
    "!airflow list_dags"
   ]
  },
  {
   "cell_type": "code",
   "execution_count": null,
   "metadata": {},
   "outputs": [],
   "source": []
  }
 ],
 "metadata": {
  "kernelspec": {
   "display_name": "Python 3",
   "language": "python",
   "name": "python3"
  },
  "language_info": {
   "codemirror_mode": {
    "name": "ipython",
    "version": 3
   },
   "file_extension": ".py",
   "mimetype": "text/x-python",
   "name": "python",
   "nbconvert_exporter": "python",
   "pygments_lexer": "ipython3",
   "version": "3.6.9"
  }
 },
 "nbformat": 4,
 "nbformat_minor": 4
}
