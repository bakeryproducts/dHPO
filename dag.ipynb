{
 "cells": [
  {
   "cell_type": "markdown",
   "metadata": {},
   "source": [
    "# Imports"
   ]
  },
  {
   "cell_type": "code",
   "execution_count": 1,
   "metadata": {
    "execution": {
     "iopub.execute_input": "2020-05-19T19:44:26.955085Z",
     "iopub.status.busy": "2020-05-19T19:44:26.954901Z",
     "iopub.status.idle": "2020-05-19T19:44:27.814278Z",
     "shell.execute_reply": "2020-05-19T19:44:27.813622Z",
     "shell.execute_reply.started": "2020-05-19T19:44:26.955055Z"
    }
   },
   "outputs": [],
   "source": [
    "#export\n",
    "import os\n",
    "import sys\n",
    "from pathlib import Path\n",
    "p = '/home/sokolov/work/cycler/dHPO/exp/'\n",
    "sys.path.append(p)\n",
    "#sys.path.append(os.path.join(os.getcwd(),'exp'))\n",
    "\n",
    "import time\n",
    "import json\n",
    "import numpy as np\n",
    "from itertools import cycle\n",
    "from functools import partial\n",
    "from datetime import timedelta, datetime\n",
    "\n",
    "from airflow import DAG\n",
    "from airflow.operators.bash_operator import BashOperator\n",
    "from airflow.operators.python_operator import PythonOperator\n",
    "from airflow.utils.dates import days_ago\n",
    "\n",
    "\n",
    "from nb_runner import cycle_exp, cycle_mutate, \\\n",
    "                      cycle_crossover, cycle_combine, cycle_all,\\\n",
    "                      bo_exp, bo_all, bo_crossover\n",
    "from config import cfg"
   ]
  },
  {
   "cell_type": "markdown",
   "metadata": {},
   "source": [
    "# Code"
   ]
  },
  {
   "cell_type": "markdown",
   "metadata": {
    "execution": {
     "iopub.execute_input": "2020-05-19T09:48:53.560250Z",
     "iopub.status.busy": "2020-05-19T09:48:53.559971Z",
     "iopub.status.idle": "2020-05-19T09:48:53.562816Z",
     "shell.execute_reply": "2020-05-19T09:48:53.562386Z",
     "shell.execute_reply.started": "2020-05-19T09:48:53.560215Z"
    }
   },
   "source": [
    "### dag base"
   ]
  },
  {
   "cell_type": "code",
   "execution_count": 10,
   "metadata": {
    "execution": {
     "iopub.execute_input": "2020-05-19T19:47:23.589563Z",
     "iopub.status.busy": "2020-05-19T19:47:23.589317Z",
     "iopub.status.idle": "2020-05-19T19:47:23.593104Z",
     "shell.execute_reply": "2020-05-19T19:47:23.592579Z",
     "shell.execute_reply.started": "2020-05-19T19:47:23.589530Z"
    }
   },
   "outputs": [
    {
     "data": {
      "text/plain": [
       "datetime.date(2020, 5, 19)"
      ]
     },
     "execution_count": 10,
     "metadata": {},
     "output_type": "execute_result"
    }
   ],
   "source": [
    "\n",
    "d"
   ]
  },
  {
   "cell_type": "code",
   "execution_count": 9,
   "metadata": {
    "execution": {
     "iopub.execute_input": "2020-05-18T10:13:29.866445Z",
     "iopub.status.busy": "2020-05-18T10:13:29.866279Z",
     "iopub.status.idle": "2020-05-18T10:13:29.875411Z",
     "shell.execute_reply": "2020-05-18T10:13:29.874978Z",
     "shell.execute_reply.started": "2020-05-18T10:13:29.866419Z"
    }
   },
   "outputs": [],
   "source": [
    "#export\n",
    "d = datetime.now().date()\n",
    "default_args = {\n",
    "    'owner': cfg.OWNER,\n",
    "    'depends_on_past': False,\n",
    "    'start_date': datetime(d.year, d.month, d.day-1),#days_ago(1),#datetime(2020, 5, 15),\n",
    "    'email': False,\n",
    "    'email_on_failure': False,\n",
    "    'email_on_retry': False,\n",
    "    'retries': 0,# overrided in pythonOperator down below\n",
    "    'retry_delay': timedelta(minutes=5),# overrided in pythonOperator down below\n",
    "}\n",
    "\n",
    "default_pool = cfg.DAG.DEF_POOL\n",
    "schedule_interval = cfg.DAG.SCHED_INTERVAL if cfg.DAG.SCHED_INTERVAL else None #@daily\n",
    "description = cfg.DAG.DESC + '\\n' + json.dumps(cfg, indent=4)\n",
    "\n",
    "dag = DAG(  cfg.DAG.NAME,\n",
    "                default_args=default_args,\n",
    "                #max_active_runs=1,\n",
    "                catchup=False,# for disabling backfill!\n",
    "                description=description,\n",
    "                schedule_interval=schedule_interval)\n",
    "\n",
    "def base_task_generator(name, func, dag, pool=default_pool, op_kwargs=None):\n",
    "    task = PythonOperator(\n",
    "                    task_id=name,\n",
    "                    python_callable=func,\n",
    "                    op_kwargs=op_kwargs,\n",
    "                    provide_context=True,\n",
    "                    pool=pool,\n",
    "                    retries=cfg.DAG.RETRIES,\n",
    "                    retry_delay=timedelta(minutes=cfg.DAG.RETRY_DELAY),\n",
    "                    dag=dag,)\n",
    "    return task\n",
    "        \n",
    "create_task = partial(base_task_generator, dag=dag)\n",
    "\n",
    "def pull_results(**context):\n",
    "    results = None\n",
    "    if context is not None:\n",
    "        task_ids = context['dag'].task_ids\n",
    "        results = {task_id:context['ti'].xcom_pull(task_ids=task_id) for task_id in task_ids}\n",
    "    return results\n",
    "\n",
    "\n",
    "def upstream_results(**context):\n",
    "    task = context['task']\n",
    "    upstream_task_ids = task.upstream_task_ids\n",
    "    rs = [pull_results(**context)[task_id] for task_id in upstream_task_ids]\n",
    "    if not rs:\n",
    "        rs = [{'configs':None, 'docker_results':None}]\n",
    "    for result in rs:\n",
    "        yield result        \n",
    "\n",
    "def parse_pool(pool_str):\n",
    "    pool_str = pool_str.split('_')[-1]\n",
    "    return ','.join([i for i in pool_str if i.isdigit()])\n",
    "\n",
    "def chunker_list(seq, size):\n",
    "    return (seq[i::size] for i in range(size))"
   ]
  },
  {
   "cell_type": "markdown",
   "metadata": {
    "collapsed": "true",
    "execution": {
     "iopub.execute_input": "2020-05-19T09:49:08.947629Z",
     "iopub.status.busy": "2020-05-19T09:49:08.947364Z",
     "iopub.status.idle": "2020-05-19T09:49:08.950042Z",
     "shell.execute_reply": "2020-05-19T09:49:08.949632Z",
     "shell.execute_reply.started": "2020-05-19T09:49:08.947594Z"
    }
   },
   "source": [
    "### dag extra"
   ]
  },
  {
   "cell_type": "code",
   "execution_count": 10,
   "metadata": {
    "execution": {
     "iopub.execute_input": "2020-05-18T10:13:29.876267Z",
     "iopub.status.busy": "2020-05-18T10:13:29.876091Z",
     "iopub.status.idle": "2020-05-18T10:13:29.885177Z",
     "shell.execute_reply": "2020-05-18T10:13:29.884810Z",
     "shell.execute_reply.started": "2020-05-18T10:13:29.876220Z"
    }
   },
   "outputs": [],
   "source": [
    "#export\n",
    "def dw_cycle_param(func, **context):\n",
    "    prev_results = next(upstream_results(**context))\n",
    "    aux_cfg_files = prev_results['configs']\n",
    "    gpus = parse_pool(context['ti'].pool)\n",
    "    return func(aux_cfg_files=aux_cfg_files, gpus=gpus)\n",
    "\n",
    "def dw_bo_param(func, **context):\n",
    "    results = pull_results(**context)\n",
    "    all_hp_points = []\n",
    "    for task_id, r in results.items():\n",
    "        if r:\n",
    "            all_hp_points.append({'points':r['state'], 'target':r['docker_results']['metric']})  \n",
    "    \n",
    "    prev_results = next(upstream_results(**context))\n",
    "    aux_cfg_files = prev_results['configs']\n",
    "    gpus = parse_pool(context['ti'].pool)\n",
    "    idx = cfg.GPUS.IDS.index(int(gpus))# wont work with single exp on multiple gpus!\n",
    "    return func(aux_cfg_files=aux_cfg_files, gpus=gpus, hp_points=all_hp_points, idx=idx)\n",
    "\n",
    "def dw_pooling(num=1, **context):\n",
    "    key = 'metric'\n",
    "    res = {}\n",
    "    for r in upstream_results(**context):\n",
    "        res[r['docker_results'][key]] = r['configs']\n",
    "    res = sorted(res.items(), key=lambda x: x[0], reverse=True)\n",
    "    res = res[:num]\n",
    "    best_docker_results = [r[0] for r in res]\n",
    "    best_configs = [r[1] for r in res]\n",
    "    print(f'\\n\\tPooling: best result : {best_docker_results}, {best_configs}\\n')\n",
    "    return [{'configs':best_config} for best_config in best_configs]\n",
    "\n",
    "def dw_dist(idx=None, **context):\n",
    "    res = list(upstream_results(**context))[0][idx]\n",
    "    return res\n",
    "\n",
    "def distribute(num):\n",
    "    tasks = []\n",
    "    for i in range(num):\n",
    "        task_name = f'distribute_{i}'\n",
    "        tasks.append(create_task(task_name, dw_dist, op_kwargs={'idx':i}))\n",
    "    return tasks\n",
    "        \n",
    "def block_optimize(n, name, func, dw_param):\n",
    "    tasks = []\n",
    "    gpus_avail = cycle(cfg.GPUS.IDS)\n",
    "        \n",
    "    for i in range(n):\n",
    "        gpu = next(gpus_avail)\n",
    "        task_name = f'{name}_{i}'\n",
    "        pool = cfg.DAG.POOL_PREFIX + str(gpu)\n",
    "        \n",
    "        block_func = partial(func, seq_id=i, name=task_name)\n",
    "        task = create_task(task_name, dw_param, pool=pool, op_kwargs={'func':block_func}) \n",
    "        tasks.append(task) \n",
    "    return tasks"
   ]
  },
  {
   "cell_type": "markdown",
   "metadata": {
    "collapsed": "true",
    "execution": {
     "iopub.execute_input": "2020-05-18T09:37:06.369254Z",
     "iopub.status.busy": "2020-05-18T09:37:06.368952Z",
     "iopub.status.idle": "2020-05-18T09:37:06.371993Z",
     "shell.execute_reply": "2020-05-18T09:37:06.371581Z",
     "shell.execute_reply.started": "2020-05-18T09:37:06.369212Z"
    }
   },
   "source": [
    "### random search"
   ]
  },
  {
   "cell_type": "code",
   "execution_count": 49,
   "metadata": {
    "execution": {
     "iopub.execute_input": "2020-05-18T07:18:15.274092Z",
     "iopub.status.busy": "2020-05-18T07:18:15.273820Z",
     "iopub.status.idle": "2020-05-18T07:18:15.279346Z",
     "shell.execute_reply": "2020-05-18T07:18:15.278934Z",
     "shell.execute_reply.started": "2020-05-18T07:18:15.274056Z"
    }
   },
   "outputs": [
    {
     "data": {
      "text/plain": [
       "<Task(PythonOperator): pooling_two_best>"
      ]
     },
     "execution_count": 49,
     "metadata": {},
     "output_type": "execute_result"
    }
   ],
   "source": [
    "tasks = {'mut':[], 'exp':[], 'cross':[]}\n",
    "\n",
    "#opt_block(50, 'cycle_all', cycle_all, dw_cycle_param)\n",
    "tasks['exp'] = block_optimize(3, 'cycle_e', cycle_exp, dw_cycle_param)\n",
    "\n",
    "# pooling_task1 = create_task(f'pooling1', dw_pooling_one) \n",
    "#partial(dw_pooling, num=1)\n",
    "dist_num = 1\n",
    "pooling_task1 = create_task(f'pooling_two_best', partial(dw_pooling, num=dist_num))\n",
    "tasks['exp'] >> pooling_task1\n",
    "\n",
    "dist_tasks = distribute(dist_num)\n",
    "pooling_task1 >> dist_tasks\n",
    "\n",
    "mut_tasks = block_optimize(3, 'cycle_m', cycle_mutate, dw_cycle_param)\n",
    "for dt, mt in zip(dist_tasks, chunker_list(mut_tasks, dist_num)):\n",
    "    dt >> mt\n",
    "\n",
    "# pooling_task2 = create_task(f'pooling2', dw_pooling_one) \n",
    "# for task in tasks['mut']:\n",
    "#     pooling_task1 >> task\n",
    "#     task >> pooling_task2\n",
    "    \n",
    "# tasks['cross'] = block_optimize(3, 'cycle_cr', cycle_crossover)\n",
    "# pooling_task3 = create_task(f'pooling3', dw_cycle_pool) \n",
    "# for task in tasks['cross']:\n",
    "#     pooling_task2 >> task\n",
    "#     task >> pooling_task3\n",
    "    \n",
    "# tasks['comb'] = block_optimize(3, 'cycle_co', cycle_combine)\n",
    "# for task in tasks['comb']:\n",
    "#     pooling_task3 >> task"
   ]
  },
  {
   "cell_type": "markdown",
   "metadata": {
    "collapsed": "true",
    "execution": {
     "iopub.execute_input": "2020-05-18T09:37:20.560749Z",
     "iopub.status.busy": "2020-05-18T09:37:20.560436Z",
     "iopub.status.idle": "2020-05-18T09:37:20.563678Z",
     "shell.execute_reply": "2020-05-18T09:37:20.563095Z",
     "shell.execute_reply.started": "2020-05-18T09:37:20.560712Z"
    }
   },
   "source": [
    "### bo"
   ]
  },
  {
   "cell_type": "code",
   "execution_count": null,
   "metadata": {},
   "outputs": [],
   "source": [
    "#export\n",
    "#tasks = {'mut':[], 'exp':[], 'cross':[]}\n",
    "\n",
    "tasks_bo_all = block_optimize(150, 'bo_all', bo_all, dw_bo_param)\n",
    "#tasks['exp'] = cycle_block(3, 'cycle_e', cycle_exp)\n",
    "\n",
    "pooling_task1 = create_task(f'pooling1', dw_pooling) \n",
    "tasks_bo_all >> pooling_task1\n",
    "\n",
    "#partial(dw_pooling, num=1)\n",
    "# dist_num = 2\n",
    "# pooling_task1 = create_task(f'pooling_two_best', partial(dw_pooling, num=dist_num))\n",
    "# tasks['exp'] >> pooling_task1\n",
    "\n",
    "# dist_tasks = distribute(dist_num)\n",
    "# connect(pooling_task1, dist_tasks)\n",
    "\n",
    "# mut_tasks = block_optimize(7, 'cycle_m', cycle_mutate)\n",
    "# for dt, mt in zip(dist_tasks, chunker_list(mut_tasks, dist_num)):\n",
    "#     connect(dt, mt)"
   ]
  },
  {
   "cell_type": "code",
   "execution_count": null,
   "metadata": {},
   "outputs": [],
   "source": []
  },
  {
   "cell_type": "markdown",
   "metadata": {
    "collapsed": "true",
    "execution": {
     "iopub.execute_input": "2020-05-18T10:18:14.029858Z",
     "iopub.status.busy": "2020-05-18T10:18:14.029550Z",
     "iopub.status.idle": "2020-05-18T10:18:14.032891Z",
     "shell.execute_reply": "2020-05-18T10:18:14.032349Z",
     "shell.execute_reply.started": "2020-05-18T10:18:14.029821Z"
    }
   },
   "source": [
    "# More tests"
   ]
  },
  {
   "cell_type": "code",
   "execution_count": 16,
   "metadata": {
    "execution": {
     "iopub.execute_input": "2020-05-18T09:45:52.644560Z",
     "iopub.status.busy": "2020-05-18T09:45:52.644279Z",
     "iopub.status.idle": "2020-05-18T09:45:52.647449Z",
     "shell.execute_reply": "2020-05-18T09:45:52.646972Z",
     "shell.execute_reply.started": "2020-05-18T09:45:52.644525Z"
    }
   },
   "outputs": [],
   "source": [
    "#export\n",
    "from airflow.models import TaskInstance\n",
    "from datetime import datetime\n",
    "import json\n",
    "from pprint import pprint"
   ]
  },
  {
   "cell_type": "code",
   "execution_count": 17,
   "metadata": {
    "execution": {
     "iopub.execute_input": "2020-05-18T09:45:54.282316Z",
     "iopub.status.busy": "2020-05-18T09:45:54.282039Z",
     "iopub.status.idle": "2020-05-18T09:45:54.288594Z",
     "shell.execute_reply": "2020-05-18T09:45:54.287896Z",
     "shell.execute_reply.started": "2020-05-18T09:45:54.282282Z"
    }
   },
   "outputs": [],
   "source": [
    "\n",
    "def test1(**context):\n",
    "    pprint(context)\n",
    "    return 55\n",
    "\n",
    "def test2(**context):\n",
    "    pprint(context)\n",
    "    pprint(pull_results2(**context))\n",
    "    return 999\n",
    "\n",
    "\n",
    "def pull_results2(**context):\n",
    "    results = None\n",
    "    if context is not None:\n",
    "        task = context['task']\n",
    "        dag = context['dag']\n",
    "        task_ids = dag.task_ids\n",
    "        #task_ids = task.upstream_task_ids\n",
    "        for task_id in task_ids:\n",
    "            print(task_id)\n",
    "            xc = context['ti'].xcom_pull(task_ids=task_id)\n",
    "            print(xc)\n",
    "            \n",
    "        results = {task_id:context['ti'].xcom_pull(task_ids=task_id) for task_id in task_ids}\n",
    "    return results\n",
    "\n",
    "task1 = base_task_generator('test1', test1, dag)\n",
    "task2 = base_task_generator('test2', test2, dag)\n",
    "#task1 >> task2\n"
   ]
  },
  {
   "cell_type": "code",
   "execution_count": 18,
   "metadata": {
    "collapsed": true,
    "execution": {
     "iopub.execute_input": "2020-05-18T09:45:55.876617Z",
     "iopub.status.busy": "2020-05-18T09:45:55.876349Z",
     "iopub.status.idle": "2020-05-18T09:45:55.977700Z",
     "shell.execute_reply": "2020-05-18T09:45:55.977157Z",
     "shell.execute_reply.started": "2020-05-18T09:45:55.876585Z"
    },
    "jupyter": {
     "outputs_hidden": true
    }
   },
   "outputs": [
    {
     "name": "stdout",
     "output_type": "stream",
     "text": [
      "{'END_DATE': '2020-05-18',\n",
      " 'conf': <airflow.configuration.AirflowConfigParser object at 0x7f37e501dbe0>,\n",
      " 'dag': <DAG: crsch_hyp_search1>,\n",
      " 'dag_run': None,\n",
      " 'ds': '2020-05-18',\n",
      " 'ds_nodash': '20200518',\n",
      " 'end_date': '2020-05-18',\n",
      " 'execution_date': <Pendulum [2020-05-18T12:45:55.877627+00:00]>,\n",
      " 'inlets': [],\n",
      " 'latest_date': '2020-05-18',\n",
      " 'macros': <module 'airflow.macros' from '/home/sokolov/.local/lib/python3.6/site-packages/airflow/macros/__init__.py'>,\n",
      " 'next_ds': '2020-05-19',\n",
      " 'next_ds_nodash': '20200519',\n",
      " 'next_execution_date': <Pendulum [2020-05-19T00:00:00+00:00]>,\n",
      " 'outlets': [],\n",
      " 'params': {},\n",
      " 'prev_ds': '2020-05-18',\n",
      " 'prev_ds_nodash': '20200518',\n",
      " 'prev_execution_date': <Pendulum [2020-05-18T00:00:00+00:00]>,\n",
      " 'prev_execution_date_success': <Proxy at 0x7f38290a5a08 with factory <function TaskInstance.get_template_context.<locals>.<lambda> at 0x7f38290ef840>>,\n",
      " 'prev_start_date_success': <Proxy at 0x7f38290a5a48 with factory <function TaskInstance.get_template_context.<locals>.<lambda> at 0x7f38290fe730>>,\n",
      " 'run_id': None,\n",
      " 'tables': None,\n",
      " 'task': <Task(PythonOperator): test2>,\n",
      " 'task_instance': <TaskInstance: crsch_hyp_search1.test2 2020-05-18 12:45:55.877627+00:00 [None]>,\n",
      " 'task_instance_key_str': 'crsch_hyp_search1__test2__20200518',\n",
      " 'templates_dict': None,\n",
      " 'test_mode': False,\n",
      " 'ti': <TaskInstance: crsch_hyp_search1.test2 2020-05-18 12:45:55.877627+00:00 [None]>,\n",
      " 'tomorrow_ds': '2020-05-19',\n",
      " 'tomorrow_ds_nodash': '20200519',\n",
      " 'ts': '2020-05-18T12:45:55.877627+00:00',\n",
      " 'ts_nodash': '20200518T124555',\n",
      " 'ts_nodash_with_tz': '20200518T124555.877627+0000',\n",
      " 'var': {'json': None, 'value': None},\n",
      " 'yesterday_ds': '2020-05-17',\n",
      " 'yesterday_ds_nodash': '20200517'}\n",
      "test1\n",
      "None\n",
      "test2\n",
      "None\n",
      "{'test1': None, 'test2': None}\n"
     ]
    },
    {
     "data": {
      "text/plain": [
       "999"
      ]
     },
     "execution_count": 18,
     "metadata": {},
     "output_type": "execute_result"
    }
   ],
   "source": [
    "ti = TaskInstance(task=task2, execution_date=datetime.now())\n",
    "ctxt = ti.get_template_context()\n",
    "task2.execute(context=ctxt)"
   ]
  },
  {
   "cell_type": "code",
   "execution_count": 68,
   "metadata": {
    "execution": {
     "iopub.execute_input": "2020-05-18T07:38:15.849562Z",
     "iopub.status.busy": "2020-05-18T07:38:15.849290Z",
     "iopub.status.idle": "2020-05-18T07:38:15.853355Z",
     "shell.execute_reply": "2020-05-18T07:38:15.852921Z",
     "shell.execute_reply.started": "2020-05-18T07:38:15.849527Z"
    }
   },
   "outputs": [
    {
     "data": {
      "text/plain": [
       "['test1', 'test2', 'cycle_e_0', 'cycle_e_1', 'cycle_e_2', 'pooling_two_best']"
      ]
     },
     "execution_count": 68,
     "metadata": {},
     "output_type": "execute_result"
    }
   ],
   "source": [
    "d.task_ids"
   ]
  },
  {
   "cell_type": "code",
   "execution_count": 23,
   "metadata": {
    "execution": {
     "iopub.execute_input": "2020-05-18T06:35:28.410634Z",
     "iopub.status.busy": "2020-05-18T06:35:28.410367Z",
     "iopub.status.idle": "2020-05-18T06:35:28.415868Z",
     "shell.execute_reply": "2020-05-18T06:35:28.415361Z",
     "shell.execute_reply.started": "2020-05-18T06:35:28.410599Z"
    }
   },
   "outputs": [],
   "source": [
    "d = ctxt['dag']\n",
    "t = d.task_dict['test2']\n",
    "t.xcom_pull(ctxt)"
   ]
  },
  {
   "cell_type": "code",
   "execution_count": 37,
   "metadata": {
    "execution": {
     "iopub.execute_input": "2020-05-18T06:38:01.656235Z",
     "iopub.status.busy": "2020-05-18T06:38:01.655974Z",
     "iopub.status.idle": "2020-05-18T06:38:01.676319Z",
     "shell.execute_reply": "2020-05-18T06:38:01.675426Z",
     "shell.execute_reply.started": "2020-05-18T06:38:01.656201Z"
    }
   },
   "outputs": [],
   "source": [
    "task2.xcom_push(ctxt, 'test',13)"
   ]
  },
  {
   "cell_type": "code",
   "execution_count": 41,
   "metadata": {
    "execution": {
     "iopub.execute_input": "2020-05-18T06:38:37.344411Z",
     "iopub.status.busy": "2020-05-18T06:38:37.344125Z",
     "iopub.status.idle": "2020-05-18T06:38:37.350436Z",
     "shell.execute_reply": "2020-05-18T06:38:37.349826Z",
     "shell.execute_reply.started": "2020-05-18T06:38:37.344374Z"
    }
   },
   "outputs": [],
   "source": [
    "task1.xcom_pull(ctxt)"
   ]
  },
  {
   "cell_type": "code",
   "execution_count": 17,
   "metadata": {
    "execution": {
     "iopub.execute_input": "2020-05-18T06:27:52.199757Z",
     "iopub.status.busy": "2020-05-18T06:27:52.199514Z",
     "iopub.status.idle": "2020-05-18T06:27:52.206575Z",
     "shell.execute_reply": "2020-05-18T06:27:52.206000Z",
     "shell.execute_reply.started": "2020-05-18T06:27:52.199724Z"
    }
   },
   "outputs": [
    {
     "data": {
      "text/plain": [
       "('sokolov_pool_gpu0', None)"
      ]
     },
     "execution_count": 17,
     "metadata": {},
     "output_type": "execute_result"
    }
   ],
   "source": [
    "ti.pool, ti.current_state()"
   ]
  },
  {
   "cell_type": "code",
   "execution_count": 14,
   "metadata": {
    "collapsed": true,
    "execution": {
     "iopub.execute_input": "2020-05-18T06:27:30.597308Z",
     "iopub.status.busy": "2020-05-18T06:27:30.597011Z",
     "iopub.status.idle": "2020-05-18T06:27:30.672239Z",
     "shell.execute_reply": "2020-05-18T06:27:30.671816Z",
     "shell.execute_reply.started": "2020-05-18T06:27:30.597270Z"
    },
    "jupyter": {
     "outputs_hidden": true
    }
   },
   "outputs": [
    {
     "name": "stdout",
     "output_type": "stream",
     "text": [
      "{'END_DATE': '2020-05-18',\n",
      " 'conf': <airflow.configuration.AirflowConfigParser object at 0x7f7d3675cd68>,\n",
      " 'dag': <DAG: crsch_hyp_search1>,\n",
      " 'dag_run': None,\n",
      " 'ds': '2020-05-18',\n",
      " 'ds_nodash': '20200518',\n",
      " 'end_date': '2020-05-18',\n",
      " 'execution_date': <Pendulum [2020-05-18T09:26:52.863269+00:00]>,\n",
      " 'inlets': [],\n",
      " 'latest_date': '2020-05-18',\n",
      " 'macros': <module 'airflow.macros' from '/home/sokolov/.local/lib/python3.6/site-packages/airflow/macros/__init__.py'>,\n",
      " 'next_ds': '2020-05-19',\n",
      " 'next_ds_nodash': '20200519',\n",
      " 'next_execution_date': <Pendulum [2020-05-19T00:00:00+00:00]>,\n",
      " 'outlets': [],\n",
      " 'params': {},\n",
      " 'prev_ds': '2020-05-18',\n",
      " 'prev_ds_nodash': '20200518',\n",
      " 'prev_execution_date': <Pendulum [2020-05-18T00:00:00+00:00]>,\n",
      " 'prev_execution_date_success': <Proxy at 0x7f7d106ed688 wrapping datetime.datetime(2020, 5, 18, 0, 0, tzinfo=<TimezoneInfo [UTC, GMT, +00:00:00, STD]>) at 0x7f7d107b4ed0 with factory <function TaskInstance.get_template_context.<locals>.<lambda> at 0x7f7d2c38b0d0>>,\n",
      " 'prev_start_date_success': <Proxy at 0x7f7d106ed6c8 wrapping None at 0x9d4380 with factory <function TaskInstance.get_template_context.<locals>.<lambda> at 0x7f7d106fa0d0>>,\n",
      " 'run_id': None,\n",
      " 'tables': None,\n",
      " 'task': <Task(PythonOperator): test1>,\n",
      " 'task_instance': <TaskInstance: crsch_hyp_search1.test1 2020-05-18 09:26:52.863269+00:00 [None]>,\n",
      " 'task_instance_key_str': 'crsch_hyp_search1__test1__20200518',\n",
      " 'templates_dict': None,\n",
      " 'test_mode': False,\n",
      " 'ti': <TaskInstance: crsch_hyp_search1.test1 2020-05-18 09:26:52.863269+00:00 [None]>,\n",
      " 'tomorrow_ds': '2020-05-19',\n",
      " 'tomorrow_ds_nodash': '20200519',\n",
      " 'ts': '2020-05-18T09:26:52.863269+00:00',\n",
      " 'ts_nodash': '20200518T092652',\n",
      " 'ts_nodash_with_tz': '20200518T092652.863269+0000',\n",
      " 'var': {'json': None, 'value': None},\n",
      " 'yesterday_ds': '2020-05-17',\n",
      " 'yesterday_ds_nodash': '20200517'}\n"
     ]
    },
    {
     "data": {
      "text/plain": [
       "('sokolov_pool_gpu0', None)"
      ]
     },
     "execution_count": 14,
     "metadata": {},
     "output_type": "execute_result"
    }
   ],
   "source": [
    "ti = TaskInstance(task=task1, execution_date=datetime.now())\n",
    "task1.execute(context=ti.get_template_context())\n",
    "ti.pool, ti.current_state()"
   ]
  },
  {
   "cell_type": "code",
   "execution_count": 13,
   "metadata": {
    "execution": {
     "iopub.execute_input": "2020-05-18T06:27:15.733362Z",
     "iopub.status.busy": "2020-05-18T06:27:15.733017Z",
     "iopub.status.idle": "2020-05-18T06:27:15.743785Z",
     "shell.execute_reply": "2020-05-18T06:27:15.743275Z",
     "shell.execute_reply.started": "2020-05-18T06:27:15.733299Z"
    }
   },
   "outputs": [
    {
     "data": {
      "text/plain": [
       "('sokolov_pool_gpu0', None)"
      ]
     },
     "execution_count": 13,
     "metadata": {},
     "output_type": "execute_result"
    }
   ],
   "source": [
    "ti.pool, ti.current_state()"
   ]
  },
  {
   "cell_type": "code",
   "execution_count": null,
   "metadata": {},
   "outputs": [],
   "source": []
  },
  {
   "cell_type": "code",
   "execution_count": null,
   "metadata": {},
   "outputs": [],
   "source": []
  },
  {
   "cell_type": "code",
   "execution_count": null,
   "metadata": {
    "execution": {
     "iopub.status.busy": "2020-05-18T06:25:49.165206Z",
     "iopub.status.idle": "2020-05-18T06:25:49.165410Z"
    }
   },
   "outputs": [],
   "source": [
    "def task_state(args):\n",
    "    dag = get_dag(args)\n",
    "    task = dag.get_task(task_id=args.task_id)\n",
    "    ti = TaskInstance(task, args.execution_date)\n",
    "    print(ti.current_state())"
   ]
  },
  {
   "cell_type": "code",
   "execution_count": null,
   "metadata": {},
   "outputs": [],
   "source": []
  },
  {
   "cell_type": "markdown",
   "metadata": {},
   "source": [
    "# Export"
   ]
  },
  {
   "cell_type": "code",
   "execution_count": 24,
   "metadata": {
    "execution": {
     "iopub.execute_input": "2020-05-19T19:55:40.639206Z",
     "iopub.status.busy": "2020-05-19T19:55:40.638939Z",
     "iopub.status.idle": "2020-05-19T19:55:40.832950Z",
     "shell.execute_reply": "2020-05-19T19:55:40.832250Z",
     "shell.execute_reply.started": "2020-05-19T19:55:40.639168Z"
    }
   },
   "outputs": [
    {
     "name": "stdout",
     "output_type": "stream",
     "text": [
      "Converted dag.ipynb to exp/nb_dag.py\n"
     ]
    }
   ],
   "source": [
    "!python3 extra/n2s.py dag.ipynb"
   ]
  },
  {
   "cell_type": "code",
   "execution_count": 25,
   "metadata": {
    "execution": {
     "iopub.execute_input": "2020-05-19T19:55:40.962919Z",
     "iopub.status.busy": "2020-05-19T19:55:40.962680Z",
     "iopub.status.idle": "2020-05-19T19:55:43.081672Z",
     "shell.execute_reply": "2020-05-19T19:55:43.080891Z",
     "shell.execute_reply.started": "2020-05-19T19:55:40.962888Z"
    }
   },
   "outputs": [
    {
     "name": "stdout",
     "output_type": "stream",
     "text": [
      "[2020-05-19 22:55:41,893] {__init__.py:51} INFO - Using executor LocalExecutor\n",
      "[2020-05-19 22:55:41,893] {dagbag.py:396} INFO - Filling up the DagBag from /home/sokolov/airflow/dags\n",
      "[2020-05-19 22:55:41,894] {dagbag.py:396} INFO - Filling up the DagBag from /home/sokolov/work/cycler/dHPO/exp\n",
      "\n",
      "\n",
      "-------------------------------------------------------------------\n",
      "DAGS\n",
      "-------------------------------------------------------------------\n",
      "dhpo2\n",
      "\n"
     ]
    }
   ],
   "source": [
    "!airflow list_dags"
   ]
  },
  {
   "cell_type": "code",
   "execution_count": null,
   "metadata": {},
   "outputs": [],
   "source": []
  }
 ],
 "metadata": {
  "kernelspec": {
   "display_name": "Python 3",
   "language": "python",
   "name": "python3"
  },
  "language_info": {
   "codemirror_mode": {
    "name": "ipython",
    "version": 3
   },
   "file_extension": ".py",
   "mimetype": "text/x-python",
   "name": "python",
   "nbconvert_exporter": "python",
   "pygments_lexer": "ipython3",
   "version": "3.6.9"
  },
  "toc-autonumbering": false,
  "toc-showcode": false,
  "toc-showmarkdowntxt": true,
  "toc-showtags": false
 },
 "nbformat": 4,
 "nbformat_minor": 4
}
