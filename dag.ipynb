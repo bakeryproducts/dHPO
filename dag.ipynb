{
 "cells": [
  {
   "cell_type": "markdown",
   "metadata": {
    "collapsed": "true"
   },
   "source": [
    "# Imports"
   ]
  },
  {
   "cell_type": "code",
   "execution_count": 1,
   "metadata": {
    "execution": {
     "iopub.execute_input": "2020-05-20T14:01:51.186516Z",
     "iopub.status.busy": "2020-05-20T14:01:51.186203Z",
     "iopub.status.idle": "2020-05-20T14:01:52.329620Z",
     "shell.execute_reply": "2020-05-20T14:01:52.328921Z",
     "shell.execute_reply.started": "2020-05-20T14:01:51.186477Z"
    }
   },
   "outputs": [],
   "source": [
    "#export\n",
    "import os\n",
    "import sys\n",
    "from pathlib import Path\n",
    "p = '/home/sokolov/work/cycler/dHPO/exp/'\n",
    "sys.path.append(p)\n",
    "#sys.path.append(os.path.join(os.getcwd(),'exp'))\n",
    "\n",
    "import time\n",
    "import json\n",
    "import numpy as np\n",
    "from itertools import cycle\n",
    "from functools import partial\n",
    "from datetime import timedelta, datetime\n",
    "\n",
    "from airflow import DAG\n",
    "from airflow.operators.bash_operator import BashOperator\n",
    "from airflow.operators.python_operator import PythonOperator\n",
    "from airflow.utils.dates import days_ago\n",
    "\n",
    "\n",
    "from nb_runner import cycle_exp, cycle_mutate, \\\n",
    "                      cycle_crossover, cycle_combine, cycle_all,\\\n",
    "                      bo_exp, bo_all, bo_crossover\n",
    "from config import cfg"
   ]
  },
  {
   "cell_type": "markdown",
   "metadata": {},
   "source": [
    "# Code"
   ]
  },
  {
   "cell_type": "markdown",
   "metadata": {
    "collapsed": "true",
    "execution": {
     "iopub.execute_input": "2020-05-19T09:48:53.560250Z",
     "iopub.status.busy": "2020-05-19T09:48:53.559971Z",
     "iopub.status.idle": "2020-05-19T09:48:53.562816Z",
     "shell.execute_reply": "2020-05-19T09:48:53.562386Z",
     "shell.execute_reply.started": "2020-05-19T09:48:53.560215Z"
    }
   },
   "source": [
    "### dag base"
   ]
  },
  {
   "cell_type": "code",
   "execution_count": 3,
   "metadata": {
    "execution": {
     "iopub.execute_input": "2020-05-20T14:02:00.133128Z",
     "iopub.status.busy": "2020-05-20T14:02:00.132845Z",
     "iopub.status.idle": "2020-05-20T14:02:00.141439Z",
     "shell.execute_reply": "2020-05-20T14:02:00.140985Z",
     "shell.execute_reply.started": "2020-05-20T14:02:00.133090Z"
    }
   },
   "outputs": [],
   "source": [
    "#export\n",
    "d = days_ago(1)# + timedelta(hours=10, minutes=31)\n",
    "\n",
    "default_args = {\n",
    "    'owner': cfg.OWNER,\n",
    "    'depends_on_past': False,\n",
    "    #'start_date':d,\n",
    "    'email': False,\n",
    "    'email_on_failure': False,\n",
    "    'email_on_retry': False,\n",
    "    #'retries': 0,# overrided in pythonOperator down below\n",
    "    #'retry_delay': timedelta(minutes=5),# overrided in pythonOperator down below\n",
    "}\n",
    "\n",
    "default_pool = cfg.DAG.DEF_POOL\n",
    "#schedule_interval = cfg.DAG.SCHED_INTERVAL if cfg.DAG.SCHED_INTERVAL else None #@daily\n",
    "description = cfg.DAG.DESC + '\\n' + json.dumps(cfg, indent=4)\n",
    "\n",
    "schedule_interval = '00 23 * * *'\n",
    "\n",
    "dag = DAG(  cfg.DAG.NAME,\n",
    "                max_active_runs=1,\n",
    "                start_date=d,\n",
    "                catchup=False,# for disabling backfill!\n",
    "                description=description,\n",
    "                schedule_interval=schedule_interval,\n",
    "                default_args=default_args,\n",
    "                )\n",
    "\n",
    "def base_task_generator(name, func, dag, pool=default_pool, op_kwargs=None):\n",
    "    task = PythonOperator(\n",
    "                    task_id=name,\n",
    "                    python_callable=func,\n",
    "                    op_kwargs=op_kwargs,\n",
    "                    provide_context=True,\n",
    "                    pool=pool,\n",
    "                    retries=cfg.DAG.RETRIES,\n",
    "                    retry_delay=timedelta(minutes=cfg.DAG.RETRY_DELAY),\n",
    "                    dag=dag,)\n",
    "    return task\n",
    "        \n",
    "create_task = partial(base_task_generator, dag=dag)\n",
    "\n",
    "def pull_results(**context):\n",
    "    results = None\n",
    "    if context is not None:\n",
    "        task_ids = context['dag'].task_ids\n",
    "        results = {task_id:context['ti'].xcom_pull(task_ids=task_id) for task_id in task_ids}\n",
    "    return results\n",
    "\n",
    "\n",
    "def upstream_results(**context):\n",
    "    task = context['task']\n",
    "    upstream_task_ids = task.upstream_task_ids\n",
    "    rs = [pull_results(**context)[task_id] for task_id in upstream_task_ids]\n",
    "    if not rs:\n",
    "        rs = [{'configs':None, 'docker_results':None}]\n",
    "    for result in rs:\n",
    "        yield result        \n",
    "\n",
    "def parse_pool(pool_str):\n",
    "    pool_str = pool_str.split('_')[-1]\n",
    "    return ','.join([i for i in pool_str if i.isdigit()])\n",
    "\n",
    "def chunker_list(seq, size):\n",
    "    return (seq[i::size] for i in range(size))"
   ]
  },
  {
   "cell_type": "markdown",
   "metadata": {
    "execution": {
     "iopub.execute_input": "2020-05-19T09:49:08.947629Z",
     "iopub.status.busy": "2020-05-19T09:49:08.947364Z",
     "iopub.status.idle": "2020-05-19T09:49:08.950042Z",
     "shell.execute_reply": "2020-05-19T09:49:08.949632Z",
     "shell.execute_reply.started": "2020-05-19T09:49:08.947594Z"
    }
   },
   "source": [
    "### dag extra"
   ]
  },
  {
   "cell_type": "code",
   "execution_count": 22,
   "metadata": {
    "execution": {
     "iopub.execute_input": "2020-05-20T14:26:15.882697Z",
     "iopub.status.busy": "2020-05-20T14:26:15.882399Z",
     "iopub.status.idle": "2020-05-20T14:26:15.892607Z",
     "shell.execute_reply": "2020-05-20T14:26:15.892110Z",
     "shell.execute_reply.started": "2020-05-20T14:26:15.882656Z"
    }
   },
   "outputs": [],
   "source": [
    "#export\n",
    "def dw_cycle_param(func, **context):\n",
    "    prev_results = next(upstream_results(**context))\n",
    "    aux_cfg_files = prev_results['configs']\n",
    "    gpus = parse_pool(context['ti'].pool)\n",
    "    return func(aux_cfg_files=aux_cfg_files, gpus=gpus)\n",
    "\n",
    "def dw_bo_param(func, **context):\n",
    "    results = pull_results(**context)\n",
    "    all_hp_points = []\n",
    "    for task_id, r in results.items():\n",
    "        if r:\n",
    "            all_hp_points.append({'points':r['state'], 'target':r['docker_results']['metric']})  \n",
    "    \n",
    "    prev_results = next(upstream_results(**context))\n",
    "    aux_cfg_files = prev_results['configs']\n",
    "    gpus = parse_pool(context['ti'].pool)\n",
    "    idx = cfg.GPUS.IDS.index(int(gpus))# wont work with single exp on multiple gpus!\n",
    "    return func(aux_cfg_files=aux_cfg_files, gpus=gpus, hp_points=all_hp_points, idx=idx)\n",
    "\n",
    "def dw_pooling(num=1, **context):\n",
    "    key = 'metric'\n",
    "    res = {}\n",
    "    for r in upstream_results(**context):\n",
    "        res[r['docker_results'][key]] = r['configs']\n",
    "    res = sorted(res.items(), key=lambda x: x[0], reverse=True)\n",
    "    res = res[:num]\n",
    "    best_docker_results = [r[0] for r in res]\n",
    "    best_configs = [r[1] for r in res]\n",
    "    print(f'\\n\\tPooling: best result : {best_docker_results}, {best_configs}\\n')\n",
    "    return [{'configs':best_config} for best_config in best_configs]\n",
    "\n",
    "def dw_dist(idx=None, **context):\n",
    "    res = list(upstream_results(**context))[0][idx]\n",
    "    return res\n",
    "\n",
    "def distribute(name, num):\n",
    "    tasks = []\n",
    "    for i in range(num):\n",
    "        task_name = f'distribute_{name}_{i}'\n",
    "        tasks.append(create_task(task_name, dw_dist, op_kwargs={'idx':i}))\n",
    "    return tasks\n",
    "        \n",
    "def block_optimize(n, name, func, dw_param):\n",
    "    tasks = []\n",
    "    gpus_avail = cycle(cfg.GPUS.IDS)\n",
    "        \n",
    "    for i in range(n):\n",
    "        gpu = next(gpus_avail)\n",
    "        task_name = f'{name}_{i}'\n",
    "        pool = cfg.DAG.POOL_PREFIX + str(gpu)\n",
    "        \n",
    "        block_func = partial(func, seq_id=i, name=task_name)\n",
    "        task = create_task(task_name, dw_param, pool=pool, op_kwargs={'func':block_func}) \n",
    "        tasks.append(task) \n",
    "    return tasks"
   ]
  },
  {
   "cell_type": "markdown",
   "metadata": {
    "execution": {
     "iopub.execute_input": "2020-05-18T09:37:06.369254Z",
     "iopub.status.busy": "2020-05-18T09:37:06.368952Z",
     "iopub.status.idle": "2020-05-18T09:37:06.371993Z",
     "shell.execute_reply": "2020-05-18T09:37:06.371581Z",
     "shell.execute_reply.started": "2020-05-18T09:37:06.369212Z"
    }
   },
   "source": [
    "### random search"
   ]
  },
  {
   "cell_type": "markdown",
   "metadata": {
    "collapsed": "true",
    "execution": {
     "iopub.execute_input": "2020-05-20T14:04:14.253310Z",
     "iopub.status.busy": "2020-05-20T14:04:14.253022Z",
     "iopub.status.idle": "2020-05-20T14:04:14.255955Z",
     "shell.execute_reply": "2020-05-20T14:04:14.255456Z",
     "shell.execute_reply.started": "2020-05-20T14:04:14.253271Z"
    }
   },
   "source": [
    "#### chain"
   ]
  },
  {
   "cell_type": "code",
   "execution_count": 10,
   "metadata": {
    "execution": {
     "iopub.execute_input": "2020-05-20T14:07:15.878660Z",
     "iopub.status.busy": "2020-05-20T14:07:15.878379Z",
     "iopub.status.idle": "2020-05-20T14:07:15.883312Z",
     "shell.execute_reply": "2020-05-20T14:07:15.882778Z",
     "shell.execute_reply.started": "2020-05-20T14:07:15.878624Z"
    }
   },
   "outputs": [
    {
     "data": {
      "text/plain": [
       "<Task(PythonOperator): rs_mut_0>"
      ]
     },
     "execution_count": 10,
     "metadata": {},
     "output_type": "execute_result"
    }
   ],
   "source": [
    "t1 = block_optimize(1, 'rs_exp', cycle_exp, dw_cycle_param)\n",
    "t2 = block_optimize(1, 'rs_mut', cycle_mutate, dw_cycle_param)\n",
    "t1[0] >> t2[0]"
   ]
  },
  {
   "cell_type": "markdown",
   "metadata": {
    "collapsed": "true"
   },
   "source": [
    "#### parallel"
   ]
  },
  {
   "cell_type": "code",
   "execution_count": 6,
   "metadata": {
    "execution": {
     "iopub.execute_input": "2020-05-20T14:02:14.247178Z",
     "iopub.status.busy": "2020-05-20T14:02:14.246880Z",
     "iopub.status.idle": "2020-05-20T14:02:14.251200Z",
     "shell.execute_reply": "2020-05-20T14:02:14.250720Z",
     "shell.execute_reply.started": "2020-05-20T14:02:14.247135Z"
    }
   },
   "outputs": [
    {
     "data": {
      "text/plain": [
       "[<Task(PythonOperator): cycle_all_0>, <Task(PythonOperator): cycle_all_1>]"
      ]
     },
     "execution_count": 6,
     "metadata": {},
     "output_type": "execute_result"
    }
   ],
   "source": [
    "block_optimize(2, 'rs_all', cycle_all, dw_cycle_param)"
   ]
  },
  {
   "cell_type": "markdown",
   "metadata": {
    "collapsed": "true"
   },
   "source": [
    "#### parallel chains"
   ]
  },
  {
   "cell_type": "code",
   "execution_count": null,
   "metadata": {},
   "outputs": [],
   "source": [
    "tasks = {}\n",
    "tasks['exp'] = block_optimize(3, 'cycle_e', cycle_exp, dw_cycle_param)\n",
    "tasks['mut'] = block_optimize(3, 'cycle_m', cycle_mutate, dw_cycle_param)\n",
    "for task_e, task_m in zip(tasks['exp'], tasks['mut']):\n",
    "    task_e >> task_m"
   ]
  },
  {
   "cell_type": "markdown",
   "metadata": {
    "collapsed": "true",
    "execution": {
     "iopub.execute_input": "2020-05-20T14:08:23.162888Z",
     "iopub.status.busy": "2020-05-20T14:08:23.162595Z",
     "iopub.status.idle": "2020-05-20T14:08:23.165605Z",
     "shell.execute_reply": "2020-05-20T14:08:23.165107Z",
     "shell.execute_reply.started": "2020-05-20T14:08:23.162850Z"
    }
   },
   "source": [
    "#### pooling one"
   ]
  },
  {
   "cell_type": "code",
   "execution_count": 12,
   "metadata": {
    "execution": {
     "iopub.execute_input": "2020-05-20T14:09:19.643257Z",
     "iopub.status.busy": "2020-05-20T14:09:19.642972Z",
     "iopub.status.idle": "2020-05-20T14:09:19.647748Z",
     "shell.execute_reply": "2020-05-20T14:09:19.647290Z",
     "shell.execute_reply.started": "2020-05-20T14:09:19.643220Z"
    }
   },
   "outputs": [
    {
     "data": {
      "text/plain": [
       "<Task(PythonOperator): pooling1>"
      ]
     },
     "execution_count": 12,
     "metadata": {},
     "output_type": "execute_result"
    }
   ],
   "source": [
    "tasks = {}\n",
    "tasks['exp'] = block_optimize(3, 'cycle_e', cycle_exp, dw_cycle_param)\n",
    "pooling_task1 = create_task(f'pooling1', dw_pooling) \n",
    "tasks['exp'] >> pooling_task1\n",
    "\n",
    "tasks['mut'] = block_optimize(5, 'cycle_m', cycle_mutate, dw_cycle_param)\n",
    "pooling_task1 >> tasks['mut']"
   ]
  },
  {
   "cell_type": "markdown",
   "metadata": {
    "collapsed": "true",
    "execution": {
     "iopub.execute_input": "2020-05-20T14:09:51.518436Z",
     "iopub.status.busy": "2020-05-20T14:09:51.518147Z",
     "iopub.status.idle": "2020-05-20T14:09:51.521061Z",
     "shell.execute_reply": "2020-05-20T14:09:51.520632Z",
     "shell.execute_reply.started": "2020-05-20T14:09:51.518400Z"
    }
   },
   "source": [
    "#### pooling many"
   ]
  },
  {
   "cell_type": "code",
   "execution_count": 23,
   "metadata": {
    "execution": {
     "iopub.execute_input": "2020-05-20T14:26:17.530324Z",
     "iopub.status.busy": "2020-05-20T14:26:17.530024Z",
     "iopub.status.idle": "2020-05-20T14:26:17.535477Z",
     "shell.execute_reply": "2020-05-20T14:26:17.534899Z",
     "shell.execute_reply.started": "2020-05-20T14:26:17.530285Z"
    }
   },
   "outputs": [],
   "source": [
    "tasks = {}\n",
    "#block_optimize(50, 'cycle_all', cycle_all, dw_cycle_param)\n",
    "tasks['exp'] = block_optimize(3, 'cycle_e', cycle_exp, dw_cycle_param)\n",
    "n_pooling = 2\n",
    "pooling_task1 = create_task(f'pooling_{n_pooling}_best', partial(dw_pooling, num=n_pooling))\n",
    "tasks['exp'] >> pooling_task1\n",
    "\n",
    "dist_tasks = distribute('best_exp', n_pooling)\n",
    "pooling_task1 >> dist_tasks\n",
    "\n",
    "mut_tasks = block_optimize(5, 'cycle_m', cycle_mutate, dw_cycle_param)\n",
    "for task_d, task_mut in zip(dist_tasks, chunker_list(mut_tasks, n_pooling)):\n",
    "    task_d >> task_mut"
   ]
  },
  {
   "cell_type": "markdown",
   "metadata": {
    "collapsed": "true",
    "execution": {
     "iopub.execute_input": "2020-05-20T14:14:06.666487Z",
     "iopub.status.busy": "2020-05-20T14:14:06.666200Z",
     "iopub.status.idle": "2020-05-20T14:14:06.669049Z",
     "shell.execute_reply": "2020-05-20T14:14:06.668582Z",
     "shell.execute_reply.started": "2020-05-20T14:14:06.666451Z"
    }
   },
   "source": [
    "#### general one"
   ]
  },
  {
   "cell_type": "code",
   "execution_count": 24,
   "metadata": {
    "execution": {
     "iopub.execute_input": "2020-05-20T14:26:54.443027Z",
     "iopub.status.busy": "2020-05-20T14:26:54.442735Z",
     "iopub.status.idle": "2020-05-20T14:26:54.452710Z",
     "shell.execute_reply": "2020-05-20T14:26:54.452264Z",
     "shell.execute_reply.started": "2020-05-20T14:26:54.442989Z"
    }
   },
   "outputs": [
    {
     "data": {
      "text/plain": [
       "[<Task(PythonOperator): cycle_co_0>,\n",
       " <Task(PythonOperator): cycle_co_1>,\n",
       " <Task(PythonOperator): cycle_co_2>,\n",
       " <Task(PythonOperator): cycle_co_3>,\n",
       " <Task(PythonOperator): cycle_co_4>]"
      ]
     },
     "execution_count": 24,
     "metadata": {},
     "output_type": "execute_result"
    }
   ],
   "source": [
    "#export\n",
    "tasks = {}\n",
    "tasks['all'] = block_optimize(10, 'cycle_all', cycle_all, dw_cycle_param)\n",
    "\n",
    "dist_num = 5\n",
    "pooling_task1 = create_task(f'pooling_{dist_num}_best1', partial(dw_pooling, num=dist_num))\n",
    "tasks['all'] >> pooling_task1\n",
    "\n",
    "dist_tasks = distribute('best_all', dist_num)\n",
    "pooling_task1 >> dist_tasks\n",
    "\n",
    "tasks['mut'] = block_optimize(25, 'cycle_m', cycle_mutate, dw_cycle_param)\n",
    "for dt, mt in zip(dist_tasks, chunker_list(tasks['mut'], dist_num)):\n",
    "    dt >> mt\n",
    "\n",
    "pooling_task2 = create_task(f'pooling_{dist_num}_best2', partial(dw_pooling, num=dist_num))\n",
    "tasks['mut'] >> pooling_task2\n",
    "\n",
    "dist_tasks2 = distribute('best_mut', dist_num)\n",
    "pooling_task2 >> dist_tasks2\n",
    "\n",
    "\n",
    "tasks['cr'] = block_optimize(10, 'cycle_cr', cycle_crossover, dw_cycle_param)\n",
    "for dt, mt in zip(dist_tasks2, chunker_list(tasks['cr'], dist_num)):\n",
    "    dt >> mt\n",
    "\n",
    "pooling_task3 = create_task(f'pooling3', dw_pooling) \n",
    "tasks['cr'] >> pooling_task3\n",
    "\n",
    "tasks['co'] = block_optimize(5, 'cycle_co', cycle_combine, dw_cycle_param)\n",
    "pooling_task3 >> tasks['co']\n"
   ]
  },
  {
   "cell_type": "markdown",
   "metadata": {
    "execution": {
     "iopub.execute_input": "2020-05-18T09:37:20.560749Z",
     "iopub.status.busy": "2020-05-18T09:37:20.560436Z",
     "iopub.status.idle": "2020-05-18T09:37:20.563678Z",
     "shell.execute_reply": "2020-05-18T09:37:20.563095Z",
     "shell.execute_reply.started": "2020-05-18T09:37:20.560712Z"
    }
   },
   "source": [
    "### bo"
   ]
  },
  {
   "cell_type": "code",
   "execution_count": 18,
   "metadata": {
    "execution": {
     "iopub.execute_input": "2020-05-20T14:22:27.808622Z",
     "iopub.status.busy": "2020-05-20T14:22:27.808290Z",
     "iopub.status.idle": "2020-05-20T14:22:27.814800Z",
     "shell.execute_reply": "2020-05-20T14:22:27.814394Z",
     "shell.execute_reply.started": "2020-05-20T14:22:27.808582Z"
    }
   },
   "outputs": [
    {
     "data": {
      "text/plain": [
       "<Task(PythonOperator): pooling1>"
      ]
     },
     "execution_count": 18,
     "metadata": {},
     "output_type": "execute_result"
    }
   ],
   "source": [
    "tasks_bo_all = block_optimize(80, 'bo_all', bo_all, dw_bo_param)\n",
    "\n",
    "pooling_task1 = create_task(f'pooling1', dw_pooling) \n",
    "tasks_bo_all >> pooling_task1\n"
   ]
  },
  {
   "cell_type": "code",
   "execution_count": null,
   "metadata": {},
   "outputs": [],
   "source": []
  },
  {
   "cell_type": "markdown",
   "metadata": {
    "collapsed": "true",
    "execution": {
     "iopub.execute_input": "2020-05-18T10:18:14.029858Z",
     "iopub.status.busy": "2020-05-18T10:18:14.029550Z",
     "iopub.status.idle": "2020-05-18T10:18:14.032891Z",
     "shell.execute_reply": "2020-05-18T10:18:14.032349Z",
     "shell.execute_reply.started": "2020-05-18T10:18:14.029821Z"
    }
   },
   "source": [
    "# More tests"
   ]
  },
  {
   "cell_type": "code",
   "execution_count": 16,
   "metadata": {
    "execution": {
     "iopub.execute_input": "2020-05-18T09:45:52.644560Z",
     "iopub.status.busy": "2020-05-18T09:45:52.644279Z",
     "iopub.status.idle": "2020-05-18T09:45:52.647449Z",
     "shell.execute_reply": "2020-05-18T09:45:52.646972Z",
     "shell.execute_reply.started": "2020-05-18T09:45:52.644525Z"
    }
   },
   "outputs": [],
   "source": [
    "#export\n",
    "from airflow.models import TaskInstance\n",
    "from datetime import datetime\n",
    "import json\n",
    "from pprint import pprint"
   ]
  },
  {
   "cell_type": "code",
   "execution_count": 17,
   "metadata": {
    "execution": {
     "iopub.execute_input": "2020-05-18T09:45:54.282316Z",
     "iopub.status.busy": "2020-05-18T09:45:54.282039Z",
     "iopub.status.idle": "2020-05-18T09:45:54.288594Z",
     "shell.execute_reply": "2020-05-18T09:45:54.287896Z",
     "shell.execute_reply.started": "2020-05-18T09:45:54.282282Z"
    }
   },
   "outputs": [],
   "source": [
    "\n",
    "def test1(**context):\n",
    "    pprint(context)\n",
    "    return 55\n",
    "\n",
    "def test2(**context):\n",
    "    pprint(context)\n",
    "    pprint(pull_results2(**context))\n",
    "    return 999\n",
    "\n",
    "\n",
    "def pull_results2(**context):\n",
    "    results = None\n",
    "    if context is not None:\n",
    "        task = context['task']\n",
    "        dag = context['dag']\n",
    "        task_ids = dag.task_ids\n",
    "        #task_ids = task.upstream_task_ids\n",
    "        for task_id in task_ids:\n",
    "            print(task_id)\n",
    "            xc = context['ti'].xcom_pull(task_ids=task_id)\n",
    "            print(xc)\n",
    "            \n",
    "        results = {task_id:context['ti'].xcom_pull(task_ids=task_id) for task_id in task_ids}\n",
    "    return results\n",
    "\n",
    "task1 = base_task_generator('test1', test1, dag)\n",
    "task2 = base_task_generator('test2', test2, dag)\n",
    "#task1 >> task2\n"
   ]
  },
  {
   "cell_type": "code",
   "execution_count": 18,
   "metadata": {
    "collapsed": true,
    "execution": {
     "iopub.execute_input": "2020-05-18T09:45:55.876617Z",
     "iopub.status.busy": "2020-05-18T09:45:55.876349Z",
     "iopub.status.idle": "2020-05-18T09:45:55.977700Z",
     "shell.execute_reply": "2020-05-18T09:45:55.977157Z",
     "shell.execute_reply.started": "2020-05-18T09:45:55.876585Z"
    },
    "jupyter": {
     "outputs_hidden": true
    }
   },
   "outputs": [
    {
     "name": "stdout",
     "output_type": "stream",
     "text": [
      "{'END_DATE': '2020-05-18',\n",
      " 'conf': <airflow.configuration.AirflowConfigParser object at 0x7f37e501dbe0>,\n",
      " 'dag': <DAG: crsch_hyp_search1>,\n",
      " 'dag_run': None,\n",
      " 'ds': '2020-05-18',\n",
      " 'ds_nodash': '20200518',\n",
      " 'end_date': '2020-05-18',\n",
      " 'execution_date': <Pendulum [2020-05-18T12:45:55.877627+00:00]>,\n",
      " 'inlets': [],\n",
      " 'latest_date': '2020-05-18',\n",
      " 'macros': <module 'airflow.macros' from '/home/sokolov/.local/lib/python3.6/site-packages/airflow/macros/__init__.py'>,\n",
      " 'next_ds': '2020-05-19',\n",
      " 'next_ds_nodash': '20200519',\n",
      " 'next_execution_date': <Pendulum [2020-05-19T00:00:00+00:00]>,\n",
      " 'outlets': [],\n",
      " 'params': {},\n",
      " 'prev_ds': '2020-05-18',\n",
      " 'prev_ds_nodash': '20200518',\n",
      " 'prev_execution_date': <Pendulum [2020-05-18T00:00:00+00:00]>,\n",
      " 'prev_execution_date_success': <Proxy at 0x7f38290a5a08 with factory <function TaskInstance.get_template_context.<locals>.<lambda> at 0x7f38290ef840>>,\n",
      " 'prev_start_date_success': <Proxy at 0x7f38290a5a48 with factory <function TaskInstance.get_template_context.<locals>.<lambda> at 0x7f38290fe730>>,\n",
      " 'run_id': None,\n",
      " 'tables': None,\n",
      " 'task': <Task(PythonOperator): test2>,\n",
      " 'task_instance': <TaskInstance: crsch_hyp_search1.test2 2020-05-18 12:45:55.877627+00:00 [None]>,\n",
      " 'task_instance_key_str': 'crsch_hyp_search1__test2__20200518',\n",
      " 'templates_dict': None,\n",
      " 'test_mode': False,\n",
      " 'ti': <TaskInstance: crsch_hyp_search1.test2 2020-05-18 12:45:55.877627+00:00 [None]>,\n",
      " 'tomorrow_ds': '2020-05-19',\n",
      " 'tomorrow_ds_nodash': '20200519',\n",
      " 'ts': '2020-05-18T12:45:55.877627+00:00',\n",
      " 'ts_nodash': '20200518T124555',\n",
      " 'ts_nodash_with_tz': '20200518T124555.877627+0000',\n",
      " 'var': {'json': None, 'value': None},\n",
      " 'yesterday_ds': '2020-05-17',\n",
      " 'yesterday_ds_nodash': '20200517'}\n",
      "test1\n",
      "None\n",
      "test2\n",
      "None\n",
      "{'test1': None, 'test2': None}\n"
     ]
    },
    {
     "data": {
      "text/plain": [
       "999"
      ]
     },
     "execution_count": 18,
     "metadata": {},
     "output_type": "execute_result"
    }
   ],
   "source": [
    "ti = TaskInstance(task=task2, execution_date=datetime.now())\n",
    "ctxt = ti.get_template_context()\n",
    "task2.execute(context=ctxt)"
   ]
  },
  {
   "cell_type": "code",
   "execution_count": 68,
   "metadata": {
    "execution": {
     "iopub.execute_input": "2020-05-18T07:38:15.849562Z",
     "iopub.status.busy": "2020-05-18T07:38:15.849290Z",
     "iopub.status.idle": "2020-05-18T07:38:15.853355Z",
     "shell.execute_reply": "2020-05-18T07:38:15.852921Z",
     "shell.execute_reply.started": "2020-05-18T07:38:15.849527Z"
    }
   },
   "outputs": [
    {
     "data": {
      "text/plain": [
       "['test1', 'test2', 'cycle_e_0', 'cycle_e_1', 'cycle_e_2', 'pooling_two_best']"
      ]
     },
     "execution_count": 68,
     "metadata": {},
     "output_type": "execute_result"
    }
   ],
   "source": [
    "d.task_ids"
   ]
  },
  {
   "cell_type": "code",
   "execution_count": 23,
   "metadata": {
    "execution": {
     "iopub.execute_input": "2020-05-18T06:35:28.410634Z",
     "iopub.status.busy": "2020-05-18T06:35:28.410367Z",
     "iopub.status.idle": "2020-05-18T06:35:28.415868Z",
     "shell.execute_reply": "2020-05-18T06:35:28.415361Z",
     "shell.execute_reply.started": "2020-05-18T06:35:28.410599Z"
    }
   },
   "outputs": [],
   "source": [
    "d = ctxt['dag']\n",
    "t = d.task_dict['test2']\n",
    "t.xcom_pull(ctxt)"
   ]
  },
  {
   "cell_type": "code",
   "execution_count": 37,
   "metadata": {
    "execution": {
     "iopub.execute_input": "2020-05-18T06:38:01.656235Z",
     "iopub.status.busy": "2020-05-18T06:38:01.655974Z",
     "iopub.status.idle": "2020-05-18T06:38:01.676319Z",
     "shell.execute_reply": "2020-05-18T06:38:01.675426Z",
     "shell.execute_reply.started": "2020-05-18T06:38:01.656201Z"
    }
   },
   "outputs": [],
   "source": [
    "task2.xcom_push(ctxt, 'test',13)"
   ]
  },
  {
   "cell_type": "code",
   "execution_count": 41,
   "metadata": {
    "execution": {
     "iopub.execute_input": "2020-05-18T06:38:37.344411Z",
     "iopub.status.busy": "2020-05-18T06:38:37.344125Z",
     "iopub.status.idle": "2020-05-18T06:38:37.350436Z",
     "shell.execute_reply": "2020-05-18T06:38:37.349826Z",
     "shell.execute_reply.started": "2020-05-18T06:38:37.344374Z"
    }
   },
   "outputs": [],
   "source": [
    "task1.xcom_pull(ctxt)"
   ]
  },
  {
   "cell_type": "code",
   "execution_count": 17,
   "metadata": {
    "execution": {
     "iopub.execute_input": "2020-05-18T06:27:52.199757Z",
     "iopub.status.busy": "2020-05-18T06:27:52.199514Z",
     "iopub.status.idle": "2020-05-18T06:27:52.206575Z",
     "shell.execute_reply": "2020-05-18T06:27:52.206000Z",
     "shell.execute_reply.started": "2020-05-18T06:27:52.199724Z"
    }
   },
   "outputs": [
    {
     "data": {
      "text/plain": [
       "('sokolov_pool_gpu0', None)"
      ]
     },
     "execution_count": 17,
     "metadata": {},
     "output_type": "execute_result"
    }
   ],
   "source": [
    "ti.pool, ti.current_state()"
   ]
  },
  {
   "cell_type": "code",
   "execution_count": 14,
   "metadata": {
    "collapsed": true,
    "execution": {
     "iopub.execute_input": "2020-05-18T06:27:30.597308Z",
     "iopub.status.busy": "2020-05-18T06:27:30.597011Z",
     "iopub.status.idle": "2020-05-18T06:27:30.672239Z",
     "shell.execute_reply": "2020-05-18T06:27:30.671816Z",
     "shell.execute_reply.started": "2020-05-18T06:27:30.597270Z"
    },
    "jupyter": {
     "outputs_hidden": true
    }
   },
   "outputs": [
    {
     "name": "stdout",
     "output_type": "stream",
     "text": [
      "{'END_DATE': '2020-05-18',\n",
      " 'conf': <airflow.configuration.AirflowConfigParser object at 0x7f7d3675cd68>,\n",
      " 'dag': <DAG: crsch_hyp_search1>,\n",
      " 'dag_run': None,\n",
      " 'ds': '2020-05-18',\n",
      " 'ds_nodash': '20200518',\n",
      " 'end_date': '2020-05-18',\n",
      " 'execution_date': <Pendulum [2020-05-18T09:26:52.863269+00:00]>,\n",
      " 'inlets': [],\n",
      " 'latest_date': '2020-05-18',\n",
      " 'macros': <module 'airflow.macros' from '/home/sokolov/.local/lib/python3.6/site-packages/airflow/macros/__init__.py'>,\n",
      " 'next_ds': '2020-05-19',\n",
      " 'next_ds_nodash': '20200519',\n",
      " 'next_execution_date': <Pendulum [2020-05-19T00:00:00+00:00]>,\n",
      " 'outlets': [],\n",
      " 'params': {},\n",
      " 'prev_ds': '2020-05-18',\n",
      " 'prev_ds_nodash': '20200518',\n",
      " 'prev_execution_date': <Pendulum [2020-05-18T00:00:00+00:00]>,\n",
      " 'prev_execution_date_success': <Proxy at 0x7f7d106ed688 wrapping datetime.datetime(2020, 5, 18, 0, 0, tzinfo=<TimezoneInfo [UTC, GMT, +00:00:00, STD]>) at 0x7f7d107b4ed0 with factory <function TaskInstance.get_template_context.<locals>.<lambda> at 0x7f7d2c38b0d0>>,\n",
      " 'prev_start_date_success': <Proxy at 0x7f7d106ed6c8 wrapping None at 0x9d4380 with factory <function TaskInstance.get_template_context.<locals>.<lambda> at 0x7f7d106fa0d0>>,\n",
      " 'run_id': None,\n",
      " 'tables': None,\n",
      " 'task': <Task(PythonOperator): test1>,\n",
      " 'task_instance': <TaskInstance: crsch_hyp_search1.test1 2020-05-18 09:26:52.863269+00:00 [None]>,\n",
      " 'task_instance_key_str': 'crsch_hyp_search1__test1__20200518',\n",
      " 'templates_dict': None,\n",
      " 'test_mode': False,\n",
      " 'ti': <TaskInstance: crsch_hyp_search1.test1 2020-05-18 09:26:52.863269+00:00 [None]>,\n",
      " 'tomorrow_ds': '2020-05-19',\n",
      " 'tomorrow_ds_nodash': '20200519',\n",
      " 'ts': '2020-05-18T09:26:52.863269+00:00',\n",
      " 'ts_nodash': '20200518T092652',\n",
      " 'ts_nodash_with_tz': '20200518T092652.863269+0000',\n",
      " 'var': {'json': None, 'value': None},\n",
      " 'yesterday_ds': '2020-05-17',\n",
      " 'yesterday_ds_nodash': '20200517'}\n"
     ]
    },
    {
     "data": {
      "text/plain": [
       "('sokolov_pool_gpu0', None)"
      ]
     },
     "execution_count": 14,
     "metadata": {},
     "output_type": "execute_result"
    }
   ],
   "source": [
    "ti = TaskInstance(task=task1, execution_date=datetime.now())\n",
    "task1.execute(context=ti.get_template_context())\n",
    "ti.pool, ti.current_state()"
   ]
  },
  {
   "cell_type": "code",
   "execution_count": 13,
   "metadata": {
    "execution": {
     "iopub.execute_input": "2020-05-18T06:27:15.733362Z",
     "iopub.status.busy": "2020-05-18T06:27:15.733017Z",
     "iopub.status.idle": "2020-05-18T06:27:15.743785Z",
     "shell.execute_reply": "2020-05-18T06:27:15.743275Z",
     "shell.execute_reply.started": "2020-05-18T06:27:15.733299Z"
    }
   },
   "outputs": [
    {
     "data": {
      "text/plain": [
       "('sokolov_pool_gpu0', None)"
      ]
     },
     "execution_count": 13,
     "metadata": {},
     "output_type": "execute_result"
    }
   ],
   "source": [
    "ti.pool, ti.current_state()"
   ]
  },
  {
   "cell_type": "code",
   "execution_count": null,
   "metadata": {},
   "outputs": [],
   "source": []
  },
  {
   "cell_type": "code",
   "execution_count": null,
   "metadata": {},
   "outputs": [],
   "source": []
  },
  {
   "cell_type": "code",
   "execution_count": null,
   "metadata": {
    "execution": {
     "iopub.status.busy": "2020-05-18T06:25:49.165206Z",
     "iopub.status.idle": "2020-05-18T06:25:49.165410Z"
    }
   },
   "outputs": [],
   "source": [
    "def task_state(args):\n",
    "    dag = get_dag(args)\n",
    "    task = dag.get_task(task_id=args.task_id)\n",
    "    ti = TaskInstance(task, args.execution_date)\n",
    "    print(ti.current_state())"
   ]
  },
  {
   "cell_type": "code",
   "execution_count": null,
   "metadata": {},
   "outputs": [],
   "source": []
  },
  {
   "cell_type": "markdown",
   "metadata": {},
   "source": [
    "# Export"
   ]
  },
  {
   "cell_type": "code",
   "execution_count": 25,
   "metadata": {
    "execution": {
     "iopub.execute_input": "2020-05-20T14:27:00.558170Z",
     "iopub.status.busy": "2020-05-20T14:27:00.557884Z",
     "iopub.status.idle": "2020-05-20T14:27:00.751699Z",
     "shell.execute_reply": "2020-05-20T14:27:00.750858Z",
     "shell.execute_reply.started": "2020-05-20T14:27:00.558131Z"
    }
   },
   "outputs": [
    {
     "name": "stdout",
     "output_type": "stream",
     "text": [
      "Converted dag.ipynb to exp/nb_dag.py\n"
     ]
    }
   ],
   "source": [
    "!python3 extra/n2s.py dag.ipynb"
   ]
  },
  {
   "cell_type": "code",
   "execution_count": 26,
   "metadata": {
    "execution": {
     "iopub.execute_input": "2020-05-20T14:27:01.603484Z",
     "iopub.status.busy": "2020-05-20T14:27:01.603191Z",
     "iopub.status.idle": "2020-05-20T14:27:03.659636Z",
     "shell.execute_reply": "2020-05-20T14:27:03.658915Z",
     "shell.execute_reply.started": "2020-05-20T14:27:01.603447Z"
    }
   },
   "outputs": [
    {
     "name": "stdout",
     "output_type": "stream",
     "text": [
      "[2020-05-20 17:27:02,508] {__init__.py:51} INFO - Using executor LocalExecutor\n",
      "[2020-05-20 17:27:02,508] {dagbag.py:396} INFO - Filling up the DagBag from /home/sokolov/airflow/dags\n",
      "[2020-05-20 17:27:02,509] {dagbag.py:396} INFO - Filling up the DagBag from /home/sokolov/work/cycler/dHPO/exp\n",
      "\n",
      "\n",
      "-------------------------------------------------------------------\n",
      "DAGS\n",
      "-------------------------------------------------------------------\n",
      "dhpo2\n",
      "\n"
     ]
    }
   ],
   "source": [
    "!airflow list_dags"
   ]
  },
  {
   "cell_type": "code",
   "execution_count": null,
   "metadata": {},
   "outputs": [],
   "source": []
  }
 ],
 "metadata": {
  "kernelspec": {
   "display_name": "Python 3",
   "language": "python",
   "name": "python3"
  },
  "language_info": {
   "codemirror_mode": {
    "name": "ipython",
    "version": 3
   },
   "file_extension": ".py",
   "mimetype": "text/x-python",
   "name": "python",
   "nbconvert_exporter": "python",
   "pygments_lexer": "ipython3",
   "version": "3.6.9"
  },
  "toc-autonumbering": false,
  "toc-showcode": false,
  "toc-showmarkdowntxt": true,
  "toc-showtags": false
 },
 "nbformat": 4,
 "nbformat_minor": 4
}
