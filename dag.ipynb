{
 "cells": [
  {
   "cell_type": "markdown",
   "metadata": {},
   "source": [
    "# Imports"
   ]
  },
  {
   "cell_type": "code",
   "execution_count": 1,
   "metadata": {
    "execution": {
     "iopub.execute_input": "2020-05-21T16:56:24.843400Z",
     "iopub.status.busy": "2020-05-21T16:56:24.843230Z",
     "iopub.status.idle": "2020-05-21T16:56:26.022928Z",
     "shell.execute_reply": "2020-05-21T16:56:26.022300Z",
     "shell.execute_reply.started": "2020-05-21T16:56:24.843373Z"
    }
   },
   "outputs": [],
   "source": [
    "#export\n",
    "import os\n",
    "import sys\n",
    "from pathlib import Path\n",
    "p = '/home/sokolov/work/cycler/dHPO/exp/'\n",
    "sys.path.append(p)\n",
    "#sys.path.append(os.path.join(os.getcwd(),'exp'))\n",
    "\n",
    "import time\n",
    "import json\n",
    "import numpy as np\n",
    "from itertools import cycle\n",
    "from functools import partial\n",
    "from datetime import timedelta, datetime\n",
    "\n",
    "from airflow import DAG\n",
    "from airflow.operators.bash_operator import BashOperator\n",
    "from airflow.operators.python_operator import PythonOperator\n",
    "from airflow.utils.dates import days_ago\n",
    "\n",
    "\n",
    "from nb_runner import cycle_exp, cycle_mutate, \\\n",
    "                      cycle_crossover, cycle_combine, cycle_all,\\\n",
    "                      bo_exp, bo_all\n",
    "from config import cfg"
   ]
  },
  {
   "cell_type": "markdown",
   "metadata": {},
   "source": [
    "# Code"
   ]
  },
  {
   "cell_type": "markdown",
   "metadata": {
    "collapsed": "true",
    "execution": {
     "iopub.execute_input": "2020-05-19T09:48:53.560250Z",
     "iopub.status.busy": "2020-05-19T09:48:53.559971Z",
     "iopub.status.idle": "2020-05-19T09:48:53.562816Z",
     "shell.execute_reply": "2020-05-19T09:48:53.562386Z",
     "shell.execute_reply.started": "2020-05-19T09:48:53.560215Z"
    }
   },
   "source": [
    "## dag base"
   ]
  },
  {
   "cell_type": "code",
   "execution_count": 2,
   "metadata": {
    "execution": {
     "iopub.execute_input": "2020-05-21T16:56:26.024258Z",
     "iopub.status.busy": "2020-05-21T16:56:26.024080Z",
     "iopub.status.idle": "2020-05-21T16:56:26.035122Z",
     "shell.execute_reply": "2020-05-21T16:56:26.034700Z",
     "shell.execute_reply.started": "2020-05-21T16:56:26.024231Z"
    }
   },
   "outputs": [],
   "source": [
    "#export\n",
    "d = days_ago(1)# + timedelta(hours=10, minutes=31)\n",
    "\n",
    "default_args = {\n",
    "    'owner': cfg.OWNER,\n",
    "    'depends_on_past': False,\n",
    "    #'start_date':d,\n",
    "    'email': False,\n",
    "    'email_on_failure': False,\n",
    "    'email_on_retry': False,\n",
    "    #'retries': 0,# overrided in pythonOperator down below\n",
    "    #'retry_delay': timedelta(minutes=5),# overrided in pythonOperator down below\n",
    "}\n",
    "\n",
    "default_pool = cfg.DAG.DEF_POOL\n",
    "#schedule_interval = cfg.DAG.SCHED_INTERVAL if cfg.DAG.SCHED_INTERVAL else None #@daily\n",
    "description = cfg.DAG.DESC + '\\n' + json.dumps(cfg, indent=4)\n",
    "\n",
    "schedule_interval = '00 22 * * *'\n",
    "\n",
    "dag = DAG(  cfg.DAG.NAME,\n",
    "                max_active_runs=1,\n",
    "                start_date=d,\n",
    "                catchup=False,# for disabling backfill!\n",
    "                description=description,\n",
    "                schedule_interval=schedule_interval,\n",
    "                default_args=default_args,\n",
    "                )\n",
    "\n",
    "def base_task_generator(name, func, dag, pool=default_pool, op_kwargs=None):\n",
    "    task = PythonOperator(\n",
    "                    task_id=name,\n",
    "                    python_callable=func,\n",
    "                    op_kwargs=op_kwargs,\n",
    "                    provide_context=True,\n",
    "                    pool=pool,\n",
    "                    retries=cfg.DAG.RETRIES,\n",
    "                    retry_delay=timedelta(minutes=cfg.DAG.RETRY_DELAY),\n",
    "                    dag=dag,)\n",
    "    return task\n",
    "        \n",
    "create_task = partial(base_task_generator, dag=dag)\n",
    "\n",
    "def pull_results(**context):\n",
    "    results = None\n",
    "    if context is not None:\n",
    "        task_ids = context['dag'].task_ids\n",
    "        results = {task_id:context['ti'].xcom_pull(task_ids=task_id) for task_id in task_ids}\n",
    "    return results\n",
    "\n",
    "\n",
    "def upstream_results(**context):\n",
    "    task = context['task']\n",
    "    upstream_task_ids = task.upstream_task_ids\n",
    "    rs = [pull_results(**context)[task_id] for task_id in upstream_task_ids]\n",
    "    if not rs:\n",
    "        rs = [{'configs':None, 'docker_results':None}]\n",
    "    for result in rs:\n",
    "        yield result        \n",
    "\n",
    "def parse_pool(pool_str):\n",
    "    pool_str = pool_str.split('_')[-1]\n",
    "    return ','.join([i for i in pool_str if i.isdigit()])\n",
    "\n",
    "def chunker_list(seq, size):\n",
    "    return (seq[i::size] for i in range(size))"
   ]
  },
  {
   "cell_type": "markdown",
   "metadata": {
    "execution": {
     "iopub.execute_input": "2020-05-19T09:49:08.947629Z",
     "iopub.status.busy": "2020-05-19T09:49:08.947364Z",
     "iopub.status.idle": "2020-05-19T09:49:08.950042Z",
     "shell.execute_reply": "2020-05-19T09:49:08.949632Z",
     "shell.execute_reply.started": "2020-05-19T09:49:08.947594Z"
    }
   },
   "source": [
    "## dag extra"
   ]
  },
  {
   "cell_type": "code",
   "execution_count": 3,
   "metadata": {
    "execution": {
     "iopub.execute_input": "2020-05-21T16:56:26.036040Z",
     "iopub.status.busy": "2020-05-21T16:56:26.035891Z",
     "iopub.status.idle": "2020-05-21T16:56:26.044909Z",
     "shell.execute_reply": "2020-05-21T16:56:26.044492Z",
     "shell.execute_reply.started": "2020-05-21T16:56:26.036016Z"
    }
   },
   "outputs": [],
   "source": [
    "#export\n",
    "def dw_cycle_param(func, **context):\n",
    "    prev_results = next(upstream_results(**context))\n",
    "    aux_cfg_files = prev_results['configs']\n",
    "    gpus = parse_pool(context['ti'].pool)\n",
    "    return func(aux_cfg_files=aux_cfg_files, gpus=gpus)\n",
    "\n",
    "def dw_bo_param(func, **context):\n",
    "    results = pull_results(**context)\n",
    "    all_hp_points = []\n",
    "    for task_id, r in results.items():\n",
    "        if r:\n",
    "            all_hp_points.append({'points':r['state'], 'target':r['docker_results']['metric']})  \n",
    "    \n",
    "    prev_results = next(upstream_results(**context))\n",
    "    aux_cfg_files = prev_results['configs']\n",
    "    gpus = parse_pool(context['ti'].pool)\n",
    "    idx = cfg.GPUS.IDS.index(int(gpus))# wont work with single exp on multiple gpus!\n",
    "    return func(aux_cfg_files=aux_cfg_files, gpus=gpus, hp_points=all_hp_points, idx=idx)\n",
    "\n",
    "def dw_pooling(num=1, **context):\n",
    "    key = 'metric'\n",
    "    res = {}\n",
    "    for r in upstream_results(**context):\n",
    "        res[r['docker_results'][key]] = r['configs']\n",
    "    res = sorted(res.items(), key=lambda x: x[0], reverse=True)\n",
    "    res = res[:num]\n",
    "    best_docker_results = [r[0] for r in res]\n",
    "    best_configs = [r[1] for r in res]\n",
    "    print(f'\\n\\tPooling: best result : {best_docker_results}, {best_configs}\\n')\n",
    "    return [{'configs':best_config} for best_config in best_configs]\n",
    "\n",
    "def dw_dist(idx=None, **context):\n",
    "    res = list(upstream_results(**context))[0][idx]\n",
    "    return res\n",
    "\n",
    "def distribute(name, num):\n",
    "    tasks = []\n",
    "    for i in range(num):\n",
    "        task_name = f'distribute_{name}_{i}'\n",
    "        tasks.append(create_task(task_name, dw_dist, op_kwargs={'idx':i}))\n",
    "    return tasks\n",
    "        \n",
    "def block_optimize(n, name, func, dw_param):\n",
    "    tasks = []\n",
    "    gpus_avail = cycle(cfg.GPUS.IDS)\n",
    "        \n",
    "    for i in range(n):\n",
    "        gpu = next(gpus_avail)\n",
    "        task_name = f'{name}_{i}'\n",
    "        pool = cfg.DAG.POOL_PREFIX + str(gpu)\n",
    "        \n",
    "        block_func = partial(func, seq_id=i, name=task_name)\n",
    "        task = create_task(task_name, dw_param, pool=pool, op_kwargs={'func':block_func}) \n",
    "        tasks.append(task) \n",
    "    return tasks"
   ]
  },
  {
   "cell_type": "markdown",
   "metadata": {
    "execution": {
     "iopub.execute_input": "2020-05-20T18:07:34.399048Z",
     "iopub.status.busy": "2020-05-20T18:07:34.398589Z",
     "iopub.status.idle": "2020-05-20T18:07:34.402571Z",
     "shell.execute_reply": "2020-05-20T18:07:34.402023Z",
     "shell.execute_reply.started": "2020-05-20T18:07:34.399000Z"
    }
   },
   "source": [
    "# Tests"
   ]
  },
  {
   "cell_type": "markdown",
   "metadata": {
    "collapsed": "true",
    "execution": {
     "iopub.execute_input": "2020-05-18T09:37:06.369254Z",
     "iopub.status.busy": "2020-05-18T09:37:06.368952Z",
     "iopub.status.idle": "2020-05-18T09:37:06.371993Z",
     "shell.execute_reply": "2020-05-18T09:37:06.371581Z",
     "shell.execute_reply.started": "2020-05-18T09:37:06.369212Z"
    }
   },
   "source": [
    "## random search"
   ]
  },
  {
   "cell_type": "markdown",
   "metadata": {
    "collapsed": "true",
    "execution": {
     "iopub.execute_input": "2020-05-20T14:04:14.253310Z",
     "iopub.status.busy": "2020-05-20T14:04:14.253022Z",
     "iopub.status.idle": "2020-05-20T14:04:14.255955Z",
     "shell.execute_reply": "2020-05-20T14:04:14.255456Z",
     "shell.execute_reply.started": "2020-05-20T14:04:14.253271Z"
    }
   },
   "source": [
    "### chain"
   ]
  },
  {
   "cell_type": "code",
   "execution_count": 4,
   "metadata": {
    "execution": {
     "iopub.execute_input": "2020-05-21T16:56:26.045622Z",
     "iopub.status.busy": "2020-05-21T16:56:26.045477Z",
     "iopub.status.idle": "2020-05-21T16:56:26.051139Z",
     "shell.execute_reply": "2020-05-21T16:56:26.050730Z",
     "shell.execute_reply.started": "2020-05-21T16:56:26.045599Z"
    }
   },
   "outputs": [
    {
     "data": {
      "text/plain": [
       "<Task(PythonOperator): rs_mut_0>"
      ]
     },
     "execution_count": 4,
     "metadata": {},
     "output_type": "execute_result"
    }
   ],
   "source": [
    "t1 = block_optimize(1, 'rs_exp', cycle_exp, dw_cycle_param)\n",
    "t2 = block_optimize(1, 'rs_mut', cycle_mutate, dw_cycle_param)\n",
    "t1[0] >> t2[0]"
   ]
  },
  {
   "cell_type": "markdown",
   "metadata": {
    "collapsed": "true"
   },
   "source": [
    "### parallel"
   ]
  },
  {
   "cell_type": "code",
   "execution_count": 5,
   "metadata": {
    "execution": {
     "iopub.execute_input": "2020-05-21T16:56:26.051838Z",
     "iopub.status.busy": "2020-05-21T16:56:26.051694Z",
     "iopub.status.idle": "2020-05-21T16:56:26.054728Z",
     "shell.execute_reply": "2020-05-21T16:56:26.054392Z",
     "shell.execute_reply.started": "2020-05-21T16:56:26.051815Z"
    }
   },
   "outputs": [
    {
     "data": {
      "text/plain": [
       "[<Task(PythonOperator): rs_all_0>, <Task(PythonOperator): rs_all_1>]"
      ]
     },
     "execution_count": 5,
     "metadata": {},
     "output_type": "execute_result"
    }
   ],
   "source": [
    "block_optimize(2, 'rs_all', cycle_all, dw_cycle_param)"
   ]
  },
  {
   "cell_type": "markdown",
   "metadata": {
    "collapsed": "true"
   },
   "source": [
    "### parallel chains"
   ]
  },
  {
   "cell_type": "code",
   "execution_count": 6,
   "metadata": {
    "execution": {
     "iopub.execute_input": "2020-05-21T16:56:26.055460Z",
     "iopub.status.busy": "2020-05-21T16:56:26.055306Z",
     "iopub.status.idle": "2020-05-21T16:56:26.058457Z",
     "shell.execute_reply": "2020-05-21T16:56:26.058068Z",
     "shell.execute_reply.started": "2020-05-21T16:56:26.055436Z"
    }
   },
   "outputs": [],
   "source": [
    "tasks = {}\n",
    "tasks['exp'] = block_optimize(3, 'cycle_e', cycle_exp, dw_cycle_param)\n",
    "tasks['mut'] = block_optimize(3, 'cycle_m', cycle_mutate, dw_cycle_param)\n",
    "for task_e, task_m in zip(tasks['exp'], tasks['mut']):\n",
    "    task_e >> task_m"
   ]
  },
  {
   "cell_type": "markdown",
   "metadata": {
    "collapsed": "true",
    "execution": {
     "iopub.execute_input": "2020-05-20T14:08:23.162888Z",
     "iopub.status.busy": "2020-05-20T14:08:23.162595Z",
     "iopub.status.idle": "2020-05-20T14:08:23.165605Z",
     "shell.execute_reply": "2020-05-20T14:08:23.165107Z",
     "shell.execute_reply.started": "2020-05-20T14:08:23.162850Z"
    }
   },
   "source": [
    "### pooling one"
   ]
  },
  {
   "cell_type": "code",
   "execution_count": 7,
   "metadata": {
    "execution": {
     "iopub.execute_input": "2020-05-21T16:56:26.059650Z",
     "iopub.status.busy": "2020-05-21T16:56:26.059493Z",
     "iopub.status.idle": "2020-05-21T16:56:26.063626Z",
     "shell.execute_reply": "2020-05-21T16:56:26.063284Z",
     "shell.execute_reply.started": "2020-05-21T16:56:26.059625Z"
    }
   },
   "outputs": [
    {
     "data": {
      "text/plain": [
       "[<Task(PythonOperator): cycle_m_0>,\n",
       " <Task(PythonOperator): cycle_m_1>,\n",
       " <Task(PythonOperator): cycle_m_2>,\n",
       " <Task(PythonOperator): cycle_m_3>,\n",
       " <Task(PythonOperator): cycle_m_4>]"
      ]
     },
     "execution_count": 7,
     "metadata": {},
     "output_type": "execute_result"
    }
   ],
   "source": [
    "tasks = {}\n",
    "tasks['exp'] = block_optimize(3, 'cycle_e', cycle_exp, dw_cycle_param)\n",
    "pooling_task1 = create_task(f'pooling1', dw_pooling) \n",
    "tasks['exp'] >> pooling_task1\n",
    "\n",
    "tasks['mut'] = block_optimize(5, 'cycle_m', cycle_mutate, dw_cycle_param)\n",
    "pooling_task1 >> tasks['mut']"
   ]
  },
  {
   "cell_type": "markdown",
   "metadata": {
    "collapsed": "true",
    "execution": {
     "iopub.execute_input": "2020-05-20T14:09:51.518436Z",
     "iopub.status.busy": "2020-05-20T14:09:51.518147Z",
     "iopub.status.idle": "2020-05-20T14:09:51.521061Z",
     "shell.execute_reply": "2020-05-20T14:09:51.520632Z",
     "shell.execute_reply.started": "2020-05-20T14:09:51.518400Z"
    }
   },
   "source": [
    "### pooling many"
   ]
  },
  {
   "cell_type": "code",
   "execution_count": 8,
   "metadata": {
    "execution": {
     "iopub.execute_input": "2020-05-21T16:56:26.064633Z",
     "iopub.status.busy": "2020-05-21T16:56:26.064474Z",
     "iopub.status.idle": "2020-05-21T16:56:26.068307Z",
     "shell.execute_reply": "2020-05-21T16:56:26.067969Z",
     "shell.execute_reply.started": "2020-05-21T16:56:26.064608Z"
    }
   },
   "outputs": [],
   "source": [
    "tasks = {}\n",
    "#block_optimize(50, 'cycle_all', cycle_all, dw_cycle_param)\n",
    "tasks['exp'] = block_optimize(3, 'cycle_e', cycle_exp, dw_cycle_param)\n",
    "n_pooling = 2\n",
    "pooling_task1 = create_task(f'pooling_{n_pooling}_best', partial(dw_pooling, num=n_pooling))\n",
    "tasks['exp'] >> pooling_task1\n",
    "\n",
    "dist_tasks = distribute('best_exp', n_pooling)\n",
    "pooling_task1 >> dist_tasks\n",
    "\n",
    "mut_tasks = block_optimize(5, 'cycle_m', cycle_mutate, dw_cycle_param)\n",
    "for task_d, task_mut in zip(dist_tasks, chunker_list(mut_tasks, n_pooling)):\n",
    "    task_d >> task_mut"
   ]
  },
  {
   "cell_type": "markdown",
   "metadata": {
    "collapsed": "true",
    "execution": {
     "iopub.execute_input": "2020-05-20T14:14:06.666487Z",
     "iopub.status.busy": "2020-05-20T14:14:06.666200Z",
     "iopub.status.idle": "2020-05-20T14:14:06.669049Z",
     "shell.execute_reply": "2020-05-20T14:14:06.668582Z",
     "shell.execute_reply.started": "2020-05-20T14:14:06.666451Z"
    }
   },
   "source": [
    "### general one"
   ]
  },
  {
   "cell_type": "code",
   "execution_count": 9,
   "metadata": {
    "execution": {
     "iopub.execute_input": "2020-05-21T16:56:26.069008Z",
     "iopub.status.busy": "2020-05-21T16:56:26.068866Z",
     "iopub.status.idle": "2020-05-21T16:56:26.077299Z",
     "shell.execute_reply": "2020-05-21T16:56:26.076895Z",
     "shell.execute_reply.started": "2020-05-21T16:56:26.068986Z"
    }
   },
   "outputs": [
    {
     "data": {
      "text/plain": [
       "[<Task(PythonOperator): cycle_co_0>,\n",
       " <Task(PythonOperator): cycle_co_1>,\n",
       " <Task(PythonOperator): cycle_co_2>,\n",
       " <Task(PythonOperator): cycle_co_3>,\n",
       " <Task(PythonOperator): cycle_co_4>]"
      ]
     },
     "execution_count": 9,
     "metadata": {},
     "output_type": "execute_result"
    }
   ],
   "source": [
    "\n",
    "tasks = {}\n",
    "tasks['all'] = block_optimize(10, 'cycle_all', cycle_all, dw_cycle_param)\n",
    "\n",
    "dist_num = 5\n",
    "pooling_task1 = create_task(f'pooling_{dist_num}_best1', partial(dw_pooling, num=dist_num))\n",
    "tasks['all'] >> pooling_task1\n",
    "\n",
    "dist_tasks = distribute('best_all', dist_num)\n",
    "pooling_task1 >> dist_tasks\n",
    "\n",
    "tasks['mut'] = block_optimize(25, 'cycle_m', cycle_mutate, dw_cycle_param)\n",
    "for dt, mt in zip(dist_tasks, chunker_list(tasks['mut'], dist_num)):\n",
    "    dt >> mt\n",
    "\n",
    "pooling_task2 = create_task(f'pooling_{dist_num}_best2', partial(dw_pooling, num=dist_num))\n",
    "tasks['mut'] >> pooling_task2\n",
    "\n",
    "dist_tasks2 = distribute('best_mut', dist_num)\n",
    "pooling_task2 >> dist_tasks2\n",
    "\n",
    "\n",
    "tasks['cr'] = block_optimize(10, 'cycle_cr', cycle_crossover, dw_cycle_param)\n",
    "for dt, mt in zip(dist_tasks2, chunker_list(tasks['cr'], dist_num)):\n",
    "    dt >> mt\n",
    "\n",
    "pooling_task3 = create_task(f'pooling3', dw_pooling) \n",
    "tasks['cr'] >> pooling_task3\n",
    "\n",
    "tasks['co'] = block_optimize(5, 'cycle_co', cycle_combine, dw_cycle_param)\n",
    "pooling_task3 >> tasks['co']\n"
   ]
  },
  {
   "cell_type": "markdown",
   "metadata": {
    "execution": {
     "iopub.execute_input": "2020-05-18T09:37:20.560749Z",
     "iopub.status.busy": "2020-05-18T09:37:20.560436Z",
     "iopub.status.idle": "2020-05-18T09:37:20.563678Z",
     "shell.execute_reply": "2020-05-18T09:37:20.563095Z",
     "shell.execute_reply.started": "2020-05-18T09:37:20.560712Z"
    }
   },
   "source": [
    "## bo"
   ]
  },
  {
   "cell_type": "code",
   "execution_count": 10,
   "metadata": {
    "execution": {
     "iopub.execute_input": "2020-05-21T16:56:26.077971Z",
     "iopub.status.busy": "2020-05-21T16:56:26.077827Z",
     "iopub.status.idle": "2020-05-21T16:56:26.081880Z",
     "shell.execute_reply": "2020-05-21T16:56:26.081523Z",
     "shell.execute_reply.started": "2020-05-21T16:56:26.077947Z"
    }
   },
   "outputs": [
    {
     "data": {
      "text/plain": [
       "<Task(PythonOperator): pooling1>"
      ]
     },
     "execution_count": 10,
     "metadata": {},
     "output_type": "execute_result"
    }
   ],
   "source": [
    "#export\n",
    "tasks_bo_all = block_optimize(80, 'bo_all', bo_all, dw_bo_param)\n",
    "\n",
    "pooling_task1 = create_task(f'pooling1', dw_pooling) \n",
    "tasks_bo_all >> pooling_task1\n"
   ]
  },
  {
   "cell_type": "code",
   "execution_count": null,
   "metadata": {},
   "outputs": [],
   "source": []
  },
  {
   "cell_type": "markdown",
   "metadata": {
    "collapsed": "true",
    "execution": {
     "iopub.execute_input": "2020-05-18T10:18:14.029858Z",
     "iopub.status.busy": "2020-05-18T10:18:14.029550Z",
     "iopub.status.idle": "2020-05-18T10:18:14.032891Z",
     "shell.execute_reply": "2020-05-18T10:18:14.032349Z",
     "shell.execute_reply.started": "2020-05-18T10:18:14.029821Z"
    }
   },
   "source": [
    "# More tests"
   ]
  },
  {
   "cell_type": "code",
   "execution_count": 11,
   "metadata": {
    "execution": {
     "iopub.execute_input": "2020-05-21T16:56:26.082595Z",
     "iopub.status.busy": "2020-05-21T16:56:26.082450Z",
     "iopub.status.idle": "2020-05-21T16:56:26.084955Z",
     "shell.execute_reply": "2020-05-21T16:56:26.084599Z",
     "shell.execute_reply.started": "2020-05-21T16:56:26.082572Z"
    }
   },
   "outputs": [],
   "source": [
    "#export\n",
    "from airflow.models import TaskInstance\n",
    "from datetime import datetime\n",
    "import json\n",
    "from pprint import pprint"
   ]
  },
  {
   "cell_type": "code",
   "execution_count": 12,
   "metadata": {
    "execution": {
     "iopub.execute_input": "2020-05-21T16:56:26.085624Z",
     "iopub.status.busy": "2020-05-21T16:56:26.085484Z",
     "iopub.status.idle": "2020-05-21T16:56:26.090042Z",
     "shell.execute_reply": "2020-05-21T16:56:26.089627Z",
     "shell.execute_reply.started": "2020-05-21T16:56:26.085601Z"
    }
   },
   "outputs": [],
   "source": [
    "\n",
    "def test1(**context):\n",
    "    pprint(context)\n",
    "    return 55\n",
    "\n",
    "def test2(**context):\n",
    "    pprint(context)\n",
    "    pprint(pull_results2(**context))\n",
    "    return 999\n",
    "\n",
    "\n",
    "def pull_results2(**context):\n",
    "    results = None\n",
    "    if context is not None:\n",
    "        task = context['task']\n",
    "        dag = context['dag']\n",
    "        task_ids = dag.task_ids\n",
    "        #task_ids = task.upstream_task_ids\n",
    "        for task_id in task_ids:\n",
    "            print(task_id)\n",
    "            xc = context['ti'].xcom_pull(task_ids=task_id)\n",
    "            print(xc)\n",
    "            \n",
    "        results = {task_id:context['ti'].xcom_pull(task_ids=task_id) for task_id in task_ids}\n",
    "    return results\n",
    "\n",
    "task1 = base_task_generator('test1', test1, dag)\n",
    "task2 = base_task_generator('test2', test2, dag)\n",
    "#task1 >> task2\n"
   ]
  },
  {
   "cell_type": "code",
   "execution_count": 13,
   "metadata": {
    "execution": {
     "iopub.execute_input": "2020-05-21T16:56:26.090768Z",
     "iopub.status.busy": "2020-05-21T16:56:26.090615Z",
     "iopub.status.idle": "2020-05-21T16:56:26.653632Z",
     "shell.execute_reply": "2020-05-21T16:56:26.653039Z",
     "shell.execute_reply.started": "2020-05-21T16:56:26.090744Z"
    }
   },
   "outputs": [
    {
     "name": "stdout",
     "output_type": "stream",
     "text": [
      "{'END_DATE': '2020-05-21',\n",
      " 'conf': <airflow.configuration.AirflowConfigParser object at 0x7f87a38d02b0>,\n",
      " 'dag': <DAG: dhpo2>,\n",
      " 'dag_run': None,\n",
      " 'ds': '2020-05-21',\n",
      " 'ds_nodash': '20200521',\n",
      " 'end_date': '2020-05-21',\n",
      " 'execution_date': <Pendulum [2020-05-21T19:56:26.092923+00:00]>,\n",
      " 'inlets': [],\n",
      " 'latest_date': '2020-05-21',\n",
      " 'macros': <module 'airflow.macros' from '/home/sokolov/.local/lib/python3.6/site-packages/airflow/macros/__init__.py'>,\n",
      " 'next_ds': '2020-05-21',\n",
      " 'next_ds_nodash': '20200521',\n",
      " 'next_execution_date': <Pendulum [2020-05-21T22:00:00+00:00]>,\n",
      " 'outlets': [],\n",
      " 'params': {},\n",
      " 'prev_ds': '2020-05-20',\n",
      " 'prev_ds_nodash': '20200520',\n",
      " 'prev_execution_date': <Pendulum [2020-05-20T22:00:00+00:00]>,\n",
      " 'prev_execution_date_success': <Proxy at 0x7f878ab18cc8 with factory <function TaskInstance.get_template_context.<locals>.<lambda> at 0x7f878ab02488>>,\n",
      " 'prev_start_date_success': <Proxy at 0x7f878ab18d08 with factory <function TaskInstance.get_template_context.<locals>.<lambda> at 0x7f878ab02620>>,\n",
      " 'run_id': None,\n",
      " 'tables': None,\n",
      " 'task': <Task(PythonOperator): test2>,\n",
      " 'task_instance': <TaskInstance: dhpo2.test2 2020-05-21 19:56:26.092923+00:00 [None]>,\n",
      " 'task_instance_key_str': 'dhpo2__test2__20200521',\n",
      " 'templates_dict': None,\n",
      " 'test_mode': False,\n",
      " 'ti': <TaskInstance: dhpo2.test2 2020-05-21 19:56:26.092923+00:00 [None]>,\n",
      " 'tomorrow_ds': '2020-05-22',\n",
      " 'tomorrow_ds_nodash': '20200522',\n",
      " 'ts': '2020-05-21T19:56:26.092923+00:00',\n",
      " 'ts_nodash': '20200521T195626',\n",
      " 'ts_nodash_with_tz': '20200521T195626.092923+0000',\n",
      " 'var': {'json': None, 'value': None},\n",
      " 'yesterday_ds': '2020-05-20',\n",
      " 'yesterday_ds_nodash': '20200520'}\n",
      "rs_exp_0\n",
      "None\n",
      "rs_mut_0\n",
      "None\n",
      "rs_all_0\n",
      "None\n",
      "rs_all_1\n",
      "None\n",
      "cycle_e_0\n",
      "None\n",
      "cycle_e_1\n",
      "None\n",
      "cycle_e_2\n",
      "None\n",
      "cycle_m_0\n",
      "None\n",
      "cycle_m_1\n",
      "None\n",
      "cycle_m_2\n",
      "None\n",
      "pooling1\n",
      "None\n",
      "cycle_m_3\n",
      "None\n",
      "cycle_m_4\n",
      "None\n",
      "pooling_2_best\n",
      "None\n",
      "distribute_best_exp_0\n",
      "None\n",
      "distribute_best_exp_1\n",
      "None\n",
      "cycle_all_0\n",
      "None\n",
      "cycle_all_1\n",
      "None\n",
      "cycle_all_2\n",
      "None\n",
      "cycle_all_3\n",
      "None\n",
      "cycle_all_4\n",
      "None\n",
      "cycle_all_5\n",
      "None\n",
      "cycle_all_6\n",
      "None\n",
      "cycle_all_7\n",
      "None\n",
      "cycle_all_8\n",
      "None\n",
      "cycle_all_9\n",
      "None\n",
      "pooling_5_best1\n",
      "None\n",
      "distribute_best_all_0\n",
      "None\n",
      "distribute_best_all_1\n",
      "None\n",
      "distribute_best_all_2\n",
      "None\n",
      "distribute_best_all_3\n",
      "None\n",
      "distribute_best_all_4\n",
      "None\n",
      "cycle_m_5\n",
      "None\n",
      "cycle_m_6\n",
      "None\n",
      "cycle_m_7\n",
      "None\n",
      "cycle_m_8\n",
      "None\n",
      "cycle_m_9\n",
      "None\n",
      "cycle_m_10\n",
      "None\n",
      "cycle_m_11\n",
      "None\n",
      "cycle_m_12\n",
      "None\n",
      "cycle_m_13\n",
      "None\n",
      "cycle_m_14\n",
      "None\n",
      "cycle_m_15\n",
      "None\n",
      "cycle_m_16\n",
      "None\n",
      "cycle_m_17\n",
      "None\n",
      "cycle_m_18\n",
      "None\n",
      "cycle_m_19\n",
      "None\n",
      "cycle_m_20\n",
      "None\n",
      "cycle_m_21\n",
      "None\n",
      "cycle_m_22\n",
      "None\n",
      "cycle_m_23\n",
      "None\n",
      "cycle_m_24\n",
      "None\n",
      "pooling_5_best2\n",
      "None\n",
      "distribute_best_mut_0\n",
      "None\n",
      "distribute_best_mut_1\n",
      "None\n",
      "distribute_best_mut_2\n",
      "None\n",
      "distribute_best_mut_3\n",
      "None\n",
      "distribute_best_mut_4\n",
      "None\n",
      "cycle_cr_0\n",
      "None\n",
      "cycle_cr_1\n",
      "None\n",
      "cycle_cr_2\n",
      "None\n",
      "cycle_cr_3\n",
      "None\n",
      "cycle_cr_4\n",
      "None\n",
      "cycle_cr_5\n",
      "None\n",
      "cycle_cr_6\n",
      "None\n",
      "cycle_cr_7\n",
      "None\n",
      "cycle_cr_8\n",
      "None\n",
      "cycle_cr_9\n",
      "None\n",
      "pooling3\n",
      "None\n",
      "cycle_co_0\n",
      "None\n",
      "cycle_co_1\n",
      "None\n",
      "cycle_co_2\n",
      "None\n",
      "cycle_co_3\n",
      "None\n",
      "cycle_co_4\n",
      "None\n",
      "bo_all_0\n",
      "None\n",
      "bo_all_1\n",
      "None\n",
      "bo_all_2\n",
      "None\n",
      "bo_all_3\n",
      "None\n",
      "bo_all_4\n",
      "None\n",
      "bo_all_5\n",
      "None\n",
      "bo_all_6\n",
      "None\n",
      "bo_all_7\n",
      "None\n",
      "bo_all_8\n",
      "None\n",
      "bo_all_9\n",
      "None\n",
      "bo_all_10\n",
      "None\n",
      "bo_all_11\n",
      "None\n",
      "bo_all_12\n",
      "None\n",
      "bo_all_13\n",
      "None\n",
      "bo_all_14\n",
      "None\n",
      "bo_all_15\n",
      "None\n",
      "bo_all_16\n",
      "None\n",
      "bo_all_17\n",
      "None\n",
      "bo_all_18\n",
      "None\n",
      "bo_all_19\n",
      "None\n",
      "bo_all_20\n",
      "None\n",
      "test1\n",
      "None\n",
      "test2\n",
      "None\n",
      "{'bo_all_0': None,\n",
      " 'bo_all_1': None,\n",
      " 'bo_all_10': None,\n",
      " 'bo_all_11': None,\n",
      " 'bo_all_12': None,\n",
      " 'bo_all_13': None,\n",
      " 'bo_all_14': None,\n",
      " 'bo_all_15': None,\n",
      " 'bo_all_16': None,\n",
      " 'bo_all_17': None,\n",
      " 'bo_all_18': None,\n",
      " 'bo_all_19': None,\n",
      " 'bo_all_2': None,\n",
      " 'bo_all_20': None,\n",
      " 'bo_all_3': None,\n",
      " 'bo_all_4': None,\n",
      " 'bo_all_5': None,\n",
      " 'bo_all_6': None,\n",
      " 'bo_all_7': None,\n",
      " 'bo_all_8': None,\n",
      " 'bo_all_9': None,\n",
      " 'cycle_all_0': None,\n",
      " 'cycle_all_1': None,\n",
      " 'cycle_all_2': None,\n",
      " 'cycle_all_3': None,\n",
      " 'cycle_all_4': None,\n",
      " 'cycle_all_5': None,\n",
      " 'cycle_all_6': None,\n",
      " 'cycle_all_7': None,\n",
      " 'cycle_all_8': None,\n",
      " 'cycle_all_9': None,\n",
      " 'cycle_co_0': None,\n",
      " 'cycle_co_1': None,\n",
      " 'cycle_co_2': None,\n",
      " 'cycle_co_3': None,\n",
      " 'cycle_co_4': None,\n",
      " 'cycle_cr_0': None,\n",
      " 'cycle_cr_1': None,\n",
      " 'cycle_cr_2': None,\n",
      " 'cycle_cr_3': None,\n",
      " 'cycle_cr_4': None,\n",
      " 'cycle_cr_5': None,\n",
      " 'cycle_cr_6': None,\n",
      " 'cycle_cr_7': None,\n",
      " 'cycle_cr_8': None,\n",
      " 'cycle_cr_9': None,\n",
      " 'cycle_e_0': None,\n",
      " 'cycle_e_1': None,\n",
      " 'cycle_e_2': None,\n",
      " 'cycle_m_0': None,\n",
      " 'cycle_m_1': None,\n",
      " 'cycle_m_10': None,\n",
      " 'cycle_m_11': None,\n",
      " 'cycle_m_12': None,\n",
      " 'cycle_m_13': None,\n",
      " 'cycle_m_14': None,\n",
      " 'cycle_m_15': None,\n",
      " 'cycle_m_16': None,\n",
      " 'cycle_m_17': None,\n",
      " 'cycle_m_18': None,\n",
      " 'cycle_m_19': None,\n",
      " 'cycle_m_2': None,\n",
      " 'cycle_m_20': None,\n",
      " 'cycle_m_21': None,\n",
      " 'cycle_m_22': None,\n",
      " 'cycle_m_23': None,\n",
      " 'cycle_m_24': None,\n",
      " 'cycle_m_3': None,\n",
      " 'cycle_m_4': None,\n",
      " 'cycle_m_5': None,\n",
      " 'cycle_m_6': None,\n",
      " 'cycle_m_7': None,\n",
      " 'cycle_m_8': None,\n",
      " 'cycle_m_9': None,\n",
      " 'distribute_best_all_0': None,\n",
      " 'distribute_best_all_1': None,\n",
      " 'distribute_best_all_2': None,\n",
      " 'distribute_best_all_3': None,\n",
      " 'distribute_best_all_4': None,\n",
      " 'distribute_best_exp_0': None,\n",
      " 'distribute_best_exp_1': None,\n",
      " 'distribute_best_mut_0': None,\n",
      " 'distribute_best_mut_1': None,\n",
      " 'distribute_best_mut_2': None,\n",
      " 'distribute_best_mut_3': None,\n",
      " 'distribute_best_mut_4': None,\n",
      " 'pooling1': None,\n",
      " 'pooling3': None,\n",
      " 'pooling_2_best': None,\n",
      " 'pooling_5_best1': None,\n",
      " 'pooling_5_best2': None,\n",
      " 'rs_all_0': None,\n",
      " 'rs_all_1': None,\n",
      " 'rs_exp_0': None,\n",
      " 'rs_mut_0': None,\n",
      " 'test1': None,\n",
      " 'test2': None}\n"
     ]
    },
    {
     "data": {
      "text/plain": [
       "999"
      ]
     },
     "execution_count": 13,
     "metadata": {},
     "output_type": "execute_result"
    }
   ],
   "source": [
    "ti = TaskInstance(task=task2, execution_date=datetime.now())\n",
    "ctxt = ti.get_template_context()\n",
    "task2.execute(context=ctxt)"
   ]
  },
  {
   "cell_type": "code",
   "execution_count": 14,
   "metadata": {
    "execution": {
     "iopub.execute_input": "2020-05-21T16:56:26.654732Z",
     "iopub.status.busy": "2020-05-21T16:56:26.654541Z",
     "iopub.status.idle": "2020-05-21T16:56:26.785921Z",
     "shell.execute_reply": "2020-05-21T16:56:26.784015Z",
     "shell.execute_reply.started": "2020-05-21T16:56:26.654701Z"
    }
   },
   "outputs": [
    {
     "ename": "AttributeError",
     "evalue": "'datetime.datetime' object has no attribute 'task_ids'",
     "output_type": "error",
     "traceback": [
      "\u001b[0;31m--------------------------------------------------------------\u001b[0m",
      "\u001b[0;31mAttributeError\u001b[0m               Traceback (most recent call last)",
      "\u001b[0;32m<ipython-input-14-fd17a56ac474>\u001b[0m in \u001b[0;36m<module>\u001b[0;34m\u001b[0m\n\u001b[0;32m----> 1\u001b[0;31m \u001b[0md\u001b[0m\u001b[0;34m.\u001b[0m\u001b[0mtask_ids\u001b[0m\u001b[0;34m\u001b[0m\u001b[0;34m\u001b[0m\u001b[0m\n\u001b[0m",
      "\u001b[0;31mAttributeError\u001b[0m: 'datetime.datetime' object has no attribute 'task_ids'"
     ]
    }
   ],
   "source": [
    "d.task_ids"
   ]
  },
  {
   "cell_type": "code",
   "execution_count": null,
   "metadata": {
    "execution": {
     "iopub.status.busy": "2020-05-21T16:56:26.787052Z",
     "iopub.status.idle": "2020-05-21T16:56:26.787351Z"
    }
   },
   "outputs": [],
   "source": [
    "d = ctxt['dag']\n",
    "t = d.task_dict['test2']\n",
    "t.xcom_pull(ctxt)"
   ]
  },
  {
   "cell_type": "code",
   "execution_count": null,
   "metadata": {
    "execution": {
     "iopub.status.busy": "2020-05-21T16:56:26.788144Z",
     "iopub.status.idle": "2020-05-21T16:56:26.788384Z"
    }
   },
   "outputs": [],
   "source": [
    "task2.xcom_push(ctxt, 'test',13)"
   ]
  },
  {
   "cell_type": "code",
   "execution_count": null,
   "metadata": {
    "execution": {
     "iopub.status.busy": "2020-05-21T16:56:26.789185Z",
     "iopub.status.idle": "2020-05-21T16:56:26.789406Z"
    }
   },
   "outputs": [],
   "source": [
    "task1.xcom_pull(ctxt)"
   ]
  },
  {
   "cell_type": "code",
   "execution_count": null,
   "metadata": {
    "execution": {
     "iopub.status.busy": "2020-05-21T16:56:26.790118Z",
     "iopub.status.idle": "2020-05-21T16:56:26.790345Z"
    }
   },
   "outputs": [],
   "source": [
    "ti.pool, ti.current_state()"
   ]
  },
  {
   "cell_type": "code",
   "execution_count": null,
   "metadata": {
    "execution": {
     "iopub.status.busy": "2020-05-21T16:56:26.790957Z",
     "iopub.status.idle": "2020-05-21T16:56:26.791172Z"
    }
   },
   "outputs": [],
   "source": [
    "ti = TaskInstance(task=task1, execution_date=datetime.now())\n",
    "task1.execute(context=ti.get_template_context())\n",
    "ti.pool, ti.current_state()"
   ]
  },
  {
   "cell_type": "code",
   "execution_count": null,
   "metadata": {
    "execution": {
     "iopub.status.busy": "2020-05-21T16:56:26.791895Z",
     "iopub.status.idle": "2020-05-21T16:56:26.792114Z"
    }
   },
   "outputs": [],
   "source": [
    "ti.pool, ti.current_state()"
   ]
  },
  {
   "cell_type": "code",
   "execution_count": null,
   "metadata": {},
   "outputs": [],
   "source": []
  },
  {
   "cell_type": "code",
   "execution_count": null,
   "metadata": {},
   "outputs": [],
   "source": []
  },
  {
   "cell_type": "code",
   "execution_count": null,
   "metadata": {
    "execution": {
     "iopub.status.busy": "2020-05-21T16:56:26.792897Z",
     "iopub.status.idle": "2020-05-21T16:56:26.793115Z"
    }
   },
   "outputs": [],
   "source": [
    "def task_state(args):\n",
    "    dag = get_dag(args)\n",
    "    task = dag.get_task(task_id=args.task_id)\n",
    "    ti = TaskInstance(task, args.execution_date)\n",
    "    print(ti.current_state())"
   ]
  },
  {
   "cell_type": "code",
   "execution_count": null,
   "metadata": {},
   "outputs": [],
   "source": []
  },
  {
   "cell_type": "markdown",
   "metadata": {},
   "source": [
    "# Export"
   ]
  },
  {
   "cell_type": "code",
   "execution_count": 15,
   "metadata": {
    "execution": {
     "iopub.execute_input": "2020-05-21T16:56:49.735154Z",
     "iopub.status.busy": "2020-05-21T16:56:49.734834Z",
     "iopub.status.idle": "2020-05-21T16:56:49.928105Z",
     "shell.execute_reply": "2020-05-21T16:56:49.927254Z",
     "shell.execute_reply.started": "2020-05-21T16:56:49.735114Z"
    }
   },
   "outputs": [
    {
     "name": "stdout",
     "output_type": "stream",
     "text": [
      "Converted dag.ipynb to exp/nb_dag.py\n"
     ]
    }
   ],
   "source": [
    "!python3 extra/n2s.py dag.ipynb"
   ]
  },
  {
   "cell_type": "code",
   "execution_count": 16,
   "metadata": {
    "execution": {
     "iopub.execute_input": "2020-05-21T16:56:50.415377Z",
     "iopub.status.busy": "2020-05-21T16:56:50.415119Z",
     "iopub.status.idle": "2020-05-21T16:56:52.495885Z",
     "shell.execute_reply": "2020-05-21T16:56:52.495100Z",
     "shell.execute_reply.started": "2020-05-21T16:56:50.415344Z"
    }
   },
   "outputs": [
    {
     "name": "stdout",
     "output_type": "stream",
     "text": [
      "[2020-05-21 19:56:51,393] {__init__.py:51} INFO - Using executor LocalExecutor\n",
      "[2020-05-21 19:56:51,394] {dagbag.py:396} INFO - Filling up the DagBag from /home/sokolov/airflow/dags\n",
      "[2020-05-21 19:56:51,395] {dagbag.py:396} INFO - Filling up the DagBag from /home/sokolov/work/cycler/dHPO/exp\n",
      "\n",
      "\n",
      "-------------------------------------------------------------------\n",
      "DAGS\n",
      "-------------------------------------------------------------------\n",
      "dhpo2\n",
      "\n"
     ]
    }
   ],
   "source": [
    "!airflow list_dags"
   ]
  },
  {
   "cell_type": "code",
   "execution_count": null,
   "metadata": {},
   "outputs": [],
   "source": []
  }
 ],
 "metadata": {
  "kernelspec": {
   "display_name": "Python 3",
   "language": "python",
   "name": "python3"
  },
  "language_info": {
   "codemirror_mode": {
    "name": "ipython",
    "version": 3
   },
   "file_extension": ".py",
   "mimetype": "text/x-python",
   "name": "python",
   "nbconvert_exporter": "python",
   "pygments_lexer": "ipython3",
   "version": "3.6.9"
  },
  "toc-autonumbering": false,
  "toc-showcode": false,
  "toc-showmarkdowntxt": true,
  "toc-showtags": false
 },
 "nbformat": 4,
 "nbformat_minor": 4
}
