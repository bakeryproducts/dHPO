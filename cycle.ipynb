{
 "cells": [
  {
   "cell_type": "markdown",
   "metadata": {
    "collapsed": "true"
   },
   "source": [
    "# Imports"
   ]
  },
  {
   "cell_type": "code",
   "execution_count": 125,
   "metadata": {
    "execution": {
     "iopub.execute_input": "2020-05-22T10:36:18.259320Z",
     "iopub.status.busy": "2020-05-22T10:36:18.259055Z",
     "iopub.status.idle": "2020-05-22T10:36:18.263235Z",
     "shell.execute_reply": "2020-05-22T10:36:18.262723Z",
     "shell.execute_reply.started": "2020-05-22T10:36:18.259284Z"
    }
   },
   "outputs": [],
   "source": [
    "#export\n",
    "import os\n",
    "import sys\n",
    "sys.path.append(os.path.join(os.getcwd(),'exp'))\n",
    "\n",
    "import time\n",
    "import yaml\n",
    "import json\n",
    "import datetime\n",
    "import numpy as np\n",
    "from pathlib import Path\n",
    "from collections import OrderedDict\n",
    "\n",
    "from nb_helpers import dict_merge, create_nested"
   ]
  },
  {
   "cell_type": "code",
   "execution_count": 112,
   "metadata": {
    "execution": {
     "iopub.execute_input": "2020-05-22T10:34:56.085481Z",
     "iopub.status.busy": "2020-05-22T10:34:56.085197Z",
     "iopub.status.idle": "2020-05-22T10:34:56.088650Z",
     "shell.execute_reply": "2020-05-22T10:34:56.088051Z",
     "shell.execute_reply.started": "2020-05-22T10:34:56.085446Z"
    }
   },
   "outputs": [],
   "source": [
    "import matplotlib.pyplot as plt\n",
    "#%matplotlib inline"
   ]
  },
  {
   "cell_type": "markdown",
   "metadata": {
    "collapsed": "true"
   },
   "source": [
    "# Code"
   ]
  },
  {
   "cell_type": "code",
   "execution_count": 114,
   "metadata": {
    "execution": {
     "iopub.execute_input": "2020-05-22T10:35:10.361090Z",
     "iopub.status.busy": "2020-05-22T10:35:10.360833Z",
     "iopub.status.idle": "2020-05-22T10:35:10.365606Z",
     "shell.execute_reply": "2020-05-22T10:35:10.365216Z",
     "shell.execute_reply.started": "2020-05-22T10:35:10.361058Z"
    }
   },
   "outputs": [],
   "source": [
    "#export\n",
    "def from_range(start, end, num, dist=None):\n",
    "    if dist is None:\n",
    "        dist = np.random.random\n",
    "    lstart, lend = np.log(start), np.log(end)\n",
    "    ar = np.logspace(lstart, lend, num, base=np.e)\n",
    "    return ar\n",
    "\n",
    "def get_dist(start, end, num, space, to_int=False):\n",
    "    if space == 'log':\n",
    "        space = np.geomspace\n",
    "    elif space == 'lin':\n",
    "        space = np.linspace\n",
    "    else:\n",
    "        raise NotImplementedError\n",
    "    arr = space(start, end, num).astype(np.float32)\n",
    "    if to_int:\n",
    "        arr = arr.astype(np.int32)\n",
    "    return arr"
   ]
  },
  {
   "cell_type": "code",
   "execution_count": 115,
   "metadata": {
    "execution": {
     "iopub.execute_input": "2020-05-22T10:35:10.544441Z",
     "iopub.status.busy": "2020-05-22T10:35:10.544215Z",
     "iopub.status.idle": "2020-05-22T10:35:10.551124Z",
     "shell.execute_reply": "2020-05-22T10:35:10.550669Z",
     "shell.execute_reply.started": "2020-05-22T10:35:10.544411Z"
    }
   },
   "outputs": [],
   "source": [
    "#export\n",
    "class Param:\n",
    "    def __init__(self, name, arr, sampling, **kwargs):\n",
    "        self.name = name\n",
    "        self.arr = arr\n",
    "        self.count = 0\n",
    "        self.sampling = sampling\n",
    "        self.type = kwargs['type']\n",
    "        \n",
    "    def __len__(self):\n",
    "        return len(self.arr)\n",
    "    \n",
    "    def __getitem__(self, i):\n",
    "        i = i%self.__len__()\n",
    "        return self.arr[i]\n",
    "    \n",
    "    def get_random(self):\n",
    "        return self.__getitem__(np.random.choice(self.__len__()))\n",
    "    \n",
    "    def safe_get_next(self):\n",
    "        val = self.__getitem__(self.count)\n",
    "        self.count = self.count+1 if self.count < self.__len__()-1 else 0\n",
    "        return val\n",
    "    \n",
    "    def get_next(self, **kwargs):\n",
    "        if self.sampling == 'random':\n",
    "            v = self.get_random()\n",
    "        elif self.sampling == 'sequential':\n",
    "            if kwargs.get('idx', None):\n",
    "                v = self.__getitem__(kwargs['idx'])\n",
    "            else:\n",
    "                v = self.safe_get_next()\n",
    "        else:\n",
    "            raise ValueError\n",
    "        \n",
    "        return self.type(v)\n",
    "    \n",
    "    def reset_count(self):\n",
    "        self.count=0\n",
    "    \n",
    "    def __repr__(self):\n",
    "        return f'Param : {self.name} | {str(self.arr)}'\n",
    "    \n",
    "    def plot(self):\n",
    "        plt.hist(self.arr, bins=10)\n",
    "    "
   ]
  },
  {
   "cell_type": "code",
   "execution_count": 143,
   "metadata": {
    "execution": {
     "iopub.execute_input": "2020-05-22T10:39:01.985735Z",
     "iopub.status.busy": "2020-05-22T10:39:01.985482Z",
     "iopub.status.idle": "2020-05-22T10:39:01.990370Z",
     "shell.execute_reply": "2020-05-22T10:39:01.989915Z",
     "shell.execute_reply.started": "2020-05-22T10:39:01.985702Z"
    }
   },
   "outputs": [],
   "source": [
    "#export\n",
    "class BaseConfigCycler:        \n",
    "    def get_values(self, idx):\n",
    "        values = {}\n",
    "        for name in self.opt_param_names:\n",
    "            kwargs = self.params[name]\n",
    "            p = Param(name=name, **kwargs)\n",
    "            values[name] = p.get_next(idx=idx)\n",
    "        return values\n",
    "\n",
    "    def to_dict(self, params):\n",
    "        d = {}\n",
    "        params = sorted(params, key=lambda x:x['name'], reverse=False)\n",
    "        for p in params:\n",
    "            d[p['name']] = {n:v for n,v in p.items() if n != 'name'}\n",
    "        return OrderedDict(d)\n",
    "    \n",
    "class Cycler(BaseConfigCycler):\n",
    "    def __init__(self, params, *args, **kwargs):\n",
    "        super(Cycler, self).__init__(*args, **kwargs)\n",
    "        self.params = self.to_dict(params)\n",
    "        self.opt_param_names = [k for k in self.params if self.params[k]['default'] is None]\n",
    "        \n",
    "    def create_state(self, idx=None):\n",
    "        new_params = self.get_values(idx)\n",
    "\n",
    "        cfg = {}\n",
    "        for name, settings in self.params.items():\n",
    "            new_value = new_params[name] if not settings['default'] else settings['default']\n",
    "            sub_cfg = create_nested(name, new_value)\n",
    "            dict_merge(cfg, sub_cfg)\n",
    "        return new_params, cfg"
   ]
  },
  {
   "cell_type": "markdown",
   "metadata": {
    "collapsed": "true"
   },
   "source": [
    "# Tests "
   ]
  },
  {
   "cell_type": "code",
   "execution_count": 145,
   "metadata": {
    "execution": {
     "iopub.execute_input": "2020-05-22T10:39:03.236689Z",
     "iopub.status.busy": "2020-05-22T10:39:03.236447Z",
     "iopub.status.idle": "2020-05-22T10:39:03.241192Z",
     "shell.execute_reply": "2020-05-22T10:39:03.240750Z",
     "shell.execute_reply.started": "2020-05-22T10:39:03.236658Z"
    }
   },
   "outputs": [],
   "source": [
    "p1 = {'name':'genom|mutate_chance',\n",
    "      'sampling':'random',\n",
    "      'arr':get_dist(start=5e-4, end=5e-3, num=500, space='lin'),\n",
    "      'default':None,\n",
    "      'type':float}\n",
    "\n",
    "p2 = {'name':'genom|combine_chance', 'arr':[4,5,6], 'sampling':'random', 'default':None, 'type':float}\n",
    "p3 = {'name':'dec_f0', 'arr':[33,488,99], 'sampling':'sequential', 'default':None, 'type':float}\n",
    "p4 = {'name':'generations', 'default':1}\n",
    "pis = [p1,p2, p3, p4]\n",
    "c = Cycler(pis)"
   ]
  },
  {
   "cell_type": "code",
   "execution_count": 146,
   "metadata": {
    "execution": {
     "iopub.execute_input": "2020-05-22T10:39:05.594583Z",
     "iopub.status.busy": "2020-05-22T10:39:05.594335Z",
     "iopub.status.idle": "2020-05-22T10:39:05.597930Z",
     "shell.execute_reply": "2020-05-22T10:39:05.597461Z",
     "shell.execute_reply.started": "2020-05-22T10:39:05.594551Z"
    }
   },
   "outputs": [
    {
     "name": "stdout",
     "output_type": "stream",
     "text": [
      "dec_f0\n",
      "generations\n",
      "genom|combine_chance\n",
      "genom|mutate_chance\n"
     ]
    }
   ],
   "source": [
    "for k,v in c.params.items():\n",
    "    print(k)"
   ]
  },
  {
   "cell_type": "code",
   "execution_count": 173,
   "metadata": {
    "execution": {
     "iopub.execute_input": "2020-05-22T10:41:12.237711Z",
     "iopub.status.busy": "2020-05-22T10:41:12.237462Z",
     "iopub.status.idle": "2020-05-22T10:41:12.241710Z",
     "shell.execute_reply": "2020-05-22T10:41:12.241009Z",
     "shell.execute_reply.started": "2020-05-22T10:41:12.237679Z"
    }
   },
   "outputs": [
    {
     "data": {
      "text/plain": [
       "({'dec_f0': 33.0,\n",
       "  'genom|combine_chance': 6.0,\n",
       "  'genom|mutate_chance': 0.0027815632056444883},\n",
       " {'dec_f0': 33.0,\n",
       "  'generations': 1,\n",
       "  'genom': {'combine_chance': 6.0, 'mutate_chance': 0.0027815632056444883}})"
      ]
     },
     "execution_count": 173,
     "metadata": {},
     "output_type": "execute_result"
    }
   ],
   "source": [
    "c.create_state()"
   ]
  },
  {
   "cell_type": "code",
   "execution_count": null,
   "metadata": {},
   "outputs": [],
   "source": []
  },
  {
   "cell_type": "markdown",
   "metadata": {},
   "source": [
    "# Export"
   ]
  },
  {
   "cell_type": "code",
   "execution_count": 176,
   "metadata": {
    "execution": {
     "iopub.execute_input": "2020-05-22T11:00:44.221736Z",
     "iopub.status.busy": "2020-05-22T11:00:44.221461Z",
     "iopub.status.idle": "2020-05-22T11:00:44.412078Z",
     "shell.execute_reply": "2020-05-22T11:00:44.411436Z",
     "shell.execute_reply.started": "2020-05-22T11:00:44.221702Z"
    }
   },
   "outputs": [
    {
     "name": "stdout",
     "output_type": "stream",
     "text": [
      "Converted cycle.ipynb to exp/nb_cycle.py\n"
     ]
    }
   ],
   "source": [
    "!python3 extra/n2s.py cycle.ipynb"
   ]
  },
  {
   "cell_type": "code",
   "execution_count": null,
   "metadata": {},
   "outputs": [],
   "source": []
  }
 ],
 "metadata": {
  "kernelspec": {
   "display_name": "Python 3",
   "language": "python",
   "name": "python3"
  },
  "language_info": {
   "codemirror_mode": {
    "name": "ipython",
    "version": 3
   },
   "file_extension": ".py",
   "mimetype": "text/x-python",
   "name": "python",
   "nbconvert_exporter": "python",
   "pygments_lexer": "ipython3",
   "version": "3.6.9"
  }
 },
 "nbformat": 4,
 "nbformat_minor": 4
}
