{
 "cells": [
  {
   "cell_type": "markdown",
   "metadata": {},
   "source": [
    "# Imports"
   ]
  },
  {
   "cell_type": "code",
   "execution_count": 1,
   "metadata": {},
   "outputs": [],
   "source": [
    "#export\n",
    "import os\n",
    "import time\n",
    "import yaml\n",
    "import json\n",
    "import datetime\n",
    "import logging\n",
    "import numpy as np\n",
    "from pathlib import Path\n",
    "from collections import namedtuple\n",
    "import matplotlib.pyplot as plt\n",
    "#%matplotlib inline"
   ]
  },
  {
   "cell_type": "code",
   "execution_count": null,
   "metadata": {},
   "outputs": [],
   "source": []
  },
  {
   "cell_type": "markdown",
   "metadata": {},
   "source": [
    "# Code"
   ]
  },
  {
   "cell_type": "code",
   "execution_count": 46,
   "metadata": {},
   "outputs": [],
   "source": [
    "#export\n",
    "def from_range(start, end, num, dist=None):\n",
    "    if dist is None:\n",
    "        dist = np.random.random\n",
    "    lstart, lend = np.log(start), np.log(end)\n",
    "    ar = np.logspace(lstart, lend, num, base=np.e)\n",
    "    return ar\n",
    "\n",
    "def get_dist(start, end, num, space, to_int=False):\n",
    "    if space == 'log':\n",
    "        space = np.geomspace\n",
    "    elif space == 'lin':\n",
    "        space = np.linspace\n",
    "    else:\n",
    "        raise NotImplementedError\n",
    "    arr = space(start, end, num).astype(np.float32)\n",
    "    if to_int:\n",
    "        arr = arr.astype(np.int32)\n",
    "    return arr\n",
    "\n",
    "def dump_state(state, path, name):\n",
    "    timestamp = '{:%Y_%b_%d_%H_%M_%S}'.format(datetime.datetime.now())\n",
    "    p = path/f'{timestamp}_{name}.yaml'\n",
    "    with open(p, 'w') as f:\n",
    "        f.write(yaml.safe_dump(state, indent=4))\n",
    "    return p\n",
    "\n",
    "def init_params(raw_params):\n",
    "    params = []\n",
    "    for kwargs in raw_params:\n",
    "        param = Param(**kwargs)\n",
    "        sampling = kwargs['sampling']\n",
    "        assert sampling == 'random' or sampling == 'sequential', sampling\n",
    "        params.append({'sampling':sampling, 'instance':param}) \n",
    "    return params"
   ]
  },
  {
   "cell_type": "code",
   "execution_count": 47,
   "metadata": {},
   "outputs": [],
   "source": [
    "#export\n",
    "class Param:\n",
    "    def __init__(self, name, arr, **kwargs):\n",
    "        self.name = name\n",
    "        self.arr = arr        \n",
    "        self.count = 0\n",
    "        \n",
    "    def __len__(self):\n",
    "        return len(self.arr)\n",
    "    \n",
    "    def __getitem__(self, i):\n",
    "        i = i%self.__len__()\n",
    "        return self.arr[i]\n",
    "    \n",
    "    def get_random(self):\n",
    "        return self.__getitem__(np.random.choice(self.__len__()))\n",
    "    \n",
    "    def safe_get_next(self):\n",
    "        val = self.__getitem__(self.count)\n",
    "        self.count = self.count+1 if self.count < self.__len__()-1 else 0\n",
    "        return val\n",
    "    \n",
    "    def get_next(self):\n",
    "        if self.count >= self.__len__():\n",
    "            raise StopIteration\n",
    "        val = self.__getitem__(self.count)\n",
    "        self.count += 1    \n",
    "        return val\n",
    "    \n",
    "    def reset_count(self):\n",
    "        self.count=0\n",
    "    \n",
    "    def __repr__(self):\n",
    "        return f'Param : {self.name} | {str(self.arr)}'\n",
    "    \n",
    "    def plot(self):\n",
    "        plt.hist(self.arr, bins=10)\n",
    "    "
   ]
  },
  {
   "cell_type": "code",
   "execution_count": 73,
   "metadata": {},
   "outputs": [],
   "source": [
    "#export\n",
    "class BaseConfigCycler:        \n",
    "    def get_values(self, params_dist, idx):\n",
    "        values = {}\n",
    "        for param in params_dist:\n",
    "            sampling = param['sampling']\n",
    "            if sampling == 'random':\n",
    "                val = param['instance'].get_random()\n",
    "            else:#elif sampling == 'sequential':\n",
    "                if idx is not None:\n",
    "                    val = param['instance'].__getitem__(idx)\n",
    "                else:\n",
    "                    val = param['instance'].safe_get_next()\n",
    "            \n",
    "            values[param['instance'].name] = val           \n",
    "        return values\n",
    "    \n",
    "    def init_map(self):\n",
    "        raise NotImplementedError\n",
    "    \n",
    "    def create_state(self, params_dist, idx=None):\n",
    "        new_params = self.get_values(params_dist, idx)\n",
    "        params_map = self.init_map()\n",
    "        cfg = {}\n",
    "        for name, (full_name, p_type, default_value) in params_map.items():\n",
    "            value = new_params.get(name, default_value)\n",
    "            if value is not np.NaN:\n",
    "                cfg[full_name] = p_type(value)\n",
    "        return cfg"
   ]
  },
  {
   "cell_type": "code",
   "execution_count": 74,
   "metadata": {},
   "outputs": [],
   "source": [
    "class Cycler(BaseConfigCycler):\n",
    "    def init_map(self):\n",
    "        return {\n",
    "            'g':('generations', int, 1),\n",
    "            \n",
    "            'e':('exp_power', int, 10),\n",
    "            'f0':('dec_f0', int, np.NaN),\n",
    "            'f1':('dec_f1', int, np.NaN),\n",
    "            'f2':('dec_f2', int, np.NaN),\n",
    "            'f3':('dec_f3', int, np.NaN),\n",
    "            'mc':('mutate_chance', float, 0.003),\n",
    "            'cc':('combine_chance', float, .6),\n",
    "            'cr':('crossover_chance', float, .5),\n",
    "            'co':('combine_chance', float, .8)\n",
    "        }"
   ]
  },
  {
   "cell_type": "code",
   "execution_count": 75,
   "metadata": {},
   "outputs": [
    {
     "data": {
      "text/plain": [
       "{'generations': 1,\n",
       " 'exp_power': 10,\n",
       " 'dec_f0': 33,\n",
       " 'mutate_chance': 0.1,\n",
       " 'combine_chance': 6.0,\n",
       " 'crossover_chance': 0.5}"
      ]
     },
     "execution_count": 75,
     "metadata": {},
     "output_type": "execute_result"
    }
   ],
   "source": [
    "p1 = {'name':'mc', 'arr':[.1,.2,.3], 'sampling':'sequential'}\n",
    "p2 = {'name':'co', 'arr':[4,5,6], 'sampling':'random'}\n",
    "p3 = {'name':'f0', 'arr':[33,488,99], 'sampling':'sequential'}\n",
    "pis = [p1,p2, p3]\n",
    "params_dist = init_params(pis)\n",
    "c = Cycler()\n",
    "c.create_state(params_dist=params_dist)"
   ]
  },
  {
   "cell_type": "code",
   "execution_count": 81,
   "metadata": {},
   "outputs": [
    {
     "data": {
      "text/plain": [
       "{'generations': 1,\n",
       " 'exp_power': 10,\n",
       " 'dec_f0': 33,\n",
       " 'mutate_chance': 0.1,\n",
       " 'combine_chance': 5.0,\n",
       " 'crossover_chance': 0.5}"
      ]
     },
     "execution_count": 81,
     "metadata": {},
     "output_type": "execute_result"
    }
   ],
   "source": [
    "c.create_state(params_dist=params_dist)"
   ]
  },
  {
   "cell_type": "code",
   "execution_count": 101,
   "metadata": {},
   "outputs": [
    {
     "data": {
      "text/plain": [
       "{'generations': 1,\n",
       " 'exp_power': 10,\n",
       " 'dec_f0': 33,\n",
       " 'mutate_chance': 0.1,\n",
       " 'combine_chance': 4.0,\n",
       " 'crossover_chance': 0.5}"
      ]
     },
     "execution_count": 101,
     "metadata": {},
     "output_type": "execute_result"
    }
   ],
   "source": [
    "c.create_state(params_dist=params_dist, idx=0)"
   ]
  },
  {
   "cell_type": "code",
   "execution_count": null,
   "metadata": {},
   "outputs": [],
   "source": []
  },
  {
   "cell_type": "markdown",
   "metadata": {},
   "source": [
    "# Export"
   ]
  },
  {
   "cell_type": "code",
   "execution_count": 103,
   "metadata": {},
   "outputs": [
    {
     "name": "stdout",
     "output_type": "stream",
     "text": [
      "Converted cycle.ipynb to exp/nb_cycle.py\n"
     ]
    }
   ],
   "source": [
    "!python3 n2s.py cycle.ipynb"
   ]
  },
  {
   "cell_type": "code",
   "execution_count": null,
   "metadata": {},
   "outputs": [],
   "source": []
  }
 ],
 "metadata": {
  "kernelspec": {
   "display_name": "Python 3",
   "language": "python",
   "name": "python3"
  },
  "language_info": {
   "codemirror_mode": {
    "name": "ipython",
    "version": 3
   },
   "file_extension": ".py",
   "mimetype": "text/x-python",
   "name": "python",
   "nbconvert_exporter": "python",
   "pygments_lexer": "ipython3",
   "version": "3.6.9"
  }
 },
 "nbformat": 4,
 "nbformat_minor": 4
}
