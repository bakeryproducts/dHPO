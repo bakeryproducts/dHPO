{
 "cells": [
  {
   "cell_type": "markdown",
   "metadata": {
    "collapsed": "true"
   },
   "source": [
    "# Imports"
   ]
  },
  {
   "cell_type": "code",
   "execution_count": 1,
   "metadata": {
    "execution": {
     "iopub.execute_input": "2020-05-14T10:06:37.708118Z",
     "iopub.status.busy": "2020-05-14T10:06:37.707948Z",
     "iopub.status.idle": "2020-05-14T10:06:38.063896Z",
     "shell.execute_reply": "2020-05-14T10:06:38.063344Z",
     "shell.execute_reply.started": "2020-05-14T10:06:37.708090Z"
    }
   },
   "outputs": [],
   "source": [
    "import os\n",
    "import json\n",
    "import datetime\n",
    "from pathlib import Path\n",
    "from collections import OrderedDict\n",
    "\n",
    "import numpy as np\n",
    "import pandas as pd\n",
    "import matplotlib.pyplot as plt\n",
    "%matplotlib inline"
   ]
  },
  {
   "cell_type": "markdown",
   "metadata": {},
   "source": [
    "# Code"
   ]
  },
  {
   "cell_type": "code",
   "execution_count": 2,
   "metadata": {
    "execution": {
     "iopub.execute_input": "2020-05-14T10:06:38.065200Z",
     "iopub.status.busy": "2020-05-14T10:06:38.065012Z",
     "iopub.status.idle": "2020-05-14T10:06:38.068639Z",
     "shell.execute_reply": "2020-05-14T10:06:38.068177Z",
     "shell.execute_reply.started": "2020-05-14T10:06:38.065169Z"
    }
   },
   "outputs": [],
   "source": [
    "class BaseRun:\n",
    "    def __init__(self, path):\n",
    "        self.path = path\n",
    "    \n",
    "    def init_file(self, name):\n",
    "        params = list(self.path.rglob(name))\n",
    "        assert len(params) == 1, params\n",
    "        return params[0].absolute()\n",
    "    \n",
    "    def __len__(self):\n",
    "        return len(self.data)\n",
    "        "
   ]
  },
  {
   "cell_type": "code",
   "execution_count": 113,
   "metadata": {
    "execution": {
     "iopub.execute_input": "2020-05-14T10:34:03.089292Z",
     "iopub.status.busy": "2020-05-14T10:34:03.089025Z",
     "iopub.status.idle": "2020-05-14T10:34:03.101517Z",
     "shell.execute_reply": "2020-05-14T10:34:03.100977Z",
     "shell.execute_reply.started": "2020-05-14T10:34:03.089259Z"
    }
   },
   "outputs": [],
   "source": [
    "class CrRun(BaseRun):\n",
    "    def __init__(self, path):\n",
    "        super(CrRun, self).__init__(path)\n",
    "        self.conf_file = self.init_file('params.json')\n",
    "        self.log_file = self.init_file('log.txt')\n",
    "        self.name = os.path.basename(path)\n",
    "        \n",
    "        with open(self.conf_file, 'r') as f:\n",
    "            d = json.load(f)\n",
    "            self.params = OrderedDict(sorted(d.items(), key=lambda x:x[0], reverse=False))\n",
    "        with open(self.log_file, 'r') as f:\n",
    "            self.logs = f.read()\n",
    "            \n",
    "        self.data = self.read_logs()\n",
    "        \n",
    "    def parse_name(self, prefix='run_'):\n",
    "        date = self.name.strip(prefix)#.rstrip('.lock')\n",
    "        start_time = datetime.datetime.strptime(date, '%Y_%b_%d_%H_%M_%S_%f')\n",
    "        return start_time\n",
    "        \n",
    "    def best(self, val=False, num=1, ascending=False):\n",
    "        pos = 'val_acc' if val else 'acc'\n",
    "        return self.data.sort_values(pos, ascending=ascending)[:num]\n",
    "    \n",
    "    def total_time(self):\n",
    "        return self.data['duration'][self.__len__()-1]\n",
    "    \n",
    "    def start_time(self):\n",
    "        return self.data['date'][0]\n",
    "    \n",
    "    def read_logs(self):\n",
    "        data = []\n",
    "        num_data = []\n",
    "        for l in self.logs.split('\\n'):\n",
    "            if l:\n",
    "                d,g,v,va = l.split(',')\n",
    "                g, v, va = int(g), float(v), float(va)\n",
    "                data.append([d,g,v,va])\n",
    "                num_data.append([g,v,va])\n",
    "        \n",
    "        df = pd.DataFrame(data, columns=['date','epoch','acc','val_acc'])\n",
    "        df['val_acc'].replace(-1., np.NaN, inplace=True)\n",
    "        df.fillna(method='ffill', inplace=True)\n",
    "        df.set_index('epoch', inplace=True)\n",
    "        \n",
    "        timeDF=(pd.to_datetime(df['date'].str.strip(), format='%H:%M:%S'))\n",
    "        df['date'] = timeDF\n",
    "        df['duration'] = timeDF - timeDF[0]\n",
    "        \n",
    "        return df\n",
    "    \n",
    "    \n",
    "    def plot(self, cols=None, window=1,limits=[-1,-1], ax=None, x=None):\n",
    "        if ax is None:\n",
    "            f,ax = plt.subplots(1)\n",
    "        if cols is None:\n",
    "            cols = ['Acc']\n",
    "        if x is not None:\n",
    "            cols.append(x)\n",
    "        \n",
    "        llim, rlim = limits\n",
    "        rlim = len(self.data) if rlim <=0 else rlim\n",
    "        llim = max(0, llim)\n",
    "        \n",
    "        \n",
    "        d = self.data.iloc[llim:rlim,:]\n",
    "        d = d.loc[:,cols]\n",
    "        for c in cols:\n",
    "            if c != 'duration':\n",
    "                d[c] = d[c].rolling(window).mean() \n",
    "        \n",
    "        d.plot(figsize=(12,7), ax=ax, x=x)"
   ]
  },
  {
   "cell_type": "code",
   "execution_count": 198,
   "metadata": {
    "execution": {
     "iopub.execute_input": "2020-05-14T11:01:25.345905Z",
     "iopub.status.busy": "2020-05-14T11:01:25.345553Z",
     "iopub.status.idle": "2020-05-14T11:01:25.352140Z",
     "shell.execute_reply": "2020-05-14T11:01:25.351619Z",
     "shell.execute_reply.started": "2020-05-14T11:01:25.345858Z"
    }
   },
   "outputs": [],
   "source": [
    "def load_anal(runs):\n",
    "    dd = {}\n",
    "    for run in runs.values():\n",
    "        run_best = run.best(num=3, val=True)\n",
    "        #run_best_pct = 100 - int( 100 * (run.total_time() - dur) / run.total_time())\n",
    "        d = {}\n",
    "        d['name'] = run.name\n",
    "        d['tt'] = run.total_time()\n",
    "        d['t2b'] = run_best['duration'].values[0]\n",
    "        d['ba'] = round(run_best.mean()[['acc']].values[0],3)\n",
    "        d['bva'] = round(run_best.mean()[['val_acc']].values[0],3)\n",
    "        d['la'] = round(run.data['acc'][-10:].mean(),3)\n",
    "        d.update(**run.params)\n",
    "        dd[run.parse_name()] = d\n",
    "    #res_df = pd.DataFrame(results, columns=['Name','duration', 'LRM', 'best_acc', 'best_val', 'best_pct', *run.params.keys()])\n",
    "    \n",
    "    df = pd.DataFrame(dd).T\n",
    "    return df"
   ]
  },
  {
   "cell_type": "code",
   "execution_count": 199,
   "metadata": {
    "execution": {
     "iopub.execute_input": "2020-05-14T11:01:25.593940Z",
     "iopub.status.busy": "2020-05-14T11:01:25.593658Z",
     "iopub.status.idle": "2020-05-14T11:01:25.598270Z",
     "shell.execute_reply": "2020-05-14T11:01:25.597731Z",
     "shell.execute_reply.started": "2020-05-14T11:01:25.593903Z"
    }
   },
   "outputs": [],
   "source": [
    "def is_valid(path):\n",
    "    return True\n",
    "\n",
    "def run_inits(run_path):\n",
    "    registry = OrderedDict()\n",
    "    for r in run_path:\n",
    "        if is_valid(r):\n",
    "            try:\n",
    "                run = CrRun(r)\n",
    "                registry[run.name] = run\n",
    "            except Exception as e:\n",
    "                #print(e)\n",
    "                pass\n",
    "                #print(f'Err {r}')\n",
    "    print(f'Valid: {len(registry.keys())}; total:{len(run_path)}')\n",
    "    return registry"
   ]
  },
  {
   "cell_type": "code",
   "execution_count": 200,
   "metadata": {
    "execution": {
     "iopub.execute_input": "2020-05-14T11:01:25.784778Z",
     "iopub.status.busy": "2020-05-14T11:01:25.784509Z",
     "iopub.status.idle": "2020-05-14T11:01:25.789512Z",
     "shell.execute_reply": "2020-05-14T11:01:25.789019Z",
     "shell.execute_reply.started": "2020-05-14T11:01:25.784744Z"
    }
   },
   "outputs": [],
   "source": [
    "def mod_df(df, col='acc', window=1, div=1):\n",
    "    d = df.loc[:, [col, 'duration']]\n",
    "    s = d['duration'].apply(lambda x: x.seconds)/div\n",
    "    d.loc[:,'duration'] = s\n",
    "    \n",
    "    s = d[col].rolling(window).mean()\n",
    "    d.loc[:,col] = s\n",
    "    return d\n",
    "\n",
    "def plot_run(run, col, ax,  window=5):\n",
    "    d = mod_df(run.data, col=col, window=window)\n",
    "    d.plot('duration', ax=ax)"
   ]
  },
  {
   "cell_type": "code",
   "execution_count": null,
   "metadata": {},
   "outputs": [],
   "source": []
  },
  {
   "cell_type": "markdown",
   "metadata": {
    "execution": {
     "iopub.execute_input": "2020-05-14T05:21:25.272294Z",
     "iopub.status.busy": "2020-05-14T05:21:25.272018Z",
     "iopub.status.idle": "2020-05-14T05:21:25.274904Z",
     "shell.execute_reply": "2020-05-14T05:21:25.274457Z",
     "shell.execute_reply.started": "2020-05-14T05:21:25.272260Z"
    }
   },
   "source": [
    "# Tests"
   ]
  },
  {
   "cell_type": "code",
   "execution_count": 201,
   "metadata": {
    "execution": {
     "iopub.execute_input": "2020-05-14T11:01:26.580176Z",
     "iopub.status.busy": "2020-05-14T11:01:26.579899Z",
     "iopub.status.idle": "2020-05-14T11:01:26.583905Z",
     "shell.execute_reply": "2020-05-14T11:01:26.583408Z",
     "shell.execute_reply.started": "2020-05-14T11:01:26.580142Z"
    }
   },
   "outputs": [],
   "source": [
    "p = Path('./cycler_runs')\n",
    "run_paths = list(p.iterdir())"
   ]
  },
  {
   "cell_type": "code",
   "execution_count": 202,
   "metadata": {
    "execution": {
     "iopub.execute_input": "2020-05-14T11:01:26.759407Z",
     "iopub.status.busy": "2020-05-14T11:01:26.759225Z",
     "iopub.status.idle": "2020-05-14T11:01:27.442102Z",
     "shell.execute_reply": "2020-05-14T11:01:27.441514Z",
     "shell.execute_reply.started": "2020-05-14T11:01:26.759378Z"
    }
   },
   "outputs": [
    {
     "name": "stdout",
     "output_type": "stream",
     "text": [
      "Valid: 79; total:100\n"
     ]
    }
   ],
   "source": [
    "rs = run_inits(run_paths)\n",
    "df = load_anal(rs)"
   ]
  },
  {
   "cell_type": "code",
   "execution_count": 203,
   "metadata": {
    "execution": {
     "iopub.execute_input": "2020-05-14T11:01:27.455214Z",
     "iopub.status.busy": "2020-05-14T11:01:27.455022Z",
     "iopub.status.idle": "2020-05-14T11:01:27.458144Z",
     "shell.execute_reply": "2020-05-14T11:01:27.457683Z",
     "shell.execute_reply.started": "2020-05-14T11:01:27.455185Z"
    }
   },
   "outputs": [],
   "source": [
    "df = df.sort_values('bva', ascending=False)\n",
    "#df = df.sort_values('Name', ascending=False)\n",
    "#df.head(5)"
   ]
  },
  {
   "cell_type": "code",
   "execution_count": 204,
   "metadata": {
    "execution": {
     "iopub.execute_input": "2020-05-14T11:01:27.458960Z",
     "iopub.status.busy": "2020-05-14T11:01:27.458797Z",
     "iopub.status.idle": "2020-05-14T11:01:27.462707Z",
     "shell.execute_reply": "2020-05-14T11:01:27.462347Z",
     "shell.execute_reply.started": "2020-05-14T11:01:27.458933Z"
    }
   },
   "outputs": [],
   "source": [
    "cols = set(df.columns.values) - set(['name', 'tt', 't2b'])"
   ]
  },
  {
   "cell_type": "code",
   "execution_count": 205,
   "metadata": {
    "execution": {
     "iopub.execute_input": "2020-05-14T11:01:27.463490Z",
     "iopub.status.busy": "2020-05-14T11:01:27.463331Z",
     "iopub.status.idle": "2020-05-14T11:01:27.466444Z",
     "shell.execute_reply": "2020-05-14T11:01:27.466027Z",
     "shell.execute_reply.started": "2020-05-14T11:01:27.463464Z"
    }
   },
   "outputs": [],
   "source": [
    "cols = ['combine_chance', 'mutate_chance', 'exp_power', 'crossover_chance', 'la', 'bva']"
   ]
  },
  {
   "cell_type": "code",
   "execution_count": 206,
   "metadata": {
    "execution": {
     "iopub.execute_input": "2020-05-14T11:01:27.587342Z",
     "iopub.status.busy": "2020-05-14T11:01:27.587170Z",
     "iopub.status.idle": "2020-05-14T11:01:27.598007Z",
     "shell.execute_reply": "2020-05-14T11:01:27.597642Z",
     "shell.execute_reply.started": "2020-05-14T11:01:27.587314Z"
    }
   },
   "outputs": [
    {
     "data": {
      "text/html": [
       "<div>\n",
       "<style scoped>\n",
       "    .dataframe tbody tr th:only-of-type {\n",
       "        vertical-align: middle;\n",
       "    }\n",
       "\n",
       "    .dataframe tbody tr th {\n",
       "        vertical-align: top;\n",
       "    }\n",
       "\n",
       "    .dataframe thead th {\n",
       "        text-align: right;\n",
       "    }\n",
       "</style>\n",
       "<table border=\"1\" class=\"dataframe\">\n",
       "  <thead>\n",
       "    <tr style=\"text-align: right;\">\n",
       "      <th></th>\n",
       "      <th>combine_chance</th>\n",
       "      <th>mutate_chance</th>\n",
       "      <th>exp_power</th>\n",
       "      <th>crossover_chance</th>\n",
       "      <th>la</th>\n",
       "      <th>bva</th>\n",
       "    </tr>\n",
       "  </thead>\n",
       "  <tbody>\n",
       "    <tr>\n",
       "      <th>combine_chance</th>\n",
       "      <td>1.000000</td>\n",
       "      <td>0.049835</td>\n",
       "      <td>-0.112429</td>\n",
       "      <td>0.055819</td>\n",
       "      <td>0.062229</td>\n",
       "      <td>0.027227</td>\n",
       "    </tr>\n",
       "    <tr>\n",
       "      <th>mutate_chance</th>\n",
       "      <td>0.049835</td>\n",
       "      <td>1.000000</td>\n",
       "      <td>-0.038499</td>\n",
       "      <td>0.062938</td>\n",
       "      <td>0.128362</td>\n",
       "      <td>0.168161</td>\n",
       "    </tr>\n",
       "    <tr>\n",
       "      <th>exp_power</th>\n",
       "      <td>-0.112429</td>\n",
       "      <td>-0.038499</td>\n",
       "      <td>1.000000</td>\n",
       "      <td>0.002847</td>\n",
       "      <td>0.155866</td>\n",
       "      <td>0.205165</td>\n",
       "    </tr>\n",
       "    <tr>\n",
       "      <th>crossover_chance</th>\n",
       "      <td>0.055819</td>\n",
       "      <td>0.062938</td>\n",
       "      <td>0.002847</td>\n",
       "      <td>1.000000</td>\n",
       "      <td>0.629392</td>\n",
       "      <td>0.698262</td>\n",
       "    </tr>\n",
       "    <tr>\n",
       "      <th>la</th>\n",
       "      <td>0.062229</td>\n",
       "      <td>0.128362</td>\n",
       "      <td>0.155866</td>\n",
       "      <td>0.629392</td>\n",
       "      <td>1.000000</td>\n",
       "      <td>0.902583</td>\n",
       "    </tr>\n",
       "    <tr>\n",
       "      <th>bva</th>\n",
       "      <td>0.027227</td>\n",
       "      <td>0.168161</td>\n",
       "      <td>0.205165</td>\n",
       "      <td>0.698262</td>\n",
       "      <td>0.902583</td>\n",
       "      <td>1.000000</td>\n",
       "    </tr>\n",
       "  </tbody>\n",
       "</table>\n",
       "</div>"
      ],
      "text/plain": [
       "                  combine_chance  mutate_chance  exp_power  crossover_chance  \\\n",
       "combine_chance          1.000000       0.049835  -0.112429          0.055819   \n",
       "mutate_chance           0.049835       1.000000  -0.038499          0.062938   \n",
       "exp_power              -0.112429      -0.038499   1.000000          0.002847   \n",
       "crossover_chance        0.055819       0.062938   0.002847          1.000000   \n",
       "la                      0.062229       0.128362   0.155866          0.629392   \n",
       "bva                     0.027227       0.168161   0.205165          0.698262   \n",
       "\n",
       "                        la       bva  \n",
       "combine_chance    0.062229  0.027227  \n",
       "mutate_chance     0.128362  0.168161  \n",
       "exp_power         0.155866  0.205165  \n",
       "crossover_chance  0.629392  0.698262  \n",
       "la                1.000000  0.902583  \n",
       "bva               0.902583  1.000000  "
      ]
     },
     "execution_count": 206,
     "metadata": {},
     "output_type": "execute_result"
    }
   ],
   "source": [
    "dt = datetime.timedelta(minutes=5)\n",
    "tdf = df[df['tt'] > dt]\n",
    "tdf = tdf[cols].astype(float)\n",
    "t = tdf.corr()\n",
    "t"
   ]
  },
  {
   "cell_type": "code",
   "execution_count": 207,
   "metadata": {
    "execution": {
     "iopub.execute_input": "2020-05-14T11:01:27.791674Z",
     "iopub.status.busy": "2020-05-14T11:01:27.791484Z",
     "iopub.status.idle": "2020-05-14T11:01:27.933996Z",
     "shell.execute_reply": "2020-05-14T11:01:27.933464Z",
     "shell.execute_reply.started": "2020-05-14T11:01:27.791644Z"
    }
   },
   "outputs": [
    {
     "data": {
      "text/plain": [
       "<matplotlib.axes._subplots.AxesSubplot at 0x7fec97f78278>"
      ]
     },
     "execution_count": 207,
     "metadata": {},
     "output_type": "execute_result"
    },
    {
     "data": {
      "image/png": "[encoded data removed]",
      "text/plain": [
       "<Figure size 432x288 with 1 Axes>"
      ]
     },
     "metadata": {
      "needs_background": "light"
     },
     "output_type": "display_data"
    }
   ],
   "source": [
    "tdf.sort_values('crossover_chance').plot( 'crossover_chance','bva')"
   ]
  },
  {
   "cell_type": "code",
   "execution_count": 208,
   "metadata": {
    "execution": {
     "iopub.execute_input": "2020-05-14T11:01:31.195198Z",
     "iopub.status.busy": "2020-05-14T11:01:31.194915Z",
     "iopub.status.idle": "2020-05-14T11:01:31.215171Z",
     "shell.execute_reply": "2020-05-14T11:01:31.214766Z",
     "shell.execute_reply.started": "2020-05-14T11:01:31.195164Z"
    }
   },
   "outputs": [
    {
     "data": {
      "text/html": [
       "<div>\n",
       "<style scoped>\n",
       "    .dataframe tbody tr th:only-of-type {\n",
       "        vertical-align: middle;\n",
       "    }\n",
       "\n",
       "    .dataframe tbody tr th {\n",
       "        vertical-align: top;\n",
       "    }\n",
       "\n",
       "    .dataframe thead th {\n",
       "        text-align: right;\n",
       "    }\n",
       "</style>\n",
       "<table border=\"1\" class=\"dataframe\">\n",
       "  <thead>\n",
       "    <tr style=\"text-align: right;\">\n",
       "      <th></th>\n",
       "      <th>name</th>\n",
       "      <th>tt</th>\n",
       "      <th>t2b</th>\n",
       "      <th>ba</th>\n",
       "      <th>bva</th>\n",
       "      <th>la</th>\n",
       "      <th>combine_chance</th>\n",
       "      <th>crossover_chance</th>\n",
       "      <th>dec_f0</th>\n",
       "      <th>dec_f1</th>\n",
       "      <th>dec_f2</th>\n",
       "      <th>dec_f3</th>\n",
       "      <th>exp_power</th>\n",
       "      <th>generation_size</th>\n",
       "      <th>generations</th>\n",
       "      <th>mutate_chance</th>\n",
       "      <th>seed</th>\n",
       "      <th>subsample_size</th>\n",
       "    </tr>\n",
       "  </thead>\n",
       "  <tbody>\n",
       "    <tr>\n",
       "      <th>2020-05-11 00:14:35.375333</th>\n",
       "      <td>run_2020_May_11_00_14_35_375333</td>\n",
       "      <td>00:06:58</td>\n",
       "      <td>00:05:27</td>\n",
       "      <td>0.569</td>\n",
       "      <td>0.578</td>\n",
       "      <td>0.554</td>\n",
       "      <td>0.54026</td>\n",
       "      <td>0.768076</td>\n",
       "      <td>12</td>\n",
       "      <td>10</td>\n",
       "      <td>8</td>\n",
       "      <td>6</td>\n",
       "      <td>10</td>\n",
       "      <td>200</td>\n",
       "      <td>200</td>\n",
       "      <td>0.00420641</td>\n",
       "      <td>0</td>\n",
       "      <td>50</td>\n",
       "    </tr>\n",
       "    <tr>\n",
       "      <th>2020-05-11 00:50:47.635807</th>\n",
       "      <td>run_2020_May_11_00_50_47_635807</td>\n",
       "      <td>00:07:06</td>\n",
       "      <td>00:07:06</td>\n",
       "      <td>0.607</td>\n",
       "      <td>0.576</td>\n",
       "      <td>0.587</td>\n",
       "      <td>0.475451</td>\n",
       "      <td>0.974289</td>\n",
       "      <td>12</td>\n",
       "      <td>10</td>\n",
       "      <td>8</td>\n",
       "      <td>6</td>\n",
       "      <td>5</td>\n",
       "      <td>200</td>\n",
       "      <td>200</td>\n",
       "      <td>0.00401703</td>\n",
       "      <td>0</td>\n",
       "      <td>50</td>\n",
       "    </tr>\n",
       "    <tr>\n",
       "      <th>2020-05-11 01:26:47.870634</th>\n",
       "      <td>run_2020_May_11_01_26_47_870634</td>\n",
       "      <td>00:07:00</td>\n",
       "      <td>00:07:00</td>\n",
       "      <td>0.585</td>\n",
       "      <td>0.576</td>\n",
       "      <td>0.576</td>\n",
       "      <td>0.583467</td>\n",
       "      <td>0.866273</td>\n",
       "      <td>12</td>\n",
       "      <td>10</td>\n",
       "      <td>8</td>\n",
       "      <td>6</td>\n",
       "      <td>5</td>\n",
       "      <td>200</td>\n",
       "      <td>200</td>\n",
       "      <td>0.00206012</td>\n",
       "      <td>0</td>\n",
       "      <td>50</td>\n",
       "    </tr>\n",
       "    <tr>\n",
       "      <th>2020-05-13 20:34:25.380772</th>\n",
       "      <td>run_2020_May_13_20_34_25_380772</td>\n",
       "      <td>00:07:24</td>\n",
       "      <td>00:06:31</td>\n",
       "      <td>0.563</td>\n",
       "      <td>0.571</td>\n",
       "      <td>0.587</td>\n",
       "      <td>0.5</td>\n",
       "      <td>0.7</td>\n",
       "      <td>12</td>\n",
       "      <td>10</td>\n",
       "      <td>8</td>\n",
       "      <td>6</td>\n",
       "      <td>5</td>\n",
       "      <td>200</td>\n",
       "      <td>200</td>\n",
       "      <td>0.003</td>\n",
       "      <td>0</td>\n",
       "      <td>50</td>\n",
       "    </tr>\n",
       "    <tr>\n",
       "      <th>2020-05-11 00:21:47.798885</th>\n",
       "      <td>run_2020_May_11_00_21_47_798885</td>\n",
       "      <td>00:06:57</td>\n",
       "      <td>00:05:53</td>\n",
       "      <td>0.549</td>\n",
       "      <td>0.571</td>\n",
       "      <td>0.578</td>\n",
       "      <td>0.367435</td>\n",
       "      <td>0.899659</td>\n",
       "      <td>12</td>\n",
       "      <td>10</td>\n",
       "      <td>8</td>\n",
       "      <td>6</td>\n",
       "      <td>5</td>\n",
       "      <td>200</td>\n",
       "      <td>200</td>\n",
       "      <td>0.00186172</td>\n",
       "      <td>0</td>\n",
       "      <td>50</td>\n",
       "    </tr>\n",
       "    <tr>\n",
       "      <th>...</th>\n",
       "      <td>...</td>\n",
       "      <td>...</td>\n",
       "      <td>...</td>\n",
       "      <td>...</td>\n",
       "      <td>...</td>\n",
       "      <td>...</td>\n",
       "      <td>...</td>\n",
       "      <td>...</td>\n",
       "      <td>...</td>\n",
       "      <td>...</td>\n",
       "      <td>...</td>\n",
       "      <td>...</td>\n",
       "      <td>...</td>\n",
       "      <td>...</td>\n",
       "      <td>...</td>\n",
       "      <td>...</td>\n",
       "      <td>...</td>\n",
       "      <td>...</td>\n",
       "    </tr>\n",
       "    <tr>\n",
       "      <th>2020-05-13 18:32:51.938747</th>\n",
       "      <td>run_2020_May_13_18_32_51_938747</td>\n",
       "      <td>00:00:09</td>\n",
       "      <td>00:00:00</td>\n",
       "      <td>0.086</td>\n",
       "      <td>0.063</td>\n",
       "      <td>0.092</td>\n",
       "      <td>0.913407</td>\n",
       "      <td>0.893768</td>\n",
       "      <td>12</td>\n",
       "      <td>10</td>\n",
       "      <td>8</td>\n",
       "      <td>6</td>\n",
       "      <td>10</td>\n",
       "      <td>200</td>\n",
       "      <td>5</td>\n",
       "      <td>0.00400802</td>\n",
       "      <td>0</td>\n",
       "      <td>50</td>\n",
       "    </tr>\n",
       "    <tr>\n",
       "      <th>2020-05-13 18:44:54.627127</th>\n",
       "      <td>run_2020_May_13_18_44_54_627127</td>\n",
       "      <td>00:00:09</td>\n",
       "      <td>00:00:00</td>\n",
       "      <td>0.072</td>\n",
       "      <td>0.062</td>\n",
       "      <td>0.073</td>\n",
       "      <td>0.81521</td>\n",
       "      <td>0.807355</td>\n",
       "      <td>12</td>\n",
       "      <td>10</td>\n",
       "      <td>8</td>\n",
       "      <td>6</td>\n",
       "      <td>1</td>\n",
       "      <td>200</td>\n",
       "      <td>5</td>\n",
       "      <td>0.000653307</td>\n",
       "      <td>0</td>\n",
       "      <td>50</td>\n",
       "    </tr>\n",
       "    <tr>\n",
       "      <th>2020-05-13 18:45:24.775846</th>\n",
       "      <td>run_2020_May_13_18_45_24_775846</td>\n",
       "      <td>00:00:09</td>\n",
       "      <td>00:00:00</td>\n",
       "      <td>0.076</td>\n",
       "      <td>0.059</td>\n",
       "      <td>0.077</td>\n",
       "      <td>0.149439</td>\n",
       "      <td>0.872164</td>\n",
       "      <td>12</td>\n",
       "      <td>10</td>\n",
       "      <td>8</td>\n",
       "      <td>6</td>\n",
       "      <td>10</td>\n",
       "      <td>200</td>\n",
       "      <td>5</td>\n",
       "      <td>0.00489178</td>\n",
       "      <td>0</td>\n",
       "      <td>50</td>\n",
       "    </tr>\n",
       "    <tr>\n",
       "      <th>2020-05-13 18:45:24.817203</th>\n",
       "      <td>run_2020_May_13_18_45_24_817203</td>\n",
       "      <td>00:00:00</td>\n",
       "      <td>00:00:00</td>\n",
       "      <td>0.064</td>\n",
       "      <td>0.058</td>\n",
       "      <td>0.064</td>\n",
       "      <td>0.157295</td>\n",
       "      <td>0.279058</td>\n",
       "      <td>12</td>\n",
       "      <td>10</td>\n",
       "      <td>8</td>\n",
       "      <td>6</td>\n",
       "      <td>50</td>\n",
       "      <td>200</td>\n",
       "      <td>5</td>\n",
       "      <td>0.00227655</td>\n",
       "      <td>0</td>\n",
       "      <td>50</td>\n",
       "    </tr>\n",
       "    <tr>\n",
       "      <th>2020-05-13 18:45:54.716442</th>\n",
       "      <td>run_2020_May_13_18_45_54_716442</td>\n",
       "      <td>00:00:08</td>\n",
       "      <td>00:00:00</td>\n",
       "      <td>0.069</td>\n",
       "      <td>0.057</td>\n",
       "      <td>0.07</td>\n",
       "      <td>0.363507</td>\n",
       "      <td>0.214248</td>\n",
       "      <td>12</td>\n",
       "      <td>10</td>\n",
       "      <td>8</td>\n",
       "      <td>6</td>\n",
       "      <td>1</td>\n",
       "      <td>200</td>\n",
       "      <td>5</td>\n",
       "      <td>0.0037014</td>\n",
       "      <td>0</td>\n",
       "      <td>50</td>\n",
       "    </tr>\n",
       "  </tbody>\n",
       "</table>\n",
       "<p>79 rows × 18 columns</p>\n",
       "</div>"
      ],
      "text/plain": [
       "                                                       name       tt      t2b  \\\n",
       "2020-05-11 00:14:35.375333  run_2020_May_11_00_14_35_375333 00:06:58 00:05:27   \n",
       "2020-05-11 00:50:47.635807  run_2020_May_11_00_50_47_635807 00:07:06 00:07:06   \n",
       "2020-05-11 01:26:47.870634  run_2020_May_11_01_26_47_870634 00:07:00 00:07:00   \n",
       "2020-05-13 20:34:25.380772  run_2020_May_13_20_34_25_380772 00:07:24 00:06:31   \n",
       "2020-05-11 00:21:47.798885  run_2020_May_11_00_21_47_798885 00:06:57 00:05:53   \n",
       "...                                                     ...      ...      ...   \n",
       "2020-05-13 18:32:51.938747  run_2020_May_13_18_32_51_938747 00:00:09 00:00:00   \n",
       "2020-05-13 18:44:54.627127  run_2020_May_13_18_44_54_627127 00:00:09 00:00:00   \n",
       "2020-05-13 18:45:24.775846  run_2020_May_13_18_45_24_775846 00:00:09 00:00:00   \n",
       "2020-05-13 18:45:24.817203  run_2020_May_13_18_45_24_817203 00:00:00 00:00:00   \n",
       "2020-05-13 18:45:54.716442  run_2020_May_13_18_45_54_716442 00:00:08 00:00:00   \n",
       "\n",
       "                               ba    bva     la combine_chance  \\\n",
       "2020-05-11 00:14:35.375333  0.569  0.578  0.554        0.54026   \n",
       "2020-05-11 00:50:47.635807  0.607  0.576  0.587       0.475451   \n",
       "2020-05-11 01:26:47.870634  0.585  0.576  0.576       0.583467   \n",
       "2020-05-13 20:34:25.380772  0.563  0.571  0.587            0.5   \n",
       "2020-05-11 00:21:47.798885  0.549  0.571  0.578       0.367435   \n",
       "...                           ...    ...    ...            ...   \n",
       "2020-05-13 18:32:51.938747  0.086  0.063  0.092       0.913407   \n",
       "2020-05-13 18:44:54.627127  0.072  0.062  0.073        0.81521   \n",
       "2020-05-13 18:45:24.775846  0.076  0.059  0.077       0.149439   \n",
       "2020-05-13 18:45:24.817203  0.064  0.058  0.064       0.157295   \n",
       "2020-05-13 18:45:54.716442  0.069  0.057   0.07       0.363507   \n",
       "\n",
       "                           crossover_chance dec_f0 dec_f1 dec_f2 dec_f3  \\\n",
       "2020-05-11 00:14:35.375333         0.768076     12     10      8      6   \n",
       "2020-05-11 00:50:47.635807         0.974289     12     10      8      6   \n",
       "2020-05-11 01:26:47.870634         0.866273     12     10      8      6   \n",
       "2020-05-13 20:34:25.380772              0.7     12     10      8      6   \n",
       "2020-05-11 00:21:47.798885         0.899659     12     10      8      6   \n",
       "...                                     ...    ...    ...    ...    ...   \n",
       "2020-05-13 18:32:51.938747         0.893768     12     10      8      6   \n",
       "2020-05-13 18:44:54.627127         0.807355     12     10      8      6   \n",
       "2020-05-13 18:45:24.775846         0.872164     12     10      8      6   \n",
       "2020-05-13 18:45:24.817203         0.279058     12     10      8      6   \n",
       "2020-05-13 18:45:54.716442         0.214248     12     10      8      6   \n",
       "\n",
       "                           exp_power generation_size generations  \\\n",
       "2020-05-11 00:14:35.375333        10             200         200   \n",
       "2020-05-11 00:50:47.635807         5             200         200   \n",
       "2020-05-11 01:26:47.870634         5             200         200   \n",
       "2020-05-13 20:34:25.380772         5             200         200   \n",
       "2020-05-11 00:21:47.798885         5             200         200   \n",
       "...                              ...             ...         ...   \n",
       "2020-05-13 18:32:51.938747        10             200           5   \n",
       "2020-05-13 18:44:54.627127         1             200           5   \n",
       "2020-05-13 18:45:24.775846        10             200           5   \n",
       "2020-05-13 18:45:24.817203        50             200           5   \n",
       "2020-05-13 18:45:54.716442         1             200           5   \n",
       "\n",
       "                           mutate_chance seed subsample_size  \n",
       "2020-05-11 00:14:35.375333    0.00420641    0             50  \n",
       "2020-05-11 00:50:47.635807    0.00401703    0             50  \n",
       "2020-05-11 01:26:47.870634    0.00206012    0             50  \n",
       "2020-05-13 20:34:25.380772         0.003    0             50  \n",
       "2020-05-11 00:21:47.798885    0.00186172    0             50  \n",
       "...                                  ...  ...            ...  \n",
       "2020-05-13 18:32:51.938747    0.00400802    0             50  \n",
       "2020-05-13 18:44:54.627127   0.000653307    0             50  \n",
       "2020-05-13 18:45:24.775846    0.00489178    0             50  \n",
       "2020-05-13 18:45:24.817203    0.00227655    0             50  \n",
       "2020-05-13 18:45:54.716442     0.0037014    0             50  \n",
       "\n",
       "[79 rows x 18 columns]"
      ]
     },
     "execution_count": 208,
     "metadata": {},
     "output_type": "execute_result"
    }
   ],
   "source": [
    "df"
   ]
  },
  {
   "cell_type": "code",
   "execution_count": 73,
   "metadata": {
    "execution": {
     "iopub.execute_input": "2020-05-14T10:25:38.528790Z",
     "iopub.status.busy": "2020-05-14T10:25:38.528513Z",
     "iopub.status.idle": "2020-05-14T10:25:38.535214Z",
     "shell.execute_reply": "2020-05-14T10:25:38.534753Z",
     "shell.execute_reply.started": "2020-05-14T10:25:38.528757Z"
    }
   },
   "outputs": [],
   "source": [
    "plot_df = df[:1]\n",
    "top = df.sort_values(by='la', ascending=False)[:5]\n",
    "plot_df = pd.concat([plot_df,top])"
   ]
  },
  {
   "cell_type": "code",
   "execution_count": 210,
   "metadata": {
    "execution": {
     "iopub.execute_input": "2020-05-14T12:12:49.218400Z",
     "iopub.status.busy": "2020-05-14T12:12:49.218099Z",
     "iopub.status.idle": "2020-05-14T12:12:49.589257Z",
     "shell.execute_reply": "2020-05-14T12:12:49.588810Z",
     "shell.execute_reply.started": "2020-05-14T12:12:49.218364Z"
    }
   },
   "outputs": [
    {
     "data": {
      "image/png": "[encoded data removed]",
      "text/plain": [
       "<Figure size 1080x576 with 1 Axes>"
      ]
     },
     "metadata": {
      "needs_background": "light"
     },
     "output_type": "display_data"
    }
   ],
   "source": [
    "f, a = plt.subplots(1, figsize=(15,8))\n",
    "#l_lim, r_lim = 0, 1000\n",
    "\n",
    "rsp = [r for r in rs.values() if r.name in plot_df.name.values]\n",
    "\n",
    "[plot_run(r, col='acc', ax=a, window=10) for r in rsp]\n",
    "\n",
    "a.legend([r.name for r in rsp])\n",
    "#axs.legend(['Validation', 'Train'])\n",
    "\n",
    "#a.set_xticks(np.arange(l_lim, 700, 10))\n",
    "#a.set_yticks(np.arange(0.1, .9, 0.05))\n",
    "plt.ylim(.2,.65)\n",
    "plt.grid()"
   ]
  },
  {
   "cell_type": "code",
   "execution_count": null,
   "metadata": {},
   "outputs": [],
   "source": []
  },
  {
   "cell_type": "code",
   "execution_count": null,
   "metadata": {},
   "outputs": [],
   "source": []
  },
  {
   "cell_type": "code",
   "execution_count": null,
   "metadata": {},
   "outputs": [],
   "source": []
  },
  {
   "cell_type": "code",
   "execution_count": null,
   "metadata": {},
   "outputs": [],
   "source": []
  },
  {
   "cell_type": "code",
   "execution_count": null,
   "metadata": {},
   "outputs": [],
   "source": []
  },
  {
   "cell_type": "code",
   "execution_count": null,
   "metadata": {},
   "outputs": [],
   "source": []
  }
 ],
 "metadata": {
  "kernelspec": {
   "display_name": "Python 3",
   "language": "python",
   "name": "python3"
  },
  "language_info": {
   "codemirror_mode": {
    "name": "ipython",
    "version": 3
   },
   "file_extension": ".py",
   "mimetype": "text/x-python",
   "name": "python",
   "nbconvert_exporter": "python",
   "pygments_lexer": "ipython3",
   "version": "3.6.9"
  }
 },
 "nbformat": 4,
 "nbformat_minor": 4
}
