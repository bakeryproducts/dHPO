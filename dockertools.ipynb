{
 "cells": [
  {
   "cell_type": "markdown",
   "metadata": {},
   "source": [
    "# Imports"
   ]
  },
  {
   "cell_type": "code",
   "execution_count": 2,
   "metadata": {
    "execution": {
     "iopub.execute_input": "2020-05-19T09:17:14.084247Z",
     "iopub.status.busy": "2020-05-19T09:17:14.084003Z",
     "iopub.status.idle": "2020-05-19T09:17:14.159469Z",
     "shell.execute_reply": "2020-05-19T09:17:14.158960Z",
     "shell.execute_reply.started": "2020-05-19T09:17:14.084212Z"
    }
   },
   "outputs": [],
   "source": [
    "#export\n",
    "import os\n",
    "import sys\n",
    "sys.path.append(os.path.join(os.getcwd(),'exp'))\n",
    "\n",
    "import time\n",
    "import docker\n",
    "import logging\n",
    "import datetime\n",
    "import numpy as np\n",
    "from pathlib import Path\n",
    "\n",
    "from nb_locker import check_gpu_access\n",
    "from config import cfg"
   ]
  },
  {
   "cell_type": "code",
   "execution_count": 8,
   "metadata": {},
   "outputs": [
    {
     "data": {
      "text/html": [
       "<style>.container { width:95% !important; }</style>"
      ],
      "text/plain": [
       "<IPython.core.display.HTML object>"
      ]
     },
     "metadata": {},
     "output_type": "display_data"
    }
   ],
   "source": [
    "from IPython.core.display import display, HTML\n",
    "display(HTML(\"<style>.container { width:95% !important; }</style>\"))"
   ]
  },
  {
   "cell_type": "markdown",
   "metadata": {},
   "source": [
    "# Code"
   ]
  },
  {
   "cell_type": "code",
   "execution_count": 3,
   "metadata": {},
   "outputs": [],
   "source": [
    "#export\n",
    "def init_volume(local_path, docker_path, mode):\n",
    "    v = {local_path:{'bind':docker_path, 'mode':mode}}\n",
    "    return v\n",
    "\n",
    "def run(docker_cfg):\n",
    "    client = docker.from_env()\n",
    "    cont = client.containers.run(**docker_cfg)\n",
    "    return cont\n",
    "\n",
    "def init_folders(run_root):\n",
    "    timestamp = '{:%b_%d_%H_%M_%S_%f}'.format(datetime.datetime.now())\n",
    "    if run_root is None:\n",
    "        root=Path(cfg.DOCKER.RUN_PATH)\n",
    "        run_root = (root/f'run_{timestamp}').absolute()\n",
    "    \n",
    "    out = run_root/'output'\n",
    "    os.makedirs(out, exist_ok=True)\n",
    "    conf = run_root/'configs'\n",
    "    os.makedirs(conf, exist_ok=True)\n",
    "    return out, conf, timestamp\n",
    "\n",
    "def docker_callback(output_mount):\n",
    "    logs_files = list(output_mount.rglob('log.txt'))\n",
    "    try:\n",
    "        log_file = logs_files[0]\n",
    "        val_acc = read_log(log_file)\n",
    "        return val_acc.max()\n",
    "    except Exception as e:\n",
    "        print(e)\n",
    "        return 0\n",
    "    \n",
    "def read_log(log_fn):\n",
    "    with open(log_fn, 'r') as f:\n",
    "        data = f.read()\n",
    "        \n",
    "    val_acc = []\n",
    "    for l in data.split('\\n'):\n",
    "        if l:\n",
    "            d,g,v,va = l.split(',')\n",
    "            g, v, va = int(g), float(v), float(va)\n",
    "            val_acc.append(va)     \n",
    "    return np.array(val_acc)"
   ]
  },
  {
   "cell_type": "code",
   "execution_count": 5,
   "metadata": {},
   "outputs": [
    {
     "name": "stdout",
     "output_type": "stream",
     "text": [
      "[PosixPath('/home/sokolov/work/cycler/crsch_cycle/runs/run_May_09_20_12_02_410982/output/data_2020_May_09_17:12:05/log.txt')]\n",
      "0.05816509760916233\n",
      "No actual test here!\n"
     ]
    }
   ],
   "source": [
    "#export\n",
    "def main(run_root=None, gpus='0'):\n",
    "    check_gpu_access(Path(cfg.GPUS.LOCK), gpus)\n",
    "    logging.info(f'\\n\\tStarting docker container {run_root} @ gpu {gpus}\\n')\n",
    "    \n",
    "    output_mount, configs_mount, timestamp = init_folders(run_root)\n",
    "    input_mount = '/home/sokolov/work/etc/crsch/input/data_encoded_l4/'\n",
    "    resources_mount = '/tmp'\n",
    "    \n",
    "    docker_run = {\n",
    "        'image':'sokolov/crsch:v01',\n",
    "        'name':f'{cgf.OWNER}{cfg.DOCKER.CONTAINER_PREFIX}{timestamp}',\n",
    "        'volumes':{**init_volume(input_mount, '/mnt/input', 'ro'),\n",
    "                   **init_volume(output_mount, '/mnt/output', 'rw'),\n",
    "                   **init_volume(configs_mount, '/mnt/configs', 'ro'),\n",
    "                   **init_volume(resources_mount, '/mnt/resources', 'ro')\n",
    "                  },\n",
    "        #'command':'touch /mnt/output/t.txt',\n",
    "        'detach':False,\n",
    "        'remove':True,\n",
    "        'runtime':'nvidia',\n",
    "        'environment':[f\"CUDA_VISIBLE_DEVICES={gpus}\"]\n",
    "        }\n",
    "    \n",
    "    container = run(docker_run)\n",
    "    result = docker_callback(output_mount)\n",
    "    return result\n",
    "\n",
    "if __name__ == '__main__':\n",
    "    print(main())\n",
    "    print('No actual test here!')"
   ]
  },
  {
   "cell_type": "code",
   "execution_count": null,
   "metadata": {},
   "outputs": [],
   "source": []
  },
  {
   "cell_type": "markdown",
   "metadata": {},
   "source": [
    "# Export"
   ]
  },
  {
   "cell_type": "code",
   "execution_count": 5,
   "metadata": {
    "execution": {
     "iopub.execute_input": "2020-05-19T09:28:02.633713Z",
     "iopub.status.busy": "2020-05-19T09:28:02.633463Z",
     "iopub.status.idle": "2020-05-19T09:28:02.825081Z",
     "shell.execute_reply": "2020-05-19T09:28:02.824374Z",
     "shell.execute_reply.started": "2020-05-19T09:28:02.633678Z"
    }
   },
   "outputs": [
    {
     "name": "stdout",
     "output_type": "stream",
     "text": [
      "Converted dockertools.ipynb to exp/nb_dockertools.py\n"
     ]
    }
   ],
   "source": [
    "!python3 extra/n2s.py dockertools.ipynb"
   ]
  },
  {
   "cell_type": "code",
   "execution_count": 7,
   "metadata": {},
   "outputs": [
    {
     "name": "stdout",
     "output_type": "stream",
     "text": [
      "[PosixPath('/home/sokolov/work/cycler/crsch_cycle/runs/run_May_09_20_12_27_073785/output/data_2020_May_09_17:12:29/log.txt')]\n",
      "0.05837726220488548\n",
      "No actual test here!\n"
     ]
    }
   ],
   "source": [
    "!python3 exp/nb_dockertools.py"
   ]
  },
  {
   "cell_type": "code",
   "execution_count": null,
   "metadata": {},
   "outputs": [],
   "source": []
  },
  {
   "cell_type": "code",
   "execution_count": null,
   "metadata": {},
   "outputs": [],
   "source": []
  }
 ],
 "metadata": {
  "kernelspec": {
   "display_name": "Python 3",
   "language": "python",
   "name": "python3"
  },
  "language_info": {
   "codemirror_mode": {
    "name": "ipython",
    "version": 3
   },
   "file_extension": ".py",
   "mimetype": "text/x-python",
   "name": "python",
   "nbconvert_exporter": "python",
   "pygments_lexer": "ipython3",
   "version": "3.6.9"
  }
 },
 "nbformat": 4,
 "nbformat_minor": 4
}
