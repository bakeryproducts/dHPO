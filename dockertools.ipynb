{
 "cells": [
  {
   "cell_type": "markdown",
   "metadata": {},
   "source": [
    "# Imports"
   ]
  },
  {
   "cell_type": "code",
   "execution_count": 1,
   "metadata": {
    "execution": {
     "iopub.execute_input": "2020-05-22T11:14:24.986116Z",
     "iopub.status.busy": "2020-05-22T11:14:24.985810Z",
     "iopub.status.idle": "2020-05-22T11:14:25.067443Z",
     "shell.execute_reply": "2020-05-22T11:14:25.066732Z",
     "shell.execute_reply.started": "2020-05-22T11:14:24.986078Z"
    }
   },
   "outputs": [],
   "source": [
    "#export\n",
    "import os\n",
    "import sys\n",
    "sys.path.append(os.path.join(os.getcwd(),'exp'))\n",
    "\n",
    "import time\n",
    "import docker\n",
    "import logging\n",
    "import datetime\n",
    "import numpy as np\n",
    "from pathlib import Path\n",
    "\n",
    "from nb_locker import check_gpu_access, check_gpu_usage\n",
    "\n",
    "from config import cfg"
   ]
  },
  {
   "cell_type": "code",
   "execution_count": 2,
   "metadata": {
    "execution": {
     "iopub.execute_input": "2020-05-22T11:14:26.303403Z",
     "iopub.status.busy": "2020-05-22T11:14:26.303121Z",
     "iopub.status.idle": "2020-05-22T11:14:26.307518Z",
     "shell.execute_reply": "2020-05-22T11:14:26.307036Z",
     "shell.execute_reply.started": "2020-05-22T11:14:26.303365Z"
    }
   },
   "outputs": [
    {
     "data": {
      "text/html": [
       "<style>.container { width:95% !important; }</style>"
      ],
      "text/plain": [
       "<IPython.core.display.HTML object>"
      ]
     },
     "metadata": {},
     "output_type": "display_data"
    }
   ],
   "source": [
    "from IPython.core.display import display, HTML\n",
    "display(HTML(\"<style>.container { width:95% !important; }</style>\"))"
   ]
  },
  {
   "cell_type": "markdown",
   "metadata": {},
   "source": [
    "# Code"
   ]
  },
  {
   "cell_type": "code",
   "execution_count": 3,
   "metadata": {
    "execution": {
     "iopub.execute_input": "2020-05-22T11:14:28.283033Z",
     "iopub.status.busy": "2020-05-22T11:14:28.282756Z",
     "iopub.status.idle": "2020-05-22T11:14:28.290034Z",
     "shell.execute_reply": "2020-05-22T11:14:28.289520Z",
     "shell.execute_reply.started": "2020-05-22T11:14:28.282996Z"
    }
   },
   "outputs": [],
   "source": [
    "#export\n",
    "def init_volume(local_path, docker_path, mode):\n",
    "    v = {local_path:{'bind':docker_path, 'mode':mode}}\n",
    "    return v\n",
    "\n",
    "def run(docker_cfg):\n",
    "    client = docker.from_env()\n",
    "    cont = client.containers.run(**docker_cfg)\n",
    "    return cont\n",
    "\n",
    "def init_folders(run_root):\n",
    "    timestamp = '{:%b_%d_%H_%M_%S_%f}'.format(datetime.datetime.now())\n",
    "    if run_root is None:\n",
    "        root=Path(cfg.DOCKER.RUN_PATH)\n",
    "        run_root = (root/f'run_{timestamp}').absolute()\n",
    "    \n",
    "    out = run_root/'output'\n",
    "    os.makedirs(out, exist_ok=True)\n",
    "    conf = run_root/'configs'\n",
    "    os.makedirs(conf, exist_ok=True)\n",
    "    return out, conf, timestamp\n",
    "\n",
    "def docker_callback(output_mount):\n",
    "    logs_files = list(output_mount.rglob('log.txt'))\n",
    "    try:\n",
    "        log_file = logs_files[0]\n",
    "        val_acc = read_log(log_file)\n",
    "        return val_acc.max()\n",
    "    except Exception as e:\n",
    "        print(e)\n",
    "        return 0\n",
    "    \n",
    "def read_log(log_fn):\n",
    "    with open(log_fn, 'r') as f:\n",
    "        data = f.read()\n",
    "        \n",
    "    val_acc = []\n",
    "    for l in data.split('\\n'):\n",
    "        if l:\n",
    "            d,g,v,va = l.split(',')\n",
    "            g, v, va = int(g), float(v), float(va)\n",
    "            val_acc.append(va)     \n",
    "    return np.array(val_acc)"
   ]
  },
  {
   "cell_type": "code",
   "execution_count": 4,
   "metadata": {
    "execution": {
     "iopub.execute_input": "2020-05-22T11:14:35.056042Z",
     "iopub.status.busy": "2020-05-22T11:14:35.055746Z",
     "iopub.status.idle": "2020-05-22T11:14:35.062049Z",
     "shell.execute_reply": "2020-05-22T11:14:35.061449Z",
     "shell.execute_reply.started": "2020-05-22T11:14:35.056004Z"
    }
   },
   "outputs": [
    {
     "name": "stdout",
     "output_type": "stream",
     "text": [
      "No actual test here!\n"
     ]
    }
   ],
   "source": [
    "#export\n",
    "def main(run_root=None, gpus='0'):\n",
    "    check_gpu_access(Path(cfg.GPUS.LOCK), gpus)\n",
    "    check_gpu_usage(gpus, delay=.2)\n",
    "    \n",
    "    logging.info(f'\\n\\tStarting docker container {run_root} @ gpu {gpus}\\n')\n",
    "    \n",
    "    output_mount, configs_mount, timestamp = init_folders(run_root)\n",
    "    input_mount = '/home/sokolov/work/etc/crsch/input/data_encoded_l4/'\n",
    "    resources_mount = '/tmp'\n",
    "    \n",
    "    docker_run = {\n",
    "        'image':'sokolov/crsch:v01',\n",
    "        'name':f'{cfg.OWNER}{cfg.DOCKER.CONTAINER_PREFIX}{timestamp}',\n",
    "        'volumes':{**init_volume(input_mount, '/mnt/input', 'ro'),\n",
    "                   **init_volume(output_mount, '/mnt/output', 'rw'),\n",
    "                   **init_volume(configs_mount, '/mnt/configs', 'ro'),\n",
    "                   **init_volume(resources_mount, '/mnt/resources', 'ro')\n",
    "                  },\n",
    "        #'command':'touch /mnt/output/t.txt',\n",
    "        'detach':False,\n",
    "        'remove':True,\n",
    "        'runtime':'nvidia',\n",
    "        'environment':[f\"CUDA_VISIBLE_DEVICES={gpus}\"]\n",
    "        }\n",
    "    \n",
    "    container = run(docker_run)\n",
    "    result = docker_callback(output_mount)\n",
    "    return result\n",
    "\n",
    "if __name__ == '__main__':\n",
    "    #print(main())\n",
    "    print('No actual test here!')"
   ]
  },
  {
   "cell_type": "code",
   "execution_count": null,
   "metadata": {},
   "outputs": [],
   "source": []
  },
  {
   "cell_type": "markdown",
   "metadata": {},
   "source": [
    "# Export"
   ]
  },
  {
   "cell_type": "code",
   "execution_count": 5,
   "metadata": {
    "execution": {
     "iopub.execute_input": "2020-05-22T11:14:52.517997Z",
     "iopub.status.busy": "2020-05-22T11:14:52.517713Z",
     "iopub.status.idle": "2020-05-22T11:14:52.705376Z",
     "shell.execute_reply": "2020-05-22T11:14:52.704604Z",
     "shell.execute_reply.started": "2020-05-22T11:14:52.517959Z"
    }
   },
   "outputs": [
    {
     "name": "stdout",
     "output_type": "stream",
     "text": [
      "Converted dockertools.ipynb to exp/nb_dockertools.py\n"
     ]
    }
   ],
   "source": [
    "!python3 extra/n2s.py dockertools.ipynb"
   ]
  },
  {
   "cell_type": "code",
   "execution_count": 6,
   "metadata": {
    "execution": {
     "iopub.execute_input": "2020-05-22T11:14:55.399324Z",
     "iopub.status.busy": "2020-05-22T11:14:55.399027Z",
     "iopub.status.idle": "2020-05-22T11:14:55.825099Z",
     "shell.execute_reply": "2020-05-22T11:14:55.824374Z",
     "shell.execute_reply.started": "2020-05-22T11:14:55.399286Z"
    }
   },
   "outputs": [
    {
     "name": "stdout",
     "output_type": "stream",
     "text": [
      "No actual test here!\n"
     ]
    }
   ],
   "source": [
    "!python3 exp/nb_dockertools.py"
   ]
  },
  {
   "cell_type": "code",
   "execution_count": null,
   "metadata": {},
   "outputs": [],
   "source": []
  },
  {
   "cell_type": "code",
   "execution_count": null,
   "metadata": {},
   "outputs": [],
   "source": []
  }
 ],
 "metadata": {
  "kernelspec": {
   "display_name": "Python 3",
   "language": "python",
   "name": "python3"
  },
  "language_info": {
   "codemirror_mode": {
    "name": "ipython",
    "version": 3
   },
   "file_extension": ".py",
   "mimetype": "text/x-python",
   "name": "python",
   "nbconvert_exporter": "python",
   "pygments_lexer": "ipython3",
   "version": "3.6.9"
  }
 },
 "nbformat": 4,
 "nbformat_minor": 4
}
